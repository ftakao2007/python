{
 "cells": [
  {
   "cell_type": "markdown",
   "metadata": {},
   "source": [
    "# プロジェクトマネジメントにおける原則"
   ]
  },
  {
   "cell_type": "markdown",
   "metadata": {},
   "source": [
    "## ルーティンワークからプロジェクトへ\n",
    "\n",
    "* ルーティンワーク以外はプロジェクト\n",
    "    * 昔 : 自分に与えられた仕事をこなす事が会社に貢献すること\n",
    "    * 今 : 現在のルーティンワークをどれだけ変化させられるか\n",
    "* プロジェクトとは何か\n",
    "    * プロジェクトとは<font color=\"red\">特定の目標を達成するために一定期間続く仕事</font>\n",
    "    * プロジェクトマネジメント力とは\n",
    "        * 自分の周囲のニーズと課題を的確に把握する\n",
    "        * 自分のスキルとチーム全体のリソースをフルに活用する\n",
    "        * それらをビジネスとしてまとめ上げる力\n",
    "* プロジェクトマネジメントのスキル\n",
    "    * プロジェクトの関係者全員を引きつけるビジョンを描き出さなければならない\n",
    "        * 挑戦的なプロジェクトを立ち上げ、マネジメントし、完遂させるために必須\n",
    "        * 必要なこと\n",
    "            * 妥協すること無くプロジェクトの成功を追求する情熱と行動力\n",
    "            * 期待される結果の明示\n",
    "            * 責任の分担\n",
    "            * 実行可能な作業サイズへのブレークダウン\n",
    "            * 実行可能なスケジュールの策定\n",
    "            * 簡潔、明瞭、迅速なコミュニケーション\n",
    "            * 変化への機敏な対応\n",
    "            * 進捗状況のモニタリング"
   ]
  }
 ],
 "metadata": {
  "kernelspec": {
   "display_name": "Python 3",
   "language": "python",
   "name": "python3"
  },
  "language_info": {
   "codemirror_mode": {
    "name": "ipython",
    "version": 3
   },
   "file_extension": ".py",
   "mimetype": "text/x-python",
   "name": "python",
   "nbconvert_exporter": "python",
   "pygments_lexer": "ipython3",
   "version": "3.6.1"
  }
 },
 "nbformat": 4,
 "nbformat_minor": 2
}
