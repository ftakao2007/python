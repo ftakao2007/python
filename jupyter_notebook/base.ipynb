{
 "cells": [
  {
   "cell_type": "code",
   "execution_count": 3,
   "metadata": {
    "collapsed": true,
    "deletable": true,
    "editable": true
   },
   "outputs": [],
   "source": [
    "from numpy import array as npv\n",
    "import numpy as np\n",
    "import matplotlib.pyplot as plt\n",
    "%matplotlib inline"
   ]
  },
  {
   "cell_type": "markdown",
   "metadata": {},
   "source": [
    "# デバッグ実行\n",
    "\n",
    "デバッグしたい行の直前に、以下を追加\n",
    "\n",
    "```\n",
    "from IPython.core.debugger import Pdb; Pdb().set_trace()\n",
    "```\n",
    "\n",
    "JupyterまたはiPython Notebookでデバッグをする方法\n",
    "http://qiita.com/makopo/items/170c939c79dcc5c89e12"
   ]
  },
  {
   "cell_type": "code",
   "execution_count": 136,
   "metadata": {
    "collapsed": false
   },
   "outputs": [
    {
     "name": "stdout",
     "output_type": "stream",
     "text": [
      "None\n",
      "> \u001b[0;32m<ipython-input-136-8d53d24bf0f5>\u001b[0m(4)\u001b[0;36m<module>\u001b[0;34m()\u001b[0m\n",
      "\u001b[0;32m      2 \u001b[0;31m\u001b[0;32mfor\u001b[0m \u001b[0mi\u001b[0m \u001b[0;32min\u001b[0m \u001b[0mrange\u001b[0m\u001b[0;34m(\u001b[0m\u001b[0;36m10\u001b[0m\u001b[0;34m)\u001b[0m\u001b[0;34m:\u001b[0m\u001b[0;34m\u001b[0m\u001b[0m\n",
      "\u001b[0m\u001b[0;32m      3 \u001b[0;31m    \u001b[0;32mfrom\u001b[0m \u001b[0mIPython\u001b[0m\u001b[0;34m.\u001b[0m\u001b[0mcore\u001b[0m\u001b[0;34m.\u001b[0m\u001b[0mdebugger\u001b[0m \u001b[0;32mimport\u001b[0m \u001b[0mPdb\u001b[0m\u001b[0;34m;\u001b[0m \u001b[0mPdb\u001b[0m\u001b[0;34m(\u001b[0m\u001b[0;34m)\u001b[0m\u001b[0;34m.\u001b[0m\u001b[0mset_trace\u001b[0m\u001b[0;34m(\u001b[0m\u001b[0;34m)\u001b[0m\u001b[0;34m\u001b[0m\u001b[0m\n",
      "\u001b[0m\u001b[0;32m----> 4 \u001b[0;31m    \u001b[0mx\u001b[0m \u001b[0;34m=\u001b[0m \u001b[0mx\u001b[0m \u001b[0;34m+\u001b[0m \u001b[0mi\u001b[0m\u001b[0;34m\u001b[0m\u001b[0m\n",
      "\u001b[0m\u001b[0;32m      5 \u001b[0;31m    \u001b[0mprint\u001b[0m \u001b[0;34m(\u001b[0m\u001b[0mi\u001b[0m\u001b[0;34m)\u001b[0m\u001b[0;34m\u001b[0m\u001b[0m\n",
      "\u001b[0m\u001b[0;32m      6 \u001b[0;31m\u001b[0;34m\u001b[0m\u001b[0m\n",
      "\u001b[0m\n",
      "ipdb> continue\n",
      "0\n",
      "None\n",
      "> \u001b[0;32m<ipython-input-136-8d53d24bf0f5>\u001b[0m(3)\u001b[0;36m<module>\u001b[0;34m()\u001b[0m\n",
      "\u001b[0;32m      1 \u001b[0;31m\u001b[0mx\u001b[0m \u001b[0;34m=\u001b[0m \u001b[0;36m0\u001b[0m\u001b[0;34m\u001b[0m\u001b[0m\n",
      "\u001b[0m\u001b[0;32m      2 \u001b[0;31m\u001b[0;32mfor\u001b[0m \u001b[0mi\u001b[0m \u001b[0;32min\u001b[0m \u001b[0mrange\u001b[0m\u001b[0;34m(\u001b[0m\u001b[0;36m10\u001b[0m\u001b[0;34m)\u001b[0m\u001b[0;34m:\u001b[0m\u001b[0;34m\u001b[0m\u001b[0m\n",
      "\u001b[0m\u001b[0;32m----> 3 \u001b[0;31m    \u001b[0;32mfrom\u001b[0m \u001b[0mIPython\u001b[0m\u001b[0;34m.\u001b[0m\u001b[0mcore\u001b[0m\u001b[0;34m.\u001b[0m\u001b[0mdebugger\u001b[0m \u001b[0;32mimport\u001b[0m \u001b[0mPdb\u001b[0m\u001b[0;34m;\u001b[0m \u001b[0mPdb\u001b[0m\u001b[0;34m(\u001b[0m\u001b[0;34m)\u001b[0m\u001b[0;34m.\u001b[0m\u001b[0mset_trace\u001b[0m\u001b[0;34m(\u001b[0m\u001b[0;34m)\u001b[0m\u001b[0;34m\u001b[0m\u001b[0m\n",
      "\u001b[0m\u001b[0;32m      4 \u001b[0;31m    \u001b[0mx\u001b[0m \u001b[0;34m=\u001b[0m \u001b[0mx\u001b[0m \u001b[0;34m+\u001b[0m \u001b[0mi\u001b[0m\u001b[0;34m\u001b[0m\u001b[0m\n",
      "\u001b[0m\u001b[0;32m      5 \u001b[0;31m    \u001b[0mprint\u001b[0m \u001b[0;34m(\u001b[0m\u001b[0mi\u001b[0m\u001b[0;34m)\u001b[0m\u001b[0;34m\u001b[0m\u001b[0m\n",
      "\u001b[0m\n",
      "ipdb> continue\n",
      "1\n",
      "None\n",
      "> \u001b[0;32m<ipython-input-136-8d53d24bf0f5>\u001b[0m(4)\u001b[0;36m<module>\u001b[0;34m()\u001b[0m\n",
      "\u001b[0;32m      2 \u001b[0;31m\u001b[0;32mfor\u001b[0m \u001b[0mi\u001b[0m \u001b[0;32min\u001b[0m \u001b[0mrange\u001b[0m\u001b[0;34m(\u001b[0m\u001b[0;36m10\u001b[0m\u001b[0;34m)\u001b[0m\u001b[0;34m:\u001b[0m\u001b[0;34m\u001b[0m\u001b[0m\n",
      "\u001b[0m\u001b[0;32m      3 \u001b[0;31m    \u001b[0;32mfrom\u001b[0m \u001b[0mIPython\u001b[0m\u001b[0;34m.\u001b[0m\u001b[0mcore\u001b[0m\u001b[0;34m.\u001b[0m\u001b[0mdebugger\u001b[0m \u001b[0;32mimport\u001b[0m \u001b[0mPdb\u001b[0m\u001b[0;34m;\u001b[0m \u001b[0mPdb\u001b[0m\u001b[0;34m(\u001b[0m\u001b[0;34m)\u001b[0m\u001b[0;34m.\u001b[0m\u001b[0mset_trace\u001b[0m\u001b[0;34m(\u001b[0m\u001b[0;34m)\u001b[0m\u001b[0;34m\u001b[0m\u001b[0m\n",
      "\u001b[0m\u001b[0;32m----> 4 \u001b[0;31m    \u001b[0mx\u001b[0m \u001b[0;34m=\u001b[0m \u001b[0mx\u001b[0m \u001b[0;34m+\u001b[0m \u001b[0mi\u001b[0m\u001b[0;34m\u001b[0m\u001b[0m\n",
      "\u001b[0m\u001b[0;32m      5 \u001b[0;31m    \u001b[0mprint\u001b[0m \u001b[0;34m(\u001b[0m\u001b[0mi\u001b[0m\u001b[0;34m)\u001b[0m\u001b[0;34m\u001b[0m\u001b[0m\n",
      "\u001b[0m\u001b[0;32m      6 \u001b[0;31m\u001b[0;34m\u001b[0m\u001b[0m\n",
      "\u001b[0m\n",
      "ipdb> x\n",
      "1\n",
      "ipdb> i\n",
      "2\n",
      "ipdb> exit\n"
     ]
    },
    {
     "ename": "BdbQuit",
     "evalue": "",
     "output_type": "error",
     "traceback": [
      "\u001b[0;31m--------------------------\u001b[0m",
      "\u001b[0;31mBdbQuit\u001b[0mTraceback (most recent call last)",
      "\u001b[0;32m<ipython-input-136-8d53d24bf0f5>\u001b[0m in \u001b[0;36m<module>\u001b[0;34m()\u001b[0m\n\u001b[1;32m      2\u001b[0m \u001b[0;32mfor\u001b[0m \u001b[0mi\u001b[0m \u001b[0;32min\u001b[0m \u001b[0mrange\u001b[0m\u001b[0;34m(\u001b[0m\u001b[0;36m10\u001b[0m\u001b[0;34m)\u001b[0m\u001b[0;34m:\u001b[0m\u001b[0;34m\u001b[0m\u001b[0m\n\u001b[1;32m      3\u001b[0m     \u001b[0;32mfrom\u001b[0m \u001b[0mIPython\u001b[0m\u001b[0;34m.\u001b[0m\u001b[0mcore\u001b[0m\u001b[0;34m.\u001b[0m\u001b[0mdebugger\u001b[0m \u001b[0;32mimport\u001b[0m \u001b[0mPdb\u001b[0m\u001b[0;34m;\u001b[0m \u001b[0mPdb\u001b[0m\u001b[0;34m(\u001b[0m\u001b[0;34m)\u001b[0m\u001b[0;34m.\u001b[0m\u001b[0mset_trace\u001b[0m\u001b[0;34m(\u001b[0m\u001b[0;34m)\u001b[0m\u001b[0;34m\u001b[0m\u001b[0m\n\u001b[0;32m----> 4\u001b[0;31m     \u001b[0mx\u001b[0m \u001b[0;34m=\u001b[0m \u001b[0mx\u001b[0m \u001b[0;34m+\u001b[0m \u001b[0mi\u001b[0m\u001b[0;34m\u001b[0m\u001b[0m\n\u001b[0m\u001b[1;32m      5\u001b[0m     \u001b[0mprint\u001b[0m \u001b[0;34m(\u001b[0m\u001b[0mi\u001b[0m\u001b[0;34m)\u001b[0m\u001b[0;34m\u001b[0m\u001b[0m\n\u001b[1;32m      6\u001b[0m \u001b[0;34m\u001b[0m\u001b[0m\n",
      "\u001b[0;32m<ipython-input-136-8d53d24bf0f5>\u001b[0m in \u001b[0;36m<module>\u001b[0;34m()\u001b[0m\n\u001b[1;32m      2\u001b[0m \u001b[0;32mfor\u001b[0m \u001b[0mi\u001b[0m \u001b[0;32min\u001b[0m \u001b[0mrange\u001b[0m\u001b[0;34m(\u001b[0m\u001b[0;36m10\u001b[0m\u001b[0;34m)\u001b[0m\u001b[0;34m:\u001b[0m\u001b[0;34m\u001b[0m\u001b[0m\n\u001b[1;32m      3\u001b[0m     \u001b[0;32mfrom\u001b[0m \u001b[0mIPython\u001b[0m\u001b[0;34m.\u001b[0m\u001b[0mcore\u001b[0m\u001b[0;34m.\u001b[0m\u001b[0mdebugger\u001b[0m \u001b[0;32mimport\u001b[0m \u001b[0mPdb\u001b[0m\u001b[0;34m;\u001b[0m \u001b[0mPdb\u001b[0m\u001b[0;34m(\u001b[0m\u001b[0;34m)\u001b[0m\u001b[0;34m.\u001b[0m\u001b[0mset_trace\u001b[0m\u001b[0;34m(\u001b[0m\u001b[0;34m)\u001b[0m\u001b[0;34m\u001b[0m\u001b[0m\n\u001b[0;32m----> 4\u001b[0;31m     \u001b[0mx\u001b[0m \u001b[0;34m=\u001b[0m \u001b[0mx\u001b[0m \u001b[0;34m+\u001b[0m \u001b[0mi\u001b[0m\u001b[0;34m\u001b[0m\u001b[0m\n\u001b[0m\u001b[1;32m      5\u001b[0m     \u001b[0mprint\u001b[0m \u001b[0;34m(\u001b[0m\u001b[0mi\u001b[0m\u001b[0;34m)\u001b[0m\u001b[0;34m\u001b[0m\u001b[0m\n\u001b[1;32m      6\u001b[0m \u001b[0;34m\u001b[0m\u001b[0m\n",
      "\u001b[0;32m/usr/local/pyenv/versions/3.6.1/lib/python3.6/bdb.py\u001b[0m in \u001b[0;36mtrace_dispatch\u001b[0;34m(self, frame, event, arg)\u001b[0m\n\u001b[1;32m     46\u001b[0m             \u001b[0;32mreturn\u001b[0m \u001b[0;31m# None\u001b[0m\u001b[0;34m\u001b[0m\u001b[0m\n\u001b[1;32m     47\u001b[0m         \u001b[0;32mif\u001b[0m \u001b[0mevent\u001b[0m \u001b[0;34m==\u001b[0m \u001b[0;34m'line'\u001b[0m\u001b[0;34m:\u001b[0m\u001b[0;34m\u001b[0m\u001b[0m\n\u001b[0;32m---> 48\u001b[0;31m             \u001b[0;32mreturn\u001b[0m \u001b[0mself\u001b[0m\u001b[0;34m.\u001b[0m\u001b[0mdispatch_line\u001b[0m\u001b[0;34m(\u001b[0m\u001b[0mframe\u001b[0m\u001b[0;34m)\u001b[0m\u001b[0;34m\u001b[0m\u001b[0m\n\u001b[0m\u001b[1;32m     49\u001b[0m         \u001b[0;32mif\u001b[0m \u001b[0mevent\u001b[0m \u001b[0;34m==\u001b[0m \u001b[0;34m'call'\u001b[0m\u001b[0;34m:\u001b[0m\u001b[0;34m\u001b[0m\u001b[0m\n\u001b[1;32m     50\u001b[0m             \u001b[0;32mreturn\u001b[0m \u001b[0mself\u001b[0m\u001b[0;34m.\u001b[0m\u001b[0mdispatch_call\u001b[0m\u001b[0;34m(\u001b[0m\u001b[0mframe\u001b[0m\u001b[0;34m,\u001b[0m \u001b[0marg\u001b[0m\u001b[0;34m)\u001b[0m\u001b[0;34m\u001b[0m\u001b[0m\n",
      "\u001b[0;32m/usr/local/pyenv/versions/3.6.1/lib/python3.6/bdb.py\u001b[0m in \u001b[0;36mdispatch_line\u001b[0;34m(self, frame)\u001b[0m\n\u001b[1;32m     65\u001b[0m         \u001b[0;32mif\u001b[0m \u001b[0mself\u001b[0m\u001b[0;34m.\u001b[0m\u001b[0mstop_here\u001b[0m\u001b[0;34m(\u001b[0m\u001b[0mframe\u001b[0m\u001b[0;34m)\u001b[0m \u001b[0;32mor\u001b[0m \u001b[0mself\u001b[0m\u001b[0;34m.\u001b[0m\u001b[0mbreak_here\u001b[0m\u001b[0;34m(\u001b[0m\u001b[0mframe\u001b[0m\u001b[0;34m)\u001b[0m\u001b[0;34m:\u001b[0m\u001b[0;34m\u001b[0m\u001b[0m\n\u001b[1;32m     66\u001b[0m             \u001b[0mself\u001b[0m\u001b[0;34m.\u001b[0m\u001b[0muser_line\u001b[0m\u001b[0;34m(\u001b[0m\u001b[0mframe\u001b[0m\u001b[0;34m)\u001b[0m\u001b[0;34m\u001b[0m\u001b[0m\n\u001b[0;32m---> 67\u001b[0;31m             \u001b[0;32mif\u001b[0m \u001b[0mself\u001b[0m\u001b[0;34m.\u001b[0m\u001b[0mquitting\u001b[0m\u001b[0;34m:\u001b[0m \u001b[0;32mraise\u001b[0m \u001b[0mBdbQuit\u001b[0m\u001b[0;34m\u001b[0m\u001b[0m\n\u001b[0m\u001b[1;32m     68\u001b[0m         \u001b[0;32mreturn\u001b[0m \u001b[0mself\u001b[0m\u001b[0;34m.\u001b[0m\u001b[0mtrace_dispatch\u001b[0m\u001b[0;34m\u001b[0m\u001b[0m\n\u001b[1;32m     69\u001b[0m \u001b[0;34m\u001b[0m\u001b[0m\n",
      "\u001b[0;31mBdbQuit\u001b[0m: "
     ]
    }
   ],
   "source": [
    "x = 0\n",
    "for i in range(10):\n",
    "    from IPython.core.debugger import Pdb; Pdb().set_trace()\n",
    "    x = x + i\n",
    "    print (i)\n",
    "\n",
    "print (x)\n"
   ]
  },
  {
   "cell_type": "markdown",
   "metadata": {
    "deletable": true,
    "editable": true
   },
   "source": [
    "# 計算時間計測\n",
    "\n",
    "```\n",
    "The slowest run took 42.30 times longer than the fastest. This could mean that an intermediate result is being cached.\n",
    "1000000 loops, best of 3: 753 ns per loop\n",
    "```\n",
    "\n",
    "* 100万回実行して上位3回の平均が753ナノ秒 (ns)\n",
    "    * 0.753マイクロ秒(μs)\n",
    "    * 0.000753ミリ秒(ms)\n",
    "    * 0.000000753秒(s)\n",
    "    \n",
    "1秒は10億ナノ秒"
   ]
  },
  {
   "cell_type": "code",
   "execution_count": 14,
   "metadata": {
    "collapsed": false,
    "deletable": true,
    "editable": true
   },
   "outputs": [
    {
     "name": "stdout",
     "output_type": "stream",
     "text": [
      "The slowest run took 2230.56 times longer than the fastest. This could mean that an intermediate result is being cached.\n",
      "1000000 loops, best of 3: 731 ns per loop\n"
     ]
    }
   ],
   "source": [
    "v = np.random.random(size=(3))\n",
    "%timeit np.dot(v,v)"
   ]
  },
  {
   "cell_type": "markdown",
   "metadata": {
    "deletable": true,
    "editable": true
   },
   "source": [
    "# 線形独立\n",
    "\n",
    "## 2次元ベクトル\n",
    "\n",
    "$ a \\boldsymbol{x_1} +  b \\boldsymbol{x_2}$ をベクトル $ \\boldsymbol{x_1}, \\boldsymbol{x_2} $ の線形結合という。\n",
    "\n",
    "$ a \\boldsymbol{x_{1}} + b \\boldsymbol{x_{2}}= \\boldsymbol{0} $\n",
    "が $ a=b=0 $ 以外で成り立つ $ a,b $ が存在するとき、 $ \\boldsymbol{x_{1}}, \\boldsymbol{x_{2}} $ は線形従属であるという。\n",
    "\n",
    "線形従属でない場合、 $ \\boldsymbol{x_{1}},\\boldsymbol{x_{2}} $ は線形独立であるという。\n",
    "\n",
    "## n次元ベクトル\n",
    "\n",
    "直交座標内の成分で表された $n$ 次元のベクトルは\n",
    "\n",
    "$ \\displaystyle\n",
    "  \\boldsymbol{U} = \\left(\n",
    "    \\begin{array}{c}\n",
    "      U_{1}  \\\\\n",
    "      U_{2}  \\\\\n",
    "      \\vdots  \\\\\n",
    "      U_{n}\n",
    "    \\end{array}\n",
    "  \\right)\n",
    "  = U_{1} \\boldsymbol{e}_1 + U_{2} \\boldsymbol{e}_2 + \\dots + U_{n} \\boldsymbol{e}_n\n",
    "  = \\sum^{n}_{k=1} U_{k} \\boldsymbol{e}_k\n",
    "$"
   ]
  },
  {
   "cell_type": "markdown",
   "metadata": {
    "deletable": true,
    "editable": true
   },
   "source": [
    "# 逆行列\n",
    "\n",
    "$\n",
    "  \\boldsymbol{A} = \\left(\n",
    "    \\begin{array}{ccc}\n",
    "      a_{11} & a_{12} & a_{13} \\\\\n",
    "      a_{21} & a_{22} & a_{23} \\\\\n",
    "      a_{31} & a_{32} & a_{33}\n",
    "    \\end{array}\n",
    "  \\right)\n",
    "$\n",
    "\n",
    "について $ \\boldsymbol{A} $ の行列式\n",
    "\n",
    "$ \\rm{det} ~ \\boldsymbol{A} = a_{11}a_{22}a_{33} + a_{21}a_{32}a_{13} + a_{31}a_{12}a_{23} - a_{11}a_{32}a_{23} - a_{31}a_{22}a_{13} - a_{21}a_{12}a_{33} \\not= 0$\n",
    "\n",
    "のとき、$ \\boldsymbol{A} $の逆行列は\n",
    "\n",
    "$\n",
    "  \\boldsymbol{A}^{-1} = \\frac{1}{\\rm{det} ~ \\boldsymbol{A}} = \\left(\n",
    "    \\begin{array}{ccc}\n",
    "      a_{22}a_{33} - a_{23}a_{32} & a_{13}a_{32} - a_{12}a_{33} & a_{12}a_{23} - a_{13}a_{22} \\\\\n",
    "      a_{23}a_{31} - a_{21}a_{33} & a_{11}a_{33} - a_{13}a_{31} & a_{13}a_{21} - a_{11}a_{23} \\\\\n",
    "      a_{21}a_{32} - a_{22}a_{31} & a_{12}a_{31} - a_{11}a_{32} & a_{11}a_{22} - a_{12}a_{21}\n",
    "    \\end{array}\n",
    "  \\right)\n",
    "$"
   ]
  },
  {
   "cell_type": "code",
   "execution_count": 28,
   "metadata": {
    "collapsed": false,
    "deletable": true,
    "editable": true
   },
   "outputs": [
    {
     "name": "stdout",
     "output_type": "stream",
     "text": [
      "matrix_a1a2a3 = \n",
      " [[ 1.   6.   0. ]\n",
      " [ 2.   5.   8. ]\n",
      " [ 5.   4.   4.5]] \n",
      "\n",
      "det_matrix_a1a2a3 = \n",
      " 176.49999999999994 \n",
      "\n",
      "inv_matrix_a1a2a3 = \n",
      " [[-0.05382436 -0.1529745   0.27195467]\n",
      " [ 0.17563739  0.02549575 -0.04532578]\n",
      " [-0.09631728  0.14730878 -0.03966006]] \n",
      "\n",
      "matrix_a1a2a3_product_inv_matrix_a1a2a3 = \n",
      " [[  1.00000000e+00  -1.38777878e-17   5.55111512e-17]\n",
      " [  1.11022302e-16   1.00000000e+00   0.00000000e+00]\n",
      " [ -2.77555756e-17  -8.32667268e-17   1.00000000e+00]] \n",
      "\n",
      "inv_matrix_a1a2a3_matrix_a1a2a3_product = \n",
      " [[  1.00000000e+00   0.00000000e+00   5.55111512e-17]\n",
      " [  2.77555756e-17   1.00000000e+00   1.38777878e-17]\n",
      " [ -2.77555756e-17   5.55111512e-17   1.00000000e+00]] \n",
      "\n"
     ]
    }
   ],
   "source": [
    "### ベクトルを生成\n",
    "a1 = npv([1, 2, 5])\n",
    "a2 = npv([6, 5, 4])\n",
    "a3 = npv([0, 8, 4.5])\n",
    "\n",
    "### 3×3行列を生成\n",
    "matrix_a1a2a3 = np.c_[a1, a2, a3]\n",
    "print (\"matrix_a1a2a3 = \\n {0} \\n\".format(matrix_a1a2a3))\n",
    "\n",
    "### 行列式\n",
    "det_matrix_a1a2a3 = np.linalg.det(matrix_a1a2a3)\n",
    "print (\"det_matrix_a1a2a3 = \\n {0} \\n\".format(det_matrix_a1a2a3))\n",
    "\n",
    "### 逆行列\n",
    "inv_matrix_a1a2a3 = np.linalg.inv(matrix_a1a2a3)\n",
    "print (\"inv_matrix_a1a2a3 = \\n {0} \\n\".format(inv_matrix_a1a2a3))\n",
    "\n",
    "### 行列の積\n",
    "matrix_a1a2a3_product_inv_matrix_a1a2a3 = np.dot(matrix_a1a2a3, inv_matrix_a1a2a3)\n",
    "print (\"matrix_a1a2a3_product_inv_matrix_a1a2a3 = \\n {0} \\n\".format(matrix_a1a2a3_product_inv_matrix_a1a2a3))\n",
    "\n",
    "### 順番を変えた行列の積\n",
    "inv_matrix_a1a2a3_product_matrix_a1a2a3 = np.dot(inv_matrix_a1a2a3, matrix_a1a2a3)\n",
    "print (\"inv_matrix_a1a2a3_matrix_a1a2a3_product = \\n {0} \\n\".format(inv_matrix_a1a2a3_product_matrix_a1a2a3))"
   ]
  },
  {
   "cell_type": "markdown",
   "metadata": {
    "deletable": true,
    "editable": true
   },
   "source": [
    "# 固有値、固有ベクトル\n",
    "\n",
    "与えられた正方行列 $ \\boldsymbol{A} $ の固有値、固有ベクトルを求める\n",
    "\n",
    "* 固有値\n",
    "    * 行列 $ \\boldsymbol{A} $ の固有方程式 $ \\rm{det} ~ ( \\boldsymbol{A} - \\lambda \\boldsymbol{I} ) = 0 $ を未知数 $ \\lambda $ の方程式として解いて固有値 $ \\lambda $ を求める\n",
    "* 固有ベクトル\n",
    "    * 各々の固有値を連立方程式 $ ( \\boldsymbol{A} - \\lambda \\boldsymbol{I} ) \\boldsymbol{x} = \\boldsymbol{0} $ に代入して、対応する固有ベクトル $ \\boldsymbol{x} $ を求める\n",
    "    * 固有ベクトルの定数倍もまた固有ベクトルとなるので、固有ベクトルを答えるときは任意定数をつけた形で答える\n",
    "* 正規化\n",
    "    * 固有ベクトルの長さを1(単位長さ)にする $ \\frac{ \\boldsymbol{A} }{ | \\boldsymbol{A} | } $"
   ]
  },
  {
   "cell_type": "code",
   "execution_count": 2,
   "metadata": {
    "collapsed": false,
    "deletable": true,
    "editable": true
   },
   "outputs": [
    {
     "name": "stdout",
     "output_type": "stream",
     "text": [
      "matrix_a1a2a3 = \n",
      " [[ 1  1  2]\n",
      " [ 0  2 -1]\n",
      " [ 0  0  3]] \n",
      "\n",
      "[ 1.  2.  3.]\n",
      "[[ 1.          0.70710678  0.33333333]\n",
      " [ 0.          0.70710678 -0.66666667]\n",
      " [ 0.          0.          0.66666667]]\n",
      "1.0\n",
      "[ 1.  0.  0.]\n",
      "2.0\n",
      "[ 0.70710678  0.70710678  0.        ]\n",
      "3.0\n",
      "[ 0.33333333 -0.66666667  0.66666667]\n"
     ]
    }
   ],
   "source": [
    "### ベクトルを生成\n",
    "a1 = npv([1, 0, 0])\n",
    "a2 = npv([1, 2, 0])\n",
    "a3 = npv([2, -1, 3])\n",
    "\n",
    "### 3×3行列を生成\n",
    "matrix_a1a2a3 = np.c_[a1, a2, a3]\n",
    "print (\"matrix_a1a2a3 = \\n {0} \\n\".format(matrix_a1a2a3))\n",
    "\n",
    "### 固有値、固有ベクトルを計算 (正規化済み)\n",
    "la, v = np.linalg.eig(matrix_a1a2a3)\n",
    "\n",
    "print (la)\n",
    "print (v)\n",
    "\n",
    "print (la[0])\n",
    "print (v[:,0])\n",
    "\n",
    "print (la[1])\n",
    "print (v[:,1])\n",
    "\n",
    "print (la[2])\n",
    "print (v[:,2])\n"
   ]
  },
  {
   "cell_type": "markdown",
   "metadata": {
    "deletable": true,
    "editable": true
   },
   "source": [
    "# Python\n",
    "\n",
    "## 基本"
   ]
  },
  {
   "cell_type": "code",
   "execution_count": 10,
   "metadata": {
    "collapsed": false,
    "deletable": true,
    "editable": true
   },
   "outputs": [
    {
     "name": "stdout",
     "output_type": "stream",
     "text": [
      "<class 'int'>\n",
      "<class 'float'>\n",
      "<class 'str'>\n"
     ]
    }
   ],
   "source": [
    "### データ型\n",
    "### 「型」と「クラス」は同じ意味で使われることがある\n",
    "\n",
    "### int\n",
    "print (type(10))\n",
    "\n",
    "### float\n",
    "print (type(3.14))\n",
    "\n",
    "### str\n",
    "print (type(\"hello\"))"
   ]
  },
  {
   "cell_type": "code",
   "execution_count": 24,
   "metadata": {
    "collapsed": false,
    "deletable": true,
    "editable": true
   },
   "outputs": [
    {
     "name": "stdout",
     "output_type": "stream",
     "text": [
      "[1, 2, 3, 4, 5]\n",
      "<class 'list'>\n",
      "5\n",
      "1\n",
      "[1, 2, 3, 4, 99]\n",
      "--- スライシング記法 ---\n",
      "[1, 2]\n",
      "[2, 3, 4, 99]\n",
      "[1, 2, 3]\n",
      "[1, 2, 3, 4]\n",
      "[1, 2, 3]\n"
     ]
    }
   ],
   "source": [
    "### リスト\n",
    "### 配列のこと\n",
    "\n",
    "a = [1,2,3,4,5]\n",
    "print (a)\n",
    "print (type(a))\n",
    "\n",
    "### リストの長さを取得\n",
    "print (len(a))\n",
    "\n",
    "### 最初の要素にアクセス\n",
    "print (a[0])\n",
    "\n",
    "### 値を代入\n",
    "a[4] = 99\n",
    "print (a)\n",
    "\n",
    "### スライシング記法によるリストのサブリスト(部分リスト)へのアクセス\n",
    "print (\"--- スライシング記法 ---\")\n",
    "print (a[0:2])\n",
    "print (a[1:])\n",
    "print (a[:3])\n",
    "print (a[:-1])\n",
    "print (a[:-2])"
   ]
  },
  {
   "cell_type": "code",
   "execution_count": 29,
   "metadata": {
    "collapsed": false,
    "deletable": true,
    "editable": true
   },
   "outputs": [
    {
     "name": "stdout",
     "output_type": "stream",
     "text": [
      "{'height': 180}\n",
      "<class 'dict'>\n",
      "{'height': 180, 'weight': 70}\n"
     ]
    }
   ],
   "source": [
    "### ディクショナリ\n",
    "### キーと値をペアとして格納するハッシュや連想配列みたいなもの\n",
    "\n",
    "me = {'height':180}\n",
    "print (me)\n",
    "print (type(me))\n",
    "\n",
    "### 新しい要素を追加\n",
    "me['weight'] = 70\n",
    "print (me)\n"
   ]
  },
  {
   "cell_type": "code",
   "execution_count": 35,
   "metadata": {
    "collapsed": false,
    "deletable": true,
    "editable": true
   },
   "outputs": [
    {
     "name": "stdout",
     "output_type": "stream",
     "text": [
      "True\n",
      "<class 'bool'>\n",
      "False\n",
      "False\n",
      "False\n",
      "True\n"
     ]
    }
   ],
   "source": [
    "### ブーリアン\n",
    "### TrueかFalseのどちらかを取る\n",
    "\n",
    "### hungryではある\n",
    "hungry = True\n",
    "print (hungry)\n",
    "print (type(hungry))\n",
    "\n",
    "### sleepyではない\n",
    "sleepy = False\n",
    "print (sleepy)\n",
    "\n",
    "### hungryでは無いかどうか\n",
    "### hungryはTrueなので結果はFalse\n",
    "print (not hungry)\n",
    "\n",
    "### hungryかつsleepyか\n",
    "### hungryではあるがsleepyではないのでFalse\n",
    "print (hungry and sleepy)\n",
    "\n",
    "### hungryもしくはsleepyか\n",
    "### hungryではあるのでTrue\n",
    "print (hungry or sleepy)"
   ]
  },
  {
   "cell_type": "code",
   "execution_count": 38,
   "metadata": {
    "collapsed": false,
    "deletable": true,
    "editable": true
   },
   "outputs": [
    {
     "name": "stdout",
     "output_type": "stream",
     "text": [
      "I'm hungry\n",
      "I'm not hungry\n",
      "I'm sleepy\n"
     ]
    }
   ],
   "source": [
    "### if文\n",
    "### インデントはタブを使っても表現できるが、4つの空白文字を使うのが一般的\n",
    "\n",
    "hungry = True\n",
    "if hungry:\n",
    "    print(\"I'm hungry\")\n",
    "\n",
    "hungry = False\n",
    "if hungry:\n",
    "    print(\"I'm hungry\")\n",
    "else:\n",
    "    print(\"I'm not hungry\")\n",
    "    print(\"I'm sleepy\")"
   ]
  },
  {
   "cell_type": "code",
   "execution_count": 40,
   "metadata": {
    "collapsed": false,
    "deletable": true,
    "editable": true
   },
   "outputs": [
    {
     "name": "stdout",
     "output_type": "stream",
     "text": [
      "1\n",
      "2\n",
      "3\n"
     ]
    }
   ],
   "source": [
    "### for文\n",
    "for i in [1, 2, 3]:\n",
    "    print(i)"
   ]
  },
  {
   "cell_type": "code",
   "execution_count": 47,
   "metadata": {
    "collapsed": false,
    "deletable": true,
    "editable": true
   },
   "outputs": [
    {
     "name": "stdout",
     "output_type": "stream",
     "text": [
      "Hello World!\n",
      "Hello Cat!\n"
     ]
    }
   ],
   "source": [
    "### 関数\n",
    "### まとまりのある処理を関数として定義することができる\n",
    "\n",
    "def hello():\n",
    "    print(\"Hello World!\")\n",
    "\n",
    "hello()\n",
    "\n",
    "### 引数を取ることができる\n",
    "def hello(object):\n",
    "    print(\"Hello \" + object + \"!\")\n",
    "\n",
    "hello(\"Cat\")"
   ]
  },
  {
   "cell_type": "code",
   "execution_count": 54,
   "metadata": {
    "collapsed": false,
    "deletable": true,
    "editable": true
   },
   "outputs": [
    {
     "name": "stdout",
     "output_type": "stream",
     "text": [
      "Initialized!\n",
      "<class '__main__.Man'>\n",
      "Hello David!\n",
      "Good-bye David!\n"
     ]
    }
   ],
   "source": [
    "### クラス\n",
    "### これまでのtype()で表示できるデータ型は「組み込み」のデータ型で初めからPythonに組み込まれている\n",
    "### ここでは新しいクラスを定義する\n",
    "### -> 独自にデータ型(クラス)を作成することができる\n",
    "### -> オリジナルのメソッド(クラス用の関数)や属性を定義することができる\n",
    "\n",
    "### Manという新しいクラスを定義\n",
    "class Man:\n",
    "    ### __init__ は初期化を行うための特別なメソッド\n",
    "    ### コンクラスタとも呼ばれ、クラスのインスタンスが作成される際に一度だけ呼ばれる\n",
    "    ### Pythonではメソッドの第一引数に自分自身のインスタンスを表すselfを明示的に書く\n",
    "    ### nameという引数をとり、その引数でインスタンス変数であるself.nameを初期化する\n",
    "    def __init__(self, name):\n",
    "        ### self.nameのように、selfの後に属性名を書くことでインスタンス変数の作成及びアクセスが可能\n",
    "        self.name = name\n",
    "        print(\"Initialized!\")\n",
    "\n",
    "    def hello(self):\n",
    "        print(\"Hello \" + self.name + \"!\")\n",
    "\n",
    "    def goodbye(self):\n",
    "        print(\"Good-bye \" + self.name + \"!\")\n",
    "\n",
    "### Manというクラスからｍというインスタンス(オブジェクト)を生成\n",
    "m = Man(\"David\")\n",
    "print (type(m))\n",
    "m.hello()\n",
    "m.goodbye()"
   ]
  },
  {
   "cell_type": "markdown",
   "metadata": {
    "deletable": true,
    "editable": true
   },
   "source": [
    "## NumPy\n",
    "\n",
    "外部ライブラリ読み込み\n",
    "\n",
    "```\n",
    "import numpy as np\n",
    "```\n",
    "\n",
    "* importで外部ライブラリを読み込む\n",
    "* この書き方で以降はNumPyに関するメソッドはnpとして参照可能\n",
    "\n",
    "### NumPyの算術演算\n",
    "\n",
    "* 演算する配列は要素数が同じでなければならない\n",
    "    * 要素数が同じでない場合はエラーになる\n",
    "    * 英語\n",
    "        * 要素ごと : element-wise\n",
    "        * 要素ごとの積 : element-wise product\n",
    "    * element-wiseな計算だけではなく、NumPy配列と単一の数値(スカラ値)の計算も可能\n",
    "        * NumPy配列の各要素とスカラ値の間で計算が行われる\n",
    "        * 「ブロードキャスト」という機能"
   ]
  },
  {
   "cell_type": "code",
   "execution_count": 64,
   "metadata": {
    "collapsed": false,
    "deletable": true,
    "editable": true
   },
   "outputs": [
    {
     "name": "stdout",
     "output_type": "stream",
     "text": [
      "[ 1.  2.  3.]\n",
      "x = [ 1.  2.  3.]\n",
      "<class 'numpy.ndarray'>\n",
      "y = [ 2.  4.  6.]\n",
      "x + y = [ 3.  6.  9.]\n",
      "x - y = [-1. -2. -3.]\n",
      "x * y = [  2.   8.  18.]\n",
      "x / y = [ 0.5  0.5  0.5]\n",
      "x / 2.0 = [ 0.5  1.   1.5]\n"
     ]
    }
   ],
   "source": [
    "import numpy as np\n",
    "\n",
    "### np.array()というメソッドでPythonのリストを引数にとりNumPy用の配列を作成\n",
    "### 要素数が3の１次元配列\n",
    "x = np.array([1.0, 2.0, 3.0])\n",
    "print (x)\n",
    "print (\"x = {0}\".format(x))\n",
    "print (type(x))\n",
    "\n",
    "### NumPy配列の算術計算\n",
    "y = np.array([2.0, 4.0, 6.0])\n",
    "print (\"y = {0}\".format(y))\n",
    "print(\"x + y = {0}\".format(x + y))\n",
    "print(\"x - y = {0}\".format(x - y))\n",
    "print(\"x * y = {0}\".format(x * y))\n",
    "print(\"x / y = {0}\".format(x / y))\n",
    "\n",
    "### 各要素とスカラ値の計算\n",
    "print(\"x / 2.0 = {0}\".format(x / 2.0))"
   ]
  },
  {
   "cell_type": "markdown",
   "metadata": {
    "deletable": true,
    "editable": true
   },
   "source": [
    "### NumPyのN次元配列\n",
    "\n",
    "* 数学との対応\n",
    "    * 1次元配列 : ベクトル\n",
    "    * 2次元配列 : 行列\n",
    "    * 3次元以上 : テンソル\n",
    "        * 本来はベクトルや行列を一般化したものをテンソルという\n",
    "            * ベクトルも行列もテンソル\n",
    "        * ここでは3次元以上をテンソル、もしくは多次元配列と言う事にする"
   ]
  },
  {
   "cell_type": "code",
   "execution_count": 75,
   "metadata": {
    "collapsed": false,
    "deletable": true,
    "editable": true
   },
   "outputs": [
    {
     "name": "stdout",
     "output_type": "stream",
     "text": [
      "A = \n",
      " [[1 2]\n",
      " [3 4]]\n",
      "(2, 2)\n",
      "int64\n",
      "B = \n",
      " [[3 0]\n",
      " [0 6]]\n",
      "A + B = \n",
      " [[ 4  2]\n",
      " [ 3 10]]\n",
      "A * B = \n",
      " [[ 3  0]\n",
      " [ 0 24]]\n",
      "A * 10 = \n",
      " [[10 20]\n",
      " [30 40]]\n"
     ]
    }
   ],
   "source": [
    "### 行列(2次元配列)の作成\n",
    "A = np.array([[1, 2],[3, 4]])\n",
    "print(\"A = \\n {0}\".format(A))\n",
    "\n",
    "### Aの形状(2行2列)\n",
    "print (A.shape)\n",
    "\n",
    "### 要素のデータ型\n",
    "print (A.dtype)\n",
    "\n",
    "### 行列の演算\n",
    "B = np.array([[3, 0],[0, 6]])\n",
    "print(\"B = \\n {0}\".format(B))\n",
    "\n",
    "print(\"A + B = \\n {0}\".format(A + B))\n",
    "print(\"A * B = \\n {0}\".format(A * B))\n",
    "print(\"A * 10 = \\n {0}\".format(A * 10))"
   ]
  },
  {
   "cell_type": "markdown",
   "metadata": {
    "deletable": true,
    "editable": true
   },
   "source": [
    "### ブロードキャスト\n",
    "\n",
    "* スカラ値と行列の掛け算を行うとき、スカラ値が行列の要素に拡大されて演算される機能\n",
    "* 1次元配列と2次元配列が同じ形状になるように賢く変形してくれる"
   ]
  },
  {
   "cell_type": "code",
   "execution_count": 82,
   "metadata": {
    "collapsed": false,
    "deletable": true,
    "editable": true
   },
   "outputs": [
    {
     "name": "stdout",
     "output_type": "stream",
     "text": [
      "A = \n",
      " [[1 2]\n",
      " [3 4]]\n",
      "B = \n",
      " [10 20]\n",
      "A * 10 = \n",
      " [[10 20]\n",
      " [30 40]]\n",
      "A * B = \n",
      " [[10 40]\n",
      " [30 80]]\n"
     ]
    }
   ],
   "source": [
    "### 行列(2次元配列)の作成\n",
    "A = np.array([[1, 2],[3, 4]])\n",
    "print(\"A = \\n {0}\".format(A))\n",
    "B = np.array([10, 20])\n",
    "print(\"B = \\n {0}\".format(B))\n",
    "\n",
    "### スカラと　行列の演算\n",
    "print(\"A * 10 = \\n {0}\".format(A * 10))\n",
    "\n",
    "### 1次元配列と2次元配列の演算\n",
    "print(\"A * B = \\n {0}\".format(A * B))\n"
   ]
  },
  {
   "cell_type": "markdown",
   "metadata": {
    "deletable": true,
    "editable": true
   },
   "source": [
    "### 要素へのアクセス"
   ]
  },
  {
   "cell_type": "code",
   "execution_count": 103,
   "metadata": {
    "collapsed": false,
    "deletable": true,
    "editable": true
   },
   "outputs": [
    {
     "name": "stdout",
     "output_type": "stream",
     "text": [
      "X = \n",
      " [[51 55]\n",
      " [14 19]\n",
      " [ 0 41]]\n",
      "[51 55]\n",
      "14\n",
      "[51 55]\n",
      "[14 19]\n",
      "[ 0 41]\n",
      "51\n",
      "55\n",
      "14\n",
      "19\n",
      "0\n",
      "41\n",
      "[51 55 14 19  0 41]\n",
      "51\n",
      "55\n",
      "14\n",
      "19\n",
      "0\n",
      "41\n",
      "[51 14  0]\n",
      "[ True  True False  True False  True]\n",
      "[51 55 19 41]\n"
     ]
    }
   ],
   "source": [
    "X = np.array([[51,55], [14,19], [0,41]])\n",
    "print(\"X = \\n {0}\".format(X))\n",
    "print(X[0])\n",
    "print(X[1][0])\n",
    "\n",
    "### for分を使って各要素にアクセス\n",
    "for row in X:\n",
    "    print(row)\n",
    "\n",
    "for row in X:\n",
    "    for i in row:\n",
    "        print(i)\n",
    "\n",
    "### 1次元配列に変換\n",
    "print (X.flatten())\n",
    "\n",
    "### forでループ\n",
    "for row in X.flatten():\n",
    "    print (row)\n",
    "\n",
    "### インデックスが0,2,4番目の要素を取得\n",
    "print (X.flatten()[np.array([0,2,4])])\n",
    "\n",
    "### 値が14より大きいの要素のみ取得\n",
    "print (X.flatten() > 14)\n",
    "print (X[X>14].flatten())"
   ]
  },
  {
   "cell_type": "markdown",
   "metadata": {
    "deletable": true,
    "editable": true
   },
   "source": [
    "## Matplotlib\n",
    "\n",
    "* グラフ描画のためのライブラリ"
   ]
  },
  {
   "cell_type": "code",
   "execution_count": 111,
   "metadata": {
    "collapsed": false,
    "deletable": true,
    "editable": true
   },
   "outputs": [
    {
     "data": {
      "image/png": "[encoded data removed]",
      "text/plain": [
       "<matplotlib.figure.Figure at 0x1107f0320>"
      ]
     },
     "metadata": {},
     "output_type": "display_data"
    }
   ],
   "source": [
    "import numpy as np\n",
    "import matplotlib.pyplot as plt\n",
    "%matplotlib inline\n",
    "\n",
    "### データの作成\n",
    "### 0から2πまで0.1刻みで値を生成\n",
    "x = np.arange(0, 2*np.pi, 0.1)\n",
    "y = np.sin(x)\n",
    "\n",
    "### グラフの描画\n",
    "plt.plot(x, y)\n",
    "plt.show()"
   ]
  },
  {
   "cell_type": "code",
   "execution_count": 117,
   "metadata": {
    "collapsed": false,
    "deletable": true,
    "editable": true
   },
   "outputs": [
    {
     "data": {
      "image/png": "[encoded data removed]",
      "text/plain": [
       "<matplotlib.figure.Figure at 0x110562d30>"
      ]
     },
     "metadata": {},
     "output_type": "display_data"
    }
   ],
   "source": [
    "import numpy as np\n",
    "import matplotlib.pyplot as plt\n",
    "%matplotlib inline\n",
    "\n",
    "### データの作成\n",
    "### 0から2πまで0.1刻みで値を生成\n",
    "x = np.arange(0, 2*np.pi, 0.1)\n",
    "y1 = np.sin(x)\n",
    "y2 = np.cos(x)\n",
    "\n",
    "### グラフの描画\n",
    "plt.plot(x, y1, label=\"sin\")\n",
    "\n",
    "### cosは破線で描画\n",
    "plt.plot(x, y2, linestyle = \"--\", label=\"cos\")\n",
    "\n",
    "### 軸のラベル\n",
    "plt.xlabel(\"x\")\n",
    "plt.ylabel(\"y\")\n",
    "\n",
    "### タイトル\n",
    "plt.title('sin & cos')\n",
    "\n",
    "### 凡例の表示\n",
    "plt.legend()\n",
    "\n",
    "### 図の描画\n",
    "plt.show()"
   ]
  },
  {
   "cell_type": "markdown",
   "metadata": {
    "deletable": true,
    "editable": true
   },
   "source": [
    "### 画像の表示\n",
    "\n",
    "* 画像の表示\n",
    "    * 画像表示のimshow()メソッドを使う\n",
    "* 画像の読み込み\n",
    "    * matplotlib.imageモジュールのimread()を利用する"
   ]
  },
  {
   "cell_type": "code",
   "execution_count": 1,
   "metadata": {
    "collapsed": false,
    "deletable": true,
    "editable": true
   },
   "outputs": [
    {
     "data": {
      "image/png": "[encoded data removed]",
      "text/plain": [
       "<matplotlib.figure.Figure at 0x7fb3543a0d68>"
      ]
     },
     "metadata": {},
     "output_type": "display_data"
    }
   ],
   "source": [
    "import matplotlib.pyplot as plt\n",
    "from matplotlib.image import imread\n",
    "\n",
    "### imreadメソッドで画像を読み込み\n",
    "img = imread('img/jsd.png')\n",
    "\n",
    "### 画像を表示\n",
    "plt.imshow(img)\n",
    "plt.show()"
   ]
  },
  {
   "cell_type": "markdown",
   "metadata": {
    "deletable": true,
    "editable": true
   },
   "source": [
    "# Mongodb連携"
   ]
  },
  {
   "cell_type": "code",
   "execution_count": 26,
   "metadata": {
    "collapsed": false,
    "deletable": true,
    "editable": true
   },
   "outputs": [
    {
     "data": {
      "text/html": [
       "<div>\n",
       "<table border=\"1\" class=\"dataframe\">\n",
       "  <thead>\n",
       "    <tr style=\"text-align: right;\">\n",
       "      <th></th>\n",
       "      <th>managers</th>\n",
       "    </tr>\n",
       "  </thead>\n",
       "  <tbody>\n",
       "    <tr>\n",
       "      <th>0</th>\n",
       "      <td>[{'user_id': 4f0f982000cd01285e002115, 'state'...</td>\n",
       "    </tr>\n",
       "    <tr>\n",
       "      <th>1</th>\n",
       "      <td>[{'user_id': 4f0f981f00cd01285e002109, 'state'...</td>\n",
       "    </tr>\n",
       "    <tr>\n",
       "      <th>2</th>\n",
       "      <td>NaN</td>\n",
       "    </tr>\n",
       "    <tr>\n",
       "      <th>3</th>\n",
       "      <td>NaN</td>\n",
       "    </tr>\n",
       "    <tr>\n",
       "      <th>4</th>\n",
       "      <td>NaN</td>\n",
       "    </tr>\n",
       "    <tr>\n",
       "      <th>5</th>\n",
       "      <td>NaN</td>\n",
       "    </tr>\n",
       "    <tr>\n",
       "      <th>6</th>\n",
       "      <td>[{'user_id': 4f0f97ab00cd01285e000144, 'state'...</td>\n",
       "    </tr>\n",
       "    <tr>\n",
       "      <th>7</th>\n",
       "      <td>NaN</td>\n",
       "    </tr>\n",
       "    <tr>\n",
       "      <th>8</th>\n",
       "      <td>[]</td>\n",
       "    </tr>\n",
       "    <tr>\n",
       "      <th>9</th>\n",
       "      <td>[{'user_id': 4f0f97a900cd01285e000084, 'state'...</td>\n",
       "    </tr>\n",
       "    <tr>\n",
       "      <th>10</th>\n",
       "      <td>[]</td>\n",
       "    </tr>\n",
       "    <tr>\n",
       "      <th>11</th>\n",
       "      <td>[]</td>\n",
       "    </tr>\n",
       "    <tr>\n",
       "      <th>12</th>\n",
       "      <td>[{'user_id': 4f0f97aa00cd01285e0000d0, 'state'...</td>\n",
       "    </tr>\n",
       "    <tr>\n",
       "      <th>13</th>\n",
       "      <td>[]</td>\n",
       "    </tr>\n",
       "    <tr>\n",
       "      <th>14</th>\n",
       "      <td>[]</td>\n",
       "    </tr>\n",
       "    <tr>\n",
       "      <th>15</th>\n",
       "      <td>[{'user_id': 4f77287600cd013e9c000049, 'state'...</td>\n",
       "    </tr>\n",
       "    <tr>\n",
       "      <th>16</th>\n",
       "      <td>[{'user_id': 4f0f97ab00cd01285e000144, 'state'...</td>\n",
       "    </tr>\n",
       "    <tr>\n",
       "      <th>17</th>\n",
       "      <td>[{'user_id': 4f0f97b300cd01285e0003af, 'state'...</td>\n",
       "    </tr>\n",
       "    <tr>\n",
       "      <th>18</th>\n",
       "      <td>[{'user_id': 4f0f97ab00cd01285e000124, 'state'...</td>\n",
       "    </tr>\n",
       "    <tr>\n",
       "      <th>19</th>\n",
       "      <td>[]</td>\n",
       "    </tr>\n",
       "    <tr>\n",
       "      <th>20</th>\n",
       "      <td>[]</td>\n",
       "    </tr>\n",
       "    <tr>\n",
       "      <th>21</th>\n",
       "      <td>[{'user_id': 4f77289800cd013e9c00012f, 'state'...</td>\n",
       "    </tr>\n",
       "    <tr>\n",
       "      <th>22</th>\n",
       "      <td>[{'user_id': 4f0f97da00cd01285e000f43, 'state'...</td>\n",
       "    </tr>\n",
       "    <tr>\n",
       "      <th>23</th>\n",
       "      <td>[]</td>\n",
       "    </tr>\n",
       "    <tr>\n",
       "      <th>24</th>\n",
       "      <td>[{'user_id': 5158567f00cd0142a400012d, 'state'...</td>\n",
       "    </tr>\n",
       "    <tr>\n",
       "      <th>25</th>\n",
       "      <td>[]</td>\n",
       "    </tr>\n",
       "    <tr>\n",
       "      <th>26</th>\n",
       "      <td>[]</td>\n",
       "    </tr>\n",
       "    <tr>\n",
       "      <th>27</th>\n",
       "      <td>[{'user_id': 4f7728d700cd013e9c00021d, 'state'...</td>\n",
       "    </tr>\n",
       "    <tr>\n",
       "      <th>28</th>\n",
       "      <td>[]</td>\n",
       "    </tr>\n",
       "    <tr>\n",
       "      <th>29</th>\n",
       "      <td>[{'user_id': 4f0f981300cd01285e001e33, 'state'...</td>\n",
       "    </tr>\n",
       "    <tr>\n",
       "      <th>...</th>\n",
       "      <td>...</td>\n",
       "    </tr>\n",
       "    <tr>\n",
       "      <th>450</th>\n",
       "      <td>NaN</td>\n",
       "    </tr>\n",
       "    <tr>\n",
       "      <th>451</th>\n",
       "      <td>[{'user_id': 4f7728b600cd013e9c0001cb, 'state'...</td>\n",
       "    </tr>\n",
       "    <tr>\n",
       "      <th>452</th>\n",
       "      <td>[{'user_id': 4f0f97cc00cd01285e000b4d, 'state'...</td>\n",
       "    </tr>\n",
       "    <tr>\n",
       "      <th>453</th>\n",
       "      <td>[{'user_id': 4f0f97be00cd01285e000731, 'state'...</td>\n",
       "    </tr>\n",
       "    <tr>\n",
       "      <th>454</th>\n",
       "      <td>[{'user_id': 4f0f97c200cd01285e000857, 'state'...</td>\n",
       "    </tr>\n",
       "    <tr>\n",
       "      <th>455</th>\n",
       "      <td>NaN</td>\n",
       "    </tr>\n",
       "    <tr>\n",
       "      <th>456</th>\n",
       "      <td>[{'user_id': 4f0f980200cd01285e0019fd, 'state'...</td>\n",
       "    </tr>\n",
       "    <tr>\n",
       "      <th>457</th>\n",
       "      <td>[{'user_id': 4f0f97c600cd01285e0009ad, 'state'...</td>\n",
       "    </tr>\n",
       "    <tr>\n",
       "      <th>458</th>\n",
       "      <td>[{'user_id': 4f0f97b500cd01285e00045d, 'state'...</td>\n",
       "    </tr>\n",
       "    <tr>\n",
       "      <th>459</th>\n",
       "      <td>[{'user_id': 4f7728d500cd013e9c00020d, 'state'...</td>\n",
       "    </tr>\n",
       "    <tr>\n",
       "      <th>460</th>\n",
       "      <td>[{'user_id': 4f0f97c200cd01285e000857, 'state'...</td>\n",
       "    </tr>\n",
       "    <tr>\n",
       "      <th>461</th>\n",
       "      <td>[{'user_id': 4f0f97ad00cd01285e0001c8, 'state'...</td>\n",
       "    </tr>\n",
       "    <tr>\n",
       "      <th>462</th>\n",
       "      <td>NaN</td>\n",
       "    </tr>\n",
       "    <tr>\n",
       "      <th>463</th>\n",
       "      <td>[{'user_id': 5339a7e300cd01314300017b, 'state'...</td>\n",
       "    </tr>\n",
       "    <tr>\n",
       "      <th>464</th>\n",
       "      <td>[{'user_id': 5339a7e300cd01314300017b, 'state'...</td>\n",
       "    </tr>\n",
       "    <tr>\n",
       "      <th>465</th>\n",
       "      <td>[{'user_id': 4f0f97ae00cd01285e000248, 'state'...</td>\n",
       "    </tr>\n",
       "    <tr>\n",
       "      <th>466</th>\n",
       "      <td>[{'user_id': 4f0f97ae00cd01285e000248, 'state'...</td>\n",
       "    </tr>\n",
       "    <tr>\n",
       "      <th>467</th>\n",
       "      <td>[{'user_id': 5158567b00cd0142a4000109, 'state'...</td>\n",
       "    </tr>\n",
       "    <tr>\n",
       "      <th>468</th>\n",
       "      <td>[{'user_id': 4f0f97ae00cd01285e000248, 'state'...</td>\n",
       "    </tr>\n",
       "    <tr>\n",
       "      <th>469</th>\n",
       "      <td>[{'user_id': 4f0f97e300cd01285e0011ef, 'state'...</td>\n",
       "    </tr>\n",
       "    <tr>\n",
       "      <th>470</th>\n",
       "      <td>[{'user_id': 4f0f97d700cd01285e000e73, 'state'...</td>\n",
       "    </tr>\n",
       "    <tr>\n",
       "      <th>471</th>\n",
       "      <td>[{'user_id': 4f0f97b000cd01285e0002fd, 'state'...</td>\n",
       "    </tr>\n",
       "    <tr>\n",
       "      <th>472</th>\n",
       "      <td>[{'user_id': 4f0f97b700cd01285e0004f9, 'state'...</td>\n",
       "    </tr>\n",
       "    <tr>\n",
       "      <th>473</th>\n",
       "      <td>[{'user_id': 4f0f980c00cd01285e001c95, 'state'...</td>\n",
       "    </tr>\n",
       "    <tr>\n",
       "      <th>474</th>\n",
       "      <td>[{'user_id': 4f0f981b00cd01285e001ffb, 'state'...</td>\n",
       "    </tr>\n",
       "    <tr>\n",
       "      <th>475</th>\n",
       "      <td>[{'user_id': 4f0f97bc00cd01285e0006bd, 'state'...</td>\n",
       "    </tr>\n",
       "    <tr>\n",
       "      <th>476</th>\n",
       "      <td>[{'user_id': 5339a7e300cd01314300017b, 'state'...</td>\n",
       "    </tr>\n",
       "    <tr>\n",
       "      <th>477</th>\n",
       "      <td>[{'user_id': 4f0f97e100cd01285e00116f, 'state'...</td>\n",
       "    </tr>\n",
       "    <tr>\n",
       "      <th>478</th>\n",
       "      <td>[{'user_id': 4f0f97cc00cd01285e000b63, 'state'...</td>\n",
       "    </tr>\n",
       "    <tr>\n",
       "      <th>479</th>\n",
       "      <td>[{'user_id': 4f0f97cd00cd01285e000b8f, 'state'...</td>\n",
       "    </tr>\n",
       "  </tbody>\n",
       "</table>\n",
       "<p>480 rows × 1 columns</p>\n",
       "</div>"
      ],
      "text/plain": [
       "                                              managers\n",
       "0    [{'user_id': 4f0f982000cd01285e002115, 'state'...\n",
       "1    [{'user_id': 4f0f981f00cd01285e002109, 'state'...\n",
       "2                                                  NaN\n",
       "3                                                  NaN\n",
       "4                                                  NaN\n",
       "5                                                  NaN\n",
       "6    [{'user_id': 4f0f97ab00cd01285e000144, 'state'...\n",
       "7                                                  NaN\n",
       "8                                                   []\n",
       "9    [{'user_id': 4f0f97a900cd01285e000084, 'state'...\n",
       "10                                                  []\n",
       "11                                                  []\n",
       "12   [{'user_id': 4f0f97aa00cd01285e0000d0, 'state'...\n",
       "13                                                  []\n",
       "14                                                  []\n",
       "15   [{'user_id': 4f77287600cd013e9c000049, 'state'...\n",
       "16   [{'user_id': 4f0f97ab00cd01285e000144, 'state'...\n",
       "17   [{'user_id': 4f0f97b300cd01285e0003af, 'state'...\n",
       "18   [{'user_id': 4f0f97ab00cd01285e000124, 'state'...\n",
       "19                                                  []\n",
       "20                                                  []\n",
       "21   [{'user_id': 4f77289800cd013e9c00012f, 'state'...\n",
       "22   [{'user_id': 4f0f97da00cd01285e000f43, 'state'...\n",
       "23                                                  []\n",
       "24   [{'user_id': 5158567f00cd0142a400012d, 'state'...\n",
       "25                                                  []\n",
       "26                                                  []\n",
       "27   [{'user_id': 4f7728d700cd013e9c00021d, 'state'...\n",
       "28                                                  []\n",
       "29   [{'user_id': 4f0f981300cd01285e001e33, 'state'...\n",
       "..                                                 ...\n",
       "450                                                NaN\n",
       "451  [{'user_id': 4f7728b600cd013e9c0001cb, 'state'...\n",
       "452  [{'user_id': 4f0f97cc00cd01285e000b4d, 'state'...\n",
       "453  [{'user_id': 4f0f97be00cd01285e000731, 'state'...\n",
       "454  [{'user_id': 4f0f97c200cd01285e000857, 'state'...\n",
       "455                                                NaN\n",
       "456  [{'user_id': 4f0f980200cd01285e0019fd, 'state'...\n",
       "457  [{'user_id': 4f0f97c600cd01285e0009ad, 'state'...\n",
       "458  [{'user_id': 4f0f97b500cd01285e00045d, 'state'...\n",
       "459  [{'user_id': 4f7728d500cd013e9c00020d, 'state'...\n",
       "460  [{'user_id': 4f0f97c200cd01285e000857, 'state'...\n",
       "461  [{'user_id': 4f0f97ad00cd01285e0001c8, 'state'...\n",
       "462                                                NaN\n",
       "463  [{'user_id': 5339a7e300cd01314300017b, 'state'...\n",
       "464  [{'user_id': 5339a7e300cd01314300017b, 'state'...\n",
       "465  [{'user_id': 4f0f97ae00cd01285e000248, 'state'...\n",
       "466  [{'user_id': 4f0f97ae00cd01285e000248, 'state'...\n",
       "467  [{'user_id': 5158567b00cd0142a4000109, 'state'...\n",
       "468  [{'user_id': 4f0f97ae00cd01285e000248, 'state'...\n",
       "469  [{'user_id': 4f0f97e300cd01285e0011ef, 'state'...\n",
       "470  [{'user_id': 4f0f97d700cd01285e000e73, 'state'...\n",
       "471  [{'user_id': 4f0f97b000cd01285e0002fd, 'state'...\n",
       "472  [{'user_id': 4f0f97b700cd01285e0004f9, 'state'...\n",
       "473  [{'user_id': 4f0f980c00cd01285e001c95, 'state'...\n",
       "474  [{'user_id': 4f0f981b00cd01285e001ffb, 'state'...\n",
       "475  [{'user_id': 4f0f97bc00cd01285e0006bd, 'state'...\n",
       "476  [{'user_id': 5339a7e300cd01314300017b, 'state'...\n",
       "477  [{'user_id': 4f0f97e100cd01285e00116f, 'state'...\n",
       "478  [{'user_id': 4f0f97cc00cd01285e000b63, 'state'...\n",
       "479  [{'user_id': 4f0f97cd00cd01285e000b8f, 'state'...\n",
       "\n",
       "[480 rows x 1 columns]"
      ]
     },
     "execution_count": 26,
     "metadata": {},
     "output_type": "execute_result"
    }
   ],
   "source": [
    "import pymongo\n",
    "import pandas as pd\n",
    "from pymongo import MongoClient\n",
    "client = MongoClient(host=['10.136.3.166:27017'])\n",
    "db = client.joruri_sns\n",
    "collection = db.sns_projects\n",
    "data = pd.DataFrame(list(collection.find()))\n",
    "\n",
    "data[['managers']]\n",
    "#data[['code','managers','members']]\n",
    "#data[['code','managers','members']].groupby(['code']).count().sort_values(by='managers', ascending=False)\n",
    "#data[['managers']].to_csv( 'mongo.csv' )"
   ]
  }
 ],
 "metadata": {
  "kernelspec": {
   "display_name": "Python 3",
   "language": "python",
   "name": "python3"
  },
  "language_info": {
   "codemirror_mode": {
    "name": "ipython",
    "version": 3
   },
   "file_extension": ".py",
   "mimetype": "text/x-python",
   "name": "python",
   "nbconvert_exporter": "python",
   "pygments_lexer": "ipython3",
   "version": "3.6.1"
  }
 },
 "nbformat": 4,
 "nbformat_minor": 2
}
