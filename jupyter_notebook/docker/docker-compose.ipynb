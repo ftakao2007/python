{
 "cells": [
  {
   "cell_type": "markdown",
   "metadata": {},
   "source": [
    "# docker-compose"
   ]
  },
  {
   "cell_type": "markdown",
   "metadata": {},
   "source": [
    "## list"
   ]
  },
  {
   "cell_type": "markdown",
   "metadata": {},
   "source": [
    "## MySQL"
   ]
  },
  {
   "cell_type": "code",
   "execution_count": 1,
   "metadata": {},
   "outputs": [
    {
     "name": "stdout",
     "output_type": "stream",
     "text": [
      "REPOSITORY          TAG                 IMAGE ID            CREATED             SIZE\n",
      "CONTAINER ID        IMAGE               COMMAND             CREATED             STATUS              PORTS               NAMES\n",
      "REPOSITORY          TAG                 IMAGE ID            CREATED             SIZE\n",
      "CONTAINER ID        IMAGE               COMMAND             CREATED             STATUS              PORTS               NAMES\n"
     ]
    },
    {
     "name": "stderr",
     "output_type": "stream",
     "text": [
      "Pulling mysql5.6_centos7 (ftakao2007/mysql5.6_centos7:latest)...\n",
      "Get https://registry-1.docker.io/v2/ftakao2007/mysql5.6_centos7/manifests/latest: dial tcp: lookup registry-1.docker.io on 10.0.2.3:53: read udp 10.0.2.15:38758->10.0.2.3:53: i/o timeout\n"
     ]
    }
   ],
   "source": [
    "%%bash\n",
    "### 変数の設定\n",
    "docker-compose_file=\"docker-compose_mysql5.6_centos7.yml \"\n",
    "mysql_port=\"3306\"\n",
    "ssh_port=\"2222\"\n",
    "\n",
    "### イメージ、コンテナが無い状態の確認\n",
    "docker images\n",
    "docker ps -a\n",
    "\n",
    "### docker-composeディレクトリに移動\n",
    "#work_dir=\"/home/jsd/work/build/docker-compose\"\n",
    "work_dir=\"${PYENV_DIR}/work/build/docker-compose\"\n",
    "cd ${work_dir}\n",
    "\n",
    "### docker-composeファイルの作成\n",
    "cat <<- EOS > ${docker-compose_file}\n",
    "mysql5.6_centos7:\n",
    "   image: ftakao2007/mysql5.6_centos7:latest\n",
    "   container_name: mysql5.6_centos7\n",
    "   privileged: true\n",
    "   tty: true\n",
    "   ports:\n",
    "     - \"${mysql_port}:3306\"\n",
    "     - \"${ssh_port}:22\"\n",
    "   #command: sh -c '/sbin/init'\n",
    "   command: sh -c 'exec /usr/sbin/init && systemctl restart sshd.service && systemctl restart mysqld.service'\n",
    "EOS\n",
    "\n",
    "### コンテナの作成\n",
    "docker-compose -f ${docker-compose_file}up -d\n",
    "sleep 60\n",
    "\n",
    "### イメージ、コンテナの確認\n",
    "docker images\n",
    "docker ps -a\n",
    "\n",
    "### mysql接続\n",
    "mysql -ujoruri -p'pass' -h 127.0.0.1 -P 3306 -e \"SELECT CURDATE();\" 2> /dev/null"
   ]
  }
 ],
 "metadata": {
  "kernelspec": {
   "display_name": "Python 3",
   "language": "python",
   "name": "python3"
  },
  "language_info": {
   "codemirror_mode": {
    "name": "ipython",
    "version": 3
   },
   "file_extension": ".py",
   "mimetype": "text/x-python",
   "name": "python",
   "nbconvert_exporter": "python",
   "pygments_lexer": "ipython3",
   "version": "3.6.1"
  }
 },
 "nbformat": 4,
 "nbformat_minor": 2
}
