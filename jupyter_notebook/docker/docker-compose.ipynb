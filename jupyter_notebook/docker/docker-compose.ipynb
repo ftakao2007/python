{
 "cells": [
  {
   "cell_type": "markdown",
   "metadata": {},
   "source": [
    "# docker-compose"
   ]
  },
  {
   "cell_type": "markdown",
   "metadata": {},
   "source": [
    "## コンテナ設定リスト\n",
    "\n",
    "|コンテナ|サービス|VIP|port|\n",
    "|---|---|---|---|\n",
    "|mysql5.6|mysql|172.17.33.11|3306|\n",
    "|mysql5.6|ssh|172.17.33.11|2222|\n",
    "|openldap|ldap|172.17.33.12|389|\n",
    "|openldap|ssh|172.17.33.12|2223|\n",
    "|mail_server|imap|172.17.33.13|1143|\n",
    "|mail_server|smtp|172.17.33.13|2525|\n",
    "|mail_server|ssh|172.17.33.13|2224|\n",
    "|mail_server_virtual_for joruri|imap|172.17.33.14|1144|\n",
    "|mail_server_virtual_for joruri|smtp|172.17.33.14|2526|\n",
    "|mail_server_virtual_for joruri|ssh|172.17.33.14|2224|"
   ]
  },
  {
   "cell_type": "markdown",
   "metadata": {},
   "source": [
    "## 現在のステータス"
   ]
  },
  {
   "cell_type": "markdown",
   "metadata": {},
   "source": [
    "### イメージリスト"
   ]
  },
  {
   "cell_type": "code",
   "execution_count": 16,
   "metadata": {},
   "outputs": [
    {
     "ename": "AttributeError",
     "evalue": "'OutStream' object has no attribute 'buffer'",
     "output_type": "error",
     "traceback": [
      "\u001b[0;31m---------------------------------------------------------------------------\u001b[0m",
      "\u001b[0;31mAttributeError\u001b[0m                            Traceback (most recent call last)",
      "\u001b[0;32m<ipython-input-16-e6d8d57edf80>\u001b[0m in \u001b[0;36m<module>\u001b[0;34m()\u001b[0m\n\u001b[1;32m      3\u001b[0m \u001b[0;34m\u001b[0m\u001b[0m\n\u001b[1;32m      4\u001b[0m \u001b[0mres\u001b[0m \u001b[0;34m=\u001b[0m \u001b[0msubprocess\u001b[0m\u001b[0;34m.\u001b[0m\u001b[0mrun\u001b[0m\u001b[0;34m(\u001b[0m\u001b[0;34m[\u001b[0m\u001b[0;34m\"docker\"\u001b[0m\u001b[0;34m,\u001b[0m \u001b[0;34m\"images\"\u001b[0m\u001b[0;34m]\u001b[0m\u001b[0;34m,\u001b[0m \u001b[0mstdout\u001b[0m\u001b[0;34m=\u001b[0m\u001b[0msubprocess\u001b[0m\u001b[0;34m.\u001b[0m\u001b[0mPIPE\u001b[0m\u001b[0;34m)\u001b[0m\u001b[0;34m\u001b[0m\u001b[0m\n\u001b[0;32m----> 5\u001b[0;31m \u001b[0msys\u001b[0m\u001b[0;34m.\u001b[0m\u001b[0mstdout\u001b[0m\u001b[0;34m.\u001b[0m\u001b[0mbuffer\u001b[0m\u001b[0;34m.\u001b[0m\u001b[0mwrite\u001b[0m\u001b[0;34m(\u001b[0m\u001b[0mres\u001b[0m\u001b[0;34m.\u001b[0m\u001b[0mstdout\u001b[0m\u001b[0;34m)\u001b[0m\u001b[0;34m\u001b[0m\u001b[0m\n\u001b[0m",
      "\u001b[0;31mAttributeError\u001b[0m: 'OutStream' object has no attribute 'buffer'"
     ]
    }
   ],
   "source": [
    "import subprocess\n",
    "import sys\n",
    "\n",
    "res = subprocess.run([\"docker\", \"images\"], stdout=subprocess.PIPE)\n",
    "sys.stdout.buffer.write(res.stdout)"
   ]
  },
  {
   "cell_type": "code",
   "execution_count": 28,
   "metadata": {},
   "outputs": [
    {
     "name": "stdout",
     "output_type": "stream",
     "text": [
      "b'CONTAINER ID        IMAGE                                            COMMAND                  CREATED             STATUS              PORTS                                                               NAMES\\nd466248a93d9        ftakao2007/mail_centos7:virtual_for_jorurimail   \"sh -c \\'exec /usr/...\"   19 minutes ago      Up 19 minutes       0.0.0.0:2225->22/tcp, 0.0.0.0:2526->25/tcp, 0.0.0.0:1144->143/tcp   mail_server_virtual_for_jorurimail_centos7\\n8784dfcb21c3        ftakao2007/mail_centos7:latest                   \"sh -c \\'exec /usr/...\"   35 minutes ago      Up 35 minutes       0.0.0.0:2224->22/tcp, 0.0.0.0:2525->25/tcp, 0.0.0.0:1143->143/tcp   mail_server_centos7\\n3bc5d977b203        ftakao2007/openldap_centos7:latest               \"sh -c \\'exec /usr/...\"   39 minutes ago      Up 39 minutes       0.0.0.0:389->389/tcp, 0.0.0.0:2223->22/tcp                          openldap_centos7\\n4c0ae849ad6a        ftakao2007/mysql5.6_centos7:latest               \"sh -c \\'exec /usr/...\"   41 minutes ago      Up 41 minutes       0.0.0.0:3306->3306/tcp, 0.0.0.0:2222->22/tcp                        mysql5.6_centos7\\n'\n"
     ]
    }
   ],
   "source": [
    "import subprocess\n",
    "#args = ['ls', '-l', '-a']\n",
    "args = ['docker', 'ps', '-a']\n",
    "try:\n",
    "    res = subprocess.check_output(args)\n",
    "    print(res)\n",
    "except:\n",
    "    print(\"Error.\")"
   ]
  },
  {
   "cell_type": "code",
   "execution_count": 14,
   "metadata": {
    "scrolled": true
   },
   "outputs": [
    {
     "name": "stdout",
     "output_type": "stream",
     "text": [
      "REPOSITORY                    TAG                      IMAGE ID            CREATED             SIZE\n",
      "ftakao2007/mail_centos7       virtual_for_jorurimail   35e0eebeeb79        18 hours ago        657MB\n",
      "ftakao2007/mail_centos7       latest                   0733ee002c86        19 hours ago        656MB\n",
      "ftakao2007/openldap_centos7   latest                   572b38993fa4        2 days ago          596MB\n",
      "ftakao2007/mysql5.6_centos7   latest                   09a773ad8e34        4 days ago          2.16GB\n",
      "ftakao2007/centos7            latest                   0fede72fa1fe        4 days ago          488MB\n"
     ]
    }
   ],
   "source": [
    "%%bash\n",
    "docker images"
   ]
  },
  {
   "cell_type": "markdown",
   "metadata": {},
   "source": [
    "### コンテナリスト"
   ]
  },
  {
   "cell_type": "code",
   "execution_count": 15,
   "metadata": {},
   "outputs": [
    {
     "name": "stdout",
     "output_type": "stream",
     "text": [
      "CONTAINER ID        IMAGE                                            COMMAND                  CREATED             STATUS              PORTS                                                               NAMES\n",
      "d466248a93d9        ftakao2007/mail_centos7:virtual_for_jorurimail   \"sh -c 'exec /usr/...\"   6 minutes ago       Up 6 minutes        0.0.0.0:2225->22/tcp, 0.0.0.0:2526->25/tcp, 0.0.0.0:1144->143/tcp   mail_server_virtual_for_jorurimail_centos7\n",
      "8784dfcb21c3        ftakao2007/mail_centos7:latest                   \"sh -c 'exec /usr/...\"   22 minutes ago      Up 22 minutes       0.0.0.0:2224->22/tcp, 0.0.0.0:2525->25/tcp, 0.0.0.0:1143->143/tcp   mail_server_centos7\n",
      "3bc5d977b203        ftakao2007/openldap_centos7:latest               \"sh -c 'exec /usr/...\"   26 minutes ago      Up 26 minutes       0.0.0.0:389->389/tcp, 0.0.0.0:2223->22/tcp                          openldap_centos7\n",
      "4c0ae849ad6a        ftakao2007/mysql5.6_centos7:latest               \"sh -c 'exec /usr/...\"   29 minutes ago      Up 29 minutes       0.0.0.0:3306->3306/tcp, 0.0.0.0:2222->22/tcp                        mysql5.6_centos7\n"
     ]
    }
   ],
   "source": [
    "%%bash\n",
    "docker ps -a"
   ]
  }
 ],
 "metadata": {
  "kernelspec": {
   "display_name": "Python 3",
   "language": "python",
   "name": "python3"
  },
  "language_info": {
   "codemirror_mode": {
    "name": "ipython",
    "version": 3
   },
   "file_extension": ".py",
   "mimetype": "text/x-python",
   "name": "python",
   "nbconvert_exporter": "python",
   "pygments_lexer": "ipython3",
   "version": "3.6.1"
  }
 },
 "nbformat": 4,
 "nbformat_minor": 2
}
