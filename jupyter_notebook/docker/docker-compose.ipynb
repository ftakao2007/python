{
 "cells": [
  {
   "cell_type": "markdown",
   "metadata": {},
   "source": [
    "# docker-compose"
   ]
  },
  {
   "cell_type": "markdown",
   "metadata": {},
   "source": [
    "## list\n",
    "\n",
    "|コンテナ|サービス|port|\n",
    "|---|---|---|\n",
    "|MySQL|mysql|3306|\n",
    "|MySQL|ssh|2222|\n",
    "|openldap|ldap|389|\n",
    "|openldap|ssh|2223|\n",
    "\n",
    "### 後でやる\n",
    "VIPをつけると固定IPでいける"
   ]
  },
  {
   "cell_type": "markdown",
   "metadata": {},
   "source": [
    "## MySQL"
   ]
  },
  {
   "cell_type": "markdown",
   "metadata": {},
   "source": [
    "### dockerhostの設定"
   ]
  },
  {
   "cell_type": "code",
   "execution_count": 36,
   "metadata": {},
   "outputs": [
    {
     "name": "stdout",
     "output_type": "stream",
     "text": [
      "Loaded plugins: fastestmirror\n",
      "Examining /var/tmp/yum-root-vps5IL/mysql-community-release-el7-5.noarch.rpm: mysql-community-release-el7-5.noarch\n",
      "/var/tmp/yum-root-vps5IL/mysql-community-release-el7-5.noarch.rpm: does not update installed package.\n",
      "Loaded plugins: fastestmirror\n",
      "Loading mirror speeds from cached hostfile\n",
      " * base: mirror.qoxy.com\n",
      " * epel: mirror.vinahost.vn\n",
      " * extras: mirror.nus.edu.sg\n",
      " * updates: mirror.qoxy.com\n",
      "Package mysql-community-client-5.6.36-2.el7.x86_64 already installed and latest version\n",
      "Nothing to do\n"
     ]
    },
    {
     "name": "stderr",
     "output_type": "stream",
     "text": [
      "Error: Nothing to do\n"
     ]
    }
   ],
   "source": [
    "%%bash\n",
    "### mysqlクライアントのインストール(CentOS7)\n",
    "sudo yum install -y http://dev.mysql.com/get/mysql-community-release-el7-5.noarch.rpm\n",
    "sudo yum install -y mysql-community-client.x86_64"
   ]
  },
  {
   "cell_type": "markdown",
   "metadata": {},
   "source": [
    "### コンテナの作成"
   ]
  },
  {
   "cell_type": "code",
   "execution_count": 1,
   "metadata": {},
   "outputs": [
    {
     "name": "stdout",
     "output_type": "stream",
     "text": [
      "REPOSITORY          TAG                 IMAGE ID            CREATED             SIZE\n",
      "CONTAINER ID        IMAGE               COMMAND             CREATED             STATUS              PORTS               NAMES\n",
      "latest: Pulling from ftakao2007/mysql5.6_centos7\n",
      "Digest: sha256:2f67ac88a18c227b56292d544d620fe33355f4d67994a1365529e1b0e3878004\n",
      "Status: Downloaded newer image for ftakao2007/mysql5.6_centos7:latest\n",
      "REPOSITORY                    TAG                 IMAGE ID            CREATED             SIZE\n",
      "ftakao2007/mysql5.6_centos7   latest              09a773ad8e34        3 days ago          2.16GB\n",
      "CONTAINER ID        IMAGE                                COMMAND                  CREATED              STATUS              PORTS                                          NAMES\n",
      "c91b49b1012f        ftakao2007/mysql5.6_centos7:latest   \"sh -c 'exec /usr/...\"   About a minute ago   Up About a minute   0.0.0.0:3306->3306/tcp, 0.0.0.0:2222->22/tcp   mysql5.6_centos7\n",
      "CURDATE()\n",
      "2017-07-18\n"
     ]
    },
    {
     "name": "stderr",
     "output_type": "stream",
     "text": [
      "Pulling mysql5.6_centos7 (ftakao2007/mysql5.6_centos7:latest)...\n",
      "Creating mysql5.6_centos7\n"
     ]
    }
   ],
   "source": [
    "%%bash\n",
    "### 変数の設定\n",
    "container=\"mysql5.6_centos7\"\n",
    "docker_compose_file=\"docker-compose_${container}.yml\"\n",
    "mysql_port=\"3306\"\n",
    "ssh_port=\"2222\"\n",
    "\n",
    "### イメージ、コンテナが無い状態の確認\n",
    "docker images\n",
    "docker ps -a\n",
    "\n",
    "### docker-composeディレクトリに移動\n",
    "#work_dir=\"/home/jsd/work/build/docker-compose\"\n",
    "work_dir=\"${PYENV_DIR}/work/build/docker-compose\"\n",
    "cd ${work_dir}\n",
    "\n",
    "### docker-composeファイルの作成\n",
    "cat <<- EOS > ${docker_compose_file}\n",
    "${container}:\n",
    "   image: ftakao2007/mysql5.6_centos7:latest\n",
    "   container_name: ${container}\n",
    "   privileged: true\n",
    "   tty: true\n",
    "   ports:\n",
    "     - \"${mysql_port}:3306\"\n",
    "     - \"${ssh_port}:22\"\n",
    "   #command: sh -c '/sbin/init'\n",
    "   command: sh -c 'exec /usr/sbin/init && systemctl restart sshd.service && systemctl restart mysqld.service'\n",
    "EOS\n",
    "\n",
    "### コンテナの作成\n",
    "docker-compose -f ${docker_compose_file} up -d\n",
    "\n",
    "### イメージ、コンテナの確認\n",
    "docker images\n",
    "docker ps -a"
   ]
  },
  {
   "cell_type": "code",
   "execution_count": 7,
   "metadata": {},
   "outputs": [
    {
     "name": "stdout",
     "output_type": "stream",
     "text": [
      "CURDATE()\n",
      "2017-07-18\n"
     ]
    }
   ],
   "source": [
    "%%bash\n",
    "### mysql接続確認\n",
    "mysql -ujoruri -p'pass' -h 127.0.0.1 -P 3306 -e \"SELECT CURDATE();\" 2> /dev/null"
   ]
  },
  {
   "cell_type": "code",
   "execution_count": null,
   "metadata": {
    "collapsed": true
   },
   "outputs": [],
   "source": [
    "%%bash\n",
    "### VIPを付与する"
   ]
  },
  {
   "cell_type": "markdown",
   "metadata": {},
   "source": [
    "## LDAP"
   ]
  },
  {
   "cell_type": "markdown",
   "metadata": {},
   "source": [
    "### dockerhostの設定"
   ]
  },
  {
   "cell_type": "code",
   "execution_count": 2,
   "metadata": {},
   "outputs": [
    {
     "name": "stdout",
     "output_type": "stream",
     "text": [
      "読み込んだプラグイン:fastestmirror\n",
      "Loading mirror speeds from cached hostfile\n",
      " * base: ftp.riken.jp\n",
      " * epel: ftp.riken.jp\n",
      " * extras: ftp.riken.jp\n",
      " * updates: ftp.riken.jp\n",
      "パッケージ openldap-2.4.40-13.el7.x86_64 はインストール済みか最新バージョンです\n",
      "依存性の解決をしています\n",
      "--> トランザクションの確認を実行しています。\n",
      "---> パッケージ openldap-clients.x86_64 0:2.4.40-13.el7 を インストール\n",
      "--> 依存性解決を終了しました。\n",
      "\n",
      "依存性を解決しました\n",
      "\n",
      "================================================================================\n",
      " Package                 アーキテクチャー\n",
      "                                       バージョン             リポジトリー\n",
      "                                                                           容量\n",
      "================================================================================\n",
      "インストール中:\n",
      " openldap-clients        x86_64        2.4.40-13.el7          base        188 k\n",
      "\n",
      "トランザクションの要約\n",
      "================================================================================\n",
      "インストール  1 パッケージ\n",
      "\n",
      "総ダウンロード容量: 188 k\n",
      "インストール容量: 570 k\n",
      "Downloading packages:\n",
      "Running transaction check\n",
      "Running transaction test\n",
      "Transaction test succeeded\n",
      "Running transaction\n",
      "  インストール中          : openldap-clients-2.4.40-13.el7.x86_64           1/1 \n",
      "  検証中                  : openldap-clients-2.4.40-13.el7.x86_64           1/1 \n",
      "\n",
      "インストール:\n",
      "  openldap-clients.x86_64 0:2.4.40-13.el7                                       \n",
      "\n",
      "完了しました!\n"
     ]
    }
   ],
   "source": [
    "%%bash\n",
    "### ldapクライアントのインストール(CentOS7)\n",
    "sudo yum install -y openldap openldap-clients"
   ]
  },
  {
   "cell_type": "code",
   "execution_count": 3,
   "metadata": {},
   "outputs": [
    {
     "name": "stdout",
     "output_type": "stream",
     "text": [
      "REPOSITORY                    TAG                 IMAGE ID            CREATED             SIZE\n",
      "ftakao2007/mysql5.6_centos7   latest              09a773ad8e34        3 days ago          2.16GB\n",
      "CONTAINER ID        IMAGE                                COMMAND                  CREATED              STATUS              PORTS                                          NAMES\n",
      "c91b49b1012f        ftakao2007/mysql5.6_centos7:latest   \"sh -c 'exec /usr/...\"   About a minute ago   Up About a minute   0.0.0.0:3306->3306/tcp, 0.0.0.0:2222->22/tcp   mysql5.6_centos7\n",
      "latest: Pulling from ftakao2007/openldap_centos7\n",
      "Digest: sha256:86457efa7c32c8c55a34971cb44e24767a0dfb954044882f06ce149d8ef3e96c\n",
      "Status: Downloaded newer image for ftakao2007/openldap_centos7:latest\n",
      "REPOSITORY                    TAG                 IMAGE ID            CREATED             SIZE\n",
      "ftakao2007/openldap_centos7   latest              572b38993fa4        47 hours ago        596MB\n",
      "ftakao2007/mysql5.6_centos7   latest              09a773ad8e34        3 days ago          2.16GB\n",
      "CONTAINER ID        IMAGE                                COMMAND                  CREATED             STATUS                  PORTS                                          NAMES\n",
      "49914008c382        ftakao2007/openldap_centos7:latest   \"sh -c 'exec /usr/...\"   1 second ago        Up Less than a second   0.0.0.0:389->389/tcp, 0.0.0.0:2223->22/tcp     openldap_centos7\n",
      "c91b49b1012f        ftakao2007/mysql5.6_centos7:latest   \"sh -c 'exec /usr/...\"   2 minutes ago       Up 2 minutes            0.0.0.0:3306->3306/tcp, 0.0.0.0:2222->22/tcp   mysql5.6_centos7\n"
     ]
    },
    {
     "name": "stderr",
     "output_type": "stream",
     "text": [
      "Pulling openldap_centos7 (ftakao2007/openldap_centos7:latest)...\n",
      "Creating openldap_centos7\n",
      "ldap_result: Can't contact LDAP server (-1)\n"
     ]
    }
   ],
   "source": [
    "%%bash\n",
    "### 変数の設定\n",
    "container=\"openldap_centos7\"\n",
    "docker_compose_file=\"docker-compose_${container}.yml\"\n",
    "ldap_port=\"389\"\n",
    "ssh_port=\"2223\"\n",
    "\n",
    "### イメージ、コンテナが無い状態の確認\n",
    "docker images\n",
    "docker ps -a\n",
    "\n",
    "### docker-composeディレクトリに移動\n",
    "#work_dir=\"/home/jsd/work/build/docker-compose\"\n",
    "work_dir=\"${PYENV_DIR}/work/build/docker-compose\"\n",
    "cd ${work_dir}\n",
    "\n",
    "### docker-composeファイルの作成\n",
    "cat <<- EOS > ${docker_compose_file}\n",
    "${container}:\n",
    "   image: ftakao2007/openldap_centos7:latest\n",
    "   container_name: ${container}\n",
    "   privileged: true\n",
    "   tty: true\n",
    "   ports:\n",
    "     - \"${ldap_port}:389\"\n",
    "     - \"${ssh_port}:22\"\n",
    "   #command: sh -c '/sbin/init'\n",
    "   command: sh -c 'exec /usr/sbin/init && systemctl restart sshd.service && systemctl restart slapd.service'\n",
    "EOS\n",
    "\n",
    "### コンテナの作成\n",
    "docker-compose -f ${docker_compose_file} up -d\n",
    "#sleep 80\n",
    "\n",
    "### イメージ、コンテナの確認\n",
    "docker images\n",
    "docker ps -a"
   ]
  },
  {
   "cell_type": "code",
   "execution_count": 5,
   "metadata": {},
   "outputs": [
    {
     "name": "stdout",
     "output_type": "stream",
     "text": [
      "dn:: dWlkPTAwNTAwMTEsb3U9MDAxMDAy56eY5pu45bqD5aCx6KqyLG91PTAwMeS8geeUu+mDqCxkY\n",
      " z1kb2NrZXJuZXQsZGM9Y28sZGM9anA=\n",
      "o:: MDAx5LyB55S76YOo\n",
      "ou:: MDAxMDAy56eY5pu45bqD5aCx6Kqy\n",
      "title:: 5LiA6Iis56S+5ZOh\n",
      "departmentNumber: 001003001011\n",
      "givenName: joruri_test\n",
      "givenName;lang-en: joruri_test\n",
      "sn:: 44K444On44O844Or44Oq\n",
      "sn;lang-en: joruri_test\n",
      "cn:: 44K444On44O844Or44Oq44OG44K544OIMQ==\n",
      "cn;lang-en: joruri\n",
      "uidNumber: 10000001\n",
      "gidNumber: 20000001\n",
      "homeDirectory: /home/joruri_test11\n",
      "objectClass: inetOrgPerson\n",
      "objectClass: organizationalPerson\n",
      "objectClass: person\n",
      "objectClass: posixAccount\n",
      "objectClass: shadowAccount\n",
      "preferredLanguage: ja\n",
      "st:: am9ydXJp5biC\n",
      "mail: joruri_test11@dockernet.co.jp\n",
      "userPassword:: e0NSWVBUfXppNXNhZnAvSHllWGs=\n",
      "uid: 0050011\n",
      "\n"
     ]
    }
   ],
   "source": [
    "%%bash\n",
    "\n",
    "### 初期設定\n",
    "dn=\"dc=dockernet,dc=co,dc=jp\"\n",
    "search=\"(&(objectClass=person)(mail=joruri_test11@dockernet.co.jp))\"\n",
    "\n",
    "### ldap接続確認\n",
    "ldapsearch -x -LLL -b \"${dn}\" -h 127.0.0.1 \"${search}\""
   ]
  },
  {
   "cell_type": "code",
   "execution_count": null,
   "metadata": {
    "collapsed": true
   },
   "outputs": [],
   "source": [
    "%%bash\n",
    "### VIPを付与する"
   ]
  },
  {
   "cell_type": "markdown",
   "metadata": {},
   "source": [
    "## Mailサーバ"
   ]
  },
  {
   "cell_type": "markdown",
   "metadata": {},
   "source": [
    "### imap,smtp,ldap連携"
   ]
  },
  {
   "cell_type": "code",
   "execution_count": 10,
   "metadata": {},
   "outputs": [
    {
     "name": "stdout",
     "output_type": "stream",
     "text": [
      "REPOSITORY                    TAG                 IMAGE ID            CREATED             SIZE\n",
      "ftakao2007/openldap_centos7   latest              572b38993fa4        47 hours ago        596MB\n",
      "ftakao2007/mysql5.6_centos7   latest              09a773ad8e34        3 days ago          2.16GB\n",
      "CONTAINER ID        IMAGE                                COMMAND                  CREATED             STATUS              PORTS                                          NAMES\n",
      "49914008c382        ftakao2007/openldap_centos7:latest   \"sh -c 'exec /usr/...\"   2 minutes ago       Up 2 minutes        0.0.0.0:389->389/tcp, 0.0.0.0:2223->22/tcp     openldap_centos7\n",
      "c91b49b1012f        ftakao2007/mysql5.6_centos7:latest   \"sh -c 'exec /usr/...\"   4 minutes ago       Up 4 minutes        0.0.0.0:3306->3306/tcp, 0.0.0.0:2222->22/tcp   mysql5.6_centos7\n",
      "latest: Pulling from ftakao2007/mail_centos7\n",
      "Digest: sha256:58eebbbaca6eef258fc575f4f2c1d24ff8f68b5f967792f8e9fadfe0714a5d22\n",
      "Status: Downloaded newer image for ftakao2007/mail_centos7:latest\n",
      "REPOSITORY                    TAG                 IMAGE ID            CREATED             SIZE\n",
      "ftakao2007/mail_centos7       latest              0733ee002c86        10 hours ago        656MB\n",
      "ftakao2007/openldap_centos7   latest              572b38993fa4        47 hours ago        596MB\n",
      "ftakao2007/mysql5.6_centos7   latest              09a773ad8e34        3 days ago          2.16GB\n",
      "CONTAINER ID        IMAGE                                COMMAND                  CREATED                  STATUS                  PORTS                                                               NAMES\n",
      "d8eb45ab72c7        ftakao2007/mail_centos7:latest       \"sh -c 'exec /usr/...\"   Less than a second ago   Up Less than a second   0.0.0.0:2224->22/tcp, 0.0.0.0:2525->25/tcp, 0.0.0.0:1143->143/tcp   mail_server_centos7\n",
      "49914008c382        ftakao2007/openldap_centos7:latest   \"sh -c 'exec /usr/...\"   2 minutes ago            Up 2 minutes            0.0.0.0:389->389/tcp, 0.0.0.0:2223->22/tcp                          openldap_centos7\n",
      "c91b49b1012f        ftakao2007/mysql5.6_centos7:latest   \"sh -c 'exec /usr/...\"   5 minutes ago            Up 5 minutes            0.0.0.0:3306->3306/tcp, 0.0.0.0:2222->22/tcp                        mysql5.6_centos7\n"
     ]
    },
    {
     "name": "stderr",
     "output_type": "stream",
     "text": [
      "Pulling mail_server_centos7 (ftakao2007/mail_centos7:latest)...\n",
      "Creating mail_server_centos7\n"
     ]
    }
   ],
   "source": [
    "%%bash\n",
    "### 変数の設定\n",
    "container=\"mail_server_centos7\"\n",
    "docker_compose_file=\"docker-compose_${container}.yml\"\n",
    "smtp_port=\"2525\"\n",
    "imap_port=\"1143\"\n",
    "ssh_port=\"2224\"\n",
    "\n",
    "### イメージ、コンテナが無い状態の確認\n",
    "docker images\n",
    "docker ps -a\n",
    "\n",
    "### docker-composeディレクトリに移動\n",
    "#work_dir=\"/home/jsd/work/build/docker-compose\"\n",
    "work_dir=\"${PYENV_DIR}/work/build/docker-compose\"\n",
    "cd ${work_dir}\n",
    "\n",
    "### docker-composeファイルの作成\n",
    "cat <<- EOS > ${docker_compose_file}\n",
    "${container}:\n",
    "   image: ftakao2007/mail_centos7:latest\n",
    "   container_name: ${container}\n",
    "   privileged: true\n",
    "   tty: true\n",
    "   ports:\n",
    "     - \"${smtp_port}:25\"\n",
    "     - \"${imap_port}:143\"\n",
    "     - \"${ssh_port}:22\"\n",
    "   #command: sh -c '/sbin/init'\n",
    "   command: sh -c 'exec /usr/sbin/init && systemctl restart sshd.service && systemctl restart postfix.service && systemctl restart dovecot.service'\n",
    "EOS\n",
    "\n",
    "### コンテナの作成\n",
    "docker-compose -f ${docker_compose_file} up -d\n",
    "#sleep 80\n",
    "\n",
    "### イメージ、コンテナの確認\n",
    "docker images\n",
    "docker ps -a"
   ]
  },
  {
   "cell_type": "code",
   "execution_count": 15,
   "metadata": {},
   "outputs": [
    {
     "name": "stdout",
     "output_type": "stream",
     "text": [
      "読み込んだプラグイン:fastestmirror\n",
      "Loading mirror speeds from cached hostfile\n",
      " * base: ftp.riken.jp\n",
      " * epel: ftp.riken.jp\n",
      " * extras: ftp.riken.jp\n",
      " * updates: ftp.riken.jp\n",
      "パッケージ mailx-12.5-12.el7_0.x86_64 はインストール済みか最新バージョンです\n",
      "依存性の解決をしています\n",
      "--> トランザクションの確認を実行しています。\n",
      "---> パッケージ fetchmail.x86_64 0:6.3.24-5.el7 を インストール\n",
      "--> 依存性の処理をしています: libhesiod.so.0()(64bit) のパッケージ: fetchmail-6.3.24-5.el7.x86_64\n",
      "---> パッケージ procmail.x86_64 0:3.22-35.el7 を インストール\n",
      "--> トランザクションの確認を実行しています。\n",
      "---> パッケージ hesiod.x86_64 0:3.2.1-3.el7 を インストール\n",
      "--> 依存性解決を終了しました。\n",
      "\n",
      "依存性を解決しました\n",
      "\n",
      "================================================================================\n",
      " Package            アーキテクチャー\n",
      "                                    バージョン              リポジトリー   容量\n",
      "================================================================================\n",
      "インストール中:\n",
      " fetchmail          x86_64          6.3.24-5.el7            base          544 k\n",
      " procmail           x86_64          3.22-35.el7             base          171 k\n",
      "依存性関連でのインストールをします:\n",
      " hesiod             x86_64          3.2.1-3.el7             base           30 k\n",
      "\n",
      "トランザクションの要約\n",
      "================================================================================\n",
      "インストール  2 パッケージ (+1 個の依存関係のパッケージ)\n",
      "\n",
      "総ダウンロード容量: 745 k\n",
      "インストール容量: 2.4 M\n",
      "Downloading packages:\n",
      "--------------------------------------------------------------------------------\n",
      "合計                                               2.8 MB/s | 745 kB  00:00     \n",
      "Running transaction check\n",
      "Running transaction test\n",
      "Transaction test succeeded\n",
      "Running transaction\n",
      "  インストール中          : hesiod-3.2.1-3.el7.x86_64                       1/3 \n",
      "  インストール中          : fetchmail-6.3.24-5.el7.x86_64                   2/3 \n",
      "  インストール中          : procmail-3.22-35.el7.x86_64                     3/3 \n",
      "  検証中                  : hesiod-3.2.1-3.el7.x86_64                       1/3 \n",
      "  検証中                  : fetchmail-6.3.24-5.el7.x86_64                   2/3 \n",
      "  検証中                  : procmail-3.22-35.el7.x86_64                     3/3 \n",
      "\n",
      "インストール:\n",
      "  fetchmail.x86_64 0:6.3.24-5.el7         procmail.x86_64 0:3.22-35.el7        \n",
      "\n",
      "依存性関連をインストールしました:\n",
      "  hesiod.x86_64 0:3.2.1-3.el7                                                   \n",
      "\n",
      "完了しました!\n"
     ]
    }
   ],
   "source": [
    "%%bash\n",
    "### mailxのインストール\n",
    "sudo yum install -y mailx fetchmail procmail"
   ]
  },
  {
   "cell_type": "code",
   "execution_count": 13,
   "metadata": {},
   "outputs": [],
   "source": [
    "%%bash\n",
    "### 設定\n",
    "#mail_server=\"192.168.33.11\"\n",
    "mail_server=\"10.136.3.168\"\n",
    "smtp_port=\"2525\"\n",
    "imap_port=\"1143\"\n",
    "mail_from=\"joruri_test12@dockernet.co.jp\"\n",
    "mail_to=\"joruri_test11@dockernet.co.jp\"\n",
    "\n",
    "### メール送信テスト\n",
    "echo \"mail body\" | mail -s \"mail title\" -S \"smtp=smtp://${mail_server}:${smtp_port}\" -r ${mail_from} ${mail_to}"
   ]
  },
  {
   "cell_type": "code",
   "execution_count": 17,
   "metadata": {},
   "outputs": [
    {
     "name": "stdout",
     "output_type": "stream",
     "text": [
      "1 通のメッセージが アカウント 0050011 , サーバ 10.136.3.168 宛に届いています.\n"
     ]
    }
   ],
   "source": [
    "%%bash\n",
    "### 設定\n",
    "#mail_server=\"192.168.33.11\"\n",
    "mail_server=\"10.136.3.168\"\n",
    "imap_port=\"1143\"\n",
    "\n",
    "### procmailの設定\n",
    "cat <<- EOS > ~/.fetchmailrc\n",
    "poll ${mail_server}\n",
    "  protocol imap\n",
    "  port ${imap_port}\n",
    "  username \"0050011\"\n",
    "  password \"pass\"\n",
    "  mda \"/usr/local/bin/procmail\"\n",
    "EOS\n",
    "chmod 700 ~/.fetchmailrc\n",
    "\n",
    "### postfixの設定変更。メールサーバを既存で使ってる場合は設定に注意\n",
    "sudo sed -i -e 's/#mailbox_command = \\/some\\/where\\/procmail$/mailbox_command = \\/usr\\/bin\\/procmail/' /etc/postfix/main.cf\n",
    "\n",
    "### メールが届いていることの確認\n",
    "fetchmail -c"
   ]
  },
  {
   "cell_type": "code",
   "execution_count": null,
   "metadata": {
    "collapsed": true
   },
   "outputs": [],
   "source": [
    "%%bash\n",
    "### VIPを付与する"
   ]
  },
  {
   "cell_type": "markdown",
   "metadata": {},
   "source": [
    "### imap,smtp,ldap連携 + Joruriのvirtualプラグイン設定"
   ]
  },
  {
   "cell_type": "code",
   "execution_count": 18,
   "metadata": {
    "scrolled": true
   },
   "outputs": [
    {
     "name": "stdout",
     "output_type": "stream",
     "text": [
      "REPOSITORY                    TAG                 IMAGE ID            CREATED             SIZE\n",
      "ftakao2007/mail_centos7       latest              0733ee002c86        10 hours ago        656MB\n",
      "ftakao2007/openldap_centos7   latest              572b38993fa4        47 hours ago        596MB\n",
      "ftakao2007/mysql5.6_centos7   latest              09a773ad8e34        3 days ago          2.16GB\n",
      "CONTAINER ID        IMAGE                                COMMAND                  CREATED             STATUS              PORTS                                                               NAMES\n",
      "d8eb45ab72c7        ftakao2007/mail_centos7:latest       \"sh -c 'exec /usr/...\"   5 minutes ago       Up 5 minutes        0.0.0.0:2224->22/tcp, 0.0.0.0:2525->25/tcp, 0.0.0.0:1143->143/tcp   mail_server_centos7\n",
      "49914008c382        ftakao2007/openldap_centos7:latest   \"sh -c 'exec /usr/...\"   7 minutes ago       Up 7 minutes        0.0.0.0:389->389/tcp, 0.0.0.0:2223->22/tcp                          openldap_centos7\n",
      "c91b49b1012f        ftakao2007/mysql5.6_centos7:latest   \"sh -c 'exec /usr/...\"   10 minutes ago      Up 10 minutes       0.0.0.0:3306->3306/tcp, 0.0.0.0:2222->22/tcp                        mysql5.6_centos7\n",
      "virtual_for_jorurimail: Pulling from ftakao2007/mail_centos7\n",
      "Digest: sha256:149a0f136e49f0536a28d4842d02c2587aef39e45e947767012b09491bcdcbc2\n",
      "Status: Downloaded newer image for ftakao2007/mail_centos7:virtual_for_jorurimail\n",
      "REPOSITORY                    TAG                      IMAGE ID            CREATED             SIZE\n",
      "ftakao2007/mail_centos7       virtual_for_jorurimail   35e0eebeeb79        9 hours ago         657MB\n",
      "ftakao2007/mail_centos7       latest                   0733ee002c86        10 hours ago        656MB\n",
      "ftakao2007/openldap_centos7   latest                   572b38993fa4        47 hours ago        596MB\n",
      "ftakao2007/mysql5.6_centos7   latest                   09a773ad8e34        3 days ago          2.16GB\n",
      "CONTAINER ID        IMAGE                                            COMMAND                  CREATED             STATUS                  PORTS                                                               NAMES\n",
      "01faf6b40cba        ftakao2007/mail_centos7:virtual_for_jorurimail   \"sh -c 'exec /usr/...\"   1 second ago        Up Less than a second   0.0.0.0:2225->22/tcp, 0.0.0.0:2526->25/tcp, 0.0.0.0:1144->143/tcp   mail_server_virtual_for_jorurimail_centos7\n",
      "d8eb45ab72c7        ftakao2007/mail_centos7:latest                   \"sh -c 'exec /usr/...\"   5 minutes ago       Up 5 minutes            0.0.0.0:2224->22/tcp, 0.0.0.0:2525->25/tcp, 0.0.0.0:1143->143/tcp   mail_server_centos7\n",
      "49914008c382        ftakao2007/openldap_centos7:latest               \"sh -c 'exec /usr/...\"   8 minutes ago       Up 8 minutes            0.0.0.0:389->389/tcp, 0.0.0.0:2223->22/tcp                          openldap_centos7\n",
      "c91b49b1012f        ftakao2007/mysql5.6_centos7:latest               \"sh -c 'exec /usr/...\"   10 minutes ago      Up 10 minutes           0.0.0.0:3306->3306/tcp, 0.0.0.0:2222->22/tcp                        mysql5.6_centos7\n"
     ]
    },
    {
     "name": "stderr",
     "output_type": "stream",
     "text": [
      "Pulling mail_server_virtual_for_jorurimail_centos7 (ftakao2007/mail_centos7:virtual_for_jorurimail)...\n",
      "Creating mail_server_virtual_for_jorurimail_centos7\n"
     ]
    }
   ],
   "source": [
    "%%bash\n",
    "### 変数の設定\n",
    "container=\"mail_server_virtual_for_jorurimail_centos7\"\n",
    "docker_compose_file=\"docker-compose_${container}.yml\"\n",
    "smtp_port=\"2526\"\n",
    "imap_port=\"1144\"\n",
    "ssh_port=\"2225\"\n",
    "\n",
    "### イメージ、コンテナが無い状態の確認\n",
    "docker images\n",
    "docker ps -a\n",
    "\n",
    "### docker-composeディレクトリに移動\n",
    "#work_dir=\"/home/jsd/work/build/docker-compose\"\n",
    "work_dir=\"${PYENV_DIR}/work/build/docker-compose\"\n",
    "cd ${work_dir}\n",
    "\n",
    "### docker-composeファイルの作成\n",
    "cat <<- EOS > ${docker_compose_file}\n",
    "${container}:\n",
    "   image: ftakao2007/mail_centos7:virtual_for_jorurimail\n",
    "   container_name: ${container}\n",
    "   privileged: true\n",
    "   tty: true\n",
    "   ports:\n",
    "     - \"${smtp_port}:25\"\n",
    "     - \"${imap_port}:143\"\n",
    "     - \"${ssh_port}:22\"\n",
    "   #command: sh -c '/sbin/init'\n",
    "   command: sh -c 'exec /usr/sbin/init && systemctl restart sshd.service && systemctl restart postfix.service && systemctl restart dovecot.service'\n",
    "EOS\n",
    "\n",
    "### コンテナの作成\n",
    "docker-compose -f ${docker_compose_file} up -d\n",
    "#sleep 80\n",
    "\n",
    "### イメージ、コンテナの確認\n",
    "docker images\n",
    "docker ps -a"
   ]
  },
  {
   "cell_type": "code",
   "execution_count": null,
   "metadata": {
    "collapsed": true
   },
   "outputs": [],
   "source": [
    "%%bash\n",
    "### VIPを付与する"
   ]
  }
 ],
 "metadata": {
  "kernelspec": {
   "display_name": "Python 3",
   "language": "python",
   "name": "python3"
  },
  "language_info": {
   "codemirror_mode": {
    "name": "ipython",
    "version": 3
   },
   "file_extension": ".py",
   "mimetype": "text/x-python",
   "name": "python",
   "nbconvert_exporter": "python",
   "pygments_lexer": "ipython3",
   "version": "3.6.1"
  }
 },
 "nbformat": 4,
 "nbformat_minor": 2
}
