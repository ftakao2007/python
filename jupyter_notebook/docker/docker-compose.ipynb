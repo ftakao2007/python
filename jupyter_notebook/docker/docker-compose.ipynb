{
 "cells": [
  {
   "cell_type": "markdown",
   "metadata": {},
   "source": [
    "# docker-compose"
   ]
  },
  {
   "cell_type": "markdown",
   "metadata": {},
   "source": [
    "## コンテナ設定リスト\n",
    "\n",
    "|コンテナ|サービス|VIP|port|\n",
    "|---|---|---|---|\n",
    "|mysql5.6|mysql|172.17.33.11|3306|\n",
    "|mysql5.6|ssh|172.17.33.11|2222|\n",
    "|openldap|ldap|172.17.33.12|389|\n",
    "|openldap|ssh|172.17.33.12|2223|\n",
    "|mail_server|imap|172.17.33.13|1143|\n",
    "|mail_server|smtp|172.17.33.13|2525|\n",
    "|mail_server|ssh|172.17.33.13|2224|\n",
    "|mail_server_virtual_for joruri|imap|172.17.33.14|1144|\n",
    "|mail_server_virtual_for joruri|smtp|172.17.33.14|2526|\n",
    "|mail_server_virtual_for joruri|ssh|172.17.33.14|2224|"
   ]
  },
  {
   "cell_type": "markdown",
   "metadata": {},
   "source": [
    "## 現在のステータス"
   ]
  },
  {
   "cell_type": "markdown",
   "metadata": {},
   "source": [
    "### イメージリスト"
   ]
  },
  {
   "cell_type": "code",
   "execution_count": 6,
   "metadata": {},
   "outputs": [
    {
     "data": {
      "text/html": [
       "<div>\n",
       "<style>\n",
       "    .dataframe thead tr:only-child th {\n",
       "        text-align: right;\n",
       "    }\n",
       "\n",
       "    .dataframe thead th {\n",
       "        text-align: left;\n",
       "    }\n",
       "\n",
       "    .dataframe tbody tr th {\n",
       "        vertical-align: top;\n",
       "    }\n",
       "</style>\n",
       "<table border=\"1\" class=\"dataframe\">\n",
       "  <thead>\n",
       "    <tr style=\"text-align: right;\">\n",
       "      <th></th>\n",
       "      <th>REPOSITORY</th>\n",
       "      <th>TAG</th>\n",
       "      <th>IMAGE ID</th>\n",
       "      <th>CREATED</th>\n",
       "      <th>SIZE</th>\n",
       "    </tr>\n",
       "  </thead>\n",
       "  <tbody>\n",
       "    <tr>\n",
       "      <th>0</th>\n",
       "      <td>ftakao2007/mysql5.6_centos7</td>\n",
       "      <td>latest</td>\n",
       "      <td>09a773ad8e34</td>\n",
       "      <td>6 days ago</td>\n",
       "      <td>2.16GB</td>\n",
       "    </tr>\n",
       "    <tr>\n",
       "      <th>1</th>\n",
       "      <td>ftakao2007/openldap_centos7</td>\n",
       "      <td>latest</td>\n",
       "      <td>572b38993fa4</td>\n",
       "      <td>4 days ago</td>\n",
       "      <td>596MB</td>\n",
       "    </tr>\n",
       "    <tr>\n",
       "      <th>2</th>\n",
       "      <td>ftakao2007/mail_centos7</td>\n",
       "      <td>latest</td>\n",
       "      <td>0733ee002c86</td>\n",
       "      <td>2 days ago</td>\n",
       "      <td>656MB</td>\n",
       "    </tr>\n",
       "    <tr>\n",
       "      <th>3</th>\n",
       "      <td>ftakao2007/mail_centos7</td>\n",
       "      <td>virtual_for_jorurimail</td>\n",
       "      <td>35e0eebeeb79</td>\n",
       "      <td>2 days ago</td>\n",
       "      <td>657MB</td>\n",
       "    </tr>\n",
       "  </tbody>\n",
       "</table>\n",
       "</div>"
      ],
      "text/plain": [
       "                    REPOSITORY                      TAG       IMAGE ID  \\\n",
       "0  ftakao2007/mysql5.6_centos7                   latest   09a773ad8e34   \n",
       "1  ftakao2007/openldap_centos7                   latest   572b38993fa4   \n",
       "2      ftakao2007/mail_centos7                   latest   0733ee002c86   \n",
       "3      ftakao2007/mail_centos7   virtual_for_jorurimail   35e0eebeeb79   \n",
       "\n",
       "      CREATED    SIZE  \n",
       "0  6 days ago  2.16GB  \n",
       "1  4 days ago   596MB  \n",
       "2  2 days ago   656MB  \n",
       "3  2 days ago   657MB  "
      ]
     },
     "execution_count": 6,
     "metadata": {},
     "output_type": "execute_result"
    }
   ],
   "source": [
    "import pandas as pd\n",
    "import subprocess\n",
    "import sys\n",
    "\n",
    "### コマンドの実行結果を取得する\n",
    "res = subprocess.run([\"docker\", \"images\"], stdout=subprocess.PIPE)\n",
    "\n",
    "### バイト列を文字列にする\n",
    "a = res.stdout.decode('utf-8')\n",
    "#print(a)\n",
    "\n",
    "### 改行を区切りに要素に入れる\n",
    "b = a.split(\"\\n\")\n",
    "#print(b)\n",
    "\n",
    "### それぞれの要素で半角空白2文字を区切り文字にし、空の要素は除く\n",
    "c = []\n",
    "for i in range(len(b)):\n",
    "    item = b[i]\n",
    "    if i != 0:\n",
    "        c.insert(0,tuple(filter(lambda x: x != '', item.split(\"  \"))))\n",
    "#print(c)\n",
    "        \n",
    "### 列名をリストcolに入れる\n",
    "col = list(filter(lambda x: x != '', b[0].split(\"  \")))\n",
    "\n",
    "### データをデータフレームに入れて出力する\n",
    "del c[0]\n",
    "df = pd.DataFrame(c, columns=col)\n",
    "df"
   ]
  },
  {
   "cell_type": "code",
   "execution_count": 23,
   "metadata": {},
   "outputs": [
    {
     "data": {
      "text/html": [
       "<div>\n",
       "<style>\n",
       "    .dataframe thead tr:only-child th {\n",
       "        text-align: right;\n",
       "    }\n",
       "\n",
       "    .dataframe thead th {\n",
       "        text-align: left;\n",
       "    }\n",
       "\n",
       "    .dataframe tbody tr th {\n",
       "        vertical-align: top;\n",
       "    }\n",
       "</style>\n",
       "<table border=\"1\" class=\"dataframe\">\n",
       "  <thead>\n",
       "    <tr style=\"text-align: right;\">\n",
       "      <th></th>\n",
       "      <th>CONTAINER ID</th>\n",
       "      <th>IMAGE</th>\n",
       "      <th>PORTS</th>\n",
       "      <th>NAMES</th>\n",
       "    </tr>\n",
       "  </thead>\n",
       "  <tbody>\n",
       "    <tr>\n",
       "      <th>0</th>\n",
       "      <td>c91b49b1012f</td>\n",
       "      <td>ftakao2007/mysql5.6_centos7:latest</td>\n",
       "      <td>0.0.0.0:3306-&gt;3306/tcp, 0.0.0.0:2222-&gt;22/tcp</td>\n",
       "      <td>mysql5.6_centos7</td>\n",
       "    </tr>\n",
       "    <tr>\n",
       "      <th>1</th>\n",
       "      <td>49914008c382</td>\n",
       "      <td>ftakao2007/openldap_centos7:latest</td>\n",
       "      <td>0.0.0.0:389-&gt;389/tcp, 0.0.0.0:2223-&gt;22/tcp</td>\n",
       "      <td>openldap_centos7</td>\n",
       "    </tr>\n",
       "    <tr>\n",
       "      <th>2</th>\n",
       "      <td>d8eb45ab72c7</td>\n",
       "      <td>ftakao2007/mail_centos7:latest</td>\n",
       "      <td>0.0.0.0:2224-&gt;22/tcp, 0.0.0.0:2525-&gt;25/tcp, 0...</td>\n",
       "      <td>mail_server_centos7</td>\n",
       "    </tr>\n",
       "    <tr>\n",
       "      <th>3</th>\n",
       "      <td>01faf6b40cba</td>\n",
       "      <td>ftakao2007/mail_centos7:virtual_for_jorurimail</td>\n",
       "      <td>0.0.0.0:2225-&gt;22/tcp, 0.0.0.0:2526-&gt;25/tcp, 0...</td>\n",
       "      <td>mail_server_virtual_for_jorurimail_centos7</td>\n",
       "    </tr>\n",
       "  </tbody>\n",
       "</table>\n",
       "</div>"
      ],
      "text/plain": [
       "   CONTAINER ID                                           IMAGE  \\\n",
       "0  c91b49b1012f              ftakao2007/mysql5.6_centos7:latest   \n",
       "1  49914008c382              ftakao2007/openldap_centos7:latest   \n",
       "2  d8eb45ab72c7                  ftakao2007/mail_centos7:latest   \n",
       "3  01faf6b40cba  ftakao2007/mail_centos7:virtual_for_jorurimail   \n",
       "\n",
       "                                               PORTS  \\\n",
       "0       0.0.0.0:3306->3306/tcp, 0.0.0.0:2222->22/tcp   \n",
       "1         0.0.0.0:389->389/tcp, 0.0.0.0:2223->22/tcp   \n",
       "2   0.0.0.0:2224->22/tcp, 0.0.0.0:2525->25/tcp, 0...   \n",
       "3   0.0.0.0:2225->22/tcp, 0.0.0.0:2526->25/tcp, 0...   \n",
       "\n",
       "                                         NAMES  \n",
       "0                             mysql5.6_centos7  \n",
       "1                             openldap_centos7  \n",
       "2                          mail_server_centos7  \n",
       "3   mail_server_virtual_for_jorurimail_centos7  "
      ]
     },
     "execution_count": 23,
     "metadata": {},
     "output_type": "execute_result"
    }
   ],
   "source": [
    "import pandas as pd\n",
    "import subprocess\n",
    "import sys\n",
    "\n",
    "### コマンドの実行結果を取得する\n",
    "res = subprocess.run(['docker', 'ps', '-a'], stdout=subprocess.PIPE)\n",
    "\n",
    "### バイト列を文字列にする\n",
    "a = res.stdout.decode('utf-8')\n",
    "#print(a)\n",
    "\n",
    "### 改行を区切りに要素に入れる\n",
    "b = a.split(\"\\n\")\n",
    "#print(b)\n",
    "\n",
    "### それぞれの要素で半角空白2文字を区切り文字にし、空の要素は除く\n",
    "c = []\n",
    "for i in range(len(b)):\n",
    "    item = b[i]\n",
    "    if i != 0:\n",
    "        c.insert(0,tuple(filter(lambda x: x != '', item.split(\"  \"))))\n",
    "#print(c)\n",
    "        \n",
    "### 列名をリストcolに入れる\n",
    "col = list(filter(lambda x: x != '', b[0].split(\"  \")))\n",
    "\n",
    "### データをデータフレームに入れて出力する\n",
    "del c[0]\n",
    "df = pd.DataFrame(c, columns=col)\n",
    "df\n",
    "\n",
    "\n",
    "\n",
    "### COMMAND,CREATED,STATUS列を削除する\n",
    "del_command = []\n",
    "for i in c:\n",
    "    i_tmp = list(i)\n",
    "    del i_tmp[2:5]\n",
    "    del_command.append(tuple(i_tmp))\n",
    "del col[2:5]\n",
    "df = pd.DataFrame(del_command, columns=col)\n",
    "df"
   ]
  },
  {
   "cell_type": "code",
   "execution_count": 24,
   "metadata": {},
   "outputs": [
    {
     "name": "stdout",
     "output_type": "stream",
     "text": [
      "b'CONTAINER ID        IMAGE                                            COMMAND                  CREATED             STATUS              PORTS                                                               NAMES\\n01faf6b40cba        ftakao2007/mail_centos7:virtual_for_jorurimail   \"sh -c \\'exec /usr/...\"   2 days ago          Up 2 days           0.0.0.0:2225->22/tcp, 0.0.0.0:2526->25/tcp, 0.0.0.0:1144->143/tcp   mail_server_virtual_for_jorurimail_centos7\\nd8eb45ab72c7        ftakao2007/mail_centos7:latest                   \"sh -c \\'exec /usr/...\"   2 days ago          Up 2 days           0.0.0.0:2224->22/tcp, 0.0.0.0:2525->25/tcp, 0.0.0.0:1143->143/tcp   mail_server_centos7\\n49914008c382        ftakao2007/openldap_centos7:latest               \"sh -c \\'exec /usr/...\"   2 days ago          Up 2 days           0.0.0.0:389->389/tcp, 0.0.0.0:2223->22/tcp                          openldap_centos7\\nc91b49b1012f        ftakao2007/mysql5.6_centos7:latest               \"sh -c \\'exec /usr/...\"   2 days ago          Up 2 days           0.0.0.0:3306->3306/tcp, 0.0.0.0:2222->22/tcp                        mysql5.6_centos7\\n'\n"
     ]
    }
   ],
   "source": [
    "import subprocess\n",
    "args = ['docker', 'ps', '-a']\n",
    "try:\n",
    "    res = subprocess.check_output(args)\n",
    "    print(res)\n",
    "except:\n",
    "    print(\"Error.\")"
   ]
  },
  {
   "cell_type": "code",
   "execution_count": 14,
   "metadata": {
    "scrolled": true
   },
   "outputs": [
    {
     "name": "stdout",
     "output_type": "stream",
     "text": [
      "REPOSITORY                    TAG                      IMAGE ID            CREATED             SIZE\n",
      "ftakao2007/mail_centos7       virtual_for_jorurimail   35e0eebeeb79        18 hours ago        657MB\n",
      "ftakao2007/mail_centos7       latest                   0733ee002c86        19 hours ago        656MB\n",
      "ftakao2007/openldap_centos7   latest                   572b38993fa4        2 days ago          596MB\n",
      "ftakao2007/mysql5.6_centos7   latest                   09a773ad8e34        4 days ago          2.16GB\n",
      "ftakao2007/centos7            latest                   0fede72fa1fe        4 days ago          488MB\n"
     ]
    }
   ],
   "source": [
    "%%bash\n",
    "docker images"
   ]
  },
  {
   "cell_type": "markdown",
   "metadata": {},
   "source": [
    "### コンテナリスト"
   ]
  },
  {
   "cell_type": "code",
   "execution_count": 15,
   "metadata": {
    "scrolled": true
   },
   "outputs": [
    {
     "name": "stdout",
     "output_type": "stream",
     "text": [
      "CONTAINER ID        IMAGE                                            COMMAND                  CREATED             STATUS              PORTS                                                               NAMES\n",
      "d466248a93d9        ftakao2007/mail_centos7:virtual_for_jorurimail   \"sh -c 'exec /usr/...\"   6 minutes ago       Up 6 minutes        0.0.0.0:2225->22/tcp, 0.0.0.0:2526->25/tcp, 0.0.0.0:1144->143/tcp   mail_server_virtual_for_jorurimail_centos7\n",
      "8784dfcb21c3        ftakao2007/mail_centos7:latest                   \"sh -c 'exec /usr/...\"   22 minutes ago      Up 22 minutes       0.0.0.0:2224->22/tcp, 0.0.0.0:2525->25/tcp, 0.0.0.0:1143->143/tcp   mail_server_centos7\n",
      "3bc5d977b203        ftakao2007/openldap_centos7:latest               \"sh -c 'exec /usr/...\"   26 minutes ago      Up 26 minutes       0.0.0.0:389->389/tcp, 0.0.0.0:2223->22/tcp                          openldap_centos7\n",
      "4c0ae849ad6a        ftakao2007/mysql5.6_centos7:latest               \"sh -c 'exec /usr/...\"   29 minutes ago      Up 29 minutes       0.0.0.0:3306->3306/tcp, 0.0.0.0:2222->22/tcp                        mysql5.6_centos7\n"
     ]
    }
   ],
   "source": [
    "%%bash\n",
    "docker ps -a"
   ]
  },
  {
   "cell_type": "markdown",
   "metadata": {},
   "source": [
    "### 以下テスト中"
   ]
  },
  {
   "cell_type": "code",
   "execution_count": null,
   "metadata": {
    "collapsed": true
   },
   "outputs": [],
   "source": [
    "import pandas as pd\n",
    "import subprocess\n",
    "import sys\n",
    "\n",
    "### コマンドの実行結果を取得する\n",
    "res = subprocess.run([\"docker\", \"images\"], stdout=subprocess.PIPE)\n",
    "\n",
    "### バイト列を文字列にする\n",
    "a = res.stdout.decode('utf-8')\n",
    "#print(a)\n",
    "\n",
    "### 改行を区切りに要素に入れる\n",
    "b = a.split(\"\\n\")\n",
    "#print(b)\n",
    "\n",
    "### それぞれの要素で半角空白2文字を区切り文字にし、空の要素は除く\n",
    "c = []\n",
    "for i in range(len(b)):\n",
    "    item = b[i]\n",
    "    if i != 0:\n",
    "        c.insert(0,tuple(filter(lambda x: x != '', item.split(\"  \"))))\n",
    "#print(c)\n",
    "\n",
    "pd_index = []\n",
    "for i in c[1:]:\n",
    "    pd_index.append(i[2])\n",
    "print(pd_index)\n",
    "        \n",
    "### 列名をリストcolに入れる\n",
    "col = list(filter(lambda x: x != '', b[0].split(\"  \")))\n",
    "\n",
    "### データをデータフレームに入れて出力する\n",
    "df = pd.DataFrame(c[1:], columns=col, index=pd_index)\n",
    "df"
   ]
  }
 ],
 "metadata": {
  "kernelspec": {
   "display_name": "Python 3",
   "language": "python",
   "name": "python3"
  },
  "language_info": {
   "codemirror_mode": {
    "name": "ipython",
    "version": 3
   },
   "file_extension": ".py",
   "mimetype": "text/x-python",
   "name": "python",
   "nbconvert_exporter": "python",
   "pygments_lexer": "ipython3",
   "version": "3.6.1"
  }
 },
 "nbformat": 4,
 "nbformat_minor": 2
}
