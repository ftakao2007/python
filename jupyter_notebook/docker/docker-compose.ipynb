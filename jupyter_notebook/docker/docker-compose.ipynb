{
 "cells": [
  {
   "cell_type": "markdown",
   "metadata": {},
   "source": [
    "# docker-compose"
   ]
  },
  {
   "cell_type": "markdown",
   "metadata": {},
   "source": [
    "## list\n",
    "\n",
    "|コンテナ|サービス|port|\n",
    "|---|---|---|\n",
    "|MySQL|mysql|3306|\n",
    "|MySQL|ssh|2222|\n",
    "|openldap|ldap|389|\n",
    "|openldap|ssh|2223|\n"
   ]
  },
  {
   "cell_type": "markdown",
   "metadata": {},
   "source": [
    "## MySQL"
   ]
  },
  {
   "cell_type": "markdown",
   "metadata": {},
   "source": [
    "### dockerhostの設定"
   ]
  },
  {
   "cell_type": "code",
   "execution_count": 36,
   "metadata": {},
   "outputs": [
    {
     "name": "stdout",
     "output_type": "stream",
     "text": [
      "Loaded plugins: fastestmirror\n",
      "Examining /var/tmp/yum-root-vps5IL/mysql-community-release-el7-5.noarch.rpm: mysql-community-release-el7-5.noarch\n",
      "/var/tmp/yum-root-vps5IL/mysql-community-release-el7-5.noarch.rpm: does not update installed package.\n",
      "Loaded plugins: fastestmirror\n",
      "Loading mirror speeds from cached hostfile\n",
      " * base: mirror.qoxy.com\n",
      " * epel: mirror.vinahost.vn\n",
      " * extras: mirror.nus.edu.sg\n",
      " * updates: mirror.qoxy.com\n",
      "Package mysql-community-client-5.6.36-2.el7.x86_64 already installed and latest version\n",
      "Nothing to do\n"
     ]
    },
    {
     "name": "stderr",
     "output_type": "stream",
     "text": [
      "Error: Nothing to do\n"
     ]
    }
   ],
   "source": [
    "%%bash\n",
    "### mysqlクライアントのインストール(CentOS7)\n",
    "sudo yum install -y http://dev.mysql.com/get/mysql-community-release-el7-5.noarch.rpm\n",
    "sudo yum install -y mysql-community-client.x86_64"
   ]
  },
  {
   "cell_type": "markdown",
   "metadata": {},
   "source": [
    "### コンテナの作成"
   ]
  },
  {
   "cell_type": "code",
   "execution_count": 11,
   "metadata": {},
   "outputs": [
    {
     "name": "stdout",
     "output_type": "stream",
     "text": [
      "REPOSITORY                    TAG                 IMAGE ID            CREATED             SIZE\n",
      "ftakao2007/mail_centos7       latest              1e155bef8bad        2 hours ago         582MB\n",
      "ftakao2007/openldap_centos7   latest              572b38993fa4        24 hours ago        596MB\n",
      "ftakao2007/mysql5.6_centos7   latest              09a773ad8e34        2 days ago          2.16GB\n",
      "ftakao2007/centos7            latest              0fede72fa1fe        2 days ago          488MB\n",
      "CONTAINER ID        IMAGE                                COMMAND                  CREATED             STATUS              PORTS                                          NAMES\n",
      "57fc8cd1f746        ftakao2007/openldap_centos7:latest   \"sh -c 'exec /usr/...\"   3 minutes ago       Up 3 minutes        0.0.0.0:389->389/tcp, 0.0.0.0:2223->22/tcp     openldap_centos7\n",
      "ebd21afca604        ftakao2007/mysql5.6_centos7:latest   \"sh -c 'exec /usr/...\"   2 hours ago         Up 2 hours          0.0.0.0:3306->3306/tcp, 0.0.0.0:2222->22/tcp   mysql5.6_centos7\n",
      "REPOSITORY                    TAG                 IMAGE ID            CREATED             SIZE\n",
      "ftakao2007/mail_centos7       latest              1e155bef8bad        2 hours ago         582MB\n",
      "ftakao2007/openldap_centos7   latest              572b38993fa4        24 hours ago        596MB\n",
      "ftakao2007/mysql5.6_centos7   latest              09a773ad8e34        2 days ago          2.16GB\n",
      "ftakao2007/centos7            latest              0fede72fa1fe        2 days ago          488MB\n",
      "CONTAINER ID        IMAGE                                COMMAND                  CREATED             STATUS              PORTS                                          NAMES\n",
      "57fc8cd1f746        ftakao2007/openldap_centos7:latest   \"sh -c 'exec /usr/...\"   5 minutes ago       Up 5 minutes        0.0.0.0:389->389/tcp, 0.0.0.0:2223->22/tcp     openldap_centos7\n",
      "ebd21afca604        ftakao2007/mysql5.6_centos7:latest   \"sh -c 'exec /usr/...\"   2 hours ago         Up 2 hours          0.0.0.0:3306->3306/tcp, 0.0.0.0:2222->22/tcp   mysql5.6_centos7\n",
      "CURDATE()\n",
      "2017-07-17\n"
     ]
    },
    {
     "name": "stderr",
     "output_type": "stream",
     "text": [
      "mysql5.6_centos7 is up-to-date\n"
     ]
    }
   ],
   "source": [
    "%%bash\n",
    "### 変数の設定\n",
    "container=\"mysql5.6_centos7\"\n",
    "docker_compose_file=\"docker-compose_${container}.yml\"\n",
    "mysql_port=\"3306\"\n",
    "ssh_port=\"2222\"\n",
    "\n",
    "### イメージ、コンテナが無い状態の確認\n",
    "docker images\n",
    "docker ps -a\n",
    "\n",
    "### docker-composeディレクトリに移動\n",
    "#work_dir=\"/home/jsd/work/build/docker-compose\"\n",
    "work_dir=\"${PYENV_DIR}/work/build/docker-compose\"\n",
    "cd ${work_dir}\n",
    "\n",
    "### docker-composeファイルの作成\n",
    "cat <<- EOS > ${docker_compose_file}\n",
    "${container}:\n",
    "   image: ftakao2007/mysql5.6_centos7:latest\n",
    "   container_name: ${container}\n",
    "   privileged: true\n",
    "   tty: true\n",
    "   ports:\n",
    "     - \"${mysql_port}:3306\"\n",
    "     - \"${ssh_port}:22\"\n",
    "   #command: sh -c '/sbin/init'\n",
    "   command: sh -c 'exec /usr/sbin/init && systemctl restart sshd.service && systemctl restart mysqld.service'\n",
    "EOS\n",
    "\n",
    "### コンテナの作成\n",
    "docker-compose -f ${docker_compose_file} up -d\n",
    "sleep 80\n",
    "\n",
    "### イメージ、コンテナの確認\n",
    "docker images\n",
    "docker ps -a\n",
    "\n",
    "### mysql接続\n",
    "mysql -ujoruri -p'pass' -h 127.0.0.1 -P 3306 -e \"SELECT CURDATE();\" 2> /dev/null"
   ]
  },
  {
   "cell_type": "markdown",
   "metadata": {},
   "source": [
    "## LDAP"
   ]
  },
  {
   "cell_type": "markdown",
   "metadata": {},
   "source": [
    "### dockerhostの設定"
   ]
  },
  {
   "cell_type": "code",
   "execution_count": 8,
   "metadata": {},
   "outputs": [
    {
     "name": "stdout",
     "output_type": "stream",
     "text": [
      "Loaded plugins: fastestmirror\n",
      "Loading mirror speeds from cached hostfile\n",
      " * base: mirror.nus.edu.sg\n",
      " * extras: download.nus.edu.sg\n",
      " * updates: mirror.qoxy.com\n",
      "Package openldap-2.4.40-13.el7.x86_64 already installed and latest version\n",
      "Resolving Dependencies\n",
      "--> Running transaction check\n",
      "---> Package openldap-clients.x86_64 0:2.4.40-13.el7 will be installed\n",
      "--> Finished Dependency Resolution\n",
      "\n",
      "Dependencies Resolved\n",
      "\n",
      "================================================================================\n",
      " Package                 Arch          Version                Repository   Size\n",
      "================================================================================\n",
      "Installing:\n",
      " openldap-clients        x86_64        2.4.40-13.el7          base        188 k\n",
      "\n",
      "Transaction Summary\n",
      "================================================================================\n",
      "Install  1 Package\n",
      "\n",
      "Total download size: 188 k\n",
      "Installed size: 570 k\n",
      "Downloading packages:\n",
      "Running transaction check\n",
      "Running transaction test\n",
      "Transaction test succeeded\n",
      "Running transaction\n",
      "  Installing : openldap-clients-2.4.40-13.el7.x86_64                        1/1 \n",
      "  Verifying  : openldap-clients-2.4.40-13.el7.x86_64                        1/1 \n",
      "\n",
      "Installed:\n",
      "  openldap-clients.x86_64 0:2.4.40-13.el7                                       \n",
      "\n",
      "Complete!\n"
     ]
    }
   ],
   "source": [
    "%%bash\n",
    "### ldapクライアントのインストール(CentOS7)\n",
    "sudo yum install -y openldap openldap-clients"
   ]
  },
  {
   "cell_type": "code",
   "execution_count": 12,
   "metadata": {},
   "outputs": [
    {
     "name": "stdout",
     "output_type": "stream",
     "text": [
      "REPOSITORY                    TAG                 IMAGE ID            CREATED             SIZE\n",
      "ftakao2007/mail_centos7       latest              1e155bef8bad        2 hours ago         582MB\n",
      "ftakao2007/openldap_centos7   latest              572b38993fa4        24 hours ago        596MB\n",
      "ftakao2007/mysql5.6_centos7   latest              09a773ad8e34        2 days ago          2.16GB\n",
      "ftakao2007/centos7            latest              0fede72fa1fe        2 days ago          488MB\n",
      "CONTAINER ID        IMAGE                                COMMAND                  CREATED             STATUS              PORTS                                          NAMES\n",
      "57fc8cd1f746        ftakao2007/openldap_centos7:latest   \"sh -c 'exec /usr/...\"   5 minutes ago       Up 5 minutes        0.0.0.0:389->389/tcp, 0.0.0.0:2223->22/tcp     openldap_centos7\n",
      "ebd21afca604        ftakao2007/mysql5.6_centos7:latest   \"sh -c 'exec /usr/...\"   2 hours ago         Up 2 hours          0.0.0.0:3306->3306/tcp, 0.0.0.0:2222->22/tcp   mysql5.6_centos7\n",
      "REPOSITORY                    TAG                 IMAGE ID            CREATED             SIZE\n",
      "ftakao2007/mail_centos7       latest              1e155bef8bad        2 hours ago         582MB\n",
      "ftakao2007/openldap_centos7   latest              572b38993fa4        24 hours ago        596MB\n",
      "ftakao2007/mysql5.6_centos7   latest              09a773ad8e34        2 days ago          2.16GB\n",
      "ftakao2007/centos7            latest              0fede72fa1fe        2 days ago          488MB\n",
      "CONTAINER ID        IMAGE                                COMMAND                  CREATED             STATUS              PORTS                                          NAMES\n",
      "57fc8cd1f746        ftakao2007/openldap_centos7:latest   \"sh -c 'exec /usr/...\"   5 minutes ago       Up 5 minutes        0.0.0.0:389->389/tcp, 0.0.0.0:2223->22/tcp     openldap_centos7\n",
      "ebd21afca604        ftakao2007/mysql5.6_centos7:latest   \"sh -c 'exec /usr/...\"   2 hours ago         Up 2 hours          0.0.0.0:3306->3306/tcp, 0.0.0.0:2222->22/tcp   mysql5.6_centos7\n",
      "dn:: dWlkPTAwNTAwMTEsb3U9MDAxMDAy56eY5pu45bqD5aCx6KqyLG91PTAwMeS8geeUu+mDqCxkY\n",
      " z1kb2NrZXJuZXQsZGM9Y28sZGM9anA=\n",
      "o:: MDAx5LyB55S76YOo\n",
      "ou:: MDAxMDAy56eY5pu45bqD5aCx6Kqy\n",
      "title:: 5LiA6Iis56S+5ZOh\n",
      "departmentNumber: 001003001011\n",
      "givenName: joruri_test\n",
      "givenName;lang-en: joruri_test\n",
      "sn:: 44K444On44O844Or44Oq\n",
      "sn;lang-en: joruri_test\n",
      "cn:: 44K444On44O844Or44Oq44OG44K544OIMQ==\n",
      "cn;lang-en: joruri\n",
      "uidNumber: 10000001\n",
      "gidNumber: 20000001\n",
      "homeDirectory: /home/joruri_test11\n",
      "objectClass: inetOrgPerson\n",
      "objectClass: organizationalPerson\n",
      "objectClass: person\n",
      "objectClass: posixAccount\n",
      "objectClass: shadowAccount\n",
      "preferredLanguage: ja\n",
      "st:: am9ydXJp5biC\n",
      "mail: joruri_test11@dockernet.co.jp\n",
      "userPassword:: e0NSWVBUfXppNXNhZnAvSHllWGs=\n",
      "uid: 0050011\n",
      "\n"
     ]
    },
    {
     "name": "stderr",
     "output_type": "stream",
     "text": [
      "openldap_centos7 is up-to-date\n"
     ]
    }
   ],
   "source": [
    "%%bash\n",
    "### 変数の設定\n",
    "container=\"openldap_centos7\"\n",
    "docker_compose_file=\"docker-compose_${container}.yml\"\n",
    "ldap_port=\"389\"\n",
    "ssh_port=\"2223\"\n",
    "dn=\"dc=dockernet,dc=co,dc=jp\"\n",
    "search=\"(&(objectClass=person)(mail=joruri_test11@dockernet.co.jp))\"\n",
    "\n",
    "### イメージ、コンテナが無い状態の確認\n",
    "docker images\n",
    "docker ps -a\n",
    "\n",
    "### docker-composeディレクトリに移動\n",
    "#work_dir=\"/home/jsd/work/build/docker-compose\"\n",
    "work_dir=\"${PYENV_DIR}/work/build/docker-compose\"\n",
    "cd ${work_dir}\n",
    "\n",
    "### docker-composeファイルの作成\n",
    "cat <<- EOS > ${docker_compose_file}\n",
    "${container}:\n",
    "   image: ftakao2007/openldap_centos7:latest\n",
    "   container_name: ${container}\n",
    "   privileged: true\n",
    "   tty: true\n",
    "   ports:\n",
    "     - \"${ldap_port}:389\"\n",
    "     - \"${ssh_port}:22\"\n",
    "   #command: sh -c '/sbin/init'\n",
    "   command: sh -c 'exec /usr/sbin/init && systemctl restart sshd.service && systemctl restart slapd.service'\n",
    "EOS\n",
    "\n",
    "### コンテナの作成\n",
    "docker-compose -f ${docker_compose_file} up -d\n",
    "#sleep 80\n",
    "\n",
    "### イメージ、コンテナの確認\n",
    "docker images\n",
    "docker ps -a\n",
    "\n",
    "### ldap接続確認\n",
    "ldapsearch -x -LLL -b \"${dn}\" -h 127.0.0.1 \"${search}\""
   ]
  },
  {
   "cell_type": "markdown",
   "metadata": {},
   "source": [
    "## Mailサーバ"
   ]
  },
  {
   "cell_type": "markdown",
   "metadata": {},
   "source": [
    "### imap,smtp,ldap連携"
   ]
  },
  {
   "cell_type": "code",
   "execution_count": 39,
   "metadata": {},
   "outputs": [
    {
     "name": "stdout",
     "output_type": "stream",
     "text": [
      "REPOSITORY                    TAG                 IMAGE ID            CREATED             SIZE\n",
      "ftakao2007/mail_centos7       latest              1e155bef8bad        14 hours ago        582MB\n",
      "ftakao2007/openldap_centos7   latest              572b38993fa4        35 hours ago        596MB\n",
      "ftakao2007/mysql5.6_centos7   latest              09a773ad8e34        3 days ago          2.16GB\n",
      "ftakao2007/centos7            latest              0fede72fa1fe        3 days ago          488MB\n",
      "CONTAINER ID        IMAGE                                COMMAND                  CREATED             STATUS              PORTS                                          NAMES\n",
      "57fc8cd1f746        ftakao2007/openldap_centos7:latest   \"sh -c 'exec /usr/...\"   12 hours ago        Up 12 hours         0.0.0.0:389->389/tcp, 0.0.0.0:2223->22/tcp     openldap_centos7\n",
      "ebd21afca604        ftakao2007/mysql5.6_centos7:latest   \"sh -c 'exec /usr/...\"   14 hours ago        Up 14 hours         0.0.0.0:3306->3306/tcp, 0.0.0.0:2222->22/tcp   mysql5.6_centos7\n",
      "REPOSITORY                    TAG                 IMAGE ID            CREATED             SIZE\n",
      "ftakao2007/mail_centos7       latest              1e155bef8bad        14 hours ago        582MB\n",
      "ftakao2007/openldap_centos7   latest              572b38993fa4        35 hours ago        596MB\n",
      "ftakao2007/mysql5.6_centos7   latest              09a773ad8e34        3 days ago          2.16GB\n",
      "ftakao2007/centos7            latest              0fede72fa1fe        3 days ago          488MB\n",
      "CONTAINER ID        IMAGE                                COMMAND                  CREATED             STATUS                  PORTS                                                               NAMES\n",
      "4111579006f3        ftakao2007/mail_centos7:latest       \"sh -c 'exec /usr/...\"   2 seconds ago       Up Less than a second   0.0.0.0:2224->22/tcp, 0.0.0.0:2525->25/tcp, 0.0.0.0:1143->143/tcp   mail_server_centos7\n",
      "57fc8cd1f746        ftakao2007/openldap_centos7:latest   \"sh -c 'exec /usr/...\"   12 hours ago        Up 12 hours             0.0.0.0:389->389/tcp, 0.0.0.0:2223->22/tcp                          openldap_centos7\n",
      "ebd21afca604        ftakao2007/mysql5.6_centos7:latest   \"sh -c 'exec /usr/...\"   14 hours ago        Up 14 hours             0.0.0.0:3306->3306/tcp, 0.0.0.0:2222->22/tcp                        mysql5.6_centos7\n"
     ]
    },
    {
     "name": "stderr",
     "output_type": "stream",
     "text": [
      "Creating mail_server_centos7\n"
     ]
    }
   ],
   "source": [
    "%%bash\n",
    "### 変数の設定\n",
    "container=\"mail_server_centos7\"\n",
    "docker_compose_file=\"docker-compose_${container}.yml\"\n",
    "smtp_port=\"2525\"\n",
    "imap_port=\"1143\"\n",
    "ssh_port=\"2224\"\n",
    "\n",
    "### イメージ、コンテナが無い状態の確認\n",
    "docker images\n",
    "docker ps -a\n",
    "\n",
    "### docker-composeディレクトリに移動\n",
    "#work_dir=\"/home/jsd/work/build/docker-compose\"\n",
    "work_dir=\"${PYENV_DIR}/work/build/docker-compose\"\n",
    "cd ${work_dir}\n",
    "\n",
    "### docker-composeファイルの作成\n",
    "cat <<- EOS > ${docker_compose_file}\n",
    "${container}:\n",
    "   image: ftakao2007/mail_centos7:latest\n",
    "   container_name: ${container}\n",
    "   privileged: true\n",
    "   tty: true\n",
    "   ports:\n",
    "     - \"${smtp_port}:25\"\n",
    "     - \"${imap_port}:143\"\n",
    "     - \"${ssh_port}:22\"\n",
    "   #command: sh -c '/sbin/init'\n",
    "   command: sh -c 'exec /usr/sbin/init && systemctl restart sshd.service && systemctl restart postfix.service && systemctl restart dovecot.service'\n",
    "EOS\n",
    "\n",
    "### コンテナの作成\n",
    "docker-compose -f ${docker_compose_file} up -d\n",
    "#sleep 80\n",
    "\n",
    "### イメージ、コンテナの確認\n",
    "docker images\n",
    "docker ps -a"
   ]
  },
  {
   "cell_type": "code",
   "execution_count": 28,
   "metadata": {},
   "outputs": [
    {
     "name": "stdout",
     "output_type": "stream",
     "text": [
      "Loaded plugins: fastestmirror\n",
      "Loading mirror speeds from cached hostfile\n",
      " * base: mirror.qoxy.com\n",
      " * epel: ftp.cuhk.edu.hk\n",
      " * extras: mirror.nus.edu.sg\n",
      " * updates: mirror.qoxy.com\n",
      "Package mailx-12.5-12.el7_0.x86_64 already installed and latest version\n",
      "Package fetchmail-6.3.24-5.el7.x86_64 already installed and latest version\n",
      "Package procmail-3.22-35.el7.x86_64 already installed and latest version\n",
      "Nothing to do\n"
     ]
    }
   ],
   "source": [
    "%%bash\n",
    "### mailxのインストール\n",
    "sudo yum install mailx fetchmail procmail"
   ]
  },
  {
   "cell_type": "code",
   "execution_count": 32,
   "metadata": {
    "collapsed": true
   },
   "outputs": [],
   "source": [
    "%%bash\n",
    "### 設定\n",
    "mail_server=\"192.168.33.11\"\n",
    "smtp_port=\"2525\"\n",
    "imap_port=\"1143\"\n",
    "mail_from=\"joruri_test12@dockernet.co.jp\"\n",
    "mail_to=\"joruri_test11@dockernet.co.jp\"\n",
    "\n",
    "### メール送信テスト\n",
    "echo \"mail body\" | mail -s \"mail title\" -S \"smtp=smtp://${mail_server}:${smtp_port}\" -r ${mail_from} ${mail_to}"
   ]
  },
  {
   "cell_type": "code",
   "execution_count": 34,
   "metadata": {},
   "outputs": [
    {
     "name": "stdout",
     "output_type": "stream",
     "text": [
      "3 messages (1 seen) for 0050011 at 192.168.33.11.\n"
     ]
    }
   ],
   "source": [
    "%%bash\n",
    "### 設定\n",
    "mail_server=\"192.168.33.11\"\n",
    "imap_port=\"1143\"\n",
    "\n",
    "### procmailの設定\n",
    "cat <<- EOS > ~/.fetchmailrc\n",
    "poll ${mail_server}\n",
    "  protocol imap\n",
    "  port ${imap_port}\n",
    "  username \"0050011\"\n",
    "  password \"pass\"\n",
    "  mda \"/usr/local/bin/procmail\"\n",
    "EOS\n",
    "\n",
    "### postfixの設定変更。メールサーバを既存で使ってる場合は設定に注意\n",
    "sudo sed -i -e 's/#mailbox_command = \\/some\\/where\\/procmail$/mailbox_command = \\/usr\\/bin\\/procmail/' /etc/postfix/main.cf\n",
    "\n",
    "### メールが届いていることの確認\n",
    "fetchmail -c"
   ]
  },
  {
   "cell_type": "markdown",
   "metadata": {},
   "source": [
    "### imap,smtp,ldap連携 + Joruriのvirtualプラグイン設定"
   ]
  },
  {
   "cell_type": "code",
   "execution_count": 40,
   "metadata": {},
   "outputs": [
    {
     "name": "stdout",
     "output_type": "stream",
     "text": [
      "REPOSITORY                    TAG                 IMAGE ID            CREATED             SIZE\n",
      "ftakao2007/openldap_centos7   latest              572b38993fa4        39 hours ago        596MB\n",
      "ftakao2007/mysql5.6_centos7   latest              09a773ad8e34        3 days ago          2.16GB\n",
      "ftakao2007/centos7            latest              0fede72fa1fe        3 days ago          488MB\n",
      "CONTAINER ID        IMAGE                                COMMAND                  CREATED             STATUS              PORTS                                          NAMES\n",
      "57fc8cd1f746        ftakao2007/openldap_centos7:latest   \"sh -c 'exec /usr/...\"   15 hours ago        Up 15 hours         0.0.0.0:389->389/tcp, 0.0.0.0:2223->22/tcp     openldap_centos7\n",
      "ebd21afca604        ftakao2007/mysql5.6_centos7:latest   \"sh -c 'exec /usr/...\"   17 hours ago        Up 17 hours         0.0.0.0:3306->3306/tcp, 0.0.0.0:2222->22/tcp   mysql5.6_centos7\n",
      "virtual_for_jorurimail: Pulling from ftakao2007/mail_centos7\n",
      "Digest: sha256:149a0f136e49f0536a28d4842d02c2587aef39e45e947767012b09491bcdcbc2\n",
      "Status: Downloaded newer image for ftakao2007/mail_centos7:virtual_for_jorurimail\n",
      "REPOSITORY                    TAG                      IMAGE ID            CREATED             SIZE\n",
      "ftakao2007/mail_centos7       virtual_for_jorurimail   35e0eebeeb79        11 minutes ago      657MB\n",
      "ftakao2007/openldap_centos7   latest                   572b38993fa4        39 hours ago        596MB\n",
      "ftakao2007/mysql5.6_centos7   latest                   09a773ad8e34        3 days ago          2.16GB\n",
      "ftakao2007/centos7            latest                   0fede72fa1fe        3 days ago          488MB\n",
      "CONTAINER ID        IMAGE                                            COMMAND                  CREATED             STATUS                  PORTS                                                               NAMES\n",
      "b0cfa884cccd        ftakao2007/mail_centos7:virtual_for_jorurimail   \"sh -c 'exec /usr/...\"   1 second ago        Up Less than a second   0.0.0.0:2225->22/tcp, 0.0.0.0:2526->25/tcp, 0.0.0.0:1144->143/tcp   mail_server_virtual_for_jorurimail_centos7\n",
      "57fc8cd1f746        ftakao2007/openldap_centos7:latest               \"sh -c 'exec /usr/...\"   15 hours ago        Up 15 hours             0.0.0.0:389->389/tcp, 0.0.0.0:2223->22/tcp                          openldap_centos7\n",
      "ebd21afca604        ftakao2007/mysql5.6_centos7:latest               \"sh -c 'exec /usr/...\"   17 hours ago        Up 17 hours             0.0.0.0:3306->3306/tcp, 0.0.0.0:2222->22/tcp                        mysql5.6_centos7\n"
     ]
    },
    {
     "name": "stderr",
     "output_type": "stream",
     "text": [
      "Pulling mail_server_virtual_for_jorurimail_centos7 (ftakao2007/mail_centos7:virtual_for_jorurimail)...\n",
      "Creating mail_server_virtual_for_jorurimail_centos7\n"
     ]
    }
   ],
   "source": [
    "%%bash\n",
    "### 変数の設定\n",
    "container=\"mail_server_virtual_for_jorurimail_centos7\"\n",
    "docker_compose_file=\"docker-compose_${container}.yml\"\n",
    "smtp_port=\"2526\"\n",
    "imap_port=\"1144\"\n",
    "ssh_port=\"2225\"\n",
    "\n",
    "### イメージ、コンテナが無い状態の確認\n",
    "docker images\n",
    "docker ps -a\n",
    "\n",
    "### docker-composeディレクトリに移動\n",
    "#work_dir=\"/home/jsd/work/build/docker-compose\"\n",
    "work_dir=\"${PYENV_DIR}/work/build/docker-compose\"\n",
    "cd ${work_dir}\n",
    "\n",
    "### docker-composeファイルの作成\n",
    "cat <<- EOS > ${docker_compose_file}\n",
    "${container}:\n",
    "   image: ftakao2007/mail_centos7:virtual_for_jorurimail\n",
    "   container_name: ${container}\n",
    "   privileged: true\n",
    "   tty: true\n",
    "   ports:\n",
    "     - \"${smtp_port}:25\"\n",
    "     - \"${imap_port}:143\"\n",
    "     - \"${ssh_port}:22\"\n",
    "   #command: sh -c '/sbin/init'\n",
    "   command: sh -c 'exec /usr/sbin/init && systemctl restart sshd.service && systemctl restart postfix.service && systemctl restart dovecot.service'\n",
    "EOS\n",
    "\n",
    "### コンテナの作成\n",
    "docker-compose -f ${docker_compose_file} up -d\n",
    "#sleep 80\n",
    "\n",
    "### イメージ、コンテナの確認\n",
    "docker images\n",
    "docker ps -a"
   ]
  }
 ],
 "metadata": {
  "kernelspec": {
   "display_name": "Python 3",
   "language": "python",
   "name": "python3"
  },
  "language_info": {
   "codemirror_mode": {
    "name": "ipython",
    "version": 3
   },
   "file_extension": ".py",
   "mimetype": "text/x-python",
   "name": "python",
   "nbconvert_exporter": "python",
   "pygments_lexer": "ipython3",
   "version": "3.6.1"
  }
 },
 "nbformat": 4,
 "nbformat_minor": 2
}
