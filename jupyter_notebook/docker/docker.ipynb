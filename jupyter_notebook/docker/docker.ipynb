{
 "cells": [
  {
   "cell_type": "markdown",
   "metadata": {},
   "source": [
    "# docker\n",
    "\n",
    "## 種類について\n",
    "\n",
    "* Docker CE (Community Edition) Edge\n",
    "    * コミュニティー版\n",
    "    * 毎月リリース\n",
    "    * 17.03が最初のバージョン\n",
    "        * 旧dockerの1.13.1で、破壊的な変更はされていないもの\n",
    "        * docker API 1.26と同じ\n",
    "* Docker CE Stable\n",
    "    * 4ヶ月に1回リリース\n",
    "* Docker EE (Enterprise Edition)\n",
    "    * 有償版\n",
    "\n",
    "## 参考\n",
    "[Docker Online Meetup: Announcing Docker CE + EE](https://www.slideshare.net/Docker/docker-online-meetup-announcing-docker-ce-ee)"
   ]
  },
  {
   "cell_type": "markdown",
   "metadata": {},
   "source": [
    "## インストール\n",
    "\n",
    "DockerCE(Stable)をインストールする\n",
    "\n",
    "```\n",
    "### 必要なパッケージのインストール\n",
    "$ sudo yum install -y yum-utils device-mapper-persistent-data lvm2\n",
    "\n",
    "### DockerCEリポジトリを設定する\n",
    "$ sudo yum-config-manager --add-repo https://download.docker.com/linux/centos/docker-ce.repo\n",
    "\n",
    "### Edgeやtestingを使いたい場合は以下\n",
    "### やめるときはdisableオプションをつける\n",
    "### $ sudo yum-config-manager --enable docker-ce-edge\n",
    "### $ sudo yum-config-manager --enable docker-ce-testing\n",
    "\n",
    "### yum パッケージのindexを更新する\n",
    "$ sudo yum makecache fast\n",
    "\n",
    "### docker-ceをインストールする\n",
    "$ sudo yum install docker-ce\n",
    "### バージョンを指定する場合\n",
    "### $ sudo yum install docker-ce-<VERSION>\n",
    "\n",
    "### dockerを起動する\n",
    "$ sudo systemctl start docker\n",
    "$ sudo systemctl enable docker\n",
    "\n",
    "### dockerグループの追加\n",
    "$ sudo groupadd docker\n",
    "\n",
    "###  ユーザ(jupyterユーザ)をdockerグループに追加\n",
    "$ sudo  usermod -aG docker jupyter\n",
    "```\n",
    "\n",
    "### 参考\n",
    "\n",
    "[Get Docker CE for CentOS](https://docs.docker.com/engine/installation/linux/docker-ce/centos/)"
   ]
  }
 ],
 "metadata": {
  "kernelspec": {
   "display_name": "Python 3",
   "language": "python",
   "name": "python3"
  },
  "language_info": {
   "codemirror_mode": {
    "name": "ipython",
    "version": 3
   },
   "file_extension": ".py",
   "mimetype": "text/x-python",
   "name": "python",
   "nbconvert_exporter": "python",
   "pygments_lexer": "ipython3",
   "version": "3.6.1"
  }
 },
 "nbformat": 4,
 "nbformat_minor": 2
}
