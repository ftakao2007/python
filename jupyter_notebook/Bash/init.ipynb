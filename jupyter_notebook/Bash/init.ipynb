{
 "cells": [
  {
   "cell_type": "markdown",
   "metadata": {},
   "source": [
    "# Bashカーネルのインストール\n",
    "\n",
    "* [takluyver/bash_kernel](https://github.com/takluyver/bash_kernel)"
   ]
  },
  {
   "cell_type": "code",
   "execution_count": 1,
   "metadata": {
    "collapsed": false
   },
   "outputs": [
    {
     "name": "stdout",
     "output_type": "stream",
     "text": [
      "Collecting bash_kernel\n",
      "  Downloading bash_kernel-0.6-py2.py3-none-any.whl\n",
      "Requirement already satisfied: pexpect>=4.0 in /usr/local/pyenv/versions/3.6.1/envs/jupyter/lib/python3.6/site-packages (from bash_kernel)\n",
      "Requirement already satisfied: ptyprocess>=0.5 in /usr/local/pyenv/versions/3.6.1/envs/jupyter/lib/python3.6/site-packages (from pexpect>=4.0->bash_kernel)\n",
      "Installing collected packages: bash-kernel\n",
      "Successfully installed bash-kernel-0.6\n",
      "Installing IPython kernel spec\n"
     ]
    }
   ],
   "source": [
    "%%bash\n",
    "pip install bash_kernel\n",
    "python -m bash_kernel.install"
   ]
  }
 ],
 "metadata": {
  "kernelspec": {
   "display_name": "Python 3",
   "language": "python",
   "name": "python3"
  },
  "language_info": {
   "codemirror_mode": {
    "name": "ipython",
    "version": 3
   },
   "file_extension": ".py",
   "mimetype": "text/x-python",
   "name": "python",
   "nbconvert_exporter": "python",
   "pygments_lexer": "ipython3",
   "version": "3.6.1"
  }
 },
 "nbformat": 4,
 "nbformat_minor": 2
}
