{
 "cells": [
  {
   "cell_type": "markdown",
   "metadata": {},
   "source": [
    "### [In a distributed application](http://ejje.weblio.jp/content/distributed+application)\n",
    "\n",
    "<!--\n",
    "https://docs.docker.com/get-started/part3/#prerequisites\n",
    "\n",
    "分散アプリケーション\n",
    "In a distributed application, different pieces of the app are called “services.”\n",
    "-->"
   ]
  }
 ],
 "metadata": {
  "kernelspec": {
   "display_name": "Python 3",
   "language": "python",
   "name": "python3"
  },
  "language_info": {
   "codemirror_mode": {
    "name": "ipython",
    "version": 3
   },
   "file_extension": ".py",
   "mimetype": "text/x-python",
   "name": "python",
   "nbconvert_exporter": "python",
   "pygments_lexer": "ipython3",
   "version": "3.6.1"
  }
 },
 "nbformat": 4,
 "nbformat_minor": 2
}
