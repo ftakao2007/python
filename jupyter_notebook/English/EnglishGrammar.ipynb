{
 "cells": [
  {
   "cell_type": "markdown",
   "metadata": {},
   "source": [
    "# 文法\n",
    "\n",
    "* ポイント\n",
    "    * 辞書の意味に飛びつかない\n",
    "    * 文脈に頼りすぎない\n",
    "    * 例外ばかり信じない\n",
    "    * 雰囲気で読まない"
   ]
  },
  {
   "cell_type": "markdown",
   "metadata": {},
   "source": [
    "# 5文型\n",
    "\n",
    "## SV\n",
    "\n",
    "* Subject(主語) + Verb(動詞)\n",
    "    * 目的語を取らないので自動詞しか使えない\n",
    "        * 自動詞 : 主語のみで動作が完結するような動詞"
   ]
  },
  {
   "cell_type": "code",
   "execution_count": 4,
   "metadata": {
    "collapsed": false
   },
   "outputs": [
    {
     "name": "stdout",
     "output_type": "stream",
     "text": [
      "He ran.\n",
      "You are listening to this session.\n",
      "The meeting started this morning.\n"
     ]
    }
   ],
   "source": [
    "subject = [\"He\", \"You\", \"The meeting\"]\n",
    "verb = [\"ran\", \"are listening\", \"started\"]\n",
    "\n",
    "puts \"#{subject[0]} #{verb[0]}.\"\n",
    "puts \"#{subject[1]} #{verb[1]} to this session.\"\n",
    "puts \"#{subject[2]} #{verb[2]} this morning.\""
   ]
  }
 ],
 "metadata": {
  "kernelspec": {
   "display_name": "Ruby 2.3.3",
   "language": "ruby",
   "name": "ruby"
  },
  "language_info": {
   "file_extension": ".rb",
   "mimetype": "application/x-ruby",
   "name": "ruby",
   "version": "2.3.3"
  }
 },
 "nbformat": 4,
 "nbformat_minor": 2
}
