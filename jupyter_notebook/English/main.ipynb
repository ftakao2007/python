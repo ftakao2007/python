{
 "cells": [
  {
   "cell_type": "markdown",
   "metadata": {},
   "source": [
    "# 英語\n",
    "\n",
    "## 参考\n",
    "\n",
    "* [文型さえおさえれば英語を読む力はあがる！](https://speakerdeck.com/ihcomega56/wen-xing-saeosaerebaying-yu-wodu-muli-haagaru)"
   ]
  }
 ],
 "metadata": {
  "kernelspec": {
   "display_name": "Ruby 2.3.3",
   "language": "ruby",
   "name": "ruby"
  },
  "language_info": {
   "file_extension": ".rb",
   "mimetype": "application/x-ruby",
   "name": "ruby",
   "version": "2.3.3"
  }
 },
 "nbformat": 4,
 "nbformat_minor": 2
}
