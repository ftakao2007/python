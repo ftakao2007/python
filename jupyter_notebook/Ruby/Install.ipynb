{
 "cells": [
  {
   "cell_type": "code",
   "execution_count": 2,
   "metadata": {
    "collapsed": false
   },
   "outputs": [
    {
     "name": "stdout",
     "output_type": "stream",
     "text": [
      "Successfully installed pry-doc-0.10.0\n",
      "Parsing documentation for pry-doc-0.10.0\n",
      "Installing ri documentation for pry-doc-0.10.0\n",
      "Done installing documentation for pry-doc after 0 seconds\n",
      "1 gem installed\n"
     ]
    }
   ],
   "source": [
    "%%bash\n",
    "### pry-docのインストール\n",
    "#bundle exec gem install pry-doc"
   ]
  },
  {
   "cell_type": "code",
   "execution_count": 3,
   "metadata": {
    "collapsed": false
   },
   "outputs": [
    {
     "name": "stdout",
     "output_type": "stream",
     "text": [
      "bigdecimal (1.2.8)\n",
      "bond (0.5.1)\n",
      "coderay (1.1.1)\n",
      "data_uri (0.1.0)\n",
      "io-console (0.4.5)\n",
      "iruby (0.3)\n",
      "json (1.8.3)\n",
      "method_source (0.8.2)\n",
      "mimemagic (0.3.2)\n",
      "multi_json (1.12.1)\n",
      "pry (0.10.4)\n",
      "pry-doc (0.10.0)\n",
      "psych (2.1.0)\n",
      "rbczmq (1.7.9)\n",
      "rdoc (4.2.1)\n",
      "slop (3.6.0)\n",
      "yard (0.9.9)\n"
     ]
    }
   ],
   "source": [
    "%%bash\n",
    "bundle exec gem list"
   ]
  }
 ],
 "metadata": {
  "kernelspec": {
   "display_name": "Python 3",
   "language": "python",
   "name": "python3"
  },
  "language_info": {
   "codemirror_mode": {
    "name": "ipython",
    "version": 3
   },
   "file_extension": ".py",
   "mimetype": "text/x-python",
   "name": "python",
   "nbconvert_exporter": "python",
   "pygments_lexer": "ipython3",
   "version": "3.6.1"
  }
 },
 "nbformat": 4,
 "nbformat_minor": 2
}
