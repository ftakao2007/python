{
 "cells": [
  {
   "cell_type": "markdown",
   "metadata": {},
   "source": [
    "# Ruby技術者認定試験 模擬問題活用方法\n",
    "http://www.ruby.or.jp/ja/certification/examination/prep/prep_test.html\n",
    "\n",
    "# Ruby技術者認定試験 version2.1 Silver模擬問題集\n",
    "http://www.ruby.or.jp/ja/certification/examination/index.data/exam_prep_jp.pdf\n",
    "\n",
    "※ コード実行欄はコメントアウトを外して実行すると答えが出る"
   ]
  },
  {
   "cell_type": "markdown",
   "metadata": {},
   "source": [
    "# 問題1. 選択肢の中からRubyの予約語ではないものを2つ選択してください。\n",
    "\n",
    "1. super\n",
    "1. begin\n",
    "1. try\n",
    "1. goto\n",
    "\n",
    "〇"
   ]
  },
  {
   "cell_type": "code",
   "execution_count": 5,
   "metadata": {
    "collapsed": false
   },
   "outputs": [],
   "source": [
    "### 予約語の場合変数として使えない\n",
    "\n",
    "#super=1\n",
    "#p super\n",
    "#begin=2\n",
    "#p begin\n",
    "#try=3\n",
    "#p try\n",
    "#goto=4\n",
    "#p goto"
   ]
  },
  {
   "cell_type": "markdown",
   "metadata": {},
   "source": [
    "# 問題2. 以下のコードを実行した出力はどうなりますか。\n",
    "\n",
    "* 「`*`」が付いた引数は可変長引数(rest引数)\n",
    "\n",
    "×"
   ]
  },
  {
   "cell_type": "code",
   "execution_count": 8,
   "metadata": {
    "collapsed": false
   },
   "outputs": [],
   "source": [
    "def foo (a, *b)\n",
    "#p a\n",
    "#p b\n",
    "end\n",
    "foo(1,2,3,4)"
   ]
  },
  {
   "cell_type": "markdown",
   "metadata": {},
   "source": [
    "# 問題3. 以下のコードを実行した出力はどうなりますか。\n",
    "\n",
    "〇"
   ]
  },
  {
   "cell_type": "code",
   "execution_count": 10,
   "metadata": {
    "collapsed": false
   },
   "outputs": [],
   "source": [
    "#puts({\"members\" => 193, \"year\" => 2014}.size)"
   ]
  },
  {
   "cell_type": "markdown",
   "metadata": {},
   "source": [
    "# 問題4. 以下のコードを実行した出力はどうなりますか。\n",
    "\n",
    "〇"
   ]
  },
  {
   "cell_type": "code",
   "execution_count": 14,
   "metadata": {
    "collapsed": false
   },
   "outputs": [],
   "source": [
    "#t = Time.now + (60*60*24)\n",
    "#p t"
   ]
  },
  {
   "cell_type": "markdown",
   "metadata": {},
   "source": [
    "# 問題5. ローカル変数の名前として正しいものをすべて選択してください。\n",
    "\n",
    "1. `_365`\n",
    "1. z\n",
    "1. 7years\n",
    "1. break\n",
    "1. latitude\n",
    "\n",
    "〇"
   ]
  },
  {
   "cell_type": "code",
   "execution_count": 19,
   "metadata": {
    "collapsed": false
   },
   "outputs": [],
   "source": [
    "### ローカル変数に使えないものは代入できない\n",
    "#_365=1\n",
    "#p _365\n",
    "#z=2\n",
    "#p z\n",
    "#7years=3\n",
    "#p 7years\n",
    "#break=4\n",
    "#p break\n",
    "#atitude=5\n",
    "#p atitude"
   ]
  },
  {
   "cell_type": "markdown",
   "metadata": {},
   "source": [
    "# 問題6. 以下のコードを実行した出力はどうなりますか。\n",
    "\n",
    "* 「..」と「...」の違い\n",
    "    * 一回目は意味を逆に認識してしまっていた\n",
    "\n",
    "×"
   ]
  },
  {
   "cell_type": "code",
   "execution_count": 64,
   "metadata": {
    "collapsed": false
   },
   "outputs": [],
   "source": [
    "#(5..8).each_with_index do |val,i|\n",
    "#puts \"#{i} #{val}\"\n",
    "#end\n",
    "\n",
    "#(5...8).each_with_index do |val,i|\n",
    "#puts \"#{i} #{val}\"\n",
    "#end"
   ]
  },
  {
   "cell_type": "markdown",
   "metadata": {},
   "source": [
    "# 問題7. 以下のコードを実行した出力はどうなりますか。\n",
    "\n",
    "〇"
   ]
  },
  {
   "cell_type": "code",
   "execution_count": 29,
   "metadata": {
    "collapsed": false
   },
   "outputs": [],
   "source": [
    "#p 100.downto(90).select{|x| x%2==0}"
   ]
  },
  {
   "cell_type": "markdown",
   "metadata": {},
   "source": [
    "# 問題8. 以下のコードを実行した時の出力に対して__（１）__に入る適切な記述を２つ選択してください。\n",
    "\n",
    "```\n",
    "p [1,1,2,3,5,8].__(1)__｛|x| x*2}\n",
    "[出力]\n",
    "[2,2,4,6,10,16]\n",
    "```\n",
    "\n",
    "〇"
   ]
  },
  {
   "cell_type": "code",
   "execution_count": 33,
   "metadata": {
    "collapsed": false
   },
   "outputs": [],
   "source": [
    "#p [1,1,2,3,5,8].hoge{|x| x*2}\n"
   ]
  },
  {
   "cell_type": "markdown",
   "metadata": {},
   "source": [
    "# 問題9. 以下のコードを実行した出力はどうなりますか。\n",
    "\n",
    "〇"
   ]
  },
  {
   "cell_type": "code",
   "execution_count": 35,
   "metadata": {
    "collapsed": false
   },
   "outputs": [],
   "source": [
    "#puts \"Ruby on Rails\".delete(\"Rails\")"
   ]
  },
  {
   "cell_type": "markdown",
   "metadata": {},
   "source": [
    "# 問題10.ヒアドキュメントを使用して文字列を作成しようとしたが実行時エラーになった。正しく動かすための修正点を2パターン選択してください。\n",
    "\n",
    "```\n",
    "doc = <<EOF\n",
    " The quick brown fox\n",
    " jumps over the lazy dog\n",
    " EOF\n",
    "```\n",
    "\n",
    "〇"
   ]
  },
  {
   "cell_type": "code",
   "execution_count": 40,
   "metadata": {
    "collapsed": false
   },
   "outputs": [
    {
     "ename": "SyntaxError",
     "evalue": "(pry):138: can't find string \"EOF\" anywhere before EOF\n(pry):135: syntax error, unexpected end-of-input, expecting tSTRING_CONTENT or tSTRING_DBEG or tSTRING_DVAR or tSTRING_END",
     "output_type": "error",
     "traceback": [
      "\u001b[31mSyntaxError\u001b[0m: (pry):138: can't find string \"EOF\" anywhere before EOF\n(pry):135: syntax error, unexpected end-of-input, expecting tSTRING_CONTENT or tSTRING_DBEG or tSTRING_DVAR or tSTRING_END",
      "\u001b[37m/root/jupyter/vendor/bundle/ruby/2.3.0/gems/pry-0.10.4/lib/pry/pry_instance.rb:355:in `eval'\u001b[0m",
      "\u001b[37m/root/jupyter/vendor/bundle/ruby/2.3.0/gems/pry-0.10.4/lib/pry/pry_instance.rb:355:in `evaluate_ruby'\u001b[0m",
      "\u001b[37m/root/jupyter/vendor/bundle/ruby/2.3.0/gems/iruby-0.3/lib/iruby/backend.rb:73:in `eval'\u001b[0m",
      "\u001b[37m/root/jupyter/vendor/bundle/ruby/2.3.0/gems/iruby-0.3/lib/iruby/backend.rb:12:in `eval'\u001b[0m",
      "\u001b[37m/root/jupyter/vendor/bundle/ruby/2.3.0/gems/iruby-0.3/lib/iruby/kernel.rb:87:in `execute_request'\u001b[0m",
      "\u001b[37m/root/jupyter/vendor/bundle/ruby/2.3.0/gems/iruby-0.3/lib/iruby/kernel.rb:47:in `dispatch'\u001b[0m",
      "\u001b[37m/root/jupyter/vendor/bundle/ruby/2.3.0/gems/iruby-0.3/lib/iruby/kernel.rb:37:in `run'\u001b[0m",
      "\u001b[37m/root/jupyter/vendor/bundle/ruby/2.3.0/gems/iruby-0.3/lib/iruby/command.rb:70:in `run_kernel'\u001b[0m",
      "\u001b[37m/root/jupyter/vendor/bundle/ruby/2.3.0/gems/iruby-0.3/lib/iruby/command.rb:34:in `run'\u001b[0m",
      "\u001b[37m/root/jupyter/vendor/bundle/ruby/2.3.0/gems/iruby-0.3/bin/iruby:5:in `<top (required)>'\u001b[0m",
      "\u001b[37m/root/jupyter/vendor/bundle/ruby/2.3.0/bin/iruby:22:in `load'\u001b[0m",
      "\u001b[37m/root/jupyter/vendor/bundle/ruby/2.3.0/bin/iruby:22:in `<main>'\u001b[0m"
     ]
    }
   ],
   "source": [
    "doc = <<EOF\n",
    " The quick brown fox\n",
    " jumps over the lazy dog\n",
    " EOF"
   ]
  },
  {
   "cell_type": "markdown",
   "metadata": {},
   "source": [
    "# 問題11.以下の__(1)__に入る適切な記述を１つ入れてください。\n",
    "\n",
    "```\n",
    "h = {1=>2, 3=>4}\n",
    "h.__(1)__\n",
    "p h #=>{}\n",
    "ary = [1, 2]\n",
    "ary.__(1)__\n",
    "p ary #=>[]\n",
    "```\n",
    "\n",
    "〇"
   ]
  },
  {
   "cell_type": "code",
   "execution_count": 48,
   "metadata": {
    "collapsed": false
   },
   "outputs": [
    {
     "name": "stdout",
     "output_type": "stream",
     "text": [
      "{1=>2, 3=>4}\n",
      "[1, 2]\n"
     ]
    },
    {
     "data": {
      "text/plain": [
       "[1, 2]"
      ]
     },
     "execution_count": 48,
     "metadata": {},
     "output_type": "execute_result"
    }
   ],
   "source": [
    "h = {1=>2, 3=>4}\n",
    "#h.hoge\n",
    "p h\n",
    "\n",
    "ary = [1,2]\n",
    "#ary.hoge\n",
    "p ary"
   ]
  },
  {
   "cell_type": "markdown",
   "metadata": {},
   "source": [
    "# 問題12.以下の__(1)__に入る適切な記述を2つ入れてください。\n",
    "\n",
    "```\n",
    "a = [1,2,3,4,5]\n",
    "p __(1)__ #=>[1,2,3]\n",
    "```\n",
    "\n",
    "×\n",
    "<font color=\"red\">問題6と関連して覚える</font>"
   ]
  },
  {
   "cell_type": "code",
   "execution_count": 72,
   "metadata": {
    "collapsed": false
   },
   "outputs": [
    {
     "data": {
      "text/plain": [
       "[1, 2, 3, 4, 5]"
      ]
     },
     "execution_count": 72,
     "metadata": {},
     "output_type": "execute_result"
    }
   ],
   "source": [
    "a = [1,2,3,4,5]\n",
    "#p a[-5,3]\n",
    "\n",
    "#p a[0,3]\n",
    "#p a.slice(0,3)\n",
    "\n",
    "#p a[0..2]\n",
    "#p a.slice(0..2)\n",
    "\n",
    "#p a[0...2]\n",
    "#p a.slice(0...2)"
   ]
  },
  {
   "cell_type": "markdown",
   "metadata": {},
   "source": [
    "# 問題13. 以下のコードを実行した出力はどうなりますか。\n",
    "\n",
    "〇"
   ]
  },
  {
   "cell_type": "code",
   "execution_count": 98,
   "metadata": {
    "collapsed": false
   },
   "outputs": [],
   "source": [
    "#str = \"RubyAssociation\".chomp\n",
    "\n",
    "\n",
    "#\"RubyAssociation\".chop\n",
    "#\"RubyAssociation\".chop.chop"
   ]
  },
  {
   "cell_type": "markdown",
   "metadata": {},
   "source": [
    "# 問題14. 以下のコードを実行した出力はどうなりますか。\n",
    "\n",
    "〇"
   ]
  },
  {
   "cell_type": "code",
   "execution_count": 96,
   "metadata": {
    "collapsed": false
   },
   "outputs": [],
   "source": [
    "#str = \"RubyAssociation\\r\\n\".chop\n",
    "\n",
    "\n",
    "#\"RubyAssociation\\r\\n\".chomp.chomp"
   ]
  }
 ],
 "metadata": {
  "kernelspec": {
   "display_name": "Ruby 2.3.3",
   "language": "ruby",
   "name": "ruby"
  },
  "language_info": {
   "file_extension": ".rb",
   "mimetype": "application/x-ruby",
   "name": "ruby",
   "version": "2.3.3"
  }
 },
 "nbformat": 4,
 "nbformat_minor": 2
}
