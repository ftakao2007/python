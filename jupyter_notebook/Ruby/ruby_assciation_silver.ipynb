{
 "cells": [
  {
   "cell_type": "markdown",
   "metadata": {
    "deletable": true,
    "editable": true
   },
   "source": [
    "# Ruby技術者認定試験\n",
    "http://www.ruby.or.jp/ja/certification/examination/\n",
    "\n",
    "* 試験日時 : 2017/06/20 11:30\n",
    "* 試験時間 : 90分\n",
    "* 問題数 : 50門\n",
    "* 合格ライン : 75%\n",
    "* 対象バージョン : 2.1.X\n",
    "* 出題範囲\n",
    "    * 文法\n",
    "        * コメント\n",
    "        * リテラル（数値、真偽値、文字列、文字、配列、ハッシュ等）\n",
    "        * 変数/定数とスコープ\n",
    "        * 演算子\n",
    "        * 条件分岐\n",
    "        * ループ\n",
    "        * 例外処理\n",
    "        * メソッド呼び出し\n",
    "        * ブロック\n",
    "        * メソッド定義\n",
    "        * クラス定義\n",
    "        * モジュール定義\n",
    "        * 多言語対応\n",
    "    * 組み込みライブラリ\n",
    "        * よく使用されるクラス、モジュール\n",
    "            * Object\n",
    "            * 数値クラス\n",
    "            * String\n",
    "            * Array\n",
    "            * Hash\n",
    "            * Kernel\n",
    "            * Enumerable\n",
    "            * Comparable\n",
    "            * etc...\n",
    "    * オブジェクト指向\n",
    "        * ポリモルフィズム\n",
    "        * 継承\n",
    "        * mix-in"
   ]
  },
  {
   "cell_type": "markdown",
   "metadata": {
    "deletable": true,
    "editable": true
   },
   "source": [
    "# Ruby技術者認定試験 模擬問題活用方法\n",
    "http://www.ruby.or.jp/ja/certification/examination/prep/prep_test.html\n",
    "\n",
    "# Ruby技術者認定試験 version2.1 Silver模擬問題集\n",
    "http://www.ruby.or.jp/ja/certification/examination/index.data/exam_prep_jp.pdf\n",
    "\n",
    "※ コード実行欄はコメントアウトを外して実行すると答えが出る"
   ]
  },
  {
   "cell_type": "markdown",
   "metadata": {
    "deletable": true,
    "editable": true
   },
   "source": [
    "# 問題1. 選択肢の中からRubyの予約語ではないものを2つ選択してください。\n",
    "\n",
    "1. super\n",
    "1. begin\n",
    "1. try\n",
    "1. goto\n",
    "\n",
    "〇"
   ]
  },
  {
   "cell_type": "code",
   "execution_count": 5,
   "metadata": {
    "collapsed": false,
    "deletable": true,
    "editable": true
   },
   "outputs": [],
   "source": [
    "### 予約語の場合変数として使えない\n",
    "\n",
    "#super=1\n",
    "#p super\n",
    "#begin=2\n",
    "#p begin\n",
    "#try=3\n",
    "#p try\n",
    "#goto=4\n",
    "#p goto"
   ]
  },
  {
   "cell_type": "markdown",
   "metadata": {
    "deletable": true,
    "editable": true
   },
   "source": [
    "# 問題2. 以下のコードを実行した出力はどうなりますか。\n",
    "\n",
    "* 「`*`」が付いた引数は可変長引数(rest引数)\n",
    "\n",
    "×"
   ]
  },
  {
   "cell_type": "code",
   "execution_count": 8,
   "metadata": {
    "collapsed": false,
    "deletable": true,
    "editable": true
   },
   "outputs": [],
   "source": [
    "def foo (a, *b)\n",
    "#p a\n",
    "#p b\n",
    "end\n",
    "foo(1,2,3,4)"
   ]
  },
  {
   "cell_type": "markdown",
   "metadata": {
    "deletable": true,
    "editable": true
   },
   "source": [
    "# 問題3. 以下のコードを実行した出力はどうなりますか。\n",
    "\n",
    "〇"
   ]
  },
  {
   "cell_type": "code",
   "execution_count": 10,
   "metadata": {
    "collapsed": false,
    "deletable": true,
    "editable": true
   },
   "outputs": [],
   "source": [
    "#puts({\"members\" => 193, \"year\" => 2014}.size)"
   ]
  },
  {
   "cell_type": "markdown",
   "metadata": {
    "deletable": true,
    "editable": true
   },
   "source": [
    "# 問題4. 以下のコードを実行した出力はどうなりますか。\n",
    "\n",
    "〇"
   ]
  },
  {
   "cell_type": "code",
   "execution_count": 14,
   "metadata": {
    "collapsed": false,
    "deletable": true,
    "editable": true
   },
   "outputs": [],
   "source": [
    "#t = Time.now + (60*60*24)\n",
    "#p t"
   ]
  },
  {
   "cell_type": "markdown",
   "metadata": {
    "deletable": true,
    "editable": true
   },
   "source": [
    "# 問題5. ローカル変数の名前として正しいものをすべて選択してください。\n",
    "\n",
    "1. `_365`\n",
    "1. z\n",
    "1. 7years\n",
    "1. break\n",
    "1. latitude\n",
    "\n",
    "〇"
   ]
  },
  {
   "cell_type": "code",
   "execution_count": 19,
   "metadata": {
    "collapsed": false,
    "deletable": true,
    "editable": true
   },
   "outputs": [],
   "source": [
    "### ローカル変数に使えないものは代入できない\n",
    "#_365=1\n",
    "#p _365\n",
    "#z=2\n",
    "#p z\n",
    "#7years=3\n",
    "#p 7years\n",
    "#break=4\n",
    "#p break\n",
    "#atitude=5\n",
    "#p atitude"
   ]
  },
  {
   "cell_type": "markdown",
   "metadata": {
    "deletable": true,
    "editable": true
   },
   "source": [
    "# 問題6. 以下のコードを実行した出力はどうなりますか。\n",
    "\n",
    "* 「..」と「...」の違い\n",
    "    * 一回目は意味を逆に認識してしまっていた\n",
    "\n",
    "×"
   ]
  },
  {
   "cell_type": "code",
   "execution_count": 64,
   "metadata": {
    "collapsed": false,
    "deletable": true,
    "editable": true
   },
   "outputs": [],
   "source": [
    "#(5..8).each_with_index do |val,i|\n",
    "#puts \"#{i} #{val}\"\n",
    "#end\n",
    "\n",
    "#(5...8).each_with_index do |val,i|\n",
    "#puts \"#{i} #{val}\"\n",
    "#end"
   ]
  },
  {
   "cell_type": "markdown",
   "metadata": {
    "deletable": true,
    "editable": true
   },
   "source": [
    "# 問題7. 以下のコードを実行した出力はどうなりますか。\n",
    "\n",
    "〇"
   ]
  },
  {
   "cell_type": "code",
   "execution_count": 29,
   "metadata": {
    "collapsed": false,
    "deletable": true,
    "editable": true
   },
   "outputs": [],
   "source": [
    "#p 100.downto(90).select{|x| x%2==0}"
   ]
  },
  {
   "cell_type": "markdown",
   "metadata": {
    "deletable": true,
    "editable": true
   },
   "source": [
    "# 問題8. 以下のコードを実行した時の出力に対して__（１）__に入る適切な記述を２つ選択してください。\n",
    "\n",
    "```\n",
    "p [1,1,2,3,5,8].__(1)__｛|x| x*2}\n",
    "[出力]\n",
    "[2,2,4,6,10,16]\n",
    "```\n",
    "\n",
    "〇"
   ]
  },
  {
   "cell_type": "code",
   "execution_count": 33,
   "metadata": {
    "collapsed": false,
    "deletable": true,
    "editable": true
   },
   "outputs": [],
   "source": [
    "#p [1,1,2,3,5,8].hoge{|x| x*2}\n"
   ]
  },
  {
   "cell_type": "markdown",
   "metadata": {
    "deletable": true,
    "editable": true
   },
   "source": [
    "# 問題9. 以下のコードを実行した出力はどうなりますか。\n",
    "\n",
    "〇"
   ]
  },
  {
   "cell_type": "code",
   "execution_count": 35,
   "metadata": {
    "collapsed": false,
    "deletable": true,
    "editable": true
   },
   "outputs": [],
   "source": [
    "#puts \"Ruby on Rails\".delete(\"Rails\")"
   ]
  },
  {
   "cell_type": "markdown",
   "metadata": {
    "deletable": true,
    "editable": true
   },
   "source": [
    "# 問題10.ヒアドキュメントを使用して文字列を作成しようとしたが実行時エラーになった。正しく動かすための修正点を2パターン選択してください。\n",
    "\n",
    "```\n",
    "doc = <<EOF\n",
    " The quick brown fox\n",
    " jumps over the lazy dog\n",
    " EOF\n",
    "```\n",
    "\n",
    "〇"
   ]
  },
  {
   "cell_type": "code",
   "execution_count": 40,
   "metadata": {
    "collapsed": false,
    "deletable": true,
    "editable": true
   },
   "outputs": [
    {
     "ename": "SyntaxError",
     "evalue": "(pry):138: can't find string \"EOF\" anywhere before EOF\n(pry):135: syntax error, unexpected end-of-input, expecting tSTRING_CONTENT or tSTRING_DBEG or tSTRING_DVAR or tSTRING_END",
     "output_type": "error",
     "traceback": [
      "\u001b[31mSyntaxError\u001b[0m: (pry):138: can't find string \"EOF\" anywhere before EOF\n(pry):135: syntax error, unexpected end-of-input, expecting tSTRING_CONTENT or tSTRING_DBEG or tSTRING_DVAR or tSTRING_END",
      "\u001b[37m/root/jupyter/vendor/bundle/ruby/2.3.0/gems/pry-0.10.4/lib/pry/pry_instance.rb:355:in `eval'\u001b[0m",
      "\u001b[37m/root/jupyter/vendor/bundle/ruby/2.3.0/gems/pry-0.10.4/lib/pry/pry_instance.rb:355:in `evaluate_ruby'\u001b[0m",
      "\u001b[37m/root/jupyter/vendor/bundle/ruby/2.3.0/gems/iruby-0.3/lib/iruby/backend.rb:73:in `eval'\u001b[0m",
      "\u001b[37m/root/jupyter/vendor/bundle/ruby/2.3.0/gems/iruby-0.3/lib/iruby/backend.rb:12:in `eval'\u001b[0m",
      "\u001b[37m/root/jupyter/vendor/bundle/ruby/2.3.0/gems/iruby-0.3/lib/iruby/kernel.rb:87:in `execute_request'\u001b[0m",
      "\u001b[37m/root/jupyter/vendor/bundle/ruby/2.3.0/gems/iruby-0.3/lib/iruby/kernel.rb:47:in `dispatch'\u001b[0m",
      "\u001b[37m/root/jupyter/vendor/bundle/ruby/2.3.0/gems/iruby-0.3/lib/iruby/kernel.rb:37:in `run'\u001b[0m",
      "\u001b[37m/root/jupyter/vendor/bundle/ruby/2.3.0/gems/iruby-0.3/lib/iruby/command.rb:70:in `run_kernel'\u001b[0m",
      "\u001b[37m/root/jupyter/vendor/bundle/ruby/2.3.0/gems/iruby-0.3/lib/iruby/command.rb:34:in `run'\u001b[0m",
      "\u001b[37m/root/jupyter/vendor/bundle/ruby/2.3.0/gems/iruby-0.3/bin/iruby:5:in `<top (required)>'\u001b[0m",
      "\u001b[37m/root/jupyter/vendor/bundle/ruby/2.3.0/bin/iruby:22:in `load'\u001b[0m",
      "\u001b[37m/root/jupyter/vendor/bundle/ruby/2.3.0/bin/iruby:22:in `<main>'\u001b[0m"
     ]
    }
   ],
   "source": [
    "doc = <<EOF\n",
    " The quick brown fox\n",
    " jumps over the lazy dog\n",
    " EOF"
   ]
  },
  {
   "cell_type": "markdown",
   "metadata": {
    "deletable": true,
    "editable": true
   },
   "source": [
    "# 問題11.以下の__(1)__に入る適切な記述を１つ入れてください。\n",
    "\n",
    "```\n",
    "h = {1=>2, 3=>4}\n",
    "h.__(1)__\n",
    "p h #=>{}\n",
    "ary = [1, 2]\n",
    "ary.__(1)__\n",
    "p ary #=>[]\n",
    "```\n",
    "\n",
    "〇"
   ]
  },
  {
   "cell_type": "code",
   "execution_count": 48,
   "metadata": {
    "collapsed": false,
    "deletable": true,
    "editable": true
   },
   "outputs": [
    {
     "name": "stdout",
     "output_type": "stream",
     "text": [
      "{1=>2, 3=>4}\n",
      "[1, 2]\n"
     ]
    },
    {
     "data": {
      "text/plain": [
       "[1, 2]"
      ]
     },
     "execution_count": 48,
     "metadata": {},
     "output_type": "execute_result"
    }
   ],
   "source": [
    "h = {1=>2, 3=>4}\n",
    "#h.hoge\n",
    "p h\n",
    "\n",
    "ary = [1,2]\n",
    "#ary.hoge\n",
    "p ary"
   ]
  },
  {
   "cell_type": "markdown",
   "metadata": {
    "deletable": true,
    "editable": true
   },
   "source": [
    "# 問題12.以下の__(1)__に入る適切な記述を2つ入れてください。\n",
    "\n",
    "```\n",
    "a = [1,2,3,4,5]\n",
    "p __(1)__ #=>[1,2,3]\n",
    "```\n",
    "\n",
    "×\n",
    "\n",
    "* <font color=\"red\">問題6と関連して覚える</font>"
   ]
  },
  {
   "cell_type": "code",
   "execution_count": 72,
   "metadata": {
    "collapsed": false,
    "deletable": true,
    "editable": true
   },
   "outputs": [
    {
     "data": {
      "text/plain": [
       "[1, 2, 3, 4, 5]"
      ]
     },
     "execution_count": 72,
     "metadata": {},
     "output_type": "execute_result"
    }
   ],
   "source": [
    "a = [1,2,3,4,5]\n",
    "#p a[-5,3]\n",
    "\n",
    "#p a[0,3]\n",
    "#p a.slice(0,3)\n",
    "\n",
    "#p a[0..2]\n",
    "#p a.slice(0..2)\n",
    "\n",
    "#p a[0...2]\n",
    "#p a.slice(0...2)"
   ]
  },
  {
   "cell_type": "markdown",
   "metadata": {
    "deletable": true,
    "editable": true
   },
   "source": [
    "# 問題13. 以下のコードを実行した出力はどうなりますか。\n",
    "\n",
    "〇"
   ]
  },
  {
   "cell_type": "code",
   "execution_count": 98,
   "metadata": {
    "collapsed": false,
    "deletable": true,
    "editable": true
   },
   "outputs": [],
   "source": [
    "#str = \"RubyAssociation\".chomp\n",
    "\n",
    "\n",
    "#\"RubyAssociation\".chop\n",
    "#\"RubyAssociation\".chop.chop"
   ]
  },
  {
   "cell_type": "markdown",
   "metadata": {
    "deletable": true,
    "editable": true
   },
   "source": [
    "# 問題14. 以下のコードを実行した出力はどうなりますか。\n",
    "\n",
    "〇"
   ]
  },
  {
   "cell_type": "code",
   "execution_count": 96,
   "metadata": {
    "collapsed": false,
    "deletable": true,
    "editable": true
   },
   "outputs": [],
   "source": [
    "#str = \"RubyAssociation\\r\\n\".chop\n",
    "\n",
    "\n",
    "#\"RubyAssociation\\r\\n\".chomp.chomp"
   ]
  },
  {
   "cell_type": "markdown",
   "metadata": {
    "deletable": true,
    "editable": true
   },
   "source": [
    "# 問題15. 以下のコードにおける4行目io.rewindについて正しい説明を１つ選択してください。\n",
    "\n",
    "```\n",
    "File.open(\"foo.txt\",\"r\") do |io|\n",
    "  puts io.gets\n",
    "  puts io.read\n",
    "  io.rewind\n",
    "  p lines = io.readlines\n",
    "end\n",
    "```\n",
    "\n",
    "1. データを全て読み込んで、その各行を要素としてもつ配列を返す\n",
    "1. ファイルポインターをファイルの先頭に移動する\n",
    "1. IO から1バイトを読み込み整数として返す\n",
    "1. レシーバと同じ IO を参照する新しい IO オブジェクトを返す\n",
    "\n",
    "×\n",
    "\n",
    "* IOクラスでは、IO#rewindの他に、 seek、gets、read、readlineなどのインスタンスメソッドがある\n",
    "* seek : https://docs.ruby-lang.org/ja/latest/method/IO/i/seek.html"
   ]
  },
  {
   "cell_type": "code",
   "execution_count": null,
   "metadata": {
    "collapsed": true,
    "deletable": true,
    "editable": true
   },
   "outputs": [],
   "source": [
    "### foo.txt\n",
    "### foo\n",
    "### bar\n",
    "### baz\n",
    "\n",
    "File.open(\"foo.txt\",\"r\") do |io|\n",
    "  ### io.getsの挙動\n",
    "  #puts io.gets\n",
    "  #puts io.gets\n",
    "  #puts io.gets\n",
    "  #puts io.gets\n",
    "\n",
    "  ### io.readの挙動\n",
    "  #puts io.read\n",
    "  #puts io.read\n",
    "  \n",
    "  ### io.rewindの挙動\n",
    "  #puts io.gets\n",
    "  #puts io.gets\n",
    "  #io.rewind\n",
    "  #puts io.gets\n",
    "  \n",
    "  ### io.seekの挙動\n",
    "  #puts io.read\n",
    "  #puts \"### seek1\"\n",
    "  #io.seek(-11,IO::SEEK_CUR)\n",
    "  #puts io.read\n",
    "  #puts \"### seek2\"\n",
    "  #io.seek(-6,IO::SEEK_CUR)\n",
    "  #puts io.read\n",
    "  #puts \"### seek3\"\n",
    "  #io.seek(-3,IO::SEEK_CUR)\n",
    "  #puts io.read\n",
    "  \n",
    "  #io.readlinesの挙動\n",
    "  #p lines = io.readlines\n",
    "end"
   ]
  },
  {
   "cell_type": "markdown",
   "metadata": {
    "deletable": true,
    "editable": true
   },
   "source": [
    "# 問題16. 以下のコードを実行した時の出力に対して__（１）__に入る適切な記述は何でしょうか。\n",
    "\n",
    "```\n",
    "mozart = [\"Symphony\",\"Piano Concerto\", \"Violin Concerto\",\"Horn Concerto\",\"Violin Sonata\"]\n",
    "listend = [\"Symphony\",\"Violin Concerto\",\"Horn Concerto\"]\n",
    "p mozart__(1)__listend\n",
    "[出力]\n",
    "[\"Piano Conerto\",\"Violin Sonata\"]\n",
    "```\n",
    "\n",
    "×"
   ]
  },
  {
   "cell_type": "code",
   "execution_count": 139,
   "metadata": {
    "collapsed": false,
    "deletable": true,
    "editable": true
   },
   "outputs": [
    {
     "data": {
      "text/plain": [
       "[\"Symphony\", \"Violin Concerto\", \"Horn Concerto\"]"
      ]
     },
     "execution_count": 139,
     "metadata": {},
     "output_type": "execute_result"
    }
   ],
   "source": [
    "mozart = [\"Symphony\",\"Piano Concerto\", \"Violin Concerto\",\"Horn Concerto\",\"Violin Sonata\"]\n",
    "listend = [\"Symphony\",\"Violin Concerto\",\"Horn Concerto\"]\n",
    "#p mozart+listend\n",
    "#p mozart-listend\n",
    "#p mozart&listend\n",
    "#p mozart|listend"
   ]
  },
  {
   "cell_type": "markdown",
   "metadata": {
    "deletable": true,
    "editable": true
   },
   "source": [
    "# 問題17. 以下のコードを実行した出力はどうなりますか。\n",
    "\n",
    "〇"
   ]
  },
  {
   "cell_type": "code",
   "execution_count": 141,
   "metadata": {
    "collapsed": false,
    "deletable": true,
    "editable": true
   },
   "outputs": [
    {
     "data": {
      "text/plain": [
       "[2, 4, 6]"
      ]
     },
     "execution_count": 141,
     "metadata": {},
     "output_type": "execute_result"
    }
   ],
   "source": [
    "odd = [1,3,5]\n",
    "even = [2,4,6]\n",
    "#num = odd + even\n",
    "#p num.sort"
   ]
  },
  {
   "cell_type": "markdown",
   "metadata": {
    "deletable": true,
    "editable": true
   },
   "source": [
    "# 問題18. 下記の正規表現にマッチする文字列を2つ選択してください。\n",
    "\n",
    "```\n",
    "/^[hc].*o$/i\n",
    "```\n",
    "\n",
    "1. Hello\n",
    "1. holland\n",
    "1. Cello\n",
    "1. h35L320\n",
    "\n",
    "〇\n",
    "\n",
    "* 正規表現のオプションなど確認する"
   ]
  },
  {
   "cell_type": "markdown",
   "metadata": {
    "deletable": true,
    "editable": true
   },
   "source": [
    "# 問題19. 以下のコードを実行した出力はどうなりますか。\n",
    "\n",
    "〇"
   ]
  },
  {
   "cell_type": "code",
   "execution_count": 143,
   "metadata": {
    "collapsed": false,
    "deletable": true,
    "editable": true
   },
   "outputs": [],
   "source": [
    "#Greeting = \"Hello Ruby\"\n",
    "#Greeting = \"Hi Ruby\"\n",
    "#p Greeting"
   ]
  },
  {
   "cell_type": "markdown",
   "metadata": {
    "deletable": true,
    "editable": true
   },
   "source": [
    "# 問題20. 以下のコードを実行した出力はどうなりますか。\n",
    "\n",
    "×\n",
    "\n",
    "* File.joinのデフォルトの挙動は\n",
    "    * Fileクラスの場合デフォルトのセパレータは何になるか"
   ]
  },
  {
   "cell_type": "code",
   "execution_count": 145,
   "metadata": {
    "collapsed": false,
    "deletable": true,
    "editable": true
   },
   "outputs": [],
   "source": [
    "#p File.join(\"ruby\", \"exam\",\"silver\")"
   ]
  },
  {
   "cell_type": "markdown",
   "metadata": {
    "deletable": true,
    "editable": true
   },
   "source": [
    "# 問題21. 以下のコードを実行した出力はどうなりますか。\n",
    "\n",
    "〇"
   ]
  },
  {
   "cell_type": "code",
   "execution_count": 147,
   "metadata": {
    "collapsed": false,
    "deletable": true,
    "editable": true
   },
   "outputs": [
    {
     "name": "stdout",
     "output_type": "stream",
     "text": [
      "50,10\n"
     ]
    }
   ],
   "source": [
    "class Surface\n",
    "  attr_reader :s\n",
    "  def initialize(x,y)\n",
    "    @s = x * y\n",
    "  end\n",
    "end\n",
    "\n",
    "class Volume < Surface\n",
    "  attr_reader :v\n",
    "  def initialize(x,y,z)\n",
    "    super(x,y)\n",
    "    @v = x * y * z\n",
    "  end\n",
    "end\n",
    "\n",
    "a = Volume.new(2,5,5)\n",
    "puts \"#{a.v},#{a.s}\""
   ]
  },
  {
   "cell_type": "markdown",
   "metadata": {
    "deletable": true,
    "editable": true
   },
   "source": [
    "# 問題22. 以下のコードを実行した出力はどうなりますか。\n",
    "\n",
    "×\n",
    "\n",
    "* <font color=\"red\">破壊的メソッドと非破壊的なメソッドを認識する</font>\n",
    "* <font color=\"red\">破壊的メソッドで文字列を変更した後の変数の中身はどうなるか</font>"
   ]
  },
  {
   "cell_type": "code",
   "execution_count": 178,
   "metadata": {
    "collapsed": false,
    "deletable": true,
    "editable": true
   },
   "outputs": [],
   "source": [
    "#string = \"test code\"\n",
    "#p string.slice(0,4)\n",
    "#p string\n",
    "\n",
    "#string = \"test code\"\n",
    "#p string.slice!(0,4)\n",
    "#p string"
   ]
  },
  {
   "cell_type": "markdown",
   "metadata": {
    "deletable": true,
    "editable": true
   },
   "source": [
    "# 問題23. 以下のコードを実行した出力はどうなりますか。\n",
    "\n",
    "×\n",
    "\n",
    "* Ruby 2.0以降では、デフォルトのスクリプトエンコーディングは何か"
   ]
  },
  {
   "cell_type": "code",
   "execution_count": 183,
   "metadata": {
    "collapsed": false,
    "deletable": true,
    "editable": true
   },
   "outputs": [],
   "source": [
    "#puts \"ruby\".encoding\n",
    "#puts \"ruby\".encoding.name"
   ]
  },
  {
   "cell_type": "markdown",
   "metadata": {
    "deletable": true,
    "editable": true
   },
   "source": [
    "# 問題24. ハッシュ内にキーが存在するかどうか調べるメソッドの使いかたとして、誤っているものを1つ選択してください。\n",
    "\n",
    "```\n",
    "cc = {\"nz\"=>\"New Zealand\", \"ru\"=>\"Russia\", \"ar\"=>\"Argentina\"}\n",
    "```\n",
    "\n",
    "1. p cc.has_key?('nz')\n",
    "1. p cc.contain?('nz')\n",
    "1. p cc.key?('nz')\n",
    "1. p cc.include?('nz')\n",
    "1. p cc.member?('nz')\n",
    "\n",
    "〇"
   ]
  },
  {
   "cell_type": "code",
   "execution_count": 190,
   "metadata": {
    "collapsed": false,
    "deletable": true,
    "editable": true
   },
   "outputs": [
    {
     "data": {
      "text/plain": [
       "{\"nz\"=>\"New Zealand\", \"ru\"=>\"Russia\", \"ar\"=>\"Argentina\"}"
      ]
     },
     "execution_count": 190,
     "metadata": {},
     "output_type": "execute_result"
    }
   ],
   "source": [
    "cc = {\"nz\"=>\"New Zealand\", \"ru\"=>\"Russia\", \"ar\"=>\"Argentina\"}\n",
    "\n",
    "#p cc.has_key?('nz')\n",
    "#p cc.contain?('nz')\n",
    "#p cc.key?('nz')\n",
    "#p cc.include?('nz')\n",
    "#p cc.member?('nz')"
   ]
  },
  {
   "cell_type": "markdown",
   "metadata": {
    "deletable": true,
    "editable": true
   },
   "source": [
    "# 問題25. 以下のコードを実行した出力はどうなりますか。\n",
    "\n",
    "×"
   ]
  },
  {
   "cell_type": "code",
   "execution_count": 192,
   "metadata": {
    "collapsed": false,
    "deletable": true,
    "editable": true
   },
   "outputs": [],
   "source": [
    "#p \"Hello there\".class\n",
    "#p String.superclass\n",
    "class Foo; end\n",
    "class Bar < Foo; end\n",
    "#p Foo.superclass\n",
    "#p Bar.superclass "
   ]
  },
  {
   "cell_type": "markdown",
   "metadata": {
    "deletable": true,
    "editable": true
   },
   "source": [
    "# 問題26. 以下のコードを実行して文字列sの単語毎の出現回数を出力させたい。`__(1)__,__(2)__`に入る最適な組み合わせを１つ選択してください。\n",
    "\n",
    "```\n",
    "s = \"To be or not to be, that is the question.\"\n",
    "hash = Hash.new(0)\n",
    "s.__(1)__(__(2)__) {|i| hash[i] += 1}\n",
    "p hash[\"be\"] #=>2\n",
    "```\n",
    "\n",
    "1. (1)match (2)/\\w+/\n",
    "1. (1)sub (2)/\\w+/\n",
    "1. (1)scan (2)/\\w+/\n",
    "1. (1)search (2)/\\w+/\n",
    "\n",
    "×"
   ]
  },
  {
   "cell_type": "code",
   "execution_count": 197,
   "metadata": {
    "collapsed": false,
    "deletable": true,
    "editable": true
   },
   "outputs": [],
   "source": [
    "#s = \"To be or not to be, that is the question.\"\n",
    "#hash = Hash.new(0)\n",
    "#s.hoge(/\\w+/) {|i| hash[i] += 1}\n",
    "#p hash[\"be\"] #=>2"
   ]
  },
  {
   "cell_type": "markdown",
   "metadata": {
    "deletable": true,
    "editable": true
   },
   "source": [
    "# 問題27. 組み込みライブラリ、Integer#chr(encoding)についての説明として正しいものはどれか、2つ選択してください。\n",
    "\n",
    "1. 引数を指定しなかった場合はエラーが発生する。\n",
    "1. 指定されたエンコーディングでselfを正しく解釈できない場合はnilが返される。\n",
    "1. 引数で与えられたencodingにおいて、selfを文字コードと見なし、それに対応する一文字からなる文字列を返す。\n",
    "1. 指定されたエンコーディングでselfを正しく解釈できない場合はエラーが発生する。\n",
    "\n",
    "×"
   ]
  },
  {
   "cell_type": "code",
   "execution_count": 213,
   "metadata": {
    "collapsed": false,
    "deletable": true,
    "editable": true
   },
   "outputs": [],
   "source": [
    "#12354.chr(Encoding::UTF_8)\n",
    "#3478419.chr(Encoding::UTF_8)"
   ]
  },
  {
   "cell_type": "markdown",
   "metadata": {
    "deletable": true,
    "editable": true
   },
   "source": [
    "# 問題28. 以下のプログラムがerrorと出力する場合__(1)__,__(2)__に入る最適な組み合わせを１つ選択してください。\n",
    "\n",
    "```\n",
    "s = \"foo\"\n",
    "___(1)___\n",
    " s[4] = ?b\n",
    "___(2)___\n",
    " puts \"error\"\n",
    "end\n",
    "```\n",
    "\n",
    "1. `___(1)___`は「try」、`___(2)___`は「catch NameError」である\n",
    "1. `___(1)___`は「try」、`___(2)___`は「catch IndexError」である\n",
    "1. `___(1)___`は「begin」、`___(2)___`は「rescue NameError」である\n",
    "1. `___(1)___`は「begin」、`___(2)___`は「rescue IndexError」である\n",
    "\n",
    "〇"
   ]
  },
  {
   "cell_type": "code",
   "execution_count": 228,
   "metadata": {
    "collapsed": false,
    "deletable": true,
    "editable": true
   },
   "outputs": [
    {
     "data": {
      "text/plain": [
       "\"foo\""
      ]
     },
     "execution_count": 228,
     "metadata": {},
     "output_type": "execute_result"
    }
   ],
   "source": [
    "s = \"foo\"\n",
    "\n",
    "#s[3] = ?b\n",
    "#s[4] = ?b\n",
    "#p s\n",
    "\n",
    "#begin\n",
    "#  s[4] = ?b\n",
    "#rescue NameError\n",
    "#  puts \"error\"\n",
    "#end"
   ]
  },
  {
   "cell_type": "markdown",
   "metadata": {
    "deletable": true,
    "editable": true
   },
   "source": [
    "# 問題29. 以下のコードを実行した出力はどうなりますか。\n",
    "\n",
    "×"
   ]
  },
  {
   "cell_type": "code",
   "execution_count": 246,
   "metadata": {
    "collapsed": false,
    "deletable": true,
    "editable": true
   },
   "outputs": [
    {
     "data": {
      "text/plain": [
       "[]"
      ]
     },
     "execution_count": 246,
     "metadata": {},
     "output_type": "execute_result"
    }
   ],
   "source": [
    "ary = []\n",
    "#ary << 1 && false\n",
    "#true || ary << 2\n",
    "#false && ary << 3\n",
    "#false || ary << 4\n",
    "#p ary\n",
    "\n",
    "#ary2 << 1 && a = \"hoge\"\n",
    "#p ary2\n",
    "#p a"
   ]
  },
  {
   "cell_type": "markdown",
   "metadata": {
    "deletable": true,
    "editable": true
   },
   "source": [
    "* 論理演算子の評価方法\n",
    "    * <font color=\"red\">&&演算子においては左辺が真と評価されたときのみ右辺も評価される</font>\n",
    "    * <font color=\"red\">||演算子においては左辺が偽と評価されたときのみ右辺も評価される</font>\n",
    "* 今回の問題とif文での挙動について\n",
    "    * if文\n",
    "        * ||演算子は左辺がtrueの場合は以降は評価せずtrueを返す\n",
    "        * `if true || false` ※ trueで評価が終わる\n",
    "    * 今回の問題\n",
    "        * ||演算子は左辺がtrueの場合は以降は評価しない\n",
    "        * `true || ary << 2` ※ aryに2は入らない"
   ]
  },
  {
   "cell_type": "markdown",
   "metadata": {
    "deletable": true,
    "editable": true
   },
   "source": [
    "# 問題30. 以下のコードを実行した出力はどうなりますか。\n",
    "\n",
    "〇"
   ]
  },
  {
   "cell_type": "code",
   "execution_count": 251,
   "metadata": {
    "collapsed": false,
    "deletable": true,
    "editable": true
   },
   "outputs": [
    {
     "name": "stdout",
     "output_type": "stream",
     "text": [
      "\"foofoofoofoo\"\n"
     ]
    },
    {
     "data": {
      "text/plain": [
       "\"foofoofoofoo\""
      ]
     },
     "execution_count": 251,
     "metadata": {},
     "output_type": "execute_result"
    }
   ],
   "source": [
    "p \"foo\" * 2 **2"
   ]
  },
  {
   "cell_type": "markdown",
   "metadata": {
    "deletable": true,
    "editable": true
   },
   "source": [
    "# 問題31. 以下のコードを実行した出力はどうなりますか。\n",
    "\n",
    "×"
   ]
  },
  {
   "cell_type": "code",
   "execution_count": 248,
   "metadata": {
    "collapsed": false,
    "deletable": true,
    "editable": true
   },
   "outputs": [
    {
     "name": "stdout",
     "output_type": "stream",
     "text": [
      "[1, 2, 3]\n",
      "[1, 2, 3]\n",
      "[1, 2, 3]\n",
      "[1, 2, 3, 4]\n",
      "[1, 2, 3, 4]\n",
      "[1, 2, 3]\n"
     ]
    },
    {
     "data": {
      "text/plain": [
       "[1, 2, 3]"
      ]
     },
     "execution_count": 248,
     "metadata": {},
     "output_type": "execute_result"
    }
   ],
   "source": [
    "foo = [1,2,3]\n",
    "bar = foo\n",
    "baz = foo.dup\n",
    "p foo\n",
    "p bar\n",
    "p baz\n",
    "bar[3] = 4\n",
    "p foo\n",
    "p bar\n",
    "p baz"
   ]
  },
  {
   "cell_type": "markdown",
   "metadata": {
    "deletable": true,
    "editable": true
   },
   "source": [
    "# 問題32. テキストファイルを読み込んだファイルオブジェクトから一行ずつ読み込み表示したい。目的に一致するIOクラスのメソッドを２つ選択してください。\n",
    "\n",
    "1. readlines\n",
    "1. read\n",
    "1. gets\n",
    "1. readline\n",
    "1. find\n",
    "\n",
    "×"
   ]
  },
  {
   "cell_type": "code",
   "execution_count": 261,
   "metadata": {
    "collapsed": false,
    "deletable": true,
    "editable": true
   },
   "outputs": [],
   "source": [
    "### foo.txt\n",
    "### foo\n",
    "### bar\n",
    "### baz\n",
    "\n",
    "File.open(\"foo.txt\",\"r\") do |io|\n",
    "#  puts io.readlines\n",
    "#  puts io.read\n",
    "#  puts io.gets\n",
    "#  puts io.readline\n",
    "#  puts io.find\n",
    "end"
   ]
  },
  {
   "cell_type": "markdown",
   "metadata": {
    "deletable": true,
    "editable": true
   },
   "source": [
    "IO#getsとIO#readlineの違いはEOFに到達した時の振る舞いのみです。IO#getsはnil, IO#readlineはEOFErrorを返します。"
   ]
  },
  {
   "cell_type": "markdown",
   "metadata": {
    "deletable": true,
    "editable": true
   },
   "source": [
    "# 問題33. 以下のコードを実行した出力はどうなりますか。\n",
    "\n",
    "×"
   ]
  },
  {
   "cell_type": "code",
   "execution_count": 269,
   "metadata": {
    "collapsed": false,
    "deletable": true,
    "editable": true
   },
   "outputs": [
    {
     "name": "stdout",
     "output_type": "stream",
     "text": [
      "\"a,b,c,d\"\n"
     ]
    },
    {
     "data": {
      "text/plain": [
       "\"a,b,c,d\""
      ]
     },
     "execution_count": 269,
     "metadata": {},
     "output_type": "execute_result"
    }
   ],
   "source": [
    "str = \"a,b,c,d\"\n",
    "p str\n",
    "#p str.split(/,/, 2)"
   ]
  },
  {
   "cell_type": "markdown",
   "metadata": {
    "deletable": true,
    "editable": true
   },
   "source": [
    "# 問題34. 以下のコードを実行した出力はどうなりますか。\n",
    "\n",
    "×"
   ]
  },
  {
   "cell_type": "code",
   "execution_count": 272,
   "metadata": {
    "collapsed": false,
    "deletable": true,
    "editable": true
   },
   "outputs": [
    {
     "data": {
      "text/plain": [
       ":greeting"
      ]
     },
     "execution_count": 272,
     "metadata": {},
     "output_type": "execute_result"
    }
   ],
   "source": [
    "class Object\n",
    "  def greeting\n",
    "    print \"How are you?\\n\"\n",
    "  end\n",
    "end\n",
    "#[1,2].greeting"
   ]
  },
  {
   "cell_type": "markdown",
   "metadata": {
    "deletable": true,
    "editable": true
   },
   "source": [
    "* 定義済みクラス(Object)にメソッドを追加している\n",
    "    * 追加したメソッドの挙動"
   ]
  },
  {
   "cell_type": "markdown",
   "metadata": {
    "deletable": true,
    "editable": true
   },
   "source": [
    "# 問題35. 以下の正規表現とマッチするものを1つ選択してください。\n",
    "\n",
    "```\n",
    "/[0-9]{3}-[0-9]{4}/\n",
    "```\n",
    "\n",
    "1. 0x000000\n",
    "1. 0-93-0-94\n",
    "1. 93094\n",
    "1. 333-4421\n",
    "\n",
    "〇"
   ]
  },
  {
   "cell_type": "code",
   "execution_count": 278,
   "metadata": {
    "collapsed": false,
    "deletable": true,
    "editable": true
   },
   "outputs": [
    {
     "name": "stdout",
     "output_type": "stream",
     "text": [
      "0\n"
     ]
    },
    {
     "data": {
      "text/plain": [
       "0"
      ]
     },
     "execution_count": 278,
     "metadata": {},
     "output_type": "execute_result"
    }
   ],
   "source": [
    "p /[0-9]{3}-[0-9]{4}/ =~ \"333-4421\""
   ]
  },
  {
   "cell_type": "markdown",
   "metadata": {
    "deletable": true,
    "editable": true
   },
   "source": [
    "# 問題36. 以下のコードを実行した出力はどうなりますか。\n",
    "\n",
    "〇"
   ]
  },
  {
   "cell_type": "code",
   "execution_count": 279,
   "metadata": {
    "collapsed": false,
    "deletable": true,
    "editable": true
   },
   "outputs": [
    {
     "data": {
      "text/plain": [
       "[\"a\", \"b\", \"c\", \"d\", \"e\", \"f\"]"
      ]
     },
     "execution_count": 279,
     "metadata": {},
     "output_type": "execute_result"
    }
   ],
   "source": [
    "\"a\".upto(\"f\").to_a"
   ]
  },
  {
   "cell_type": "markdown",
   "metadata": {
    "deletable": true,
    "editable": true
   },
   "source": [
    "# 問題37. 以下のコードを実行した時にIOErrorが発生した。理由として考えられるものはどれか１つ選択してください。\n",
    "\n",
    "```\n",
    "File.open(\"foo.txt\") do |io|\n",
    " io.write(Time.now.strftime(\"%Y/%m/%d\"))\n",
    "end\n",
    "```\n",
    "\n",
    "1. 書き込みモードでファイルが開かれているため\n",
    "1. 読み込み可能なfoo.txtが存在しなかったため。\n",
    "1. 読み込みモードでファイルが開かれているため\n",
    "1. 読み書き両用モードでファイルが開かれているため\n",
    "\n",
    "〇"
   ]
  },
  {
   "cell_type": "markdown",
   "metadata": {
    "deletable": true,
    "editable": true
   },
   "source": [
    "# 問題38. 次のメソッドでDirクラスのクラスメソッドではないものをすべて選択してください。(2つ選択)\n",
    "\n",
    "1. Dir.rmdir\n",
    "1. Dir.basename\n",
    "1. Dir.pwd\n",
    "1. Dir.extname\n",
    "1. Dir.getwd\n",
    "\n",
    "×"
   ]
  },
  {
   "cell_type": "code",
   "execution_count": 285,
   "metadata": {
    "collapsed": false,
    "deletable": true,
    "editable": true
   },
   "outputs": [
    {
     "data": {
      "text/plain": [
       "\"/root/python/jupyter_notebook/Ruby\""
      ]
     },
     "execution_count": 285,
     "metadata": {},
     "output_type": "execute_result"
    }
   ],
   "source": [
    "Dir.pwd"
   ]
  },
  {
   "cell_type": "markdown",
   "metadata": {
    "deletable": true,
    "editable": true
   },
   "source": [
    "# 問題39. 以下のコードを実行した出力はどうなりますか。\n",
    "\n",
    "* 範囲指定の書き方\n",
    "    * どう書けば範囲指定となるか、ならないか\n",
    "\n",
    "×"
   ]
  },
  {
   "cell_type": "code",
   "execution_count": 287,
   "metadata": {
    "collapsed": false,
    "deletable": true,
    "editable": true
   },
   "outputs": [],
   "source": [
    "#puts \"0123456789\".delete(\"0-58-\")"
   ]
  },
  {
   "cell_type": "markdown",
   "metadata": {
    "deletable": true,
    "editable": true
   },
   "source": [
    "# 問題40. 下のコードを実行した時の出力に対して`__(1)__,__(2)__`に入る最適な組み合わせを１つ選択してください。\n",
    "\n",
    "```\n",
    "p \"100,200,300,400,500\".___(1)___.___(2)___\n",
    "[出力]\n",
    "\"100\\n200\\n300\\n400\\n500\"\n",
    "```\n",
    "\n",
    "1. (1)split(\",\")(2)join(\"\\n\")\n",
    "1. (1)to_a(\",\")(2)join(\"\\n\")\n",
    "1. (1)split(\",\")(2)concat(\"\\n\")\n",
    "1. (1)concat(\",\")(2)join(\"\\n\")\n",
    "\n",
    "〇"
   ]
  },
  {
   "cell_type": "code",
   "execution_count": 290,
   "metadata": {
    "collapsed": false,
    "deletable": true,
    "editable": true
   },
   "outputs": [],
   "source": [
    "#p \"100,200,300,400,500\".split(\",\").join(\"\\n\")"
   ]
  },
  {
   "cell_type": "markdown",
   "metadata": {
    "deletable": true,
    "editable": true
   },
   "source": [
    "# 問題41. 以下のコードを実行した出力はどうなりますか。\n",
    "\n",
    "〇"
   ]
  },
  {
   "cell_type": "code",
   "execution_count": 293,
   "metadata": {
    "collapsed": false,
    "deletable": true,
    "editable": true
   },
   "outputs": [
    {
     "data": {
      "text/plain": [
       "\"foo\""
      ]
     },
     "execution_count": 293,
     "metadata": {},
     "output_type": "execute_result"
    }
   ],
   "source": [
    "a = \"foo\"\n",
    "b = \"foo\"\n",
    "#puts a.eql?(b)\n",
    "#puts a.equal?(b)"
   ]
  },
  {
   "cell_type": "markdown",
   "metadata": {
    "deletable": true,
    "editable": true
   },
   "source": [
    "# 問題42. 以下のコードを実行した出力はどうなりますか。\n",
    "\n",
    "〇"
   ]
  },
  {
   "cell_type": "code",
   "execution_count": 296,
   "metadata": {
    "collapsed": false,
    "deletable": true,
    "editable": true
   },
   "outputs": [
    {
     "data": {
      "text/plain": [
       "[3, 89, 40, 39, 29, 10, 50, 59, 69]"
      ]
     },
     "execution_count": 296,
     "metadata": {},
     "output_type": "execute_result"
    }
   ],
   "source": [
    "numbers = [3,89,40,39,29,10,50,59,69]\n",
    "#num = numbers.inject do |i,j|\n",
    "#  i > j ? i : j\n",
    "#end\n",
    "#p num"
   ]
  },
  {
   "cell_type": "markdown",
   "metadata": {
    "deletable": true,
    "editable": true
   },
   "source": [
    "# 問題43. 以下のコードを実行した出力はどうなりますか。\n",
    "\n",
    "〇"
   ]
  },
  {
   "cell_type": "code",
   "execution_count": 300,
   "metadata": {
    "collapsed": false,
    "deletable": true,
    "editable": true
   },
   "outputs": [],
   "source": [
    "#p String.instance_methods.grep(/strip/)"
   ]
  },
  {
   "cell_type": "markdown",
   "metadata": {
    "deletable": true,
    "editable": true
   },
   "source": [
    "# 問題44. Hashの生成でエラーが発生するものを1つ選択してください。 \n",
    "\n",
    "1. capital ={:Sweden =>\"Stockholm\", :Norway=>\"Oslo\", :Finland=>\"Helsinki\"}\n",
    "1. capital = {Sweden: \"Stockholm\", Norway: \"Oslo\", Finland: \"Helsinki\"}\n",
    "1. capital = {\"Sweden\" = \"Stockholm\", \"Norway\" = \"Oslo\", \"Finland\" = \"Helsinki\"}\n",
    "1. capital = Hash[:Sweden, \"Stockholm\", :Norway ,\"Oslo\", :Finland, \"Helsinki\"]\n",
    "\n",
    "〇"
   ]
  },
  {
   "cell_type": "code",
   "execution_count": 306,
   "metadata": {
    "collapsed": false,
    "deletable": true,
    "editable": true
   },
   "outputs": [],
   "source": [
    "#capital ={:Sweden =>\"Stockholm\", :Norway=>\"Oslo\", :Finland=>\"Helsinki\"}\n",
    "#capital = {Sweden: \"Stockholm\", Norway: \"Oslo\", Finland: \"Helsinki\"}\n",
    "#capital = {\"Sweden\" = \"Stockholm\", \"Norway\" = \"Oslo\", \"Finland\" = \"Helsinki\"}\n",
    "#capital = Hash[:Sweden, \"Stockholm\", :Norway ,\"Oslo\", :Finland, \"Helsinki\"]"
   ]
  },
  {
   "cell_type": "markdown",
   "metadata": {
    "deletable": true,
    "editable": true
   },
   "source": [
    "# 問題45. 以下の出力になる時の`___(1)___`に入るものとして適切なものを1つ選択してください。\n",
    "\n",
    "```\n",
    "___(1)___ 'uri'\n",
    "uri = URI::HTTP.build({host:'www.ruby.or.jp', path:'/ja/certification/\n",
    "examination/'})\n",
    "puts uri\n",
    "[出力]\n",
    "http://www.ruby.or.jp/ja/certification/examination/\n",
    "```\n",
    "\n",
    "1. require\n",
    "1. include\n",
    "1. extend\n",
    "1. import\n",
    "\n",
    "〇"
   ]
  },
  {
   "cell_type": "code",
   "execution_count": 316,
   "metadata": {
    "collapsed": false,
    "deletable": true,
    "editable": true
   },
   "outputs": [],
   "source": [
    "#hoge 'uri'\n",
    "#uri = URI::HTTP.build({host:'www.ruby.or.jp', path:'/ja/certification/examination/'})\n",
    "#puts uri"
   ]
  },
  {
   "cell_type": "markdown",
   "metadata": {
    "deletable": true,
    "editable": true
   },
   "source": [
    "# 問題46. 以下の出力になる時の`___(1)___`に入るものとして適切なものを1つ選択してください。\n",
    "\n",
    "```\n",
    "class Foo\n",
    " ___(1)___= 0\n",
    " def self.count\n",
    " ___(1)___ += 1\n",
    " end\n",
    "end\n",
    "\n",
    "class Bar < Foo\n",
    "end\n",
    "\n",
    "puts Foo.count\n",
    "puts Bar.count\n",
    "[出力]\n",
    "1\n",
    "2\n",
    "```\n",
    "\n",
    "1. num\n",
    "1. @num\n",
    "1. @@num\n",
    "\n",
    "〇"
   ]
  },
  {
   "cell_type": "code",
   "execution_count": 320,
   "metadata": {
    "collapsed": false,
    "deletable": true,
    "editable": true
   },
   "outputs": [],
   "source": [
    "class Foo\n",
    "  hoge = 0\n",
    "  def self.count\n",
    "    hoge += 1\n",
    "  end\n",
    "end\n",
    "\n",
    "class Bar < Foo\n",
    "end\n",
    "\n",
    "#puts Foo.count\n",
    "#puts Bar.count"
   ]
  },
  {
   "cell_type": "markdown",
   "metadata": {
    "deletable": true,
    "editable": true
   },
   "source": [
    "# 問題47. 以下のコードを実行した出力はどうなりますか。\n",
    "\n",
    "〇"
   ]
  },
  {
   "cell_type": "code",
   "execution_count": 321,
   "metadata": {
    "collapsed": false,
    "deletable": true,
    "editable": true
   },
   "outputs": [
    {
     "name": "stdout",
     "output_type": "stream",
     "text": [
      "Hello\n"
     ]
    }
   ],
   "source": [
    "unless false || nil\n",
    "  print \"Hello\\n\"\n",
    "end"
   ]
  },
  {
   "cell_type": "markdown",
   "metadata": {
    "deletable": true,
    "editable": true
   },
   "source": [
    "# 問題48. 以下のコードを実行した出力はどうなりますか。\n",
    "\n",
    "×\n",
    "\n",
    "* Enumerable#detectメソッド\n",
    "* Enumerable#findメソッド"
   ]
  },
  {
   "cell_type": "code",
   "execution_count": 327,
   "metadata": {
    "collapsed": false,
    "deletable": true,
    "editable": true
   },
   "outputs": [
    {
     "data": {
      "text/plain": [
       "[1, 2, 3, 4, 5, 6, 7, 8, 9, 10, 11, 12, 13, 14, 15, 16, 17, 18, 19, 20]"
      ]
     },
     "execution_count": 327,
     "metadata": {},
     "output_type": "execute_result"
    }
   ],
   "source": [
    "numbers = (1..20).to_a\n",
    "#p numbers.detect{|x| x % 5 == 0}"
   ]
  },
  {
   "cell_type": "markdown",
   "metadata": {
    "deletable": true,
    "editable": true
   },
   "source": [
    "# 問題49. 以下のコードを実行した出力はどうなりますか。\n",
    "\n",
    "```\n",
    "class NonasciiError < StandardError\n",
    "end\n",
    "File.open(\"sample.txt\") do |io|\n",
    "  io.each_line do |str|\n",
    "    begin\n",
    "      raise(NonasciiError, \"non ascii character detected\") unless str.ascii_only?\n",
    "    rescue => ex\n",
    "      puts \"#{ex.message} : #{str}\"\n",
    "    end\n",
    "  end\n",
    "end\n",
    "\n",
    "[sample.txtの内容]\n",
    "Ruby Association\n",
    "ルビーアソシエーション\n",
    "るびー\n",
    "Ruby on Rails\n",
    "```\n",
    "\n",
    "×"
   ]
  },
  {
   "cell_type": "code",
   "execution_count": 329,
   "metadata": {
    "collapsed": false,
    "deletable": true,
    "editable": true
   },
   "outputs": [],
   "source": [
    "class NonasciiError < StandardError\n",
    "end\n",
    "File.open(\"sample.txt\") do |io|\n",
    "#  io.each_line do |str|\n",
    "#    begin\n",
    "#      raise(NonasciiError, \"non ascii character detected\") unless str.ascii_only?\n",
    "#    rescue => ex\n",
    "#      puts \"#{ex.message} : #{str}\"\n",
    "#    end\n",
    "#  end\n",
    "end"
   ]
  },
  {
   "cell_type": "markdown",
   "metadata": {
    "deletable": true,
    "editable": true
   },
   "source": [
    "# 問題50. 10進数で10を表すものを2つ選択してください。\n",
    "\n",
    "1. 0xA\n",
    "1. 0xFF\n",
    "1. 012\n",
    "1. 077\n",
    "1. 0x10\n",
    "\n",
    "×"
   ]
  },
  {
   "cell_type": "code",
   "execution_count": 332,
   "metadata": {
    "collapsed": false,
    "deletable": true,
    "editable": true
   },
   "outputs": [],
   "source": [
    "#p 0xA\n",
    "#p 0xFF\n",
    "#p 012\n",
    "#p 077\n",
    "#p 0x10"
   ]
  },
  {
   "cell_type": "markdown",
   "metadata": {
    "deletable": true,
    "editable": true
   },
   "source": [
    "# Ruby技術者認定資格合格教本"
   ]
  },
  {
   "cell_type": "markdown",
   "metadata": {
    "deletable": true,
    "editable": true
   },
   "source": [
    "# 問題1. マジックコメントの書き方で正しいものをすべて選んでください\n",
    "\n",
    "1. `# coding: utf-8`\n",
    "1. `# encoding: utf-8`\n",
    "1. `# -*- charset: utf-8 -*-`\n",
    "1. `# CODING: UTF-8`\n",
    "\n",
    "〇"
   ]
  },
  {
   "cell_type": "markdown",
   "metadata": {
    "deletable": true,
    "editable": true
   },
   "source": [
    "# 問題2. 以下のコードを実行した出力はどうなりますか。\n",
    "\n",
    "×"
   ]
  },
  {
   "cell_type": "code",
   "execution_count": 339,
   "metadata": {
    "collapsed": false,
    "deletable": true,
    "editable": true
   },
   "outputs": [
    {
     "data": {
      "text/plain": [
       ":hoge"
      ]
     },
     "execution_count": 339,
     "metadata": {},
     "output_type": "execute_result"
    }
   ],
   "source": [
    "x = 0\n",
    "def hoge\n",
    "  (1...5).each do |i|\n",
    "    x += 1\n",
    "  end\n",
    "  puts x\n",
    "end\n",
    "#hoge"
   ]
  },
  {
   "cell_type": "markdown",
   "metadata": {
    "deletable": true,
    "editable": true
   },
   "source": [
    "# 問題3. 以下のコードを実行した出力はどうなりますか。\n",
    "\n",
    "×"
   ]
  },
  {
   "cell_type": "code",
   "execution_count": 343,
   "metadata": {
    "collapsed": false,
    "deletable": true,
    "editable": true
   },
   "outputs": [
    {
     "name": "stdout",
     "output_type": "stream",
     "text": [
      "Error.\n",
      "Ensure.\n"
     ]
    }
   ],
   "source": [
    "begin\n",
    "  puts 1+\"2\"\n",
    "rescue\n",
    "  puts \"Error.\"\n",
    "rescue TypeError\n",
    "  puts \"TypeError.\"\n",
    "ensure\n",
    "  puts \"Ensure.\"\n",
    "end"
   ]
  },
  {
   "cell_type": "markdown",
   "metadata": {
    "deletable": true,
    "editable": true
   },
   "source": [
    "# 問題4. エラーになるのはどれですか\n",
    "\n",
    "1. puts \"90\"\n",
    "1. puts '90'\n",
    "1. puts 0x90\n",
    "1. puts 090\n",
    "\n",
    "〇"
   ]
  },
  {
   "cell_type": "code",
   "execution_count": 346,
   "metadata": {
    "collapsed": false,
    "deletable": true,
    "editable": true
   },
   "outputs": [],
   "source": [
    "#puts \"90\"\n",
    "#puts '90'\n",
    "#puts 0x90\n",
    "#puts 090"
   ]
  },
  {
   "cell_type": "markdown",
   "metadata": {
    "deletable": true,
    "editable": true
   },
   "source": [
    "# 問題5. 以下のコードを実行した出力はどうなりますか。\n",
    "\n",
    "〇"
   ]
  },
  {
   "cell_type": "code",
   "execution_count": 349,
   "metadata": {
    "collapsed": false,
    "deletable": true,
    "editable": true
   },
   "outputs": [],
   "source": [
    "#x = 10\n",
    "#y = x < 10 ? \"A\" : \"B\"\n",
    "#puts y"
   ]
  },
  {
   "cell_type": "markdown",
   "metadata": {
    "deletable": true,
    "editable": true
   },
   "source": [
    "# 問題6. 以下のコードを実行した出力はどうなりますか。\n",
    "\n",
    "〇"
   ]
  },
  {
   "cell_type": "code",
   "execution_count": 368,
   "metadata": {
    "collapsed": false,
    "deletable": true,
    "editable": true
   },
   "outputs": [],
   "source": [
    "#MAX=10\n",
    "#print MAX\n",
    "#MAX=100\n",
    "#print MAX"
   ]
  },
  {
   "cell_type": "markdown",
   "metadata": {
    "deletable": true,
    "editable": true
   },
   "source": [
    "# 問題7. 以下のコードを実行した出力はどうなりますか。\n",
    "\n",
    "☓"
   ]
  },
  {
   "cell_type": "code",
   "execution_count": 370,
   "metadata": {
    "collapsed": false,
    "deletable": true,
    "editable": true
   },
   "outputs": [
    {
     "data": {
      "text/plain": [
       ":foo"
      ]
     },
     "execution_count": 370,
     "metadata": {},
     "output_type": "execute_result"
    }
   ],
   "source": [
    "def foo(*a)\n",
    "  p a\n",
    "end\n",
    "\n",
    "#foo(1,2,3)"
   ]
  },
  {
   "cell_type": "markdown",
   "metadata": {
    "deletable": true,
    "editable": true
   },
   "source": [
    "# 問題8. 以下の変数の說明のうち間違っているものを全て選んでください\n",
    "\n",
    "1.  ローカル変数はアルファベット1文字で始まり、2文字以上である\n",
    "1. グローバル変数は `$` で始まる\n",
    "1. インスタンス変数は `@` で始まる\n",
    "1. クラス変数は `*` で始まる\n",
    "1. 定数はアルファベット大文字で始まる\n",
    "\n",
    "○"
   ]
  },
  {
   "cell_type": "markdown",
   "metadata": {
    "deletable": true,
    "editable": true
   },
   "source": [
    "# 問題9. 以下のコードを実行した出力はどうなりますか。\n",
    "\n",
    "○"
   ]
  },
  {
   "cell_type": "code",
   "execution_count": 2,
   "metadata": {
    "collapsed": false,
    "deletable": true,
    "editable": true
   },
   "outputs": [
    {
     "name": "stdout",
     "output_type": "stream",
     "text": [
      "Hello\n"
     ]
    }
   ],
   "source": [
    "class Hoge\n",
    "  attr_reader :message\n",
    "  def initialize\n",
    "    @message = \"Hello\"\n",
    "  end\n",
    "end\n",
    "\n",
    "class Piyo < Hoge\n",
    "  def initialize\n",
    "    @message = \"Hi\"\n",
    "    super\n",
    "  end\n",
    "end\n",
    "\n",
    "puts Piyo.new.message"
   ]
  },
  {
   "cell_type": "markdown",
   "metadata": {
    "deletable": true,
    "editable": true
   },
   "source": [
    "# 問題10. 円の面積を求めるコードを動かすために必要な修正をしてください(2通り)\n",
    "\n",
    "```\n",
    "def area r\n",
    "  return r * r * PI\n",
    "end\n",
    "p area(3)\n",
    "```\n",
    "\n",
    "×"
   ]
  },
  {
   "cell_type": "code",
   "execution_count": 16,
   "metadata": {
    "collapsed": false,
    "deletable": true,
    "editable": true
   },
   "outputs": [
    {
     "name": "stdout",
     "output_type": "stream",
     "text": [
      "28.274333882308138\n"
     ]
    },
    {
     "data": {
      "text/plain": [
       "28.274333882308138"
      ]
     },
     "execution_count": 16,
     "metadata": {},
     "output_type": "execute_result"
    }
   ],
   "source": [
    "def area r\n",
    "  return r * r * Math::PI\n",
    "end\n",
    "p area(3)"
   ]
  },
  {
   "cell_type": "code",
   "execution_count": 22,
   "metadata": {
    "collapsed": false,
    "deletable": true,
    "editable": true
   },
   "outputs": [],
   "source": [
    "#hoge Math\n",
    "#def area r\n",
    "#  return r * r * PI\n",
    "#end\n",
    "#p area(3)"
   ]
  },
  {
   "cell_type": "markdown",
   "metadata": {
    "deletable": true,
    "editable": true
   },
   "source": [
    "# 問題11. オーバーライド不可の演算子を2つ選んでください\n",
    "\n",
    "1. +\n",
    "2. ..\n",
    "3. %\n",
    "4. &\n",
    "5. &&\n",
    "6. =="
   ]
  },
  {
   "cell_type": "markdown",
   "metadata": {
    "deletable": true,
    "editable": true
   },
   "source": [
    "# 問題12. 以下のコードを実行した出力はどうなりますか。\n",
    "\n",
    "○"
   ]
  },
  {
   "cell_type": "code",
   "execution_count": 23,
   "metadata": {
    "collapsed": false,
    "deletable": true,
    "editable": true
   },
   "outputs": [
    {
     "name": "stdout",
     "output_type": "stream",
     "text": [
      "Hi!\n"
     ]
    }
   ],
   "source": [
    "s = \"Hello\"\n",
    "\n",
    "def s.greet\n",
    "  puts \"Hi!\"\n",
    "end\n",
    "\n",
    "class String\n",
    "  def greet\n",
    "    puts \"Hello!\"\n",
    "  end\n",
    "end\n",
    "\n",
    "s.greet"
   ]
  },
  {
   "cell_type": "markdown",
   "metadata": {
    "deletable": true,
    "editable": true
   },
   "source": [
    "# 問題13. 実行結果になるように `___X___` に入るコードを入れてください\n",
    "\n",
    "この問題おかしくない？\n",
    "\n",
    "```\n",
    "1.\n",
    "================================================\n",
    "def <=> other\n",
    "  return self.id <=> other.id\n",
    "end\n",
    "================================================\n",
    "\n",
    "2.\n",
    "================================================\n",
    "def compareTo(other)\n",
    "  return self.compareTo(other)\n",
    "================================================\n",
    "\n",
    "3.\n",
    "================================================\n",
    "include Sortable\n",
    "================================================\n",
    "\n",
    "4.\n",
    "================================================\n",
    "def sort(self, other)\n",
    "  self.id <=> other.id\n",
    "end\n",
    "================================================\n",
    "```\n"
   ]
  },
  {
   "cell_type": "code",
   "execution_count": 2,
   "metadata": {
    "collapsed": false,
    "deletable": true,
    "editable": true
   },
   "outputs": [
    {
     "name": "stdout",
     "output_type": "stream",
     "text": [
      "1:Suzuki\n",
      "2:Sato\n",
      "3:Tanaka\n"
     ]
    },
    {
     "data": {
      "text/plain": [
       "[#<Employee:0x007ff26831f148 @id=\"1\", @name=\"Suzuki\">, #<Employee:0x007ff26831f080 @id=\"2\", @name=\"Sato\">, #<Employee:0x007ff26831f1c0 @id=\"3\", @name=\"Tanaka\">]"
      ]
     },
     "execution_count": 2,
     "metadata": {},
     "output_type": "execute_result"
    }
   ],
   "source": [
    "class Employee\n",
    "  attr_reader :id\n",
    "  attr_reader :name\n",
    "  #attr_accessor :name\n",
    "  def initialize id, name\n",
    "    @id = id\n",
    "    @name = name\n",
    "  end\n",
    "  \n",
    "  def to_s\n",
    "    return \"#{@id}:#{@name}\"\n",
    "  end  \n",
    "  # ___X___\n",
    "  #def <=> other\n",
    "  #  return self.id <=> other.id\n",
    "  #end\n",
    "end\n",
    "\n",
    "employees = []\n",
    "employees << Employee.new(\"3\",\"Tanaka\")\n",
    "employees << Employee.new(\"1\",\"Suzuki\")\n",
    "employees << Employee.new(\"2\",\"Sato\")\n",
    "employees.sort!\n",
    "\n",
    "employees.each do |employees|\n",
    "  puts employees\n",
    "end\n"
   ]
  },
  {
   "cell_type": "markdown",
   "metadata": {
    "deletable": true,
    "editable": true
   },
   "source": [
    "# 問題14. 実行結果になるように `___X___` に入るコードを入れてください\n",
    "\n",
    "```\n",
    "a = [1,2,3,4]\n",
    "b = [1,3,5,7]\n",
    "\n",
    "c = ___X___\n",
    "c.each {|i| print i, \" \"}\n",
    "\n",
    "### 実行結果\n",
    "1 3\n",
    "```\n",
    "\n",
    "〇"
   ]
  },
  {
   "cell_type": "code",
   "execution_count": 3,
   "metadata": {
    "collapsed": false,
    "deletable": true,
    "editable": true
   },
   "outputs": [
    {
     "name": "stdout",
     "output_type": "stream",
     "text": [
      "1 3 "
     ]
    },
    {
     "data": {
      "text/plain": [
       "[1, 3]"
      ]
     },
     "execution_count": 3,
     "metadata": {},
     "output_type": "execute_result"
    }
   ],
   "source": [
    "a = [1,2,3,4]\n",
    "b = [1,3,5,7]\n",
    "\n",
    "c = a & b\n",
    "c.each {|i| print i, \" \"}"
   ]
  },
  {
   "cell_type": "markdown",
   "metadata": {
    "deletable": true,
    "editable": true
   },
   "source": [
    "# 問題15. 実行結果になるように `___X___` に入るコードを入れてください\n",
    "\n",
    "```\n",
    "a = [1,2,3,4]\n",
    "\n",
    "___X___.each do |i| print i, \" \" end\n",
    "\n",
    "### 実行結果\n",
    "1 2 3\n",
    "```\n",
    "\n",
    "×"
   ]
  },
  {
   "cell_type": "code",
   "execution_count": 17,
   "metadata": {
    "collapsed": false,
    "deletable": true,
    "editable": true
   },
   "outputs": [
    {
     "data": {
      "text/plain": [
       "[1, 2, 3, 4]"
      ]
     },
     "execution_count": 17,
     "metadata": {},
     "output_type": "execute_result"
    }
   ],
   "source": [
    "a = [1,2,3,4]\n",
    "\n",
    "#a[0..-1].each do |i| print i, \" \" end\n",
    "#a[0...-1].each do |i| print i, \" \" end\n",
    "#a[0,1].each do |i| print i, \" \" end"
   ]
  },
  {
   "cell_type": "markdown",
   "metadata": {},
   "source": [
    "# 問題16. 配列のメソッドについて適切な記述を2つ選んでください\n",
    "\n",
    "1. find_allとselectは同じ動作をする。\n",
    "1. mapとcollectは同じ動作をする。\n",
    "1. findとselectは同じ動作をする\n",
    "1. firstは先頭の要素を削除し、その要素を返す。\n",
    "1. concatは非破壊的メソッドである\n",
    "1. concat!は破壊的メソッドである\n",
    "\n",
    "×"
   ]
  },
  {
   "cell_type": "markdown",
   "metadata": {},
   "source": [
    "# 問題17. 以下のコードを実行した出力はどうなりますか。\n",
    "\n",
    "×"
   ]
  },
  {
   "cell_type": "code",
   "execution_count": 21,
   "metadata": {
    "collapsed": false
   },
   "outputs": [],
   "source": [
    "#p a1=%w(a b)\n",
    "#p a2=%w(x y)\n",
    "#p a3=a1.zip(a2)\n",
    "#p a3.first"
   ]
  },
  {
   "cell_type": "markdown",
   "metadata": {},
   "source": [
    "# 問題18. 以下のコードを実行した出力はどうなりますか。\n",
    "\n",
    "〇"
   ]
  },
  {
   "cell_type": "code",
   "execution_count": 23,
   "metadata": {
    "collapsed": false
   },
   "outputs": [
    {
     "data": {
      "text/plain": [
       "[1, 2, 3, 4, 5]"
      ]
     },
     "execution_count": 23,
     "metadata": {},
     "output_type": "execute_result"
    }
   ],
   "source": [
    "a = [1,2,3,4,5]\n",
    "#p a.slice(1,3)"
   ]
  },
  {
   "cell_type": "markdown",
   "metadata": {},
   "source": [
    "# 問題19. 以下のコードを実行した出力はどうなりますか。\n",
    "\n",
    "〇"
   ]
  },
  {
   "cell_type": "code",
   "execution_count": 29,
   "metadata": {
    "collapsed": false
   },
   "outputs": [
    {
     "data": {
      "text/plain": [
       "\"abc\""
      ]
     },
     "execution_count": 29,
     "metadata": {},
     "output_type": "execute_result"
    }
   ],
   "source": [
    "a = \"abc\"\n",
    "b = \"abc\"\n",
    "\n",
    "#print a.eql? b\n",
    "#print a.equal? b\n",
    "#print a == b\n",
    "#print a === b"
   ]
  },
  {
   "cell_type": "markdown",
   "metadata": {},
   "source": [
    "# 問題20. 以下のコードでエラーにならないものはどれですか。\n",
    "\n",
    "×"
   ]
  },
  {
   "cell_type": "code",
   "execution_count": 35,
   "metadata": {
    "collapsed": false
   },
   "outputs": [],
   "source": [
    "#puts 5 + \"Hello\"\n",
    "#puts \"Hello\" + 5\n",
    "#puts \"Hello\" * 5\n",
    "#puts 5 * \"Hello\""
   ]
  },
  {
   "cell_type": "markdown",
   "metadata": {},
   "source": [
    "# 問題21. 以下のコードを実行した出力はどうなりますか。\n",
    "\n",
    "×"
   ]
  },
  {
   "cell_type": "code",
   "execution_count": 41,
   "metadata": {
    "collapsed": false
   },
   "outputs": [],
   "source": [
    "# s = <<\"EOB\"\n",
    "# Hello,\n",
    "# Ruby\n",
    "# World.\n",
    "# EOB\n",
    "# \"EOB\"\n",
    "# #puts s\n",
    "# p s"
   ]
  },
  {
   "cell_type": "markdown",
   "metadata": {},
   "source": [
    "# 問題22. 以下のコードを実行した出力はどうなりますか。\n",
    "\n",
    "×"
   ]
  },
  {
   "cell_type": "code",
   "execution_count": 45,
   "metadata": {
    "collapsed": false
   },
   "outputs": [
    {
     "data": {
      "text/plain": [
       "\"Fuga\""
      ]
     },
     "execution_count": 45,
     "metadata": {},
     "output_type": "execute_result"
    }
   ],
   "source": [
    "s1=\"Hoge\"\n",
    "s2=\"Fuga\"\n",
    "# p s1.concat(s2)\n",
    "# p s1.chop\n",
    "# p s1.chomp\n",
    "# p s1+s2\n",
    "# puts s1"
   ]
  },
  {
   "cell_type": "markdown",
   "metadata": {},
   "source": [
    "# 問題23. 以下のコードを実行した出力はどうなりますか。\n",
    "\n",
    "〇"
   ]
  },
  {
   "cell_type": "code",
   "execution_count": 47,
   "metadata": {
    "collapsed": false
   },
   "outputs": [
    {
     "data": {
      "text/plain": [
       "\"123456789\""
      ]
     },
     "execution_count": 47,
     "metadata": {},
     "output_type": "execute_result"
    }
   ],
   "source": [
    "s = \"123456789\"\n",
    "#p s[1,4]"
   ]
  },
  {
   "cell_type": "markdown",
   "metadata": {},
   "source": [
    "# 問題24. 実行結果になるように `___X___` に入るコードを入れてください\n",
    "\n",
    "```\n",
    "member = [10, \"Tanaka\"]\n",
    "print \"ID:%2d Name:%s\"___X___member\n",
    "\n",
    "===\n",
    "ID:10 Name:Tanaka\n",
    "```\n",
    "\n",
    "〇"
   ]
  },
  {
   "cell_type": "code",
   "execution_count": 49,
   "metadata": {
    "collapsed": false
   },
   "outputs": [
    {
     "data": {
      "text/plain": [
       "[10, \"Tanaka\"]"
      ]
     },
     "execution_count": 49,
     "metadata": {},
     "output_type": "execute_result"
    }
   ],
   "source": [
    "member = [10, \"Tanaka\"]\n",
    "#print \"ID:%2d Name:%s\" hoge member"
   ]
  },
  {
   "cell_type": "markdown",
   "metadata": {},
   "source": [
    "# 問題25. Hashクラスについて適切な記述を2つ選んでください\n",
    "\n",
    "1. {}で空のHashオブジェクトを生成できる\n",
    "1. []で空のHashオブジェクトを生成できる\n",
    "1. invertでキーと値を入れ替える事ができる\n",
    "1. keyに対応する値を取り出すメソッドとしてhas_key?(key)、key?(key)、get_key(key)などが用意されている\n",
    "1. 全ての要素を削除するには、delete_allを使用する\n",
    "\n",
    "〇"
   ]
  },
  {
   "cell_type": "markdown",
   "metadata": {},
   "source": [
    "# 問題26. Hashクラスの説明として適切ではない記述はどれですか\n",
    "\n",
    "1. deleteはキーを指定してキーと値の組を削除する。\n",
    "1. removeはキーと値の組を削除する。\n",
    "1. fetchは与えられたキーに関連付けられた値を返す。\n",
    "1. clearはハッシュの要素をすべて削除する。\n",
    "\n",
    "×"
   ]
  },
  {
   "cell_type": "markdown",
   "metadata": {},
   "source": [
    "# 問題27. 実行結果になるように `___X___` に入るコードを入れてください\n",
    "\n",
    "```\n",
    "h = ___X___\n",
    "p h\n",
    "\n",
    "===\n",
    "{ :a => 1, :b => 2, :c => 3 }\n",
    "```\n",
    "\n",
    "〇\n"
   ]
  },
  {
   "cell_type": "code",
   "execution_count": 60,
   "metadata": {
    "collapsed": false
   },
   "outputs": [
    {
     "name": "stdout",
     "output_type": "stream",
     "text": [
      "{:a=>1, :b=>2, :c=>3}\n"
     ]
    }
   ],
   "source": [
    "a = {a: 1, b: 2, c: 3}\n",
    "puts a\n",
    "#p Hash[:a, 1, :b, 2, :c, 3]"
   ]
  },
  {
   "cell_type": "code",
   "execution_count": null,
   "metadata": {
    "collapsed": true
   },
   "outputs": [],
   "source": [
    "a: 1, b: 2, c:3"
   ]
  }
 ],
 "metadata": {
  "kernelspec": {
   "display_name": "Ruby 2.3.3",
   "language": "ruby",
   "name": "ruby"
  },
  "language_info": {
   "file_extension": ".rb",
   "mimetype": "application/x-ruby",
   "name": "ruby",
   "version": "2.3.3"
  }
 },
 "nbformat": 4,
 "nbformat_minor": 2
}
