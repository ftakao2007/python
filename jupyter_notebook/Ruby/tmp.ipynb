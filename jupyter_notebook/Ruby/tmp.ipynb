{
 "cells": [
  {
   "cell_type": "code",
   "execution_count": 14,
   "metadata": {},
   "outputs": [
    {
     "ename": "LoadError",
     "evalue": "cannot load such file -- pry-doc/version",
     "output_type": "error",
     "traceback": [
      "\u001b[31mLoadError\u001b[0m: cannot load such file -- pry-doc/version",
      "<internal:/usr/local/rbenv/versions/3.2.1/lib/ruby/3.2.0/rubygems/core_ext/kernel_require.rb>:88:in `require'",
      "<internal:/usr/local/rbenv/versions/3.2.1/lib/ruby/3.2.0/rubygems/core_ext/kernel_require.rb>:88:in `require'",
      "/usr/local/rbenv/versions/3.2.1/lib/ruby/gems/3.2.0/gems/pry-doc-1.4.0/lib/pry-doc.rb:23:in `<top (required)>'",
      "<internal:/usr/local/rbenv/versions/3.2.1/lib/ruby/3.2.0/rubygems/core_ext/kernel_require.rb>:88:in `require'",
      "<internal:/usr/local/rbenv/versions/3.2.1/lib/ruby/3.2.0/rubygems/core_ext/kernel_require.rb>:88:in `require'",
      "(irb):11:in `<top (required)>'"
     ]
    }
   ],
   "source": [
    "### pry-docの読み込み\n",
    "#require \"/root/jupyter/vendor/bundle/ruby/2.3.0/gems/pry-doc-0.10.0/lib/pry-doc\"\n",
    "#require \"/root/git_jupyter_notebook/Ruby/vendor/bundle/ruby/2.3.0/gems/pry-doc-0.10.0/lib/pry-doc\"\n",
    "#require \"/Users/ftakao2007/jupyter/vendor/bundle/ruby/2.3.0/gems/pry-doc-0.10.0/lib/pry-doc\"\n",
    "$LOAD_PATH.push(\n",
    "  '/usr/local/rbenv/versions/3.2.1/lib/ruby/gems/3.2.0/gems/yard-0.9.28/lib', \n",
    "  '/usr/local/rbenv/versions/3.2.1/lib/ruby/gems/3.2.0/gems/pry-0.14.2/lib',\n",
    "  '/usr/local/rbenv/versions/3.2.1/lib/ruby/gems/3.2.0/gems/coderay-1.1.3/lib',\n",
    "  '/usr/local/rbenv/versions/3.2.1/lib/ruby/gems/3.2.0/gems/method_source-1.0.0/lib'\n",
    ")\n",
    "\n",
    "require \"/usr/local/rbenv/versions/3.2.1/lib/ruby/gems/3.2.0/gems/pry-doc-1.4.0/lib/pry-doc\"\n",
    "### エンコーディングをUTF-8に設定\n",
    "Encoding.default_external = \"UTF-8\""
   ]
  },
  {
   "cell_type": "code",
   "execution_count": 15,
   "metadata": {},
   "outputs": [
    {
     "name": "stdout",
     "output_type": "stream",
     "text": [
      "/home/ftakao2007/.local/share/gem/ruby/3.2.0/gems/iruby-0.7.4/lib\n",
      "/home/ftakao2007/.local/share/gem/ruby/3.2.0/gems/data_uri-0.1.0/lib\n",
      "/home/ftakao2007/.local/share/gem/ruby/3.2.0/gems/ffi-1.15.5/lib\n",
      "/home/ftakao2007/.local/share/gem/ruby/3.2.0/extensions/x86_64-linux/3.2.0/ffi-1.15.5\n",
      "/home/ftakao2007/.local/share/gem/ruby/3.2.0/gems/ffi-rzmq-core-1.0.7/lib\n",
      "/home/ftakao2007/.local/share/gem/ruby/3.2.0/gems/ffi-rzmq-2.0.7/lib\n",
      "/home/ftakao2007/.local/share/gem/ruby/3.2.0/gems/mime-types-data-3.2023.0218.1/lib\n",
      "/home/ftakao2007/.local/share/gem/ruby/3.2.0/gems/mime-types-3.4.1/lib\n",
      "/home/ftakao2007/.local/share/gem/ruby/3.2.0/gems/multi_json-1.15.0/lib\n",
      "/home/ftakao2007/.local/share/gem/ruby/3.2.0/gems/native-package-installer-1.1.5/lib\n",
      "/home/ftakao2007/.local/share/gem/ruby/3.2.0/gems/iruby-0.7.4/lib\n",
      "/home/ftakao2007/.local/share/gem/ruby/3.2.0/extensions/x86_64-linux/3.2.0/iruby-0.7.4\n",
      "/usr/local/rbenv/versions/3.2.1/lib/ruby/site_ruby/3.2.0\n",
      "/usr/local/rbenv/versions/3.2.1/lib/ruby/site_ruby/3.2.0/x86_64-linux\n",
      "/usr/local/rbenv/versions/3.2.1/lib/ruby/site_ruby\n",
      "/usr/local/rbenv/versions/3.2.1/lib/ruby/vendor_ruby/3.2.0\n",
      "/usr/local/rbenv/versions/3.2.1/lib/ruby/vendor_ruby/3.2.0/x86_64-linux\n",
      "/usr/local/rbenv/versions/3.2.1/lib/ruby/vendor_ruby\n",
      "/usr/local/rbenv/versions/3.2.1/lib/ruby/3.2.0\n",
      "/usr/local/rbenv/versions/3.2.1/lib/ruby/3.2.0/x86_64-linux\n",
      "/usr/local/rbenv/versions/3.2.1/lib/ruby/gems/3.2.0/gems/yard-0.9.28/lib\n",
      "/usr/local/rbenv/versions/3.2.1/lib/ruby/gems/3.2.0/gems/yard-0.9.28/lib\n",
      "/usr/local/rbenv/versions/3.2.1/lib/ruby/gems/3.2.0/gems/pry-0.14.2/lib\n",
      "/usr/local/rbenv/versions/3.2.1/lib/ruby/gems/3.2.0/gems/yard-0.9.28/lib\n",
      "/usr/local/rbenv/versions/3.2.1/lib/ruby/gems/3.2.0/gems/pry-0.14.2/lib\n",
      "/usr/local/rbenv/versions/3.2.1/lib/ruby/gems/3.2.0/gems/yard-0.9.28/lib\n",
      "/usr/local/rbenv/versions/3.2.1/lib/ruby/gems/3.2.0/gems/pry-0.14.2/lib\n",
      "/usr/local/rbenv/versions/3.2.1/lib/ruby/gems/3.2.0/gems/coderay-1.1.3/lib\n",
      "/usr/local/rbenv/versions/3.2.1/lib/ruby/gems/3.2.0/gems/yard-0.9.28/lib\n",
      "/usr/local/rbenv/versions/3.2.1/lib/ruby/gems/3.2.0/gems/pry-0.14.2/lib\n",
      "/usr/local/rbenv/versions/3.2.1/lib/ruby/gems/3.2.0/gems/coderay-1.1.3/lib\n",
      "/usr/local/rbenv/versions/3.2.1/lib/ruby/gems/3.2.0/gems/method_source-1.0.0/lib\n"
     ]
    }
   ],
   "source": [
    "puts $LOAD_PATH"
   ]
  },
  {
   "cell_type": "code",
   "execution_count": 16,
   "metadata": {},
   "outputs": [
    {
     "name": "stdout",
     "output_type": "stream",
     "text": [
      "1を0では割れません\n"
     ]
    }
   ],
   "source": [
    "begin\n",
    "  1/ 0\n",
    "rescue\n",
    "  puts \"1を0では割れません\"\n",
    "end"
   ]
  },
  {
   "cell_type": "code",
   "execution_count": 17,
   "metadata": {},
   "outputs": [
    {
     "ename": "SyntaxError",
     "evalue": "(irb): syntax error, unexpected constant, expecting `do' or '{' or '('\nshow-doc Array#zip\n         ^~~~~\n",
     "output_type": "error",
     "traceback": [
      "\u001b[31mSyntaxError\u001b[0m: (irb): syntax error, unexpected constant, expecting `do' or '{' or '('\nshow-doc Array#zip\n         ^~~~~\n"
     ]
    }
   ],
   "source": [
    "show-doc Array#zip"
   ]
  },
  {
   "cell_type": "code",
   "execution_count": 18,
   "metadata": {},
   "outputs": [
    {
     "name": "stderr",
     "output_type": "stream",
     "text": [
      "(irb): warning: already initialized constant Object::HOGE\n"
     ]
    },
    {
     "name": "stdout",
     "output_type": "stream",
     "text": [
      "51120\n",
      "51120\n"
     ]
    }
   ],
   "source": [
    "HOGE = \"haga\"\n",
    "puts HOGE.object_id\n",
    "HOGE << \"Fuga\"\n",
    "puts HOGE.object_id"
   ]
  },
  {
   "cell_type": "code",
   "execution_count": 26,
   "metadata": {},
   "outputs": [
    {
     "name": "stdout",
     "output_type": "stream",
     "text": [
      "SyntaxError: (eval):3: dynamic constant assignment\n",
      "  ABC = 1\n",
      "       ^\n"
     ]
    }
   ],
   "source": [
    "def method1\n",
    "  ABC = 1\n",
    "end"
   ]
  },
  {
   "cell_type": "code",
   "execution_count": 29,
   "metadata": {},
   "outputs": [
    {
     "name": "stderr",
     "output_type": "stream",
     "text": [
      "(pry):70: warning: already initialized constant FUGAA\n",
      "(pry):68: warning: previous definition of FUGAA was here\n"
     ]
    },
    {
     "data": {
      "text/plain": [
       "3"
      ]
     },
     "execution_count": 29,
     "metadata": {},
     "output_type": "execute_result"
    }
   ],
   "source": [
    "FUGAA=2\n",
    "FUGAA.freeze\n",
    "FUGAA=3"
   ]
  },
  {
   "cell_type": "code",
   "execution_count": 30,
   "metadata": {},
   "outputs": [
    {
     "name": "stdout",
     "output_type": "stream",
     "text": [
      "\n",
      "\u001b[1mFrom:\u001b[0m variable.c (C Method):\n",
      "\u001b[1mOwner:\u001b[0m Module\n",
      "\u001b[1mVisibility:\u001b[0m public\n",
      "\u001b[1mSignature:\u001b[0m const_missing(arg1)\n",
      "\u001b[1mNumber of lines:\u001b[0m 29\n",
      "\n",
      "Invoked when a reference is made to an undefined constant in\n",
      "\u001b[1mmod\u001b[0m. It is passed a symbol for the undefined constant, and\n",
      "returns a value to be used for that constant. The\n",
      "following code is an example of the same:\n",
      "\n",
      "  \u001b[32mdef\u001b[0m \u001b[1;34;4mFoo\u001b[0m.\u001b[1;34mconst_missing\u001b[0m(name)\n",
      "    name \u001b[1;34m# return the constant name as Symbol\u001b[0m\n",
      "  \u001b[32mend\u001b[0m\n",
      "\n",
      "  \u001b[1;34;4mFoo\u001b[0m::\u001b[1;34;4mUNDEFINED_CONST\u001b[0m    \u001b[1;34m#=> :UNDEFINED_CONST: symbol returned\u001b[0m\n",
      "\n",
      "In the next example when a reference is made to an undefined constant,\n",
      "it attempts to load a file whose name is the lowercase version of the\n",
      "constant (thus class \u001b[1;34;4mFred\u001b[0m is assumed to be in file\n",
      "fred.rb).  If found, it returns the loaded class. It\n",
      "therefore implements an autoload feature similar to Kernel#autoload and\n",
      "Module#autoload.\n",
      "\n",
      "  \u001b[32mdef\u001b[0m \u001b[1;34;4mObject\u001b[0m.\u001b[1;34mconst_missing\u001b[0m(name)\n",
      "    @looked_for ||= {}\n",
      "    str_name = name.to_s\n",
      "    raise \u001b[31m\u001b[1;31m\"\u001b[0m\u001b[31mClass not found: #{name}\u001b[0m\u001b[31m\u001b[1;31m\"\u001b[0m\u001b[31m\u001b[0m \u001b[32mif\u001b[0m @looked_for[str_name]\n",
      "    @looked_for[str_name] = \u001b[1;34m1\u001b[0m\n",
      "    file = str_name.downcase\n",
      "    require file\n",
      "    klass = const_get(name)\n",
      "    \u001b[32mreturn\u001b[0m klass \u001b[32mif\u001b[0m klass\n",
      "    raise \u001b[31m\u001b[1;31m\"\u001b[0m\u001b[31mClass not found: #{name}\u001b[0m\u001b[31m\u001b[1;31m\"\u001b[0m\u001b[31m\u001b[0m\n",
      "  \u001b[32mend\u001b[0m\n"
     ]
    }
   ],
   "source": [
    "show-doc Module#const_missing"
   ]
  },
  {
   "cell_type": "code",
   "execution_count": 34,
   "metadata": {},
   "outputs": [
    {
     "name": "stdout",
     "output_type": "stream",
     "text": [
      "true\n",
      "false\n"
     ]
    }
   ],
   "source": [
    "puts /[ab]c/ != \"ac\"\n",
    "puts /[ab]c/ !~ \"ac\"\n"
   ]
  },
  {
   "cell_type": "code",
   "execution_count": 50,
   "metadata": {},
   "outputs": [
    {
     "name": "stdout",
     "output_type": "stream",
     "text": [
      "0.\n",
      "1\n",
      "2\n",
      "Fizz\n",
      "4\n",
      "Buzz\n",
      "Fizz\n",
      "7\n",
      "8\n",
      "Fizz\n",
      "Buzz\n",
      "11\n",
      "Fizz\n",
      "13\n",
      "14\n",
      "Fizz Buzz\n"
     ]
    },
    {
     "data": {
      "text/plain": [
       "0"
      ]
     },
     "execution_count": 50,
     "metadata": {},
     "output_type": "execute_result"
    }
   ],
   "source": [
    "\n",
    "def fizz_buzz(num)\n",
    "  return \"0.\" if num == 0\n",
    "  return \"Fizz\" if num % 15 != 0 && num % 3 == 0\n",
    "  return \"Buzz\" if num % 3 != 0 && num % 15 != 0 && num % 5 == 0\n",
    "  return \"Fizz Buzz\" if num % 15 == 0\n",
    "  return num\n",
    "end\n",
    "\n",
    "0.upto(15) do |i|\n",
    "  puts fizz_buzz(i)\n",
    "end\n"
   ]
  },
  {
   "cell_type": "code",
   "execution_count": 59,
   "metadata": {},
   "outputs": [
    {
     "name": "stdout",
     "output_type": "stream",
     "text": [
      "orの使い所\n",
      "hoge\n"
     ]
    }
   ],
   "source": [
    "puts \"orの使い所\"\n",
    "a = nil\n",
    "a or puts \"hoge\""
   ]
  }
 ],
 "metadata": {
  "kernelspec": {
   "display_name": "Ruby 3.2.1",
   "language": "ruby",
   "name": "ruby"
  },
  "language_info": {
   "file_extension": ".rb",
   "mimetype": "application/x-ruby",
   "name": "ruby",
   "version": "3.2.1"
  }
 },
 "nbformat": 4,
 "nbformat_minor": 2
}
