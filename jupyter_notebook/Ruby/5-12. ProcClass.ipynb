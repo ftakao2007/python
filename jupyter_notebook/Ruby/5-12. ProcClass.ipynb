{
 "cells": [
  {
   "cell_type": "code",
   "execution_count": 1,
   "metadata": {
    "collapsed": false
   },
   "outputs": [
    {
     "data": {
      "text/plain": [
       "true"
      ]
     },
     "execution_count": 1,
     "metadata": {},
     "output_type": "execute_result"
    }
   ],
   "source": [
    "### pry-docの読み込み\n",
    "require \"/root/git_jupyter_notebook/Ruby/vendor/bundle/ruby/2.3.0/gems/pry-doc-0.10.0/lib/pry-doc\"\n",
    "#require \"/Users/ftakao2007/jupyter/vendor/bundle/ruby/2.3.0/gems/pry-doc-0.10.0/lib/pry-doc\""
   ]
  },
  {
   "cell_type": "markdown",
   "metadata": {},
   "source": [
    "# Procクラス\n",
    "\n",
    "* Procクラス\n",
    "    * ブロックを実行時のローカル変数のスコープなどのコンテキストと共にオブジェクト化した手続きオブジェクトを扱うクラス\n",
    "    * 名前のない関数(無名関数)のように使うことができます\n",
    "    * 手続きを実行するにはcallメソッドを使う\n",
    "    * 引数をとることができる\n",
    "        * 生成された手続きオブジェクトの引数の数はarityメソッドで取得できる"
   ]
  },
  {
   "cell_type": "code",
   "execution_count": 8,
   "metadata": {
    "collapsed": false
   },
   "outputs": [
    {
     "name": "stdout",
     "output_type": "stream",
     "text": [
      "#<Proc:0x007fefd4c1aa18@(pry):26>\n",
      "OK\n",
      "\n",
      "0\n"
     ]
    },
    {
     "data": {
      "text/plain": [
       "0"
      ]
     },
     "execution_count": 8,
     "metadata": {},
     "output_type": "execute_result"
    }
   ],
   "source": [
    "puts f = Proc.new{ puts 'OK'}\n",
    "puts f.call"
   ]
  },
  {
   "cell_type": "code",
   "execution_count": 13,
   "metadata": {
    "collapsed": false
   },
   "outputs": [
    {
     "name": "stdout",
     "output_type": "stream",
     "text": [
      "#<Proc:0x007fefd4c84a58@(pry):41>\n",
      "2\n",
      "OK\n",
      "NG\n",
      "\n"
     ]
    }
   ],
   "source": [
    "puts f = Proc.new{ |s,t| puts s,t}\n",
    "puts f.arity\n",
    "\n",
    "puts f.call('OK','NG')"
   ]
  },
  {
   "cell_type": "markdown",
   "metadata": {},
   "source": [
    "## ローカル変数の値などは実行時の状態に応じて変化する\n",
    "\n",
    "* オブジェクト生成時のコンテキストを保持している"
   ]
  },
  {
   "cell_type": "code",
   "execution_count": 15,
   "metadata": {
    "collapsed": false
   },
   "outputs": [
    {
     "name": "stdout",
     "output_type": "stream",
     "text": [
      "70\n",
      "\n",
      "100\n",
      "\n"
     ]
    }
   ],
   "source": [
    "i = 30\n",
    "j = 40\n",
    "\n",
    "f = Proc.new{puts i + j}\n",
    "puts f.call\n",
    "\n",
    "i = 60\n",
    "\n",
    "puts f.call"
   ]
  },
  {
   "cell_type": "markdown",
   "metadata": {},
   "source": [
    "## ブロック付きメソッドの引数として利用する"
   ]
  },
  {
   "cell_type": "code",
   "execution_count": 17,
   "metadata": {
    "collapsed": false
   },
   "outputs": [
    {
     "name": "stdout",
     "output_type": "stream",
     "text": [
      "0\n",
      "1\n",
      "2\n"
     ]
    },
    {
     "data": {
      "text/plain": [
       "3"
      ]
     },
     "execution_count": 17,
     "metadata": {},
     "output_type": "execute_result"
    }
   ],
   "source": [
    "f = Proc.new{|i| puts i}\n",
    "3.times(&f)"
   ]
  },
  {
   "cell_type": "markdown",
   "metadata": {},
   "source": [
    "## 手続きオブジェクトの中での処理の中断\n",
    "\n",
    "* メソッド\n",
    "    * next\n",
    "        * 処理を中断する"
   ]
  },
  {
   "cell_type": "code",
   "execution_count": 18,
   "metadata": {
    "collapsed": false
   },
   "outputs": [
    {
     "data": {
      "text/plain": [
       "\"next\""
      ]
     },
     "execution_count": 18,
     "metadata": {},
     "output_type": "execute_result"
    }
   ],
   "source": [
    "f = Proc.new { next \"next\"; \"last\"}\n",
    "f.call"
   ]
  },
  {
   "cell_type": "markdown",
   "metadata": {},
   "source": [
    "## Procクラス以外の手続きオブジェクト\n",
    "\n",
    "* Kernelモジュールのlambdaメソッド\n",
    "    * 引数の数が異なるとArgumentErrorとなる\n",
    "        * Proc.newは引数への多重代入となりエラーにはならない\n",
    "* Kernelモジュールのprocメソッド\n",
    "    * Proc.newと同じ？\n"
   ]
  },
  {
   "cell_type": "code",
   "execution_count": 37,
   "metadata": {
    "collapsed": false
   },
   "outputs": [
    {
     "name": "stdout",
     "output_type": "stream",
     "text": [
      "Proc.new\n",
      "1\n",
      "2\n",
      "nil\n",
      "[1, 2, nil]\n",
      "1\n",
      "2\n",
      "3\n",
      "[1, 2, 3]\n",
      "\n",
      "lambda\n",
      "wrong number of arguments (given 2, expected 3)\n",
      "1\n",
      "2\n",
      "3\n",
      "[1, 2, 3]\n",
      "wrong number of arguments (given 4, expected 3)\n",
      "\n",
      "proc\n",
      "1\n",
      "2\n",
      "nil\n",
      "[1, 2, nil]\n",
      "1\n",
      "2\n",
      "3\n",
      "[1, 2, 3]\n",
      "1\n",
      "2\n",
      "3\n",
      "[1, 2, 3]\n"
     ]
    }
   ],
   "source": [
    "puts \"Proc.new\"\n",
    "f = Proc.new{|a,b,c| p a, b, c}\n",
    "puts f.call(1,2)\n",
    "puts f.call(1,2,3,4)\n",
    "puts\n",
    "\n",
    "puts \"lambda\"\n",
    "g = lambda {|a,b,c| p a, b, c}\n",
    "begin\n",
    "  puts g.call(1,2)      #Error\n",
    "rescue ArgumentError => e\n",
    "  puts e\n",
    "end\n",
    "\n",
    "puts g.call(1,2,3)\n",
    "\n",
    "begin\n",
    "  puts g.call(1,2,3,4)      #Error\n",
    "rescue ArgumentError => e\n",
    "  puts e\n",
    "end\n",
    "puts\n",
    "\n",
    "puts \"proc\"\n",
    "h = proc {|a,b,c| p a, b, c}\n",
    "puts h.call(1,2)\n",
    "puts h.call(1,2,3)\n",
    "puts h.call(1,2,3,4)"
   ]
  },
  {
   "cell_type": "markdown",
   "metadata": {},
   "source": [
    "## 手続きオブジェクト中でのジャンプ構文\n",
    "\n",
    "* メソッド\n",
    "    * break\n",
    "        * Proc.new : LocalJumpError\n",
    "        * proc : LocalJumpError\n",
    "        * lambda : ループ(オブジェクト)を抜ける\n",
    "    * return\n",
    "        * Proc.new : LocalJumpError\n",
    "        * proc : LocalJumpError\n",
    "        * lambda : メソッドを抜ける"
   ]
  },
  {
   "cell_type": "code",
   "execution_count": 73,
   "metadata": {
    "collapsed": false
   },
   "outputs": [
    {
     "name": "stdout",
     "output_type": "stream",
     "text": [
      "break\n",
      "\n",
      "Proc.new\n",
      "1\n",
      "break from proc-closure\n",
      "\n",
      "proc\n",
      "2\n",
      "break from proc-closure\n",
      "\n",
      "lambda\n",
      "3\n"
     ]
    }
   ],
   "source": [
    "puts \"break\"\n",
    "puts\n",
    "\n",
    "puts \"Proc.new\"\n",
    "f = Proc.new{|a| p a; break; p a}\n",
    "begin\n",
    "  f.call(1)\n",
    "rescue LocalJumpError => e\n",
    "  puts e\n",
    "end\n",
    "puts\n",
    "\n",
    "puts \"proc\"\n",
    "h = proc {|c| p c; break; p c}\n",
    "begin\n",
    "  h.call(2)\n",
    "rescue LocalJumpError => e\n",
    "  puts e\n",
    "end\n",
    "puts\n",
    "  \n",
    "puts \"lambda\"\n",
    "g = lambda {|b| p b; break; p b}\n",
    "g.call(3)"
   ]
  },
  {
   "cell_type": "code",
   "execution_count": 77,
   "metadata": {
    "collapsed": false
   },
   "outputs": [
    {
     "name": "stdout",
     "output_type": "stream",
     "text": [
      "return\n",
      "\n",
      "Proc.new\n",
      "1\n",
      "unexpected return\n",
      "\n",
      "proc\n",
      "2\n",
      "unexpected return\n",
      "\n",
      "lambda\n",
      "3\n"
     ]
    }
   ],
   "source": [
    "puts \"return\"\n",
    "puts\n",
    "\n",
    "puts \"Proc.new\"\n",
    "f = Proc.new{|a| p a; return; p a}\n",
    "begin\n",
    "  f.call(1)\n",
    "rescue LocalJumpError => e\n",
    "  puts e\n",
    "end\n",
    "puts\n",
    "\n",
    "puts \"proc\"\n",
    "h = proc {|c| p c; return; p c}\n",
    "begin\n",
    "  h.call(2)\n",
    "rescue LocalJumpError => e\n",
    "  puts e\n",
    "end\n",
    "puts\n",
    "  \n",
    "puts \"lambda\"\n",
    "g = lambda {|b| p b; return; p b}\n",
    "g.call(3)"
   ]
  },
  {
   "cell_type": "code",
   "execution_count": 79,
   "metadata": {
    "collapsed": false
   },
   "outputs": [
    {
     "name": "stdout",
     "output_type": "stream",
     "text": [
      "nextは以降は実行せず次のループを開始\n",
      "----\n",
      "1\n",
      "2\n",
      "4\n",
      "5\n",
      "end\n",
      "breakはループを抜ける\n",
      "----\n",
      "1\n",
      "2\n",
      "end\n",
      "returnはメソッドを抜ける\n",
      "----\n",
      "1\n",
      "2\n"
     ]
    }
   ],
   "source": [
    "### まとめ\n",
    "\n",
    "def block_next\n",
    "  puts '----'\n",
    "  (1..5).each do |i|\n",
    "    next if i % 3 == 0\n",
    "    puts i\n",
    "  end\n",
    "  puts 'end'\n",
    "end\n",
    "\n",
    "def block_break\n",
    "  puts '----'\n",
    "  (1..5).each do |i|\n",
    "    break if i % 3 == 0\n",
    "    puts i\n",
    "  end\n",
    "  puts 'end'\n",
    "end\n",
    "\n",
    "def block_return\n",
    "  puts '----'\n",
    "  (1..5).each do |i|\n",
    "    return if i % 3 == 0\n",
    "    puts i\n",
    "  end\n",
    "  puts 'end'\n",
    "end\n",
    "\n",
    "puts \"nextは以降は実行せず次のループを開始\"\n",
    "block_next\n",
    "puts \"breakはループを抜ける\"\n",
    "block_break\n",
    "puts \"returnはメソッドを抜ける\"\n",
    "block_return"
   ]
  }
 ],
 "metadata": {
  "kernelspec": {
   "display_name": "Ruby 2.3.3",
   "language": "ruby",
   "name": "ruby"
  },
  "language_info": {
   "file_extension": ".rb",
   "mimetype": "application/x-ruby",
   "name": "ruby",
   "version": "2.3.3"
  }
 },
 "nbformat": 4,
 "nbformat_minor": 2
}
