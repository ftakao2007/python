{
 "cells": [
  {
   "cell_type": "markdown",
   "metadata": {
    "deletable": true,
    "editable": true
   },
   "source": [
    "# 配列\n",
    "\n",
    "* Arrayクラスのインスタンス\n",
    "    * 配列リテラル\n",
    "        * 要素を角カッコで囲み、要素の間をカンマで区切ることで生成する\n",
    "    * Arrayクラスのインスタンスを生成することで配列を作成可能\n",
    "    * 初期値は第二引数やブロックで指定\n",
    "    * 第二引数で指定したオブジェクトは同一オブジェクト\n",
    "    * 破壊的メソッドで変更するとすべての配列の値が変更されることになる\n",
    "    * ブロックで初期化することですべての配列の値が変更されることを防ぐことができる"
   ]
  },
  {
   "cell_type": "code",
   "execution_count": 1,
   "metadata": {
    "collapsed": false,
    "deletable": true,
    "editable": true
   },
   "outputs": [
    {
     "name": "stdout",
     "output_type": "stream",
     "text": [
      "\"\\u914D\\u5217\\u30EA\\u30C6\\u30E9\\u30EB : \\u8981\\u7D20\\u3092\\u89D2\\u30AB\\u30C3\\u30B3\\u3067\\u56F2\\u307F\\u3001\\u8981\\u7D20\\u306E\\u9593\\u3092\\u30AB\\u30F3\\u30DE\\u3067\\u533A\\u5207\\u308B\\u3053\\u3068\\u3067\\u751F\\u6210\\u3059\\u308B\"\n",
      "[10, true, \"foo\", :bar]\n",
      "10\n",
      "\"\\u521D\\u671F\\u5024\\u306F\\u7B2C\\u4E8C\\u5F15\\u6570\\u3084\\u30D6\\u30ED\\u30C3\\u30AF\\u3067\\u6307\\u5B9A\"\n",
      "[nil, nil, nil]\n",
      "3\n",
      "[\"foo\", \"foo\", \"foo\"]\n",
      "[\"bar\", \"bar\", \"bar\"]\n",
      "[\"hoge\", \"hoge\", \"hoge\"]\n",
      "[0, 1, 2]\n",
      "[1, 2, 3]\n",
      "[3, 4, 5]\n",
      "\"\\u7B2C\\u4E8C\\u5F15\\u6570\\u3067\\u6307\\u5B9A\\u3057\\u305F\\u30AA\\u30D6\\u30B8\\u30A7\\u30AF\\u30C8\\u306F\\u540C\\u4E00\\u30AA\\u30D6\\u30B8\\u30A7\\u30AF\\u30C8\"\n",
      "[\"fuga\", \"fuga\", \"fuga\"]\n",
      "70020712879380\n",
      "70020712879380\n",
      "70020712879380\n",
      "\"\\u7834\\u58CA\\u7684\\u30E1\\u30BD\\u30C3\\u30C9\\u3067\\u5909\\u66F4\\u3059\\u308B\\u3068\\u3059\\u3079\\u3066\\u306E\\u914D\\u5217\\u306E\\u5024\\u304C\\u5909\\u66F4\\u3055\\u308C\\u308B\\u3053\\u3068\\u306B\\u306A\\u308B\"\n",
      "[\"haga\", \"haga\", \"haga\"]\n",
      "[\"zzz\", \"zzz\", \"zzz\"]\n",
      "\"\\u30D6\\u30ED\\u30C3\\u30AF\\u3067\\u521D\\u671F\\u5316\\u3059\\u308B\\u3053\\u3068\\u3067\\u3059\\u3079\\u3066\\u306E\\u914D\\u5217\\u306E\\u5024\\u304C\\u5909\\u66F4\\u3055\\u308C\\u308B\\u3053\\u3068\\u3092\\u9632\\u3050\\u3053\\u3068\\u304C\\u3067\\u304D\\u308B\"\n",
      "[\"xxx\", \"xxx\", \"xxx\"]\n",
      "70020712618020\n",
      "70020712618000\n",
      "70020712617960\n",
      "[\"yyy\", \"xxx\", \"xxx\"]\n"
     ]
    },
    {
     "data": {
      "text/plain": [
       "[\"yyy\", \"xxx\", \"xxx\"]"
      ]
     },
     "execution_count": 1,
     "metadata": {},
     "output_type": "execute_result"
    }
   ],
   "source": [
    "p \"配列リテラル : 要素を角カッコで囲み、要素の間をカンマで区切ることで生成する\"\n",
    "p a = [10, true, \"foo\", :bar]   #=> [10, true, \"foo\", :bar]\n",
    "p a[0]                          #=> 10\n",
    "\n",
    "p \"初期値は第二引数やブロックで指定\"\n",
    "p v1 = Array.new(3)               #=> [nil, nil, nil]\n",
    "p v1.length                       #=> 3\n",
    "p v2 = Array.new(3,\"foo\")         #=> [\"foo\", \"foo\", \"foo\"]\n",
    "p v3 = Array.new(3){\"bar\"}        #=> [\"bar\", \"bar\", \"bar\"]\n",
    "p Array.new(3){|v| v = \"hoge\"}    #=> [\"hoge\", \"hoge\", \"hoge\"]\n",
    "p Array.new(3){|v| v}             #=> [0, 1, 2]\n",
    "p Array.new(3){|v| v + 1}         #=> [1, 2, 3]\n",
    "p Array.new(3){|v| v + 3}         #=> [3, 4, 5]\n",
    "\n",
    "p \"第二引数で指定したオブジェクトは同一オブジェクト\"\n",
    "p v4 = Array.new(3,\"fuga\")        #=> [\"fuga\", \"fuga\", \"fuga\"]\n",
    "p v4[0].object_id                 #=> (69924207752260など)\n",
    "p v4[1].object_id                 #=> (69924207752260など上と同じ)\n",
    "p v4[2].object_id                 #=> (69924207752260など上と同じ)\n",
    "\n",
    "p \"破壊的メソッドで変更するとすべての配列の値が変更されることになる\"\n",
    "p v5 = Array.new(3,\"haga\")        #=> [\"haga\", \"haga\", \"haga\"]\n",
    "v5[0].replace(\"zzz\")\n",
    "p v5                              #=> [\"zzz\", \"zzz\", \"zzz\"]\n",
    "\n",
    "p \"ブロックで初期化することですべての配列の値が変更されることを防ぐことができる\"\n",
    "p v6 = Array.new(3){\"xxx\"}          #=> [\"xxx\", \"xxx\", \"xxx\"]\n",
    "p v6[0].object_id                 #=> (70099484225320など)\n",
    "p v6[1].object_id                 #=> (70099484225300など上と異なる)\n",
    "p v6[2].object_id                 #=> (70099484225280など上と異なる)\n",
    "v6[0].replace(\"yyy\")\n",
    "p v6                                #=> [\"yyy\", \"xxx\", \"xxx\"]"
   ]
  },
  {
   "cell_type": "markdown",
   "metadata": {
    "deletable": true,
    "editable": true
   },
   "source": [
    "* 二次元配列\n",
    "* パーセント記法による配列の生成\n",
    "    * %Wでダブルクオート、%wでシングルクオート区切りの配列\n",
    "    * 素間は空白区切り\n",
    "* サイズを超えた要素への代入\n",
    "    * 配列のサイズは要素の代入によって動的に変わる\n",
    "    * 上限を超えた場合はnilを返す\n",
    "* 添え字演算子\n",
    "    * 配列の要素への参照や代入\n",
    "        * 構文ではなくArrayクラスのメソッドとして実装されている\n",
    "        * 参照\n",
    "            * []メソッド\n",
    "        * 代入\n",
    "            * []=メソッド\n",
    "    * 添え字として負の整数や複数の整数を指定できる\n",
    "    * <font color=\"Red\">要素を指定して代入</font>"
   ]
  },
  {
   "cell_type": "code",
   "execution_count": 4,
   "metadata": {
    "collapsed": false,
    "deletable": true,
    "editable": true
   },
   "outputs": [
    {
     "name": "stdout",
     "output_type": "stream",
     "text": [
      "\"\\u4E8C\\u6B21\\u5143\\u914D\\u5217\"\n",
      "[[1, 2], [\"a\", \"b\"]]\n",
      "[1, 2]\n",
      "2\n",
      "\"\\u30D1\\u30FC\\u30BB\\u30F3\\u30C8\\u8A18\\u6CD5\\u306B\\u3088\\u308B\\u914D\\u5217\\u306E\\u751F\\u6210\"\n",
      "[\"abc\", \"def\", \"foo\"]\n",
      "[\"ghi\", \"jkl\", \"\\#{bar}\"]\n",
      "\"abc&def&foo\"\n",
      "\"\\u30B5\\u30A4\\u30BA\\u3092\\u8D85\\u3048\\u305F\\u8981\\u7D20\\u3078\\u306E\\u4EE3\\u5165\"\n",
      "[\"hoge\"]\n",
      "[\"hoge\", nil, nil, \"fuga\"]\n",
      "nil\n",
      "\"\\u6DFB\\u3048\\u5B57\\u6F14\\u7B97\\u5B50\"\n",
      "[\"a\", \"b\", \"c\", \"d\", \"e\"]\n",
      "\"a\"\n",
      "\"e\"\n",
      "\"d\"\n",
      "\"b\"\n",
      "nil\n",
      "[\"c\", \"d\", \"e\"]\n",
      "[\"d\", \"e\"]\n",
      "\"\\u8981\\u7D20\\u3092\\u6307\\u5B9A\\u3057\\u3066\\u4EE3\\u5165\"\n",
      "[\"a\", \"b\", \"c\", \"d\", \"e\"]\n",
      "[\"a\", \"f\", \"d\", \"e\"]\n",
      "[\"a\", \"g\", \"h\", \"e\"]\n",
      "\"\\u591A\\u91CD\\u4EE3\\u5165\\u3068\\u53EF\\u5909\\u9577\\u5F15\\u6570\"\n",
      "1\n",
      "2\n",
      "3\n",
      "4\n",
      "5\n",
      "6\n",
      "1\n",
      "2\n"
     ]
    },
    {
     "data": {
      "text/plain": [
       "[1, 2]"
      ]
     },
     "execution_count": 4,
     "metadata": {},
     "output_type": "execute_result"
    }
   ],
   "source": [
    "p \"二次元配列\"\n",
    "p b = [[1,2],[\"a\",\"b\"]]         #=> [[1, 2], [\"a\", \"b\"]]\n",
    "p b[0]                          #=> [1,2]\n",
    "p b[0][1]                       #=> 2\n",
    "\n",
    "p \"パーセント記法による配列の生成\"\n",
    "foo=\"foo\"\n",
    "bar=\"bar\"\n",
    "p %W(abc def #{foo})              #=> [\"abc\", \"def\", \"foo\"]\n",
    "p %w(ghi jkl #{bar})              #=> [\"ghi\", \"jkl\", \"\\#{bar}\"]\n",
    "p %W(abc def #{foo}).join(\"&\")    #=> \"abc&def&foo\"\n",
    "\n",
    "p \"サイズを超えた要素への代入\"\n",
    "p v1 = [\"hoge\"]                  #=> [\"hoge\"]\n",
    "v1[3] = \"fuga\"\n",
    "p v1                             #=> [\"hoge\", nil, nil, \"fuga\"]\n",
    "p v1[9]                          #=> nil\n",
    "\n",
    "p \"添え字演算子\"\n",
    "p v1 = [\"a\",\"b\",\"c\",\"d\",\"e\"]      #=> [\"a\", \"b\", \"c\", \"d\", \"e\"]\n",
    "p v1[0]                           #=> \"a\"   ### 先頭の要素\n",
    "p v1[-1]                          #=> \"e\"   ### 末尾の要素\n",
    "p v1[4-1]                         #=> \"d\"   ### 4-1 = 3  先頭を0番目として3の要素\n",
    "p v1[-4]                          #=> \"b\"   ### 末尾を1番目として4番目の要素\n",
    "p v1[-9]                          #=> nil   ### 上限を超えたらnil\n",
    "p v1[2,3]                         #=> [\"c\", \"d\", \"e\"]  ### 先頭を0番目としてインデックス2(2番目の要素)からそれ自身を含めて後ろ3つの要素を表示\n",
    "p v1[3,2]                         #=> [\"d\", \"e\"]  ### 先頭を0番目としてインデックス3(3番目の要素)からそれ自身を含めて後ろ2つの要素を表示\n",
    "\n",
    "p \"要素を指定して代入\"\n",
    "p v2 = [\"a\",\"b\",\"c\",\"d\",\"e\"]      #=> [\"a\", \"b\", \"c\", \"d\", \"e\"] ### 先頭を0番目の要素として1,2番目の要素b,cが操作対象\n",
    "v2[1,2] = \"f\"                     ### インデックス1を含めて2要素分を1要素として\"f\"を代入。\n",
    "p v2                              #=> [\"a\", \"f\", \"d\", \"e\"]  ### 1,2番目の要素だったb,cが1つの要素fになった\n",
    "v2[1,2] = [\"g\",\"h\"]               ### インデックス1を含めて1要素目にg,2要素目にhを代入。\n",
    "p v2                              #=> [\"a\", \"g\", \"h\", \"e\"]  ### 1,2番目の要素f,dにg,hが代入されて置き換わった\n",
    "\n",
    "p \"多重代入と可変長引数\"\n",
    "a, b, c = 1, 2, 3\n",
    "p a\n",
    "p b\n",
    "p c\n",
    "\n",
    "def foo2\n",
    "  return 4, 5, 6\n",
    "end\n",
    "\n",
    "d, e, f = foo2\n",
    "p d\n",
    "p e\n",
    "p f\n",
    "\n",
    "a, b, c = [1, 2, 3]\n",
    "(a, b), c = [1, 2], 3\n",
    "\n",
    "p a = 1, 2"
   ]
  },
  {
   "cell_type": "markdown",
   "metadata": {
    "deletable": true,
    "editable": true
   },
   "source": [
    "# 可変長引数"
   ]
  },
  {
   "cell_type": "code",
   "execution_count": 8,
   "metadata": {
    "collapsed": false,
    "deletable": true,
    "editable": true
   },
   "outputs": [
    {
     "name": "stdout",
     "output_type": "stream",
     "text": [
      "可変長引数\n",
      "1\n",
      "[2, 3]\n",
      "[2, 3]\n",
      "可変長引数を他のメソッドに渡す\n"
     ]
    },
    {
     "data": {
      "text/plain": [
       "[3]"
      ]
     },
     "execution_count": 8,
     "metadata": {},
     "output_type": "execute_result"
    }
   ],
   "source": [
    "puts \"可変長引数\"\n",
    "a, *b = 1, 2, 3\n",
    "p a\n",
    "p b\n",
    "\n",
    "def foo a, *b\n",
    "  p b\n",
    "end\n",
    "foo(1, 2, 3)\n",
    "\n",
    "puts \"可変長引数を他のメソッドに渡す\"\n",
    "def foo1 a, *b\n",
    "  foo2(*b)\n",
    "end\n",
    "\n",
    "def foo2 c, *d\n",
    "    d\n",
    "end\n",
    "\n",
    "foo1(1, 2, 3)"
   ]
  },
  {
   "cell_type": "markdown",
   "metadata": {
    "deletable": true,
    "editable": true
   },
   "source": [
    "# 配列の演算\n",
    "\n",
    "* &\n",
    "    * 集合の積演算で、両方に含まれる要素からなる配列を返す        \n",
    "* |\n",
    "    * 集合の和演算で、どちらかに含まれる要素からなる配列を返す\n",
    "* +\n",
    "    * 要素をつなげた配列を返す\n",
    "* -\n",
    "    * 右のオペランドで指定された要素が全て取り除かれた配列を返す\n",
    "* `*`\n",
    "    * 右のオペランドが数値の場合、その数だけ連結した配列を返す\n",
    "    * 右のオペランドが文字列の場合、その文字を区切りとして要素を連結した文字列を返す\n",
    "        * joinメソッドと同じ\n",
    "    \n",
    "                "
   ]
  },
  {
   "cell_type": "code",
   "execution_count": 22,
   "metadata": {
    "collapsed": false,
    "deletable": true,
    "editable": true
   },
   "outputs": [
    {
     "name": "stdout",
     "output_type": "stream",
     "text": [
      "[2, 3]\n",
      "[1, 2, 3, 4, 5]\n",
      "[1, 1, 2, 3, 2, 2, 3, 4, 5]\n",
      "[1, 1]\n",
      "[4, 5]\n",
      "[1, 1, 2, 3, 1, 1, 2, 3, 1, 1, 2, 3]\n",
      "1/1/2/3\n",
      "1-1-2-3\n"
     ]
    }
   ],
   "source": [
    "a = [1, 1, 2, 3]\n",
    "b = [2, 2, 3, 4, 5]\n",
    "\n",
    "puts a & b\n",
    "puts a | b\n",
    "puts a + b\n",
    "puts a - b\n",
    "puts b - a\n",
    "puts a * 3\n",
    "puts a * \"/\"\n",
    "puts a.join(\"-\")"
   ]
  },
  {
   "cell_type": "markdown",
   "metadata": {
    "deletable": true,
    "editable": true
   },
   "source": [
    "# for式\n",
    "\n",
    "* 指定された式の範囲を繰り返し実行する\n",
    "    * 「do」は省略できる\n",
    "* 識別子を複数指定できる\n",
    "* スコープ\n",
    "    * スコープが作成されない\n",
    "        * for文の外でも変数は参照できる\n",
    "    * 「each」はスコープを作成する"
   ]
  },
  {
   "cell_type": "code",
   "execution_count": 39,
   "metadata": {
    "collapsed": false,
    "deletable": true,
    "editable": true
   },
   "outputs": [
    {
     "name": "stdout",
     "output_type": "stream",
     "text": [
      "1\n",
      "2\n",
      "3\n",
      "識別子を複数指定\n",
      "j = 1, k= 2\n",
      "j = 3, k= 4\n",
      "for式はスコープが作成されない\n",
      "1\n",
      "2\n",
      "3\n",
      "3\n",
      "eachはスコープが作成される\n",
      "1\n",
      "2\n",
      "3\n",
      "1\n"
     ]
    }
   ],
   "source": [
    "a = [1, 2, 3]\n",
    "\n",
    "for i in a do\n",
    "  puts i\n",
    "end\n",
    "\n",
    "puts \"識別子を複数指定\"\n",
    "for j,k in [[1,2], [3,4]] do\n",
    "  puts \"j = #{j}, k= #{k}\"\n",
    "end\n",
    "\n",
    "puts \"for式はスコープが作成されない\"\n",
    "i = 1\n",
    "for i in a do\n",
    "  puts i\n",
    "end\n",
    "puts i\n",
    "\n",
    "puts \"eachはスコープが作成される\"\n",
    "k = 1\n",
    "[1,2,3].each do |k|\n",
    "  puts k\n",
    "end\n",
    "puts k"
   ]
  }
 ],
 "metadata": {
  "kernelspec": {
   "display_name": "Ruby 2.3.3",
   "language": "ruby",
   "name": "ruby"
  },
  "language_info": {
   "file_extension": ".rb",
   "mimetype": "application/x-ruby",
   "name": "ruby",
   "version": "2.3.3"
  }
 },
 "nbformat": 4,
 "nbformat_minor": 2
}
