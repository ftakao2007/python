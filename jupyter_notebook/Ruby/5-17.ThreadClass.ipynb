{
 "cells": [
  {
   "cell_type": "markdown",
   "metadata": {
    "deletable": true,
    "editable": true
   },
   "source": [
    "# Threadクラス\n",
    "\n",
    "* Threadクラス\n",
    "    * スレッドを表すクラス\n",
    "    * 並行プログラミングが可能となる\n",
    "    * Ruby1.9よりネイティブスレッドを用いて実装されている\n",
    "        * 同時に実行されるネイティブスレッドは常に一つ\n",
    "            * Giant VM lockを有しているため\n",
    "    * メインスレッド\n",
    "        * プログラムの開始と同時に生成されるスレッド\n",
    "        * これが終了すると他のスレッドも含めてプログラムが終了する\n",
    "    * カレントスレッド\n",
    "        * 現在実行中のスレッド\n",
    "    * スレッドの実行はスケジューリングされている\n",
    "        * 優先順位付きのラウンドロビン・スケジューリングという方式で管理"
   ]
  },
  {
   "cell_type": "markdown",
   "metadata": {
    "deletable": true,
    "editable": true
   },
   "source": [
    "## スレッドの生成\n",
    "\n",
    "* メソッド\n",
    "    * Thread.new\n",
    "        * スレッドを生成する\n",
    "        * initializeメソッドが呼ばれる\n",
    "    * Thread.start, Thread.fork\n",
    "        * スレッドを生成する\n",
    "        * initializeメソッドは呼ばれない\n"
   ]
  },
  {
   "cell_type": "code",
   "execution_count": 13,
   "metadata": {
    "collapsed": false,
    "deletable": true,
    "editable": true
   },
   "outputs": [
    {
     "name": "stdout",
     "output_type": "stream",
     "text": [
      "#<Thread:0x007fde870b1e78@(pry):45 run>\n",
      "#<Thread:0x007fde870ad940@(pry):46 run>\n"
     ]
    },
    {
     "data": {
      "text/plain": [
       "#<Thread:0x007fde870ad940@(pry):46 run>"
      ]
     },
     "execution_count": 13,
     "metadata": {},
     "output_type": "execute_result"
    }
   ],
   "source": [
    "p t = Thread.new{ sleep 1}\n",
    "p t = Thread.new(3){|t| sleep t}"
   ]
  },
  {
   "cell_type": "markdown",
   "metadata": {
    "deletable": true,
    "editable": true
   },
   "source": [
    "## スレッドの状態\n",
    "\n",
    "* メソッド\n",
    "    * status\n",
    "        * 生成したスレッドの実行状態を保持\n",
    "    * alive?\n",
    "        * スレッドが生きているかを確認\n",
    "    * stop?\n",
    "        * スレッドが終了、もしくは停止していることを確認\n",
    "        \n",
    "* 状態\n",
    "    * run\n",
    "        * 実行中、または実行可能状態\n",
    "            * 生成直後\n",
    "            * runメソッドやwakeupメソッドで起こされたスレッド\n",
    "    * sleep\n",
    "        * 一時停止状態\n",
    "            * Thread.stopメソッドやjoinメソッドにより一時停止されたスレッド\n",
    "    * aborting\n",
    "        * 終了処理中\n",
    "            * killメソッドなどで終了されるスレッドは一時的にこの状態になる\n",
    "    * dead\n",
    "        * <font color=\"red\">正常終了したスレッド</font>\n",
    "            * killメソッドで終了したときや通常終了した状態\n",
    "        * 参考書はfalseになってるけど違うよね？\n",
    "    * nil\n",
    "        * 例外などで<font color=\"red\">異常終了したスレッド</font>\n",
    "        * 参考書はこう書いてるけど本当？"
   ]
  },
  {
   "cell_type": "code",
   "execution_count": 17,
   "metadata": {
    "collapsed": false,
    "deletable": true,
    "editable": true
   },
   "outputs": [
    {
     "name": "stdout",
     "output_type": "stream",
     "text": [
      "#<Thread:0x007fde86b68250@(pry):88 run>\n",
      "スレッドが生きている事の確認\n",
      "run\n",
      "true\n",
      "false\n",
      "\n",
      "スレッドが停止している事の確認\n",
      "sleep\n",
      "true\n",
      "true\n",
      "\n",
      "スレッドが終了している事の確認\n",
      "false\n",
      "false\n",
      "true\n"
     ]
    }
   ],
   "source": [
    "p t = Thread.new{ sleep 2}\n",
    "\n",
    "puts \"スレッドが生きている事の確認\"\n",
    "puts t.status\n",
    "puts t.alive?\n",
    "puts t.stop?\n",
    "puts\n",
    "\n",
    "sleep 1\n",
    "\n",
    "puts \"スレッドが停止している事の確認\"\n",
    "puts t.status\n",
    "puts t.alive?\n",
    "puts t.stop?\n",
    "puts\n",
    "\n",
    "sleep 2\n",
    "\n",
    "puts \"スレッドが終了している事の確認\"\n",
    "puts t.status\n",
    "puts t.alive?\n",
    "puts t.stop?"
   ]
  },
  {
   "cell_type": "markdown",
   "metadata": {
    "deletable": true,
    "editable": true
   },
   "source": [
    "## スレッドの実行、一時停止、終了\n",
    "\n",
    "* メソッド\n",
    "    * 一時停止状態\n",
    "        * Thread.stop\n",
    "            * スレッドを停止している状態\n",
    "        * join\n",
    "            * 他のスレッドを待っている状態\n"
   ]
  },
  {
   "cell_type": "code",
   "execution_count": 14,
   "metadata": {
    "collapsed": false
   },
   "outputs": [
    {
     "name": "stdout",
     "output_type": "stream",
     "text": [
      "#<Thread:0x007fce4b08e988@(pry):73 run>\n",
      "#<Thread:0x007fce4b08e988@(pry):73 dead>\n"
     ]
    },
    {
     "data": {
      "text/plain": [
       "#<Thread:0x007fce4b08e988@(pry):73 dead>"
      ]
     },
     "execution_count": 14,
     "metadata": {},
     "output_type": "execute_result"
    }
   ],
   "source": [
    "t = Thread.new do\n",
    "  Thread.stop\n",
    "  puts \"OK¥n\"\n",
    "end\n",
    "p t\n",
    "p t.run"
   ]
  }
 ],
 "metadata": {
  "kernelspec": {
   "display_name": "Ruby 2.3.1",
   "language": "ruby",
   "name": "ruby"
  },
  "language_info": {
   "file_extension": ".rb",
   "mimetype": "application/x-ruby",
   "name": "ruby",
   "version": "2.3.1"
  }
 },
 "nbformat": 4,
 "nbformat_minor": 2
}
