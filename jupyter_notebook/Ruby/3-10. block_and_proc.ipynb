{
 "cells": [
  {
   "cell_type": "markdown",
   "metadata": {
    "deletable": true,
    "editable": true
   },
   "source": [
    "# ブロックとProc\n",
    "\n",
    "* ブロック\n",
    "    * 新たにスコープを作成する\n",
    "        * for式、if式、while式などはスコープは作成されない\n",
    "    * <font color=\"red\">メソッドを呼び出すときのみ記述できる</font>\n",
    "    * yieldという式を使う事でブロック内部で記述した式を呼び出すことができる\n",
    "    * 「{}」と「do ～ end」の形式で書ける\n",
    "        * 傾向\n",
    "            * 1行で書けるときは{}\n",
    "            * 複数行で書く時は do end\n",
    "            \n",
    "* 参考\n",
    "    * [メタプログラミングRuby 第3章 まとめ　(ブロック)](http://portaltan.hatenablog.com/entry/2015/07/17/181358)"
   ]
  },
  {
   "cell_type": "markdown",
   "metadata": {
    "collapsed": true,
    "deletable": true,
    "editable": true
   },
   "source": [
    "## yieldで実行結果の取得\n",
    "\n",
    "* 「{}」に囲まれているのがブロック\n",
    "    * ここのブロックは2を返す\n",
    "    * メソッドfunc\n",
    "        * ブロックの実行結果(yield)と引数の合計3を返している"
   ]
  },
  {
   "cell_type": "code",
   "execution_count": 13,
   "metadata": {
    "collapsed": false,
    "deletable": true,
    "editable": true
   },
   "outputs": [
    {
     "name": "stdout",
     "output_type": "stream",
     "text": [
      "3\n"
     ]
    }
   ],
   "source": [
    "def func x\n",
    "  x + yield\n",
    "end\n",
    "puts func(1){ 2 }\n",
    "\n",
    "### do ～ end の形式でも書ける\n",
    "# func(1) do\n",
    "#   2\n",
    "# end"
   ]
  },
  {
   "cell_type": "markdown",
   "metadata": {
    "deletable": true,
    "editable": true
   },
   "source": [
    "## スコープの生成\n",
    "\n",
    "* ブロックの中で変数に代入された値はブロックの外では参照できない"
   ]
  },
  {
   "cell_type": "code",
   "execution_count": 27,
   "metadata": {
    "collapsed": false,
    "deletable": true,
    "editable": true
   },
   "outputs": [
    {
     "ename": "NameError",
     "evalue": "undefined local variable or method `z' for main:Object",
     "output_type": "error",
     "traceback": [
      "\u001b[31mNameError\u001b[0m: undefined local variable or method `z' for main:Object",
      "\u001b[37m(pry):177:in `<main>'\u001b[0m",
      "\u001b[37m/root/jupyter/vendor/bundle/ruby/2.3.0/gems/pry-0.10.4/lib/pry/pry_instance.rb:355:in `eval'\u001b[0m",
      "\u001b[37m/root/jupyter/vendor/bundle/ruby/2.3.0/gems/pry-0.10.4/lib/pry/pry_instance.rb:355:in `evaluate_ruby'\u001b[0m",
      "\u001b[37m/root/jupyter/vendor/bundle/ruby/2.3.0/gems/pry-0.10.4/lib/pry/pry_instance.rb:323:in `handle_line'\u001b[0m",
      "\u001b[37m/root/jupyter/vendor/bundle/ruby/2.3.0/gems/pry-0.10.4/lib/pry/pry_instance.rb:243:in `block (2 levels) in eval'\u001b[0m",
      "\u001b[37m/root/jupyter/vendor/bundle/ruby/2.3.0/gems/pry-0.10.4/lib/pry/pry_instance.rb:242:in `catch'\u001b[0m",
      "\u001b[37m/root/jupyter/vendor/bundle/ruby/2.3.0/gems/pry-0.10.4/lib/pry/pry_instance.rb:242:in `block in eval'\u001b[0m",
      "\u001b[37m/root/jupyter/vendor/bundle/ruby/2.3.0/gems/pry-0.10.4/lib/pry/pry_instance.rb:241:in `catch'\u001b[0m",
      "\u001b[37m/root/jupyter/vendor/bundle/ruby/2.3.0/gems/pry-0.10.4/lib/pry/pry_instance.rb:241:in `eval'\u001b[0m",
      "\u001b[37m/root/jupyter/vendor/bundle/ruby/2.3.0/gems/iruby-0.3/lib/iruby/backend.rb:66:in `eval'\u001b[0m",
      "\u001b[37m/root/jupyter/vendor/bundle/ruby/2.3.0/gems/iruby-0.3/lib/iruby/backend.rb:12:in `eval'\u001b[0m",
      "\u001b[37m/root/jupyter/vendor/bundle/ruby/2.3.0/gems/iruby-0.3/lib/iruby/kernel.rb:87:in `execute_request'\u001b[0m",
      "\u001b[37m/root/jupyter/vendor/bundle/ruby/2.3.0/gems/iruby-0.3/lib/iruby/kernel.rb:47:in `dispatch'\u001b[0m",
      "\u001b[37m/root/jupyter/vendor/bundle/ruby/2.3.0/gems/iruby-0.3/lib/iruby/kernel.rb:37:in `run'\u001b[0m",
      "\u001b[37m/root/jupyter/vendor/bundle/ruby/2.3.0/gems/iruby-0.3/lib/iruby/command.rb:70:in `run_kernel'\u001b[0m",
      "\u001b[37m/root/jupyter/vendor/bundle/ruby/2.3.0/gems/iruby-0.3/lib/iruby/command.rb:34:in `run'\u001b[0m",
      "\u001b[37m/root/jupyter/vendor/bundle/ruby/2.3.0/gems/iruby-0.3/bin/iruby:5:in `<top (required)>'\u001b[0m",
      "\u001b[37m/root/jupyter/vendor/bundle/ruby/2.3.0/bin/iruby:22:in `load'\u001b[0m",
      "\u001b[37m/root/jupyter/vendor/bundle/ruby/2.3.0/bin/iruby:22:in `<main>'\u001b[0m"
     ]
    }
   ],
   "source": [
    "def func x\n",
    "  x + yield\n",
    "end\n",
    "func(1){ z = 2 }\n",
    "\n",
    "### ブロック内で作成された変数zはブロックの外では参照できない\n",
    "puts z"
   ]
  },
  {
   "cell_type": "markdown",
   "metadata": {
    "deletable": true,
    "editable": true
   },
   "source": [
    "## クロージャとしてのブロック\n",
    "\n",
    "* クロージャ\n",
    "    * 処理の生成時の環境を束縛するもの\n",
    "* おそらく\n",
    "    * クロージャはブロック(メソッド)の外で作った変数を利用しているブロックのこと\n",
    "    * 束縛はクロージャで使う変数をそれっぽく難しく言ったもの\n",
    "* 挙動\n",
    "    * ブロックの外で変数yに2を代入 (束縛yと表現する？)\n",
    "    * メソッドfuncにブロックを渡し、yieldによりブロックを実行\n",
    "        * このときyの値を取得して更新する\n",
    "        * このyは、ブロックの外と同じy\n",
    "            * <font color=\"red\">値ではなく変数そのものが共有されている</font>\n",
    "* Rubyはメソッド内部から外部の変数を参照できない\n",
    "    * クロージャが呼び出し元の変数を処理に持ち込む数少ない手段の一つ"
   ]
  },
  {
   "cell_type": "code",
   "execution_count": 24,
   "metadata": {
    "collapsed": false,
    "deletable": true,
    "editable": true
   },
   "outputs": [
    {
     "name": "stdout",
     "output_type": "stream",
     "text": [
      "5\n",
      "4\n"
     ]
    }
   ],
   "source": [
    "def func x\n",
    "  x + yield\n",
    "end\n",
    "\n",
    "### ブロックの外で変数yに値を代入\n",
    "y = 2\n",
    "\n",
    "### このブロック内のyは先ほどのブロックの外の変数yと同一\n",
    "puts func(1){y+=2}\n",
    "\n",
    "### yの値は更新されている\n",
    "puts y"
   ]
  },
  {
   "cell_type": "markdown",
   "metadata": {
    "deletable": true,
    "editable": true
   },
   "source": [
    "## ブロックの引数の指定\n",
    "\n",
    "* funcに1と2を渡す\n",
    "* func内部で以下合計する\n",
    "    * 第一引数の値1\n",
    "    * ブロックの実行結果\n",
    "        * yieldはブロック引数2,3を合計して5を返す\n",
    "* 6が返る"
   ]
  },
  {
   "cell_type": "code",
   "execution_count": 28,
   "metadata": {
    "collapsed": false,
    "deletable": true,
    "editable": true
   },
   "outputs": [
    {
     "name": "stdout",
     "output_type": "stream",
     "text": [
      "6\n"
     ]
    }
   ],
   "source": [
    "def func a, b\n",
    "  a + yield(b, 3)\n",
    "end\n",
    "\n",
    "puts func(1, 2){|x,y| x+y}"
   ]
  },
  {
   "cell_type": "markdown",
   "metadata": {
    "deletable": true,
    "editable": true
   },
   "source": [
    "## ブロックの判定(ブロックが指定されたかどうか)\n",
    "\n",
    "* block_given?メソッドで実現できる"
   ]
  },
  {
   "cell_type": "code",
   "execution_count": 29,
   "metadata": {
    "collapsed": false,
    "deletable": true,
    "editable": true
   },
   "outputs": [
    {
     "name": "stdout",
     "output_type": "stream",
     "text": [
      "1\n",
      "2\n"
     ]
    }
   ],
   "source": [
    "def func\n",
    "  return 1 if block_given?\n",
    "  2\n",
    "end\n",
    "\n",
    "puts func(){}\n",
    "puts func"
   ]
  },
  {
   "cell_type": "markdown",
   "metadata": {
    "deletable": true,
    "editable": true
   },
   "source": [
    "## Procの基本\n",
    "\n",
    "* ブロックをオブジェクトとして渡したい時に利用する\n",
    "    * ブロックそのものはオブジェクトではない\n",
    "* 生成\n",
    "    * Procクラスのコンクラスタにブロックを指定すると生成できる\n",
    "* 利用\n",
    "    * Procのインスタンスに対してcallメソッドを使う\n"
   ]
  },
  {
   "cell_type": "code",
   "execution_count": 30,
   "metadata": {
    "collapsed": false,
    "deletable": true,
    "editable": true
   },
   "outputs": [
    {
     "name": "stdout",
     "output_type": "stream",
     "text": [
      "1\n"
     ]
    }
   ],
   "source": [
    "proc = Proc.new{|x| puts x}\n",
    "proc.call(1)"
   ]
  },
  {
   "cell_type": "markdown",
   "metadata": {
    "deletable": true,
    "editable": true
   },
   "source": [
    "## Procオブジェクトの生成\n",
    "\n",
    "* 遅延評価\n",
    "    * 処理自体を先に生成して後で評価する\n",
    "    * 例\n",
    "        * カウンタで初期値をプログラム冒頭で決定 : 処理と初期値の設定\n",
    "        * 後の処理でカウントする : 遅延評価"
   ]
  },
  {
   "cell_type": "code",
   "execution_count": 44,
   "metadata": {
    "collapsed": false,
    "deletable": true,
    "editable": true
   },
   "outputs": [
    {
     "name": "stdout",
     "output_type": "stream",
     "text": [
      "start= 3\n",
      "up= 1\n",
      "4\n",
      "start= 4\n",
      "up= 3\n",
      "7\n"
     ]
    }
   ],
   "source": [
    "def get_counter start\n",
    "  Proc.new do |up|\n",
    "    puts \"start= #{start}\"\n",
    "    puts \"up= #{up}\"\n",
    "    start += up\n",
    "  end\n",
    "end\n",
    "\n",
    "### 初期値として3を設定。count_upはProcオブジェクトを参照\n",
    "count_up = get_counter(3)\n",
    "\n",
    "### 初期値に1を足す\n",
    "puts count_up.call(1)\n",
    "\n",
    "### さらに3を足す\n",
    "puts count_up.call(3)"
   ]
  },
  {
   "cell_type": "markdown",
   "metadata": {
    "deletable": true,
    "editable": true
   },
   "source": [
    "## Proc ⇔ ブロック 変換\n",
    "\n",
    "* Proc -> ブロック\n",
    "    * Procオブジェクトに「&」をつけて最後の引数に指定する\n",
    "* ブロック -> Proc\n",
    "    * 最後の仮引数に「&」をつけた引数で参照できる"
   ]
  },
  {
   "cell_type": "code",
   "execution_count": 55,
   "metadata": {
    "collapsed": false,
    "deletable": true,
    "editable": true
   },
   "outputs": [
    {
     "name": "stdout",
     "output_type": "stream",
     "text": [
      "3\n",
      "7\n"
     ]
    }
   ],
   "source": [
    "### Proc -> ブロック\n",
    "def func x\n",
    "  x + yield\n",
    "end\n",
    "proc = Proc.new{2}\n",
    "\n",
    "### 最後の引数に&をつけて渡す\n",
    "puts func(1,&proc)\n",
    "  \n",
    "#=========================#\n",
    "  \n",
    "### ブロック -> Proc\n",
    "### 関数の最後の仮引数に&をつけた名前を渡す\n",
    "def func2 y, &proc2\n",
    "  y + proc2.call\n",
    "end\n",
    "puts func2(3){ 4 }"
   ]
  },
  {
   "cell_type": "markdown",
   "metadata": {},
   "source": [
    "## lambda\n",
    "\n",
    "\n",
    "* lambdaメソッド\n",
    "    * Procインスタンスを生成する\n",
    "        * Procインスタンスはlambdaとも呼ばれる\n",
    "        * Procやブロックよりもメソッドに近い動きをする\n",
    "    * Proc.newで生成したインスタンはprocとも呼ばれる"
   ]
  },
  {
   "cell_type": "code",
   "execution_count": 43,
   "metadata": {
    "collapsed": false
   },
   "outputs": [
    {
     "name": "stdout",
     "output_type": "stream",
     "text": [
      "1\n",
      "2\n",
      "7\n"
     ]
    }
   ],
   "source": [
    "lmd = lambda{|x| puts x}\n",
    "lmd.call(1)\n",
    "\n",
    "### Ruby1.9以降の新しい書き方 (アロー演算子)\n",
    "### putsを外出し\n",
    "lmd2 = -> ( x ) { x }\n",
    "puts lmd2.call(2)\n",
    "\n",
    "### putsをブロック内に記載\n",
    "lmd3 = -> (x, y){puts x + y}\n",
    "lmd3.call(3, 4)"
   ]
  },
  {
   "cell_type": "markdown",
   "metadata": {},
   "source": [
    "## Procとlambdaの振る舞いの違い\n",
    "\n",
    "* returnとスコープ\n",
    "    * Procは生成元のスコープを脱出する\n",
    "    * lambdaはブロック内でreturnすると呼び出し元に復帰する"
   ]
  },
  {
   "cell_type": "code",
   "execution_count": 25,
   "metadata": {
    "collapsed": false
   },
   "outputs": [
    {
     "name": "stdout",
     "output_type": "stream",
     "text": [
      "Procはcallでスコープを脱出するので2まで行かない\n",
      "1\n",
      "lambdaは呼び出し元に戻る\n",
      "3\n",
      "4\n"
     ]
    }
   ],
   "source": [
    "puts \"Procはreturnでスコープを脱出するので2まで行かない\"\n",
    "def func_proc\n",
    "  proc = Proc.new{return 1}\n",
    "  puts proc.call\n",
    "  puts 2\n",
    " end\n",
    "puts func_proc\n",
    "\n",
    "puts \"lambdaは呼び出し元に戻るので4まで行く\"\n",
    "def func_lambda\n",
    "  proc = lambda{return 3}\n",
    "  puts proc.call\n",
    "  puts 4\n",
    "end\n",
    "func_lambda"
   ]
  },
  {
   "cell_type": "markdown",
   "metadata": {},
   "source": [
    "* 引数が一致しない場合\n",
    "    * Procは無視、もしくはnilを返す\n",
    "    * lambdaは例外ArgumentErrorが発生する"
   ]
  },
  {
   "cell_type": "code",
   "execution_count": 39,
   "metadata": {
    "collapsed": false
   },
   "outputs": [
    {
     "name": "stdout",
     "output_type": "stream",
     "text": [
      "引数が一致しない場合はnil\n",
      "2\n",
      "nil\n",
      "引数が一致しない場合は例外が発生\n",
      "4\n"
     ]
    },
    {
     "ename": "ArgumentError",
     "evalue": "wrong number of arguments (given 1, expected 2)",
     "output_type": "error",
     "traceback": [
      "\u001b[31mArgumentError\u001b[0m: wrong number of arguments (given 1, expected 2)",
      "\u001b[37m(pry):266:in `block in <main>'\u001b[0m",
      "\u001b[37m(pry):268:in `<main>'\u001b[0m",
      "\u001b[37m/Users/ftakao2007/work/jupyter/vendor/bundle/ruby/2.3.0/gems/pry-0.10.4/lib/pry/pry_instance.rb:355:in `eval'\u001b[0m",
      "\u001b[37m/Users/ftakao2007/work/jupyter/vendor/bundle/ruby/2.3.0/gems/pry-0.10.4/lib/pry/pry_instance.rb:355:in `evaluate_ruby'\u001b[0m",
      "\u001b[37m/Users/ftakao2007/work/jupyter/vendor/bundle/ruby/2.3.0/gems/pry-0.10.4/lib/pry/pry_instance.rb:323:in `handle_line'\u001b[0m",
      "\u001b[37m/Users/ftakao2007/work/jupyter/vendor/bundle/ruby/2.3.0/gems/pry-0.10.4/lib/pry/pry_instance.rb:243:in `block (2 levels) in eval'\u001b[0m",
      "\u001b[37m/Users/ftakao2007/work/jupyter/vendor/bundle/ruby/2.3.0/gems/pry-0.10.4/lib/pry/pry_instance.rb:242:in `catch'\u001b[0m",
      "\u001b[37m/Users/ftakao2007/work/jupyter/vendor/bundle/ruby/2.3.0/gems/pry-0.10.4/lib/pry/pry_instance.rb:242:in `block in eval'\u001b[0m",
      "\u001b[37m/Users/ftakao2007/work/jupyter/vendor/bundle/ruby/2.3.0/gems/pry-0.10.4/lib/pry/pry_instance.rb:241:in `catch'\u001b[0m",
      "\u001b[37m/Users/ftakao2007/work/jupyter/vendor/bundle/ruby/2.3.0/gems/pry-0.10.4/lib/pry/pry_instance.rb:241:in `eval'\u001b[0m",
      "\u001b[37m/Users/ftakao2007/work/jupyter/vendor/bundle/ruby/2.3.0/gems/iruby-0.3/lib/iruby/backend.rb:66:in `eval'\u001b[0m",
      "\u001b[37m/Users/ftakao2007/work/jupyter/vendor/bundle/ruby/2.3.0/gems/iruby-0.3/lib/iruby/backend.rb:12:in `eval'\u001b[0m",
      "\u001b[37m/Users/ftakao2007/work/jupyter/vendor/bundle/ruby/2.3.0/gems/iruby-0.3/lib/iruby/kernel.rb:87:in `execute_request'\u001b[0m",
      "\u001b[37m/Users/ftakao2007/work/jupyter/vendor/bundle/ruby/2.3.0/gems/iruby-0.3/lib/iruby/kernel.rb:47:in `dispatch'\u001b[0m",
      "\u001b[37m/Users/ftakao2007/work/jupyter/vendor/bundle/ruby/2.3.0/gems/iruby-0.3/lib/iruby/kernel.rb:37:in `run'\u001b[0m",
      "\u001b[37m/Users/ftakao2007/work/jupyter/vendor/bundle/ruby/2.3.0/gems/iruby-0.3/lib/iruby/command.rb:70:in `run_kernel'\u001b[0m",
      "\u001b[37m/Users/ftakao2007/work/jupyter/vendor/bundle/ruby/2.3.0/gems/iruby-0.3/lib/iruby/command.rb:34:in `run'\u001b[0m",
      "\u001b[37m/Users/ftakao2007/work/jupyter/vendor/bundle/ruby/2.3.0/gems/iruby-0.3/bin/iruby:5:in `<top (required)>'\u001b[0m",
      "\u001b[37m/Users/ftakao2007/work/jupyter/vendor/bundle/ruby/2.3.0/bin/iruby:23:in `load'\u001b[0m",
      "\u001b[37m/Users/ftakao2007/work/jupyter/vendor/bundle/ruby/2.3.0/bin/iruby:23:in `<main>'\u001b[0m"
     ]
    }
   ],
   "source": [
    "puts \"引数が一致しない場合はnil\"\n",
    "p1 = Proc.new{|x,y| y}\n",
    "p p1.call(1,2)\n",
    "p p1.call(1)\n",
    "\n",
    "puts \"引数が一致しない場合は例外が発生\"\n",
    "l1 = lambda{|x,y| y}\n",
    "p l1.call(3,4)\n",
    "p l1.call(3)"
   ]
  },
  {
   "cell_type": "code",
   "execution_count": null,
   "metadata": {
    "collapsed": true
   },
   "outputs": [],
   "source": []
  }
 ],
 "metadata": {
  "kernelspec": {
   "display_name": "Ruby 2.3.1",
   "language": "ruby",
   "name": "ruby"
  },
  "language_info": {
   "file_extension": ".rb",
   "mimetype": "application/x-ruby",
   "name": "ruby",
   "version": "2.3.1"
  }
 },
 "nbformat": 4,
 "nbformat_minor": 2
}
