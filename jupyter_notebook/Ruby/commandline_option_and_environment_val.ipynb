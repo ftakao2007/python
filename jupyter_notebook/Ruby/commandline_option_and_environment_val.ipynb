{
 "cells": [
  {
   "cell_type": "markdown",
   "metadata": {},
   "source": [
    "# 組み込み定数\n",
    "\n",
    "## 主な組み込み定数\n",
    "\n",
    "|組み込み定数|意味|\n",
    "|---|---|\n",
    "|STDIN|標準入力|\n",
    "|STDOUT|標準出力|\n",
    "|STDERR|標準エラー出力|\n",
    "|ENV|環境変数|\n",
    "|ARGF|仮想ファイル|\n",
    "|ARGV|Rubyスクリプトに与えられた引数|\n",
    "|DATA|`__END__` 以降をアクセスするFileオブジェクト|\n"
   ]
  },
  {
   "cell_type": "code",
   "execution_count": 2,
   "metadata": {
    "collapsed": false
   },
   "outputs": [
    {
     "name": "stdout",
     "output_type": "stream",
     "text": [
      "\"/root/jupyter/vendor/bundle/ruby/2.3.0/bin:/usr/local/pyenv/versions/jupyter/bin:/usr/local/pyenv/libexec:/usr/local/pyenv/plugins/python-build/bin:/usr/local/pyenv/plugins/pyenv-virtualenv/bin:/usr/local/rbenv/versions/2.3.3/bin:/usr/local/rbenv/libexec:/usr/local/rbenv/plugins/ruby-build/bin:/usr/local/rbenv/shims:/usr/local/rbenv/bin:/usr/local/pyenv/shims:/usr/local/pyenv/bin:/usr/local/pyenv/plugins/pyenv-virtualenv/shims:/usr/local/sbin:/usr/local/bin:/usr/sbin:/usr/bin:/sbin:/bin\"\n"
     ]
    },
    {
     "data": {
      "text/plain": [
       "\"/root/jupyter/vendor/bundle/ruby/2.3.0/bin:/usr/local/pyenv/versions/jupyter/bin:/usr/local/pyenv/libexec:/usr/local/pyenv/plugins/python-build/bin:/usr/local/pyenv/plugins/pyenv-virtualenv/bin:/usr/local/rbenv/versions/2.3.3/bin:/usr/local/rbenv/libexec:/usr/local/rbenv/plugins/ruby-build/bin:/usr/local/rbenv/shims:/usr/local/rbenv/bin:/usr/local/pyenv/shims:/usr/local/pyenv/bin:/usr/local/pyenv/plugins/pyenv-virtualenv/shims:/usr/local/sbin:/usr/local/bin:/usr/sbin:/usr/bin:/sbin:/bin\""
      ]
     },
     "execution_count": 2,
     "metadata": {},
     "output_type": "execute_result"
    }
   ],
   "source": [
    "### コマンドライン引数を出力\n",
    "# p ARGV[0]\n",
    "\n",
    "### 環境変数を出力\n",
    "# p ENV\n",
    "p ENV[\"PATH\"]"
   ]
  },
  {
   "cell_type": "markdown",
   "metadata": {},
   "source": [
    "# 組み込み変数\n",
    "\n",
    "|組み込み定数|意味|\n",
    "|---|---|\n",
    "|$LOAD_PATH|Rubyをインストールしたディレクトリやカレントディレクトリが入っている|\n",
    "|-|コマンドラインで実行している場合はRubyを実行したカレントディレクトリも入る|\n",
    "|-|ここになければRUBYLIBを検索する|"
   ]
  },
  {
   "cell_type": "code",
   "execution_count": 3,
   "metadata": {
    "collapsed": false
   },
   "outputs": [
    {
     "name": "stdout",
     "output_type": "stream",
     "text": [
      "[\"/root/jupyter/vendor/bundle/ruby/2.3.0/gems/iruby-0.3/lib\", \"/usr/local/rbenv/versions/2.3.3/lib/ruby/gems/2.3.0/gems/bundler-1.14.6/lib\", \"/usr/local/rbenv/rbenv.d/exec/gem-rehash\", \"/root/jupyter/vendor/bundle/ruby/2.3.0/gems/rbczmq-1.7.9/lib\", \"/root/jupyter/vendor/bundle/ruby/2.3.0/extensions/x86_64-linux/2.3.0-static/rbczmq-1.7.9\", \"/root/jupyter/vendor/bundle/ruby/2.3.0/gems/pry-0.10.4/lib\", \"/root/jupyter/vendor/bundle/ruby/2.3.0/gems/slop-3.6.0/lib\", \"/root/jupyter/vendor/bundle/ruby/2.3.0/gems/method_source-0.8.2/lib\", \"/root/jupyter/vendor/bundle/ruby/2.3.0/gems/iruby-0.3/lib\", \"/root/jupyter/vendor/bundle/ruby/2.3.0/gems/multi_json-1.12.1/lib\", \"/root/jupyter/vendor/bundle/ruby/2.3.0/gems/mimemagic-0.3.2/lib\", \"/root/jupyter/vendor/bundle/ruby/2.3.0/gems/data_uri-0.1.0/lib\", \"/root/jupyter/vendor/bundle/ruby/2.3.0/gems/coderay-1.1.1/lib\", \"/usr/local/rbenv/versions/2.3.3/lib/ruby/gems/2.3.0/gems/bundler-1.14.6/lib/gems/bundler-1.14.6/lib\", \"/root/jupyter/vendor/bundle/ruby/2.3.0/gems/bond-0.5.1/lib\", \"/root/jupyter/vendor/bundle/ruby/2.3.0/extensions/x86_64-linux/2.3.0-static/bond-0.5.1\", \"/usr/local/rbenv/versions/2.3.3/lib/ruby/site_ruby/2.3.0\", \"/usr/local/rbenv/versions/2.3.3/lib/ruby/site_ruby/2.3.0/x86_64-linux\", \"/usr/local/rbenv/versions/2.3.3/lib/ruby/site_ruby\", \"/usr/local/rbenv/versions/2.3.3/lib/ruby/vendor_ruby/2.3.0\", \"/usr/local/rbenv/versions/2.3.3/lib/ruby/vendor_ruby/2.3.0/x86_64-linux\", \"/usr/local/rbenv/versions/2.3.3/lib/ruby/vendor_ruby\", \"/usr/local/rbenv/versions/2.3.3/lib/ruby/2.3.0\", \"/usr/local/rbenv/versions/2.3.3/lib/ruby/2.3.0/x86_64-linux\"]\n"
     ]
    },
    {
     "data": {
      "text/plain": [
       "[\"/root/jupyter/vendor/bundle/ruby/2.3.0/gems/iruby-0.3/lib\", \"/usr/local/rbenv/versions/2.3.3/lib/ruby/gems/2.3.0/gems/bundler-1.14.6/lib\", \"/usr/local/rbenv/rbenv.d/exec/gem-rehash\", \"/root/jupyter/vendor/bundle/ruby/2.3.0/gems/rbczmq-1.7.9/lib\", \"/root/jupyter/vendor/bundle/ruby/2.3.0/extensions/x86_64-linux/2.3.0-static/rbczmq-1.7.9\", \"/root/jupyter/vendor/bundle/ruby/2.3.0/gems/pry-0.10.4/lib\", \"/root/jupyter/vendor/bundle/ruby/2.3.0/gems/slop-3.6.0/lib\", \"/root/jupyter/vendor/bundle/ruby/2.3.0/gems/method_source-0.8.2/lib\", \"/root/jupyter/vendor/bundle/ruby/2.3.0/gems/iruby-0.3/lib\", \"/root/jupyter/vendor/bundle/ruby/2.3.0/gems/multi_json-1.12.1/lib\", \"/root/jupyter/vendor/bundle/ruby/2.3.0/gems/mimemagic-0.3.2/lib\", \"/root/jupyter/vendor/bundle/ruby/2.3.0/gems/data_uri-0.1.0/lib\", \"/root/jupyter/vendor/bundle/ruby/2.3.0/gems/coderay-1.1.1/lib\", \"/usr/local/rbenv/versions/2.3.3/lib/ruby/gems/2.3.0/gems/bundler-1.14.6/lib/gems/bundler-1.14.6/lib\", \"/root/jupyter/vendor/bundle/ruby/2.3.0/gems/bond-0.5.1/lib\", \"/root/jupyter/vendor/bundle/ruby/2.3.0/extensions/x86_64-linux/2.3.0-static/bond-0.5.1\", \"/usr/local/rbenv/versions/2.3.3/lib/ruby/site_ruby/2.3.0\", \"/usr/local/rbenv/versions/2.3.3/lib/ruby/site_ruby/2.3.0/x86_64-linux\", \"/usr/local/rbenv/versions/2.3.3/lib/ruby/site_ruby\", \"/usr/local/rbenv/versions/2.3.3/lib/ruby/vendor_ruby/2.3.0\", \"/usr/local/rbenv/versions/2.3.3/lib/ruby/vendor_ruby/2.3.0/x86_64-linux\", \"/usr/local/rbenv/versions/2.3.3/lib/ruby/vendor_ruby\", \"/usr/local/rbenv/versions/2.3.3/lib/ruby/2.3.0\", \"/usr/local/rbenv/versions/2.3.3/lib/ruby/2.3.0/x86_64-linux\"]"
      ]
     },
     "execution_count": 3,
     "metadata": {},
     "output_type": "execute_result"
    }
   ],
   "source": [
    "p $LOAD_PATH"
   ]
  },
  {
   "cell_type": "markdown",
   "metadata": {},
   "source": [
    "# Rubyインタプリタが利用する環境変数\n",
    "\n",
    "## 主な環境変数\n",
    "\n",
    "|環境変数|意味|\n",
    "|---|---|\n",
    "|`$RUBYOPT`|デフォルトで指定するコマンドラインオプション|\n",
    "|`$RUBYLIB`|デフォルトでライブラリを検索するPATH。これより先に `$LOAD_PATH` が読み込まれる。|\n",
    "|`$PATH`|Ruby上から実行したコマンドを検索するPATH|\n",
    "|`$RAILS_ENV`|Railsの環境(production, environment, testなど)を指定|\n"
   ]
  },
  {
   "cell_type": "markdown",
   "metadata": {},
   "source": [
    "# コマンドラインオプション\n",
    "\n",
    "## 主なコマンドラインオプション\n",
    "\n",
    "|オプション|意味|\n",
    "|---|---|\n",
    "|-h|ヘルプの表示|\n",
    "|-v|バージョンの表示|\n",
    "|-c|プログラムの文法チェック (実行はしない)|\n",
    "|-e|ワンライナー実行する|\n",
    "|-w|冗長モードで実行 (普段は出ないワーニングが出る)|\n",
    "|-Wn|(n = 0,1,2,(無し)) 出力範囲を指定した冗長モードでの実行。-W2もしくは-W は全て出力|\n",
    "|-I|(大文字のアイ) 組み込み変数 $LOAD_PATH に指定された文字列を追加する|\n",
    "|-r|スクリプト実行前に指定されたスクリプトを実行する|\n",
    "|-d|デバッグモードで実行する|\n",
    "\n"
   ]
  },
  {
   "cell_type": "markdown",
   "metadata": {},
   "source": [
    "# require,load など\n",
    "\n",
    "## 違い\n",
    "* require\n",
    "    * 何度実行しても1回しか実行されない。ファイルの拡張子を省略できる。ライブラリの読み込み用途\n",
    "* load\n",
    "    * 実行された回数だけ実行する。ファイルの拡張子は省略できない。設定情報の読み込み用途\n",
    "* include\n",
    "    * hoge\n",
    "\n",
    "## コマンドラインオプション「-I」の挙動について\n",
    "\n",
    "* 絶対PATHで指定\n",
    "    * そのPATHにファイルが存在するかどうかだけ見る。\n",
    "* 相対PATHで指定\n",
    "    * 組み込み変数 $LOAD_PATH に格納されたPATH順に探していく。\n",
    "* -Iで指定したPATHを最優先で検索する\n",
    "\n"
   ]
  },
  {
   "cell_type": "markdown",
   "metadata": {},
   "source": [
    "# 特殊変数\n",
    "\n",
    "* 特殊変数とは\n",
    "  * 組み込み変数のうち、「$」と数字や記号で構成されたもの\n",
    "  * 例 (組み込み変数$LOAD_PATHを特殊変数で参照)\n",
    "     * `p $:`\n",
    "\n",
    "## 主な特殊変数\n",
    "\n",
    "|特殊変数|意味|\n",
    "|---|---|\n",
    "|`$_`|最後にgetsかreadlineで読み込んだ文字列|\n",
    "|`$&`|最後にマッチした文字列|\n",
    "|`$~`|最後に成功したマッチに対する結果。`$~[n]`で参照できる|\n",
    "|$`|マッチした部分より前の文字列|\n",
    "|`$'`|マッチした部分より後ろの文字列|\n",
    "|`$+`|マッチした中で最後のカッコに対応する文字列|\n",
    "|`$1, $2, ...`|n番目のカッコに対応する文字列|\n",
    "|`$?`|最後に終了した子プロセスのステータス|\n",
    "|`$!`|直近で捕捉した例外オブジェクト|\n",
    "|`$@`|バックトレースを表す配列|\n",
    "|`$0`|現在実行中のプログラムファイル名|\n",
    "|`$*`|Rubyスクリプトに与えられた引数。 ARGVと同じ。|\n",
    "|`$:`|loadやrequireの検索PATH。 `$LOAD_PATH`と同じ。|"
   ]
  },
  {
   "cell_type": "markdown",
   "metadata": {},
   "source": [
    "# リファレンス表示ツールri\n",
    "\n",
    "## riの使い方\n",
    "\n",
    "* クラス\n",
    "    * ri クラス名\n",
    "* クラスメソッド\n",
    "    * ri クラス名.メソッド名\n",
    "* インスタンスメソッド\n",
    "    * ri クラス名#メソッド名"
   ]
  },
  {
   "cell_type": "markdown",
   "metadata": {},
   "source": [
    "# RDoc書式\n",
    "\n",
    "## マジックコメント\n",
    "\n",
    "` /coding[:=]\\s*[\\w.-]+/ ` という正規表現にマッチする形式で記述する\n",
    "\n",
    "## 埋め込みドキュメント\n",
    "\n",
    "```\n",
    "=begin\n",
    " ここに任意のドキュメントを記載できる\n",
    "=end\n",
    "```"
   ]
  }
 ],
 "metadata": {
  "kernelspec": {
   "display_name": "Ruby 2.3.3",
   "language": "ruby",
   "name": "ruby"
  },
  "language_info": {
   "file_extension": ".rb",
   "mimetype": "application/x-ruby",
   "name": "ruby",
   "version": "2.3.3"
  }
 },
 "nbformat": 4,
 "nbformat_minor": 2
}
