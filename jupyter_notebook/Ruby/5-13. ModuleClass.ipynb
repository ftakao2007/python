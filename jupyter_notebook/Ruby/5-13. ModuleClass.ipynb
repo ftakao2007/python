{
 "cells": [
  {
   "cell_type": "markdown",
   "metadata": {},
   "source": [
    "## モジュールクラス\n",
    "\n",
    "* モジュールクラス\n",
    "    * Rubyでプログラムを書く上で有用なメソッドが多く定義されている\n",
    "    * ClassクラスはこのModuleクラスを継承している\n",
    "        * すべてのクラスでメソッドが利用可能\n",
    "    * モジュールはincludeメソッドを使って任意のクラスにインクルードできる"
   ]
  },
  {
   "cell_type": "code",
   "execution_count": 2,
   "metadata": {
    "collapsed": false
   },
   "outputs": [
    {
     "data": {
      "text/plain": [
       "\"bar\""
      ]
     },
     "execution_count": 2,
     "metadata": {},
     "output_type": "execute_result"
    }
   ],
   "source": [
    "module MyModule\n",
    "  def foo\n",
    "    'bar'\n",
    "  end\n",
    "end\n",
    "\n",
    "class MyClass\n",
    "  include MyModule\n",
    "end\n",
    "\n",
    "MyClass.new.foo"
   ]
  },
  {
   "cell_type": "markdown",
   "metadata": {},
   "source": [
    "## 定義されている関数に関するメソッド\n",
    "\n",
    "* メソッド\n",
    "    * Module.constants\n",
    "        * その時点で定義されている定数を取得\n",
    "    * constants\n",
    "        * 特定のクラスやモジュールで定義されている定数を取得\n",
    "    * const_defined?\n",
    "        * 指定された定数が定義されているかを確認\n",
    "    * const_get\n",
    "        * 定義されている定数の値を取り出す\n",
    "    * const_set\n",
    "        * 新たに定数を定義する\n",
    "    * remove_const\n",
    "        * 定数を取り除く\n",
    "    * const_missing\n",
    "    * ancestors\n",
    "        * クラスやモジュールの祖先クラスとインクルードしているモジュールの一覧を返す"
   ]
  },
  {
   "cell_type": "code",
   "execution_count": 41,
   "metadata": {
    "collapsed": false
   },
   "outputs": [
    {
     "name": "stdout",
     "output_type": "stream",
     "text": [
      "[:Object, :Module, :Class, :BasicObject, :Kernel, :NilClass, :NIL, :Data, :TrueClass, :TRUE, :FalseClass, :FALSE, :Encoding, :Comparable, :Enumerable, :String, :Symbol, :Exception, :SystemExit, :SignalException, :Interrupt, :StandardError, :TypeError, :ArgumentError, :IndexError, :KeyError, :RangeError, :ScriptError, :SyntaxError, :LoadError, :NotImplementedError, :NameError, :NoMethodError, :RuntimeError, :SecurityError, :NoMemoryError, :EncodingError, :SystemCallError, :Errno, :UncaughtThrowError, :ZeroDivisionError, :FloatDomainError, :Numeric, :Integer, :Fixnum, :Float, :Bignum, :Array, :Hash, :ENV, :Struct, :RegexpError, :Regexp, :MatchData, :Marshal, :Range, :IOError, :EOFError, :IO, :STDIN, :STDOUT, :STDERR, :ARGF, :FileTest, :File, :Dir, :Time, :Random, :Signal, :Proc, :LocalJumpError, :SystemStackError, :Method, :UnboundMethod, :Binding, :Math, :GC, :ObjectSpace, :Enumerator, :StopIteration, :RubyVM, :Thread, :TOPLEVEL_BINDING, :ThreadGroup, :ThreadError, :ClosedQueueError, :Mutex, :Queue, :SizedQueue, :ConditionVariable, :Process, :Fiber, :FiberError, :Rational, :Complex, :RUBY_VERSION, :RUBY_RELEASE_DATE, :RUBY_PLATFORM, :RUBY_PATCHLEVEL, :RUBY_REVISION, :RUBY_DESCRIPTION, :RUBY_COPYRIGHT, :RUBY_ENGINE, :RUBY_ENGINE_VERSION, :TracePoint, :ARGV, :Gem, :DidYouMean, :RbConfig, :CROSS_COMPILING, :StringIO, :MonitorMixin, :Monitor, :BundlerVendoredPostIt, :Pathname, :Bundler, :Etc, :FileUtils, :URI, :Digest, :Delegator, :SimpleDelegator, :Tempfile, :OptionParser, :OptParse, :Set, :SortedSet, :TSort, :Forwardable, :SingleForwardable, :MultiJson, :IRuby, :Logger, :MimeMagic, :OpenSSL, :SecureRandom, :In, :Out, :ZMQ, :BasicSocket, :Socket, :SocketError, :IPSocket, :TCPSocket, :TCPServer, :UDPSocket, :UNIXSocket, :UNIXServer, :Addrinfo, :ZL, :JSON, :OpenStruct, :Singleton, :PrettyPrint, :PP, :Pry, :MethodSource, :Shellwords, :CodeRay, :Slop, :Readline, :MyModule, :MyClass, :RUBYGEMS_ACTIVATION_MONITOR]\n",
      "\n",
      "Stringクラスの定数\n",
      "[:Hoge, :Extend]\n",
      "true\n",
      "JSON::Ext::Generator::GeneratorMethods::String::Extend\n",
      "[:Hoge, :Extend]\n",
      "hogehoge\n",
      "\n",
      "1\n"
     ]
    },
    {
     "data": {
      "text/plain": [
       "[MyClass, MyModule, Object, PP::ObjectMixin, JSON::Ext::Generator::GeneratorMethods::Object, Kernel, BasicObject]"
      ]
     },
     "execution_count": 41,
     "metadata": {},
     "output_type": "execute_result"
    }
   ],
   "source": [
    "puts Module.constants\n",
    "puts\n",
    "\n",
    "puts \"Stringクラスの定数\"\n",
    "puts String.constants\n",
    "puts String.const_defined?(:Extend)\n",
    "puts String.const_get(:Extend)\n",
    "#String.const_set(:Hoge,'hogehoge')\n",
    "puts String.constants\n",
    "puts String.const_get(:Hoge)\n",
    "puts\n",
    "\n",
    "class MyClass\n",
    "  MYCONST = 1\n",
    "  puts MYCONST\n",
    "  remove_const(:MYCONST)\n",
    "end\n",
    "MyClass.constants\n",
    "\n",
    "MyClass.ancestors"
   ]
  },
  {
   "cell_type": "code",
   "execution_count": null,
   "metadata": {
    "collapsed": true
   },
   "outputs": [],
   "source": []
  }
 ],
 "metadata": {
  "kernelspec": {
   "display_name": "Ruby 2.3.3",
   "language": "ruby",
   "name": "ruby"
  },
  "language_info": {
   "file_extension": ".rb",
   "mimetype": "application/x-ruby",
   "name": "ruby",
   "version": "2.3.3"
  }
 },
 "nbformat": 4,
 "nbformat_minor": 2
}
