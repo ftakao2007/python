{
 "cells": [
  {
   "cell_type": "markdown",
   "id": "bbe33cbd",
   "metadata": {},
   "source": [
    "# 情報の抜出"
   ]
  },
  {
   "cell_type": "code",
   "execution_count": 15,
   "id": "64128c9f",
   "metadata": {},
   "outputs": [
    {
     "name": "stdout",
     "output_type": "stream",
     "text": [
      "<p>1993年2月24日\n",
      "<a href=\"http://example.com/ja/\">Ruby's birthday</a></p>\n",
      "<p>2014年1月1日\n",
      "<a href=\"http://sample2.com/en/\">元日</a></p>\n"
     ]
    }
   ],
   "source": [
    "html = <<XXXX\n",
    "<p>1993年2月24日\n",
    "<a href=\"http://example.com/ja/\">Ruby's birthday</a></p>\n",
    "<p>2014年1月1日\n",
    "<a href=\"http://sample2.com/en/\">元日</a></p>\n",
    "XXXX\n",
    "\n",
    "puts html"
   ]
  },
  {
   "cell_type": "markdown",
   "id": "c874e659",
   "metadata": {},
   "source": [
    "  ## 日付の抜出"
   ]
  },
  {
   "cell_type": "code",
   "execution_count": 3,
   "id": "1b7eeee8",
   "metadata": {},
   "outputs": [
    {
     "name": "stdout",
     "output_type": "stream",
     "text": [
      "[[\"1993\", \"2\", \"24\"], [\"2014\", \"1\", \"1\"]]\n"
     ]
    },
    {
     "data": {
      "text/plain": [
       "[[\"1993\", \"2\", \"24\"], [\"2014\", \"1\", \"1\"]]"
      ]
     },
     "execution_count": 3,
     "metadata": {},
     "output_type": "execute_result"
    }
   ],
   "source": [
    "dates = html.scan(/(\\d+)年(\\d+)月(\\d+)日$/)\n",
    "p dates"
   ]
  },
  {
   "cell_type": "markdown",
   "id": "28322345",
   "metadata": {},
   "source": [
    "## リンクの抜出"
   ]
  },
  {
   "cell_type": "code",
   "execution_count": 16,
   "id": "0b692de9",
   "metadata": {},
   "outputs": [
    {
     "name": "stdout",
     "output_type": "stream",
     "text": [
      "[[\"http://example.com/ja/\", \"Ruby's birthday\"], [\"http://sample2.com/en/\", \"元日\"]]\n"
     ]
    },
    {
     "data": {
      "text/plain": [
       "[[\"http://example.com/ja/\", \"Ruby's birthday\"], [\"http://sample2.com/en/\", \"元日\"]]"
      ]
     },
     "execution_count": 16,
     "metadata": {},
     "output_type": "execute_result"
    }
   ],
   "source": [
    "links = html.scan(%r!<a href=\"(.+?)\">(.+?)</a></p>!)\n",
    "p links"
   ]
  },
  {
   "cell_type": "markdown",
   "id": "c9892815",
   "metadata": {},
   "source": [
    "## インデックスでループ\n",
    "\n",
    "* 日付とリンクを配列に入れる"
   ]
  },
  {
   "cell_type": "code",
   "execution_count": 18,
   "id": "75818227",
   "metadata": {},
   "outputs": [
    {
     "data": {
      "text/plain": [
       "[[[\"1993\", \"2\", \"24\"], [\"http://example.com/ja/\", \"Ruby's birthday\"]], [[\"2014\", \"1\", \"1\"], [\"http://sample2.com/en/\", \"元日\"]]]"
      ]
     },
     "execution_count": 18,
     "metadata": {},
     "output_type": "execute_result"
    }
   ],
   "source": [
    "(0...dates.length).map{|i| [dates[i], links[i]]}"
   ]
  },
  {
   "cell_type": "markdown",
   "id": "64e759fa",
   "metadata": {},
   "source": [
    "## Array#zipでまとめる"
   ]
  },
  {
   "cell_type": "code",
   "execution_count": 19,
   "id": "158d8239",
   "metadata": {},
   "outputs": [
    {
     "data": {
      "text/plain": [
       "[[[\"1993\", \"2\", \"24\"], [\"http://example.com/ja/\", \"Ruby's birthday\"]], [[\"2014\", \"1\", \"1\"], [\"http://sample2.com/en/\", \"元日\"]]]"
      ]
     },
     "execution_count": 19,
     "metadata": {},
     "output_type": "execute_result"
    }
   ],
   "source": [
    "dates.zip(links)"
   ]
  },
  {
   "cell_type": "markdown",
   "id": "7370d416",
   "metadata": {},
   "source": [
    "# 文字列処理"
   ]
  },
  {
   "cell_type": "markdown",
   "id": "c1daafbd",
   "metadata": {},
   "source": [
    "## 書式設定"
   ]
  },
  {
   "cell_type": "code",
   "execution_count": 20,
   "id": "82e9aae3",
   "metadata": {},
   "outputs": [
    {
     "data": {
      "text/plain": [
       "\"Download 23 URLs\""
      ]
     },
     "execution_count": 20,
     "metadata": {},
     "output_type": "execute_result"
    }
   ],
   "source": [
    "format(\"%s %d URLs\", \"Download\", 23)"
   ]
  },
  {
   "cell_type": "markdown",
   "id": "c456f00e",
   "metadata": {},
   "source": [
    "## 改行除去"
   ]
  },
  {
   "cell_type": "code",
   "execution_count": 22,
   "id": "e6e8186d",
   "metadata": {},
   "outputs": [
    {
     "data": {
      "text/plain": [
       "\"abc\\n\\n\""
      ]
     },
     "execution_count": 22,
     "metadata": {},
     "output_type": "execute_result"
    }
   ],
   "source": [
    "\"abc\\n\\n\\n\".chomp"
   ]
  },
  {
   "cell_type": "code",
   "execution_count": 23,
   "id": "637dee4b",
   "metadata": {},
   "outputs": [
    {
     "data": {
      "text/plain": [
       "\"abc\""
      ]
     },
     "execution_count": 23,
     "metadata": {},
     "output_type": "execute_result"
    }
   ],
   "source": [
    "\"abc\\n\\n\\n\".chomp(\"\")"
   ]
  },
  {
   "cell_type": "markdown",
   "id": "98a7e1c8",
   "metadata": {},
   "source": [
    "## 文字数カウント"
   ]
  },
  {
   "cell_type": "code",
   "execution_count": 32,
   "id": "4e4753c9",
   "metadata": {},
   "outputs": [
    {
     "name": "stdout",
     "output_type": "stream",
     "text": [
      "3\n",
      "2\n",
      "5\n",
      "6\n",
      "4\n"
     ]
    },
    {
     "data": {
      "text/plain": [
       "4"
      ]
     },
     "execution_count": 32,
     "metadata": {},
     "output_type": "execute_result"
    }
   ],
   "source": [
    "p \"aaabbc\".count(\"a\")\n",
    "\n",
    "p \"aaabbc\".count(\"b\")\n",
    "\n",
    "p \"aaabbc\".count(\"ab\")\n",
    "\n",
    "p \"aaabbc\".count(\"a-c\")\n",
    "\n",
    "### a～cのうちbを除いた文字数\n",
    "p \"aaabbc\".count(\"a-c\", \"^b\")"
   ]
  },
  {
   "cell_type": "markdown",
   "id": "b0f2f411",
   "metadata": {},
   "source": [
    "## 行で分割"
   ]
  },
  {
   "cell_type": "code",
   "execution_count": 38,
   "id": "8209d8ad",
   "metadata": {},
   "outputs": [
    {
     "name": "stdout",
     "output_type": "stream",
     "text": [
      "[\"ab\\n\", \"cd\\n\", \"ef\"]\n",
      "[\"ab\", \"cd\", \"ef\"]\n",
      "[\"ab\", \"cd\", \"ef\"]\n"
     ]
    },
    {
     "data": {
      "text/plain": [
       "[\"ab\", \"cd\", \"ef\"]"
      ]
     },
     "execution_count": 38,
     "metadata": {},
     "output_type": "execute_result"
    }
   ],
   "source": [
    "s = \"ab\\ncd\\nef\"\n",
    "p s.lines.to_a\n",
    "p s.lines.map(&:chomp)\n",
    "p s.split(\"\\n\")"
   ]
  },
  {
   "cell_type": "markdown",
   "id": "74f8ac8b",
   "metadata": {},
   "source": [
    "## 行ごとに繰り返し"
   ]
  },
  {
   "cell_type": "code",
   "execution_count": 41,
   "id": "4879f7af",
   "metadata": {},
   "outputs": [
    {
     "data": {
      "text/plain": [
       "[\"ab\\n hoge\", \"cd\\n hoge\", \"ef hoge\"]"
      ]
     },
     "execution_count": 41,
     "metadata": {},
     "output_type": "execute_result"
    }
   ],
   "source": [
    "a = []; s.each_line{|l| a << l + \" hoge\"}; a"
   ]
  },
  {
   "cell_type": "markdown",
   "id": "00279254",
   "metadata": {},
   "source": [
    "## 文字列を空白で分割"
   ]
  },
  {
   "cell_type": "code",
   "execution_count": 47,
   "id": "ee6ca789",
   "metadata": {},
   "outputs": [
    {
     "name": "stdout",
     "output_type": "stream",
     "text": [
      "[\"ab\", \"cd\", \"ef\"]\n",
      "[\"ab\", \"cd ef \"]\n"
     ]
    },
    {
     "data": {
      "text/plain": [
       "[\"ab\", \"cd ef \"]"
      ]
     },
     "execution_count": 47,
     "metadata": {},
     "output_type": "execute_result"
    }
   ],
   "source": [
    "s = \" ab cd ef \"\n",
    "p s.split\n",
    "p s.split(nil, 2)"
   ]
  },
  {
   "cell_type": "markdown",
   "id": "9842df9c",
   "metadata": {},
   "source": [
    "## 先頭と末尾の空白を取り除き"
   ]
  },
  {
   "cell_type": "code",
   "execution_count": 48,
   "id": "0b6b140f",
   "metadata": {},
   "outputs": [
    {
     "data": {
      "text/plain": [
       "\"ab cd ef\""
      ]
     },
     "execution_count": 48,
     "metadata": {},
     "output_type": "execute_result"
    }
   ],
   "source": [
    "s.strip"
   ]
  },
  {
   "cell_type": "markdown",
   "id": "96c7c5f9",
   "metadata": {},
   "source": [
    "## 文字列を分割"
   ]
  },
  {
   "cell_type": "code",
   "execution_count": 49,
   "id": "d47e06c4",
   "metadata": {},
   "outputs": [
    {
     "data": {
      "text/plain": [
       "[\"あ\", \"い\", \"う\", \"え\", \"お\"]"
      ]
     },
     "execution_count": 49,
     "metadata": {},
     "output_type": "execute_result"
    }
   ],
   "source": [
    "\"あいうえお\".chars.to_a"
   ]
  },
  {
   "cell_type": "markdown",
   "id": "be3dbd05",
   "metadata": {},
   "source": [
    "# ファイル処理"
   ]
  },
  {
   "cell_type": "markdown",
   "id": "a09b5275",
   "metadata": {},
   "source": [
    "## ファイルを開く"
   ]
  },
  {
   "cell_type": "code",
   "execution_count": 59,
   "id": "635f5930",
   "metadata": {},
   "outputs": [
    {
     "name": "stdout",
     "output_type": "stream",
     "text": [
      "\"fuga\\nhaga\\n123\\nあいう\\n\"\n",
      "\"fuga\\nhaga\\n123\\nあいう\\n\"\n",
      "\"fuga\\nhaga\\n123\\nあいう\\n\"\n"
     ]
    },
    {
     "data": {
      "text/plain": [
       "\"fuga\\nhaga\\n123\\nあいう\\n\""
      ]
     },
     "execution_count": 59,
     "metadata": {},
     "output_type": "execute_result"
    }
   ],
   "source": [
    "p File.read('hoge.txt')\n",
    "\n",
    "p open('hoge.txt'){|f| f.read}\n",
    "\n",
    "### 上と同じ意味\n",
    "p open('hoge.txt', &:read)\n",
    "\n",
    "### ファイルが開きっぱなし\n",
    "#p open('hoge.txt').read"
   ]
  },
  {
   "cell_type": "markdown",
   "id": "a6fbcfd3",
   "metadata": {},
   "source": [
    "## エンコーディング"
   ]
  },
  {
   "cell_type": "code",
   "execution_count": 75,
   "id": "bc774b5f",
   "metadata": {},
   "outputs": [
    {
     "name": "stdout",
     "output_type": "stream",
     "text": [
      "\"\\x82\\xA0\\x82\\xA2\\x82\\xA4\\x82\\xA6\\x82\\xA8\\n\"\n",
      "#<Encoding:UTF-8>\n",
      "\"あいうえお\\n\"\n",
      "\n",
      "\"\\x{82A0}\\x{82A2}\\x{82A4}\\x{82A6}\\x{82A8}\\n\"\n",
      "#<Encoding:Shift_JIS>\n",
      "\"あいうえお\\n\"\n",
      "\n",
      "\"あいうえお\\n\"\n",
      "#<Encoding:UTF-8>\n",
      "\n",
      "\"あいうえお\\n\"\n",
      "\"あいうえお\\n\"\n"
     ]
    },
    {
     "data": {
      "text/plain": [
       "1"
      ]
     },
     "execution_count": 75,
     "metadata": {},
     "output_type": "execute_result"
    }
   ],
   "source": [
    "#OUTPUT=\"fuga.txt\"\n",
    "\n",
    "### Shift_JISで出力\n",
    "open(OUTPUT, \"w\"){|f| f.puts \"あいうえお\".encode(\"Shift_JIS\")}\n",
    "\n",
    "### 読み込むがエンコーディングがマッチしてない\n",
    "a = File.read(OUTPUT)\n",
    "p a\n",
    "p a.encoding  ### 実際はShift_JISだがUTF-8となっている\n",
    "\n",
    "### エンコーディング変換\n",
    "p a.force_encoding(\"Shift_JIS\").encode!(\"UTF-8\")\n",
    "puts\n",
    "\n",
    "### 入力時にエンコーディングを指定\n",
    "b = open(OUTPUT, \"r:Shift_JIS\", &:read)\n",
    "p b\n",
    "p b.encoding\n",
    "p b.encode(\"UTF-8\")\n",
    "puts\n",
    "\n",
    "### Shift_JISを読み込んだ段階でUTF-8にする(入力時のエンコーディングに加えて内部エンコーディングも指定)\n",
    "c = open(OUTPUT, \"r:Shift_JIS:UTF-8\", &:read)\n",
    "p c\n",
    "p c.encoding\n",
    "puts\n",
    "\n",
    "### エンコーディングを推測して変換\n",
    "require 'kconv'\n",
    "p File.read(OUTPUT).toutf8\n",
    "\n",
    "# NKF.nkfはMIME decodeをしない\n",
    "p NKF.nkf('-wmo', File.read(OUTPUT))\n",
    "File.unlink OUTPUT"
   ]
  }
 ],
 "metadata": {
  "kernelspec": {
   "display_name": "Ruby 3.2.1",
   "language": "ruby",
   "name": "ruby"
  },
  "language_info": {
   "file_extension": ".rb",
   "mimetype": "application/x-ruby",
   "name": "ruby",
   "version": "3.2.1"
  }
 },
 "nbformat": 4,
 "nbformat_minor": 5
}
