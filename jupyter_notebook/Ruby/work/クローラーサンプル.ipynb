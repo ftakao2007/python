{
 "cells": [
  {
   "cell_type": "markdown",
   "id": "50138bc6",
   "metadata": {},
   "source": [
    "## サンプルサイト\n",
    "\n",
    "http://crawler.sbcr.jp/samplepage.html"
   ]
  },
  {
   "cell_type": "markdown",
   "id": "59da2cc7",
   "metadata": {},
   "source": [
    "## HTML解析\n",
    "\n",
    "* エンコーディングの統一\n",
    "    * UTF-8以外の場合はエンコードをそろえる\n",
    "* 情報の確認\n",
    "    * HTMLパーサーを使ってXPath指定で取り出す\n",
    "    * それくらいで無ければ正規表現で取り出す"
   ]
  },
  {
   "cell_type": "markdown",
   "id": "0109dcb2",
   "metadata": {},
   "source": [
    "## 日付と記事リンクの取り出し\n",
    "\n",
    "```\n",
    "<div class=\"topicsCenterColumnTopicsListDate\">\n",
    "     2014年2月12日<br />\n",
    "</div>\n",
    "```"
   ]
  },
  {
   "cell_type": "code",
   "execution_count": 1,
   "id": "8f67f790",
   "metadata": {},
   "outputs": [
    {
     "data": {
      "text/plain": [
       "[[\"2014\", \"2\", \"6\"], [\"2014\", \"1\", \"9\"], [\"2014\", \"1\", \"9\"], [\"2013\", \"12\", \"5\"]]"
      ]
     },
     "execution_count": 1,
     "metadata": {},
     "output_type": "execute_result"
    }
   ],
   "source": [
    "page_source = open(\"samplepage.html\", &:read)\n",
    "dates = page_source.scan(%r!(\\d+)年 ?(\\d+)月  ?(\\d+)日<br />!)\n",
    "dates[0,4]"
   ]
  },
  {
   "cell_type": "code",
   "execution_count": 2,
   "id": "cad6a898",
   "metadata": {},
   "outputs": [
    {
     "name": "stdout",
     "output_type": "stream",
     "text": [
      "http://www.sbcr.jp/topics/11719/\n",
      "最強の布陣で挑む！ GA文庫電子版【俺TUEEEEE】キャンペーン開催中\n",
      "http://www.sbcr.jp/topics/11712/\n",
      "【新刊情報】2014年2月17日～23日　「コンセプト」の作り方がわかるビジネス書など12点\n",
      "http://www.sbcr.jp/topics/11710/\n",
      "『数学ガール』電子書籍版がAmazon Kindleで配信開始！ キャンペーンも同時開催！！\n",
      "http://www.sbcr.jp/topics/11703/\n",
      "【新刊情報】2014年2月10日～16日　アニメ化決定『ワルブレ』最新刊など11点\n"
     ]
    }
   ],
   "source": [
    "url_titles = page_source.scan(%r!^<a href=\"(.+?)\">(.+?)</a><br />!)\n",
    "puts url_titles[0,4]"
   ]
  },
  {
   "cell_type": "code",
   "execution_count": 3,
   "id": "294aa9a4",
   "metadata": {},
   "outputs": [
    {
     "name": "stdout",
     "output_type": "stream",
     "text": [
      "16\n",
      "68\n"
     ]
    },
    {
     "data": {
      "text/plain": [
       "68"
      ]
     },
     "execution_count": 3,
     "metadata": {},
     "output_type": "execute_result"
    }
   ],
   "source": [
    "## 日付とタイトルの数が一致しているか確認\n",
    "p dates.length\n",
    "p url_titles.length"
   ]
  },
  {
   "cell_type": "code",
   "execution_count": 4,
   "id": "32f1483d",
   "metadata": {},
   "outputs": [
    {
     "name": "stdout",
     "output_type": "stream",
     "text": [
      "[[\"2014\", \"2\", \"6\"], [\"2014\", \"1\", \"9\"]]\n",
      "[[[\"2014\", \"2\", \"6\"], [\"http://www.sbcr.jp/topics/11719/\", \"最強の布陣で挑む！ GA文庫電子版【俺TUEEEEE】キャンペーン開催中\"]], [[\"2014\", \"1\", \"9\"], [\"http://www.sbcr.jp/topics/11712/\", \"【新刊情報】2014年2月17日～23日　「コンセプト」の作り方がわかるビジネス書など12点\"]]]\n"
     ]
    },
    {
     "data": {
      "text/plain": [
       "[[[\"2014\", \"2\", \"6\"], [\"http://www.sbcr.jp/topics/11719/\", \"最強の布陣で挑む！ GA文庫電子版【俺TUEEEEE】キャンペーン開催中\"]], [[\"2014\", \"1\", \"9\"], [\"http://www.sbcr.jp/topics/11712/\", \"【新刊情報】2014年2月17日～23日　「コンセプト」の作り方がわかるビジネス書など12点\"]]]"
      ]
     },
     "execution_count": 4,
     "metadata": {},
     "output_type": "execute_result"
    }
   ],
   "source": [
    "## Array#zipで取得\n",
    "p dates[0,2]\n",
    "p dates[0,2].zip(url_titles[0,2])"
   ]
  },
  {
   "cell_type": "code",
   "execution_count": 5,
   "id": "96f79749",
   "metadata": {},
   "outputs": [
    {
     "name": "stdout",
     "output_type": "stream",
     "text": [
      "2014-02-20 00:00:00 +0900\n",
      "2014-02-20 00:00:00 +0900\n",
      "2014-02-06 00:00:00 +0900\n"
     ]
    }
   ],
   "source": [
    "## 日本時間のTimeオブジェクト作成\n",
    "puts Time.local \"2014\", \"2\", \"20\"\n",
    "puts Time.local 2014, 2, 20\n",
    "puts Time.local dates[0][0], dates[0][1], dates[0][2]"
   ]
  },
  {
   "cell_type": "markdown",
   "id": "7358b0a6",
   "metadata": {},
   "source": [
    "## HTMLアンエスケープ\n",
    "\n",
    "* HTMLは特定の記号に独自の記法が定めてある\n",
    "    * 正規表現で抜き出しただけだとこれらが残るのでアンエスケープしておく\n",
    "        * CGI.unescapeHTMLを利用\n",
    "```\n",
    "require 'cgi'\n",
    "CGI.unescapeHTML \"&lt;A&amp;B&gt;\"  ### これは「<A&B>」という表示になる\n",
    "\n",
    "```"
   ]
  },
  {
   "cell_type": "code",
   "execution_count": 10,
   "id": "ffd854cd",
   "metadata": {},
   "outputs": [
    {
     "data": {
      "text/plain": [
       "[[\"http://www.sbcr.jp/topics/11719/\", \"最強の布陣で挑む！ GA文庫電子版【俺TUEEEEE】キャンペーン開催中\"], [\"2014\", \"2\", \"6\"]]"
      ]
     },
     "execution_count": 10,
     "metadata": {},
     "output_type": "execute_result"
    }
   ],
   "source": [
    "require 'cgi'\n",
    "\n",
    "def parse(page_source)\n",
    "  dates = page_source.scan(%r!(\\d+)年 ?(\\d+)月  ?(\\d+)日<br />!)\n",
    "  url_titles = page_source.scan(%r!^<a href=\"(.+?)\">(.+?)</a><br />!)\n",
    "#   url_titles.zip(dates).map{\n",
    "#     |(aurl, atitle), ymd|\n",
    "#     [ CGI.unescapeHTML(aurl), \n",
    "#       CGI.unescapeHTML(atitle), \n",
    "#       Time.local(*ymd)\n",
    "#     ] \n",
    "#   }\n",
    "  url_titles.zip(dates)\n",
    "end\n",
    "  \n",
    "x = parse(open(\"samplepage.html\", &:read))\n",
    "x[0,2][0]"
   ]
  },
  {
   "cell_type": "markdown",
   "id": "1a2e8492",
   "metadata": {},
   "source": [
    "## WgetをRubyから呼ぶ"
   ]
  },
  {
   "cell_type": "code",
   "execution_count": 15,
   "id": "14ad6f58",
   "metadata": {},
   "outputs": [
    {
     "data": {
      "text/plain": [
       "[[\"http://www.sbcr.jp/topics/11719/\", \"最強の布陣で挑む！ GA文庫電子版【俺TUEEEEE】キャンペーン開催中\"], [\"2014\", \"2\", \"6\"]]"
      ]
     },
     "execution_count": 15,
     "metadata": {},
     "output_type": "execute_result"
    }
   ],
   "source": [
    "x = parse(`/usr/bin/wget -q -O- http://crawler.sbcr.jp/samplepage.html`)\n",
    "x[0,2][0]"
   ]
  },
  {
   "cell_type": "code",
   "execution_count": 3,
   "id": "ad89d0c7",
   "metadata": {},
   "outputs": [
    {
     "ename": "NoMethodError",
     "evalue": "undefined method `historical_quotes' for YahooFinance:Module",
     "output_type": "error",
     "traceback": [
      "\u001b[31mNoMethodError\u001b[0m: undefined method `historical_quotes' for YahooFinance:Module",
      "(irb):5:in `<top (required)>'"
     ]
    }
   ],
   "source": [
    "require 'date'\n",
    "require 'nyaplot'\n",
    "require 'yahoo-finance'\n",
    "\n",
    "#Yahoo Financeから金価格を取得する\n",
    "gold_prices = YahooFinance.historical_quotes(\n",
    "  \"GC=F\", #金のシンボル\n",
    "  Date.today.prev_month, #30日前から\n",
    "  Date.today\n",
    ").map do |row|\n",
    "  { date: Date.parse(row.date), price: row.close.to_f }\n",
    "end\n",
    "\n",
    "#Yahoo Financeからビットコイン価格を取得する\n",
    "btc_prices = YahooFinance.historical_quotes(\n",
    "  \"BTC-USD\", #ビットコインのシンボル\n",
    "  Date.today.prev_month, #30日前から\n",
    "  Date.today\n",
    ").map do |row|\n",
    "  { date: Date.parse(row.date), price: row.close.to_f }\n",
    "end\n",
    "\n",
    "\n",
    "#Nyaplotで2つのチャートを描画する\n",
    "plot = Nyaplot::Plot.new\n",
    "plot.x_label(\"Date\")\n",
    "plot.y_label(\"Price\")\n",
    "\n",
    "gold_scatter = plot.add_with_df(Nyaplot::DataFrame.new(gold_prices))\n",
    "gold_scatter.x({ key: :date })\n",
    "gold_scatter.y({ key: :price })\n",
    "gold_scatter.title(\"Gold Price\")\n",
    "\n",
    "btc_scatter = plot.add_with_df(Nyaplot::DataFrame.new(btc_prices))\n",
    "btc_scatter.x({ key: :date })\n",
    "btc_scatter.y({ key: :price })\n",
    "btc_scatter.title(\"Bitcoin Price\")\n",
    "\n",
    "#plot.show"
   ]
  },
  {
   "cell_type": "code",
   "execution_count": 1,
   "id": "df37911c",
   "metadata": {},
   "outputs": [
    {
     "data": {
      "application/javascript": [
       "if(window['d3'] === undefined ||\n",
       "   window['Nyaplot'] === undefined){\n",
       "    var path = {\"d3\":\"https://cdnjs.cloudflare.com/ajax/libs/d3/3.5.5/d3.min\",\"downloadable\":\"http://cdn.rawgit.com/domitry/d3-downloadable/master/d3-downloadable\"};\n",
       "\n",
       "\n",
       "\n",
       "    var shim = {\"d3\":{\"exports\":\"d3\"},\"downloadable\":{\"exports\":\"downloadable\"}};\n",
       "\n",
       "    require.config({paths: path, shim:shim});\n",
       "\n",
       "\n",
       "require(['d3'], function(d3){window['d3']=d3;console.log('finished loading d3');require(['downloadable'], function(downloadable){window['downloadable']=downloadable;console.log('finished loading downloadable');\n",
       "\n",
       "\tvar script = d3.select(\"head\")\n",
       "\t    .append(\"script\")\n",
       "\t    .attr(\"src\", \"http://cdn.rawgit.com/domitry/Nyaplotjs/master/release/nyaplot.js\")\n",
       "\t    .attr(\"async\", true);\n",
       "\n",
       "\tscript[0][0].onload = script[0][0].onreadystatechange = function(){\n",
       "\n",
       "\n",
       "\t    var event = document.createEvent(\"HTMLEvents\");\n",
       "\t    event.initEvent(\"load_nyaplot\",false,false);\n",
       "\t    window.dispatchEvent(event);\n",
       "\t    console.log('Finished loading Nyaplotjs');\n",
       "\n",
       "\t};\n",
       "\n",
       "\n",
       "});});\n",
       "}\n"
      ],
      "text/plain": [
       "\"if(window['d3'] === undefined ||\\n   window['Nyaplot'] === undefined){\\n    var path = {\\\"d3\\\":\\\"https://cdnjs.cloudflare.com/ajax/libs/d3/3.5.5/d3.min\\\",\\\"downloadable\\\":\\\"http://cdn.rawgit.com/domitry/d3-downloadable/master/d3-downloadable\\\"};\\n\\n\\n\\n    var shim = {\\\"d3\\\":{\\\"exports\\\":\\\"d3\\\"},\\\"downloadable\\\":{\\\"exports\\\":\\\"downloadable\\\"}};\\n\\n    require.config({paths: path, shim:shim});\\n\\n\\nrequire(['d3'], function(d3){window['d3']=d3;console.log('finished loading d3');require(['downloadable'], function(downloadable){window['downloadable']=downloadable;console.log('finished loading downloadable');\\n\\n\\tvar script = d3.select(\\\"head\\\")\\n\\t    .append(\\\"script\\\")\\n\\t    .attr(\\\"src\\\", \\\"http://cdn.rawgit.com/domitry/Nyaplotjs/master/release/nyaplot.js\\\")\\n\\t    .attr(\\\"async\\\", true);\\n\\n\\tscript[0][0].onload = script[0][0].onreadystatechange = function(){\\n\\n\\n\\t    var event = document.createEvent(\\\"HTMLEvents\\\");\\n\\t    event.initEvent(\\\"load_nyaplot\\\",false,false);\\n\\t    window.dispatchEvent(event);\\n\\t    console.log('Finished loading Nyaplotjs');\\n\\n\\t};\\n\\n\\n});});\\n}\\n\""
      ]
     },
     "metadata": {},
     "output_type": "display_data"
    },
    {
     "ename": "Errno::ENOENT",
     "evalue": "No such file or directory @ rb_sysopen - https://ichart.finance.yahoo.com/table.csv?s=GC=F&g=d&ignore=.csv&a=1&b=19&c=2023&d=2&e=19&f=2023",
     "output_type": "error",
     "traceback": [
      "\u001b[31mErrno::ENOENT\u001b[0m: No such file or directory @ rb_sysopen - https://ichart.finance.yahoo.com/table.csv?s=GC=F&g=d&ignore=.csv&a=1&b=19&c=2023&d=2&e=19&f=2023",
      "/usr/local/rbenv/versions/3.2.1/lib/ruby/gems/3.2.0/gems/yahoo-finance-1.2.1/lib/yahoo-finance.rb:209:in `initialize'",
      "/usr/local/rbenv/versions/3.2.1/lib/ruby/gems/3.2.0/gems/yahoo-finance-1.2.1/lib/yahoo-finance.rb:209:in `open'",
      "/usr/local/rbenv/versions/3.2.1/lib/ruby/gems/3.2.0/gems/yahoo-finance-1.2.1/lib/yahoo-finance.rb:209:in `read_historical'",
      "/usr/local/rbenv/versions/3.2.1/lib/ruby/gems/3.2.0/gems/yahoo-finance-1.2.1/lib/yahoo-finance.rb:150:in `historical_quotes'",
      "(irb):5:in `<top (required)>'"
     ]
    }
   ],
   "source": [
    "require 'date'\n",
    "require 'nyaplot'\n",
    "require 'yahoo-finance'\n",
    "\n",
    "#Yahoo Financeから金価格を取得する\n",
    "gold_prices = YahooFinance::Client.new.historical_quotes(\n",
    "  \"GC=F\", #金のシンボル\n",
    "  start_date: Date.today.prev_month, #30日前から\n",
    "  end_date: Date.today\n",
    ").map do |row|\n",
    "  { date: Date.parse(row.trade_date), price: row.close.to_f }\n",
    "end\n",
    "\n",
    "#Yahoo Financeからビットコイン価格を取得する\n",
    "btc_prices = YahooFinance::Client.new.historical_quotes(\n",
    "  \"BTC-USD\", #ビットコインのシンボル\n",
    "  start_date: Date.today.prev_month, #30日前から\n",
    "  end_date: Date.today\n",
    ").map do |row|\n",
    "  { date: Date.parse(row.trade_date), price: row.close.to_f }\n",
    "end\n",
    "\n",
    "#Nyaplotで2つのチャートを描画する\n",
    "plot = Nyaplot::Plot.new\n",
    "plot.x_label(\"Date\")\n",
    "plot.y_label(\"Price\")\n",
    "\n",
    "gold_scatter = plot.add_with_df(Nyaplot::DataFrame.new(gold_prices))\n",
    "gold_scatter.x({ key: :date })\n",
    "gold_scatter.y({ key: :price })\n",
    "gold_scatter.title(\"Gold Price\")\n",
    "\n",
    "btc_scatter = plot.add_with_df(Nyaplot::DataFrame.new(btc_prices))\n",
    "btc_scatter.x({ key: :date })\n",
    "btc_scatter.y({ key: :price })\n",
    "btc_scatter.title(\"Bitcoin Price\")\n",
    "\n",
    "plot.show"
   ]
  },
  {
   "cell_type": "code",
   "execution_count": 2,
   "id": "a4ef5151",
   "metadata": {},
   "outputs": [
    {
     "ename": "Errno::ENOENT",
     "evalue": "No such file or directory @ rb_sysopen - https://ichart.finance.yahoo.com/table.csv?s=BTC-USD&g=d&ignore=.csv",
     "output_type": "error",
     "traceback": [
      "\u001b[31mErrno::ENOENT\u001b[0m: No such file or directory @ rb_sysopen - https://ichart.finance.yahoo.com/table.csv?s=BTC-USD&g=d&ignore=.csv",
      "/usr/local/rbenv/versions/3.2.1/lib/ruby/gems/3.2.0/gems/yahoo-finance-1.2.1/lib/yahoo-finance.rb:209:in `initialize'",
      "/usr/local/rbenv/versions/3.2.1/lib/ruby/gems/3.2.0/gems/yahoo-finance-1.2.1/lib/yahoo-finance.rb:209:in `open'",
      "/usr/local/rbenv/versions/3.2.1/lib/ruby/gems/3.2.0/gems/yahoo-finance-1.2.1/lib/yahoo-finance.rb:209:in `read_historical'",
      "/usr/local/rbenv/versions/3.2.1/lib/ruby/gems/3.2.0/gems/yahoo-finance-1.2.1/lib/yahoo-finance.rb:150:in `historical_quotes'",
      "(irb):1:in `<top (required)>'"
     ]
    }
   ],
   "source": [
    "fuga = YahooFinance::Client.new\n",
    "fuga.historical_quotes(\"BTC-USD\")"
   ]
  }
 ],
 "metadata": {
  "kernelspec": {
   "display_name": "Ruby 3.2.1",
   "language": "ruby",
   "name": "ruby"
  },
  "language_info": {
   "file_extension": ".rb",
   "mimetype": "application/x-ruby",
   "name": "ruby",
   "version": "3.2.1"
  }
 },
 "nbformat": 4,
 "nbformat_minor": 5
}
