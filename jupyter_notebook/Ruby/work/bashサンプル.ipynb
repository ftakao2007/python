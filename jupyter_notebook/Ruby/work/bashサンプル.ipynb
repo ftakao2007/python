{
 "cells": [
  {
   "cell_type": "markdown",
   "id": "86963ca9",
   "metadata": {},
   "source": [
    "## サンプルサイトの保存"
   ]
  },
  {
   "cell_type": "code",
   "execution_count": 3,
   "id": "85edf5b9",
   "metadata": {},
   "outputs": [
    {
     "name": "stderr",
     "output_type": "stream",
     "text": [
      "--2023-03-12 19:13:01--  http://crawler.sbcr.jp/samplepage.html\n",
      "Resolving crawler.sbcr.jp (crawler.sbcr.jp)... 18.182.104.119\n",
      "Connecting to crawler.sbcr.jp (crawler.sbcr.jp)|18.182.104.119|:80... connected.\n",
      "HTTP request sent, awaiting response... 200 OK\n",
      "Length: 109741 (107K) [text/html]\n",
      "Saving to: ‘samplepage.html’\n",
      "\n",
      "     0K .......... .......... .......... .......... .......... 46% 1.37M 0s\n",
      "    50K .......... .......... .......... .......... .......... 93% 2.35M 0s\n",
      "   100K .......                                               100% 29.6M=0.06s\n",
      "\n",
      "2023-03-12 19:13:02 (1.84 MB/s) - ‘samplepage.html’ saved [109741/109741]\n",
      "\n"
     ]
    }
   ],
   "source": [
    "%%bash\n",
    "wget -O samplepage.html http://crawler.sbcr.jp/samplepage.html"
   ]
  }
 ],
 "metadata": {
  "kernelspec": {
   "display_name": "Python 3 (ipykernel)",
   "language": "python",
   "name": "python3"
  },
  "language_info": {
   "codemirror_mode": {
    "name": "ipython",
    "version": 3
   },
   "file_extension": ".py",
   "mimetype": "text/x-python",
   "name": "python",
   "nbconvert_exporter": "python",
   "pygments_lexer": "ipython3",
   "version": "3.9.6"
  }
 },
 "nbformat": 4,
 "nbformat_minor": 5
}
