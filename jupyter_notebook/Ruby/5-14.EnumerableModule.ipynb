{
 "cells": [
  {
   "cell_type": "markdown",
   "metadata": {
    "deletable": true,
    "editable": true
   },
   "source": [
    "# Enumerableモジュール\n",
    "\n",
    "* Enumerableモジュール\n",
    "    * ArrayクラスやHashクラスにインクルードされている\n",
    "    * <font color=\"red\">全てのメソッドがeachメソッドを元に定義されている</font>\n",
    "        * eachメソッドが定義されているクラスであれば、これらの多くのメソッドをそのクラスで利用可能"
   ]
  },
  {
   "cell_type": "markdown",
   "metadata": {
    "deletable": true,
    "editable": true
   },
   "source": [
    "## mapメソッド,collectメソッド\n",
    "\n",
    "与えられたブロックを評価した結果の配列を返す"
   ]
  },
  {
   "cell_type": "code",
   "execution_count": 15,
   "metadata": {
    "collapsed": false,
    "deletable": true,
    "editable": true
   },
   "outputs": [
    {
     "name": "stdout",
     "output_type": "stream",
     "text": [
      "[2, 4, 6]\n",
      "[:fruit, :drink]\n",
      "[\"apple\", \"coffee\"]\n"
     ]
    }
   ],
   "source": [
    "arr = [1, 2, 3]\n",
    "puts arr.map{|i| i * 2}\n",
    "\n",
    "hash = {fruit: \"apple\", drink: \"coffee\"}\n",
    "puts hash.collect{|key,value| key}\n",
    "puts hash.collect{|key,value| value}"
   ]
  },
  {
   "cell_type": "markdown",
   "metadata": {
    "deletable": true,
    "editable": true
   },
   "source": [
    "## each_with_indexメソッド\n",
    "\n",
    "要素とそのインデックスをブロックに渡して繰り返す"
   ]
  },
  {
   "cell_type": "code",
   "execution_count": 35,
   "metadata": {
    "collapsed": false,
    "deletable": true,
    "editable": true
   },
   "outputs": [
    {
     "name": "stdout",
     "output_type": "stream",
     "text": [
      "0: 10\n",
      "1: 11\n",
      "2: 12\n",
      "[10, 11, 12]\n",
      "0: [:fruit, \"apple\"]\n",
      "1: [:drink, \"coffee\"]\n",
      "{:fruit=>\"apple\", :drink=>\"coffee\"}\n"
     ]
    }
   ],
   "source": [
    "arr = [10, 11, 12]\n",
    "puts arr.each_with_index{|i, index| puts \"#{index}: #{i}\"}\n",
    "\n",
    "hash = {fruit: \"apple\", drink: \"coffee\"}\n",
    "puts hash.each_with_index{|key_value,index| puts\"#{index}: #{key_value}\"}"
   ]
  },
  {
   "cell_type": "markdown",
   "metadata": {
    "deletable": true,
    "editable": true
   },
   "source": [
    "## injectメソッド,reduceメソッド\n",
    "\n",
    "* 自身の畳み込み演算を行う\n",
    "    * 初期値と自身の要素を順に組み合わせて結果を返す演算\n",
    "        * 初期値は引数でとる"
   ]
  },
  {
   "cell_type": "code",
   "execution_count": 41,
   "metadata": {
    "collapsed": false,
    "deletable": true,
    "editable": true
   },
   "outputs": [
    {
     "name": "stdout",
     "output_type": "stream",
     "text": [
      "12\n",
      "34\n"
     ]
    }
   ],
   "source": [
    "puts [1,2,3].inject(0){|result, v| result + v * 2}\n",
    "# 0 + 1 * 2 => 2\n",
    "# 2 + 2 * 2 => 6\n",
    "# 6 + 3 * 2 => 12\n",
    "\n",
    "puts [2,4,6].reduce(10){|result, v| result + v * 2}\n",
    "# 10 + 2 * 2 => 14\n",
    "# 14 + 4 * 2 => 22\n",
    "# 22 + 6 * 2 => 34"
   ]
  },
  {
   "cell_type": "markdown",
   "metadata": {
    "deletable": true,
    "editable": true
   },
   "source": [
    "## each_sliceメソッド, each_consメソッド\n",
    "\n",
    "* each_slice\n",
    "    * 要素を指定された数で区切ってブロックに渡す\n",
    "        * <font color=\"red\">要素数が指定した数で割り切れない場合は最後だけ渡される数が少なくなる</font><font color=\"red\">\n",
    "* each_cons\n",
    "    * 先頭から要素を一つずつ選び、さらに余分に指定された数にあうように要素を選んでブロックに渡していく"
   ]
  },
  {
   "cell_type": "code",
   "execution_count": 12,
   "metadata": {
    "collapsed": false
   },
   "outputs": [
    {
     "name": "stdout",
     "output_type": "stream",
     "text": [
      "[1, 2, 3]\n",
      "[4, 5]\n",
      "\n",
      "[1, 2, 3]\n",
      "[2, 3, 4]\n",
      "[3, 4, 5]\n"
     ]
    }
   ],
   "source": [
    "(1..5).each_slice(3){|i| puts i}\n",
    "puts\n",
    "\n",
    "(1..5).each_cons(3){|i| puts i}"
   ]
  },
  {
   "cell_type": "markdown",
   "metadata": {},
   "source": [
    "## reverse_eachメソッド\n",
    "\n",
    "逆順にブロックに要素を渡していく"
   ]
  },
  {
   "cell_type": "code",
   "execution_count": 15,
   "metadata": {
    "collapsed": false
   },
   "outputs": [
    {
     "name": "stdout",
     "output_type": "stream",
     "text": [
      "5\n",
      "4\n",
      "3\n",
      "2\n",
      "1\n"
     ]
    },
    {
     "data": {
      "text/plain": [
       "[1, 2, 3, 4, 5]"
      ]
     },
     "execution_count": 15,
     "metadata": {},
     "output_type": "execute_result"
    }
   ],
   "source": [
    "[1,2,3,4,5].reverse_each{|i| puts i}"
   ]
  },
  {
   "cell_type": "markdown",
   "metadata": {},
   "source": [
    "## all?, any?, none?, one?メソッド\n",
    "\n",
    "* all?\n",
    "    * 全ての要素が真であればtrue\n",
    "* any?\n",
    "    * 真である要素が一つでもあればtrue\n",
    "* none?\n",
    "    * 全ての要素が偽であればtrue\n",
    "* one?\n",
    "    * 一つの要素だけが真であればtrue"
   ]
  },
  {
   "cell_type": "code",
   "execution_count": 23,
   "metadata": {
    "collapsed": false
   },
   "outputs": [
    {
     "name": "stdout",
     "output_type": "stream",
     "text": [
      "all?\n",
      "true\n",
      "false\n",
      "\n",
      "any?\n",
      "true\n",
      "false\n",
      "\n",
      "none?\n",
      "false\n",
      "true\n",
      "\n",
      "one?\n",
      "true\n",
      "false\n"
     ]
    }
   ],
   "source": [
    "puts \"all?\"\n",
    "puts [1,2,3].all?\n",
    "puts [nil,2,3].all?\n",
    "puts\n",
    "\n",
    "puts \"any?\"\n",
    "puts [nil,nil,3].any?\n",
    "puts [nil,false,nil].any?\n",
    "puts\n",
    "\n",
    "puts \"none?\"\n",
    "puts [nil,nil,3].none?\n",
    "puts [nil,false,nil].none?\n",
    "puts\n",
    "\n",
    "puts \"one?\"\n",
    "puts [false,nil,3].one?\n",
    "puts [nil,false,nil].one?"
   ]
  },
  {
   "cell_type": "markdown",
   "metadata": {},
   "source": [
    "## member?, include?メソッド\n",
    "\n",
    "* 指定された値と==メソッドがtrueになる要素があるときにtrueを返す"
   ]
  },
  {
   "cell_type": "code",
   "execution_count": 28,
   "metadata": {
    "collapsed": false
   },
   "outputs": [
    {
     "name": "stdout",
     "output_type": "stream",
     "text": [
      "true\n",
      "false\n",
      "\n",
      "false\n",
      "true\n",
      "\n"
     ]
    }
   ],
   "source": [
    "puts [1,2,3].member?(3)\n",
    "puts [1,2,3].member?(4)\n",
    "puts\n",
    "\n",
    "puts [1,2,3].include?(0)\n",
    "puts [1,2,3].include?(1)\n",
    "puts"
   ]
  },
  {
   "cell_type": "markdown",
   "metadata": {},
   "source": [
    "## find, detect,find_index,find_all,select,reject,grepメソッド\n",
    "\n",
    "* find, detect\n",
    "    * ブロックを評価して<font color=\"red\">最初に</font>真となる要素を返す\n",
    "* find_index\n",
    "    * ブロックを評価して<font color=\"red\">最初に</font>真となるindexを返す\n",
    "* find_all, select\n",
    "    * ブロックの評価結果が真となるすべての要素を返す\n",
    "* reject\n",
    "    * ブロックの評価結果が偽となるすべての要素を返す\n",
    "* grep\n",
    "    * 指定したパターンとマッチする要素を含んだ配列を返す\n"
   ]
  },
  {
   "cell_type": "code",
   "execution_count": 68,
   "metadata": {
    "collapsed": false
   },
   "outputs": [
    {
     "name": "stdout",
     "output_type": "stream",
     "text": [
      "2\n",
      "2\n",
      "1\n",
      "[2, 4, 6]\n",
      "[2, 4, 6]\n",
      "[1, 3, 5]\n",
      "\n",
      "[1]\n",
      "[\"a\", \"b\", \"c\"]\n",
      "[:d]\n",
      "[1, 2, 3]\n",
      "[\"a\", \"b\", \"c\"]\n",
      "[1, 2, 3, \"a\", \"b\", \"c\", :d]\n"
     ]
    }
   ],
   "source": [
    "puts [1,2,3,4,5,6].find{|i| i % 2 == 0 }\n",
    "puts [1,2,3,4,5,6].detect{|i| i % 2 == 0 }\n",
    "puts [1,2,3,4,5,6].find_index{|i| i % 2 == 0 }\n",
    "puts [1,2,3,4,5,6].find_all{|i| i % 2 == 0 }\n",
    "puts [1,2,3,4,5,6].select{|i| i % 2 == 0 }\n",
    "puts [1,2,3,4,5,6].reject{|i| i % 2 == 0 }\n",
    "puts\n",
    "\n",
    "a = [1,2,3,\"a\",\"b\",\"c\",:d]\n",
    "puts a.grep(1)\n",
    "puts a.grep(/[a-c]/)\n",
    "puts a.grep(Symbol)\n",
    "puts a.grep(Numeric)\n",
    "puts a.grep(String)\n",
    "puts a.grep(Object)"
   ]
  }
 ],
 "metadata": {
  "kernelspec": {
   "display_name": "Ruby 2.3.3",
   "language": "ruby",
   "name": "ruby"
  },
  "language_info": {
   "file_extension": ".rb",
   "mimetype": "application/x-ruby",
   "name": "ruby",
   "version": "2.3.3"
  }
 },
 "nbformat": 4,
 "nbformat_minor": 2
}
