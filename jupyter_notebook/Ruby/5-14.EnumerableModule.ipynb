{
 "cells": [
  {
   "cell_type": "markdown",
   "metadata": {},
   "source": [
    "# Enumerableモジュール\n",
    "\n",
    "* Enumerableモジュール\n",
    "    * ArrayクラスやHashクラスにインクルードされている\n",
    "    * <font color=\"red\">全てのメソッドがeachメソッドを元に定義されている</font>\n",
    "        * eachメソッドが定義されているクラスであれば、これらの多くのメソッドをそのクラスで利用可能"
   ]
  },
  {
   "cell_type": "markdown",
   "metadata": {},
   "source": [
    "## mapメソッド,collectメソッド\n",
    "\n",
    "与えられたブロックを評価した結果の配列を返す"
   ]
  },
  {
   "cell_type": "code",
   "execution_count": 15,
   "metadata": {
    "collapsed": false
   },
   "outputs": [
    {
     "name": "stdout",
     "output_type": "stream",
     "text": [
      "[2, 4, 6]\n",
      "[:fruit, :drink]\n",
      "[\"apple\", \"coffee\"]\n"
     ]
    }
   ],
   "source": [
    "arr = [1, 2, 3]\n",
    "puts arr.map{|i| i * 2}\n",
    "\n",
    "hash = {fruit: \"apple\", drink: \"coffee\"}\n",
    "puts hash.collect{|key,value| key}\n",
    "puts hash.collect{|key,value| value}"
   ]
  },
  {
   "cell_type": "markdown",
   "metadata": {},
   "source": [
    "## each_with_indexメソッド\n",
    "\n",
    "要素とそのインデックスをブロックに渡して繰り返す"
   ]
  },
  {
   "cell_type": "code",
   "execution_count": 35,
   "metadata": {
    "collapsed": false
   },
   "outputs": [
    {
     "name": "stdout",
     "output_type": "stream",
     "text": [
      "0: 10\n",
      "1: 11\n",
      "2: 12\n",
      "[10, 11, 12]\n",
      "0: [:fruit, \"apple\"]\n",
      "1: [:drink, \"coffee\"]\n",
      "{:fruit=>\"apple\", :drink=>\"coffee\"}\n"
     ]
    }
   ],
   "source": [
    "arr = [10, 11, 12]\n",
    "puts arr.each_with_index{|i, index| puts \"#{index}: #{i}\"}\n",
    "\n",
    "hash = {fruit: \"apple\", drink: \"coffee\"}\n",
    "puts hash.each_with_index{|key_value,index| puts\"#{index}: #{key_value}\"}"
   ]
  },
  {
   "cell_type": "markdown",
   "metadata": {},
   "source": [
    "## injectメソッド,reduceメソッド\n",
    "\n",
    "* 自身の畳み込み演算を行う\n",
    "    * 初期値と自身の要素を順に組み合わせて結果を返す演算\n",
    "        * 初期値は引数でとる"
   ]
  },
  {
   "cell_type": "code",
   "execution_count": 41,
   "metadata": {
    "collapsed": false
   },
   "outputs": [
    {
     "name": "stdout",
     "output_type": "stream",
     "text": [
      "12\n",
      "34\n"
     ]
    }
   ],
   "source": [
    "puts [1,2,3].inject(0){|result, v| result + v * 2}\n",
    "# 0 + 1 * 2 => 2\n",
    "# 2 + 2 * 2 => 6\n",
    "# 6 + 3 * 2 => 12\n",
    "\n",
    "puts [2,4,6].reduce(10){|result, v| result + v * 2}\n",
    "# 10 + 2 * 2 => 14\n",
    "# 14 + 4 * 2 => 22\n",
    "# 22 + 6 * 2 => 34"
   ]
  },
  {
   "cell_type": "markdown",
   "metadata": {},
   "source": [
    "## each_sliceメソッド, each_consメソッド"
   ]
  }
 ],
 "metadata": {
  "kernelspec": {
   "display_name": "Ruby 2.3.3",
   "language": "ruby",
   "name": "ruby"
  },
  "language_info": {
   "file_extension": ".rb",
   "mimetype": "application/x-ruby",
   "name": "ruby",
   "version": "2.3.3"
  }
 },
 "nbformat": 4,
 "nbformat_minor": 2
}
