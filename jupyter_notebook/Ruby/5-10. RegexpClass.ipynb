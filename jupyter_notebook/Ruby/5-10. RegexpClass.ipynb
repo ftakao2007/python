{
 "cells": [
  {
   "cell_type": "code",
   "execution_count": 1,
   "metadata": {
    "collapsed": false,
    "deletable": true,
    "editable": true
   },
   "outputs": [
    {
     "data": {
      "text/plain": [
       "true"
      ]
     },
     "execution_count": 1,
     "metadata": {},
     "output_type": "execute_result"
    }
   ],
   "source": [
    "### pry-docの読み込み\n",
    "#require \"/root/git_jupyter_notebook/Ruby/vendor/bundle/ruby/2.3.0/gems/pry-doc-0.10.0/lib/pry-doc\"\n",
    "require \"/Users/ftakao2007/jupyter/vendor/bundle/ruby/2.3.0/gems/pry-doc-0.10.0/lib/pry-doc\""
   ]
  },
  {
   "cell_type": "markdown",
   "metadata": {
    "deletable": true,
    "editable": true
   },
   "source": [
    "# Regexpクラス\n",
    "\n",
    "* 正規表現オブジェクトを扱うクラス\n",
    "* 正規表現を使って文字列やデータマッチングを行う"
   ]
  },
  {
   "cell_type": "markdown",
   "metadata": {
    "deletable": true,
    "editable": true
   },
   "source": [
    "## 正規表現オブジェクトを生成する\n",
    "\n",
    "* 正規表現リテラルを使って表現できる\n",
    "    * 末尾にオプションを指定できる\n",
    "        * i : 大文字と小文字を無視する\n",
    "        * m : 正規表現の「.」で改行にマッチさせる\n",
    "        * x : 空白や#から始まるコメントを無視する\n",
    "        * オプションは複数指定できる\n",
    "* Regexp.new, Regexp.compileメソッドで生成できる\n",
    "    * 二つ目の引数に、マッチングのオプションを指定できる\n",
    "        * Regexp::IGNORECASE : 大文字と小文字を無視する\n",
    "        * Regexp::MULTILINE  : 正規表現の「.」で改行にマッチさせる\n",
    "        * Regexp::EXTENDED : バックスラッシュでエスケープされていない空白や#から始まるコメントを無視する"
   ]
  },
  {
   "cell_type": "code",
   "execution_count": 5,
   "metadata": {
    "collapsed": false,
    "deletable": true,
    "editable": true
   },
   "outputs": [
    {
     "name": "stdout",
     "output_type": "stream",
     "text": [
      "Regexp\n"
     ]
    }
   ],
   "source": [
    "a = /abc/\n",
    "puts a.class"
   ]
  },
  {
   "cell_type": "code",
   "execution_count": 32,
   "metadata": {
    "collapsed": false
   },
   "outputs": [
    {
     "name": "stdout",
     "output_type": "stream",
     "text": [
      "大文字小文字を区別しない\n",
      "false\n",
      "true\n",
      "\n",
      "改行をマッチさせる\n",
      "false\n",
      "true\n",
      "\n",
      "空白やコメントを無視する\n",
      "false\n",
      "true\n",
      "\n",
      "複数指定\n",
      "true\n"
     ]
    }
   ],
   "source": [
    "puts \"大文字小文字を区別しない\"\n",
    "a = /abcde/\n",
    "puts a === \"AbCDe\"\n",
    "b = /abcde/i\n",
    "puts b === \"AbCDe\"\n",
    "puts \n",
    "\n",
    "puts \"改行をマッチさせる\"\n",
    "c = /ab.*cd/\n",
    "puts c === \"ab\\ncd\"\n",
    "d = /ab.*cd/m\n",
    "puts d === \"ab\\ncd\"\n",
    "puts\n",
    "\n",
    "puts \"空白やコメントを無視する\"\n",
    "e = /ab\n",
    "     cde\n",
    "     # コメント\n",
    "     fg/\n",
    "puts e === \"abcdefg\"\n",
    "\n",
    "f = /ab\n",
    "     cde\n",
    "     # コメント\n",
    "     fg/x\n",
    "puts f === \"abcdefg\"\n",
    "puts\n",
    "\n",
    "puts \"複数指定\"\n",
    "g = /ab.*cd/im\n",
    "puts g === \"Ab\\ncD\""
   ]
  },
  {
   "cell_type": "code",
   "execution_count": 34,
   "metadata": {
    "collapsed": false
   },
   "outputs": [
    {
     "name": "stdout",
     "output_type": "stream",
     "text": [
      "大文字小文字を区別しない\n",
      "false\n",
      "true\n",
      "\n",
      "改行をマッチさせる\n",
      "false\n",
      "true\n",
      "\n",
      "空白やコメントを無視する\n",
      "false\n",
      "true\n",
      "\n",
      "複数指定\n",
      "true\n"
     ]
    }
   ],
   "source": [
    "puts \"大文字小文字を区別しない\"\n",
    "a = Regexp.new(\"abcde\")\n",
    "puts a === \"AbCDe\"\n",
    "b = Regexp.new(\"abcde\",Regexp::IGNORECASE)\n",
    "puts b === \"AbCDe\"\n",
    "puts \n",
    "\n",
    "puts \"改行をマッチさせる\"\n",
    "c = Regexp.new(\"ab.*cd\")\n",
    "puts c === \"ab\\ncd\"\n",
    "d = Regexp.new(\"ab.*cd\",Regexp::MULTILINE)\n",
    "puts d === \"ab\\ncd\"\n",
    "puts\n",
    "\n",
    "puts \"空白やコメントを無視する\"\n",
    "e = Regexp.new(\"ab\n",
    "                cde\n",
    "                # コメント\n",
    "                fg\")\n",
    "puts e === \"abcdefg\"\n",
    "\n",
    "f = Regexp.new(\"ab\n",
    "                cde\n",
    "                # コメント\n",
    "                fg\",Regexp::EXTENDED)\n",
    "puts f === \"abcdefg\"\n",
    "puts\n",
    "\n",
    "puts \"複数指定\"\n",
    "g = /ab.*cd/im\n",
    "g = Regexp.new(\"ab.*cd\",Regexp::IGNORECASE | Regexp::MULTILINE)\n",
    "puts g === \"Ab\\ncD\""
   ]
  },
  {
   "cell_type": "markdown",
   "metadata": {},
   "source": [
    "## 正規表現オブジェクトでマッチングする"
   ]
  }
 ],
 "metadata": {
  "kernelspec": {
   "display_name": "Ruby 2.3.3",
   "language": "ruby",
   "name": "ruby"
  },
  "language_info": {
   "file_extension": ".rb",
   "mimetype": "application/x-ruby",
   "name": "ruby",
   "version": "2.3.3"
  }
 },
 "nbformat": 4,
 "nbformat_minor": 2
}
