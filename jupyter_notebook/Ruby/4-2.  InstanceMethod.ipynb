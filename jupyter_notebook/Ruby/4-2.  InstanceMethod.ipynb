{
 "cells": [
  {
   "cell_type": "markdown",
   "metadata": {
    "deletable": true,
    "editable": true
   },
   "source": [
    "# インスタンスメソッド\n",
    "\n",
    "* 動作\n",
    "    * インスタンスは、クラスで定義されたインスタンスメソッドを呼び出すことができる\n",
    "    * 継承したクラスのインスタンスは、スーパークラスで定義されたインスタンスメソッドを呼び出すことができる"
   ]
  },
  {
   "cell_type": "markdown",
   "metadata": {
    "deletable": true,
    "editable": true
   },
   "source": [
    "## クラスオブジェクト\n",
    "\n",
    "* クラスレイヤとインスタンスレイヤ\n",
    "    * クラスレイヤ\n",
    "        * 例\n",
    "            * クラス(Fooなど)\n",
    "            * クラスオブジェクト(インスタンスメソッド method1など)\n",
    "    * インスタンスレイヤ\n",
    "        * クラスからオブジェクトを生成(インスタンス化)するとインスタンスレイヤに降りてくるというイメージ\n",
    "        * 例\n",
    "            * Fooクラスのインスタンス(foo1, foo2など)\n",
    "                * それぞれのインスタンスのインスタンス変数(@aなど)\n",
    "\n",
    "* 要素\n",
    "    * インスタンスメソッド\n",
    "        * メモリ上では<font color=\"red\">クラスオブジェクトに保持</font>される\n",
    "            * レイヤとしてはクラスレイヤ\n",
    "    * インスタンス変数\n",
    "        * メモリ上では<font color=\"red\">インスタンスに保持</font>される\n",
    "            * レイヤとしてはインスタンスレイヤ\n",
    "                "
   ]
  },
  {
   "cell_type": "markdown",
   "metadata": {
    "deletable": true,
    "editable": true
   },
   "source": [
    "## 継承したクラスオブジェクト\n",
    "\n",
    "* Foo : 継承されるクラスオブジェクト\n",
    "    * 継承するクラスより一般的な性質を持つ(汎化)\n",
    "* FooExt : 継承したクラスオブジェクト\n",
    "    * 元のクラスより固有の性質を持つ(特化)\n",
    "\n",
    "* foo1\n",
    "    * Fooクラスで定義された性質を持つ\n",
    "* fooExt1\n",
    "    * Fooクラス及びFooExtクラスで定義された性質を持つ"
   ]
  },
  {
   "cell_type": "code",
   "execution_count": 1,
   "metadata": {
    "collapsed": false,
    "deletable": true,
    "editable": true
   },
   "outputs": [
    {
     "name": "stdout",
     "output_type": "stream",
     "text": [
      "1\n",
      "2\n",
      "3\n",
      "12\n",
      "Foo\n"
     ]
    }
   ],
   "source": [
    "class Foo\n",
    "  def initialize(a)\n",
    "    @a = a\n",
    "  end\n",
    "  \n",
    "  def method1\n",
    "    @a\n",
    "  end\n",
    "end\n",
    "\n",
    "### FooExt <-(特化)--(汎化)-> Foo(継承元クラス)\n",
    "class FooExt < Foo\n",
    "  def initialize(a,b)\n",
    "    @b = b\n",
    "    super a\n",
    "  end\n",
    "  \n",
    "  def method2(c)\n",
    "    @a + @b + c\n",
    "  end\n",
    "end\n",
    "\n",
    "### Fooクラスのインスタンスを生成\n",
    "foo1 = Foo.new(1)\n",
    "foo2 = Foo.new(2)\n",
    "\n",
    "### 定義したインスタンスメソッドを実行\n",
    "puts foo1.method1\n",
    "puts foo2.method1\n",
    "\n",
    "### FooExtクラスのインスタンスを生成\n",
    "fooExt1 = FooExt.new(3, 4)\n",
    "\n",
    "### 定義したインスタンスメソッドを実行\n",
    "puts fooExt1.method1\n",
    "puts fooExt1.method2(5)  \n",
    "\n",
    "### スーパークラスの取得\n",
    "### FooExt -(superclass)-> Foo\n",
    "puts FooExt.superclass"
   ]
  },
  {
   "cell_type": "markdown",
   "metadata": {
    "deletable": true,
    "editable": true
   },
   "source": [
    "## メソッドの探索経路\n",
    "\n",
    "### メソッドが存在する場合\n",
    "\n",
    "1. foo1インスタンスのインスタンスメソッドmethod1を実行\n",
    "1. インタプリタがそれが属するクラス(Foo)のオブジェクトに指定されたメソッド(method1)があるかどうかを判定\n",
    "    * 抽象度を一つ上げて(クラスレイヤで)Fooのクラスオブジェクトにmethod1が存在するかを判定している\n",
    "1. 同様にfooExt1インスタンスのmethod2メソッドが実行された場合、クラスレイヤのFooExtクラスにmethod2が存在するかを判定\n",
    "1. メソッドがある場合は正常に実行される\n",
    "\n",
    "### メソッドが存在しない場合\n",
    "\n",
    "1.  インスタンスメソッド実行\n",
    "1. そのクラスのクラスオブジェクト探す\n",
    "1. スーパークラスのクラスオブジェクトを順にたどって探す\n",
    "1. 最後まで見つからなければ例外NoMethodErrorを発生"
   ]
  },
  {
   "cell_type": "code",
   "execution_count": 7,
   "metadata": {
    "collapsed": false
   },
   "outputs": [
    {
     "name": "stdout",
     "output_type": "stream",
     "text": [
      "1\n"
     ]
    },
    {
     "ename": "NoMethodError",
     "evalue": "undefined method `method2' for #<Foo:0x007fb16c053e88 @a=1>",
     "output_type": "error",
     "traceback": [
      "\u001b[31mNoMethodError\u001b[0m: undefined method `method2' for #<Foo:0x007fb16c053e88 @a=1>",
      "\u001b[37m(pry):197:in `<main>'\u001b[0m",
      "\u001b[37m/Users/ftakao2007/work/jupyter/vendor/bundle/ruby/2.3.0/gems/pry-0.10.4/lib/pry/pry_instance.rb:355:in `eval'\u001b[0m",
      "\u001b[37m/Users/ftakao2007/work/jupyter/vendor/bundle/ruby/2.3.0/gems/pry-0.10.4/lib/pry/pry_instance.rb:355:in `evaluate_ruby'\u001b[0m",
      "\u001b[37m/Users/ftakao2007/work/jupyter/vendor/bundle/ruby/2.3.0/gems/pry-0.10.4/lib/pry/pry_instance.rb:323:in `handle_line'\u001b[0m",
      "\u001b[37m/Users/ftakao2007/work/jupyter/vendor/bundle/ruby/2.3.0/gems/pry-0.10.4/lib/pry/pry_instance.rb:243:in `block (2 levels) in eval'\u001b[0m",
      "\u001b[37m/Users/ftakao2007/work/jupyter/vendor/bundle/ruby/2.3.0/gems/pry-0.10.4/lib/pry/pry_instance.rb:242:in `catch'\u001b[0m",
      "\u001b[37m/Users/ftakao2007/work/jupyter/vendor/bundle/ruby/2.3.0/gems/pry-0.10.4/lib/pry/pry_instance.rb:242:in `block in eval'\u001b[0m",
      "\u001b[37m/Users/ftakao2007/work/jupyter/vendor/bundle/ruby/2.3.0/gems/pry-0.10.4/lib/pry/pry_instance.rb:241:in `catch'\u001b[0m",
      "\u001b[37m/Users/ftakao2007/work/jupyter/vendor/bundle/ruby/2.3.0/gems/pry-0.10.4/lib/pry/pry_instance.rb:241:in `eval'\u001b[0m",
      "\u001b[37m/Users/ftakao2007/work/jupyter/vendor/bundle/ruby/2.3.0/gems/iruby-0.3/lib/iruby/backend.rb:66:in `eval'\u001b[0m",
      "\u001b[37m/Users/ftakao2007/work/jupyter/vendor/bundle/ruby/2.3.0/gems/iruby-0.3/lib/iruby/backend.rb:12:in `eval'\u001b[0m",
      "\u001b[37m/Users/ftakao2007/work/jupyter/vendor/bundle/ruby/2.3.0/gems/iruby-0.3/lib/iruby/kernel.rb:87:in `execute_request'\u001b[0m",
      "\u001b[37m/Users/ftakao2007/work/jupyter/vendor/bundle/ruby/2.3.0/gems/iruby-0.3/lib/iruby/kernel.rb:47:in `dispatch'\u001b[0m",
      "\u001b[37m/Users/ftakao2007/work/jupyter/vendor/bundle/ruby/2.3.0/gems/iruby-0.3/lib/iruby/kernel.rb:37:in `run'\u001b[0m",
      "\u001b[37m/Users/ftakao2007/work/jupyter/vendor/bundle/ruby/2.3.0/gems/iruby-0.3/lib/iruby/command.rb:70:in `run_kernel'\u001b[0m",
      "\u001b[37m/Users/ftakao2007/work/jupyter/vendor/bundle/ruby/2.3.0/gems/iruby-0.3/lib/iruby/command.rb:34:in `run'\u001b[0m",
      "\u001b[37m/Users/ftakao2007/work/jupyter/vendor/bundle/ruby/2.3.0/gems/iruby-0.3/bin/iruby:5:in `<top (required)>'\u001b[0m",
      "\u001b[37m/Users/ftakao2007/work/jupyter/vendor/bundle/ruby/2.3.0/bin/iruby:23:in `load'\u001b[0m",
      "\u001b[37m/Users/ftakao2007/work/jupyter/vendor/bundle/ruby/2.3.0/bin/iruby:23:in `<main>'\u001b[0m"
     ]
    }
   ],
   "source": [
    "class Foo\n",
    "  def initialize(a)\n",
    "    @a = a\n",
    "  end\n",
    "  \n",
    "  def method1\n",
    "    @a\n",
    "  end\n",
    "end\n",
    "\n",
    "class FooExt < Foo\n",
    "  def initialize(a,b)\n",
    "    @b = b\n",
    "    super a\n",
    "  end\n",
    "  \n",
    "  def method2(c)\n",
    "    @a + @b + c\n",
    "  end\n",
    "end\n",
    "\n",
    "### fooExt1にmethod1は存在しないが、継承元にはあるのでそちらが実行される\n",
    "fooExt1 = FooExt.new(1,2)\n",
    "puts fooExt1.method1\n",
    "\n",
    "### Fooにmethod2は存在しないのでNoNameError\n",
    "foo1 = Foo.new(1)\n",
    "puts foo1.method2"
   ]
  },
  {
   "cell_type": "markdown",
   "metadata": {},
   "source": [
    "## 継承チェーン(継承順)とmethod_missing\n",
    "\n",
    "* スーパークラスを省略してクラスを定義\n",
    "    * <font color=\"red\">Objectクラスが継承される</font>\n",
    "        * Ruby1.9以降ではObjectクラスはBasicObjectクラスを継承するように変更されている\n",
    "            * BasicObjectクラスはRuby1.9より前のObjectクラスからほとんどのメソッドを取り除いたクラス\n",
    "            * プログラム作成上ではBasicObjectクラスを意識する必要はないが試験では継承チェーンの問題で出題される事がある\n",
    "        * ObjectクラスとBasicObjectクラスの間にKernelモジュールがある\n",
    "        * FooクラスはObjectクラスを継承している\n",
    "* クラス継承チェーンの参照\n",
    "    * クラス継承チェーン一覧\n",
    "        * ancestorsメソッド\n",
    "    * あるクラスが継承チェーンンに含まれているか確認\n",
    "        * 比較演算子"
   ]
  },
  {
   "cell_type": "code",
   "execution_count": 14,
   "metadata": {
    "collapsed": false
   },
   "outputs": [
    {
     "name": "stdout",
     "output_type": "stream",
     "text": [
      "[Foo, Object, PP::ObjectMixin, JSON::Ext::Generator::GeneratorMethods::Object, Kernel, BasicObject]\n",
      "[FooExt, Foo, Object, PP::ObjectMixin, JSON::Ext::Generator::GeneratorMethods::Object, Kernel, BasicObject]\n",
      "true\n",
      "false\n",
      "true\n"
     ]
    }
   ],
   "source": [
    "### スーパークラスを略さずクラスを定義\n",
    "class Foo < Object\n",
    "  def initialize(a)\n",
    "    @a = a\n",
    "  end\n",
    "  \n",
    "  def method1\n",
    "    @a\n",
    "  end\n",
    "end\n",
    "\n",
    "class FooExt < Foo\n",
    "  def initialize(a,b)\n",
    "    @b = b\n",
    "    super a\n",
    "  end\n",
    "  \n",
    "  def method2(c)\n",
    "    @a + @b + c\n",
    "  end\n",
    "end\n",
    "\n",
    "### クラス継承チェーン一覧の表示\n",
    "### Jupyter環境なので途中でPP::ObjectMixin, JSON::Ext::Generator::GeneratorMethods::Objectが表示されている\n",
    "puts Foo.ancestors\n",
    "puts FooExt.ancestors\n",
    "\n",
    "### 比較演算子でクラスが継承チェーンに含まれているかを確認\n",
    "### 不等号がクラスの大小関係(包含関係)を表していると覚える\n",
    "puts Foo < Object\n",
    "puts Foo < FooExt\n",
    "puts Foo > FooExt\n"
   ]
  },
  {
   "cell_type": "markdown",
   "metadata": {},
   "source": [
    "## オブジェクトが持つインスタンスメソッドとインスタンス変数の調査\n",
    "\n",
    "* インスタンスメソッドの調査\n",
    "    * instance_methodsメソッド\n",
    "        * 引数にfalseを指定するとスーパークラスをたどらない\n",
    "* インスタンス変数の調査\n",
    "    * instance_valuesメソッド\n",
    "* 参考\n",
    "    * insance_valuesメソッドはKernelモジュールのインスタンスメソッド\n",
    "    * instance_methodsメソッドはクラスメソッド？"
   ]
  },
  {
   "cell_type": "code",
   "execution_count": 33,
   "metadata": {
    "collapsed": false
   },
   "outputs": [
    {
     "name": "stdout",
     "output_type": "stream",
     "text": [
      "[:method1]\n",
      "[:method2]\n",
      "[:@a]\n",
      "[:@b, :@a]\n",
      "引数にfalseを指定しない場合は継承元クラスのインスタンスメソッドが全て表示される\n",
      "[:method2, :method1, :pry, :__binding__, :pretty_print, :pretty_print_cycle, :pretty_print_instance_variables, :pretty_print_inspect, :to_json, :instance_of?, :public_send, :instance_variable_get, :instance_variable_set, :instance_variable_defined?, :remove_instance_variable, :private_methods, :kind_of?, :instance_variables, :tap, :define_singleton_method, :is_a?, :extend, :to_enum, :enum_for, :<=>, :pretty_inspect, :===, :=~, :!~, :eql?, :respond_to?, :freeze, :inspect, :display, :object_id, :send, :gem, :to_s, :method, :public_method, :singleton_method, :nil?, :hash, :class, :singleton_class, :clone, :dup, :itself, :taint, :tainted?, :untaint, :untrust, :trust, :untrusted?, :methods, :protected_methods, :frozen?, :public_methods, :singleton_methods, :!, :==, :!=, :__send__, :equal?, :instance_eval, :instance_exec, :__id__]\n",
      "BasicObjectのインスタンスメソッド\n",
      "[:!, :==, :!=, :__send__, :equal?, :instance_eval, :instance_exec, :__id__, :__binding__]\n",
      "Kernelモジュールのインスタンスメソッド(ここにinstance_variablesがある)\n",
      "[:instance_of?, :public_send, :instance_variable_get, :instance_variable_set, :instance_variable_defined?, :remove_instance_variable, :private_methods, :kind_of?, :instance_variables, :tap, :define_singleton_method, :is_a?, :extend, :to_enum, :enum_for, :<=>, :pretty_inspect, :===, :=~, :!~, :eql?, :respond_to?, :freeze, :inspect, :display, :object_id, :send, :gem, :to_s, :method, :public_method, :singleton_method, :nil?, :hash, :class, :singleton_class, :clone, :dup, :itself, :taint, :tainted?, :untaint, :untrust, :trust, :untrusted?, :methods, :protected_methods, :frozen?, :public_methods, :singleton_methods]\n",
      "Objectのインスタンスメソッド\n",
      "[:pry, :__binding__]\n",
      "instance_methodsはクラスメソッドなのでこれらの中には含まれていない？\n"
     ]
    }
   ],
   "source": [
    "class Foo\n",
    "  def initialize(a)\n",
    "    @a = a\n",
    "  end\n",
    "  \n",
    "  def method1\n",
    "    @a\n",
    "  end\n",
    "end\n",
    "\n",
    "class FooExt < Foo\n",
    "  def initialize(a,b)\n",
    "    @b = b\n",
    "    super a\n",
    "  end\n",
    "  \n",
    "  def method2(c)\n",
    "    @a + @b + c\n",
    "  end\n",
    "end\n",
    "\n",
    "### インスタンスメソッド\n",
    "puts Foo.instance_methods(false)\n",
    "puts FooExt.instance_methods(false)\n",
    "\n",
    "### インスタンス変数\n",
    "foo1 = Foo.new(1)\n",
    "fooExt1 = FooExt.new(1,2)\n",
    "puts foo1.instance_variables\n",
    "puts fooExt1.instance_variables\n",
    "\n",
    "puts \"引数にfalseを指定しない場合は継承元クラスのインスタンスメソッドが全て表示される\"\n",
    "puts FooExt.instance_methods\n",
    "\n",
    "puts \"BasicObjectのインスタンスメソッド\"\n",
    "puts BasicObject.instance_methods(false)\n",
    "\n",
    "puts \"Kernelモジュールのインスタンスメソッド(ここにinstance_variablesがある)\"\n",
    "puts Kernel.instance_methods(false)\n",
    "\n",
    "puts \"Objectのインスタンスメソッド\"\n",
    "puts Object.instance_methods(false)\n",
    "\n",
    "puts \"instance_methodsはクラスメソッドなのでこれらの中には含まれていない？\""
   ]
  }
 ],
 "metadata": {
  "kernelspec": {
   "display_name": "Ruby 2.3.1",
   "language": "ruby",
   "name": "ruby"
  },
  "language_info": {
   "file_extension": ".rb",
   "mimetype": "application/x-ruby",
   "name": "ruby",
   "version": "2.3.1"
  }
 },
 "nbformat": 4,
 "nbformat_minor": 2
}
