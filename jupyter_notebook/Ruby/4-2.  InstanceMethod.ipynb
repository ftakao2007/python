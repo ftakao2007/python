{
 "cells": [
  {
   "cell_type": "markdown",
   "metadata": {
    "deletable": true,
    "editable": true
   },
   "source": [
    "# インスタンスメソッド\n",
    "\n",
    "* 動作\n",
    "    * インスタンスは、クラスで定義されたインスタンスメソッドを呼び出すことができる\n",
    "    * 継承したクラスのインスタンスは、スーパークラスで定義されたインスタンスメソッドを呼び出すことができる"
   ]
  },
  {
   "cell_type": "markdown",
   "metadata": {},
   "source": [
    "## クラスオブジェクト\n",
    "\n",
    "* クラスレイヤとインスタンスレイヤ\n",
    "    * クラスレイヤ\n",
    "        * 例\n",
    "            * Fooクラス\n",
    "    * インスタンスレイヤ\n",
    "        * クラスからオブジェクトを生成(インスタンス化)するとインスタンスレイヤに降りてくるというイメージ\n",
    "        * 例\n",
    "            * Fooクラスのインスタンス(foo1, foo2など)\n",
    "                * それぞれのインスタンスのインスタンス変数(@aなど)\n",
    "            * Fooクラスのクラスオブジェクト\n",
    "\n",
    "* 要素\n",
    "    * インスタンスメソッド\n",
    "        * メモリ上では<font color=\"red\">クラスオブジェクトに保持</font>される\n",
    "    * インスタンス変数\n",
    "        * メモリ上では<font color=\"red\">インスタンスに保持</font>される\n",
    "            * インスタンスはクラスオブジェクトの中に存在する"
   ]
  },
  {
   "cell_type": "markdown",
   "metadata": {},
   "source": [
    "## 継承したクラスオブジェクト\n",
    "\n",
    "* Foo : 継承されるクラスオブジェクト\n",
    "    * 継承するクラスより一般的な性質を持つ(汎化)\n",
    "* FooExt : 継承したクラスオブジェクト\n",
    "    * 元のクラスより固有の性質を持つ(特化)\n",
    "\n",
    "* foo1\n",
    "    * Fooクラスで定義された性質を持つ\n",
    "* ext1\n",
    "    * Fooクラス及びFooExtクラスで定義された性質を持つ"
   ]
  },
  {
   "cell_type": "code",
   "execution_count": 4,
   "metadata": {
    "collapsed": false
   },
   "outputs": [
    {
     "name": "stdout",
     "output_type": "stream",
     "text": [
      "1\n",
      "2\n",
      "3\n",
      "12\n",
      "Foo\n"
     ]
    }
   ],
   "source": [
    "class Foo\n",
    "  def initialize(a)\n",
    "    @a = a\n",
    "  end\n",
    "  \n",
    "  def method1\n",
    "    @a\n",
    "  end\n",
    "end\n",
    "\n",
    "### FooExt <-(特化)--(汎化)-> Foo(継承元クラス)\n",
    "class FooExt < Foo\n",
    "  def initialize(a,b)\n",
    "    @b = b\n",
    "    super a\n",
    "  end\n",
    "  \n",
    "  def method2(c)\n",
    "    @a + @b + c\n",
    "  end\n",
    "end\n",
    "\n",
    "### Fooクラスのインスタンスを生成\n",
    "foo1 = Foo.new(1)\n",
    "foo2 = Foo.new(2)\n",
    "\n",
    "### 定義したインスタンスメソッドを実行\n",
    "puts foo1.method1\n",
    "puts foo2.method1\n",
    "\n",
    "### FooExtクラスのインスタンスを生成\n",
    "ext1 = FooExt.new(3, 4)\n",
    "\n",
    "### 定義したインスタンスメソッドを実行\n",
    "puts ext1.method1\n",
    "puts ext1.method2(5)  \n",
    "\n",
    "### スーパークラスの取得\n",
    "### FooExt -(superclass)-> Foo\n",
    "puts FooExt.superclass"
   ]
  },
  {
   "cell_type": "markdown",
   "metadata": {},
   "source": [
    "## メソッドの探索経路"
   ]
  }
 ],
 "metadata": {
  "kernelspec": {
   "display_name": "Ruby 2.3.3",
   "language": "ruby",
   "name": "ruby"
  },
  "language_info": {
   "file_extension": ".rb",
   "mimetype": "application/x-ruby",
   "name": "ruby",
   "version": "2.3.3"
  }
 },
 "nbformat": 4,
 "nbformat_minor": 2
}
