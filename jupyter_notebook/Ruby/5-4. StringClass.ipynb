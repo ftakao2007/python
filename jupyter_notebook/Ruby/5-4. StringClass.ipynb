{
 "cells": [
  {
   "cell_type": "code",
   "execution_count": 1,
   "metadata": {
    "collapsed": false
   },
   "outputs": [
    {
     "data": {
      "text/plain": [
       "true"
      ]
     },
     "execution_count": 1,
     "metadata": {},
     "output_type": "execute_result"
    }
   ],
   "source": [
    "### pry-docの読み込み\n",
    "require \"/root/git_jupyter_notebook/Ruby/vendor/bundle/ruby/2.3.0/gems/pry-doc-0.10.0/lib/pry-doc\""
   ]
  },
  {
   "cell_type": "markdown",
   "metadata": {},
   "source": [
    "# Stringクラス\n",
    "\n",
    "* Stringクラス\n",
    "    * 文字列はStringクラスのオブジェクト\n",
    "    * Ruby1.9より文字コード(エンコーディング情報)がStringオブジェクトに追加されている\n",
    "        * Stringオブジェクトのメソッドは1文字を単位として動作するようになった\n",
    "    * メソッド\n",
    "        * encoding\n",
    "            * エンコーディング情報の取得\n",
    "            * Stringクラスのインスタンスメソッド\n",
    "            * <font color=\"red\">戻り値はEncofingクラスのインスタンスになる</font>\n",
    "        * encode\n",
    "            * 引数で指定した文字コードに変換した新しいインスタンスを返す\n",
    "        * encode!\n",
    "            * オブジェクトのエンコーディングを変更する\n",
    "            * 破壊的メソッド\n",
    "        \n",
    "主なエンコーディング\n",
    "\n",
    "|Encoding|概要|\n",
    "|:---:|:---:|\n",
    "|Encoding::UTF_8 |UTF-8を表すエンコーディング |\n",
    "|Encoding::EUC_JP |EUC-JPを表すエンコーディング |\n",
    "|Encoding::ISO_2022_JP |JISを表すエンコーディング |\n",
    "|Encoding::Shif_JIS |Shift_JISを表すエンコーディング |\n",
    "|Encoding::Windows_31J |Windowsで用いられるShift_JISの亜種。CP932ともいわれる |\n",
    "|Encoding::ASCII |US-ASCIIを表すエンコーディング。Encoding::US_ASCIIでも参照できる |\n",
    "|Encoding::ASCII_8BIT |ASCII互換エンコーディング。バイト列として扱いたい時に利用 |"
   ]
  },
  {
   "cell_type": "markdown",
   "metadata": {},
   "source": [
    "## Stringクラスの継承チェーン"
   ]
  },
  {
   "cell_type": "code",
   "execution_count": 12,
   "metadata": {
    "collapsed": false
   },
   "outputs": [
    {
     "data": {
      "text/plain": [
       "[String, JSON::Ext::Generator::GeneratorMethods::String, Comparable, Object, PP::ObjectMixin, JSON::Ext::Generator::GeneratorMethods::Object, Kernel, BasicObject]"
      ]
     },
     "execution_count": 12,
     "metadata": {},
     "output_type": "execute_result"
    }
   ],
   "source": [
    "String.ancestors"
   ]
  },
  {
   "cell_type": "markdown",
   "metadata": {},
   "source": [
    "## encodingメソッドの挙動"
   ]
  },
  {
   "cell_type": "code",
   "execution_count": 13,
   "metadata": {
    "collapsed": false
   },
   "outputs": [
    {
     "name": "stdout",
     "output_type": "stream",
     "text": [
      "abc\n",
      "#<Encoding:UTF-8>\n",
      "文字列はStringクラス、encodingメソッドの戻り値はEncodingクラス\n",
      "String\n",
      "Encoding\n"
     ]
    }
   ],
   "source": [
    "a = \"abc\"\n",
    "puts a\n",
    "p a.encoding\n",
    "puts \"文字列はStringクラス、encodingメソッドの戻り値はEncodingクラス\"\n",
    "puts a.class\n",
    "puts a.encoding.class"
   ]
  },
  {
   "cell_type": "code",
   "execution_count": 10,
   "metadata": {
    "collapsed": false
   },
   "outputs": [
    {
     "name": "stdout",
     "output_type": "stream",
     "text": [
      "\n",
      "\u001b[1mFrom:\u001b[0m encoding.c (C Method):\n",
      "\u001b[1mOwner:\u001b[0m String\n",
      "\u001b[1mVisibility:\u001b[0m public\n",
      "\u001b[1mSignature:\u001b[0m encoding()\n",
      "\u001b[1mNumber of lines:\u001b[0m 1\n",
      "\n",
      "Returns the Encoding object that represents the encoding of obj.\n"
     ]
    }
   ],
   "source": [
    "show-doc String#encoding"
   ]
  },
  {
   "cell_type": "markdown",
   "metadata": {},
   "source": [
    "## encodeとencode!メソッド"
   ]
  },
  {
   "cell_type": "code",
   "execution_count": 19,
   "metadata": {
    "collapsed": false
   },
   "outputs": [
    {
     "name": "stdout",
     "output_type": "stream",
     "text": [
      "encodeメソッドは元のインスタンスは変更なし\n",
      "EUC-JP\n",
      "UTF-8\n",
      "\n",
      "encode!メソッドは元のインスタンスの文字コードを変更する\n",
      "EUC-JP\n",
      "EUC-JP\n"
     ]
    }
   ],
   "source": [
    "a = \"abc\"\n",
    "\n",
    "puts \"encodeメソッドは元のインスタンスは変更なし\"\n",
    "puts a.encode(\"EUC-JP\").encoding\n",
    "puts a.encoding\n",
    "puts \"\"\n",
    "\n",
    "puts \"encode!メソッドは元のインスタンスの文字コードを変更する\"\n",
    "puts a.encode!(\"EUC-JP\").encoding\n",
    "puts a.encoding"
   ]
  },
  {
   "cell_type": "markdown",
   "metadata": {},
   "source": [
    "## Encodingクラス\n",
    "\n",
    "* エンコーディング情報を扱うクラス\n",
    "* メソッド\n",
    "    * default_external\n",
    "        * 規定の外部エンコーディングを取得\n",
    "            * Linuxであればlocaleの設定\n",
    "                * dockerの公式Ubuntuイメージを使うとUS-ASCII\n",
    "                * 日本語でUTF-8が設定されている環境であればUTF-8"
   ]
  },
  {
   "cell_type": "code",
   "execution_count": 22,
   "metadata": {
    "collapsed": false
   },
   "outputs": [
    {
     "name": "stdout",
     "output_type": "stream",
     "text": [
      "[Encoding, Object, PP::ObjectMixin, JSON::Ext::Generator::GeneratorMethods::Object, Kernel, BasicObject]\n",
      "\n",
      "docker公式Ubuntuの環境そのまま\n",
      "#<Encoding:US-ASCII>\n"
     ]
    },
    {
     "data": {
      "text/plain": [
       "#<Encoding:US-ASCII>"
      ]
     },
     "execution_count": 22,
     "metadata": {},
     "output_type": "execute_result"
    }
   ],
   "source": [
    "puts Encoding.ancestors\n",
    "puts \"\"\n",
    "\n",
    "puts \"docker公式Ubuntuの環境そのまま\"\n",
    "p Encoding.default_external"
   ]
  },
  {
   "cell_type": "markdown",
   "metadata": {},
   "source": [
    "### Encodingの互換性\n",
    "\n",
    "* compatible?\n",
    "    * 異なるエンコーディング間の互換性を調べる"
   ]
  },
  {
   "cell_type": "code",
   "execution_count": 23,
   "metadata": {
    "collapsed": false
   },
   "outputs": [
    {
     "name": "stdout",
     "output_type": "stream",
     "text": [
      "#<Encoding:UTF-8>\n",
      "互換性が無い場合はnilを返す\n",
      "nil\n"
     ]
    }
   ],
   "source": [
    "p Encoding.compatible?(Encoding::UTF_8, Encoding::US_ASCII)\n",
    "puts \"互換性が無い場合はnilを返す\"\n",
    "p Encoding.compatible?(Encoding::UTF_8, Encoding::Shift_JIS)"
   ]
  },
  {
   "cell_type": "code",
   "execution_count": 24,
   "metadata": {
    "collapsed": false
   },
   "outputs": [
    {
     "name": "stdout",
     "output_type": "stream",
     "text": [
      "互換性のあるエンコーディングは結合できる\n",
      "US-ASCII\n",
      "UTF-8\n",
      "abcあいう\n",
      "\n",
      "互換性のないエンコーディングでも片方がASCII文字しか含まない場合は結合できる\n",
      "EUC-JP\n",
      "UTF-8\n",
      "abcあいう\n",
      "\n",
      "両方ともASCII文字以外かつ互換性のないエンコーディングは結合できない\n",
      "EUC-JP\n",
      "UTF-8\n"
     ]
    },
    {
     "ename": "Encoding::CompatibilityError",
     "evalue": "incompatible character encodings: EUC-JP and UTF-8",
     "output_type": "error",
     "traceback": [
      "\u001b[31mEncoding::CompatibilityError\u001b[0m: incompatible character encodings: EUC-JP and UTF-8",
      "\u001b[37m(pry):104:in `<main>'\u001b[0m",
      "\u001b[37m/root/jupyter/vendor/bundle/ruby/2.3.0/gems/pry-0.10.4/lib/pry/pry_instance.rb:355:in `eval'\u001b[0m",
      "\u001b[37m/root/jupyter/vendor/bundle/ruby/2.3.0/gems/pry-0.10.4/lib/pry/pry_instance.rb:355:in `evaluate_ruby'\u001b[0m",
      "\u001b[37m/root/jupyter/vendor/bundle/ruby/2.3.0/gems/pry-0.10.4/lib/pry/pry_instance.rb:323:in `handle_line'\u001b[0m",
      "\u001b[37m/root/jupyter/vendor/bundle/ruby/2.3.0/gems/pry-0.10.4/lib/pry/pry_instance.rb:243:in `block (2 levels) in eval'\u001b[0m",
      "\u001b[37m/root/jupyter/vendor/bundle/ruby/2.3.0/gems/pry-0.10.4/lib/pry/pry_instance.rb:242:in `catch'\u001b[0m",
      "\u001b[37m/root/jupyter/vendor/bundle/ruby/2.3.0/gems/pry-0.10.4/lib/pry/pry_instance.rb:242:in `block in eval'\u001b[0m",
      "\u001b[37m/root/jupyter/vendor/bundle/ruby/2.3.0/gems/pry-0.10.4/lib/pry/pry_instance.rb:241:in `catch'\u001b[0m",
      "\u001b[37m/root/jupyter/vendor/bundle/ruby/2.3.0/gems/pry-0.10.4/lib/pry/pry_instance.rb:241:in `eval'\u001b[0m",
      "\u001b[37m/root/jupyter/vendor/bundle/ruby/2.3.0/gems/iruby-0.3/lib/iruby/backend.rb:66:in `eval'\u001b[0m",
      "\u001b[37m/root/jupyter/vendor/bundle/ruby/2.3.0/gems/iruby-0.3/lib/iruby/backend.rb:12:in `eval'\u001b[0m",
      "\u001b[37m/root/jupyter/vendor/bundle/ruby/2.3.0/gems/iruby-0.3/lib/iruby/kernel.rb:87:in `execute_request'\u001b[0m",
      "\u001b[37m/root/jupyter/vendor/bundle/ruby/2.3.0/gems/iruby-0.3/lib/iruby/kernel.rb:47:in `dispatch'\u001b[0m",
      "\u001b[37m/root/jupyter/vendor/bundle/ruby/2.3.0/gems/iruby-0.3/lib/iruby/kernel.rb:37:in `run'\u001b[0m",
      "\u001b[37m/root/jupyter/vendor/bundle/ruby/2.3.0/gems/iruby-0.3/lib/iruby/command.rb:70:in `run_kernel'\u001b[0m",
      "\u001b[37m/root/jupyter/vendor/bundle/ruby/2.3.0/gems/iruby-0.3/lib/iruby/command.rb:34:in `run'\u001b[0m",
      "\u001b[37m/root/jupyter/vendor/bundle/ruby/2.3.0/gems/iruby-0.3/bin/iruby:5:in `<top (required)>'\u001b[0m",
      "\u001b[37m/root/jupyter/vendor/bundle/ruby/2.3.0/bin/iruby:22:in `load'\u001b[0m",
      "\u001b[37m/root/jupyter/vendor/bundle/ruby/2.3.0/bin/iruby:22:in `<main>'\u001b[0m"
     ]
    }
   ],
   "source": [
    "puts \"互換性のあるエンコーディングは結合できる\"\n",
    "puts \"abc\".encode(\"ASCII\").encoding\n",
    "puts \"あいう\".encode(\"UTF-8\").encoding\n",
    "puts \"abc\".encode(\"ASCII\") + \"あいう\".encode(\"UTF-8\")\n",
    "puts \"\"\n",
    "\n",
    "puts \"互換性のないエンコーディングでも片方がASCII文字しか含まない場合は結合できる\"\n",
    "puts \"abc\".encode(\"EUC-JP\").encoding\n",
    "puts \"あいう\".encode(\"UTF-8\").encoding\n",
    "puts \"abc\".encode(\"EUC-JP\") + \"あいう\".encode(\"UTF-8\")\n",
    "puts \"\"\n",
    "\n",
    "puts \"両方ともASCII文字以外かつ互換性のないエンコーディングは結合できない\"\n",
    "puts \"あいう\".encode(\"EUC-JP\").encoding\n",
    "puts \"えお\".encode(\"UTF-8\").encoding\n",
    "puts \"あいう\".encode(\"EUC-JP\") + \"えお\".encode(\"UTF-8\")\n",
    "puts \"\""
   ]
  },
  {
   "cell_type": "markdown",
   "metadata": {},
   "source": [
    "## 文字列の比較\n",
    "\n",
    "* メソッド\n",
    "    * ==\n",
    "        * 大文字小文字も含めて同じであるかどうか\n",
    "            * ==のみ異なるクラスのオブジェクトと比較できるが、型の変換は行われないので必ずfalseになる\n",
    "            * エンコーディングが異なっていると同じ文字列でもfalseになる\n",
    "                * ただし、ASCII互換のエンコーディングでASCIIしか含まれていない場合は同じ文字列の場合trueになる\n",
    "    * >\n",
    "        * 文字列同士をアスキーコードで比較し、結果をtrue, falseで返す\n",
    "    * `>=`\n",
    "        * 文字列同士をアスキーコードで比較し、結果をtrue, falseで返す\n",
    "    * <\n",
    "        * 文字列同士をアスキーコードで比較し、結果をtrue, falseで返す\n",
    "    * `<=`\n",
    "        * 文字列同士をアスキーコードで比較し、結果をtrue, falseで返す\n",
    "    * <=>\n",
    "        * 大文字小文字を区別する\n",
    "            * 1  左が右よりも大きい\n",
    "            * 0  左右同じ\n",
    "            * -1 左が右よりもより小さい\n",
    "    * casecmp\n",
    "        * 大文字小文字を区別しない\n",
    "        * あとは<=>と同じ"
   ]
  },
  {
   "cell_type": "code",
   "execution_count": 53,
   "metadata": {
    "collapsed": false
   },
   "outputs": [
    {
     "name": "stdout",
     "output_type": "stream",
     "text": [
      "文字列が同じかどうかを比較\n",
      "true\n",
      "false\n",
      "\n",
      "アスキーコード a(97),b(98),c(99)\n",
      "97\n",
      "98\n",
      "99\n",
      "\n",
      "等号、不等号による比較\n",
      "true\n",
      "\n",
      "<=>による比較\n",
      "1\n",
      "0\n",
      "-1\n"
     ]
    }
   ],
   "source": [
    "puts \"文字列が同じかどうかを比較\"\n",
    "puts \"abc\" == \"abc\"\n",
    "puts \"Abc\" == \"abc\"\n",
    "puts \"\"\n",
    "puts \"アスキーコード a(97),b(98),c(99)\"\n",
    "puts \"a\".ord\n",
    "puts \"b\".ord\n",
    "puts \"c\".ord\n",
    "puts \"\"\n",
    "puts \"等号、不等号による比較\"\n",
    "puts \"a\" < \"b\"\n",
    "puts \"\"\n",
    "puts \"<=>による比較\"\n",
    "puts \"b\" <=> \"a\"\n",
    "puts \"b\" <=> \"b\"\n",
    "puts \"b\" <=> \"c\""
   ]
  },
  {
   "cell_type": "markdown",
   "metadata": {},
   "source": [
    "## 文字列の切り出し\n",
    "\n",
    "* メソッド\n",
    "    * []\n",
    "        * 文字列から指定された一部を切り出すメソッド\n",
    "        * 引数の個数や値に応じて返す結果が異なる\n",
    "    * slice\n",
    "        * 上と同じ\n",
    "    * slice!\n",
    "        * 返した文字を元の文字列から取り除く\n",
    "        * 破壊的メソッド\n",
    "    * split\n",
    "        * 文字列や正規表現を使って文字列を分割する\n",
    "* 範囲指定\n",
    "    * rangeオブジェクトを指定すると該当する範囲の文字列を返す\n",
    "    * 開始位置と長さで指定できる\n",
    "        * 開始位置が範囲外の時はnilを返す\n",
    "* 文字列で指定\n",
    "    * 元の文字列に含まれていればその部分を返す\n",
    "    * 含まれていなければnilを返す\n",
    "* 正規表現\n",
    "    * マッチした部分を返す"
   ]
  },
  {
   "cell_type": "code",
   "execution_count": 102,
   "metadata": {
    "collapsed": false
   },
   "outputs": [
    {
     "name": "stdout",
     "output_type": "stream",
     "text": [
      "[]メソッド\n",
      "a\n",
      "cdef\n",
      "cde\n",
      "cd\n",
      "g\n",
      "ef\n",
      "\n",
      "sliceメソッド\n",
      "a\n",
      "cdef\n",
      "cde\n",
      "cd\n",
      "g\n",
      "ef\n",
      "\n",
      "開始位置が範囲外\n",
      "g\n",
      "nil\n",
      "a\n",
      "nil\n",
      "\n",
      "文字列で指定\n",
      "cde\n",
      "nil\n",
      "\n",
      "正規表現で指定 /b.*e/\n",
      "bcde\n",
      "\n",
      "slice!メソッド(範囲指定)\n",
      "I have an apple.\n",
      "hav\n",
      "I e an apple.\n",
      "\n",
      "slice!メソッド(文字列)\n",
      "I have a pineapple.\n",
      "e\n",
      "I hav a pineapple.\n",
      "\n",
      "slice!メソッド(正規表現 /pin.*e\\sa/)\n",
      "pen pineapple apple pen.\n",
      "pineapple a\n",
      "pen pple pen.\n",
      "\n",
      "splitメソッド\n",
      "[\"ab_c\", \"_ef_gh\"]\n",
      "[\"ab_c\", \"_ef_gh\"]\n",
      "\n",
      "第二引数が無ければセパレータですべて分割する\n",
      "[\"ab\", \"cd\", \"ef\", \"gh\"]\n",
      "\n",
      "第二引数で指定した数の要素数になるように先頭からセパレータで分割する\n",
      "[\"ab_cd_ef_gh\"]\n",
      "[\"ab\", \"cd_ef_gh\"]\n",
      "[\"ab\", \"cd\", \"ef_gh\"]\n"
     ]
    }
   ],
   "source": [
    "puts \"[]メソッド\"\n",
    "puts \"abcdefg\"[0]\n",
    "puts \"abcdefg\"[2,4]\n",
    "puts \"abcdefg\"[2..4]\n",
    "puts \"abcdefg\"[2...4]\n",
    "puts \"abcdefg\"[-1]\n",
    "puts \"abcdefg\"[-3,2]\n",
    "puts \"\"\n",
    "\n",
    "puts \"sliceメソッド\"\n",
    "puts \"abcdefg\".slice(0)\n",
    "puts \"abcdefg\".slice(2,4)\n",
    "puts \"abcdefg\".slice(2..4)\n",
    "puts \"abcdefg\".slice(2...4)\n",
    "puts \"abcdefg\".slice(-1)\n",
    "puts \"abcdefg\".slice(-3,2)\n",
    "puts \"\"\n",
    "\n",
    "puts \"開始位置が範囲外\"\n",
    "puts \"abcdefg\"[6]\n",
    "p \"abcdefg\"[7]\n",
    "puts \"abcdefg\"[-7]\n",
    "p \"abcdefg\"[-8]\n",
    "puts \"\"\n",
    "\n",
    "puts \"文字列で指定\"\n",
    "puts \"abcdefg\"[\"cde\"]\n",
    "p \"abcdefg\"[\"ba\"]\n",
    "puts \"\"\n",
    "\n",
    "puts '正規表現で指定 /b.*e/'\n",
    "puts \"abcdefg\"[/b.*e/]\n",
    "puts \"\"\n",
    "\n",
    "puts \"slice!メソッド(範囲指定)\"\n",
    "puts a = \"I have an apple.\"\n",
    "puts a.slice!(2..4)\n",
    "puts a\n",
    "puts \"\"\n",
    "\n",
    "puts \"slice!メソッド(文字列)\"\n",
    "puts b = \"I have a pineapple.\"\n",
    "puts b.slice!(\"e\")\n",
    "puts b\n",
    "puts \"\"\n",
    "\n",
    "puts 'slice!メソッド(正規表現 /pin.*e\\sa/)'\n",
    "puts c = \"pen pineapple apple pen.\"\n",
    "puts c.slice!(/pin.*e\\sa/)\n",
    "puts c\n",
    "puts \"\"\n",
    "\n",
    "puts \"splitメソッド\"\n",
    "puts \"ab_cd_ef_gh\".split('d')\n",
    "puts \"ab_cd_ef_gh\".split(/d/)\n",
    "puts \"\"\n",
    "\n",
    "puts \"第二引数が無ければセパレータですべて分割する\"\n",
    "puts \"ab_cd_ef_gh\".split('_')\n",
    "puts \"\"\n",
    "\n",
    "puts \"第二引数で指定した数の要素数になるように先頭からセパレータで分割する\"\n",
    "puts \"ab_cd_ef_gh\".split('_',1)\n",
    "puts \"ab_cd_ef_gh\".split('_',2)\n",
    "puts \"ab_cd_ef_gh\".split('_',3)"
   ]
  },
  {
   "cell_type": "markdown",
   "metadata": {},
   "source": [
    "## 文字列の変更\n",
    "\n",
    "* 文字列の一部分を変更\n",
    "* メソッド\n",
    "    * []=\n",
    "    * insert\n",
    "        * indexで指定した場所の<font color=\"red\">手前に</font>文字列を挿入する"
   ]
  },
  {
   "cell_type": "code",
   "execution_count": 116,
   "metadata": {
    "collapsed": false
   },
   "outputs": [
    {
     "name": "stdout",
     "output_type": "stream",
     "text": [
      "index1から3文字(bcd)を削除してxyを挿入\n",
      "abcdefg\n",
      "xy\n",
      "axyefg\n",
      "\n",
      "正規表現(/b.*f/)でマッチした部分を削除してxyを挿入\n",
      "abcdefg\n",
      "xy\n",
      "axyg\n",
      "\n",
      "insertメソッドでindex(3)(文字列d)の手前に文字列(xxx)を挿入する\n",
      "abcdefg\n",
      "abcxxxdefg\n",
      "\n"
     ]
    }
   ],
   "source": [
    "puts \"index1から3文字(bcd)を削除してxyを挿入\"\n",
    "puts a = \"abcdefg\"\n",
    "puts a[1..3] = 'xy'\n",
    "puts a\n",
    "puts \"\"\n",
    "\n",
    "puts \"正規表現(/b.*f/)でマッチした部分を削除してxyを挿入\"\n",
    "puts b = \"abcdefg\"\n",
    "puts b[/b.*f/] = 'xy'\n",
    "puts b\n",
    "puts \"\"\n",
    "\n",
    "puts \"insertメソッドでindex(3)(文字列d)の手前に文字列(xxx)を挿入する\"\n",
    "puts c = \"abcdefg\"\n",
    "puts c.insert(3, \"xxx\")\n",
    "puts \"\"\n",
    "\n"
   ]
  },
  {
   "cell_type": "markdown",
   "metadata": {},
   "source": [
    "## 文字列の置換"
   ]
  },
  {
   "cell_type": "markdown",
   "metadata": {},
   "source": [
    "### subメソッド, gsubメソッド"
   ]
  }
 ],
 "metadata": {
  "kernelspec": {
   "display_name": "Ruby 2.3.3",
   "language": "ruby",
   "name": "ruby"
  },
  "language_info": {
   "file_extension": ".rb",
   "mimetype": "application/x-ruby",
   "name": "ruby",
   "version": "2.3.3"
  }
 },
 "nbformat": 4,
 "nbformat_minor": 2
}
