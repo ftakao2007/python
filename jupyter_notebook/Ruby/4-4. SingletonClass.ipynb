{
 "cells": [
  {
   "cell_type": "markdown",
   "metadata": {},
   "source": [
    "# 特異クラス\n",
    "\n",
    "* 特異クラス\n",
    "    * 指定したインスタンスだけに適用される特別なクラス\n",
    "        * 無名クラス(モジュールがインクルードされたときにそのメソッドが属するクラス)と同様にインタプリタ内部で使用するクラス\n",
    "            * ユーザに意識させたくないクラス\n",
    "        * 無名クラスと混同しないように気を付ける\n",
    "    * Silver試験の出題範囲外"
   ]
  },
  {
   "cell_type": "markdown",
   "metadata": {},
   "source": [
    "## 特異クラスの性質\n",
    "\n",
    "* 特定のインスタンスに特別な性質を持たせたい\n",
    "    * 継承したクラスを書いて新たにインスタンス化するほどではない\n",
    "    * いちいちサブクラスを定義するのは面倒くさい\n",
    "        * このときは特異メソッドを使う\n",
    "* 特異メソッド\n",
    "    * インスタンスに直接定義したメソッド"
   ]
  },
  {
   "cell_type": "code",
   "execution_count": 13,
   "metadata": {
    "collapsed": false
   },
   "outputs": [
    {
     "name": "stdout",
     "output_type": "stream",
     "text": [
      "2\n",
      "foo1のクラスはFooのまま\n",
      "Foo\n",
      "foo2にmethodAは存在しない\n"
     ]
    },
    {
     "ename": "NoMethodError",
     "evalue": "undefined method `methodA' for #<Foo:0x007f083f08df88>",
     "output_type": "error",
     "traceback": [
      "\u001b[31mNoMethodError\u001b[0m: undefined method `methodA' for #<Foo:0x007f083f08df88>",
      "\u001b[37m(pry):139:in `<main>'\u001b[0m",
      "\u001b[37m/root/jupyter/vendor/bundle/ruby/2.3.0/gems/pry-0.10.4/lib/pry/pry_instance.rb:355:in `eval'\u001b[0m",
      "\u001b[37m/root/jupyter/vendor/bundle/ruby/2.3.0/gems/pry-0.10.4/lib/pry/pry_instance.rb:355:in `evaluate_ruby'\u001b[0m",
      "\u001b[37m/root/jupyter/vendor/bundle/ruby/2.3.0/gems/pry-0.10.4/lib/pry/pry_instance.rb:323:in `handle_line'\u001b[0m",
      "\u001b[37m/root/jupyter/vendor/bundle/ruby/2.3.0/gems/pry-0.10.4/lib/pry/pry_instance.rb:243:in `block (2 levels) in eval'\u001b[0m",
      "\u001b[37m/root/jupyter/vendor/bundle/ruby/2.3.0/gems/pry-0.10.4/lib/pry/pry_instance.rb:242:in `catch'\u001b[0m",
      "\u001b[37m/root/jupyter/vendor/bundle/ruby/2.3.0/gems/pry-0.10.4/lib/pry/pry_instance.rb:242:in `block in eval'\u001b[0m",
      "\u001b[37m/root/jupyter/vendor/bundle/ruby/2.3.0/gems/pry-0.10.4/lib/pry/pry_instance.rb:241:in `catch'\u001b[0m",
      "\u001b[37m/root/jupyter/vendor/bundle/ruby/2.3.0/gems/pry-0.10.4/lib/pry/pry_instance.rb:241:in `eval'\u001b[0m",
      "\u001b[37m/root/jupyter/vendor/bundle/ruby/2.3.0/gems/iruby-0.3/lib/iruby/backend.rb:66:in `eval'\u001b[0m",
      "\u001b[37m/root/jupyter/vendor/bundle/ruby/2.3.0/gems/iruby-0.3/lib/iruby/backend.rb:12:in `eval'\u001b[0m",
      "\u001b[37m/root/jupyter/vendor/bundle/ruby/2.3.0/gems/iruby-0.3/lib/iruby/kernel.rb:87:in `execute_request'\u001b[0m",
      "\u001b[37m/root/jupyter/vendor/bundle/ruby/2.3.0/gems/iruby-0.3/lib/iruby/kernel.rb:47:in `dispatch'\u001b[0m",
      "\u001b[37m/root/jupyter/vendor/bundle/ruby/2.3.0/gems/iruby-0.3/lib/iruby/kernel.rb:37:in `run'\u001b[0m",
      "\u001b[37m/root/jupyter/vendor/bundle/ruby/2.3.0/gems/iruby-0.3/lib/iruby/command.rb:70:in `run_kernel'\u001b[0m",
      "\u001b[37m/root/jupyter/vendor/bundle/ruby/2.3.0/gems/iruby-0.3/lib/iruby/command.rb:34:in `run'\u001b[0m",
      "\u001b[37m/root/jupyter/vendor/bundle/ruby/2.3.0/gems/iruby-0.3/bin/iruby:5:in `<top (required)>'\u001b[0m",
      "\u001b[37m/root/jupyter/vendor/bundle/ruby/2.3.0/bin/iruby:22:in `load'\u001b[0m",
      "\u001b[37m/root/jupyter/vendor/bundle/ruby/2.3.0/bin/iruby:22:in `<main>'\u001b[0m"
     ]
    }
   ],
   "source": [
    "class Foo\n",
    "end\n",
    "foo1 = Foo.new\n",
    "foo2 = Foo.new\n",
    "\n",
    "### インスタンスに直接メソッドを定義 (特異メソッドの定義)\n",
    "def foo1.methodA\n",
    "  1 + 1\n",
    "end\n",
    "puts foo1.methodA\n",
    "puts \"foo1のクラスはFooのまま\"\n",
    "puts foo1.class\n",
    "\n",
    "puts \"foo2にmethodAは存在しない\"\n",
    "puts foo2.methodA\n"
   ]
  },
  {
   "cell_type": "markdown",
   "metadata": {},
   "source": [
    "* 仕組み\n",
    "    1. 特異メソッドを定義する\n",
    "    1. Rubyインタプリタは特異クラスと呼ばれるクラスを作成した継承チェーンに組み込む\n",
    "        * foo1の特異クラスは「#foo1」と表現する\n",
    "        * 特異クラス#foo1のsuperclassはFooクラス (#foo < Foo のようなイメージ)\n",
    "        * foo1のクラスメソッドはFooクラスを指しているまま"
   ]
  },
  {
   "cell_type": "markdown",
   "metadata": {},
   "source": [
    "## 特異クラスの参照\n",
    "\n",
    "* 特異クラスは通常ユーザに意識させたくないものであるが、参照は可能\n",
    "\n",
    "特異クラスの再オープン式\n",
    "``` ruby\n",
    "class << (対象オブジェクト)\n",
    "end\n",
    "```"
   ]
  },
  {
   "cell_type": "code",
   "execution_count": 25,
   "metadata": {
    "collapsed": false
   },
   "outputs": [
    {
     "name": "stdout",
     "output_type": "stream",
     "text": [
      "#<Class:#<Foo:0x007f083f15a088>>\n",
      "Foo\n"
     ]
    }
   ],
   "source": [
    "class Foo\n",
    "end\n",
    "foo1 = Foo.new\n",
    "\n",
    "SingletonClassA = class << foo1\n",
    "  self\n",
    "end\n",
    "\n",
    "puts SingletonClassA\n",
    "puts SingletonClassA.superclass"
   ]
  },
  {
   "cell_type": "markdown",
   "metadata": {},
   "source": [
    "## 特異クラスの再オープンとメソッドの定義\n",
    "\n",
    "` def <オブジェクト名>.<新たに定義するメソッド名> ... end ` でなくても特異クラスの再オープン式でメソッドを定義できる"
   ]
  },
  {
   "cell_type": "code",
   "execution_count": 28,
   "metadata": {
    "collapsed": false
   },
   "outputs": [
    {
     "name": "stdout",
     "output_type": "stream",
     "text": [
      "2\n",
      "4\n"
     ]
    }
   ],
   "source": [
    "class Foo\n",
    "end\n",
    "foo1 = Foo.new\n",
    "foo2 = Foo.new\n",
    "\n",
    "### defを使った特異メソッドの定義\n",
    "def foo1.methodA\n",
    "  1 + 1\n",
    "end\n",
    "\n",
    "### 特異クラスの再オープンと特異メソッド定義\n",
    "class << foo2\n",
    "  def methodB\n",
    "    2 + 2\n",
    "  end\n",
    "end\n",
    "\n",
    "puts foo1.methodA\n",
    "puts foo2.methodB"
   ]
  },
  {
   "cell_type": "markdown",
   "metadata": {},
   "source": [
    "## selfとメソッドの定義先\n",
    "\n",
    "* self\n",
    "    * 自分自身を示す特別なオブジェクト\n",
    "    * どこで使われるかによって示すオブジェクトが異なる\n",
    "        * クラス内部\n",
    "            * そのクラスを保持\n",
    "        * メソッド内部\n",
    "            * そのメソッドを実行するオブジェクトを保持\n",
    "* レシーバ\n",
    "    * メソッドが実行されるオブジェクトのこと\n",
    "    * 「メソッドの受け手」という意味"
   ]
  },
  {
   "cell_type": "code",
   "execution_count": 47,
   "metadata": {
    "collapsed": false
   },
   "outputs": [
    {
     "name": "stdout",
     "output_type": "stream",
     "text": [
      "クラス内部で呼び出したself\n",
      "#<C1:0x007f083e836588>\n",
      "クラスの中のインスタンスメソッド内部で呼び出したself(レシーバ)\n",
      "#<C1:0x007f083e836588>\n",
      "クラスのオブジェクトとレシーバは同じオブジェクト(そのクラスを参照している)\n",
      "true\n"
     ]
    }
   ],
   "source": [
    "class C1\n",
    "  self\n",
    "  def methodD\n",
    "    self\n",
    "  end\n",
    "end\n",
    "\n",
    "c1 = C1.new\n",
    "puts \"クラス内部で呼び出したself\"\n",
    "puts c1\n",
    "puts \"クラスの中のインスタンスメソッド内部で呼び出したself(レシーバ)\"\n",
    "puts c1.methodD\n",
    "puts \"クラスのオブジェクトとレシーバは同じオブジェクト(そのクラスを参照している)\"\n",
    "puts c1 == c1.methodD"
   ]
  },
  {
   "cell_type": "markdown",
   "metadata": {},
   "source": [
    "## メソッドのネスト\n",
    "\n",
    "* メソッドは定義したクラスに所属する\n",
    "* メソッドがネストした場合、内側のメソッドは外側のメソッドが定義されたクラスに定義される\n",
    "    * ただし、<font color=\"red\">外側のメソッドが実行されるまでは定義されない</font>\n"
   ]
  },
  {
   "cell_type": "code",
   "execution_count": 46,
   "metadata": {
    "collapsed": false
   },
   "outputs": [
    {
     "name": "stdout",
     "output_type": "stream",
     "text": [
      "まだmethodFは定義されていない\n",
      "[:methodE]\n",
      "methodEが実行されたためmethodFが定義された\n",
      "[:methodE, :methodF]\n"
     ]
    }
   ],
   "source": [
    "class C3\n",
    "  def methodE\n",
    "    def methodF\n",
    "    end\n",
    "  end\n",
    "end\n",
    "\n",
    "puts \"まだmethodFは定義されていない\"\n",
    "puts C3.instance_methods(false)\n",
    "C3.new.methodE\n",
    "puts \"methodEが実行されたためmethodFが定義された\"\n",
    "puts C3.instance_methods(false)\n"
   ]
  },
  {
   "cell_type": "markdown",
   "metadata": {},
   "source": [
    "## 特異クラスに対するMix-in\n",
    "\n",
    "* include\n",
    "    * クラスにモジュールをincludeする\n",
    "* extend\n",
    "    * 特異クラスへのMix-inで良く使用する\n",
    "    * includeよりシンプルに書ける\n",
    "* prepend\n",
    "    * includeと同様にモジュールのメソッドをクラスに取り込むためのメソッド\n",
    "    * クラスよりも先にモジュールのメソッド探索を行う\n",
    "\n"
   ]
  },
  {
   "cell_type": "code",
   "execution_count": 67,
   "metadata": {
    "collapsed": false
   },
   "outputs": [
    {
     "name": "stdout",
     "output_type": "stream",
     "text": [
      "7\n",
      "7\n"
     ]
    }
   ],
   "source": [
    "module Bar\n",
    "  def methodA\n",
    "    3+4\n",
    "  end\n",
    "end\n",
    "\n",
    "class Foo\n",
    "end\n",
    "\n",
    "foo1 = Foo.new\n",
    "foo2 = Foo.new\n",
    "\n",
    "### includeを使ったMix-in\n",
    "class << foo1\n",
    "  include Bar\n",
    "end\n",
    "puts foo1.methodA\n",
    "\n",
    "### extendメソッドを使ったMix-in\n",
    "### foo2インスタンスでモジュールBarのメソッドmethodAを実行\n",
    "puts foo2.extend(Bar).methodA"
   ]
  }
 ],
 "metadata": {
  "kernelspec": {
   "display_name": "Ruby 2.3.3",
   "language": "ruby",
   "name": "ruby"
  },
  "language_info": {
   "file_extension": ".rb",
   "mimetype": "application/x-ruby",
   "name": "ruby",
   "version": "2.3.3"
  }
 },
 "nbformat": 4,
 "nbformat_minor": 2
}
