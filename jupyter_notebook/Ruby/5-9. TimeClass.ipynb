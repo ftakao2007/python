{
 "cells": [
  {
   "cell_type": "code",
   "execution_count": 1,
   "metadata": {
    "collapsed": false,
    "deletable": true,
    "editable": true
   },
   "outputs": [
    {
     "data": {
      "text/plain": [
       "true"
      ]
     },
     "execution_count": 1,
     "metadata": {},
     "output_type": "execute_result"
    }
   ],
   "source": [
    "### pry-docの読み込み\n",
    "require \"/root/git_jupyter_notebook/Ruby/vendor/bundle/ruby/2.3.0/gems/pry-doc-0.10.0/lib/pry-doc\"\n",
    "#require \"/Users/ftakao2007/jupyter/vendor/bundle/ruby/2.3.0/gems/pry-doc-0.10.0/lib/pry-doc\""
   ]
  },
  {
   "cell_type": "markdown",
   "metadata": {
    "deletable": true,
    "editable": true
   },
   "source": [
    "# Timeクラス\n",
    "\n",
    "* Timeクラス\n",
    "    * 時刻を表すクラス\n",
    "        * 世界標準時(UTCまたはGMT)の1970年1月1日午前0時からの経過秒数で保持\n",
    "        * タイムゾーンとしてUTCか地方時刻を設定することができる\n",
    "            * 内部的には環境にある時刻システムを利用している\n",
    "                * <font color=\"red\">環境に応じて取れる時刻の範囲が異なる</font>\n",
    "                * 負の時刻が許される環境や32bit,64bitによりエラーになる場合とならない場合がある"
   ]
  },
  {
   "cell_type": "markdown",
   "metadata": {
    "deletable": true,
    "editable": true
   },
   "source": [
    "* メソッド\n",
    "    * Time.new\n",
    "        * 現在時刻のTimeオブジェクトを生成して返す\n",
    "        * タイムゾーンはローカルタイム\n",
    "            * 日本は0900と表記される\n",
    "    * Time.now\n",
    "        * Time.newと同じ\n",
    "    * Time.at\n",
    "        * 引数で指定した起算時からの秒数に対するTimeオブジェクトを生成して返す\n",
    "    * Time.mktime\n",
    "        * 与えられた引数に対応するTimeオブジェクトを生成する\n",
    "        * <font color=\"red\">引数の数に応じて引数の意味が変わる</font>\n",
    "            * 引数が7個まで ()はデフォルト\n",
    "                * 先頭から「年(省略不可)」「月(1)」「日(1)」「時(0)」「分(0)」「秒(0)」「マイクロ秒(0)」\n",
    "                * 月\n",
    "                    * 「Jan」「Feb」など英語の月名の省略形で記述可能\n",
    "                * 年\n",
    "                    * 0から38までは2000が加算される\n",
    "                    * 69以上138以下は1900が加算される\n",
    "                        * されてる？\n",
    "            * 引数が10個\n",
    "                * 「秒」「分」「時」「日」「月」「年」「曜日に対応する数値」「年日」「夏時間かどうかの真理値」「タイムゾーン」\n",
    "                * 「曜日に対応する数値」「年日」「夏時間かどうかの真理値」「タイムゾーン」は無視される\n",
    "                * この順序は、Timeオブジェクトのto_aメソッドの結果と同じ順序\n",
    "    * Time.local\n",
    "        * Time.mktimeと同じ\n",
    "    * Time.gm"
   ]
  },
  {
   "cell_type": "code",
   "execution_count": 36,
   "metadata": {
    "collapsed": false,
    "deletable": true,
    "editable": true
   },
   "outputs": [
    {
     "name": "stdout",
     "output_type": "stream",
     "text": [
      "2017-05-29 01:17:19 +0900\n",
      "2017-05-29 01:17:19 +0900\n",
      "\n",
      "もとにしている時刻から10秒経過した時刻\n",
      "1970-01-01 09:00:10 +0900\n",
      "さらにマイクロ秒で2秒後を指定\n",
      "1970-01-01 09:00:12 +0900\n",
      "\n",
      "Time.atと違いマイクロ秒の指定で秒数までの桁を指定すると「ArgumentError: argument out of range」になる\n",
      "ArgumentErrorが発生しました。 argument out of range\n",
      "エラーが発生しないマイクロ秒数の指定\n",
      "2017-02-03 13:35:30 +0900\n",
      "\n",
      "引数10個指定。年日(引数の7個目)以降は無視される?\n",
      "2015-07-03 09:34:12 +0900\n",
      "2015-07-03 09:34:12 +0900\n"
     ]
    }
   ],
   "source": [
    "puts Time.new\n",
    "puts Time.now\n",
    "puts\n",
    "\n",
    "puts \"もとにしている時刻から10秒経過した時刻\"\n",
    "puts Time.at(10)\n",
    "puts \"さらにマイクロ秒で2秒後を指定\"\n",
    "puts Time.at(10, 2000000)\n",
    "puts\n",
    "\n",
    "puts \"Time.atと違いマイクロ秒の指定で秒数までの桁を指定すると「ArgumentError: argument out of range」になる\"\n",
    "begin\n",
    "  puts Time.mktime(2017,2,3,13,35,30,4000000)\n",
    "rescue ArgumentError => ex\n",
    "  puts \"ArgumentErrorが発生しました。 #{ex}\"\n",
    "ensure\n",
    "  puts \"エラーが発生しないマイクロ秒数の指定\"\n",
    "  puts Time.mktime(2017,2,3,13,35,30,4000)  \n",
    "end\n",
    "puts \n",
    "\n",
    "puts \"引数10個指定。年日(引数の7個目)以降は無視される?\"\n",
    "puts Time.mktime(12,34,9,3,7,2015,4,188,false,\"UTC\")\n",
    "puts Time.mktime(12,34,9,3,7,2015,4,188,false,\"JST\")\n"
   ]
  },
  {
   "cell_type": "markdown",
   "metadata": {},
   "source": [
    "## Timeオブジェクトの属性を取得する\n",
    "\n",
    "* メソッド\n",
    "    * year\n",
    "        * 年を取得する\n",
    "    * mon, month\n",
    "        * 月を取得する\n",
    "    * day, mday\n",
    "        * 日を取得する\n",
    "    * hour\n",
    "        * 時を取得する\n",
    "    * min\n",
    "        * 分を取得する\n",
    "    * sec\n",
    "        * 秒を取得する\n",
    "    * usec, tv_usec\n",
    "        * マイクロ秒を取得する\n",
    "    * wday\n",
    "    * yday\n",
    "    * zone\n",
    "    * isdat, dst?\n",
    "    * gmt?, utc?\n",
    "    * gmt_offset, gmtoff"
   ]
  }
 ],
 "metadata": {
  "kernelspec": {
   "display_name": "Ruby 2.3.3",
   "language": "ruby",
   "name": "ruby"
  },
  "language_info": {
   "file_extension": ".rb",
   "mimetype": "application/x-ruby",
   "name": "ruby",
   "version": "2.3.3"
  }
 },
 "nbformat": 4,
 "nbformat_minor": 2
}
