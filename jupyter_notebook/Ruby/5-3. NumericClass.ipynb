{
 "cells": [
  {
   "cell_type": "markdown",
   "metadata": {},
   "source": [
    "# 数値型クラス\n",
    "\n",
    "* Numeric\n",
    "    * Integer (整数)\n",
    "        * Bignum (非常に大きな整数)\n",
    "        * Fixnum (通常の整数)\n",
    "    * Complex (複素数)\n",
    "    * Rational (有理数)\n",
    "    * Float (浮動小数点数)\n",
    "        * 計算の過程で誤差が発生する可能性がある\n",
    "        * シフト演算やビット演算は実装されていない"
   ]
  },
  {
   "cell_type": "code",
   "execution_count": 20,
   "metadata": {
    "collapsed": false
   },
   "outputs": [
    {
     "name": "stdout",
     "output_type": "stream",
     "text": [
      "Numeric\n",
      "Numeric\n",
      "Numeric\n",
      "Numeric\n",
      "Integer\n",
      "Numeric\n",
      "Integer\n",
      "Numeric\n",
      "[Numeric, Comparable, Object, PP::ObjectMixin, JSON::Ext::Generator::GeneratorMethods::Object, Kernel, BasicObject]\n"
     ]
    }
   ],
   "source": [
    "puts Rational.superclass\n",
    "puts Complex.superclass\n",
    "puts Float.superclass\n",
    "puts Integer.superclass\n",
    "puts Fixnum.superclass\n",
    "puts Fixnum.superclass.superclass\n",
    "puts Bignum.superclass\n",
    "puts Bignum.superclass.superclass\n",
    "puts Numeric.ancestors"
   ]
  },
  {
   "cell_type": "markdown",
   "metadata": {},
   "source": [
    "# Numericクラス\n",
    "\n",
    "## 小数点以下の切り捨て、切り上げ\n",
    "\n",
    "* ceil\n",
    "    * 自身と同じか自身より大きな整数を返す\n",
    "* floor\n",
    "    * 自身と同じか自身より小さな整数を返す\n",
    "* round\n",
    "    * 最も近い整数を返す (四捨五入)\n",
    "* truncate\n",
    "    * それ自身と0の間にある整数で最も近いものを返す"
   ]
  },
  {
   "cell_type": "code",
   "execution_count": 39,
   "metadata": {
    "collapsed": false
   },
   "outputs": [
    {
     "name": "stdout",
     "output_type": "stream",
     "text": [
      "ceil\n",
      "1\n",
      "1\n",
      "2\n",
      "floor\n",
      "0\n",
      "1\n",
      "1\n",
      "round\n",
      "1\n",
      "2\n",
      "2\n",
      "truncate\n",
      "-1\n",
      "0\n",
      "0\n",
      "1\n"
     ]
    }
   ],
   "source": [
    "puts \"ceil\"\n",
    "puts 0.9.ceil\n",
    "puts 1.0.ceil\n",
    "puts 1.1.ceil\n",
    "\n",
    "puts \"floor\"\n",
    "puts 0.9.floor\n",
    "puts 1.0.floor\n",
    "puts 1.1.floor\n",
    "\n",
    "puts \"round\"\n",
    "puts 1.4.round\n",
    "puts 1.5.round\n",
    "puts 1.6.round\n",
    "\n",
    "puts \"truncate\"\n",
    "puts -1.1.truncate\n",
    "puts -0.7.truncate\n",
    "puts 0.3.truncate\n",
    "puts 1.7.truncate"
   ]
  }
 ],
 "metadata": {
  "kernelspec": {
   "display_name": "Ruby 2.3.1",
   "language": "ruby",
   "name": "ruby"
  },
  "language_info": {
   "file_extension": ".rb",
   "mimetype": "application/x-ruby",
   "name": "ruby",
   "version": "2.3.1"
  }
 },
 "nbformat": 4,
 "nbformat_minor": 2
}
