{
 "cells": [
  {
   "cell_type": "markdown",
   "metadata": {
    "deletable": true,
    "editable": true
   },
   "source": [
    "# [Java初心者入門講座](http://sunjava.seesaa.net/)\n",
    "\n",
    "## Javaプログラム\n",
    "* Javaアプレット\n",
    "    * ウェブブラウザ上で実行できるJavaプログラム\n",
    "* Javaアプリケーション\n",
    "    * ローカルのコンピュータ上で実行できるJavaプログラム\n",
    "* Javaサーブレット、JSP(JavaServer Pages)\n",
    "    * サーバーサイドのコンピュータで実行できるJavaプログラム\n",
    "    * Webページを動的に作ることができ\n",
    "* デジタル家電、携帯電話\n",
    "    * 組み込み系や携帯機器などで動くJavaプログラム"
   ]
  },
  {
   "cell_type": "markdown",
   "metadata": {
    "deletable": true,
    "editable": true
   },
   "source": [
    "## Java開発(実行)環境\n",
    "\n",
    "* JDK（Java Development Kit）\n",
    "    * 文字ベースの開発・実行環境\n",
    "    * 別名\n",
    "        * SDK(Software Development Kiy)ということもある\n",
    "            * Javaに限らず一般的に良く使われる\n",
    "        * J2SDKという事もある\n",
    "        * 表現は時代によって変わっていたため、どの呼び方でも基本的にはSDKを意味する\n",
    "    * 種類\n",
    "        * Java SE(Standard Edition)\n",
    "            * 一般的な開発向け\n",
    "        * Java EE\n",
    "            * 企業などの大規模な開発向け\n",
    "        * Java ME\n",
    "            * 携帯電話やPDA向け\n",
    "\n",
    "* JRE (Runtime Environmen)\n",
    "    * 実行環境\n",
    "        * コンパイルはできない。実行のみ。\n",
    "    * 公開JREと非公開JRE\n",
    "        * 非公開JRE\n",
    "            * JDKに付属しているプログラムを実行するとき\n",
    "        * 公開JRE\n",
    "            * 他のJavaアプリケーションを実行するとき\n",
    "            * 作成されたアプリケーションを動かすだけならこちらだけでOK\n",
    "* IDE (Integrated Development Environment)\n",
    "    * 統合開発環境\n",
    "    * Eclipse\n",
    "    * IntelliJ IDEA"
   ]
  },
  {
   "cell_type": "markdown",
   "metadata": {
    "deletable": true,
    "editable": true
   },
   "source": [
    "## Javaドキュメント\n",
    "\n",
    "* サイト\n",
    "    * [Java SE API & ドキュメント](http://www.oracle.com/technetwork/jp/java/javase/documentation/api-jsp-316041-ja.html)\n",
    "* API 仕様、機能説明、開発者ガイドなどが含まれている\n",
    "    * 特に「API 仕様」はプログラミングの時にクラスやメソッドを調べるためによく使う\n",
    "    * Javaを学習するときのポイントは、このAPI仕様が読めるかどうか\n",
    "        * 目的を達成できるクラスやメソッドを探すことができる\n",
    "        * メソッドの使い方やクラスの継承関係、どんな例外が発生する可能性があるかもわかる\n",
    "        * API仕様が読めれば市販されている本でJavaを独学することもできる"
   ]
  },
  {
   "cell_type": "markdown",
   "metadata": {},
   "source": [
    "## コーディング\n",
    "\n",
    "* インデント\n",
    "    * 半角空白4文字 "
   ]
  }
 ],
 "metadata": {
  "kernelspec": {
   "display_name": "Python 3",
   "language": "python",
   "name": "python3"
  },
  "language_info": {
   "codemirror_mode": {
    "name": "ipython",
    "version": 3
   },
   "file_extension": ".py",
   "mimetype": "text/x-python",
   "name": "python",
   "nbconvert_exporter": "python",
   "pygments_lexer": "ipython3",
   "version": "3.6.1"
  }
 },
 "nbformat": 4,
 "nbformat_minor": 2
}
