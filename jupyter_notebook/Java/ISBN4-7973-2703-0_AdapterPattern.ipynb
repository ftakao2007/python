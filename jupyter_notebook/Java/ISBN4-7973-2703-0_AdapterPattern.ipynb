{
 "cells": [
  {
   "cell_type": "markdown",
   "metadata": {
    "deletable": true,
    "editable": true
   },
   "source": [
    "# Adapterパターン(継承)"
   ]
  },
  {
   "cell_type": "markdown",
   "metadata": {
    "deletable": true,
    "editable": true
   },
   "source": [
    "## Bannerクラス"
   ]
  },
  {
   "cell_type": "code",
   "execution_count": 12,
   "metadata": {
    "collapsed": true,
    "deletable": true,
    "editable": true
   },
   "outputs": [],
   "source": [
    "%%bash\n",
    "### 変数の設定\n",
    "name=Banner\n",
    "\n",
    "### ソースの編集\n",
    "cat <<- EOS > ${name}.java\n",
    "public class ${name} {\n",
    "    private String string;\n",
    "    public ${name}(String string) {\n",
    "        this.string = string;\n",
    "    }\n",
    "    \n",
    "    public void showWithParen() {\n",
    "        System.out.println(\"(\" + string + \")\");\n",
    "    }\n",
    "\n",
    "    public void showWithAster() {\n",
    "        System.out.println(\"*\" + string + \"*\");\n",
    "    }\n",
    "}\n",
    "EOS\n",
    "\n",
    "### コンパイル\n",
    "javac ${name}.java\n",
    "#javac -encoding UTF-8 ${name}.java"
   ]
  },
  {
   "cell_type": "markdown",
   "metadata": {
    "deletable": true,
    "editable": true
   },
   "source": [
    "## Printインタフェース"
   ]
  },
  {
   "cell_type": "code",
   "execution_count": 3,
   "metadata": {
    "collapsed": true,
    "deletable": true,
    "editable": true
   },
   "outputs": [],
   "source": [
    "%%bash\n",
    "### 変数の設定\n",
    "name=Print\n",
    "\n",
    "### ソースの編集\n",
    "cat <<- EOS > ${name}.java\n",
    "public interface ${name} {\n",
    "    public abstract void printWeak();\n",
    "    public abstract void printStrong();\n",
    "}\n",
    "EOS\n",
    "\n",
    "### コンパイル\n",
    "javac ${name}.java\n",
    "#javac -encoding UTF-8 ${name}.java"
   ]
  },
  {
   "cell_type": "markdown",
   "metadata": {
    "deletable": true,
    "editable": true
   },
   "source": [
    "## PrintBannerクラス"
   ]
  },
  {
   "cell_type": "code",
   "execution_count": 4,
   "metadata": {
    "collapsed": false,
    "deletable": true,
    "editable": true
   },
   "outputs": [],
   "source": [
    "%%bash\n",
    "### 変数の設定\n",
    "name=PrintBanner\n",
    "\n",
    "### ソースの編集\n",
    "cat <<- EOS > ${name}.java\n",
    "public class ${name} extends Banner implements Print {\n",
    "    public ${name}(String string) {\n",
    "        super(string);\n",
    "    }\n",
    "    \n",
    "    public void printWeak() {\n",
    "        showWithParen();\n",
    "    }\n",
    "    \n",
    "    public void printStrong() {\n",
    "        showWithAster();\n",
    "    }\n",
    "}\n",
    "EOS\n",
    "\n",
    "### コンパイル\n",
    "javac ${name}.java\n",
    "#javac -encoding UTF-8 ${name}.java"
   ]
  },
  {
   "cell_type": "markdown",
   "metadata": {
    "deletable": true,
    "editable": true
   },
   "source": [
    "## Mainクラス"
   ]
  },
  {
   "cell_type": "code",
   "execution_count": 15,
   "metadata": {
    "collapsed": false,
    "deletable": true,
    "editable": true
   },
   "outputs": [
    {
     "name": "stdout",
     "output_type": "stream",
     "text": [
      "(Hello)\n",
      "*Hello*\n"
     ]
    }
   ],
   "source": [
    "%%bash\n",
    "### 変数の設定\n",
    "name=Main\n",
    "\n",
    "### ソースの編集\n",
    "cat <<- EOS > ${name}.java\n",
    "public class ${name} {\n",
    "    public static void main(String[] args) {\n",
    "        Print p = new PrintBanner(\"Hello\");\n",
    "        p.printWeak();\n",
    "        p.printStrong();\n",
    "    }\n",
    "}\n",
    "EOS\n",
    "\n",
    "### コンパイル\n",
    "javac ${name}.java\n",
    "#javac -encoding UTF-8 ${name}.java\n",
    "\n",
    "### 実行\n",
    "#java -classpath ${classpath} ${name}\n",
    "java ${name}"
   ]
  },
  {
   "cell_type": "code",
   "execution_count": 8,
   "metadata": {
    "collapsed": true,
    "deletable": true,
    "editable": true
   },
   "outputs": [],
   "source": [
    "%%bash\n",
    "\n",
    "current_dir=`pwd`\n",
    "isbn=\"ISBN4-7973-2703-0\"\n",
    "fig=\"Fig.2-2\"\n",
    "\n",
    "### サンプルコードの作成\n",
    "cat <<- EOS > ${current_dir}/plantuml/${isbn}_${fig}.pu\n",
    "@startuml\n",
    "skinparam classAttributeIconSize 0\n",
    "\n",
    "class Main {\n",
    "}\n",
    "\n",
    "interface Print {\n",
    "    {abstract} +void printWeak()\n",
    "    {abstract} +void printStrong()\n",
    "}\n",
    "\n",
    "class PrintBanner {\n",
    "    +void printWeak()\n",
    "    +void printStrong()    \n",
    "}\n",
    "\n",
    "class Banner {\n",
    "    +void showWithParen()\n",
    "    +void showWithAster()\n",
    "}\n",
    "\n",
    "Main --> Print : Uses >\n",
    "Print <|.. PrintBanner\n",
    "Banner <|-- PrintBanner\n",
    "\n",
    "@enduml\n",
    "EOS\n",
    "\n",
    "### サンプルコードからUMLの図を作成\n",
    "java -jar plantuml.jar -o ${current_dir}/img -tpng ${current_dir}/plantuml/${isbn}_${fig}.pu"
   ]
  },
  {
   "cell_type": "markdown",
   "metadata": {
    "deletable": true,
    "editable": true
   },
   "source": [
    "## 継承を使ったAdapterパターン\n",
    "\n",
    "<img src=\"img/ISBN4-7973-2703-0_Fig.2-2.png\" alt=\"Adapterパターンのクラス図1\" title=\"Adapterパターンのクラス図1\" align=\"left\" />  \n",
    "<br clear=\"left\">"
   ]
  },
  {
   "cell_type": "markdown",
   "metadata": {
    "deletable": true,
    "editable": true
   },
   "source": [
    "* Bannerクラス\n",
    "    * あらかじめ提供されているクラス\n",
    "* Printインタフェース\n",
    "    * 必要とされているインタフェース\n",
    "    * Mainはこのインタフェースを通してBannerクラスを使う\n",
    "* PrintBannerクラス\n",
    "    * アダプターの役割を果たす\n",
    "    * <font color=\"red\">Bannerクラスを拡張(extends)</font>して,showWithParenメソッドとshowWithAsterメソッドを<font color=\"red\">継承する</font>\n",
    "    * <font color=\"red\">Printインタフェースを実装</font>してprintWeakメソッドとprintStrongメソッドを<font color=\"red\">実装</font>している\n",
    "* Mainクラス\n",
    "    * アダプター役のPrintBannerクラスを使ってHelloという文字を弱く(カッコつき)、強く(*ではさんで)表示している\n",
    "    * <font color=\"red\">PrintBannerのインスタンスをPrintインタフェースの変数に代入している</font>\n",
    "        * MainクラスはあくまでPrintというインタフェースを使ってプログラミングしている\n",
    "        * Bannerクラスのメソッドは、Mainクラスのソースコード上からはすっかり隠されている\n",
    "        * PrintBannerクラスがどのように実装されているかをMainクラスは知らない\n",
    "            * <font color=\"red\">Mainクラスを全く変更せずにPrintBannerクラスの実装を変えられる</font>ということでもある"
   ]
  },
  {
   "cell_type": "markdown",
   "metadata": {
    "deletable": true,
    "editable": true
   },
   "source": [
    "# Adapterパターン(委譲)\n",
    "\n",
    "* Bannerクラス、Mainクラスは先ほどと同じ\n",
    "\n",
    "<img src=\"img/ISBN4-7973-2703-0_Fig.2-4.png\" alt=\"Adapterパターンのクラス図2\" title=\"Adapterパターンのクラス図2\" align=\"left\" />  \n",
    "<br clear=\"left\">\n",
    "\n",
    "* 継承と委譲の違い\n",
    "    * 継承\n",
    "        * クラスによるAdapterパターン\n",
    "    * 委譲\n",
    "        * あるメソッドの実際の処理を他のインスタンスのメソッドにまかせること\n",
    "        * インスタンスによりAdapterパターン\n",
    "    * Print\n",
    "        * 先ほどとは違い<font color=\"red\">インタフェースでは無くクラス</font>"
   ]
  },
  {
   "cell_type": "markdown",
   "metadata": {
    "deletable": true,
    "editable": true
   },
   "source": [
    "## Printクラス"
   ]
  },
  {
   "cell_type": "code",
   "execution_count": 20,
   "metadata": {
    "collapsed": true,
    "deletable": true,
    "editable": true
   },
   "outputs": [],
   "source": [
    "%%bash\n",
    "### 変数の設定\n",
    "name=Print\n",
    "\n",
    "### ソースの編集\n",
    "cat <<- EOS > ${name}.java\n",
    "public abstract class ${name} {\n",
    "    public abstract void printWeak();\n",
    "    public abstract void printStrong();\n",
    "}\n",
    "EOS\n",
    "\n",
    "### コンパイル\n",
    "javac ${name}.java\n",
    "#javac -encoding UTF-8 ${name}.java"
   ]
  },
  {
   "cell_type": "markdown",
   "metadata": {
    "deletable": true,
    "editable": true
   },
   "source": [
    "## PrintBannerクラス"
   ]
  },
  {
   "cell_type": "code",
   "execution_count": 21,
   "metadata": {
    "collapsed": false,
    "deletable": true,
    "editable": true
   },
   "outputs": [],
   "source": [
    "%%bash\n",
    "### 変数の設定\n",
    "name=PrintBanner\n",
    "\n",
    "### ソースの編集\n",
    "cat <<- EOS > ${name}.java\n",
    "public class ${name} extends Print {\n",
    "    private Banner banner;\n",
    "    public ${name}(String string) {\n",
    "        this.banner = new Banner(string);\n",
    "    }\n",
    "    \n",
    "    public void printWeak() {\n",
    "        banner.showWithParen();\n",
    "    }\n",
    "    \n",
    "    public void printStrong() {\n",
    "        banner.showWithAster();\n",
    "    }\n",
    "}\n",
    "EOS\n",
    "\n",
    "### コンパイル\n",
    "javac ${name}.java\n",
    "#javac -encoding UTF-8 ${name}.java"
   ]
  },
  {
   "cell_type": "code",
   "execution_count": 24,
   "metadata": {
    "collapsed": true,
    "deletable": true,
    "editable": true
   },
   "outputs": [],
   "source": [
    "%%bash\n",
    "\n",
    "current_dir=`pwd`\n",
    "isbn=\"ISBN4-7973-2703-0\"\n",
    "fig=\"Fig.2-4\"\n",
    "\n",
    "### コードの作成\n",
    "cat <<- EOS > ${current_dir}/plantuml/${isbn}_${fig}.pu\n",
    "@startuml\n",
    "skinparam classAttributeIconSize 0\n",
    "\n",
    "class Main {\n",
    "}\n",
    "\n",
    "class Print {\n",
    "    {abstract} +void printWeak()\n",
    "    {abstract} +void printStrong()\n",
    "}\n",
    "\n",
    "class PrintBanner {\n",
    "    -banner Banner\n",
    "    +void printWeak()\n",
    "    +void printStrong()    \n",
    "}\n",
    "\n",
    "class Banner {\n",
    "    +void showWithParen()\n",
    "    +void showWithAster()\n",
    "}\n",
    "\n",
    "Main --> Print : Uses >\n",
    "Print <|-- PrintBanner\n",
    "Banner <--o PrintBanner\n",
    "\n",
    "@enduml\n",
    "EOS\n",
    "\n",
    "### コードからUMLの図を作成\n",
    "java -jar plantuml.jar -o ${current_dir}/img -tpng ${current_dir}/plantuml/${isbn}_${fig}.pu"
   ]
  },
  {
   "cell_type": "markdown",
   "metadata": {
    "deletable": true,
    "editable": true
   },
   "source": [
    "## 以下確認用"
   ]
  },
  {
   "cell_type": "code",
   "execution_count": 18,
   "metadata": {
    "collapsed": false,
    "deletable": true,
    "editable": true
   },
   "outputs": [
    {
     "name": "stdout",
     "output_type": "stream",
     "text": [
      "(Hello)\n",
      "*Hello*\n"
     ]
    }
   ],
   "source": [
    "%%bash\n",
    "\n",
    "### Adapterパターン(継承)\n",
    "\n",
    "# ================================================ #\n",
    "name=Banner\n",
    "cat <<- EOS > ${name}.java\n",
    "\n",
    "public class ${name} {\n",
    "    private String string;\n",
    "    public ${name}(String string) {\n",
    "        this.string = string;\n",
    "    }\n",
    "    \n",
    "    public void showWithParen() {\n",
    "        System.out.println(\"(\" + string + \")\");\n",
    "    }\n",
    "\n",
    "    public void showWithAster() {\n",
    "        System.out.println(\"*\" + string + \"*\");\n",
    "    }\n",
    "}\n",
    "\n",
    "EOS\n",
    "\n",
    "# ================================================ #\n",
    "name=Print\n",
    "cat <<- EOS > ${name}.java\n",
    "\n",
    "public interface ${name} {\n",
    "    public abstract void printWeak();\n",
    "    public abstract void printStrong();\n",
    "}\n",
    "\n",
    "EOS\n",
    "\n",
    "# ================================================ #\n",
    "name=PrintBanner\n",
    "cat <<- EOS > ${name}.java\n",
    "\n",
    "public class ${name} extends Banner implements Print {\n",
    "    public ${name}(String string) {\n",
    "        super(string);\n",
    "    }\n",
    "    \n",
    "    public void printWeak() {\n",
    "        showWithParen();\n",
    "    }\n",
    "    \n",
    "    public void printStrong() {\n",
    "        showWithAster();\n",
    "    }\n",
    "}\n",
    "\n",
    "EOS\n",
    "\n",
    "# ================================================ #\n",
    "name=Main\n",
    "cat <<- EOS > ${name}.java\n",
    "public class ${name} {\n",
    "    public static void main(String[] args) {\n",
    "        Print p = new PrintBanner(\"Hello\");\n",
    "        p.printWeak();\n",
    "        p.printStrong();\n",
    "    }\n",
    "}\n",
    "EOS\n",
    "\n",
    "### コンパイル\n",
    "javac ${name}.java\n",
    "#javac -encoding UTF-8 ${name}.java\n",
    "\n",
    "### 実行\n",
    "#java -classpath ${classpath} ${name}\n",
    "java ${name}"
   ]
  },
  {
   "cell_type": "code",
   "execution_count": 19,
   "metadata": {
    "collapsed": false,
    "deletable": true,
    "editable": true
   },
   "outputs": [
    {
     "name": "stdout",
     "output_type": "stream",
     "text": [
      "(Hello)\n",
      "*Hello*\n"
     ]
    }
   ],
   "source": [
    "%%bash\n",
    "\n",
    "### Adapterパターン(委譲)\n",
    "\n",
    "# ================================================ #\n",
    "name=Banner\n",
    "cat <<- EOS > ${name}.java\n",
    "\n",
    "public class ${name} {\n",
    "    private String string;\n",
    "    public ${name}(String string) {\n",
    "        this.string = string;\n",
    "    }\n",
    "    \n",
    "    public void showWithParen() {\n",
    "        System.out.println(\"(\" + string + \")\");\n",
    "    }\n",
    "\n",
    "    public void showWithAster() {\n",
    "        System.out.println(\"*\" + string + \"*\");\n",
    "    }\n",
    "}\n",
    "\n",
    "EOS\n",
    "\n",
    "# ================================================ #\n",
    "name=Print\n",
    "# cat <<- EOS > ${name}.java\n",
    "# public interface ${name} {\n",
    "#     public abstract void printWeak();\n",
    "#     public abstract void printStrong();\n",
    "# }\n",
    "# EOS\n",
    "\n",
    "cat <<- EOS > ${name}.java\n",
    "\n",
    "public abstract class ${name} {\n",
    "    public abstract void printWeak();\n",
    "    public abstract void printStrong();\n",
    "}\n",
    "\n",
    "EOS\n",
    "\n",
    "# ================================================ #\n",
    "name=PrintBanner\n",
    "# cat <<- EOS > ${name}.java\n",
    "#\n",
    "# public class ${name} extends Banner implements Print {\n",
    "#     public ${name}(String string) {\n",
    "#         super(string);\n",
    "#     }\n",
    "#    \n",
    "#     public void printWeak() {\n",
    "#         showWithParen();\n",
    "#     }\n",
    "#   \n",
    "#     public void printStrong() {\n",
    "#         showWithAster();\n",
    "#     }\n",
    "# }\n",
    "#\n",
    "# EOS\n",
    "\n",
    "cat <<- EOS > ${name}.java\n",
    "\n",
    "public class ${name} extends Print {\n",
    "    private Banner banner;\n",
    "    public ${name}(String string) {\n",
    "        this.banner = new Banner(string);\n",
    "    }\n",
    "    \n",
    "    public void printWeak() {\n",
    "        banner.showWithParen();\n",
    "    }\n",
    "    \n",
    "    public void printStrong() {\n",
    "        banner.showWithAster();\n",
    "    }\n",
    "}\n",
    "\n",
    "EOS\n",
    "\n",
    "# ================================================ #\n",
    "name=Main\n",
    "cat <<- EOS > ${name}.java\n",
    "public class ${name} {\n",
    "    public static void main(String[] args) {\n",
    "        Print p = new PrintBanner(\"Hello\");\n",
    "        p.printWeak();\n",
    "        p.printStrong();\n",
    "    }\n",
    "}\n",
    "EOS\n",
    "\n",
    "### コンパイル\n",
    "javac ${name}.java\n",
    "#javac -encoding UTF-8 ${name}.java\n",
    "\n",
    "### 実行\n",
    "#java -classpath ${classpath} ${name}\n",
    "java ${name}"
   ]
  }
 ],
 "metadata": {
  "kernelspec": {
   "display_name": "Python 3",
   "language": "python",
   "name": "python3"
  },
  "language_info": {
   "codemirror_mode": {
    "name": "ipython",
    "version": 3
   },
   "file_extension": ".py",
   "mimetype": "text/x-python",
   "name": "python",
   "nbconvert_exporter": "python",
   "pygments_lexer": "ipython3",
   "version": "3.6.1"
  }
 },
 "nbformat": 4,
 "nbformat_minor": 2
}
