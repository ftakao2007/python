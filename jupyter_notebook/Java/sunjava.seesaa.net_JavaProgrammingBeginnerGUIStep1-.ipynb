{
 "cells": [
  {
   "cell_type": "markdown",
   "metadata": {},
   "source": [
    "# JavaでGUIプログラムを作る\n",
    "\n",
    "* ライブラリ\n",
    "    * AWT(Abstract Window Toolkit)\n",
    "        * GUIを使用したプログラムを開発するためのライブラリー\n",
    "        * Javaで作るGUIプログラムの基本\n",
    "        * 表示はプラットホームごとに異なる。\n",
    "    * Swing\n",
    "        * AWTの上部に作成されたライブラリーで機能が豊富\n",
    "        * 表示はすべてのプラットホームで同じ。\n",
    "    * SWT(Standard Widget Toolkit)\n",
    "        * IBMがEclipseのために開発したライブラリーで動作が軽快\n",
    "        * 表示はプラットホームごとに異なる\n",
    "        * プラットホームごとにSWT用のライブラリーが必要"
   ]
  },
  {
   "cell_type": "markdown",
   "metadata": {},
   "source": [
    "## AWTでウィンドウを表示する"
   ]
  }
 ],
 "metadata": {
  "kernelspec": {
   "display_name": "Python 3",
   "language": "python",
   "name": "python3"
  },
  "language_info": {
   "codemirror_mode": {
    "name": "ipython",
    "version": 3
   },
   "file_extension": ".py",
   "mimetype": "text/x-python",
   "name": "python",
   "nbconvert_exporter": "python",
   "pygments_lexer": "ipython3",
   "version": "3.6.1"
  }
 },
 "nbformat": 4,
 "nbformat_minor": 2
}
