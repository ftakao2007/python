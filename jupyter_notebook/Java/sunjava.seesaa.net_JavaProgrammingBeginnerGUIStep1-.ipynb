{
 "cells": [
  {
   "cell_type": "markdown",
   "metadata": {},
   "source": [
    "# JavaでGUIプログラムを作る\n",
    "\n",
    "* ライブラリ\n",
    "    * AWT(Abstract Window Toolkit)\n",
    "        * GUIを使用したプログラムを開発するためのライブラリー\n",
    "        * Javaで作るGUIプログラムの基本\n",
    "        * 表示はプラットホームごとに異なる。\n",
    "    * Swing\n",
    "        * AWTの上部に作成されたライブラリーで機能が豊富\n",
    "        * 表示はすべてのプラットホームで同じ。\n",
    "    * SWT(Standard Widget Toolkit)\n",
    "        * IBMがEclipseのために開発したライブラリーで動作が軽快\n",
    "        * 表示はプラットホームごとに異なる\n",
    "        * プラットホームごとにSWT用のライブラリーが必要"
   ]
  },
  {
   "cell_type": "markdown",
   "metadata": {},
   "source": [
    "## AWTでウィンドウを表示する"
   ]
  },
  {
   "cell_type": "code",
   "execution_count": 1,
   "metadata": {
    "collapsed": true
   },
   "outputs": [],
   "source": [
    "%%bash\n",
    "### 変数の設定\n",
    "name=GUITest\n",
    "classpath=\".:/root/git_jupyter_notebook/Java/postgresql-42.1.1.jar\"\n",
    "\n",
    "### ソースの編集\n",
    "cat <<- EOS > ${name}.java\n",
    "\n",
    "import java.awt.*;\n",
    "import java.awt.event.*;\n",
    "\n",
    "class PrefFrame extends Frame {\n",
    "  public PrefFrame(String title) {\n",
    "    //#フレームのタイトル\n",
    "    setTitle(title);\n",
    "\n",
    "    //#ウィンドウを閉じる時\n",
    "    addWindowListener(new WindowAdapter() {\n",
    "      public void windowClosing(WindowEvent e) {\n",
    "        System.exit(0);\n",
    "      }\n",
    "    });\n",
    "  }\n",
    "}\n",
    "\n",
    "public class ${name} {\n",
    "  public static void main(String args[]){\n",
    "    PrefFrame frm = new PrefFrame(\"都道府県マスター\");\n",
    "    frm.setLocation(300, 200);\n",
    "    frm.setSize(250, 350);\n",
    "    frm.setBackground(Color.LIGHT_GRAY);\n",
    "    frm.setVisible(true);\n",
    "  }\n",
    "}\n",
    "EOS\n",
    "\n",
    "### コンパイル\n",
    "#javac ${name}.java\n",
    "javac -encoding UTF-8 ${name}.java\n",
    "\n",
    "### 実行\n",
    "java -classpath ${classpath} ${name}"
   ]
  }
 ],
 "metadata": {
  "kernelspec": {
   "display_name": "Python 3",
   "language": "python",
   "name": "python3"
  },
  "language_info": {
   "codemirror_mode": {
    "name": "ipython",
    "version": 3
   },
   "file_extension": ".py",
   "mimetype": "text/x-python",
   "name": "python",
   "nbconvert_exporter": "python",
   "pygments_lexer": "ipython3",
   "version": "3.6.1"
  }
 },
 "nbformat": 4,
 "nbformat_minor": 2
}
