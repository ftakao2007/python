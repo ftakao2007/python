{
 "cells": [
  {
   "cell_type": "markdown",
   "metadata": {
    "deletable": true,
    "editable": true
   },
   "source": [
    "# JavaでGUIプログラムを作る\n",
    "\n",
    "* ライブラリ\n",
    "    * AWT(Abstract Window Toolkit)\n",
    "        * GUIを使用したプログラムを開発するためのライブラリー\n",
    "        * Javaで作るGUIプログラムの基本\n",
    "        * 表示はプラットホームごとに異なる。\n",
    "    * Swing\n",
    "        * AWTの上部に作成されたライブラリーで機能が豊富\n",
    "        * 表示はすべてのプラットホームで同じ。\n",
    "    * SWT(Standard Widget Toolkit)\n",
    "        * IBMがEclipseのために開発したライブラリーで動作が軽快\n",
    "        * 表示はプラットホームごとに異なる\n",
    "        * プラットホームごとにSWT用のライブラリーが必要\n",
    "* プログラム内容\n",
    "    * 2つのクラス(PrefFrame, GUITest)と1つの無名内部クラス(ウィンドウを閉じる部分 new WindowAdapter〜)が作られる\n",
    "    * java.awt.event.*はイベント処理に必要なパッケージ\n",
    "        * イベント\n",
    "            * マウスでクリックしたりキーボードで入力する操作によって起こる状態の変化のこと\n",
    "            * 例えば、ウィンドウの閉じるボタンを押したときにイベントオブジェクトが発生する\n",
    "    * AWTでウィンドウを表示するにはFrameクラスを継承する\n",
    "        * Frameクラスだけではなく階層を遡って利用できる\n",
    "            * Rubyでは階層を遡ることはできない\n",
    "    * 内部クラス\n",
    "        * あるクラスの内部に定義するクラス\n",
    "            * 内部クラスのうち、名前をつけないで利用する場合は「無名内部クラス」という\n",
    "                * イベント処理でよく利用される\n",
    "                * <font color=\"red\">クラス名の代わりに「new スーパークラス名」を書く</font>\n",
    "            * コンパイルすると`$`の後に番号が振られたファイルができる\n",
    "                * `PrefFrame$1.class`\n",
    "    * java.awt.Colorクラス\n",
    "        * Colorクラスの定数で色を指定できる\n",
    "            * `frm.setBackground(Color.LIGHT_GRAY);`\n",
    "        * int型を引数にするとRGBカラーが使える\n",
    "            * `frm.setBackground(new Color(9, 150, 212));`"
   ]
  },
  {
   "cell_type": "markdown",
   "metadata": {
    "deletable": true,
    "editable": true
   },
   "source": [
    "## AWTでウィンドウを表示する"
   ]
  },
  {
   "cell_type": "code",
   "execution_count": 4,
   "metadata": {
    "collapsed": false,
    "deletable": true,
    "editable": true
   },
   "outputs": [],
   "source": [
    "%%bash\n",
    "### 変数の設定\n",
    "name=GUITest\n",
    "#classpath=\".:/root/git_jupyter_notebook/Java/postgresql-42.1.1.jar\"\n",
    "classpath=\".:/Users/ftakao2007/jupyter/jupyter_notebook/Java/postgresql-42.1.1.jar\"\n",
    "\n",
    "\n",
    "### ソースの編集\n",
    "cat <<- EOS > ${name}.java\n",
    "\n",
    "import java.awt.*;\n",
    "import java.awt.event.*;\n",
    "\n",
    "class PrefFrame extends Frame {\n",
    "  //# コンストラクタ\n",
    "  public PrefFrame(String title) {\n",
    "    //#フレームのタイトルの設定\n",
    "    setTitle(title);\n",
    "\n",
    "    //#ウィンドウを閉じる時のイベント処理。無名クラス\n",
    "    addWindowListener(new WindowAdapter() {\n",
    "      public void windowClosing(WindowEvent e) {\n",
    "        System.exit(0);\n",
    "      }\n",
    "    });\n",
    "  }\n",
    "}\n",
    "\n",
    "public class ${name} {\n",
    "  public static void main(String args[]){\n",
    "    //# PrefFrameクラスのインスタンスを生成。コンストラクタを呼び出している\n",
    "    PrefFrame frm = new PrefFrame(\"都道府県マスター\");\n",
    "    //# Frameクラスから継承したメソッドを利用\n",
    "    //# ウィンドウの表示位置\n",
    "    frm.setLocation(300, 200);\n",
    "    //# ウィンドウのサイズ\n",
    "    frm.setSize(250, 350);\n",
    "    //# ウィンドウの背景色\n",
    "    //# Color.LIGHT_GRAYはColorクラスの定数\n",
    "    frm.setBackground(Color.LIGHT_GRAY);\n",
    "    //# ウィンドウを表示する\n",
    "    frm.setVisible(true);\n",
    "  }\n",
    "}\n",
    "EOS\n",
    "\n",
    "### コンパイル\n",
    "#javac ${name}.java\n",
    "javac -encoding UTF-8 ${name}.java\n",
    "\n",
    "### 実行\n",
    "#java -classpath ${classpath} ${name}"
   ]
  },
  {
   "cell_type": "markdown",
   "metadata": {
    "deletable": true,
    "editable": true
   },
   "source": [
    "## 1つのクラスから複数のWindowを表示する"
   ]
  },
  {
   "cell_type": "code",
   "execution_count": 3,
   "metadata": {
    "collapsed": false,
    "deletable": true,
    "editable": true
   },
   "outputs": [],
   "source": [
    "%%bash\n",
    "### 変数の設定\n",
    "name=GUITest2\n",
    "#classpath=\".:/root/git_jupyter_notebook/Java/postgresql-42.1.1.jar\"\n",
    "classpath=\".:/Users/ftakao2007/jupyter/jupyter_notebook/Java/postgresql-42.1.1.jar\"\n",
    "\n",
    "\n",
    "### ソースの編集\n",
    "cat <<- EOS > ${name}.java\n",
    "\n",
    "import java.awt.*;\n",
    "import java.awt.event.*;\n",
    "\n",
    "class PrefFrame extends Frame {\n",
    "  public PrefFrame(String title) {\n",
    "    setTitle(title);\n",
    "\n",
    "    addWindowListener(new WindowAdapter() {\n",
    "      public void windowClosing(WindowEvent e) {\n",
    "        System.exit(0);\n",
    "      }\n",
    "    });\n",
    "  }\n",
    "}\n",
    "\n",
    "public class ${name} {\n",
    "  public static void main(String args[]){\n",
    "    PrefFrame frm = new PrefFrame(\"都道府県マスター\");\n",
    "    frm.setLocation(300, 200);\n",
    "    frm.setSize(250, 350);\n",
    "    frm.setBackground(Color.LIGHT_GRAY);\n",
    "    frm.setVisible(true);\n",
    "    \n",
    "    //# 二つ目のWindow\n",
    "    PrefFrame frm2 = new PrefFrame(\"都道府県マスター2\");\n",
    "    frm2.setLocation(500, 200);\n",
    "    frm2.setSize(350, 450);\n",
    "    frm2.setBackground(new Color(255, 200, 0));\n",
    "    frm2.setVisible(true);\n",
    "  }\n",
    "}\n",
    "EOS\n",
    "\n",
    "### コンパイル\n",
    "#javac ${name}.java\n",
    "javac -encoding UTF-8 ${name}.java\n",
    "\n",
    "### 実行\n",
    "#java -classpath ${classpath} ${name}"
   ]
  }
 ],
 "metadata": {
  "kernelspec": {
   "display_name": "Python 3",
   "language": "python",
   "name": "python3"
  },
  "language_info": {
   "codemirror_mode": {
    "name": "ipython",
    "version": 3
   },
   "file_extension": ".py",
   "mimetype": "text/x-python",
   "name": "python",
   "nbconvert_exporter": "python",
   "pygments_lexer": "ipython3",
   "version": "3.6.1"
  }
 },
 "nbformat": 4,
 "nbformat_minor": 2
}
