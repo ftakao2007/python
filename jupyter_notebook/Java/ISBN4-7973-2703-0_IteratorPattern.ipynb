{
 "cells": [
  {
   "cell_type": "markdown",
   "metadata": {
    "deletable": true,
    "editable": true
   },
   "source": [
    "# Iteratorパターン\n",
    "\n",
    "* "
   ]
  },
  {
   "cell_type": "code",
   "execution_count": 2,
   "metadata": {
    "collapsed": true,
    "deletable": true,
    "editable": true
   },
   "outputs": [],
   "source": [
    "%%bash\n",
    "### 変数の設定\n",
    "name=Aggregate\n",
    "\n",
    "### ソースの編集\n",
    "cat <<- EOS > ${name}.java\n",
    "public interface ${name} {\n",
    "    public abstract Iterator iterator();\n",
    "}\n",
    "EOS\n",
    "\n",
    "### コンパイル\n",
    "#javac ${name}.java\n",
    "#javac -encoding UTF-8 ${name}.java"
   ]
  },
  {
   "cell_type": "code",
   "execution_count": 3,
   "metadata": {
    "collapsed": true,
    "deletable": true,
    "editable": true
   },
   "outputs": [],
   "source": [
    "%%bash\n",
    "### 変数の設定\n",
    "name=Iterator\n",
    "\n",
    "### ソースの編集\n",
    "cat <<- EOS > ${name}.java\n",
    "public interface ${name} {\n",
    "    public abstract boolean hasNext();\n",
    "    public abstract Object next();\n",
    "}\n",
    "EOS\n",
    "\n",
    "### コンパイル\n",
    "#javac ${name}.java\n",
    "#javac -encoding UTF-8 ${name}.java"
   ]
  },
  {
   "cell_type": "code",
   "execution_count": 4,
   "metadata": {
    "collapsed": true,
    "deletable": true,
    "editable": true
   },
   "outputs": [],
   "source": [
    "%%bash\n",
    "### 変数の設定\n",
    "name=Book\n",
    "\n",
    "### ソースの編集\n",
    "cat <<- EOS > ${name}.java\n",
    "public class ${name} {\n",
    "    private String name;\n",
    "    public Book(String name) {\n",
    "        this.name = name;\n",
    "    }\n",
    "    public String getName() {\n",
    "        return name;\n",
    "    }\n",
    "}\n",
    "EOS\n",
    "\n",
    "### コンパイル\n",
    "#javac ${name}.java\n",
    "#javac -encoding UTF-8 ${name}.java"
   ]
  },
  {
   "cell_type": "code",
   "execution_count": 13,
   "metadata": {
    "collapsed": true,
    "deletable": true,
    "editable": true
   },
   "outputs": [],
   "source": [
    "%%bash\n",
    "### 変数の設定\n",
    "name=BookShelf\n",
    "\n",
    "### ソースの編集\n",
    "cat <<- EOS > ${name}.java\n",
    "public class ${name} implements Aggregate {\n",
    "    private Book[] books;\n",
    "    private int last = 0;\n",
    "    public BookShelf(int maxsize) {\n",
    "        this.books = new Book[maxsize];\n",
    "    }\n",
    "    public Book getBookAt(int index) {\n",
    "        return books[index];\n",
    "    }\n",
    "    public void appendBook(Book book) {\n",
    "        this.books[last] = book;\n",
    "        last++;\n",
    "    }\n",
    "    public int getLength() {\n",
    "        return last;\n",
    "    }\n",
    "    public Iterator iterator() {\n",
    "        return new BookShelfIterator(this);\n",
    "    }\n",
    "}\n",
    "EOS\n",
    "\n",
    "### コンパイル\n",
    "#javac ${name}.java\n",
    "#javac -encoding UTF-8 ${name}.java"
   ]
  },
  {
   "cell_type": "code",
   "execution_count": 24,
   "metadata": {
    "collapsed": true
   },
   "outputs": [],
   "source": [
    "%%bash\n",
    "### 変数の設定\n",
    "name=BookShelfIterator\n",
    "\n",
    "### ソースの編集\n",
    "cat <<- EOS > ${name}.java\n",
    "public class ${name} implements Iterator {\n",
    "    private BookShelf bookShelf;\n",
    "    private int index;\n",
    "    public BookShelfIterator(BookShelf bookShelf) {\n",
    "        this.bookShelf = bookShelf;\n",
    "        this.index = 0;\n",
    "    }\n",
    "    public boolean hasNext() {\n",
    "        if (index < bookShelf.getLength()) {\n",
    "            return true;\n",
    "        } else {\n",
    "            return false;\n",
    "        }\n",
    "    }\n",
    "    public Object next() {\n",
    "        Book book = bookShelf.getBookAt(index);\n",
    "        index++;\n",
    "        return book;\n",
    "    }\n",
    "}\n",
    "EOS\n",
    "\n",
    "### コンパイル\n",
    "#javac ${name}.java\n",
    "javac -encoding UTF-8 ${name}.java"
   ]
  },
  {
   "cell_type": "code",
   "execution_count": 26,
   "metadata": {
    "collapsed": false
   },
   "outputs": [
    {
     "name": "stdout",
     "output_type": "stream",
     "text": [
      "Around the World in 80 Days\n",
      "Bible\n",
      "Cinderella\n",
      "Daddy-Long-Legs\n"
     ]
    }
   ],
   "source": [
    "%%bash\n",
    "### 変数の設定\n",
    "name=Main\n",
    "\n",
    "### ソースの編集\n",
    "cat <<- EOS > ${name}.java\n",
    "public class ${name} {\n",
    "    public static void main(String[] args) {\n",
    "        BookShelf bookShelf = new BookShelf(4);\n",
    "        bookShelf.appendBook(new Book(\"Around the World in 80 Days\"));\n",
    "        bookShelf.appendBook(new Book(\"Bible\"));\n",
    "        bookShelf.appendBook(new Book(\"Cinderella\"));\n",
    "        bookShelf.appendBook(new Book(\"Daddy-Long-Legs\"));\n",
    "        Iterator it = bookShelf.iterator();\n",
    "        while (it.hasNext()) {\n",
    "            Book book = (Book) it.next();\n",
    "            System.out.println(book.getName());\n",
    "        }\n",
    "    }\n",
    "}\n",
    "EOS\n",
    "\n",
    "### コンパイル\n",
    "javac ${name}.java\n",
    "#javac -encoding UTF-8 ${name}.java\n",
    "\n",
    "### 実行\n",
    "#java -classpath ${classpath} ${name}\n",
    "java ${name}"
   ]
  }
 ],
 "metadata": {
  "kernelspec": {
   "display_name": "Python 3",
   "language": "python",
   "name": "python3"
  },
  "language_info": {
   "codemirror_mode": {
    "name": "ipython",
    "version": 3
   },
   "file_extension": ".py",
   "mimetype": "text/x-python",
   "name": "python",
   "nbconvert_exporter": "python",
   "pygments_lexer": "ipython3",
   "version": "3.6.1"
  }
 },
 "nbformat": 4,
 "nbformat_minor": 2
}
