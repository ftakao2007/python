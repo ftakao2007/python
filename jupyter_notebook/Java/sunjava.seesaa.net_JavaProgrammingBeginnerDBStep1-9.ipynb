{
 "cells": [
  {
   "cell_type": "markdown",
   "metadata": {},
   "source": [
    "# Java ODBCデータソースを登録\n",
    "\n",
    "* ODBC(Open Database Connectivity)\n",
    "    * リレーショナルデータベース管理システム (RDBMS) にアクセスするための共通インタフェース (API)\n",
    "    * マイクロソフトによって提唱された\n",
    "* JDBC(Java Database Connectivity)\n",
    "    * Javaとリレーショナルデータベースの接続のためのAPI\n",
    "* Javaで利用できるJDBCドライバ\n",
    "    * Type1 JDBC-ODBC ブリッジドライバ\n",
    "        * JDBCからの要求をODBCを経由してデータベースへアクセスする\n",
    "        * 先にODBCデータソースを登録する必要がある\n",
    "        * <font color=\"red\">Java8では標準から削除された</font>\n",
    "            * 今日では多くのデータベースがJDBCドライバを出しており、ODBCを経由させる必要性はほとんどなくなったため\n",
    "    * Type2 Native ブリッジドライバ\n",
    "    * Type3 ネットプロトコルドライバ\n",
    "    * Type4 ネイティブプロトコルドライバ\n",
    "        * PostgreSQL JDBC driverはこれ？"
   ]
  },
  {
   "cell_type": "markdown",
   "metadata": {},
   "source": [
    "## PostgreSQLのドライバのインストール\n",
    "\n",
    "[PostgreSQL JDBC driver](https://jdbc.postgresql.org/download.html) よりjarファイルをダウンロード"
   ]
  },
  {
   "cell_type": "code",
   "execution_count": 2,
   "metadata": {
    "collapsed": false
   },
   "outputs": [
    {
     "name": "stderr",
     "output_type": "stream",
     "text": [
      "--2017-05-31 03:01:10--  https://jdbc.postgresql.org/download/postgresql-42.1.1.jar\n",
      "Resolving jdbc.postgresql.org (jdbc.postgresql.org)... 174.143.35.228, 2001:4800:1501:1::228\n",
      "Connecting to jdbc.postgresql.org (jdbc.postgresql.org)|174.143.35.228|:443... connected.\n",
      "HTTP request sent, awaiting response... 200 OK\n",
      "Length: 712452 (696K) [application/java-archive]\n",
      "Saving to: 'postgresql-42.1.1.jar'\n",
      "\n",
      "     0K .......... .......... .......... .......... ..........  7%  157K 4s\n",
      "    50K .......... .......... .......... .......... .......... 14%  312K 3s\n",
      "   100K .......... .......... .......... .......... .......... 21% 11.6M 2s\n",
      "   150K .......... .......... .......... .......... .......... 28%  330K 2s\n",
      "   200K .......... .......... .......... .......... .......... 35% 5.91M 1s\n",
      "   250K .......... .......... .......... .......... .......... 43%  114M 1s\n",
      "   300K .......... .......... .......... .......... .......... 50% 11.6M 1s\n",
      "   350K .......... .......... .......... .......... .......... 57% 11.6M 0s\n",
      "   400K .......... .......... .......... .......... .......... 64%  343K 0s\n",
      "   450K .......... .......... .......... .......... .......... 71% 9.92M 0s\n",
      "   500K .......... .......... .......... .......... .......... 79% 11.6M 0s\n",
      "   550K .......... .......... .......... .......... .......... 86%  298K 0s\n",
      "   600K .......... .......... .......... .......... .......... 93%  249M 0s\n",
      "   650K .......... .......... .......... .......... .....     100% 8.04M=1.0s\n",
      "\n",
      "2017-05-31 03:01:12 (709 KB/s) - 'postgresql-42.1.1.jar' saved [712452/712452]\n",
      "\n"
     ]
    }
   ],
   "source": [
    "%%bash\n",
    "### jarファイルをダウンロード\n",
    "#wget https://jdbc.postgresql.org/download/postgresql-42.1.1.jar"
   ]
  },
  {
   "cell_type": "markdown",
   "metadata": {},
   "source": [
    "## DBに接続する"
   ]
  },
  {
   "cell_type": "code",
   "execution_count": null,
   "metadata": {
    "collapsed": true
   },
   "outputs": [],
   "source": []
  }
 ],
 "metadata": {
  "kernelspec": {
   "display_name": "Python 3",
   "language": "python",
   "name": "python3"
  },
  "language_info": {
   "codemirror_mode": {
    "name": "ipython",
    "version": 3
   },
   "file_extension": ".py",
   "mimetype": "text/x-python",
   "name": "python",
   "nbconvert_exporter": "python",
   "pygments_lexer": "ipython3",
   "version": "3.6.1"
  }
 },
 "nbformat": 4,
 "nbformat_minor": 2
}
