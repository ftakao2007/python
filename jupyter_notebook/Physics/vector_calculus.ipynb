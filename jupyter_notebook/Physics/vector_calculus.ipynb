{
 "cells": [
  {
   "cell_type": "markdown",
   "id": "36452575",
   "metadata": {},
   "source": [
    "# ベクトル解析\n",
    "\n",
    "## 教科書\n",
    "\n",
    "* [ベクトル解析(予備校のノリで学ぶ「大学の数学・物理」\n",
    ")](https://www.youtube.com/watch?v=k7ImHQhxF3s&list=PLDJfzGjtVLHkFl7M_MjP_Y9R_8EQfVlPP)\n",
    "\n",
    "## ライブラリ\n",
    "\n",
    "* SymPy\n",
    "    * 代数計算(記号(文字)を記号として扱う計算)ができる\n",
    "    * [Python（SymPy）によるベクトル解析その２（勾配・発散・回転）](https://pianofisica.hatenablog.com/entry/2021/04/26/190000)\n",
    "    * [sympy: Symbol( ), symbols( ), var( )使い分け](https://qiita.com/asobinin_kinsan/items/6f008ed667d80fc3a9b7)\n",
    "        * varはトップレベルで使う\n",
    "        * 関数内ではsymbolsを使う"
   ]
  },
  {
   "cell_type": "markdown",
   "id": "796a1cb8",
   "metadata": {},
   "source": [
    "## ライブラリの読み込み"
   ]
  },
  {
   "cell_type": "code",
   "execution_count": 41,
   "id": "09bda248",
   "metadata": {},
   "outputs": [],
   "source": [
    "import sympy as sp\n",
    "import math\n",
    "from sympy.core.function import Function"
   ]
  },
  {
   "cell_type": "markdown",
   "id": "222ad0ea",
   "metadata": {},
   "source": [
    "## SymPyの基本"
   ]
  },
  {
   "cell_type": "markdown",
   "id": "a3d61968",
   "metadata": {},
   "source": [
    "### 平方根を記号のまま出力"
   ]
  },
  {
   "cell_type": "code",
   "execution_count": 42,
   "id": "efd49a3f",
   "metadata": {},
   "outputs": [
    {
     "data": {
      "text/plain": [
       "1.4142135623730951"
      ]
     },
     "execution_count": 42,
     "metadata": {},
     "output_type": "execute_result"
    }
   ],
   "source": [
    "### 通常は計算した結果が出る\n",
    "math.sqrt(2)"
   ]
  },
  {
   "cell_type": "code",
   "execution_count": 44,
   "id": "58435767",
   "metadata": {},
   "outputs": [
    {
     "data": {
      "text/latex": [
       "$\\displaystyle 2 \\sqrt{2}$"
      ],
      "text/plain": [
       "2*sqrt(2)"
      ]
     },
     "execution_count": 44,
     "metadata": {},
     "output_type": "execute_result"
    }
   ],
   "source": [
    "### SymPyを使うと記号のまま出してくれる\n",
    "sp.sqrt(8)"
   ]
  },
  {
   "cell_type": "markdown",
   "id": "d591601b",
   "metadata": {},
   "source": [
    "### 記号xを作成"
   ]
  },
  {
   "cell_type": "code",
   "execution_count": 29,
   "id": "38976cac",
   "metadata": {},
   "outputs": [],
   "source": [
    "x = sp.Symbol('x')"
   ]
  },
  {
   "cell_type": "code",
   "execution_count": 49,
   "id": "d525501d",
   "metadata": {},
   "outputs": [
    {
     "data": {
      "text/latex": [
       "$\\displaystyle x$"
      ],
      "text/plain": [
       "x"
      ]
     },
     "execution_count": 49,
     "metadata": {},
     "output_type": "execute_result"
    }
   ],
   "source": [
    "### 記号xを出力\n",
    "x"
   ]
  },
  {
   "cell_type": "code",
   "execution_count": 48,
   "id": "b433b331",
   "metadata": {},
   "outputs": [
    {
     "data": {
      "text/latex": [
       "$\\displaystyle 2 x$"
      ],
      "text/plain": [
       "2*x"
      ]
     },
     "metadata": {},
     "output_type": "display_data"
    },
    {
     "data": {
      "text/latex": [
       "$\\displaystyle x^{2}$"
      ],
      "text/plain": [
       "x**2"
      ]
     },
     "metadata": {},
     "output_type": "display_data"
    }
   ],
   "source": [
    "### printだとLaTeXの形にならないのでdisplayを使う\n",
    "display(x+x)\n",
    "display(x**2)"
   ]
  },
  {
   "cell_type": "markdown",
   "id": "838cf9f5",
   "metadata": {},
   "source": [
    "### $ y = x^2 $ の計算"
   ]
  },
  {
   "cell_type": "code",
   "execution_count": 33,
   "id": "e978e14e",
   "metadata": {},
   "outputs": [],
   "source": [
    "### 関数の作成\n",
    "y = x**2"
   ]
  },
  {
   "cell_type": "code",
   "execution_count": 45,
   "id": "fc7d02e8",
   "metadata": {},
   "outputs": [
    {
     "data": {
      "text/latex": [
       "$\\displaystyle x^{2}$"
      ],
      "text/plain": [
       "x**2"
      ]
     },
     "execution_count": 45,
     "metadata": {},
     "output_type": "execute_result"
    }
   ],
   "source": [
    "y"
   ]
  },
  {
   "cell_type": "code",
   "execution_count": 50,
   "id": "b0c6e244",
   "metadata": {},
   "outputs": [
    {
     "data": {
      "text/latex": [
       "$\\displaystyle 9$"
      ],
      "text/plain": [
       "9"
      ]
     },
     "execution_count": 50,
     "metadata": {},
     "output_type": "execute_result"
    }
   ],
   "source": [
    "y.subs(x, 3)"
   ]
  },
  {
   "cell_type": "markdown",
   "id": "d5b66219",
   "metadata": {},
   "source": [
    "### $ z = x^2 + 2y + 3 $ の計算"
   ]
  },
  {
   "cell_type": "code",
   "execution_count": 58,
   "id": "4b19df6b",
   "metadata": {},
   "outputs": [],
   "source": [
    "### 変数x, yを作成\n",
    "x, y = sp.symbols('x y')\n",
    "\n",
    "### 関数の作成\n",
    "z = x**2 + 2*y + 3"
   ]
  },
  {
   "cell_type": "code",
   "execution_count": 59,
   "id": "c7ead8c5",
   "metadata": {},
   "outputs": [
    {
     "data": {
      "text/latex": [
       "$\\displaystyle x^{2} + 2 y + 3$"
      ],
      "text/plain": [
       "x**2 + 2*y + 3"
      ]
     },
     "execution_count": 59,
     "metadata": {},
     "output_type": "execute_result"
    }
   ],
   "source": [
    "z"
   ]
  },
  {
   "cell_type": "code",
   "execution_count": 56,
   "id": "ab375eb3",
   "metadata": {},
   "outputs": [
    {
     "data": {
      "text/latex": [
       "$\\displaystyle 2 y + 12$"
      ],
      "text/plain": [
       "2*y + 12"
      ]
     },
     "execution_count": 56,
     "metadata": {},
     "output_type": "execute_result"
    }
   ],
   "source": [
    "z.subs(x, 3)"
   ]
  },
  {
   "cell_type": "code",
   "execution_count": 57,
   "id": "b9aea934",
   "metadata": {},
   "outputs": [
    {
     "data": {
      "text/latex": [
       "$\\displaystyle 16$"
      ],
      "text/plain": [
       "16"
      ]
     },
     "execution_count": 57,
     "metadata": {},
     "output_type": "execute_result"
    }
   ],
   "source": [
    "z.subs([(x, 3), (y, 2)])"
   ]
  },
  {
   "cell_type": "markdown",
   "id": "3dbad8dc",
   "metadata": {},
   "source": [
    "3次元空間座標 $ (x,y,z) $ の関数 $ f=f(x,y,z) $"
   ]
  },
  {
   "cell_type": "code",
   "execution_count": 4,
   "id": "b8c992ed",
   "metadata": {},
   "outputs": [],
   "source": [
    "sp.var(' x y z ')\n",
    "f = Function('f')(x,y,z)"
   ]
  }
 ],
 "metadata": {
  "kernelspec": {
   "display_name": "Python 3 (ipykernel)",
   "language": "python",
   "name": "python3"
  },
  "language_info": {
   "codemirror_mode": {
    "name": "ipython",
    "version": 3
   },
   "file_extension": ".py",
   "mimetype": "text/x-python",
   "name": "python",
   "nbconvert_exporter": "python",
   "pygments_lexer": "ipython3",
   "version": "3.9.6"
  }
 },
 "nbformat": 4,
 "nbformat_minor": 5
}
