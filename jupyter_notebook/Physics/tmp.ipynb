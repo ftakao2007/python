{
 "cells": [
  {
   "cell_type": "code",
   "execution_count": 1,
   "id": "17df4c1e",
   "metadata": {},
   "outputs": [],
   "source": [
    "import sympy as sp\n",
    "import math\n",
    "from sympy.core.function import Function"
   ]
  },
  {
   "cell_type": "code",
   "execution_count": 6,
   "id": "0c189d7c",
   "metadata": {},
   "outputs": [
    {
     "data": {
      "text/latex": [
       "$\\displaystyle 2 + \\frac{dy}{dx}$"
      ],
      "text/plain": [
       "2 + dy/dx"
      ]
     },
     "metadata": {},
     "output_type": "display_data"
    }
   ],
   "source": [
    "x, y = sp.var('dx dy')\n",
    "\n",
    "expr1 = dy / dx\n",
    "\n",
    "display(expr1 + 2)"
   ]
  },
  {
   "cell_type": "markdown",
   "id": "36e19847",
   "metadata": {},
   "source": [
    "AB $ = \\Delta x $, BD $ = \\Delta y $ とすると $ \\frac{\\Delta y}{\\Delta x} = \\frac{4 - 1}{2 - 1} = 3 $"
   ]
  },
  {
   "cell_type": "markdown",
   "id": "43e4db23",
   "metadata": {},
   "source": [
    "AB $ = dx $, BC $ = dy $ とすると $ \\frac{dy}{dx} = \\frac{3 - 1}{2 - 1} = 2 $"
   ]
  },
  {
   "cell_type": "markdown",
   "id": "120343e6",
   "metadata": {},
   "source": [
    "$ 3 \\neq 2 $ なので $ \\frac{\\Delta y}{\\Delta x} \\neq \\frac{dy}{dx} $ だけど $ \\Delta x \\to 0 $ (点B $ (2,1) $ を点A $ (1,1) $ に近づける。ほぼひっついたとみなす)と$ \\frac{\\Delta y}{\\Delta x} \\to 2 $ となる。"
   ]
  },
  {
   "cell_type": "markdown",
   "id": "f6863e6b",
   "metadata": {},
   "source": [
    "例えば点A $ (1, 1) $ に滅茶苦茶近い点 $ (1.0001, 1.00020001) $ だと $ \\frac{\\Delta y}{\\Delta x} = \\frac{1.00020001 - 1}{1.0001 - 1} = \\frac{0.00020001}{0.0001} = 2.0001 $ で $ 2 $ にめっちゃ近いよね。"
   ]
  },
  {
   "cell_type": "markdown",
   "id": "635c4306",
   "metadata": {},
   "source": [
    "ところで $ dy/dx $ ってあくまで接線 $ y = 2x -1 $ の傾きで、この場合においては $ dx $ や $ dy $ の値が微小かどうかとかってあんまり関係無くない？"
   ]
  },
  {
   "cell_type": "markdown",
   "id": "ebfdfc17",
   "metadata": {},
   "source": [
    "この接線上の点て $ (1, 1) $ とか $ (2, 3) $ とか $ (10, 19) $ とか $ (55, 109) $ とかあるけど、どこで$ \\frac{dy}{dx} $ を計算しても2だし。"
   ]
  }
 ],
 "metadata": {
  "kernelspec": {
   "display_name": "Python 3 (ipykernel)",
   "language": "python",
   "name": "python3"
  },
  "language_info": {
   "codemirror_mode": {
    "name": "ipython",
    "version": 3
   },
   "file_extension": ".py",
   "mimetype": "text/x-python",
   "name": "python",
   "nbconvert_exporter": "python",
   "pygments_lexer": "ipython3",
   "version": "3.9.6"
  }
 },
 "nbformat": 4,
 "nbformat_minor": 5
}
