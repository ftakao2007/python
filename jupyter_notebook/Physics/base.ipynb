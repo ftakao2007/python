{
 "cells": [
  {
   "cell_type": "markdown",
   "id": "36452575",
   "metadata": {},
   "source": [
    "# 基本\n",
    "\n",
    "## 参考\n",
    "\n",
    "* [理系学生のためのSymPy入門編【研究で使うPython #69】](https://www.youtube.com/watch?v=cjCv9JCqHag)\n",
    "* [SymPyの使い方](https://gochikika.ntt.com/Features/SymPy.html)\n",
    "\n",
    "## ライブラリ\n",
    "\n",
    "* SymPy\n",
    "    * 代数計算(記号(文字)を記号として扱う計算)ができる\n",
    "    * [Python（SymPy）によるベクトル解析その２（勾配・発散・回転）](https://pianofisica.hatenablog.com/entry/2021/04/26/190000)\n",
    "    * [sympy: Symbol( ), symbols( ), var( )使い分け](https://qiita.com/asobinin_kinsan/items/6f008ed667d80fc3a9b7)\n",
    "        * varはトップレベルで使う\n",
    "        * 関数内ではsymbolsを使う"
   ]
  },
  {
   "cell_type": "markdown",
   "id": "796a1cb8",
   "metadata": {},
   "source": [
    "## ライブラリの読み込み"
   ]
  },
  {
   "cell_type": "code",
   "execution_count": 4,
   "id": "09bda248",
   "metadata": {},
   "outputs": [],
   "source": [
    "import sympy as sp\n",
    "import math\n",
    "from sympy.core.function import Function"
   ]
  },
  {
   "cell_type": "markdown",
   "id": "222ad0ea",
   "metadata": {},
   "source": [
    "## SymPyの基本"
   ]
  },
  {
   "cell_type": "markdown",
   "id": "a3d61968",
   "metadata": {},
   "source": [
    "### 平方根を記号のまま出力"
   ]
  },
  {
   "cell_type": "code",
   "execution_count": 5,
   "id": "efd49a3f",
   "metadata": {},
   "outputs": [
    {
     "data": {
      "text/plain": [
       "1.4142135623730951"
      ]
     },
     "execution_count": 5,
     "metadata": {},
     "output_type": "execute_result"
    }
   ],
   "source": [
    "### 通常は計算した結果が出る\n",
    "math.sqrt(2)"
   ]
  },
  {
   "cell_type": "code",
   "execution_count": 6,
   "id": "58435767",
   "metadata": {},
   "outputs": [
    {
     "data": {
      "text/latex": [
       "$\\displaystyle 2 \\sqrt{2}$"
      ],
      "text/plain": [
       "2*sqrt(2)"
      ]
     },
     "execution_count": 6,
     "metadata": {},
     "output_type": "execute_result"
    }
   ],
   "source": [
    "### SymPyを使うと記号のまま出してくれる\n",
    "sp.sqrt(8)"
   ]
  },
  {
   "cell_type": "markdown",
   "id": "d591601b",
   "metadata": {},
   "source": [
    "### 記号xを作成"
   ]
  },
  {
   "cell_type": "code",
   "execution_count": 7,
   "id": "38976cac",
   "metadata": {},
   "outputs": [],
   "source": [
    "x = sp.Symbol('x')"
   ]
  },
  {
   "cell_type": "code",
   "execution_count": 8,
   "id": "d525501d",
   "metadata": {},
   "outputs": [
    {
     "data": {
      "text/latex": [
       "$\\displaystyle x$"
      ],
      "text/plain": [
       "x"
      ]
     },
     "execution_count": 8,
     "metadata": {},
     "output_type": "execute_result"
    }
   ],
   "source": [
    "### 記号xを出力\n",
    "x"
   ]
  },
  {
   "cell_type": "markdown",
   "id": "0ccbf7be",
   "metadata": {},
   "source": [
    "### 出力について"
   ]
  },
  {
   "cell_type": "code",
   "execution_count": 9,
   "id": "0c0700c6",
   "metadata": {},
   "outputs": [
    {
     "name": "stdout",
     "output_type": "stream",
     "text": [
      "x\n"
     ]
    },
    {
     "data": {
      "text/latex": [
       "$\\displaystyle x$"
      ],
      "text/plain": [
       "x"
      ]
     },
     "metadata": {},
     "output_type": "display_data"
    }
   ],
   "source": [
    "### printだとLaTeXの形にならないのでdisplayを使う\n",
    "print(x)\n",
    "display(x)"
   ]
  },
  {
   "cell_type": "markdown",
   "id": "7b0d1833",
   "metadata": {},
   "source": [
    "### 分数"
   ]
  },
  {
   "cell_type": "code",
   "execution_count": 10,
   "id": "029ce35e",
   "metadata": {},
   "outputs": [
    {
     "data": {
      "text/latex": [
       "$\\displaystyle \\frac{2}{3}$"
      ],
      "text/plain": [
       "2/3"
      ]
     },
     "metadata": {},
     "output_type": "display_data"
    },
    {
     "data": {
      "text/latex": [
       "$\\displaystyle 3$"
      ],
      "text/plain": [
       "3"
      ]
     },
     "metadata": {},
     "output_type": "display_data"
    },
    {
     "data": {
      "text/latex": [
       "$\\displaystyle 2$"
      ],
      "text/plain": [
       "2"
      ]
     },
     "metadata": {},
     "output_type": "display_data"
    }
   ],
   "source": [
    "display(sp.Rational(2,3))\n",
    "\n",
    "### 分母\n",
    "display(sp.denom(sp.Rational(2,3)))\n",
    "\n",
    "### 分子\n",
    "display(sp.numer(sp.Rational(2,3)))"
   ]
  },
  {
   "cell_type": "markdown",
   "id": "a163162d",
   "metadata": {},
   "source": [
    "### その他"
   ]
  },
  {
   "cell_type": "code",
   "execution_count": 11,
   "id": "10e84434",
   "metadata": {},
   "outputs": [
    {
     "data": {
      "text/latex": [
       "$\\displaystyle 6$"
      ],
      "text/plain": [
       "6"
      ]
     },
     "metadata": {},
     "output_type": "display_data"
    },
    {
     "data": {
      "text/latex": [
       "$\\displaystyle \\pi$"
      ],
      "text/plain": [
       "pi"
      ]
     },
     "metadata": {},
     "output_type": "display_data"
    },
    {
     "data": {
      "text/latex": [
       "$\\displaystyle e$"
      ],
      "text/plain": [
       "E"
      ]
     },
     "metadata": {},
     "output_type": "display_data"
    },
    {
     "data": {
      "text/latex": [
       "$\\displaystyle \\infty$"
      ],
      "text/plain": [
       "oo"
      ]
     },
     "metadata": {},
     "output_type": "display_data"
    }
   ],
   "source": [
    "### 階乗\n",
    "display(sp.factorial(3))\n",
    "\n",
    "### 円周率\n",
    "display(sp.pi)\n",
    "\n",
    "### ネイピア数\n",
    "display(sp.E)\n",
    "\n",
    "### 無限大\n",
    "display(sp.oo)"
   ]
  },
  {
   "cell_type": "markdown",
   "id": "60a545fc",
   "metadata": {},
   "source": [
    "### 代数計算"
   ]
  },
  {
   "cell_type": "code",
   "execution_count": 12,
   "id": "b433b331",
   "metadata": {},
   "outputs": [
    {
     "data": {
      "text/latex": [
       "$\\displaystyle 2 x$"
      ],
      "text/plain": [
       "2*x"
      ]
     },
     "metadata": {},
     "output_type": "display_data"
    },
    {
     "data": {
      "text/latex": [
       "$\\displaystyle x^{2}$"
      ],
      "text/plain": [
       "x**2"
      ]
     },
     "metadata": {},
     "output_type": "display_data"
    }
   ],
   "source": [
    "### 記号のまま計算できる\n",
    "display(x+x)\n",
    "display(x*x)"
   ]
  },
  {
   "cell_type": "markdown",
   "id": "f568f9d0",
   "metadata": {},
   "source": [
    "### 複数の記号の作成"
   ]
  },
  {
   "cell_type": "code",
   "execution_count": 19,
   "id": "43b57e5e",
   "metadata": {},
   "outputs": [],
   "source": [
    "### symbolsを使う\n",
    "x, y = sp.symbols('x y')"
   ]
  },
  {
   "cell_type": "code",
   "execution_count": 20,
   "id": "8a5dc18b",
   "metadata": {},
   "outputs": [
    {
     "data": {
      "text/latex": [
       "$\\displaystyle x^{2} + 2 y$"
      ],
      "text/plain": [
       "x**2 + 2*y"
      ]
     },
     "execution_count": 20,
     "metadata": {},
     "output_type": "execute_result"
    }
   ],
   "source": [
    "x**2 + 2*y"
   ]
  },
  {
   "cell_type": "code",
   "execution_count": 13,
   "id": "5a515d65",
   "metadata": {},
   "outputs": [],
   "source": [
    "### varでも可能(グローバル変数的に使う場合はコッチを使う？)\n",
    "a, b, c = sp.var('a b c')"
   ]
  },
  {
   "cell_type": "code",
   "execution_count": 14,
   "id": "fbeb16fe",
   "metadata": {},
   "outputs": [
    {
     "data": {
      "text/latex": [
       "$\\displaystyle a^{2} + 2 b + c$"
      ],
      "text/plain": [
       "a**2 + 2*b + c"
      ]
     },
     "execution_count": 14,
     "metadata": {},
     "output_type": "execute_result"
    }
   ],
   "source": [
    "a**2 + 2*b + c"
   ]
  },
  {
   "cell_type": "markdown",
   "id": "dd7d7594",
   "metadata": {},
   "source": [
    "### 関数の利用"
   ]
  },
  {
   "cell_type": "code",
   "execution_count": 15,
   "id": "11f35d2a",
   "metadata": {},
   "outputs": [
    {
     "data": {
      "text/latex": [
       "$\\displaystyle \\sin{\\left(x \\right)}$"
      ],
      "text/plain": [
       "sin(x)"
      ]
     },
     "execution_count": 15,
     "metadata": {},
     "output_type": "execute_result"
    }
   ],
   "source": [
    "sp.sin(x)"
   ]
  },
  {
   "cell_type": "code",
   "execution_count": 16,
   "id": "fc19ed62",
   "metadata": {},
   "outputs": [
    {
     "data": {
      "text/latex": [
       "$\\displaystyle \\log{\\left(x \\right)}$"
      ],
      "text/plain": [
       "log(x)"
      ]
     },
     "execution_count": 16,
     "metadata": {},
     "output_type": "execute_result"
    }
   ],
   "source": [
    "### 「sp.」の後でTabを押すと使える関数一覧が出る\n",
    "#sp.Abs(x)\n",
    "sp.log(x)"
   ]
  },
  {
   "cell_type": "markdown",
   "id": "838cf9f5",
   "metadata": {},
   "source": [
    "### 新しい変数に式を代入"
   ]
  },
  {
   "cell_type": "code",
   "execution_count": 17,
   "id": "8babac1b",
   "metadata": {},
   "outputs": [
    {
     "data": {
      "text/latex": [
       "$\\displaystyle a + b$"
      ],
      "text/plain": [
       "a + b"
      ]
     },
     "metadata": {},
     "output_type": "display_data"
    },
    {
     "data": {
      "text/latex": [
       "$\\displaystyle \\left(a + b\\right)^{2}$"
      ],
      "text/plain": [
       "(a + b)**2"
      ]
     },
     "metadata": {},
     "output_type": "display_data"
    }
   ],
   "source": [
    "c = a + b\n",
    "display(c)\n",
    "display(c**2)"
   ]
  },
  {
   "cell_type": "markdown",
   "id": "daa8918a",
   "metadata": {},
   "source": [
    "### 展開と因数分解"
   ]
  },
  {
   "cell_type": "code",
   "execution_count": 21,
   "id": "35430b68",
   "metadata": {},
   "outputs": [
    {
     "data": {
      "text/latex": [
       "$\\displaystyle x^{3} + 3 x^{2} y + 3 x y^{2} + y^{3}$"
      ],
      "text/plain": [
       "x**3 + 3*x**2*y + 3*x*y**2 + y**3"
      ]
     },
     "metadata": {},
     "output_type": "display_data"
    },
    {
     "data": {
      "text/latex": [
       "$\\displaystyle \\left(x + y\\right)^{3}$"
      ],
      "text/plain": [
       "(x + y)**3"
      ]
     },
     "metadata": {},
     "output_type": "display_data"
    },
    {
     "data": {
      "text/latex": [
       "$\\displaystyle x^{3} + 3 x^{2} y + 3 x y^{2} + y^{3}$"
      ],
      "text/plain": [
       "x**3 + 3*x**2*y + 3*x*y**2 + y**3"
      ]
     },
     "metadata": {},
     "output_type": "display_data"
    }
   ],
   "source": [
    "expr = x**3 + 3*x**2*y + 3*x*y**2 + y**3\n",
    "display(expr)\n",
    "\n",
    "### 因数分解\n",
    "expr1 = sp.factor(expr)\n",
    "display(expr1)\n",
    "\n",
    "### 展開\n",
    "expr2 = sp.expand(expr1)\n",
    "display(expr2)"
   ]
  },
  {
   "cell_type": "code",
   "execution_count": 22,
   "id": "a83c890c",
   "metadata": {},
   "outputs": [
    {
     "data": {
      "text/latex": [
       "$\\displaystyle x^{2} + 4$"
      ],
      "text/plain": [
       "x**2 + 4"
      ]
     },
     "metadata": {},
     "output_type": "display_data"
    },
    {
     "data": {
      "text/latex": [
       "$\\displaystyle \\left(x - 2 i\\right) \\left(x + 2 i\\right)$"
      ],
      "text/plain": [
       "(x - 2*I)*(x + 2*I)"
      ]
     },
     "metadata": {},
     "output_type": "display_data"
    }
   ],
   "source": [
    "### 虚数まで含めた因数分解\n",
    "\n",
    "expr = x**2 + 4\n",
    "\n",
    "### 虚数含めない\n",
    "display(sp.factor(expr))\n",
    "\n",
    "### 虚数含める\n",
    "display(sp.factor(expr, extension=[sp.I]))\n"
   ]
  },
  {
   "cell_type": "markdown",
   "id": "a6db9cf0",
   "metadata": {},
   "source": [
    "### 簡単化"
   ]
  },
  {
   "cell_type": "code",
   "execution_count": 23,
   "id": "4e52dc4f",
   "metadata": {},
   "outputs": [
    {
     "data": {
      "text/latex": [
       "$\\displaystyle \\frac{a b + a c}{a}$"
      ],
      "text/plain": [
       "(a*b + a*c)/a"
      ]
     },
     "metadata": {},
     "output_type": "display_data"
    },
    {
     "data": {
      "text/latex": [
       "$\\displaystyle b + c$"
      ],
      "text/plain": [
       "b + c"
      ]
     },
     "metadata": {},
     "output_type": "display_data"
    }
   ],
   "source": [
    "a, b, c = sp.var('a b c')\n",
    "\n",
    "expr3 = (a*b + a*c) / a\n",
    "\n",
    "display(expr3)\n",
    "\n",
    "### 約分\n",
    "display(sp.simplify(expr3))"
   ]
  },
  {
   "cell_type": "markdown",
   "id": "5f4a166c",
   "metadata": {},
   "source": [
    "### 代入"
   ]
  },
  {
   "cell_type": "code",
   "execution_count": 24,
   "id": "e978e14e",
   "metadata": {},
   "outputs": [
    {
     "data": {
      "text/latex": [
       "$\\displaystyle x^{2}$"
      ],
      "text/plain": [
       "x**2"
      ]
     },
     "metadata": {},
     "output_type": "display_data"
    }
   ],
   "source": [
    "x, y, a = sp.var('x y a')\n",
    "\n",
    "y = x**2\n",
    "display(y)"
   ]
  },
  {
   "cell_type": "code",
   "execution_count": 17,
   "id": "b0c6e244",
   "metadata": {},
   "outputs": [
    {
     "data": {
      "text/latex": [
       "$\\displaystyle 9$"
      ],
      "text/plain": [
       "9"
      ]
     },
     "metadata": {},
     "output_type": "display_data"
    },
    {
     "data": {
      "text/latex": [
       "$\\displaystyle a^{2}$"
      ],
      "text/plain": [
       "a**2"
      ]
     },
     "metadata": {},
     "output_type": "display_data"
    }
   ],
   "source": [
    "### xに値を代入\n",
    "display(y.subs(x, 3))\n",
    "display(y.subs(x, a))"
   ]
  },
  {
   "cell_type": "markdown",
   "id": "7c1f1937",
   "metadata": {},
   "source": [
    "### 微分"
   ]
  },
  {
   "cell_type": "code",
   "execution_count": 18,
   "id": "a3e4286b",
   "metadata": {},
   "outputs": [
    {
     "data": {
      "text/latex": [
       "$\\displaystyle 2 x$"
      ],
      "text/plain": [
       "2*x"
      ]
     },
     "metadata": {},
     "output_type": "display_data"
    },
    {
     "data": {
      "text/latex": [
       "$\\displaystyle - \\sin{\\left(x \\right)}$"
      ],
      "text/plain": [
       "-sin(x)"
      ]
     },
     "metadata": {},
     "output_type": "display_data"
    }
   ],
   "source": [
    "x, y = sp.var('x y')\n",
    "\n",
    "### y = x^2の微分\n",
    "y = x**2\n",
    "display(sp.diff(y, x))\n",
    "\n",
    "### cos(x)の微分\n",
    "display(sp.diff(sp.cos(x), x))"
   ]
  },
  {
   "cell_type": "markdown",
   "id": "68518b7f",
   "metadata": {},
   "source": [
    "### 方程式を解く"
   ]
  },
  {
   "cell_type": "code",
   "execution_count": 19,
   "id": "2c65f4a5",
   "metadata": {},
   "outputs": [
    {
     "data": {
      "text/latex": [
       "$\\displaystyle x^{2} - 3 x + 2$"
      ],
      "text/plain": [
       "x**2 - 3*x + 2"
      ]
     },
     "metadata": {},
     "output_type": "display_data"
    },
    {
     "data": {
      "text/latex": [
       "$\\displaystyle \\left(x - 2\\right) \\left(x - 1\\right)$"
      ],
      "text/plain": [
       "(x - 2)*(x - 1)"
      ]
     },
     "metadata": {},
     "output_type": "display_data"
    },
    {
     "data": {
      "text/plain": [
       "[1, 2]"
      ]
     },
     "metadata": {},
     "output_type": "display_data"
    }
   ],
   "source": [
    "x = sp.Symbol('x')\n",
    "f = x**2 - 3*x + 2\n",
    "display(f)\n",
    "display(sp.factor(f))\n",
    "\n",
    "### f(x) = 0 となるxを見つける\n",
    "display(sp.solve(f))"
   ]
  },
  {
   "cell_type": "code",
   "execution_count": 74,
   "id": "6aead3f6",
   "metadata": {},
   "outputs": [
    {
     "data": {
      "text/plain": [
       "{x: 24/5, y: -6/5}"
      ]
     },
     "metadata": {},
     "output_type": "display_data"
    }
   ],
   "source": [
    "### 連立方程式を解く\n",
    "x, y = sp.var('x y')\n",
    "\n",
    "expr1 = 2*x + 3*y - 6\n",
    "expr2 = 3*x + 2*y - 12\n",
    "\n",
    "display(sp.solve((expr1,expr2)))"
   ]
  },
  {
   "cell_type": "code",
   "execution_count": 83,
   "id": "44b46707",
   "metadata": {},
   "outputs": [
    {
     "data": {
      "text/latex": [
       "$\\displaystyle a x^{2} + b x + c$"
      ],
      "text/plain": [
       "a*x**2 + b*x + c"
      ]
     },
     "metadata": {},
     "output_type": "display_data"
    },
    {
     "data": {
      "text/latex": [
       "$\\displaystyle \\frac{- b - \\sqrt{- 4 a c + b^{2}}}{2 a}$"
      ],
      "text/plain": [
       "(-b - sqrt(-4*a*c + b**2))/(2*a)"
      ]
     },
     "metadata": {},
     "output_type": "display_data"
    },
    {
     "data": {
      "text/latex": [
       "$\\displaystyle \\frac{- b + \\sqrt{- 4 a c + b^{2}}}{2 a}$"
      ],
      "text/plain": [
       "(-b + sqrt(-4*a*c + b**2))/(2*a)"
      ]
     },
     "metadata": {},
     "output_type": "display_data"
    }
   ],
   "source": [
    "x, a, b, c = sp.var('x a b c')\n",
    "\n",
    "f = a*x**2 + b*x + c\n",
    "display(f)\n",
    "display(sp.solve(f, x)[0])\n",
    "display(sp.solve(f, x)[1])"
   ]
  },
  {
   "cell_type": "markdown",
   "id": "d5b66219",
   "metadata": {},
   "source": [
    "## 行列\n",
    "\n",
    "* numpyとの違い\n",
    "    * 文字をそのまま扱える\n",
    "    * 分数は分数として処理できる"
   ]
  },
  {
   "cell_type": "markdown",
   "id": "9067e7ff",
   "metadata": {},
   "source": [
    "### 行列の生成"
   ]
  },
  {
   "cell_type": "code",
   "execution_count": 20,
   "id": "4b19df6b",
   "metadata": {},
   "outputs": [
    {
     "data": {
      "text/latex": [
       "$\\displaystyle \\left[\\begin{matrix}1 & 2\\\\3 & 4\\\\5 & 6\\end{matrix}\\right]$"
      ],
      "text/plain": [
       "Matrix([\n",
       "[1, 2],\n",
       "[3, 4],\n",
       "[5, 6]])"
      ]
     },
     "execution_count": 20,
     "metadata": {},
     "output_type": "execute_result"
    }
   ],
   "source": [
    "sp.Matrix([[1,2], [3,4], [5,6]])"
   ]
  },
  {
   "cell_type": "code",
   "execution_count": 21,
   "id": "c7ead8c5",
   "metadata": {},
   "outputs": [
    {
     "data": {
      "text/latex": [
       "$\\displaystyle \\left[\\begin{matrix}a & b\\\\c & d\\\\e & f\\end{matrix}\\right]$"
      ],
      "text/plain": [
       "Matrix([\n",
       "[a, b],\n",
       "[c, d],\n",
       "[e, f]])"
      ]
     },
     "execution_count": 21,
     "metadata": {},
     "output_type": "execute_result"
    }
   ],
   "source": [
    "a, b, c, d, e, f = sp.symbols('a b c d e f')\n",
    "sp.Matrix([[a,b], [c,d], [e,f]])"
   ]
  },
  {
   "cell_type": "code",
   "execution_count": 22,
   "id": "ab375eb3",
   "metadata": {},
   "outputs": [
    {
     "data": {
      "text/latex": [
       "$\\displaystyle \\left[\\begin{matrix}1 & b\\\\c & d\\\\e & f\\end{matrix}\\right]$"
      ],
      "text/plain": [
       "Matrix([\n",
       "[1, b],\n",
       "[c, d],\n",
       "[e, f]])"
      ]
     },
     "execution_count": 22,
     "metadata": {},
     "output_type": "execute_result"
    }
   ],
   "source": [
    "### aに1を入れる\n",
    "sp.Matrix([[a,b], [c,d], [e,f]]).subs(a, 1)"
   ]
  },
  {
   "cell_type": "code",
   "execution_count": 23,
   "id": "b9aea934",
   "metadata": {},
   "outputs": [
    {
     "data": {
      "text/latex": [
       "$\\displaystyle \\left[\\begin{matrix}1 & 2\\\\3 & 4\\\\5 & 6\\end{matrix}\\right]$"
      ],
      "text/plain": [
       "Matrix([\n",
       "[1, 2],\n",
       "[3, 4],\n",
       "[5, 6]])"
      ]
     },
     "metadata": {},
     "output_type": "display_data"
    },
    {
     "data": {
      "text/latex": [
       "$\\displaystyle \\left[\\begin{matrix}1 & 2 & 3\\\\4 & 5 & 6\\end{matrix}\\right]$"
      ],
      "text/plain": [
       "Matrix([\n",
       "[1, 2, 3],\n",
       "[4, 5, 6]])"
      ]
     },
     "metadata": {},
     "output_type": "display_data"
    }
   ],
   "source": [
    "### 3行2列であることを宣言して一つのリストに値を入れて行列を生成\n",
    "display(sp.Matrix(3, 2, [1, 2, 3, 4, 5, 6]))\n",
    "\n",
    "### 2行3列であることを宣言して一つのリストに値を入れて行列を生成\n",
    "display(sp.Matrix(2, 3, [1, 2, 3, 4, 5, 6]))\n"
   ]
  },
  {
   "cell_type": "markdown",
   "id": "3dbad8dc",
   "metadata": {},
   "source": [
    "### 列ベクトル ($ n \\times 1 $ 行列)"
   ]
  },
  {
   "cell_type": "code",
   "execution_count": 12,
   "id": "b8c992ed",
   "metadata": {},
   "outputs": [
    {
     "data": {
      "text/latex": [
       "$\\displaystyle \\left[\\begin{matrix}1\\\\2\\\\3\\\\4\\end{matrix}\\right]$"
      ],
      "text/plain": [
       "Matrix([\n",
       "[1],\n",
       "[2],\n",
       "[3],\n",
       "[4]])"
      ]
     },
     "metadata": {},
     "output_type": "display_data"
    }
   ],
   "source": [
    "### リストを入れる\n",
    "display(sp.Matrix([1, 2, 3, 4]))"
   ]
  },
  {
   "cell_type": "markdown",
   "id": "320f1c34",
   "metadata": {},
   "source": [
    "### 行ベクトル ($ 1 \\times n $ 行列)"
   ]
  },
  {
   "cell_type": "code",
   "execution_count": 14,
   "id": "0ef7eb30",
   "metadata": {},
   "outputs": [
    {
     "data": {
      "text/latex": [
       "$\\displaystyle \\left[\\begin{matrix}1 & 2 & 3 & 4\\end{matrix}\\right]$"
      ],
      "text/plain": [
       "Matrix([[1, 2, 3, 4]])"
      ]
     },
     "metadata": {},
     "output_type": "display_data"
    }
   ],
   "source": [
    "## リストを二重にする\n",
    "display(sp.Matrix([[1, 2, 3, 4]]))"
   ]
  },
  {
   "cell_type": "markdown",
   "id": "f81a332f",
   "metadata": {},
   "source": [
    "### 転置"
   ]
  },
  {
   "cell_type": "code",
   "execution_count": 20,
   "id": "362547d7",
   "metadata": {},
   "outputs": [
    {
     "data": {
      "text/latex": [
       "$\\displaystyle \\left[\\begin{matrix}1\\\\2\\\\3\\\\4\\end{matrix}\\right]$"
      ],
      "text/plain": [
       "Matrix([\n",
       "[1],\n",
       "[2],\n",
       "[3],\n",
       "[4]])"
      ]
     },
     "metadata": {},
     "output_type": "display_data"
    }
   ],
   "source": [
    "### 「.T」をつける。またはtranspose()\n",
    "display(sp.Matrix([[1, 2, 3, 4]]).T)"
   ]
  },
  {
   "cell_type": "markdown",
   "id": "3dda12a3",
   "metadata": {},
   "source": [
    "### 行列の変数への格納と演算"
   ]
  },
  {
   "cell_type": "code",
   "execution_count": 69,
   "id": "4c3a051c",
   "metadata": {},
   "outputs": [
    {
     "data": {
      "text/latex": [
       "$\\displaystyle \\left[\\begin{matrix}1 & 2\\\\3 & 4\\end{matrix}\\right]$"
      ],
      "text/plain": [
       "Matrix([\n",
       "[1, 2],\n",
       "[3, 4]])"
      ]
     },
     "metadata": {},
     "output_type": "display_data"
    },
    {
     "data": {
      "text/latex": [
       "$\\displaystyle \\left[\\begin{matrix}5 & 6\\\\7 & 8\\end{matrix}\\right]$"
      ],
      "text/plain": [
       "Matrix([\n",
       "[5, 6],\n",
       "[7, 8]])"
      ]
     },
     "metadata": {},
     "output_type": "display_data"
    },
    {
     "data": {
      "text/latex": [
       "$\\displaystyle \\left[\\begin{matrix}3 & 1\\\\2 & 4\\end{matrix}\\right]$"
      ],
      "text/plain": [
       "Matrix([\n",
       "[3, 1],\n",
       "[2, 4]])"
      ]
     },
     "metadata": {},
     "output_type": "display_data"
    },
    {
     "data": {
      "text/latex": [
       "$\\displaystyle \\left[\\begin{matrix}a_{11} & a_{12}\\\\a_{21} & a_{22}\\end{matrix}\\right]$"
      ],
      "text/plain": [
       "Matrix([\n",
       "[a11, a12],\n",
       "[a21, a22]])"
      ]
     },
     "metadata": {},
     "output_type": "display_data"
    },
    {
     "data": {
      "text/latex": [
       "$\\displaystyle \\left[\\begin{matrix}b_{11} & b_{12}\\\\b_{21} & b_{22}\\end{matrix}\\right]$"
      ],
      "text/plain": [
       "Matrix([\n",
       "[b11, b12],\n",
       "[b21, b22]])"
      ]
     },
     "metadata": {},
     "output_type": "display_data"
    },
    {
     "data": {
      "text/latex": [
       "$\\displaystyle \\left[\\begin{matrix}c_{11} & c_{12} & c_{13}\\\\c_{21} & c_{22} & c_{23}\\\\c_{31} & c_{32} & c_{33}\\end{matrix}\\right]$"
      ],
      "text/plain": [
       "Matrix([\n",
       "[c11, c12, c13],\n",
       "[c21, c22, c23],\n",
       "[c31, c32, c33]])"
      ]
     },
     "metadata": {},
     "output_type": "display_data"
    }
   ],
   "source": [
    "A1 = sp.Matrix(2, 2, [1, 2, 3, 4])\n",
    "B1 = sp.Matrix(2, 2, [5, 6, 7, 8])\n",
    "C1 = sp.Matrix(2, 2, [3, 1, 2, 4])\n",
    "\n",
    "display(A1)\n",
    "display(B1)\n",
    "display(C1)\n",
    "\n",
    "sp.var('a11, a12, a21, a22, b11, b12, b21, b22, c11, c12, c13, c21, c22, c23, c31, c32, c33')\n",
    "A = sp.Matrix(2, 2, [a11, a12, a21, a22])\n",
    "B = sp.Matrix(2, 2, [b11, b12, b21, b22])\n",
    "C = sp.Matrix(3, 3, [c11, c12, c13, c21, c22, c23, c31, c32, c33])\n",
    "\n",
    "display(A)\n",
    "display(B)\n",
    "display(C)"
   ]
  },
  {
   "cell_type": "code",
   "execution_count": 61,
   "id": "f485caa3",
   "metadata": {},
   "outputs": [
    {
     "data": {
      "text/latex": [
       "$\\displaystyle \\left[\\begin{matrix}6 & 8\\\\10 & 12\\end{matrix}\\right]$"
      ],
      "text/plain": [
       "Matrix([\n",
       "[ 6,  8],\n",
       "[10, 12]])"
      ]
     },
     "metadata": {},
     "output_type": "display_data"
    },
    {
     "data": {
      "text/latex": [
       "$\\displaystyle \\left[\\begin{matrix}5 k & 6 k\\\\7 k & 8 k\\end{matrix}\\right]$"
      ],
      "text/plain": [
       "Matrix([\n",
       "[5*k, 6*k],\n",
       "[7*k, 8*k]])"
      ]
     },
     "metadata": {},
     "output_type": "display_data"
    }
   ],
   "source": [
    "display(A1 + B1)\n",
    "k = sp.Symbol('k')\n",
    "display(k*B1)"
   ]
  },
  {
   "cell_type": "code",
   "execution_count": 51,
   "id": "56ff873c",
   "metadata": {},
   "outputs": [
    {
     "data": {
      "text/latex": [
       "$\\displaystyle \\left[\\begin{matrix}a_{11} b_{11} + a_{12} b_{21} & a_{11} b_{12} + a_{12} b_{22}\\\\a_{21} b_{11} + a_{22} b_{21} & a_{21} b_{12} + a_{22} b_{22}\\end{matrix}\\right]$"
      ],
      "text/plain": [
       "Matrix([\n",
       "[a11*b11 + a12*b21, a11*b12 + a12*b22],\n",
       "[a21*b11 + a22*b21, a21*b12 + a22*b22]])"
      ]
     },
     "metadata": {},
     "output_type": "display_data"
    }
   ],
   "source": [
    "display(A * B)\n",
    "### numpyの場合はdot()関数でやらないと行列の積が求められない"
   ]
  },
  {
   "cell_type": "markdown",
   "id": "8e5e85ff",
   "metadata": {},
   "source": [
    "### 行列式"
   ]
  },
  {
   "cell_type": "code",
   "execution_count": 53,
   "id": "2388e0ec",
   "metadata": {},
   "outputs": [
    {
     "data": {
      "text/latex": [
       "$\\displaystyle \\left[\\begin{matrix}a_{11} & a_{12}\\\\a_{21} & a_{22}\\end{matrix}\\right]$"
      ],
      "text/plain": [
       "Matrix([\n",
       "[a11, a12],\n",
       "[a21, a22]])"
      ]
     },
     "metadata": {},
     "output_type": "display_data"
    },
    {
     "data": {
      "text/latex": [
       "$\\displaystyle a_{11} a_{22} - a_{12} a_{21}$"
      ],
      "text/plain": [
       "a11*a22 - a12*a21"
      ]
     },
     "metadata": {},
     "output_type": "display_data"
    },
    {
     "data": {
      "text/latex": [
       "$\\displaystyle \\left[\\begin{matrix}c_{11} & c_{12} & c_{13}\\\\c_{21} & c_{22} & c_{23}\\\\c_{31} & c_{32} & c_{33}\\end{matrix}\\right]$"
      ],
      "text/plain": [
       "Matrix([\n",
       "[c11, c12, c13],\n",
       "[c21, c22, c23],\n",
       "[c31, c32, c33]])"
      ]
     },
     "metadata": {},
     "output_type": "display_data"
    },
    {
     "data": {
      "text/latex": [
       "$\\displaystyle c_{11} c_{22} c_{33} - c_{11} c_{23} c_{32} - c_{12} c_{21} c_{33} + c_{12} c_{23} c_{31} + c_{13} c_{21} c_{32} - c_{13} c_{22} c_{31}$"
      ],
      "text/plain": [
       "c11*c22*c33 - c11*c23*c32 - c12*c21*c33 + c12*c23*c31 + c13*c21*c32 - c13*c22*c31"
      ]
     },
     "metadata": {},
     "output_type": "display_data"
    }
   ],
   "source": [
    "display(A)\n",
    "display(sp.det(A))\n",
    "display(C)\n",
    "display(sp.det(C))"
   ]
  },
  {
   "cell_type": "markdown",
   "id": "9e621fb8",
   "metadata": {},
   "source": [
    "### 逆行列"
   ]
  },
  {
   "cell_type": "code",
   "execution_count": 65,
   "id": "74f7550d",
   "metadata": {},
   "outputs": [
    {
     "data": {
      "text/latex": [
       "$\\displaystyle \\left[\\begin{matrix}a_{11} & a_{12}\\\\a_{21} & a_{22}\\end{matrix}\\right]$"
      ],
      "text/plain": [
       "Matrix([\n",
       "[a11, a12],\n",
       "[a21, a22]])"
      ]
     },
     "metadata": {},
     "output_type": "display_data"
    },
    {
     "data": {
      "text/latex": [
       "$\\displaystyle \\left[\\begin{matrix}\\frac{a_{22}}{a_{11} a_{22} - a_{12} a_{21}} & - \\frac{a_{12}}{a_{11} a_{22} - a_{12} a_{21}}\\\\- \\frac{a_{21}}{a_{11} a_{22} - a_{12} a_{21}} & \\frac{a_{11}}{a_{11} a_{22} - a_{12} a_{21}}\\end{matrix}\\right]$"
      ],
      "text/plain": [
       "Matrix([\n",
       "[ a22/(a11*a22 - a12*a21), -a12/(a11*a22 - a12*a21)],\n",
       "[-a21/(a11*a22 - a12*a21),  a11/(a11*a22 - a12*a21)]])"
      ]
     },
     "metadata": {},
     "output_type": "display_data"
    }
   ],
   "source": [
    "display(A)\n",
    "display(A.inv())"
   ]
  },
  {
   "cell_type": "markdown",
   "id": "153d9061",
   "metadata": {},
   "source": [
    "### 固有値と固有ベクトル"
   ]
  },
  {
   "cell_type": "code",
   "execution_count": 70,
   "id": "92922d4c",
   "metadata": {},
   "outputs": [
    {
     "data": {
      "text/latex": [
       "$\\displaystyle \\left[\\begin{matrix}3 & 1\\\\2 & 4\\end{matrix}\\right]$"
      ],
      "text/plain": [
       "Matrix([\n",
       "[3, 1],\n",
       "[2, 4]])"
      ]
     },
     "metadata": {},
     "output_type": "display_data"
    },
    {
     "data": {
      "text/plain": [
       "{5: 1, 2: 1}"
      ]
     },
     "metadata": {},
     "output_type": "display_data"
    },
    {
     "name": "stdout",
     "output_type": "stream",
     "text": [
      "--------------------\n"
     ]
    },
    {
     "data": {
      "text/plain": [
       "[(2,\n",
       "  1,\n",
       "  [Matrix([\n",
       "   [-1],\n",
       "   [ 1]])]),\n",
       " (5,\n",
       "  1,\n",
       "  [Matrix([\n",
       "   [1/2],\n",
       "   [  1]])])]"
      ]
     },
     "metadata": {},
     "output_type": "display_data"
    }
   ],
   "source": [
    "display(C1)\n",
    "### 固有値5で重複度1、固有値2で重複度1\n",
    "display(C1.eigenvals())\n",
    "print('--------------------')\n",
    "display(C1.eigenvects())"
   ]
  },
  {
   "cell_type": "code",
   "execution_count": 75,
   "id": "25e1aa88",
   "metadata": {},
   "outputs": [
    {
     "data": {
      "text/latex": [
       "$\\displaystyle \\left[\\begin{matrix}-1\\\\1\\end{matrix}\\right]$"
      ],
      "text/plain": [
       "Matrix([\n",
       "[-1],\n",
       "[ 1]])"
      ]
     },
     "metadata": {},
     "output_type": "display_data"
    },
    {
     "data": {
      "text/latex": [
       "$\\displaystyle \\left[\\begin{matrix}\\frac{1}{2}\\\\1\\end{matrix}\\right]$"
      ],
      "text/plain": [
       "Matrix([\n",
       "[1/2],\n",
       "[  1]])"
      ]
     },
     "metadata": {},
     "output_type": "display_data"
    }
   ],
   "source": [
    "### 固有値2の固有ベクトル\n",
    "display(C1.eigenvects()[0][2][0])\n",
    "### 固有値5の固有ベクトル\n",
    "display(C1.eigenvects()[1][2][0])"
   ]
  },
  {
   "cell_type": "markdown",
   "id": "645b1eaf",
   "metadata": {},
   "source": [
    "## 虚数"
   ]
  },
  {
   "cell_type": "markdown",
   "id": "1ba79388",
   "metadata": {},
   "source": [
    "### 基本"
   ]
  },
  {
   "cell_type": "code",
   "execution_count": 16,
   "id": "9a5f57cc",
   "metadata": {},
   "outputs": [
    {
     "data": {
      "text/latex": [
       "$\\displaystyle i$"
      ],
      "text/plain": [
       "I"
      ]
     },
     "metadata": {},
     "output_type": "display_data"
    },
    {
     "data": {
      "text/latex": [
       "$\\displaystyle -1$"
      ],
      "text/plain": [
       "-1"
      ]
     },
     "metadata": {},
     "output_type": "display_data"
    },
    {
     "name": "stdout",
     "output_type": "stream",
     "text": [
      "-------\n"
     ]
    },
    {
     "data": {
      "text/latex": [
       "$\\displaystyle 3 + 4 i$"
      ],
      "text/plain": [
       "3 + 4*I"
      ]
     },
     "metadata": {},
     "output_type": "display_data"
    },
    {
     "data": {
      "text/latex": [
       "$\\displaystyle 3$"
      ],
      "text/plain": [
       "3"
      ]
     },
     "metadata": {},
     "output_type": "display_data"
    },
    {
     "data": {
      "text/latex": [
       "$\\displaystyle 4$"
      ],
      "text/plain": [
       "4"
      ]
     },
     "metadata": {},
     "output_type": "display_data"
    },
    {
     "data": {
      "text/latex": [
       "$\\displaystyle 3 - 4 i$"
      ],
      "text/plain": [
       "3 - 4*I"
      ]
     },
     "metadata": {},
     "output_type": "display_data"
    },
    {
     "data": {
      "text/latex": [
       "$\\displaystyle 5$"
      ],
      "text/plain": [
       "5"
      ]
     },
     "metadata": {},
     "output_type": "display_data"
    }
   ],
   "source": [
    "display(sp.I)\n",
    "display(sp.I * sp.I)\n",
    "\n",
    "print('-------')\n",
    "\n",
    "z = 3 + 4*sp.I\n",
    "display(z)\n",
    "### 実部\n",
    "display(sp.re(z))\n",
    "### 虚部\n",
    "display(sp.im(z))\n",
    "### 共役複素数\n",
    "display(sp.conjugate(z))\n",
    "### 絶対値\n",
    "display(sp.Abs(z))"
   ]
  },
  {
   "cell_type": "markdown",
   "id": "951f01c4",
   "metadata": {},
   "source": [
    "### 複素数の代数計算"
   ]
  },
  {
   "cell_type": "code",
   "execution_count": 5,
   "id": "300026b7",
   "metadata": {},
   "outputs": [
    {
     "data": {
      "text/latex": [
       "$\\displaystyle z$"
      ],
      "text/plain": [
       "z"
      ]
     },
     "metadata": {},
     "output_type": "display_data"
    },
    {
     "data": {
      "text/latex": [
       "$\\displaystyle \\overline{z}$"
      ],
      "text/plain": [
       "conjugate(z)"
      ]
     },
     "metadata": {},
     "output_type": "display_data"
    },
    {
     "data": {
      "text/latex": [
       "$\\displaystyle \\operatorname{re}{\\left(z\\right)} + i \\operatorname{im}{\\left(z\\right)}$"
      ],
      "text/plain": [
       "re(z) + I*im(z)"
      ]
     },
     "metadata": {},
     "output_type": "display_data"
    },
    {
     "data": {
      "text/latex": [
       "$\\displaystyle \\operatorname{re}{\\left(z\\right)} - i \\operatorname{im}{\\left(z\\right)}$"
      ],
      "text/plain": [
       "re(z) - I*im(z)"
      ]
     },
     "metadata": {},
     "output_type": "display_data"
    },
    {
     "data": {
      "text/latex": [
       "$\\displaystyle i$"
      ],
      "text/plain": [
       "I"
      ]
     },
     "metadata": {},
     "output_type": "display_data"
    },
    {
     "data": {
      "text/latex": [
       "$\\displaystyle - i$"
      ],
      "text/plain": [
       "-I"
      ]
     },
     "metadata": {},
     "output_type": "display_data"
    },
    {
     "data": {
      "text/latex": [
       "$\\displaystyle i z$"
      ],
      "text/plain": [
       "I*z"
      ]
     },
     "metadata": {},
     "output_type": "display_data"
    },
    {
     "data": {
      "text/latex": [
       "$\\displaystyle - i \\overline{z}$"
      ],
      "text/plain": [
       "-I*conjugate(z)"
      ]
     },
     "metadata": {},
     "output_type": "display_data"
    },
    {
     "data": {
      "text/latex": [
       "$\\displaystyle z^{2} + i z$"
      ],
      "text/plain": [
       "z**2 + I*z"
      ]
     },
     "metadata": {},
     "output_type": "display_data"
    },
    {
     "data": {
      "text/latex": [
       "$\\displaystyle \\overline{z}^{2} - i \\overline{z}$"
      ],
      "text/plain": [
       "conjugate(z)**2 - I*conjugate(z)"
      ]
     },
     "metadata": {},
     "output_type": "display_data"
    }
   ],
   "source": [
    "sp.var('z', complex=True)\n",
    "\n",
    "display(z)\n",
    "display(sp.conjugate(z))\n",
    "\n",
    "### 実部と虚部を分けて表示\n",
    "display(sp.expand_complex(z))\n",
    "display(sp.conjugate(sp.expand_complex(z)))\n",
    "\n",
    "### 計算\n",
    "display(sp.I)\n",
    "display(sp.conjugate(sp.I))\n",
    "\n",
    "display(sp.I*z)\n",
    "display(sp.conjugate(sp.I*z))\n",
    "\n",
    "display(z**2+sp.I*z)\n",
    "display(sp.conjugate(z**2+sp.I*z))\n"
   ]
  },
  {
   "cell_type": "markdown",
   "id": "d335cec9",
   "metadata": {},
   "source": [
    "### 基本定理の確認"
   ]
  },
  {
   "cell_type": "code",
   "execution_count": 44,
   "id": "c488c208",
   "metadata": {},
   "outputs": [
    {
     "data": {
      "text/latex": [
       "$\\displaystyle \\overline{\\alpha} + \\overline{\\beta}$"
      ],
      "text/plain": [
       "conjugate(alpha) + conjugate(beta)"
      ]
     },
     "metadata": {},
     "output_type": "display_data"
    },
    {
     "data": {
      "text/latex": [
       "$\\displaystyle \\overline{\\alpha} \\overline{\\beta}$"
      ],
      "text/plain": [
       "conjugate(alpha)*conjugate(beta)"
      ]
     },
     "metadata": {},
     "output_type": "display_data"
    },
    {
     "data": {
      "text/latex": [
       "$\\displaystyle \\frac{\\overline{\\alpha}}{\\overline{\\beta}}$"
      ],
      "text/plain": [
       "conjugate(alpha)/conjugate(beta)"
      ]
     },
     "metadata": {},
     "output_type": "display_data"
    },
    {
     "data": {
      "text/latex": [
       "$\\displaystyle \\alpha$"
      ],
      "text/plain": [
       "alpha"
      ]
     },
     "metadata": {},
     "output_type": "display_data"
    },
    {
     "data": {
      "text/latex": [
       "$\\displaystyle \\operatorname{re}{\\left(\\alpha\\right)}$"
      ],
      "text/plain": [
       "re(alpha)"
      ]
     },
     "metadata": {},
     "output_type": "display_data"
    },
    {
     "data": {
      "text/latex": [
       "$\\displaystyle \\operatorname{im}{\\left(\\alpha\\right)}$"
      ],
      "text/plain": [
       "im(alpha)"
      ]
     },
     "metadata": {},
     "output_type": "display_data"
    }
   ],
   "source": [
    "# https://ictsr4.com/py/m0231.html\n",
    "sp.var('alpha beta',complex=True)\n",
    "display(sp.conjugate(alpha+beta))\n",
    "display(sp.conjugate(alpha*beta))\n",
    "display(sp.conjugate(alpha/beta))\n",
    "display(sp.conjugate(sp.conjugate(alpha)))\n",
    "display(sp.expand_complex((alpha+sp.conjugate(alpha))/2))\n",
    "display(sp.expand_complex((alpha-sp.conjugate(alpha))/(2*sp.I)))"
   ]
  },
  {
   "cell_type": "markdown",
   "id": "45d91cc9",
   "metadata": {},
   "source": [
    "## 色々"
   ]
  },
  {
   "cell_type": "markdown",
   "id": "0110ecc8",
   "metadata": {},
   "source": [
    "### オイラーの公式"
   ]
  },
  {
   "cell_type": "code",
   "execution_count": 31,
   "id": "4c0c6370",
   "metadata": {},
   "outputs": [
    {
     "data": {
      "text/latex": [
       "$\\displaystyle i \\sin{\\left(x \\right)} + \\cos{\\left(x \\right)}$"
      ],
      "text/plain": [
       "I*sin(x) + cos(x)"
      ]
     },
     "metadata": {},
     "output_type": "display_data"
    },
    {
     "data": {
      "text/latex": [
       "$\\displaystyle e^{i x}$"
      ],
      "text/plain": [
       "exp(I*x)"
      ]
     },
     "metadata": {},
     "output_type": "display_data"
    },
    {
     "data": {
      "text/latex": [
       "$\\displaystyle e^{i x} = i \\sin{\\left(x \\right)} + \\cos{\\left(x \\right)}$"
      ],
      "text/plain": [
       "Eq(exp(I*x), I*sin(x) + cos(x))"
      ]
     },
     "execution_count": 31,
     "metadata": {},
     "output_type": "execute_result"
    }
   ],
   "source": [
    "display(sp.cos(x)+sp.sin(x)*sp.I)\n",
    "display((sp.cos(x)+sp.sin(x)*sp.I).simplify())\n",
    "\n",
    "#式の形で表記 (sp.Eq(A, B)   #=> A = B )\n",
    "sp.Eq((sp.cos(x)+sp.sin(x)*sp.I).simplify(), sp.cos(x)+sp.sin(x)*sp.I)"
   ]
  },
  {
   "cell_type": "markdown",
   "id": "6134f43d",
   "metadata": {},
   "source": [
    "## 高階導関数"
   ]
  },
  {
   "cell_type": "code",
   "execution_count": 29,
   "id": "1f0b8540",
   "metadata": {},
   "outputs": [
    {
     "data": {
      "text/latex": [
       "$\\displaystyle \\frac{d^{2}}{d x^{2}} \\sin{\\left(x \\right)} = - \\sin{\\left(x \\right)}$"
      ],
      "text/plain": [
       "Eq(Derivative(sin(x), (x, 2)), -sin(x))"
      ]
     },
     "execution_count": 29,
     "metadata": {},
     "output_type": "execute_result"
    }
   ],
   "source": [
    "sp.diff(sp.sin(x), x, 2)\n",
    "\n",
    "### sin(x)をxで2階微分\n",
    "sp.Eq(sp.Derivative(sp.sin(x), x, 2), \n",
    "   sp.diff(sp.sin(x), x, 2))"
   ]
  },
  {
   "cell_type": "markdown",
   "id": "63b71259",
   "metadata": {},
   "source": [
    "### テイラー展開"
   ]
  },
  {
   "cell_type": "code",
   "execution_count": 47,
   "id": "15acb8ba",
   "metadata": {},
   "outputs": [
    {
     "data": {
      "text/latex": [
       "$\\displaystyle e^{x} = 1 + x + \\frac{x^{2}}{2} + \\frac{x^{3}}{6} + \\frac{x^{4}}{24} + \\frac{x^{5}}{120} + O\\left(x^{6}\\right)$"
      ],
      "text/plain": [
       "Eq(exp(x), 1 + x + x**2/2 + x**3/6 + x**4/24 + x**5/120 + O(x**6))"
      ]
     },
     "metadata": {},
     "output_type": "display_data"
    },
    {
     "data": {
      "text/latex": [
       "$\\displaystyle \\sin{\\left(x \\right)} = x - \\frac{x^{3}}{6} + \\frac{x^{5}}{120} + O\\left(x^{6}\\right)$"
      ],
      "text/plain": [
       "Eq(sin(x), x - x**3/6 + x**5/120 + O(x**6))"
      ]
     },
     "metadata": {},
     "output_type": "display_data"
    },
    {
     "data": {
      "text/latex": [
       "$\\displaystyle \\cos{\\left(x \\right)} = 1 - \\frac{x^{2}}{2} + \\frac{x^{4}}{24} + O\\left(x^{6}\\right)$"
      ],
      "text/plain": [
       "Eq(cos(x), 1 - x**2/2 + x**4/24 + O(x**6))"
      ]
     },
     "metadata": {},
     "output_type": "display_data"
    },
    {
     "name": "stdout",
     "output_type": "stream",
     "text": [
      " オイラーの公式 \n"
     ]
    },
    {
     "data": {
      "text/latex": [
       "$\\displaystyle e^{i x} = 1 + i x - \\frac{x^{2}}{2} - \\frac{i x^{3}}{6} + \\frac{x^{4}}{24} + \\frac{i x^{5}}{120} + O\\left(x^{6}\\right)$"
      ],
      "text/plain": [
       "Eq(exp(I*x), 1 + I*x - x**2/2 - I*x**3/6 + x**4/24 + I*x**5/120 + O(x**6))"
      ]
     },
     "metadata": {},
     "output_type": "display_data"
    },
    {
     "data": {
      "text/latex": [
       "$\\displaystyle i \\sin{\\left(x \\right)} + \\cos{\\left(x \\right)} = 1 + i x - \\frac{x^{2}}{2} - \\frac{i x^{3}}{6} + \\frac{x^{4}}{24} + \\frac{i x^{5}}{120} + O\\left(x^{6}\\right)$"
      ],
      "text/plain": [
       "Eq(I*sin(x) + cos(x), 1 + I*x - x**2/2 - I*x**3/6 + x**4/24 + I*x**5/120 + O(x**6))"
      ]
     },
     "metadata": {},
     "output_type": "display_data"
    }
   ],
   "source": [
    "### \n",
    "#f = sp.exp(x)\n",
    "display(sp.Eq(sp.exp(x), sp.series(sp.exp(x), x, 0, 6)))\n",
    "display(sp.Eq(sp.sin(x), sp.series(sp.sin(x), x, 0, 6)))\n",
    "display(sp.Eq(sp.cos(x), sp.series(sp.cos(x), x, 0, 6)))\n",
    "\n",
    "print(\" オイラーの公式 \")\n",
    "display(sp.Eq(sp.exp(sp.I*x), sp.series(sp.exp(sp.I*x), x, 0, 6)))\n",
    "display(sp.Eq(sp.cos(x)+sp.sin(x)*sp.I, sp.series(sp.cos(x)+sp.sin(x)*sp.I, x, 0, 6)))"
   ]
  },
  {
   "cell_type": "code",
   "execution_count": 68,
   "id": "b581327c",
   "metadata": {},
   "outputs": [
    {
     "data": {
      "text/latex": [
       "$\\displaystyle e^{x} = 1 + x + \\frac{x^{2}}{2} + \\frac{x^{3}}{6} + \\frac{x^{4}}{24} + \\frac{x^{5}}{120} + O\\left(x^{6}\\right)$"
      ],
      "text/plain": [
       "Eq(exp(x), 1 + x + x**2/2 + x**3/6 + x**4/24 + x**5/120 + O(x**6))"
      ]
     },
     "metadata": {},
     "output_type": "display_data"
    },
    {
     "data": {
      "text/latex": [
       "$\\displaystyle e^{x} = e + e \\left(x - 1\\right) + \\frac{e \\left(x - 1\\right)^{2}}{2} + \\frac{e \\left(x - 1\\right)^{3}}{6} + \\frac{e \\left(x - 1\\right)^{4}}{24} + \\frac{e \\left(x - 1\\right)^{5}}{120} + O\\left(\\left(x - 1\\right)^{6}; x\\rightarrow 1\\right)$"
      ],
      "text/plain": [
       "Eq(exp(x), E + E*(x - 1) + E*(x - 1)**2/2 + E*(x - 1)**3/6 + E*(x - 1)**4/24 + E*(x - 1)**5/120 + O((x - 1)**6, (x, 1)))"
      ]
     },
     "metadata": {},
     "output_type": "display_data"
    },
    {
     "data": {
      "text/latex": [
       "$\\displaystyle e^{x} = e^{2} + \\left(x - 2\\right) e^{2} + \\frac{\\left(x - 2\\right)^{2} e^{2}}{2} + \\frac{\\left(x - 2\\right)^{3} e^{2}}{6} + \\frac{\\left(x - 2\\right)^{4} e^{2}}{24} + \\frac{\\left(x - 2\\right)^{5} e^{2}}{120} + O\\left(\\left(x - 2\\right)^{6}; x\\rightarrow 2\\right)$"
      ],
      "text/plain": [
       "Eq(exp(x), exp(2) + (x - 2)*exp(2) + (x - 2)**2*exp(2)/2 + (x - 2)**3*exp(2)/6 + (x - 2)**4*exp(2)/24 + (x - 2)**5*exp(2)/120 + O((x - 2)**6, (x, 2)))"
      ]
     },
     "metadata": {},
     "output_type": "display_data"
    }
   ],
   "source": [
    "#display(sp.Eq(sp.log(x), sp.series(sp.log(x), x, 0, 6)))\n",
    "#sp.series(sp.log(x), x, 0, 6)\n",
    "#sp.series(sp.I*x, x, 0, 6)\n",
    "\n",
    "display(sp.Eq(sp.exp(x), sp.series(sp.exp(x), x, 0, 6)))\n",
    "display(sp.Eq(sp.exp(x), sp.series(sp.exp(x), x, 1, 6)))\n",
    "display(sp.Eq(sp.exp(x), sp.series(sp.exp(x), x, 2, 6)))\n"
   ]
  },
  {
   "cell_type": "code",
   "execution_count": 71,
   "id": "06e230ad",
   "metadata": {},
   "outputs": [
    {
     "data": {
      "text/latex": [
       "$\\displaystyle \\cos{\\left(x \\right)} = 1 - \\frac{x^{2}}{2} + \\frac{x^{4}}{24} + O\\left(x^{6}\\right)$"
      ],
      "text/plain": [
       "Eq(cos(x), 1 - x**2/2 + x**4/24 + O(x**6))"
      ]
     },
     "metadata": {},
     "output_type": "display_data"
    },
    {
     "data": {
      "text/latex": [
       "$\\displaystyle \\cos{\\left(x \\right)} = \\cos{\\left(1 \\right)} - \\left(x - 1\\right) \\sin{\\left(1 \\right)} - \\frac{\\left(x - 1\\right)^{2} \\cos{\\left(1 \\right)}}{2} + \\frac{\\left(x - 1\\right)^{3} \\sin{\\left(1 \\right)}}{6} + \\frac{\\left(x - 1\\right)^{4} \\cos{\\left(1 \\right)}}{24} - \\frac{\\left(x - 1\\right)^{5} \\sin{\\left(1 \\right)}}{120} + O\\left(\\left(x - 1\\right)^{6}; x\\rightarrow 1\\right)$"
      ],
      "text/plain": [
       "Eq(cos(x), cos(1) - (x - 1)*sin(1) - (x - 1)**2*cos(1)/2 + (x - 1)**3*sin(1)/6 + (x - 1)**4*cos(1)/24 - (x - 1)**5*sin(1)/120 + O((x - 1)**6, (x, 1)))"
      ]
     },
     "metadata": {},
     "output_type": "display_data"
    },
    {
     "data": {
      "text/latex": [
       "$\\displaystyle \\cos{\\left(x \\right)} = \\cos{\\left(2 \\right)} - \\left(x - 2\\right) \\sin{\\left(2 \\right)} - \\frac{\\left(x - 2\\right)^{2} \\cos{\\left(2 \\right)}}{2} + \\frac{\\left(x - 2\\right)^{3} \\sin{\\left(2 \\right)}}{6} + \\frac{\\left(x - 2\\right)^{4} \\cos{\\left(2 \\right)}}{24} - \\frac{\\left(x - 2\\right)^{5} \\sin{\\left(2 \\right)}}{120} + O\\left(\\left(x - 2\\right)^{6}; x\\rightarrow 2\\right)$"
      ],
      "text/plain": [
       "Eq(cos(x), cos(2) - (x - 2)*sin(2) - (x - 2)**2*cos(2)/2 + (x - 2)**3*sin(2)/6 + (x - 2)**4*cos(2)/24 - (x - 2)**5*sin(2)/120 + O((x - 2)**6, (x, 2)))"
      ]
     },
     "metadata": {},
     "output_type": "display_data"
    },
    {
     "data": {
      "text/latex": [
       "$\\displaystyle \\cos{\\left(x \\right)} = \\frac{\\pi}{2} + \\frac{\\left(x - \\frac{\\pi}{2}\\right)^{3}}{6} - \\frac{\\left(x - \\frac{\\pi}{2}\\right)^{5}}{120} - x + O\\left(\\left(x - \\frac{\\pi}{2}\\right)^{6}; x\\rightarrow \\frac{\\pi}{2}\\right)$"
      ],
      "text/plain": [
       "Eq(cos(x), pi/2 + (x - pi/2)**3/6 - (x - pi/2)**5/120 - x + O((x - pi/2)**6, (x, pi/2)))"
      ]
     },
     "metadata": {},
     "output_type": "display_data"
    },
    {
     "data": {
      "text/latex": [
       "$\\displaystyle \\cos{\\left(x \\right)} = -1 + \\frac{\\left(x - \\pi\\right)^{2}}{2} - \\frac{\\left(x - \\pi\\right)^{4}}{24} + O\\left(\\left(x - \\pi\\right)^{6}; x\\rightarrow \\pi\\right)$"
      ],
      "text/plain": [
       "Eq(cos(x), -1 + (x - pi)**2/2 - (x - pi)**4/24 + O((x - pi)**6, (x, pi)))"
      ]
     },
     "metadata": {},
     "output_type": "display_data"
    }
   ],
   "source": [
    "display(sp.Eq(sp.cos(x), sp.series(sp.cos(x), x, 0, 6)))\n",
    "display(sp.Eq(sp.cos(x), sp.series(sp.cos(x), x, 1, 6)))\n",
    "display(sp.Eq(sp.cos(x), sp.series(sp.cos(x), x, 2, 6)))\n",
    "display(sp.Eq(sp.cos(x), sp.series(sp.cos(x), x, sp.pi/2, 6)))\n",
    "display(sp.Eq(sp.cos(x), sp.series(sp.cos(x), x, sp.pi, 6)))"
   ]
  },
  {
   "cell_type": "code",
   "execution_count": 72,
   "id": "959ac5e6",
   "metadata": {},
   "outputs": [
    {
     "data": {
      "text/latex": [
       "$\\displaystyle \\sin{\\left(x \\right)} = x - \\frac{x^{3}}{6} + \\frac{x^{5}}{120} + O\\left(x^{6}\\right)$"
      ],
      "text/plain": [
       "Eq(sin(x), x - x**3/6 + x**5/120 + O(x**6))"
      ]
     },
     "metadata": {},
     "output_type": "display_data"
    },
    {
     "data": {
      "text/latex": [
       "$\\displaystyle \\sin{\\left(x \\right)} = \\sin{\\left(1 \\right)} + \\left(x - 1\\right) \\cos{\\left(1 \\right)} - \\frac{\\left(x - 1\\right)^{2} \\sin{\\left(1 \\right)}}{2} - \\frac{\\left(x - 1\\right)^{3} \\cos{\\left(1 \\right)}}{6} + \\frac{\\left(x - 1\\right)^{4} \\sin{\\left(1 \\right)}}{24} + \\frac{\\left(x - 1\\right)^{5} \\cos{\\left(1 \\right)}}{120} + O\\left(\\left(x - 1\\right)^{6}; x\\rightarrow 1\\right)$"
      ],
      "text/plain": [
       "Eq(sin(x), sin(1) + (x - 1)*cos(1) - (x - 1)**2*sin(1)/2 - (x - 1)**3*cos(1)/6 + (x - 1)**4*sin(1)/24 + (x - 1)**5*cos(1)/120 + O((x - 1)**6, (x, 1)))"
      ]
     },
     "metadata": {},
     "output_type": "display_data"
    },
    {
     "data": {
      "text/latex": [
       "$\\displaystyle \\sin{\\left(x \\right)} = \\sin{\\left(2 \\right)} + \\left(x - 2\\right) \\cos{\\left(2 \\right)} - \\frac{\\left(x - 2\\right)^{2} \\sin{\\left(2 \\right)}}{2} - \\frac{\\left(x - 2\\right)^{3} \\cos{\\left(2 \\right)}}{6} + \\frac{\\left(x - 2\\right)^{4} \\sin{\\left(2 \\right)}}{24} + \\frac{\\left(x - 2\\right)^{5} \\cos{\\left(2 \\right)}}{120} + O\\left(\\left(x - 2\\right)^{6}; x\\rightarrow 2\\right)$"
      ],
      "text/plain": [
       "Eq(sin(x), sin(2) + (x - 2)*cos(2) - (x - 2)**2*sin(2)/2 - (x - 2)**3*cos(2)/6 + (x - 2)**4*sin(2)/24 + (x - 2)**5*cos(2)/120 + O((x - 2)**6, (x, 2)))"
      ]
     },
     "metadata": {},
     "output_type": "display_data"
    },
    {
     "data": {
      "text/latex": [
       "$\\displaystyle \\sin{\\left(x \\right)} = 1 - \\frac{\\left(x - \\frac{\\pi}{2}\\right)^{2}}{2} + \\frac{\\left(x - \\frac{\\pi}{2}\\right)^{4}}{24} + O\\left(\\left(x - \\frac{\\pi}{2}\\right)^{6}; x\\rightarrow \\frac{\\pi}{2}\\right)$"
      ],
      "text/plain": [
       "Eq(sin(x), 1 - (x - pi/2)**2/2 + (x - pi/2)**4/24 + O((x - pi/2)**6, (x, pi/2)))"
      ]
     },
     "metadata": {},
     "output_type": "display_data"
    },
    {
     "data": {
      "text/latex": [
       "$\\displaystyle \\sin{\\left(x \\right)} = \\pi + \\frac{\\left(x - \\pi\\right)^{3}}{6} - \\frac{\\left(x - \\pi\\right)^{5}}{120} - x + O\\left(\\left(x - \\pi\\right)^{6}; x\\rightarrow \\pi\\right)$"
      ],
      "text/plain": [
       "Eq(sin(x), pi + (x - pi)**3/6 - (x - pi)**5/120 - x + O((x - pi)**6, (x, pi)))"
      ]
     },
     "metadata": {},
     "output_type": "display_data"
    }
   ],
   "source": [
    "display(sp.Eq(sp.sin(x), sp.series(sp.sin(x), x, 0, 6)))\n",
    "display(sp.Eq(sp.sin(x), sp.series(sp.sin(x), x, 1, 6)))\n",
    "display(sp.Eq(sp.sin(x), sp.series(sp.sin(x), x, 2, 6)))\n",
    "display(sp.Eq(sp.sin(x), sp.series(sp.sin(x), x, sp.pi/2, 6)))\n",
    "display(sp.Eq(sp.sin(x), sp.series(sp.sin(x), x, sp.pi, 6)))"
   ]
  },
  {
   "cell_type": "markdown",
   "id": "bb0b5ffb",
   "metadata": {},
   "source": [
    "### 階乗"
   ]
  },
  {
   "cell_type": "code",
   "execution_count": 76,
   "id": "4b20afa0",
   "metadata": {},
   "outputs": [
    {
     "data": {
      "text/latex": [
       "$\\displaystyle x!$"
      ],
      "text/plain": [
       "factorial(x)"
      ]
     },
     "metadata": {},
     "output_type": "display_data"
    },
    {
     "data": {
      "text/latex": [
       "$\\displaystyle 24$"
      ],
      "text/plain": [
       "24"
      ]
     },
     "metadata": {},
     "output_type": "display_data"
    }
   ],
   "source": [
    "display(sp.factorial(x))\n",
    "display(sp.factorial(4))"
   ]
  },
  {
   "cell_type": "code",
   "execution_count": 80,
   "id": "41df5a2e",
   "metadata": {},
   "outputs": [
    {
     "data": {
      "text/latex": [
       "$\\displaystyle \\frac{9864101}{3628800}$"
      ],
      "text/plain": [
       "9864101/3628800"
      ]
     },
     "execution_count": 80,
     "metadata": {},
     "output_type": "execute_result"
    }
   ],
   "source": [
    "# https://home.hirosaki-u.ac.jp/relativity/%E7%90%86%E5%B7%A5%E7%B3%BB%E3%81%AE%E6%95%B0%E5%AD%A6b/sympy-%E3%81%A7%E7%90%86%E5%B7%A5%E7%B3%BB%E3%81%AE%E6%95%B0%E5%AD%A6b/sympy-%E3%81%A7%E3%83%86%E3%82%A4%E3%83%A9%E3%83%BC%E5%B1%95%E9%96%8B%E3%83%BB%E3%82%AA%E3%82%A4%E3%83%A9%E3%83%BC%E3%81%AE%E5%85%AC%E5%BC%8F/\n",
    "sp.summation(1/sp.factorial(k), (k, 0, 10))"
   ]
  },
  {
   "cell_type": "code",
   "execution_count": 79,
   "id": "5ddde78d",
   "metadata": {},
   "outputs": [
    {
     "data": {
      "text/latex": [
       "$\\displaystyle \\sum_{k=0}^{10} \\frac{1}{k!} = \\frac{9864101}{3628800}$"
      ],
      "text/plain": [
       "Eq(Sum(1/factorial(k), (k, 0, 10)), 9864101/3628800)"
      ]
     },
     "execution_count": 79,
     "metadata": {},
     "output_type": "execute_result"
    }
   ],
   "source": [
    "sp.var('k')\n",
    "\n",
    "sp.Eq(sp.Sum(1/sp.factorial(k), (k, 0, 10)), \n",
    "   sp.Sum(1/sp.factorial(k), (k, 0, 10)).doit())"
   ]
  },
  {
   "cell_type": "code",
   "execution_count": 84,
   "id": "3a84d4eb",
   "metadata": {},
   "outputs": [
    {
     "data": {
      "text/plain": [
       "2.7182818011463845"
      ]
     },
     "execution_count": 84,
     "metadata": {},
     "output_type": "execute_result"
    }
   ],
   "source": [
    "float(sp.summation(1/sp.factorial(k), (k, 0, 10)))"
   ]
  },
  {
   "cell_type": "code",
   "execution_count": 85,
   "id": "a6013bc6",
   "metadata": {},
   "outputs": [
    {
     "data": {
      "text/plain": [
       "2.718281828459045"
      ]
     },
     "execution_count": 85,
     "metadata": {},
     "output_type": "execute_result"
    }
   ],
   "source": [
    "float(sp.E)"
   ]
  },
  {
   "cell_type": "markdown",
   "id": "355ebc84",
   "metadata": {},
   "source": [
    "## 図を描画\n",
    "\n",
    "[SymPy でテイラー展開・オイラーの公式](https://home.hirosaki-u.ac.jp/relativity/%E7%90%86%E5%B7%A5%E7%B3%BB%E3%81%AE%E6%95%B0%E5%AD%A6b/sympy-%E3%81%A7%E7%90%86%E5%B7%A5%E7%B3%BB%E3%81%AE%E6%95%B0%E5%AD%A6b/sympy-%E3%81%A7%E3%83%86%E3%82%A4%E3%83%A9%E3%83%BC%E5%B1%95%E9%96%8B%E3%83%BB%E3%82%AA%E3%82%A4%E3%83%A9%E3%83%BC%E3%81%AE%E5%85%AC%E5%BC%8F)\n"
   ]
  },
  {
   "cell_type": "code",
   "execution_count": 25,
   "id": "8a53368a",
   "metadata": {},
   "outputs": [],
   "source": [
    "# SymPy Plotting Backends (SPB): グラフを描く際に利用\n",
    "from spb import *\n",
    "\n",
    "# グラフを SVG で Notebook にインライン表示\n",
    "%config InlineBackend.figure_formats = ['svg']"
   ]
  },
  {
   "cell_type": "code",
   "execution_count": 26,
   "id": "85979900",
   "metadata": {},
   "outputs": [
    {
     "data": {
      "text/plain": [
       "(x + 1, x**2/2 + x + 1, x**3/6 + x**2/2 + x + 1)"
      ]
     },
     "execution_count": 26,
     "metadata": {},
     "output_type": "execute_result"
    }
   ],
   "source": [
    "expt1 = sp.series(sp.exp(x), x, 0, 2).removeO()\n",
    "expt2 = sp.series(sp.exp(x), x, 0, 3).removeO()\n",
    "expt3 = sp.series(sp.exp(x), x, 0, 4).removeO()\n",
    "expt1, expt2, expt3"
   ]
  },
  {
   "cell_type": "code",
   "execution_count": 28,
   "id": "31b91180",
   "metadata": {},
   "outputs": [
    {
     "data": {
      "image/svg+xml": [
       "<?xml version=\"1.0\" encoding=\"utf-8\" standalone=\"no\"?>\n",
       "<!DOCTYPE svg PUBLIC \"-//W3C//DTD SVG 1.1//EN\"\n",
       "  \"http://www.w3.org/Graphics/SVG/1.1/DTD/svg11.dtd\">\n",
       "<svg height=\"288.95pt\" version=\"1.1\" viewBox=\"0 0 427.3 288.95\" width=\"427.3pt\" xmlns=\"http://www.w3.org/2000/svg\" xmlns:xlink=\"http://www.w3.org/1999/xlink\">\n",
       " <metadata>\n",
       "  <rdf:RDF xmlns:cc=\"http://creativecommons.org/ns#\" xmlns:dc=\"http://purl.org/dc/elements/1.1/\" xmlns:rdf=\"http://www.w3.org/1999/02/22-rdf-syntax-ns#\">\n",
       "   <cc:Work>\n",
       "    <dc:type rdf:resource=\"http://purl.org/dc/dcmitype/StillImage\"/>\n",
       "    <dc:date>2025-05-12T22:02:35.259388</dc:date>\n",
       "    <dc:format>image/svg+xml</dc:format>\n",
       "    <dc:creator>\n",
       "     <cc:Agent>\n",
       "      <dc:title>Matplotlib v3.4.2, https://matplotlib.org/</dc:title>\n",
       "     </cc:Agent>\n",
       "    </dc:creator>\n",
       "   </cc:Work>\n",
       "  </rdf:RDF>\n",
       " </metadata>\n",
       " <defs>\n",
       "  <style type=\"text/css\">*{stroke-linecap:butt;stroke-linejoin:round;}</style>\n",
       " </defs>\n",
       " <g id=\"figure_1\">\n",
       "  <g id=\"patch_1\">\n",
       "   <path d=\"M 0 288.95 \n",
       "L 427.3 288.95 \n",
       "L 427.3 0 \n",
       "L 0 0 \n",
       "z\n",
       "\" style=\"fill:none;\"/>\n",
       "  </g>\n",
       "  <g id=\"axes_1\">\n",
       "   <g id=\"patch_2\">\n",
       "    <path d=\"M 7.2 281.75 \n",
       "L 417.1 281.75 \n",
       "L 417.1 15.85 \n",
       "L 7.2 15.85 \n",
       "z\n",
       "\" style=\"fill:#ffffff;\"/>\n",
       "   </g>\n",
       "   <g id=\"matplotlib.axis_1\">\n",
       "    <g id=\"xtick_1\">\n",
       "     <g id=\"line2d_1\">\n",
       "      <defs>\n",
       "       <path d=\"M 0 0 \n",
       "L 0 3.5 \n",
       "\" id=\"m5402316e3d\" style=\"stroke:#000000;stroke-width:0.8;\"/>\n",
       "      </defs>\n",
       "      <g>\n",
       "       <use style=\"stroke:#000000;stroke-width:0.8;\" x=\"25.831818\" xlink:href=\"#m5402316e3d\" y=\"240.849039\"/>\n",
       "      </g>\n",
       "     </g>\n",
       "     <g id=\"text_1\">\n",
       "      <!-- −2.0 -->\n",
       "      <g transform=\"translate(15.961506 255.006852)scale(0.1 -0.1)\">\n",
       "       <defs>\n",
       "        <path d=\"M 3381 1997 \n",
       "L 356 1997 \n",
       "L 356 2522 \n",
       "L 3381 2522 \n",
       "L 3381 1997 \n",
       "z\n",
       "\" id=\"ArialMT-2212\" transform=\"scale(0.015625)\"/>\n",
       "        <path d=\"M 3222 541 \n",
       "L 3222 0 \n",
       "L 194 0 \n",
       "Q 188 203 259 391 \n",
       "Q 375 700 629 1000 \n",
       "Q 884 1300 1366 1694 \n",
       "Q 2113 2306 2375 2664 \n",
       "Q 2638 3022 2638 3341 \n",
       "Q 2638 3675 2398 3904 \n",
       "Q 2159 4134 1775 4134 \n",
       "Q 1369 4134 1125 3890 \n",
       "Q 881 3647 878 3216 \n",
       "L 300 3275 \n",
       "Q 359 3922 746 4261 \n",
       "Q 1134 4600 1788 4600 \n",
       "Q 2447 4600 2831 4234 \n",
       "Q 3216 3869 3216 3328 \n",
       "Q 3216 3053 3103 2787 \n",
       "Q 2991 2522 2730 2228 \n",
       "Q 2469 1934 1863 1422 \n",
       "Q 1356 997 1212 845 \n",
       "Q 1069 694 975 541 \n",
       "L 3222 541 \n",
       "z\n",
       "\" id=\"ArialMT-32\" transform=\"scale(0.015625)\"/>\n",
       "        <path d=\"M 581 0 \n",
       "L 581 641 \n",
       "L 1222 641 \n",
       "L 1222 0 \n",
       "L 581 0 \n",
       "z\n",
       "\" id=\"ArialMT-2e\" transform=\"scale(0.015625)\"/>\n",
       "        <path d=\"M 266 2259 \n",
       "Q 266 3072 433 3567 \n",
       "Q 600 4063 929 4331 \n",
       "Q 1259 4600 1759 4600 \n",
       "Q 2128 4600 2406 4451 \n",
       "Q 2684 4303 2865 4023 \n",
       "Q 3047 3744 3150 3342 \n",
       "Q 3253 2941 3253 2259 \n",
       "Q 3253 1453 3087 958 \n",
       "Q 2922 463 2592 192 \n",
       "Q 2263 -78 1759 -78 \n",
       "Q 1097 -78 719 397 \n",
       "Q 266 969 266 2259 \n",
       "z\n",
       "M 844 2259 \n",
       "Q 844 1131 1108 757 \n",
       "Q 1372 384 1759 384 \n",
       "Q 2147 384 2411 759 \n",
       "Q 2675 1134 2675 2259 \n",
       "Q 2675 3391 2411 3762 \n",
       "Q 2147 4134 1753 4134 \n",
       "Q 1366 4134 1134 3806 \n",
       "Q 844 3388 844 2259 \n",
       "z\n",
       "\" id=\"ArialMT-30\" transform=\"scale(0.015625)\"/>\n",
       "       </defs>\n",
       "       <use xlink:href=\"#ArialMT-2212\"/>\n",
       "       <use x=\"58.398438\" xlink:href=\"#ArialMT-32\"/>\n",
       "       <use x=\"114.013672\" xlink:href=\"#ArialMT-2e\"/>\n",
       "       <use x=\"141.796875\" xlink:href=\"#ArialMT-30\"/>\n",
       "      </g>\n",
       "     </g>\n",
       "    </g>\n",
       "    <g id=\"xtick_2\">\n",
       "     <g id=\"line2d_2\">\n",
       "      <g>\n",
       "       <use style=\"stroke:#000000;stroke-width:0.8;\" x=\"72.411364\" xlink:href=\"#m5402316e3d\" y=\"240.849039\"/>\n",
       "      </g>\n",
       "     </g>\n",
       "     <g id=\"text_2\">\n",
       "      <!-- −1.5 -->\n",
       "      <g transform=\"translate(62.541051 255.006852)scale(0.1 -0.1)\">\n",
       "       <defs>\n",
       "        <path d=\"M 2384 0 \n",
       "L 1822 0 \n",
       "L 1822 3584 \n",
       "Q 1619 3391 1289 3197 \n",
       "Q 959 3003 697 2906 \n",
       "L 697 3450 \n",
       "Q 1169 3672 1522 3987 \n",
       "Q 1875 4303 2022 4600 \n",
       "L 2384 4600 \n",
       "L 2384 0 \n",
       "z\n",
       "\" id=\"ArialMT-31\" transform=\"scale(0.015625)\"/>\n",
       "        <path d=\"M 266 1200 \n",
       "L 856 1250 \n",
       "Q 922 819 1161 601 \n",
       "Q 1400 384 1738 384 \n",
       "Q 2144 384 2425 690 \n",
       "Q 2706 997 2706 1503 \n",
       "Q 2706 1984 2436 2262 \n",
       "Q 2166 2541 1728 2541 \n",
       "Q 1456 2541 1237 2417 \n",
       "Q 1019 2294 894 2097 \n",
       "L 366 2166 \n",
       "L 809 4519 \n",
       "L 3088 4519 \n",
       "L 3088 3981 \n",
       "L 1259 3981 \n",
       "L 1013 2750 \n",
       "Q 1425 3038 1878 3038 \n",
       "Q 2478 3038 2890 2622 \n",
       "Q 3303 2206 3303 1553 \n",
       "Q 3303 931 2941 478 \n",
       "Q 2500 -78 1738 -78 \n",
       "Q 1113 -78 717 272 \n",
       "Q 322 622 266 1200 \n",
       "z\n",
       "\" id=\"ArialMT-35\" transform=\"scale(0.015625)\"/>\n",
       "       </defs>\n",
       "       <use xlink:href=\"#ArialMT-2212\"/>\n",
       "       <use x=\"58.398438\" xlink:href=\"#ArialMT-31\"/>\n",
       "       <use x=\"114.013672\" xlink:href=\"#ArialMT-2e\"/>\n",
       "       <use x=\"141.796875\" xlink:href=\"#ArialMT-35\"/>\n",
       "      </g>\n",
       "     </g>\n",
       "    </g>\n",
       "    <g id=\"xtick_3\">\n",
       "     <g id=\"line2d_3\">\n",
       "      <g>\n",
       "       <use style=\"stroke:#000000;stroke-width:0.8;\" x=\"118.990909\" xlink:href=\"#m5402316e3d\" y=\"240.849039\"/>\n",
       "      </g>\n",
       "     </g>\n",
       "     <g id=\"text_3\">\n",
       "      <!-- −1.0 -->\n",
       "      <g transform=\"translate(109.120597 255.006852)scale(0.1 -0.1)\">\n",
       "       <use xlink:href=\"#ArialMT-2212\"/>\n",
       "       <use x=\"58.398438\" xlink:href=\"#ArialMT-31\"/>\n",
       "       <use x=\"114.013672\" xlink:href=\"#ArialMT-2e\"/>\n",
       "       <use x=\"141.796875\" xlink:href=\"#ArialMT-30\"/>\n",
       "      </g>\n",
       "     </g>\n",
       "    </g>\n",
       "    <g id=\"xtick_4\">\n",
       "     <g id=\"line2d_4\">\n",
       "      <g>\n",
       "       <use style=\"stroke:#000000;stroke-width:0.8;\" x=\"165.570455\" xlink:href=\"#m5402316e3d\" y=\"240.849039\"/>\n",
       "      </g>\n",
       "     </g>\n",
       "     <g id=\"text_4\">\n",
       "      <!-- −0.5 -->\n",
       "      <g transform=\"translate(155.700142 255.006852)scale(0.1 -0.1)\">\n",
       "       <use xlink:href=\"#ArialMT-2212\"/>\n",
       "       <use x=\"58.398438\" xlink:href=\"#ArialMT-30\"/>\n",
       "       <use x=\"114.013672\" xlink:href=\"#ArialMT-2e\"/>\n",
       "       <use x=\"141.796875\" xlink:href=\"#ArialMT-35\"/>\n",
       "      </g>\n",
       "     </g>\n",
       "    </g>\n",
       "    <g id=\"xtick_5\">\n",
       "     <g id=\"line2d_5\">\n",
       "      <g>\n",
       "       <use style=\"stroke:#000000;stroke-width:0.8;\" x=\"212.15\" xlink:href=\"#m5402316e3d\" y=\"240.849039\"/>\n",
       "      </g>\n",
       "     </g>\n",
       "     <g id=\"text_5\">\n",
       "      <!-- 0.0 -->\n",
       "      <g transform=\"translate(205.2 255.006852)scale(0.1 -0.1)\">\n",
       "       <use xlink:href=\"#ArialMT-30\"/>\n",
       "       <use x=\"55.615234\" xlink:href=\"#ArialMT-2e\"/>\n",
       "       <use x=\"83.398438\" xlink:href=\"#ArialMT-30\"/>\n",
       "      </g>\n",
       "     </g>\n",
       "    </g>\n",
       "    <g id=\"xtick_6\">\n",
       "     <g id=\"line2d_6\">\n",
       "      <g>\n",
       "       <use style=\"stroke:#000000;stroke-width:0.8;\" x=\"258.729545\" xlink:href=\"#m5402316e3d\" y=\"240.849039\"/>\n",
       "      </g>\n",
       "     </g>\n",
       "     <g id=\"text_6\">\n",
       "      <!-- 0.5 -->\n",
       "      <g transform=\"translate(251.779545 255.006852)scale(0.1 -0.1)\">\n",
       "       <use xlink:href=\"#ArialMT-30\"/>\n",
       "       <use x=\"55.615234\" xlink:href=\"#ArialMT-2e\"/>\n",
       "       <use x=\"83.398438\" xlink:href=\"#ArialMT-35\"/>\n",
       "      </g>\n",
       "     </g>\n",
       "    </g>\n",
       "    <g id=\"xtick_7\">\n",
       "     <g id=\"line2d_7\">\n",
       "      <g>\n",
       "       <use style=\"stroke:#000000;stroke-width:0.8;\" x=\"305.309091\" xlink:href=\"#m5402316e3d\" y=\"240.849039\"/>\n",
       "      </g>\n",
       "     </g>\n",
       "     <g id=\"text_7\">\n",
       "      <!-- 1.0 -->\n",
       "      <g transform=\"translate(298.359091 255.006852)scale(0.1 -0.1)\">\n",
       "       <use xlink:href=\"#ArialMT-31\"/>\n",
       "       <use x=\"55.615234\" xlink:href=\"#ArialMT-2e\"/>\n",
       "       <use x=\"83.398438\" xlink:href=\"#ArialMT-30\"/>\n",
       "      </g>\n",
       "     </g>\n",
       "    </g>\n",
       "    <g id=\"xtick_8\">\n",
       "     <g id=\"line2d_8\">\n",
       "      <g>\n",
       "       <use style=\"stroke:#000000;stroke-width:0.8;\" x=\"351.888636\" xlink:href=\"#m5402316e3d\" y=\"240.849039\"/>\n",
       "      </g>\n",
       "     </g>\n",
       "     <g id=\"text_8\">\n",
       "      <!-- 1.5 -->\n",
       "      <g transform=\"translate(344.938636 255.006852)scale(0.1 -0.1)\">\n",
       "       <use xlink:href=\"#ArialMT-31\"/>\n",
       "       <use x=\"55.615234\" xlink:href=\"#ArialMT-2e\"/>\n",
       "       <use x=\"83.398438\" xlink:href=\"#ArialMT-35\"/>\n",
       "      </g>\n",
       "     </g>\n",
       "    </g>\n",
       "    <g id=\"xtick_9\">\n",
       "     <g id=\"line2d_9\">\n",
       "      <g>\n",
       "       <use style=\"stroke:#000000;stroke-width:0.8;\" x=\"398.468182\" xlink:href=\"#m5402316e3d\" y=\"240.849039\"/>\n",
       "      </g>\n",
       "     </g>\n",
       "     <g id=\"text_9\">\n",
       "      <!-- 2.0 -->\n",
       "      <g transform=\"translate(391.518182 255.006852)scale(0.1 -0.1)\">\n",
       "       <use xlink:href=\"#ArialMT-32\"/>\n",
       "       <use x=\"55.615234\" xlink:href=\"#ArialMT-2e\"/>\n",
       "       <use x=\"83.398438\" xlink:href=\"#ArialMT-30\"/>\n",
       "      </g>\n",
       "     </g>\n",
       "    </g>\n",
       "    <g id=\"text_10\">\n",
       "     <!-- $x$ -->\n",
       "     <g transform=\"translate(414.1 268.152164)scale(0.1 -0.1)\">\n",
       "      <defs>\n",
       "       <path d=\"M 3841 3500 \n",
       "L 2234 1784 \n",
       "L 3219 0 \n",
       "L 2559 0 \n",
       "L 1819 1388 \n",
       "L 531 0 \n",
       "L -166 0 \n",
       "L 1556 1844 \n",
       "L 641 3500 \n",
       "L 1300 3500 \n",
       "L 1972 2234 \n",
       "L 3144 3500 \n",
       "L 3841 3500 \n",
       "z\n",
       "\" id=\"DejaVuSans-Oblique-78\" transform=\"scale(0.015625)\"/>\n",
       "      </defs>\n",
       "      <use transform=\"translate(0 0.3125)\" xlink:href=\"#DejaVuSans-Oblique-78\"/>\n",
       "     </g>\n",
       "    </g>\n",
       "   </g>\n",
       "   <g id=\"matplotlib.axis_2\">\n",
       "    <g id=\"ytick_1\">\n",
       "     <g id=\"line2d_10\">\n",
       "      <defs>\n",
       "       <path d=\"M 0 0 \n",
       "L -3.5 0 \n",
       "\" id=\"m319ea4316a\" style=\"stroke:#000000;stroke-width:0.8;\"/>\n",
       "      </defs>\n",
       "      <g>\n",
       "       <use style=\"stroke:#000000;stroke-width:0.8;\" x=\"212.15\" xlink:href=\"#m319ea4316a\" y=\"240.849039\"/>\n",
       "      </g>\n",
       "     </g>\n",
       "     <g id=\"text_11\">\n",
       "      <!-- 0 -->\n",
       "      <g transform=\"translate(199.589063 244.427945)scale(0.1 -0.1)\">\n",
       "       <use xlink:href=\"#ArialMT-30\"/>\n",
       "      </g>\n",
       "     </g>\n",
       "    </g>\n",
       "    <g id=\"ytick_2\">\n",
       "     <g id=\"line2d_11\">\n",
       "      <g>\n",
       "       <use style=\"stroke:#000000;stroke-width:0.8;\" x=\"212.15\" xlink:href=\"#m319ea4316a\" y=\"183.219845\"/>\n",
       "      </g>\n",
       "     </g>\n",
       "     <g id=\"text_12\">\n",
       "      <!-- 2 -->\n",
       "      <g transform=\"translate(199.589063 186.798751)scale(0.1 -0.1)\">\n",
       "       <use xlink:href=\"#ArialMT-32\"/>\n",
       "      </g>\n",
       "     </g>\n",
       "    </g>\n",
       "    <g id=\"ytick_3\">\n",
       "     <g id=\"line2d_12\">\n",
       "      <g>\n",
       "       <use style=\"stroke:#000000;stroke-width:0.8;\" x=\"212.15\" xlink:href=\"#m319ea4316a\" y=\"125.59065\"/>\n",
       "      </g>\n",
       "     </g>\n",
       "     <g id=\"text_13\">\n",
       "      <!-- 4 -->\n",
       "      <g transform=\"translate(199.589063 129.169556)scale(0.1 -0.1)\">\n",
       "       <defs>\n",
       "        <path d=\"M 2069 0 \n",
       "L 2069 1097 \n",
       "L 81 1097 \n",
       "L 81 1613 \n",
       "L 2172 4581 \n",
       "L 2631 4581 \n",
       "L 2631 1613 \n",
       "L 3250 1613 \n",
       "L 3250 1097 \n",
       "L 2631 1097 \n",
       "L 2631 0 \n",
       "L 2069 0 \n",
       "z\n",
       "M 2069 1613 \n",
       "L 2069 3678 \n",
       "L 634 1613 \n",
       "L 2069 1613 \n",
       "z\n",
       "\" id=\"ArialMT-34\" transform=\"scale(0.015625)\"/>\n",
       "       </defs>\n",
       "       <use xlink:href=\"#ArialMT-34\"/>\n",
       "      </g>\n",
       "     </g>\n",
       "    </g>\n",
       "    <g id=\"ytick_4\">\n",
       "     <g id=\"line2d_13\">\n",
       "      <g>\n",
       "       <use style=\"stroke:#000000;stroke-width:0.8;\" x=\"212.15\" xlink:href=\"#m319ea4316a\" y=\"67.961456\"/>\n",
       "      </g>\n",
       "     </g>\n",
       "     <g id=\"text_14\">\n",
       "      <!-- 6 -->\n",
       "      <g transform=\"translate(199.589063 71.540362)scale(0.1 -0.1)\">\n",
       "       <defs>\n",
       "        <path d=\"M 3184 3459 \n",
       "L 2625 3416 \n",
       "Q 2550 3747 2413 3897 \n",
       "Q 2184 4138 1850 4138 \n",
       "Q 1581 4138 1378 3988 \n",
       "Q 1113 3794 959 3422 \n",
       "Q 806 3050 800 2363 \n",
       "Q 1003 2672 1297 2822 \n",
       "Q 1591 2972 1913 2972 \n",
       "Q 2475 2972 2870 2558 \n",
       "Q 3266 2144 3266 1488 \n",
       "Q 3266 1056 3080 686 \n",
       "Q 2894 316 2569 119 \n",
       "Q 2244 -78 1831 -78 \n",
       "Q 1128 -78 684 439 \n",
       "Q 241 956 241 2144 \n",
       "Q 241 3472 731 4075 \n",
       "Q 1159 4600 1884 4600 \n",
       "Q 2425 4600 2770 4297 \n",
       "Q 3116 3994 3184 3459 \n",
       "z\n",
       "M 888 1484 \n",
       "Q 888 1194 1011 928 \n",
       "Q 1134 663 1356 523 \n",
       "Q 1578 384 1822 384 \n",
       "Q 2178 384 2434 671 \n",
       "Q 2691 959 2691 1453 \n",
       "Q 2691 1928 2437 2201 \n",
       "Q 2184 2475 1800 2475 \n",
       "Q 1419 2475 1153 2201 \n",
       "Q 888 1928 888 1484 \n",
       "z\n",
       "\" id=\"ArialMT-36\" transform=\"scale(0.015625)\"/>\n",
       "       </defs>\n",
       "       <use xlink:href=\"#ArialMT-36\"/>\n",
       "      </g>\n",
       "     </g>\n",
       "    </g>\n",
       "    <g id=\"text_15\">\n",
       "     <!-- $f{\\left(x \\right)}$ -->\n",
       "     <g transform=\"translate(193.601563 24.5)rotate(-90)scale(0.1 -0.1)\">\n",
       "      <defs>\n",
       "       <path d=\"M 3059 4863 \n",
       "L 2969 4384 \n",
       "L 2419 4384 \n",
       "Q 2106 4384 1964 4261 \n",
       "Q 1822 4138 1753 3809 \n",
       "L 1691 3500 \n",
       "L 2638 3500 \n",
       "L 2553 3053 \n",
       "L 1606 3053 \n",
       "L 1013 0 \n",
       "L 434 0 \n",
       "L 1031 3053 \n",
       "L 481 3053 \n",
       "L 563 3500 \n",
       "L 1113 3500 \n",
       "L 1159 3744 \n",
       "Q 1278 4363 1576 4613 \n",
       "Q 1875 4863 2516 4863 \n",
       "L 3059 4863 \n",
       "z\n",
       "\" id=\"DejaVuSans-Oblique-66\" transform=\"scale(0.015625)\"/>\n",
       "       <path d=\"M 1984 4856 \n",
       "Q 1566 4138 1362 3434 \n",
       "Q 1159 2731 1159 2009 \n",
       "Q 1159 1288 1364 580 \n",
       "Q 1569 -128 1984 -844 \n",
       "L 1484 -844 \n",
       "Q 1016 -109 783 600 \n",
       "Q 550 1309 550 2009 \n",
       "Q 550 2706 781 3412 \n",
       "Q 1013 4119 1484 4856 \n",
       "L 1984 4856 \n",
       "z\n",
       "\" id=\"DejaVuSans-28\" transform=\"scale(0.015625)\"/>\n",
       "       <path d=\"M 513 4856 \n",
       "L 1013 4856 \n",
       "Q 1481 4119 1714 3412 \n",
       "Q 1947 2706 1947 2009 \n",
       "Q 1947 1309 1714 600 \n",
       "Q 1481 -109 1013 -844 \n",
       "L 513 -844 \n",
       "Q 928 -128 1133 580 \n",
       "Q 1338 1288 1338 2009 \n",
       "Q 1338 2731 1133 3434 \n",
       "Q 928 4138 513 4856 \n",
       "z\n",
       "\" id=\"DejaVuSans-29\" transform=\"scale(0.015625)\"/>\n",
       "      </defs>\n",
       "      <use transform=\"translate(0 0.015625)\" xlink:href=\"#DejaVuSans-Oblique-66\"/>\n",
       "      <use transform=\"translate(35.205078 0.015625)\" xlink:href=\"#DejaVuSans-28\"/>\n",
       "      <use transform=\"translate(74.21875 0.015625)\" xlink:href=\"#DejaVuSans-Oblique-78\"/>\n",
       "      <use transform=\"translate(133.398438 0.015625)\" xlink:href=\"#DejaVuSans-29\"/>\n",
       "     </g>\n",
       "    </g>\n",
       "   </g>\n",
       "   <g id=\"line2d_14\">\n",
       "    <path clip-path=\"url(#pd5b36f62fc)\" d=\"M 25.831818 236.949407 \n",
       "L 30.918444 236.730561 \n",
       "L 36.792453 236.462515 \n",
       "L 41.57758 236.231314 \n",
       "L 47.313836 235.938042 \n",
       "L 51.869467 235.691917 \n",
       "L 56.835374 235.409554 \n",
       "L 61.748323 235.114992 \n",
       "L 67.232135 234.767325 \n",
       "L 74.725022 234.257956 \n",
       "L 81.09489 233.791518 \n",
       "L 86.530931 233.367443 \n",
       "L 92.986849 232.830582 \n",
       "L 98.930011 232.302368 \n",
       "L 103.99057 231.825257 \n",
       "L 109.729946 231.251834 \n",
       "L 115.010117 230.692162 \n",
       "L 122.326569 229.862309 \n",
       "L 128.516369 229.107517 \n",
       "L 134.913032 228.272975 \n",
       "L 141.053905 227.416051 \n",
       "L 146.930077 226.541448 \n",
       "L 152.264972 225.698188 \n",
       "L 158.649328 224.623468 \n",
       "L 165.419671 223.400367 \n",
       "L 171.314664 222.260554 \n",
       "L 176.791137 221.135048 \n",
       "L 183.069997 219.760539 \n",
       "L 188.88334 218.40264 \n",
       "L 193.926692 217.153965 \n",
       "L 198.481559 215.966642 \n",
       "L 203.683543 214.537689 \n",
       "L 208.981544 212.997983 \n",
       "L 214.975364 211.147155 \n",
       "L 219.959582 209.514759 \n",
       "L 225.188977 207.705535 \n",
       "L 231.490481 205.386067 \n",
       "L 237.822883 202.891688 \n",
       "L 243.75217 200.397282 \n",
       "L 250.190718 197.502644 \n",
       "L 257.725799 193.85092 \n",
       "L 264.06209 190.543088 \n",
       "L 270.344405 187.033633 \n",
       "L 276.271443 183.498483 \n",
       "L 282.611476 179.459557 \n",
       "L 288.178684 175.679072 \n",
       "L 293.116817 172.131376 \n",
       "L 298.299932 168.199757 \n",
       "L 303.737818 163.832857 \n",
       "L 309.821833 158.635225 \n",
       "L 316.602476 152.428085 \n",
       "L 323.859288 145.26499 \n",
       "L 330.53306 138.166262 \n",
       "L 336.990545 130.79614 \n",
       "L 343.106264 123.328953 \n",
       "L 348.521027 116.295819 \n",
       "L 354.71867 107.727757 \n",
       "L 360.729226 98.855739 \n",
       "L 366.713981 89.434377 \n",
       "L 372.246371 80.170028 \n",
       "L 378.664033 68.71079 \n",
       "L 383.271021 59.98405 \n",
       "L 388.747315 49.033311 \n",
       "L 393.481294 39.03408 \n",
       "L 398.468182 27.936364 \n",
       "\" style=\"fill:none;stroke:#1f77b4;stroke-linecap:square;stroke-width:1.5;\"/>\n",
       "   </g>\n",
       "   <g id=\"line2d_15\">\n",
       "    <path clip-path=\"url(#pd5b36f62fc)\" d=\"M 25.831818 250.453905 \n",
       "L 30.710932 248.983599 \n",
       "L 35.095059 247.726463 \n",
       "L 39.402254 246.54737 \n",
       "L 44.651441 245.181272 \n",
       "L 50.380263 243.773483 \n",
       "L 55.247165 242.640814 \n",
       "L 60.754651 241.423748 \n",
       "L 66.802567 240.159556 \n",
       "L 71.793271 239.167932 \n",
       "L 77.193811 238.141939 \n",
       "L 82.099143 237.247828 \n",
       "L 86.642435 236.44802 \n",
       "L 91.607515 235.601056 \n",
       "L 96.957209 234.715283 \n",
       "L 102.518718 233.818189 \n",
       "L 108.521304 232.870142 \n",
       "L 113.865101 232.037693 \n",
       "L 118.51344 231.318016 \n",
       "L 122.699701 230.670296 \n",
       "L 127.72383 229.889648 \n",
       "L 132.889963 229.078699 \n",
       "L 137.660854 228.318161 \n",
       "L 143.179583 227.419265 \n",
       "L 149.145395 226.417833 \n",
       "L 154.463168 225.493169 \n",
       "L 160.153352 224.464018 \n",
       "L 166.3116 223.296486 \n",
       "L 172.538497 222.050876 \n",
       "L 178.107132 220.874521 \n",
       "L 182.778662 219.837538 \n",
       "L 188.37105 218.530583 \n",
       "L 193.735882 217.20421 \n",
       "L 199.270051 215.755572 \n",
       "L 205.847391 213.919416 \n",
       "L 211.963344 212.092118 \n",
       "L 217.9718 210.17629 \n",
       "L 225.495862 207.596695 \n",
       "L 231.667256 205.321123 \n",
       "L 238.905118 202.456825 \n",
       "L 246.071013 199.400492 \n",
       "L 253.407137 196.030524 \n",
       "L 260.834593 192.355884 \n",
       "L 268.53435 188.251927 \n",
       "L 276.348865 183.763644 \n",
       "L 283.0164 179.664025 \n",
       "L 290.692539 174.621768 \n",
       "L 296.982397 170.222067 \n",
       "L 303.09722 165.704292 \n",
       "L 309.332034 160.845198 \n",
       "L 315.281883 155.962415 \n",
       "L 321.041927 150.99954 \n",
       "L 326.566037 146.015595 \n",
       "L 331.313324 141.55237 \n",
       "L 336.347112 136.633417 \n",
       "L 342.421841 130.435478 \n",
       "L 348.082693 124.395468 \n",
       "L 354.176032 117.601427 \n",
       "L 360.795748 109.867515 \n",
       "L 367.399653 101.775795 \n",
       "L 373.856354 93.491223 \n",
       "L 380.455828 84.632058 \n",
       "L 385.957405 76.936957 \n",
       "L 391.857106 68.36484 \n",
       "L 398.468182 58.35659 \n",
       "\" style=\"fill:none;stroke:#ff7f0e;stroke-linecap:square;stroke-width:1.5;\"/>\n",
       "   </g>\n",
       "   <g id=\"line2d_16\">\n",
       "    <path clip-path=\"url(#pd5b36f62fc)\" d=\"M 25.831818 212.034442 \n",
       "L 31.234118 213.656952 \n",
       "L 37.234111 215.345399 \n",
       "L 42.875381 216.823877 \n",
       "L 48.918145 218.290371 \n",
       "L 55.419364 219.732743 \n",
       "L 61.033611 220.865412 \n",
       "L 67.967441 222.119867 \n",
       "L 74.481524 223.152957 \n",
       "L 80.832442 224.024533 \n",
       "L 86.131003 224.649218 \n",
       "L 92.944946 225.315547 \n",
       "L 99.762399 225.827945 \n",
       "L 105.914914 226.157895 \n",
       "L 112.369929 226.368966 \n",
       "L 118.527448 226.441384 \n",
       "L 125.892742 226.362662 \n",
       "L 131.327703 226.18908 \n",
       "L 136.608386 225.926489 \n",
       "L 143.093603 225.477327 \n",
       "L 148.687741 224.977703 \n",
       "L 153.382996 224.478158 \n",
       "L 158.524147 223.847222 \n",
       "L 163.850453 223.101007 \n",
       "L 169.364574 222.229248 \n",
       "L 175.230363 221.191076 \n",
       "L 181.233983 220.010213 \n",
       "L 186.355104 218.908353 \n",
       "L 192.138041 217.559415 \n",
       "L 196.658902 216.427541 \n",
       "L 201.261728 215.20543 \n",
       "L 206.222151 213.809622 \n",
       "L 212.197066 212.01988 \n",
       "L 217.865307 210.212441 \n",
       "L 222.900991 208.517224 \n",
       "L 228.360837 206.584087 \n",
       "L 234.682446 204.222191 \n",
       "L 241.588079 201.490453 \n",
       "L 247.374454 199.079554 \n",
       "L 253.091772 196.588243 \n",
       "L 258.249396 194.247705 \n",
       "L 264.490524 191.29737 \n",
       "L 270.544273 188.312054 \n",
       "L 275.834453 185.603656 \n",
       "L 281.765565 182.456634 \n",
       "L 286.909116 179.632925 \n",
       "L 291.681613 176.934355 \n",
       "L 296.848212 173.927695 \n",
       "L 301.520844 171.132172 \n",
       "L 306.356754 168.162629 \n",
       "L 312.25644 164.434718 \n",
       "L 319.249037 159.866556 \n",
       "L 325.256385 155.812399 \n",
       "L 332.978406 150.425065 \n",
       "L 339.569325 145.670249 \n",
       "L 346.071608 140.838044 \n",
       "L 353.393441 135.228755 \n",
       "L 358.72526 131.032023 \n",
       "L 364.65379 126.25479 \n",
       "L 371.198931 120.845157 \n",
       "L 378.023601 115.053015 \n",
       "L 383.1776 110.576293 \n",
       "L 388.369129 105.977809 \n",
       "L 393.422432 101.415819 \n",
       "L 398.468182 96.776053 \n",
       "\" style=\"fill:none;stroke:#2ca02c;stroke-linecap:square;stroke-width:1.5;\"/>\n",
       "   </g>\n",
       "   <g id=\"line2d_17\">\n",
       "    <path clip-path=\"url(#pd5b36f62fc)\" d=\"M 25.831818 269.663636 \n",
       "L 32.676381 267.546577 \n",
       "L 38.929493 265.612456 \n",
       "L 46.433057 263.291565 \n",
       "L 53.552986 261.089333 \n",
       "L 61.008938 258.783168 \n",
       "L 70.084228 255.976133 \n",
       "L 77.471594 253.691182 \n",
       "L 84.672564 251.463884 \n",
       "L 90.950828 249.521984 \n",
       "L 96.670001 247.753014 \n",
       "L 104.331048 245.383411 \n",
       "L 110.933462 243.34125 \n",
       "L 117.180526 241.409 \n",
       "L 123.839871 239.34923 \n",
       "L 129.910411 237.47158 \n",
       "L 136.573167 235.410754 \n",
       "L 142.913051 233.449795 \n",
       "L 149.022395 231.560143 \n",
       "L 154.958146 229.724183 \n",
       "L 160.510896 228.006689 \n",
       "L 167.640118 225.801583 \n",
       "L 173.982259 223.839925 \n",
       "L 179.88729 222.013468 \n",
       "L 186.954445 219.82756 \n",
       "L 191.860734 218.310019 \n",
       "L 197.670159 216.513133 \n",
       "L 203.614035 214.674661 \n",
       "L 208.994128 213.01057 \n",
       "L 214.237356 211.388812 \n",
       "L 218.686501 210.012668 \n",
       "L 224.176746 208.314506 \n",
       "L 228.896029 206.854807 \n",
       "L 234.2247 205.206621 \n",
       "L 238.753471 203.805848 \n",
       "L 244.330646 202.080799 \n",
       "L 250.15589 200.27902 \n",
       "L 254.986797 198.784795 \n",
       "L 259.767239 197.306179 \n",
       "L 264.143494 195.95258 \n",
       "L 268.295736 194.66827 \n",
       "L 273.619725 193.021532 \n",
       "L 278.790377 191.422222 \n",
       "L 284.914933 189.527865 \n",
       "L 290.790371 187.710561 \n",
       "L 296.057722 186.081342 \n",
       "L 300.682445 184.65089 \n",
       "L 305.700933 183.098646 \n",
       "L 310.309419 181.673217 \n",
       "L 317.045054 179.589849 \n",
       "L 323.041401 177.735148 \n",
       "L 328.614 176.011514 \n",
       "L 333.964377 174.356614 \n",
       "L 340.602033 172.303552 \n",
       "L 346.921326 170.348961 \n",
       "L 352.316439 168.680224 \n",
       "L 358.267637 166.839488 \n",
       "L 363.670326 165.168407 \n",
       "L 368.286131 163.740715 \n",
       "L 372.554241 162.420566 \n",
       "L 377.410104 160.918622 \n",
       "L 382.236334 159.425843 \n",
       "L 387.598107 157.767419 \n",
       "L 392.928532 156.11869 \n",
       "L 398.468182 154.405247 \n",
       "\" style=\"fill:none;stroke:#d62728;stroke-linecap:square;stroke-width:1.5;\"/>\n",
       "   </g>\n",
       "   <g id=\"patch_3\">\n",
       "    <path d=\"M 212.15 281.75 \n",
       "L 212.15 15.85 \n",
       "\" style=\"fill:none;stroke:#000000;stroke-linecap:square;stroke-linejoin:miter;stroke-width:0.8;\"/>\n",
       "   </g>\n",
       "   <g id=\"patch_4\">\n",
       "    <path d=\"M 417.1 281.75 \n",
       "L 417.1 15.85 \n",
       "\" style=\"fill:none;\"/>\n",
       "   </g>\n",
       "   <g id=\"patch_5\">\n",
       "    <path d=\"M 7.2 240.849039 \n",
       "L 417.1 240.849039 \n",
       "\" style=\"fill:none;stroke:#000000;stroke-linecap:square;stroke-linejoin:miter;stroke-width:0.8;\"/>\n",
       "   </g>\n",
       "   <g id=\"patch_6\">\n",
       "    <path d=\"M 7.2 15.85 \n",
       "L 417.1 15.85 \n",
       "\" style=\"fill:none;\"/>\n",
       "   </g>\n",
       "  </g>\n",
       " </g>\n",
       " <defs>\n",
       "  <clipPath id=\"pd5b36f62fc\">\n",
       "   <rect height=\"265.9\" width=\"409.9\" x=\"7.2\" y=\"15.85\"/>\n",
       "  </clipPath>\n",
       " </defs>\n",
       "</svg>\n"
      ],
      "text/plain": [
       "<Figure size 432x288 with 1 Axes>"
      ]
     },
     "metadata": {
      "needs_background": "light"
     },
     "output_type": "display_data"
    }
   ],
   "source": [
    "sp.plot(sp.exp(x), expt3, expt2, expt1, (x, -2, 2));"
   ]
  },
  {
   "cell_type": "code",
   "execution_count": 29,
   "id": "441cd54d",
   "metadata": {},
   "outputs": [
    {
     "data": {
      "text/plain": [
       "(E*(x - 1) + E,\n",
       " E*(x - 1)**2/2 + E*(x - 1) + E,\n",
       " E*(x - 1)**3/6 + E*(x - 1)**2/2 + E*(x - 1) + E)"
      ]
     },
     "execution_count": 29,
     "metadata": {},
     "output_type": "execute_result"
    }
   ],
   "source": [
    "expt1 = sp.series(sp.exp(x), x, 1, 2).removeO()\n",
    "expt2 = sp.series(sp.exp(x), x, 1, 3).removeO()\n",
    "expt3 = sp.series(sp.exp(x), x, 1, 4).removeO()\n",
    "expt1, expt2, expt3"
   ]
  },
  {
   "cell_type": "code",
   "execution_count": 30,
   "id": "3c0f822b",
   "metadata": {},
   "outputs": [
    {
     "data": {
      "image/svg+xml": [
       "<?xml version=\"1.0\" encoding=\"utf-8\" standalone=\"no\"?>\n",
       "<!DOCTYPE svg PUBLIC \"-//W3C//DTD SVG 1.1//EN\"\n",
       "  \"http://www.w3.org/Graphics/SVG/1.1/DTD/svg11.dtd\">\n",
       "<svg height=\"284.899942pt\" version=\"1.1\" viewBox=\"0 0 427.3 284.899942\" width=\"427.3pt\" xmlns=\"http://www.w3.org/2000/svg\" xmlns:xlink=\"http://www.w3.org/1999/xlink\">\n",
       " <metadata>\n",
       "  <rdf:RDF xmlns:cc=\"http://creativecommons.org/ns#\" xmlns:dc=\"http://purl.org/dc/elements/1.1/\" xmlns:rdf=\"http://www.w3.org/1999/02/22-rdf-syntax-ns#\">\n",
       "   <cc:Work>\n",
       "    <dc:type rdf:resource=\"http://purl.org/dc/dcmitype/StillImage\"/>\n",
       "    <dc:date>2025-05-12T22:02:45.982000</dc:date>\n",
       "    <dc:format>image/svg+xml</dc:format>\n",
       "    <dc:creator>\n",
       "     <cc:Agent>\n",
       "      <dc:title>Matplotlib v3.4.2, https://matplotlib.org/</dc:title>\n",
       "     </cc:Agent>\n",
       "    </dc:creator>\n",
       "   </cc:Work>\n",
       "  </rdf:RDF>\n",
       " </metadata>\n",
       " <defs>\n",
       "  <style type=\"text/css\">*{stroke-linecap:butt;stroke-linejoin:round;}</style>\n",
       " </defs>\n",
       " <g id=\"figure_1\">\n",
       "  <g id=\"patch_1\">\n",
       "   <path d=\"M 0 284.899942 \n",
       "L 427.3 284.899942 \n",
       "L 427.3 0 \n",
       "L 0 0 \n",
       "z\n",
       "\" style=\"fill:none;\"/>\n",
       "  </g>\n",
       "  <g id=\"axes_1\">\n",
       "   <g id=\"patch_2\">\n",
       "    <path d=\"M 7.2 271.008438 \n",
       "L 417.1 271.008438 \n",
       "L 417.1 15.85 \n",
       "L 7.2 15.85 \n",
       "z\n",
       "\" style=\"fill:#ffffff;\"/>\n",
       "   </g>\n",
       "   <g id=\"matplotlib.axis_1\">\n",
       "    <g id=\"xtick_1\">\n",
       "     <g id=\"line2d_1\">\n",
       "      <defs>\n",
       "       <path d=\"M 0 0 \n",
       "L 0 3.5 \n",
       "\" id=\"mfd1f5d6488\" style=\"stroke:#000000;stroke-width:0.8;\"/>\n",
       "      </defs>\n",
       "      <g>\n",
       "       <use style=\"stroke:#000000;stroke-width:0.8;\" x=\"25.831818\" xlink:href=\"#mfd1f5d6488\" y=\"248.409317\"/>\n",
       "      </g>\n",
       "     </g>\n",
       "     <g id=\"text_1\">\n",
       "      <!-- −1 -->\n",
       "      <g transform=\"translate(20.131037 262.567129)scale(0.1 -0.1)\">\n",
       "       <defs>\n",
       "        <path d=\"M 3381 1997 \n",
       "L 356 1997 \n",
       "L 356 2522 \n",
       "L 3381 2522 \n",
       "L 3381 1997 \n",
       "z\n",
       "\" id=\"ArialMT-2212\" transform=\"scale(0.015625)\"/>\n",
       "        <path d=\"M 2384 0 \n",
       "L 1822 0 \n",
       "L 1822 3584 \n",
       "Q 1619 3391 1289 3197 \n",
       "Q 959 3003 697 2906 \n",
       "L 697 3450 \n",
       "Q 1169 3672 1522 3987 \n",
       "Q 1875 4303 2022 4600 \n",
       "L 2384 4600 \n",
       "L 2384 0 \n",
       "z\n",
       "\" id=\"ArialMT-31\" transform=\"scale(0.015625)\"/>\n",
       "       </defs>\n",
       "       <use xlink:href=\"#ArialMT-2212\"/>\n",
       "       <use x=\"58.398438\" xlink:href=\"#ArialMT-31\"/>\n",
       "      </g>\n",
       "     </g>\n",
       "    </g>\n",
       "    <g id=\"xtick_2\">\n",
       "     <g id=\"line2d_2\">\n",
       "      <g>\n",
       "       <use style=\"stroke:#000000;stroke-width:0.8;\" x=\"100.359091\" xlink:href=\"#mfd1f5d6488\" y=\"248.409317\"/>\n",
       "      </g>\n",
       "     </g>\n",
       "     <g id=\"text_2\">\n",
       "      <!-- 0 -->\n",
       "      <g transform=\"translate(97.578622 262.567129)scale(0.1 -0.1)\">\n",
       "       <defs>\n",
       "        <path d=\"M 266 2259 \n",
       "Q 266 3072 433 3567 \n",
       "Q 600 4063 929 4331 \n",
       "Q 1259 4600 1759 4600 \n",
       "Q 2128 4600 2406 4451 \n",
       "Q 2684 4303 2865 4023 \n",
       "Q 3047 3744 3150 3342 \n",
       "Q 3253 2941 3253 2259 \n",
       "Q 3253 1453 3087 958 \n",
       "Q 2922 463 2592 192 \n",
       "Q 2263 -78 1759 -78 \n",
       "Q 1097 -78 719 397 \n",
       "Q 266 969 266 2259 \n",
       "z\n",
       "M 844 2259 \n",
       "Q 844 1131 1108 757 \n",
       "Q 1372 384 1759 384 \n",
       "Q 2147 384 2411 759 \n",
       "Q 2675 1134 2675 2259 \n",
       "Q 2675 3391 2411 3762 \n",
       "Q 2147 4134 1753 4134 \n",
       "Q 1366 4134 1134 3806 \n",
       "Q 844 3388 844 2259 \n",
       "z\n",
       "\" id=\"ArialMT-30\" transform=\"scale(0.015625)\"/>\n",
       "       </defs>\n",
       "       <use xlink:href=\"#ArialMT-30\"/>\n",
       "      </g>\n",
       "     </g>\n",
       "    </g>\n",
       "    <g id=\"xtick_3\">\n",
       "     <g id=\"line2d_3\">\n",
       "      <g>\n",
       "       <use style=\"stroke:#000000;stroke-width:0.8;\" x=\"174.886364\" xlink:href=\"#mfd1f5d6488\" y=\"248.409317\"/>\n",
       "      </g>\n",
       "     </g>\n",
       "     <g id=\"text_3\">\n",
       "      <!-- 1 -->\n",
       "      <g transform=\"translate(172.105895 262.567129)scale(0.1 -0.1)\">\n",
       "       <use xlink:href=\"#ArialMT-31\"/>\n",
       "      </g>\n",
       "     </g>\n",
       "    </g>\n",
       "    <g id=\"xtick_4\">\n",
       "     <g id=\"line2d_4\">\n",
       "      <g>\n",
       "       <use style=\"stroke:#000000;stroke-width:0.8;\" x=\"249.413636\" xlink:href=\"#mfd1f5d6488\" y=\"248.409317\"/>\n",
       "      </g>\n",
       "     </g>\n",
       "     <g id=\"text_4\">\n",
       "      <!-- 2 -->\n",
       "      <g transform=\"translate(246.633168 262.567129)scale(0.1 -0.1)\">\n",
       "       <defs>\n",
       "        <path d=\"M 3222 541 \n",
       "L 3222 0 \n",
       "L 194 0 \n",
       "Q 188 203 259 391 \n",
       "Q 375 700 629 1000 \n",
       "Q 884 1300 1366 1694 \n",
       "Q 2113 2306 2375 2664 \n",
       "Q 2638 3022 2638 3341 \n",
       "Q 2638 3675 2398 3904 \n",
       "Q 2159 4134 1775 4134 \n",
       "Q 1369 4134 1125 3890 \n",
       "Q 881 3647 878 3216 \n",
       "L 300 3275 \n",
       "Q 359 3922 746 4261 \n",
       "Q 1134 4600 1788 4600 \n",
       "Q 2447 4600 2831 4234 \n",
       "Q 3216 3869 3216 3328 \n",
       "Q 3216 3053 3103 2787 \n",
       "Q 2991 2522 2730 2228 \n",
       "Q 2469 1934 1863 1422 \n",
       "Q 1356 997 1212 845 \n",
       "Q 1069 694 975 541 \n",
       "L 3222 541 \n",
       "z\n",
       "\" id=\"ArialMT-32\" transform=\"scale(0.015625)\"/>\n",
       "       </defs>\n",
       "       <use xlink:href=\"#ArialMT-32\"/>\n",
       "      </g>\n",
       "     </g>\n",
       "    </g>\n",
       "    <g id=\"xtick_5\">\n",
       "     <g id=\"line2d_5\">\n",
       "      <g>\n",
       "       <use style=\"stroke:#000000;stroke-width:0.8;\" x=\"323.940909\" xlink:href=\"#mfd1f5d6488\" y=\"248.409317\"/>\n",
       "      </g>\n",
       "     </g>\n",
       "     <g id=\"text_5\">\n",
       "      <!-- 3 -->\n",
       "      <g transform=\"translate(321.16044 262.567129)scale(0.1 -0.1)\">\n",
       "       <defs>\n",
       "        <path d=\"M 269 1209 \n",
       "L 831 1284 \n",
       "Q 928 806 1161 595 \n",
       "Q 1394 384 1728 384 \n",
       "Q 2125 384 2398 659 \n",
       "Q 2672 934 2672 1341 \n",
       "Q 2672 1728 2419 1979 \n",
       "Q 2166 2231 1775 2231 \n",
       "Q 1616 2231 1378 2169 \n",
       "L 1441 2663 \n",
       "Q 1497 2656 1531 2656 \n",
       "Q 1891 2656 2178 2843 \n",
       "Q 2466 3031 2466 3422 \n",
       "Q 2466 3731 2256 3934 \n",
       "Q 2047 4138 1716 4138 \n",
       "Q 1388 4138 1169 3931 \n",
       "Q 950 3725 888 3313 \n",
       "L 325 3413 \n",
       "Q 428 3978 793 4289 \n",
       "Q 1159 4600 1703 4600 \n",
       "Q 2078 4600 2393 4439 \n",
       "Q 2709 4278 2876 4000 \n",
       "Q 3044 3722 3044 3409 \n",
       "Q 3044 3113 2884 2869 \n",
       "Q 2725 2625 2413 2481 \n",
       "Q 2819 2388 3044 2092 \n",
       "Q 3269 1797 3269 1353 \n",
       "Q 3269 753 2831 336 \n",
       "Q 2394 -81 1725 -81 \n",
       "Q 1122 -81 723 278 \n",
       "Q 325 638 269 1209 \n",
       "z\n",
       "\" id=\"ArialMT-33\" transform=\"scale(0.015625)\"/>\n",
       "       </defs>\n",
       "       <use xlink:href=\"#ArialMT-33\"/>\n",
       "      </g>\n",
       "     </g>\n",
       "    </g>\n",
       "    <g id=\"xtick_6\">\n",
       "     <g id=\"line2d_6\">\n",
       "      <g>\n",
       "       <use style=\"stroke:#000000;stroke-width:0.8;\" x=\"398.468182\" xlink:href=\"#mfd1f5d6488\" y=\"248.409317\"/>\n",
       "      </g>\n",
       "     </g>\n",
       "     <g id=\"text_6\">\n",
       "      <!-- 4 -->\n",
       "      <g transform=\"translate(395.687713 262.567129)scale(0.1 -0.1)\">\n",
       "       <defs>\n",
       "        <path d=\"M 2069 0 \n",
       "L 2069 1097 \n",
       "L 81 1097 \n",
       "L 81 1613 \n",
       "L 2172 4581 \n",
       "L 2631 4581 \n",
       "L 2631 1613 \n",
       "L 3250 1613 \n",
       "L 3250 1097 \n",
       "L 2631 1097 \n",
       "L 2631 0 \n",
       "L 2069 0 \n",
       "z\n",
       "M 2069 1613 \n",
       "L 2069 3678 \n",
       "L 634 1613 \n",
       "L 2069 1613 \n",
       "z\n",
       "\" id=\"ArialMT-34\" transform=\"scale(0.015625)\"/>\n",
       "       </defs>\n",
       "       <use xlink:href=\"#ArialMT-34\"/>\n",
       "      </g>\n",
       "     </g>\n",
       "    </g>\n",
       "    <g id=\"text_7\">\n",
       "     <!-- $x$ -->\n",
       "     <g transform=\"translate(414.1 275.712442)scale(0.1 -0.1)\">\n",
       "      <defs>\n",
       "       <path d=\"M 3841 3500 \n",
       "L 2234 1784 \n",
       "L 3219 0 \n",
       "L 2559 0 \n",
       "L 1819 1388 \n",
       "L 531 0 \n",
       "L -166 0 \n",
       "L 1556 1844 \n",
       "L 641 3500 \n",
       "L 1300 3500 \n",
       "L 1972 2234 \n",
       "L 3144 3500 \n",
       "L 3841 3500 \n",
       "z\n",
       "\" id=\"DejaVuSans-Oblique-78\" transform=\"scale(0.015625)\"/>\n",
       "      </defs>\n",
       "      <use transform=\"translate(0 0.3125)\" xlink:href=\"#DejaVuSans-Oblique-78\"/>\n",
       "     </g>\n",
       "    </g>\n",
       "   </g>\n",
       "   <g id=\"matplotlib.axis_2\">\n",
       "    <g id=\"ytick_1\">\n",
       "     <g id=\"line2d_7\">\n",
       "      <defs>\n",
       "       <path d=\"M 0 0 \n",
       "L -3.5 0 \n",
       "\" id=\"m22ccb79f65\" style=\"stroke:#000000;stroke-width:0.8;\"/>\n",
       "      </defs>\n",
       "      <g>\n",
       "       <use style=\"stroke:#000000;stroke-width:0.8;\" x=\"100.359091\" xlink:href=\"#m22ccb79f65\" y=\"248.409317\"/>\n",
       "      </g>\n",
       "     </g>\n",
       "     <g id=\"text_8\">\n",
       "      <!-- 0 -->\n",
       "      <g transform=\"translate(87.798153 251.988223)scale(0.1 -0.1)\">\n",
       "       <use xlink:href=\"#ArialMT-30\"/>\n",
       "      </g>\n",
       "     </g>\n",
       "    </g>\n",
       "    <g id=\"ytick_2\">\n",
       "     <g id=\"line2d_8\">\n",
       "      <g>\n",
       "       <use style=\"stroke:#000000;stroke-width:0.8;\" x=\"100.359091\" xlink:href=\"#m22ccb79f65\" y=\"207.93886\"/>\n",
       "      </g>\n",
       "     </g>\n",
       "     <g id=\"text_9\">\n",
       "      <!-- 10 -->\n",
       "      <g transform=\"translate(82.237216 211.517766)scale(0.1 -0.1)\">\n",
       "       <use xlink:href=\"#ArialMT-31\"/>\n",
       "       <use x=\"55.615234\" xlink:href=\"#ArialMT-30\"/>\n",
       "      </g>\n",
       "     </g>\n",
       "    </g>\n",
       "    <g id=\"ytick_3\">\n",
       "     <g id=\"line2d_9\">\n",
       "      <g>\n",
       "       <use style=\"stroke:#000000;stroke-width:0.8;\" x=\"100.359091\" xlink:href=\"#m22ccb79f65\" y=\"167.468404\"/>\n",
       "      </g>\n",
       "     </g>\n",
       "     <g id=\"text_10\">\n",
       "      <!-- 20 -->\n",
       "      <g transform=\"translate(82.237216 171.04731)scale(0.1 -0.1)\">\n",
       "       <use xlink:href=\"#ArialMT-32\"/>\n",
       "       <use x=\"55.615234\" xlink:href=\"#ArialMT-30\"/>\n",
       "      </g>\n",
       "     </g>\n",
       "    </g>\n",
       "    <g id=\"ytick_4\">\n",
       "     <g id=\"line2d_10\">\n",
       "      <g>\n",
       "       <use style=\"stroke:#000000;stroke-width:0.8;\" x=\"100.359091\" xlink:href=\"#m22ccb79f65\" y=\"126.997947\"/>\n",
       "      </g>\n",
       "     </g>\n",
       "     <g id=\"text_11\">\n",
       "      <!-- 30 -->\n",
       "      <g transform=\"translate(82.237216 130.576853)scale(0.1 -0.1)\">\n",
       "       <use xlink:href=\"#ArialMT-33\"/>\n",
       "       <use x=\"55.615234\" xlink:href=\"#ArialMT-30\"/>\n",
       "      </g>\n",
       "     </g>\n",
       "    </g>\n",
       "    <g id=\"ytick_5\">\n",
       "     <g id=\"line2d_11\">\n",
       "      <g>\n",
       "       <use style=\"stroke:#000000;stroke-width:0.8;\" x=\"100.359091\" xlink:href=\"#m22ccb79f65\" y=\"86.52749\"/>\n",
       "      </g>\n",
       "     </g>\n",
       "     <g id=\"text_12\">\n",
       "      <!-- 40 -->\n",
       "      <g transform=\"translate(82.237216 90.106397)scale(0.1 -0.1)\">\n",
       "       <use xlink:href=\"#ArialMT-34\"/>\n",
       "       <use x=\"55.615234\" xlink:href=\"#ArialMT-30\"/>\n",
       "      </g>\n",
       "     </g>\n",
       "    </g>\n",
       "    <g id=\"ytick_6\">\n",
       "     <g id=\"line2d_12\">\n",
       "      <g>\n",
       "       <use style=\"stroke:#000000;stroke-width:0.8;\" x=\"100.359091\" xlink:href=\"#m22ccb79f65\" y=\"46.057034\"/>\n",
       "      </g>\n",
       "     </g>\n",
       "     <g id=\"text_13\">\n",
       "      <!-- 50 -->\n",
       "      <g transform=\"translate(82.237216 49.63594)scale(0.1 -0.1)\">\n",
       "       <defs>\n",
       "        <path d=\"M 266 1200 \n",
       "L 856 1250 \n",
       "Q 922 819 1161 601 \n",
       "Q 1400 384 1738 384 \n",
       "Q 2144 384 2425 690 \n",
       "Q 2706 997 2706 1503 \n",
       "Q 2706 1984 2436 2262 \n",
       "Q 2166 2541 1728 2541 \n",
       "Q 1456 2541 1237 2417 \n",
       "Q 1019 2294 894 2097 \n",
       "L 366 2166 \n",
       "L 809 4519 \n",
       "L 3088 4519 \n",
       "L 3088 3981 \n",
       "L 1259 3981 \n",
       "L 1013 2750 \n",
       "Q 1425 3038 1878 3038 \n",
       "Q 2478 3038 2890 2622 \n",
       "Q 3303 2206 3303 1553 \n",
       "Q 3303 931 2941 478 \n",
       "Q 2500 -78 1738 -78 \n",
       "Q 1113 -78 717 272 \n",
       "Q 322 622 266 1200 \n",
       "z\n",
       "\" id=\"ArialMT-35\" transform=\"scale(0.015625)\"/>\n",
       "       </defs>\n",
       "       <use xlink:href=\"#ArialMT-35\"/>\n",
       "       <use x=\"55.615234\" xlink:href=\"#ArialMT-30\"/>\n",
       "      </g>\n",
       "     </g>\n",
       "    </g>\n",
       "    <g id=\"text_14\">\n",
       "     <!-- $f{\\left(x \\right)}$ -->\n",
       "     <g transform=\"translate(76.249716 24.5)rotate(-90)scale(0.1 -0.1)\">\n",
       "      <defs>\n",
       "       <path d=\"M 3059 4863 \n",
       "L 2969 4384 \n",
       "L 2419 4384 \n",
       "Q 2106 4384 1964 4261 \n",
       "Q 1822 4138 1753 3809 \n",
       "L 1691 3500 \n",
       "L 2638 3500 \n",
       "L 2553 3053 \n",
       "L 1606 3053 \n",
       "L 1013 0 \n",
       "L 434 0 \n",
       "L 1031 3053 \n",
       "L 481 3053 \n",
       "L 563 3500 \n",
       "L 1113 3500 \n",
       "L 1159 3744 \n",
       "Q 1278 4363 1576 4613 \n",
       "Q 1875 4863 2516 4863 \n",
       "L 3059 4863 \n",
       "z\n",
       "\" id=\"DejaVuSans-Oblique-66\" transform=\"scale(0.015625)\"/>\n",
       "       <path d=\"M 1984 4856 \n",
       "Q 1566 4138 1362 3434 \n",
       "Q 1159 2731 1159 2009 \n",
       "Q 1159 1288 1364 580 \n",
       "Q 1569 -128 1984 -844 \n",
       "L 1484 -844 \n",
       "Q 1016 -109 783 600 \n",
       "Q 550 1309 550 2009 \n",
       "Q 550 2706 781 3412 \n",
       "Q 1013 4119 1484 4856 \n",
       "L 1984 4856 \n",
       "z\n",
       "\" id=\"DejaVuSans-28\" transform=\"scale(0.015625)\"/>\n",
       "       <path d=\"M 513 4856 \n",
       "L 1013 4856 \n",
       "Q 1481 4119 1714 3412 \n",
       "Q 1947 2706 1947 2009 \n",
       "Q 1947 1309 1714 600 \n",
       "Q 1481 -109 1013 -844 \n",
       "L 513 -844 \n",
       "Q 928 -128 1133 580 \n",
       "Q 1338 1288 1338 2009 \n",
       "Q 1338 2731 1133 3434 \n",
       "Q 928 4138 513 4856 \n",
       "z\n",
       "\" id=\"DejaVuSans-29\" transform=\"scale(0.015625)\"/>\n",
       "      </defs>\n",
       "      <use transform=\"translate(0 0.015625)\" xlink:href=\"#DejaVuSans-Oblique-66\"/>\n",
       "      <use transform=\"translate(35.205078 0.015625)\" xlink:href=\"#DejaVuSans-28\"/>\n",
       "      <use transform=\"translate(74.21875 0.015625)\" xlink:href=\"#DejaVuSans-Oblique-78\"/>\n",
       "      <use transform=\"translate(133.398438 0.015625)\" xlink:href=\"#DejaVuSans-29\"/>\n",
       "     </g>\n",
       "    </g>\n",
       "   </g>\n",
       "   <g id=\"line2d_13\">\n",
       "    <path clip-path=\"url(#pdda03770ba)\" d=\"M 25.831818 246.920492 \n",
       "L 31.281289 246.807549 \n",
       "L 36.220248 246.697803 \n",
       "L 41.377908 246.575163 \n",
       "L 47.458764 246.419235 \n",
       "L 53.487178 246.251571 \n",
       "L 59.883269 246.058209 \n",
       "L 65.267515 245.882067 \n",
       "L 71.763006 245.651918 \n",
       "L 77.337459 245.437763 \n",
       "L 83.661962 245.174583 \n",
       "L 89.225289 244.923875 \n",
       "L 95.179861 244.633968 \n",
       "L 101.25091 244.313552 \n",
       "L 108.33775 243.904965 \n",
       "L 114.110328 243.542208 \n",
       "L 119.157179 243.201201 \n",
       "L 123.985811 242.852595 \n",
       "L 128.145771 242.53361 \n",
       "L 132.625766 242.169577 \n",
       "L 138.011628 241.701957 \n",
       "L 143.193536 241.218996 \n",
       "L 148.399659 240.698755 \n",
       "L 154.1579 240.079391 \n",
       "L 160.878814 239.29328 \n",
       "L 167.13553 238.494927 \n",
       "L 173.737913 237.57653 \n",
       "L 179.086495 236.770519 \n",
       "L 184.396917 235.910939 \n",
       "L 189.576882 235.011347 \n",
       "L 195.759638 233.85245 \n",
       "L 200.563414 232.883264 \n",
       "L 206.399593 231.618557 \n",
       "L 211.471208 230.436163 \n",
       "L 216.528441 229.174218 \n",
       "L 221.56335 227.829834 \n",
       "L 226.468792 226.429703 \n",
       "L 232.869276 224.458643 \n",
       "L 238.485843 222.583903 \n",
       "L 243.891012 220.641294 \n",
       "L 249.536805 218.456007 \n",
       "L 255.34817 216.026881 \n",
       "L 262.051835 212.97909 \n",
       "L 267.768198 210.154597 \n",
       "L 273.754213 206.955219 \n",
       "L 278.582344 204.180782 \n",
       "L 284.3252 200.637911 \n",
       "L 291.175251 196.038966 \n",
       "L 297.105965 191.701142 \n",
       "L 304.376476 185.890136 \n",
       "L 310.521918 180.516355 \n",
       "L 315.744115 175.588393 \n",
       "L 321.675575 169.555864 \n",
       "L 327.751763 162.857621 \n",
       "L 332.871249 156.774288 \n",
       "L 337.883276 150.399805 \n",
       "L 343.893532 142.168371 \n",
       "L 350.075833 132.979452 \n",
       "L 357.219411 121.367666 \n",
       "L 363.028384 111.069366 \n",
       "L 370.026711 97.547824 \n",
       "L 376.718768 83.374652 \n",
       "L 383.937996 66.588357 \n",
       "L 390.68689 49.354847 \n",
       "L 398.468182 27.448111 \n",
       "\" style=\"fill:none;stroke:#1f77b4;stroke-linecap:square;stroke-width:1.5;\"/>\n",
       "   </g>\n",
       "   <g id=\"line2d_14\">\n",
       "    <path clip-path=\"url(#pdda03770ba)\" d=\"M 25.831818 252.07632 \n",
       "L 30.946715 251.346623 \n",
       "L 37.021013 250.542457 \n",
       "L 42.088529 249.919349 \n",
       "L 47.456099 249.30264 \n",
       "L 52.248887 248.786327 \n",
       "L 57.178286 248.285906 \n",
       "L 62.325672 247.793066 \n",
       "L 68.147554 247.267731 \n",
       "L 73.443555 246.815188 \n",
       "L 78.198419 246.426092 \n",
       "L 84.646153 245.919194 \n",
       "L 90.186085 245.497798 \n",
       "L 96.579722 245.021489 \n",
       "L 103.313256 244.524166 \n",
       "L 109.925172 244.032408 \n",
       "L 116.879466 243.503052 \n",
       "L 122.404202 243.067814 \n",
       "L 128.00747 242.608102 \n",
       "L 135.086058 241.993783 \n",
       "L 141.065981 241.439158 \n",
       "L 148.535209 240.691404 \n",
       "L 156.399909 239.826646 \n",
       "L 163.413516 238.978157 \n",
       "L 169.879204 238.123143 \n",
       "L 176.818798 237.119328 \n",
       "L 182.856148 236.166738 \n",
       "L 188.315667 235.236673 \n",
       "L 194.622394 234.075273 \n",
       "L 201.668563 232.659545 \n",
       "L 207.880639 231.300834 \n",
       "L 213.621213 229.947362 \n",
       "L 219.169959 228.544893 \n",
       "L 224.672186 227.0582 \n",
       "L 229.770231 225.591544 \n",
       "L 236.440944 223.536903 \n",
       "L 242.720668 221.455774 \n",
       "L 248.39371 219.447612 \n",
       "L 253.447996 217.551976 \n",
       "L 258.137757 215.700171 \n",
       "L 263.353621 213.532187 \n",
       "L 267.784118 211.598226 \n",
       "L 272.429145 209.476795 \n",
       "L 277.501654 207.047331 \n",
       "L 282.631156 204.467376 \n",
       "L 286.386251 202.498097 \n",
       "L 290.962117 200.004011 \n",
       "L 295.628678 197.351238 \n",
       "L 301.067552 194.116632 \n",
       "L 306.57171 190.682544 \n",
       "L 311.667632 187.355241 \n",
       "L 317.215259 183.567092 \n",
       "L 322.438109 179.8387 \n",
       "L 329.034899 174.898939 \n",
       "L 334.927645 170.262968 \n",
       "L 340.262084 165.879705 \n",
       "L 346.758354 160.296378 \n",
       "L 353.942111 153.800119 \n",
       "L 360.018429 148.034214 \n",
       "L 366.741412 141.357533 \n",
       "L 372.681804 135.192041 \n",
       "L 379.808815 127.457471 \n",
       "L 386.821283 119.479073 \n",
       "L 392.305725 112.978752 \n",
       "L 398.468182 105.396178 \n",
       "\" style=\"fill:none;stroke:#ff7f0e;stroke-linecap:square;stroke-width:1.5;\"/>\n",
       "   </g>\n",
       "   <g id=\"line2d_15\">\n",
       "    <path clip-path=\"url(#pdda03770ba)\" d=\"M 25.831818 237.408306 \n",
       "L 30.621474 238.092591 \n",
       "L 36.150841 238.826052 \n",
       "L 40.337985 239.341179 \n",
       "L 45.415554 239.919264 \n",
       "L 50.322287 240.429385 \n",
       "L 55.482058 240.914374 \n",
       "L 60.871771 241.364668 \n",
       "L 67.268149 241.824409 \n",
       "L 71.114824 242.061869 \n",
       "L 74.649034 242.254208 \n",
       "L 77.712263 242.400901 \n",
       "L 81.369783 242.551711 \n",
       "L 84.376846 242.655854 \n",
       "L 86.044151 242.705879 \n",
       "L 87.570577 242.74685 \n",
       "L 89.05516 242.78227 \n",
       "L 90.728092 242.816954 \n",
       "L 92.076967 242.840882 \n",
       "L 93.422271 242.861158 \n",
       "L 94.997067 242.880338 \n",
       "L 96.612248 242.894908 \n",
       "L 98.180716 242.904112 \n",
       "L 99.47098 242.90803 \n",
       "L 101.360745 242.907818 \n",
       "L 103.014342 242.901829 \n",
       "L 104.790377 242.889365 \n",
       "L 106.624573 242.869935 \n",
       "L 108.094565 242.849553 \n",
       "L 109.717922 242.822072 \n",
       "L 111.243404 242.791491 \n",
       "L 112.669579 242.758731 \n",
       "L 115.08859 242.693955 \n",
       "L 117.652438 242.612649 \n",
       "L 119.911609 242.530214 \n",
       "L 122.472065 242.424565 \n",
       "L 125.055615 242.304802 \n",
       "L 127.380886 242.185708 \n",
       "L 130.379033 242.016345 \n",
       "L 132.879127 241.861504 \n",
       "L 139.250212 241.410945 \n",
       "L 144.634561 240.967485 \n",
       "L 149.100351 240.556116 \n",
       "L 154.073886 240.051484 \n",
       "L 158.311507 239.582865 \n",
       "L 163.422617 238.970331 \n",
       "L 167.904967 238.390566 \n",
       "L 173.244148 237.648044 \n",
       "L 177.71847 236.982314 \n",
       "L 181.998204 236.308435 \n",
       "L 186.156846 235.618871 \n",
       "L 190.278866 234.901577 \n",
       "L 193.795585 234.263011 \n",
       "L 198.873833 233.297678 \n",
       "L 203.900917 232.291764 \n",
       "L 208.871748 231.247888 \n",
       "L 213.43311 230.246943 \n",
       "L 219.842211 228.7709 \n",
       "L 226.318243 227.196807 \n",
       "L 231.623628 225.845357 \n",
       "L 237.266886 224.346652 \n",
       "L 244.209606 222.41631 \n",
       "L 251.624219 220.24934 \n",
       "L 258.038758 218.2868 \n",
       "L 263.902713 216.42141 \n",
       "L 269.3059 214.642306 \n",
       "L 274.312687 212.942109 \n",
       "L 280.930264 210.618742 \n",
       "L 286.694608 208.524255 \n",
       "L 292.856343 206.212602 \n",
       "L 299.836737 203.50297 \n",
       "L 306.20479 200.946855 \n",
       "L 311.62984 198.7059 \n",
       "L 319.709936 195.260144 \n",
       "L 326.664045 192.191029 \n",
       "L 333.750631 188.96491 \n",
       "L 340.543104 185.779324 \n",
       "L 348.38843 181.986237 \n",
       "L 355.213137 178.587454 \n",
       "L 361.873958 175.181334 \n",
       "L 368.687324 171.606292 \n",
       "L 375.992839 167.670868 \n",
       "L 382.838707 163.887113 \n",
       "L 391.310845 159.075988 \n",
       "L 398.468182 154.900726 \n",
       "\" style=\"fill:none;stroke:#2ca02c;stroke-linecap:square;stroke-width:1.5;\"/>\n",
       "   </g>\n",
       "   <g id=\"line2d_16\">\n",
       "    <path clip-path=\"url(#pdda03770ba)\" d=\"M 25.831818 259.410327 \n",
       "L 32.208758 258.469024 \n",
       "L 38.059274 257.605426 \n",
       "L 45.14752 256.559126 \n",
       "L 51.459872 255.627357 \n",
       "L 58.093165 254.648212 \n",
       "L 63.625982 253.83151 \n",
       "L 69.769614 252.924646 \n",
       "L 74.889299 252.168926 \n",
       "L 82.08912 251.106157 \n",
       "L 90.788893 249.821979 \n",
       "L 98.334205 248.708211 \n",
       "L 105.721733 247.617734 \n",
       "L 111.303937 246.793742 \n",
       "L 117.798727 245.835043 \n",
       "L 125.666051 244.673743 \n",
       "L 132.491006 243.666307 \n",
       "L 137.618084 242.909497 \n",
       "L 143.807456 241.99588 \n",
       "L 148.548714 241.29602 \n",
       "L 153.335447 240.589448 \n",
       "L 159.206113 239.722876 \n",
       "L 164.620085 238.923717 \n",
       "L 169.89758 238.144703 \n",
       "L 174.604925 237.449849 \n",
       "L 182.22758 236.324665 \n",
       "L 188.796317 235.35505 \n",
       "L 195.71819 234.333309 \n",
       "L 201.752175 233.442629 \n",
       "L 208.079806 232.508604 \n",
       "L 214.561512 231.551836 \n",
       "L 219.56246 230.813643 \n",
       "L 225.473448 229.941119 \n",
       "L 230.37749 229.217231 \n",
       "L 234.854202 228.556421 \n",
       "L 239.244885 227.90831 \n",
       "L 244.457541 227.138867 \n",
       "L 249.449053 226.402067 \n",
       "L 253.667803 225.779335 \n",
       "L 259.568464 224.908336 \n",
       "L 264.811629 224.134389 \n",
       "L 270.707615 223.26408 \n",
       "L 275.843627 222.50595 \n",
       "L 282.058021 221.58864 \n",
       "L 287.184445 220.831926 \n",
       "L 292.607812 220.03138 \n",
       "L 298.464143 219.166924 \n",
       "L 303.589212 218.41041 \n",
       "L 308.335783 217.709766 \n",
       "L 313.542525 216.941196 \n",
       "L 319.138164 216.11522 \n",
       "L 324.591695 215.310222 \n",
       "L 330.666538 214.413511 \n",
       "L 336.933154 213.488492 \n",
       "L 342.87218 212.61183 \n",
       "L 349.408207 211.647043 \n",
       "L 356.500596 210.600132 \n",
       "L 362.998673 209.640947 \n",
       "L 368.513023 208.826971 \n",
       "L 373.787049 208.048469 \n",
       "L 379.007947 207.27781 \n",
       "L 383.213529 206.657021 \n",
       "L 387.958365 205.956634 \n",
       "L 393.274932 205.171852 \n",
       "L 398.468182 204.405274 \n",
       "\" style=\"fill:none;stroke:#d62728;stroke-linecap:square;stroke-width:1.5;\"/>\n",
       "   </g>\n",
       "   <g id=\"patch_3\">\n",
       "    <path d=\"M 100.359091 271.008438 \n",
       "L 100.359091 15.85 \n",
       "\" style=\"fill:none;stroke:#000000;stroke-linecap:square;stroke-linejoin:miter;stroke-width:0.8;\"/>\n",
       "   </g>\n",
       "   <g id=\"patch_4\">\n",
       "    <path d=\"M 417.1 271.008438 \n",
       "L 417.1 15.85 \n",
       "\" style=\"fill:none;\"/>\n",
       "   </g>\n",
       "   <g id=\"patch_5\">\n",
       "    <path d=\"M 7.2 248.409317 \n",
       "L 417.1 248.409317 \n",
       "\" style=\"fill:none;stroke:#000000;stroke-linecap:square;stroke-linejoin:miter;stroke-width:0.8;\"/>\n",
       "   </g>\n",
       "   <g id=\"patch_6\">\n",
       "    <path d=\"M 7.2 15.85 \n",
       "L 417.1 15.85 \n",
       "\" style=\"fill:none;\"/>\n",
       "   </g>\n",
       "  </g>\n",
       " </g>\n",
       " <defs>\n",
       "  <clipPath id=\"pdda03770ba\">\n",
       "   <rect height=\"255.158438\" width=\"409.9\" x=\"7.2\" y=\"15.85\"/>\n",
       "  </clipPath>\n",
       " </defs>\n",
       "</svg>\n"
      ],
      "text/plain": [
       "<Figure size 432x288 with 1 Axes>"
      ]
     },
     "metadata": {
      "needs_background": "light"
     },
     "output_type": "display_data"
    }
   ],
   "source": [
    "sp.plot(sp.exp(x), expt3, expt2, expt1, (x, -1, 4));"
   ]
  },
  {
   "cell_type": "code",
   "execution_count": 102,
   "id": "14fae101",
   "metadata": {},
   "outputs": [
    {
     "data": {
      "text/plain": [
       "((x - 2)*exp(2) + exp(2),\n",
       " (x - 2)**2*exp(2)/2 + (x - 2)*exp(2) + exp(2),\n",
       " (x - 2)**3*exp(2)/6 + (x - 2)**2*exp(2)/2 + (x - 2)*exp(2) + exp(2))"
      ]
     },
     "execution_count": 102,
     "metadata": {},
     "output_type": "execute_result"
    }
   ],
   "source": [
    "expt1 = sp.series(sp.exp(x), x, 2, 2).removeO()\n",
    "expt2 = sp.series(sp.exp(x), x, 2, 3).removeO()\n",
    "expt3 = sp.series(sp.exp(x), x, 2, 4).removeO()\n",
    "expt1, expt2, expt3"
   ]
  },
  {
   "cell_type": "code",
   "execution_count": 31,
   "id": "a15d39f2",
   "metadata": {},
   "outputs": [
    {
     "data": {
      "image/svg+xml": [
       "<?xml version=\"1.0\" encoding=\"utf-8\" standalone=\"no\"?>\n",
       "<!DOCTYPE svg PUBLIC \"-//W3C//DTD SVG 1.1//EN\"\n",
       "  \"http://www.w3.org/Graphics/SVG/1.1/DTD/svg11.dtd\">\n",
       "<svg height=\"284.899942pt\" version=\"1.1\" viewBox=\"0 0 427.3 284.899942\" width=\"427.3pt\" xmlns=\"http://www.w3.org/2000/svg\" xmlns:xlink=\"http://www.w3.org/1999/xlink\">\n",
       " <metadata>\n",
       "  <rdf:RDF xmlns:cc=\"http://creativecommons.org/ns#\" xmlns:dc=\"http://purl.org/dc/elements/1.1/\" xmlns:rdf=\"http://www.w3.org/1999/02/22-rdf-syntax-ns#\">\n",
       "   <cc:Work>\n",
       "    <dc:type rdf:resource=\"http://purl.org/dc/dcmitype/StillImage\"/>\n",
       "    <dc:date>2025-05-12T22:02:52.299210</dc:date>\n",
       "    <dc:format>image/svg+xml</dc:format>\n",
       "    <dc:creator>\n",
       "     <cc:Agent>\n",
       "      <dc:title>Matplotlib v3.4.2, https://matplotlib.org/</dc:title>\n",
       "     </cc:Agent>\n",
       "    </dc:creator>\n",
       "   </cc:Work>\n",
       "  </rdf:RDF>\n",
       " </metadata>\n",
       " <defs>\n",
       "  <style type=\"text/css\">*{stroke-linecap:butt;stroke-linejoin:round;}</style>\n",
       " </defs>\n",
       " <g id=\"figure_1\">\n",
       "  <g id=\"patch_1\">\n",
       "   <path d=\"M 0 284.899942 \n",
       "L 427.3 284.899942 \n",
       "L 427.3 0 \n",
       "L 0 0 \n",
       "z\n",
       "\" style=\"fill:none;\"/>\n",
       "  </g>\n",
       "  <g id=\"axes_1\">\n",
       "   <g id=\"patch_2\">\n",
       "    <path d=\"M 7.2 271.008438 \n",
       "L 417.1 271.008438 \n",
       "L 417.1 15.85 \n",
       "L 7.2 15.85 \n",
       "z\n",
       "\" style=\"fill:#ffffff;\"/>\n",
       "   </g>\n",
       "   <g id=\"matplotlib.axis_1\">\n",
       "    <g id=\"xtick_1\">\n",
       "     <g id=\"line2d_1\">\n",
       "      <defs>\n",
       "       <path d=\"M 0 0 \n",
       "L 0 3.5 \n",
       "\" id=\"mc27a380351\" style=\"stroke:#000000;stroke-width:0.8;\"/>\n",
       "      </defs>\n",
       "      <g>\n",
       "       <use style=\"stroke:#000000;stroke-width:0.8;\" x=\"25.831818\" xlink:href=\"#mc27a380351\" y=\"248.409317\"/>\n",
       "      </g>\n",
       "     </g>\n",
       "     <g id=\"text_1\">\n",
       "      <!-- −1 -->\n",
       "      <g transform=\"translate(20.131037 262.567129)scale(0.1 -0.1)\">\n",
       "       <defs>\n",
       "        <path d=\"M 3381 1997 \n",
       "L 356 1997 \n",
       "L 356 2522 \n",
       "L 3381 2522 \n",
       "L 3381 1997 \n",
       "z\n",
       "\" id=\"ArialMT-2212\" transform=\"scale(0.015625)\"/>\n",
       "        <path d=\"M 2384 0 \n",
       "L 1822 0 \n",
       "L 1822 3584 \n",
       "Q 1619 3391 1289 3197 \n",
       "Q 959 3003 697 2906 \n",
       "L 697 3450 \n",
       "Q 1169 3672 1522 3987 \n",
       "Q 1875 4303 2022 4600 \n",
       "L 2384 4600 \n",
       "L 2384 0 \n",
       "z\n",
       "\" id=\"ArialMT-31\" transform=\"scale(0.015625)\"/>\n",
       "       </defs>\n",
       "       <use xlink:href=\"#ArialMT-2212\"/>\n",
       "       <use x=\"58.398438\" xlink:href=\"#ArialMT-31\"/>\n",
       "      </g>\n",
       "     </g>\n",
       "    </g>\n",
       "    <g id=\"xtick_2\">\n",
       "     <g id=\"line2d_2\">\n",
       "      <g>\n",
       "       <use style=\"stroke:#000000;stroke-width:0.8;\" x=\"100.359091\" xlink:href=\"#mc27a380351\" y=\"248.409317\"/>\n",
       "      </g>\n",
       "     </g>\n",
       "     <g id=\"text_2\">\n",
       "      <!-- 0 -->\n",
       "      <g transform=\"translate(97.578622 262.567129)scale(0.1 -0.1)\">\n",
       "       <defs>\n",
       "        <path d=\"M 266 2259 \n",
       "Q 266 3072 433 3567 \n",
       "Q 600 4063 929 4331 \n",
       "Q 1259 4600 1759 4600 \n",
       "Q 2128 4600 2406 4451 \n",
       "Q 2684 4303 2865 4023 \n",
       "Q 3047 3744 3150 3342 \n",
       "Q 3253 2941 3253 2259 \n",
       "Q 3253 1453 3087 958 \n",
       "Q 2922 463 2592 192 \n",
       "Q 2263 -78 1759 -78 \n",
       "Q 1097 -78 719 397 \n",
       "Q 266 969 266 2259 \n",
       "z\n",
       "M 844 2259 \n",
       "Q 844 1131 1108 757 \n",
       "Q 1372 384 1759 384 \n",
       "Q 2147 384 2411 759 \n",
       "Q 2675 1134 2675 2259 \n",
       "Q 2675 3391 2411 3762 \n",
       "Q 2147 4134 1753 4134 \n",
       "Q 1366 4134 1134 3806 \n",
       "Q 844 3388 844 2259 \n",
       "z\n",
       "\" id=\"ArialMT-30\" transform=\"scale(0.015625)\"/>\n",
       "       </defs>\n",
       "       <use xlink:href=\"#ArialMT-30\"/>\n",
       "      </g>\n",
       "     </g>\n",
       "    </g>\n",
       "    <g id=\"xtick_3\">\n",
       "     <g id=\"line2d_3\">\n",
       "      <g>\n",
       "       <use style=\"stroke:#000000;stroke-width:0.8;\" x=\"174.886364\" xlink:href=\"#mc27a380351\" y=\"248.409317\"/>\n",
       "      </g>\n",
       "     </g>\n",
       "     <g id=\"text_3\">\n",
       "      <!-- 1 -->\n",
       "      <g transform=\"translate(172.105895 262.567129)scale(0.1 -0.1)\">\n",
       "       <use xlink:href=\"#ArialMT-31\"/>\n",
       "      </g>\n",
       "     </g>\n",
       "    </g>\n",
       "    <g id=\"xtick_4\">\n",
       "     <g id=\"line2d_4\">\n",
       "      <g>\n",
       "       <use style=\"stroke:#000000;stroke-width:0.8;\" x=\"249.413636\" xlink:href=\"#mc27a380351\" y=\"248.409317\"/>\n",
       "      </g>\n",
       "     </g>\n",
       "     <g id=\"text_4\">\n",
       "      <!-- 2 -->\n",
       "      <g transform=\"translate(246.633168 262.567129)scale(0.1 -0.1)\">\n",
       "       <defs>\n",
       "        <path d=\"M 3222 541 \n",
       "L 3222 0 \n",
       "L 194 0 \n",
       "Q 188 203 259 391 \n",
       "Q 375 700 629 1000 \n",
       "Q 884 1300 1366 1694 \n",
       "Q 2113 2306 2375 2664 \n",
       "Q 2638 3022 2638 3341 \n",
       "Q 2638 3675 2398 3904 \n",
       "Q 2159 4134 1775 4134 \n",
       "Q 1369 4134 1125 3890 \n",
       "Q 881 3647 878 3216 \n",
       "L 300 3275 \n",
       "Q 359 3922 746 4261 \n",
       "Q 1134 4600 1788 4600 \n",
       "Q 2447 4600 2831 4234 \n",
       "Q 3216 3869 3216 3328 \n",
       "Q 3216 3053 3103 2787 \n",
       "Q 2991 2522 2730 2228 \n",
       "Q 2469 1934 1863 1422 \n",
       "Q 1356 997 1212 845 \n",
       "Q 1069 694 975 541 \n",
       "L 3222 541 \n",
       "z\n",
       "\" id=\"ArialMT-32\" transform=\"scale(0.015625)\"/>\n",
       "       </defs>\n",
       "       <use xlink:href=\"#ArialMT-32\"/>\n",
       "      </g>\n",
       "     </g>\n",
       "    </g>\n",
       "    <g id=\"xtick_5\">\n",
       "     <g id=\"line2d_5\">\n",
       "      <g>\n",
       "       <use style=\"stroke:#000000;stroke-width:0.8;\" x=\"323.940909\" xlink:href=\"#mc27a380351\" y=\"248.409317\"/>\n",
       "      </g>\n",
       "     </g>\n",
       "     <g id=\"text_5\">\n",
       "      <!-- 3 -->\n",
       "      <g transform=\"translate(321.16044 262.567129)scale(0.1 -0.1)\">\n",
       "       <defs>\n",
       "        <path d=\"M 269 1209 \n",
       "L 831 1284 \n",
       "Q 928 806 1161 595 \n",
       "Q 1394 384 1728 384 \n",
       "Q 2125 384 2398 659 \n",
       "Q 2672 934 2672 1341 \n",
       "Q 2672 1728 2419 1979 \n",
       "Q 2166 2231 1775 2231 \n",
       "Q 1616 2231 1378 2169 \n",
       "L 1441 2663 \n",
       "Q 1497 2656 1531 2656 \n",
       "Q 1891 2656 2178 2843 \n",
       "Q 2466 3031 2466 3422 \n",
       "Q 2466 3731 2256 3934 \n",
       "Q 2047 4138 1716 4138 \n",
       "Q 1388 4138 1169 3931 \n",
       "Q 950 3725 888 3313 \n",
       "L 325 3413 \n",
       "Q 428 3978 793 4289 \n",
       "Q 1159 4600 1703 4600 \n",
       "Q 2078 4600 2393 4439 \n",
       "Q 2709 4278 2876 4000 \n",
       "Q 3044 3722 3044 3409 \n",
       "Q 3044 3113 2884 2869 \n",
       "Q 2725 2625 2413 2481 \n",
       "Q 2819 2388 3044 2092 \n",
       "Q 3269 1797 3269 1353 \n",
       "Q 3269 753 2831 336 \n",
       "Q 2394 -81 1725 -81 \n",
       "Q 1122 -81 723 278 \n",
       "Q 325 638 269 1209 \n",
       "z\n",
       "\" id=\"ArialMT-33\" transform=\"scale(0.015625)\"/>\n",
       "       </defs>\n",
       "       <use xlink:href=\"#ArialMT-33\"/>\n",
       "      </g>\n",
       "     </g>\n",
       "    </g>\n",
       "    <g id=\"xtick_6\">\n",
       "     <g id=\"line2d_6\">\n",
       "      <g>\n",
       "       <use style=\"stroke:#000000;stroke-width:0.8;\" x=\"398.468182\" xlink:href=\"#mc27a380351\" y=\"248.409317\"/>\n",
       "      </g>\n",
       "     </g>\n",
       "     <g id=\"text_6\">\n",
       "      <!-- 4 -->\n",
       "      <g transform=\"translate(395.687713 262.567129)scale(0.1 -0.1)\">\n",
       "       <defs>\n",
       "        <path d=\"M 2069 0 \n",
       "L 2069 1097 \n",
       "L 81 1097 \n",
       "L 81 1613 \n",
       "L 2172 4581 \n",
       "L 2631 4581 \n",
       "L 2631 1613 \n",
       "L 3250 1613 \n",
       "L 3250 1097 \n",
       "L 2631 1097 \n",
       "L 2631 0 \n",
       "L 2069 0 \n",
       "z\n",
       "M 2069 1613 \n",
       "L 2069 3678 \n",
       "L 634 1613 \n",
       "L 2069 1613 \n",
       "z\n",
       "\" id=\"ArialMT-34\" transform=\"scale(0.015625)\"/>\n",
       "       </defs>\n",
       "       <use xlink:href=\"#ArialMT-34\"/>\n",
       "      </g>\n",
       "     </g>\n",
       "    </g>\n",
       "    <g id=\"text_7\">\n",
       "     <!-- $x$ -->\n",
       "     <g transform=\"translate(414.1 275.712442)scale(0.1 -0.1)\">\n",
       "      <defs>\n",
       "       <path d=\"M 3841 3500 \n",
       "L 2234 1784 \n",
       "L 3219 0 \n",
       "L 2559 0 \n",
       "L 1819 1388 \n",
       "L 531 0 \n",
       "L -166 0 \n",
       "L 1556 1844 \n",
       "L 641 3500 \n",
       "L 1300 3500 \n",
       "L 1972 2234 \n",
       "L 3144 3500 \n",
       "L 3841 3500 \n",
       "z\n",
       "\" id=\"DejaVuSans-Oblique-78\" transform=\"scale(0.015625)\"/>\n",
       "      </defs>\n",
       "      <use transform=\"translate(0 0.3125)\" xlink:href=\"#DejaVuSans-Oblique-78\"/>\n",
       "     </g>\n",
       "    </g>\n",
       "   </g>\n",
       "   <g id=\"matplotlib.axis_2\">\n",
       "    <g id=\"ytick_1\">\n",
       "     <g id=\"line2d_7\">\n",
       "      <defs>\n",
       "       <path d=\"M 0 0 \n",
       "L -3.5 0 \n",
       "\" id=\"mb961bdb6d1\" style=\"stroke:#000000;stroke-width:0.8;\"/>\n",
       "      </defs>\n",
       "      <g>\n",
       "       <use style=\"stroke:#000000;stroke-width:0.8;\" x=\"100.359091\" xlink:href=\"#mb961bdb6d1\" y=\"248.409317\"/>\n",
       "      </g>\n",
       "     </g>\n",
       "     <g id=\"text_8\">\n",
       "      <!-- 0 -->\n",
       "      <g transform=\"translate(87.798153 251.988223)scale(0.1 -0.1)\">\n",
       "       <use xlink:href=\"#ArialMT-30\"/>\n",
       "      </g>\n",
       "     </g>\n",
       "    </g>\n",
       "    <g id=\"ytick_2\">\n",
       "     <g id=\"line2d_8\">\n",
       "      <g>\n",
       "       <use style=\"stroke:#000000;stroke-width:0.8;\" x=\"100.359091\" xlink:href=\"#mb961bdb6d1\" y=\"207.93886\"/>\n",
       "      </g>\n",
       "     </g>\n",
       "     <g id=\"text_9\">\n",
       "      <!-- 10 -->\n",
       "      <g transform=\"translate(82.237216 211.517766)scale(0.1 -0.1)\">\n",
       "       <use xlink:href=\"#ArialMT-31\"/>\n",
       "       <use x=\"55.615234\" xlink:href=\"#ArialMT-30\"/>\n",
       "      </g>\n",
       "     </g>\n",
       "    </g>\n",
       "    <g id=\"ytick_3\">\n",
       "     <g id=\"line2d_9\">\n",
       "      <g>\n",
       "       <use style=\"stroke:#000000;stroke-width:0.8;\" x=\"100.359091\" xlink:href=\"#mb961bdb6d1\" y=\"167.468404\"/>\n",
       "      </g>\n",
       "     </g>\n",
       "     <g id=\"text_10\">\n",
       "      <!-- 20 -->\n",
       "      <g transform=\"translate(82.237216 171.04731)scale(0.1 -0.1)\">\n",
       "       <use xlink:href=\"#ArialMT-32\"/>\n",
       "       <use x=\"55.615234\" xlink:href=\"#ArialMT-30\"/>\n",
       "      </g>\n",
       "     </g>\n",
       "    </g>\n",
       "    <g id=\"ytick_4\">\n",
       "     <g id=\"line2d_10\">\n",
       "      <g>\n",
       "       <use style=\"stroke:#000000;stroke-width:0.8;\" x=\"100.359091\" xlink:href=\"#mb961bdb6d1\" y=\"126.997947\"/>\n",
       "      </g>\n",
       "     </g>\n",
       "     <g id=\"text_11\">\n",
       "      <!-- 30 -->\n",
       "      <g transform=\"translate(82.237216 130.576853)scale(0.1 -0.1)\">\n",
       "       <use xlink:href=\"#ArialMT-33\"/>\n",
       "       <use x=\"55.615234\" xlink:href=\"#ArialMT-30\"/>\n",
       "      </g>\n",
       "     </g>\n",
       "    </g>\n",
       "    <g id=\"ytick_5\">\n",
       "     <g id=\"line2d_11\">\n",
       "      <g>\n",
       "       <use style=\"stroke:#000000;stroke-width:0.8;\" x=\"100.359091\" xlink:href=\"#mb961bdb6d1\" y=\"86.52749\"/>\n",
       "      </g>\n",
       "     </g>\n",
       "     <g id=\"text_12\">\n",
       "      <!-- 40 -->\n",
       "      <g transform=\"translate(82.237216 90.106397)scale(0.1 -0.1)\">\n",
       "       <use xlink:href=\"#ArialMT-34\"/>\n",
       "       <use x=\"55.615234\" xlink:href=\"#ArialMT-30\"/>\n",
       "      </g>\n",
       "     </g>\n",
       "    </g>\n",
       "    <g id=\"ytick_6\">\n",
       "     <g id=\"line2d_12\">\n",
       "      <g>\n",
       "       <use style=\"stroke:#000000;stroke-width:0.8;\" x=\"100.359091\" xlink:href=\"#mb961bdb6d1\" y=\"46.057034\"/>\n",
       "      </g>\n",
       "     </g>\n",
       "     <g id=\"text_13\">\n",
       "      <!-- 50 -->\n",
       "      <g transform=\"translate(82.237216 49.63594)scale(0.1 -0.1)\">\n",
       "       <defs>\n",
       "        <path d=\"M 266 1200 \n",
       "L 856 1250 \n",
       "Q 922 819 1161 601 \n",
       "Q 1400 384 1738 384 \n",
       "Q 2144 384 2425 690 \n",
       "Q 2706 997 2706 1503 \n",
       "Q 2706 1984 2436 2262 \n",
       "Q 2166 2541 1728 2541 \n",
       "Q 1456 2541 1237 2417 \n",
       "Q 1019 2294 894 2097 \n",
       "L 366 2166 \n",
       "L 809 4519 \n",
       "L 3088 4519 \n",
       "L 3088 3981 \n",
       "L 1259 3981 \n",
       "L 1013 2750 \n",
       "Q 1425 3038 1878 3038 \n",
       "Q 2478 3038 2890 2622 \n",
       "Q 3303 2206 3303 1553 \n",
       "Q 3303 931 2941 478 \n",
       "Q 2500 -78 1738 -78 \n",
       "Q 1113 -78 717 272 \n",
       "Q 322 622 266 1200 \n",
       "z\n",
       "\" id=\"ArialMT-35\" transform=\"scale(0.015625)\"/>\n",
       "       </defs>\n",
       "       <use xlink:href=\"#ArialMT-35\"/>\n",
       "       <use x=\"55.615234\" xlink:href=\"#ArialMT-30\"/>\n",
       "      </g>\n",
       "     </g>\n",
       "    </g>\n",
       "    <g id=\"text_14\">\n",
       "     <!-- $f{\\left(x \\right)}$ -->\n",
       "     <g transform=\"translate(76.249716 24.5)rotate(-90)scale(0.1 -0.1)\">\n",
       "      <defs>\n",
       "       <path d=\"M 3059 4863 \n",
       "L 2969 4384 \n",
       "L 2419 4384 \n",
       "Q 2106 4384 1964 4261 \n",
       "Q 1822 4138 1753 3809 \n",
       "L 1691 3500 \n",
       "L 2638 3500 \n",
       "L 2553 3053 \n",
       "L 1606 3053 \n",
       "L 1013 0 \n",
       "L 434 0 \n",
       "L 1031 3053 \n",
       "L 481 3053 \n",
       "L 563 3500 \n",
       "L 1113 3500 \n",
       "L 1159 3744 \n",
       "Q 1278 4363 1576 4613 \n",
       "Q 1875 4863 2516 4863 \n",
       "L 3059 4863 \n",
       "z\n",
       "\" id=\"DejaVuSans-Oblique-66\" transform=\"scale(0.015625)\"/>\n",
       "       <path d=\"M 1984 4856 \n",
       "Q 1566 4138 1362 3434 \n",
       "Q 1159 2731 1159 2009 \n",
       "Q 1159 1288 1364 580 \n",
       "Q 1569 -128 1984 -844 \n",
       "L 1484 -844 \n",
       "Q 1016 -109 783 600 \n",
       "Q 550 1309 550 2009 \n",
       "Q 550 2706 781 3412 \n",
       "Q 1013 4119 1484 4856 \n",
       "L 1984 4856 \n",
       "z\n",
       "\" id=\"DejaVuSans-28\" transform=\"scale(0.015625)\"/>\n",
       "       <path d=\"M 513 4856 \n",
       "L 1013 4856 \n",
       "Q 1481 4119 1714 3412 \n",
       "Q 1947 2706 1947 2009 \n",
       "Q 1947 1309 1714 600 \n",
       "Q 1481 -109 1013 -844 \n",
       "L 513 -844 \n",
       "Q 928 -128 1133 580 \n",
       "Q 1338 1288 1338 2009 \n",
       "Q 1338 2731 1133 3434 \n",
       "Q 928 4138 513 4856 \n",
       "z\n",
       "\" id=\"DejaVuSans-29\" transform=\"scale(0.015625)\"/>\n",
       "      </defs>\n",
       "      <use transform=\"translate(0 0.015625)\" xlink:href=\"#DejaVuSans-Oblique-66\"/>\n",
       "      <use transform=\"translate(35.205078 0.015625)\" xlink:href=\"#DejaVuSans-28\"/>\n",
       "      <use transform=\"translate(74.21875 0.015625)\" xlink:href=\"#DejaVuSans-Oblique-78\"/>\n",
       "      <use transform=\"translate(133.398438 0.015625)\" xlink:href=\"#DejaVuSans-29\"/>\n",
       "     </g>\n",
       "    </g>\n",
       "   </g>\n",
       "   <g id=\"line2d_13\">\n",
       "    <path clip-path=\"url(#pfbe1857d81)\" d=\"M 25.831818 246.920492 \n",
       "L 34.192815 246.743735 \n",
       "L 42.596746 246.54492 \n",
       "L 49.828849 246.35493 \n",
       "L 56.510046 246.162252 \n",
       "L 62.239251 245.982698 \n",
       "L 68.634695 245.765266 \n",
       "L 75.706179 245.502098 \n",
       "L 83.095401 245.19908 \n",
       "L 88.62806 244.951694 \n",
       "L 95.302344 244.627758 \n",
       "L 101.460214 244.302033 \n",
       "L 108.397155 243.901373 \n",
       "L 113.36897 243.590384 \n",
       "L 118.771862 243.228058 \n",
       "L 124.173537 242.838581 \n",
       "L 130.285767 242.362448 \n",
       "L 136.553779 241.831887 \n",
       "L 143.51663 241.187757 \n",
       "L 149.061461 240.62998 \n",
       "L 154.583649 240.031669 \n",
       "L 161.913046 239.165893 \n",
       "L 168.366892 238.329758 \n",
       "L 174.925074 237.40259 \n",
       "L 180.303909 236.578836 \n",
       "L 185.693683 235.691565 \n",
       "L 190.695206 234.808787 \n",
       "L 197.108994 233.58649 \n",
       "L 203.328856 232.296325 \n",
       "L 208.507784 231.136806 \n",
       "L 214.157901 229.776414 \n",
       "L 218.865752 228.561411 \n",
       "L 223.083313 227.405812 \n",
       "L 228.384133 225.857509 \n",
       "L 233.059852 224.397319 \n",
       "L 238.262388 222.661219 \n",
       "L 243.567297 220.761645 \n",
       "L 249.123223 218.62177 \n",
       "L 254.088725 216.569517 \n",
       "L 260.286503 213.808466 \n",
       "L 265.57189 211.265508 \n",
       "L 271.938096 207.953184 \n",
       "L 278.443601 204.263044 \n",
       "L 284.54028 200.499847 \n",
       "L 289.837172 196.970844 \n",
       "L 296.045599 192.502268 \n",
       "L 302.960178 187.067017 \n",
       "L 309.057442 181.837443 \n",
       "L 314.406822 176.883415 \n",
       "L 319.438139 171.887996 \n",
       "L 324.657932 166.336399 \n",
       "L 331.195344 158.8119 \n",
       "L 336.682086 151.966807 \n",
       "L 342.948354 143.507244 \n",
       "L 348.372489 135.587717 \n",
       "L 354.755724 125.498691 \n",
       "L 360.534121 115.589765 \n",
       "L 364.673236 108.004512 \n",
       "L 369.386751 98.837715 \n",
       "L 373.577031 90.187175 \n",
       "L 377.874678 80.795029 \n",
       "L 382.950807 68.980878 \n",
       "L 387.952313 56.526242 \n",
       "L 393.22851 42.449371 \n",
       "L 398.468182 27.448111 \n",
       "\" style=\"fill:none;stroke:#1f77b4;stroke-linecap:square;stroke-width:1.5;\"/>\n",
       "   </g>\n",
       "   <g id=\"line2d_14\">\n",
       "    <path clip-path=\"url(#pfbe1857d81)\" d=\"M 25.831818 252.07632 \n",
       "L 31.173592 251.315401 \n",
       "L 36.520708 250.606264 \n",
       "L 42.406747 249.881583 \n",
       "L 48.67203 249.16871 \n",
       "L 54.098031 248.595136 \n",
       "L 59.009485 248.10728 \n",
       "L 64.181904 247.6221 \n",
       "L 69.518565 247.148434 \n",
       "L 75.702609 246.628485 \n",
       "L 82.791198 246.062932 \n",
       "L 88.969916 245.589438 \n",
       "L 95.308242 245.115663 \n",
       "L 100.877551 244.704047 \n",
       "L 107.104638 244.243097 \n",
       "L 113.189135 243.786034 \n",
       "L 119.331966 243.311764 \n",
       "L 125.092109 242.849872 \n",
       "L 130.151898 242.426316 \n",
       "L 135.132483 241.989612 \n",
       "L 139.303195 241.606419 \n",
       "L 144.224066 241.131004 \n",
       "L 149.914419 240.545847 \n",
       "L 154.721251 240.018516 \n",
       "L 159.97314 239.404096 \n",
       "L 166.158743 238.624106 \n",
       "L 171.239592 237.933652 \n",
       "L 176.54351 237.160954 \n",
       "L 182.354374 236.248873 \n",
       "L 186.844185 235.494028 \n",
       "L 191.453184 234.670928 \n",
       "L 197.184849 233.5753 \n",
       "L 202.299447 232.526404 \n",
       "L 208.122106 231.245835 \n",
       "L 214.097162 229.830762 \n",
       "L 219.482201 228.463126 \n",
       "L 224.939816 226.983372 \n",
       "L 232.036667 224.911021 \n",
       "L 237.955207 223.048367 \n",
       "L 244.763824 220.746814 \n",
       "L 252.097431 218.068546 \n",
       "L 258.23524 215.66071 \n",
       "L 265.365195 212.66479 \n",
       "L 271.384259 209.962511 \n",
       "L 276.648788 207.464185 \n",
       "L 284.792903 203.342127 \n",
       "L 291.51442 199.695854 \n",
       "L 297.597816 196.198105 \n",
       "L 304.079192 192.257949 \n",
       "L 309.59428 188.726401 \n",
       "L 314.833732 185.21476 \n",
       "L 319.627569 181.864803 \n",
       "L 325.390655 177.660003 \n",
       "L 331.616231 172.894435 \n",
       "L 337.189548 168.426277 \n",
       "L 343.872218 162.810597 \n",
       "L 351.014033 156.489405 \n",
       "L 355.959397 151.913772 \n",
       "L 361.896061 146.20125 \n",
       "L 367.654664 140.426065 \n",
       "L 373.705422 134.103995 \n",
       "L 381.101258 126.014725 \n",
       "L 387.285586 118.937702 \n",
       "L 392.602993 112.619794 \n",
       "L 398.468182 105.396178 \n",
       "\" style=\"fill:none;stroke:#ff7f0e;stroke-linecap:square;stroke-width:1.5;\"/>\n",
       "   </g>\n",
       "   <g id=\"line2d_15\">\n",
       "    <path clip-path=\"url(#pfbe1857d81)\" d=\"M 25.831818 237.408306 \n",
       "L 32.753455 238.382567 \n",
       "L 40.148689 239.31864 \n",
       "L 48.176562 240.212175 \n",
       "L 56.998596 241.046893 \n",
       "L 63.991869 241.599049 \n",
       "L 68.212737 241.885434 \n",
       "L 72.057318 242.115581 \n",
       "L 75.421694 242.292962 \n",
       "L 78.398884 242.431233 \n",
       "L 81.527496 242.557618 \n",
       "L 84.741371 242.667261 \n",
       "L 87.619073 242.748076 \n",
       "L 90.162274 242.805843 \n",
       "L 91.669554 242.834035 \n",
       "L 93.392279 242.860745 \n",
       "L 94.957544 242.879917 \n",
       "L 96.756386 242.895958 \n",
       "L 98.508813 242.905421 \n",
       "L 100.059408 242.908722 \n",
       "L 101.791824 242.906778 \n",
       "L 103.361761 242.899883 \n",
       "L 104.712893 242.890039 \n",
       "L 106.247949 242.874469 \n",
       "L 108.022533 242.850652 \n",
       "L 109.563403 242.824913 \n",
       "L 111.315774 242.789925 \n",
       "L 112.750453 242.756753 \n",
       "L 115.478433 242.682431 \n",
       "L 117.283138 242.625163 \n",
       "L 118.904238 242.568221 \n",
       "L 122.290238 242.432496 \n",
       "L 125.208501 242.2973 \n",
       "L 128.097385 242.146852 \n",
       "L 131.233497 241.964817 \n",
       "L 134.070804 241.783342 \n",
       "L 139.943395 241.357074 \n",
       "L 144.833394 240.95001 \n",
       "L 151.137865 240.355307 \n",
       "L 156.726542 239.762303 \n",
       "L 162.219829 239.119133 \n",
       "L 168.031138 238.373671 \n",
       "L 173.503094 237.610596 \n",
       "L 178.681193 236.833888 \n",
       "L 183.282174 236.099189 \n",
       "L 188.645532 235.189827 \n",
       "L 194.738994 234.08754 \n",
       "L 199.766588 233.122694 \n",
       "L 206.152065 231.825085 \n",
       "L 213.072384 230.327601 \n",
       "L 219.025447 228.963528 \n",
       "L 225.532141 227.39231 \n",
       "L 231.769335 225.807454 \n",
       "L 236.914332 224.442129 \n",
       "L 243.427567 222.638518 \n",
       "L 249.94518 220.749587 \n",
       "L 255.195181 219.166854 \n",
       "L 259.798022 217.73431 \n",
       "L 264.816342 216.124642 \n",
       "L 270.784968 214.145214 \n",
       "L 275.788236 212.431572 \n",
       "L 280.331297 210.832604 \n",
       "L 285.218411 209.066904 \n",
       "L 290.283437 207.187005 \n",
       "L 295.079038 205.360274 \n",
       "L 299.553967 203.614611 \n",
       "L 305.466092 201.247484 \n",
       "L 310.511702 199.172544 \n",
       "L 316.398589 196.687906 \n",
       "L 322.194982 194.174396 \n",
       "L 327.653109 191.746737 \n",
       "L 334.289329 188.715604 \n",
       "L 340.059722 186.009045 \n",
       "L 345.746172 183.27734 \n",
       "L 350.918934 180.736778 \n",
       "L 355.623846 178.379973 \n",
       "L 360.222308 176.034126 \n",
       "L 365.440278 173.321518 \n",
       "L 371.12922 170.302623 \n",
       "L 376.104938 167.609658 \n",
       "L 381.341062 164.722803 \n",
       "L 387.633308 161.181835 \n",
       "L 392.833607 158.196176 \n",
       "L 398.468182 154.900726 \n",
       "\" style=\"fill:none;stroke:#2ca02c;stroke-linecap:square;stroke-width:1.5;\"/>\n",
       "   </g>\n",
       "   <g id=\"line2d_16\">\n",
       "    <path clip-path=\"url(#pfbe1857d81)\" d=\"M 25.831818 259.410327 \n",
       "L 30.31227 258.748965 \n",
       "L 34.971127 258.061269 \n",
       "L 39.956603 257.32536 \n",
       "L 44.844099 256.603914 \n",
       "L 51.254328 255.657697 \n",
       "L 56.76178 254.844739 \n",
       "L 62.433485 254.007536 \n",
       "L 67.802978 253.214942 \n",
       "L 74.173775 252.274545 \n",
       "L 80.396368 251.356025 \n",
       "L 85.587685 250.589732 \n",
       "L 90.975358 249.794454 \n",
       "L 97.431838 248.84141 \n",
       "L 102.793525 248.049968 \n",
       "L 107.421447 247.366838 \n",
       "L 112.831275 246.568291 \n",
       "L 118.839061 245.681478 \n",
       "L 125.753088 244.660895 \n",
       "L 131.734166 243.778025 \n",
       "L 136.671244 243.04926 \n",
       "L 142.683916 242.161727 \n",
       "L 149.125125 241.210936 \n",
       "L 155.8058 240.224798 \n",
       "L 163.546984 239.082118 \n",
       "L 169.502108 238.203079 \n",
       "L 175.689132 237.289809 \n",
       "L 181.76358 236.393156 \n",
       "L 187.767938 235.50685 \n",
       "L 193.613591 234.64397 \n",
       "L 199.628449 233.756113 \n",
       "L 205.351123 232.911386 \n",
       "L 211.700216 231.974193 \n",
       "L 216.7237 231.232674 \n",
       "L 222.851571 230.328136 \n",
       "L 228.791378 229.451358 \n",
       "L 233.822684 228.708684 \n",
       "L 240.385591 227.73993 \n",
       "L 245.94717 226.918982 \n",
       "L 253.542677 225.797805 \n",
       "L 260.68648 224.743305 \n",
       "L 267.127877 223.792487 \n",
       "L 272.66992 222.974423 \n",
       "L 279.110248 222.023762 \n",
       "L 285.151666 221.131986 \n",
       "L 291.018648 220.265957 \n",
       "L 296.750821 219.419828 \n",
       "L 302.219009 218.612666 \n",
       "L 307.059866 217.898104 \n",
       "L 312.332062 217.119873 \n",
       "L 318.132038 216.263735 \n",
       "L 322.715313 215.587195 \n",
       "L 327.810591 214.835079 \n",
       "L 333.741963 213.959546 \n",
       "L 339.108803 213.167344 \n",
       "L 345.113308 212.281015 \n",
       "L 351.925063 211.275529 \n",
       "L 358.139352 210.358234 \n",
       "L 363.655756 209.543955 \n",
       "L 370.610495 208.517362 \n",
       "L 376.587472 207.635097 \n",
       "L 381.884069 206.853264 \n",
       "L 387.02089 206.095015 \n",
       "L 392.27203 205.319891 \n",
       "L 398.468182 204.405274 \n",
       "\" style=\"fill:none;stroke:#d62728;stroke-linecap:square;stroke-width:1.5;\"/>\n",
       "   </g>\n",
       "   <g id=\"patch_3\">\n",
       "    <path d=\"M 100.359091 271.008438 \n",
       "L 100.359091 15.85 \n",
       "\" style=\"fill:none;stroke:#000000;stroke-linecap:square;stroke-linejoin:miter;stroke-width:0.8;\"/>\n",
       "   </g>\n",
       "   <g id=\"patch_4\">\n",
       "    <path d=\"M 417.1 271.008438 \n",
       "L 417.1 15.85 \n",
       "\" style=\"fill:none;\"/>\n",
       "   </g>\n",
       "   <g id=\"patch_5\">\n",
       "    <path d=\"M 7.2 248.409317 \n",
       "L 417.1 248.409317 \n",
       "\" style=\"fill:none;stroke:#000000;stroke-linecap:square;stroke-linejoin:miter;stroke-width:0.8;\"/>\n",
       "   </g>\n",
       "   <g id=\"patch_6\">\n",
       "    <path d=\"M 7.2 15.85 \n",
       "L 417.1 15.85 \n",
       "\" style=\"fill:none;\"/>\n",
       "   </g>\n",
       "  </g>\n",
       " </g>\n",
       " <defs>\n",
       "  <clipPath id=\"pfbe1857d81\">\n",
       "   <rect height=\"255.158438\" width=\"409.9\" x=\"7.2\" y=\"15.85\"/>\n",
       "  </clipPath>\n",
       " </defs>\n",
       "</svg>\n"
      ],
      "text/plain": [
       "<Figure size 432x288 with 1 Axes>"
      ]
     },
     "metadata": {
      "needs_background": "light"
     },
     "output_type": "display_data"
    }
   ],
   "source": [
    "sp.plot(sp.exp(x), expt3, expt2, expt1, (x, -1, 4));"
   ]
  },
  {
   "cell_type": "code",
   "execution_count": 32,
   "id": "fecec721",
   "metadata": {},
   "outputs": [
    {
     "data": {
      "image/svg+xml": [
       "<?xml version=\"1.0\" encoding=\"utf-8\" standalone=\"no\"?>\n",
       "<!DOCTYPE svg PUBLIC \"-//W3C//DTD SVG 1.1//EN\"\n",
       "  \"http://www.w3.org/Graphics/SVG/1.1/DTD/svg11.dtd\">\n",
       "<svg height=\"286.952369pt\" version=\"1.1\" viewBox=\"0 0 427.3 286.952369\" width=\"427.3pt\" xmlns=\"http://www.w3.org/2000/svg\" xmlns:xlink=\"http://www.w3.org/1999/xlink\">\n",
       " <metadata>\n",
       "  <rdf:RDF xmlns:cc=\"http://creativecommons.org/ns#\" xmlns:dc=\"http://purl.org/dc/elements/1.1/\" xmlns:rdf=\"http://www.w3.org/1999/02/22-rdf-syntax-ns#\">\n",
       "   <cc:Work>\n",
       "    <dc:type rdf:resource=\"http://purl.org/dc/dcmitype/StillImage\"/>\n",
       "    <dc:date>2025-05-12T22:02:55.476858</dc:date>\n",
       "    <dc:format>image/svg+xml</dc:format>\n",
       "    <dc:creator>\n",
       "     <cc:Agent>\n",
       "      <dc:title>Matplotlib v3.4.2, https://matplotlib.org/</dc:title>\n",
       "     </cc:Agent>\n",
       "    </dc:creator>\n",
       "   </cc:Work>\n",
       "  </rdf:RDF>\n",
       " </metadata>\n",
       " <defs>\n",
       "  <style type=\"text/css\">*{stroke-linecap:butt;stroke-linejoin:round;}</style>\n",
       " </defs>\n",
       " <g id=\"figure_1\">\n",
       "  <g id=\"patch_1\">\n",
       "   <path d=\"M 0 286.952369 \n",
       "L 427.3 286.952369 \n",
       "L 427.3 0 \n",
       "L 0 0 \n",
       "z\n",
       "\" style=\"fill:none;\"/>\n",
       "  </g>\n",
       "  <g id=\"axes_1\">\n",
       "   <g id=\"patch_2\">\n",
       "    <path d=\"M 7.2 261.633116 \n",
       "L 417.1 261.633116 \n",
       "L 417.1 15.85 \n",
       "L 7.2 15.85 \n",
       "z\n",
       "\" style=\"fill:#ffffff;\"/>\n",
       "   </g>\n",
       "   <g id=\"matplotlib.axis_1\">\n",
       "    <g id=\"xtick_1\">\n",
       "     <g id=\"line2d_1\">\n",
       "      <defs>\n",
       "       <path d=\"M 0 0 \n",
       "L 0 3.5 \n",
       "\" id=\"mcc9b7f54e0\" style=\"stroke:#000000;stroke-width:0.8;\"/>\n",
       "      </defs>\n",
       "      <g>\n",
       "       <use style=\"stroke:#000000;stroke-width:0.8;\" x=\"63.095455\" xlink:href=\"#mcc9b7f54e0\" y=\"250.461744\"/>\n",
       "      </g>\n",
       "     </g>\n",
       "     <g id=\"text_1\">\n",
       "      <!-- −4 -->\n",
       "      <g transform=\"translate(57.394673 264.619557)scale(0.1 -0.1)\">\n",
       "       <defs>\n",
       "        <path d=\"M 3381 1997 \n",
       "L 356 1997 \n",
       "L 356 2522 \n",
       "L 3381 2522 \n",
       "L 3381 1997 \n",
       "z\n",
       "\" id=\"ArialMT-2212\" transform=\"scale(0.015625)\"/>\n",
       "        <path d=\"M 2069 0 \n",
       "L 2069 1097 \n",
       "L 81 1097 \n",
       "L 81 1613 \n",
       "L 2172 4581 \n",
       "L 2631 4581 \n",
       "L 2631 1613 \n",
       "L 3250 1613 \n",
       "L 3250 1097 \n",
       "L 2631 1097 \n",
       "L 2631 0 \n",
       "L 2069 0 \n",
       "z\n",
       "M 2069 1613 \n",
       "L 2069 3678 \n",
       "L 634 1613 \n",
       "L 2069 1613 \n",
       "z\n",
       "\" id=\"ArialMT-34\" transform=\"scale(0.015625)\"/>\n",
       "       </defs>\n",
       "       <use xlink:href=\"#ArialMT-2212\"/>\n",
       "       <use x=\"58.398438\" xlink:href=\"#ArialMT-34\"/>\n",
       "      </g>\n",
       "     </g>\n",
       "    </g>\n",
       "    <g id=\"xtick_2\">\n",
       "     <g id=\"line2d_2\">\n",
       "      <g>\n",
       "       <use style=\"stroke:#000000;stroke-width:0.8;\" x=\"137.622727\" xlink:href=\"#mcc9b7f54e0\" y=\"250.461744\"/>\n",
       "      </g>\n",
       "     </g>\n",
       "     <g id=\"text_2\">\n",
       "      <!-- −2 -->\n",
       "      <g transform=\"translate(131.921946 264.619557)scale(0.1 -0.1)\">\n",
       "       <defs>\n",
       "        <path d=\"M 3222 541 \n",
       "L 3222 0 \n",
       "L 194 0 \n",
       "Q 188 203 259 391 \n",
       "Q 375 700 629 1000 \n",
       "Q 884 1300 1366 1694 \n",
       "Q 2113 2306 2375 2664 \n",
       "Q 2638 3022 2638 3341 \n",
       "Q 2638 3675 2398 3904 \n",
       "Q 2159 4134 1775 4134 \n",
       "Q 1369 4134 1125 3890 \n",
       "Q 881 3647 878 3216 \n",
       "L 300 3275 \n",
       "Q 359 3922 746 4261 \n",
       "Q 1134 4600 1788 4600 \n",
       "Q 2447 4600 2831 4234 \n",
       "Q 3216 3869 3216 3328 \n",
       "Q 3216 3053 3103 2787 \n",
       "Q 2991 2522 2730 2228 \n",
       "Q 2469 1934 1863 1422 \n",
       "Q 1356 997 1212 845 \n",
       "Q 1069 694 975 541 \n",
       "L 3222 541 \n",
       "z\n",
       "\" id=\"ArialMT-32\" transform=\"scale(0.015625)\"/>\n",
       "       </defs>\n",
       "       <use xlink:href=\"#ArialMT-2212\"/>\n",
       "       <use x=\"58.398438\" xlink:href=\"#ArialMT-32\"/>\n",
       "      </g>\n",
       "     </g>\n",
       "    </g>\n",
       "    <g id=\"xtick_3\">\n",
       "     <g id=\"line2d_3\">\n",
       "      <g>\n",
       "       <use style=\"stroke:#000000;stroke-width:0.8;\" x=\"212.15\" xlink:href=\"#mcc9b7f54e0\" y=\"250.461744\"/>\n",
       "      </g>\n",
       "     </g>\n",
       "     <g id=\"text_3\">\n",
       "      <!-- 0 -->\n",
       "      <g transform=\"translate(209.369531 264.619557)scale(0.1 -0.1)\">\n",
       "       <defs>\n",
       "        <path d=\"M 266 2259 \n",
       "Q 266 3072 433 3567 \n",
       "Q 600 4063 929 4331 \n",
       "Q 1259 4600 1759 4600 \n",
       "Q 2128 4600 2406 4451 \n",
       "Q 2684 4303 2865 4023 \n",
       "Q 3047 3744 3150 3342 \n",
       "Q 3253 2941 3253 2259 \n",
       "Q 3253 1453 3087 958 \n",
       "Q 2922 463 2592 192 \n",
       "Q 2263 -78 1759 -78 \n",
       "Q 1097 -78 719 397 \n",
       "Q 266 969 266 2259 \n",
       "z\n",
       "M 844 2259 \n",
       "Q 844 1131 1108 757 \n",
       "Q 1372 384 1759 384 \n",
       "Q 2147 384 2411 759 \n",
       "Q 2675 1134 2675 2259 \n",
       "Q 2675 3391 2411 3762 \n",
       "Q 2147 4134 1753 4134 \n",
       "Q 1366 4134 1134 3806 \n",
       "Q 844 3388 844 2259 \n",
       "z\n",
       "\" id=\"ArialMT-30\" transform=\"scale(0.015625)\"/>\n",
       "       </defs>\n",
       "       <use xlink:href=\"#ArialMT-30\"/>\n",
       "      </g>\n",
       "     </g>\n",
       "    </g>\n",
       "    <g id=\"xtick_4\">\n",
       "     <g id=\"line2d_4\">\n",
       "      <g>\n",
       "       <use style=\"stroke:#000000;stroke-width:0.8;\" x=\"286.677273\" xlink:href=\"#mcc9b7f54e0\" y=\"250.461744\"/>\n",
       "      </g>\n",
       "     </g>\n",
       "     <g id=\"text_4\">\n",
       "      <!-- 2 -->\n",
       "      <g transform=\"translate(283.896804 264.619557)scale(0.1 -0.1)\">\n",
       "       <use xlink:href=\"#ArialMT-32\"/>\n",
       "      </g>\n",
       "     </g>\n",
       "    </g>\n",
       "    <g id=\"xtick_5\">\n",
       "     <g id=\"line2d_5\">\n",
       "      <g>\n",
       "       <use style=\"stroke:#000000;stroke-width:0.8;\" x=\"361.204545\" xlink:href=\"#mcc9b7f54e0\" y=\"250.461744\"/>\n",
       "      </g>\n",
       "     </g>\n",
       "     <g id=\"text_5\">\n",
       "      <!-- 4 -->\n",
       "      <g transform=\"translate(358.424077 264.619557)scale(0.1 -0.1)\">\n",
       "       <use xlink:href=\"#ArialMT-34\"/>\n",
       "      </g>\n",
       "     </g>\n",
       "    </g>\n",
       "    <g id=\"text_6\">\n",
       "     <!-- $x$ -->\n",
       "     <g transform=\"translate(414.1 277.764869)scale(0.1 -0.1)\">\n",
       "      <defs>\n",
       "       <path d=\"M 3841 3500 \n",
       "L 2234 1784 \n",
       "L 3219 0 \n",
       "L 2559 0 \n",
       "L 1819 1388 \n",
       "L 531 0 \n",
       "L -166 0 \n",
       "L 1556 1844 \n",
       "L 641 3500 \n",
       "L 1300 3500 \n",
       "L 1972 2234 \n",
       "L 3144 3500 \n",
       "L 3841 3500 \n",
       "z\n",
       "\" id=\"DejaVuSans-Oblique-78\" transform=\"scale(0.015625)\"/>\n",
       "      </defs>\n",
       "      <use transform=\"translate(0 0.3125)\" xlink:href=\"#DejaVuSans-Oblique-78\"/>\n",
       "     </g>\n",
       "    </g>\n",
       "   </g>\n",
       "   <g id=\"matplotlib.axis_2\">\n",
       "    <g id=\"ytick_1\">\n",
       "     <g id=\"line2d_6\">\n",
       "      <defs>\n",
       "       <path d=\"M 0 0 \n",
       "L -3.5 0 \n",
       "\" id=\"m2344104cf7\" style=\"stroke:#000000;stroke-width:0.8;\"/>\n",
       "      </defs>\n",
       "      <g>\n",
       "       <use style=\"stroke:#000000;stroke-width:0.8;\" x=\"212.15\" xlink:href=\"#m2344104cf7\" y=\"250.461744\"/>\n",
       "      </g>\n",
       "     </g>\n",
       "     <g id=\"text_7\">\n",
       "      <!-- 0 -->\n",
       "      <g transform=\"translate(199.589063 254.040651)scale(0.1 -0.1)\">\n",
       "       <use xlink:href=\"#ArialMT-30\"/>\n",
       "      </g>\n",
       "     </g>\n",
       "    </g>\n",
       "    <g id=\"ytick_2\">\n",
       "     <g id=\"line2d_7\">\n",
       "      <g>\n",
       "       <use style=\"stroke:#000000;stroke-width:0.8;\" x=\"212.15\" xlink:href=\"#m2344104cf7\" y=\"205.773787\"/>\n",
       "      </g>\n",
       "     </g>\n",
       "     <g id=\"text_8\">\n",
       "      <!-- 5 -->\n",
       "      <g transform=\"translate(199.589063 209.352694)scale(0.1 -0.1)\">\n",
       "       <defs>\n",
       "        <path d=\"M 266 1200 \n",
       "L 856 1250 \n",
       "Q 922 819 1161 601 \n",
       "Q 1400 384 1738 384 \n",
       "Q 2144 384 2425 690 \n",
       "Q 2706 997 2706 1503 \n",
       "Q 2706 1984 2436 2262 \n",
       "Q 2166 2541 1728 2541 \n",
       "Q 1456 2541 1237 2417 \n",
       "Q 1019 2294 894 2097 \n",
       "L 366 2166 \n",
       "L 809 4519 \n",
       "L 3088 4519 \n",
       "L 3088 3981 \n",
       "L 1259 3981 \n",
       "L 1013 2750 \n",
       "Q 1425 3038 1878 3038 \n",
       "Q 2478 3038 2890 2622 \n",
       "Q 3303 2206 3303 1553 \n",
       "Q 3303 931 2941 478 \n",
       "Q 2500 -78 1738 -78 \n",
       "Q 1113 -78 717 272 \n",
       "Q 322 622 266 1200 \n",
       "z\n",
       "\" id=\"ArialMT-35\" transform=\"scale(0.015625)\"/>\n",
       "       </defs>\n",
       "       <use xlink:href=\"#ArialMT-35\"/>\n",
       "      </g>\n",
       "     </g>\n",
       "    </g>\n",
       "    <g id=\"ytick_3\">\n",
       "     <g id=\"line2d_8\">\n",
       "      <g>\n",
       "       <use style=\"stroke:#000000;stroke-width:0.8;\" x=\"212.15\" xlink:href=\"#m2344104cf7\" y=\"161.085831\"/>\n",
       "      </g>\n",
       "     </g>\n",
       "     <g id=\"text_9\">\n",
       "      <!-- 10 -->\n",
       "      <g transform=\"translate(194.028125 164.664737)scale(0.1 -0.1)\">\n",
       "       <defs>\n",
       "        <path d=\"M 2384 0 \n",
       "L 1822 0 \n",
       "L 1822 3584 \n",
       "Q 1619 3391 1289 3197 \n",
       "Q 959 3003 697 2906 \n",
       "L 697 3450 \n",
       "Q 1169 3672 1522 3987 \n",
       "Q 1875 4303 2022 4600 \n",
       "L 2384 4600 \n",
       "L 2384 0 \n",
       "z\n",
       "\" id=\"ArialMT-31\" transform=\"scale(0.015625)\"/>\n",
       "       </defs>\n",
       "       <use xlink:href=\"#ArialMT-31\"/>\n",
       "       <use x=\"55.615234\" xlink:href=\"#ArialMT-30\"/>\n",
       "      </g>\n",
       "     </g>\n",
       "    </g>\n",
       "    <g id=\"ytick_4\">\n",
       "     <g id=\"line2d_9\">\n",
       "      <g>\n",
       "       <use style=\"stroke:#000000;stroke-width:0.8;\" x=\"212.15\" xlink:href=\"#m2344104cf7\" y=\"116.397874\"/>\n",
       "      </g>\n",
       "     </g>\n",
       "     <g id=\"text_10\">\n",
       "      <!-- 15 -->\n",
       "      <g transform=\"translate(194.028125 119.97678)scale(0.1 -0.1)\">\n",
       "       <use xlink:href=\"#ArialMT-31\"/>\n",
       "       <use x=\"55.615234\" xlink:href=\"#ArialMT-35\"/>\n",
       "      </g>\n",
       "     </g>\n",
       "    </g>\n",
       "    <g id=\"ytick_5\">\n",
       "     <g id=\"line2d_10\">\n",
       "      <g>\n",
       "       <use style=\"stroke:#000000;stroke-width:0.8;\" x=\"212.15\" xlink:href=\"#m2344104cf7\" y=\"71.709917\"/>\n",
       "      </g>\n",
       "     </g>\n",
       "     <g id=\"text_11\">\n",
       "      <!-- 20 -->\n",
       "      <g transform=\"translate(194.028125 75.288823)scale(0.1 -0.1)\">\n",
       "       <use xlink:href=\"#ArialMT-32\"/>\n",
       "       <use x=\"55.615234\" xlink:href=\"#ArialMT-30\"/>\n",
       "      </g>\n",
       "     </g>\n",
       "    </g>\n",
       "    <g id=\"ytick_6\">\n",
       "     <g id=\"line2d_11\">\n",
       "      <g>\n",
       "       <use style=\"stroke:#000000;stroke-width:0.8;\" x=\"212.15\" xlink:href=\"#m2344104cf7\" y=\"27.02196\"/>\n",
       "      </g>\n",
       "     </g>\n",
       "     <g id=\"text_12\">\n",
       "      <!-- 25 -->\n",
       "      <g transform=\"translate(194.028125 30.600866)scale(0.1 -0.1)\">\n",
       "       <use xlink:href=\"#ArialMT-32\"/>\n",
       "       <use x=\"55.615234\" xlink:href=\"#ArialMT-35\"/>\n",
       "      </g>\n",
       "     </g>\n",
       "    </g>\n",
       "    <g id=\"text_13\">\n",
       "     <!-- $f{\\left(x \\right)}$ -->\n",
       "     <g transform=\"translate(188.040625 24.5)rotate(-90)scale(0.1 -0.1)\">\n",
       "      <defs>\n",
       "       <path d=\"M 3059 4863 \n",
       "L 2969 4384 \n",
       "L 2419 4384 \n",
       "Q 2106 4384 1964 4261 \n",
       "Q 1822 4138 1753 3809 \n",
       "L 1691 3500 \n",
       "L 2638 3500 \n",
       "L 2553 3053 \n",
       "L 1606 3053 \n",
       "L 1013 0 \n",
       "L 434 0 \n",
       "L 1031 3053 \n",
       "L 481 3053 \n",
       "L 563 3500 \n",
       "L 1113 3500 \n",
       "L 1159 3744 \n",
       "Q 1278 4363 1576 4613 \n",
       "Q 1875 4863 2516 4863 \n",
       "L 3059 4863 \n",
       "z\n",
       "\" id=\"DejaVuSans-Oblique-66\" transform=\"scale(0.015625)\"/>\n",
       "       <path d=\"M 1984 4856 \n",
       "Q 1566 4138 1362 3434 \n",
       "Q 1159 2731 1159 2009 \n",
       "Q 1159 1288 1364 580 \n",
       "Q 1569 -128 1984 -844 \n",
       "L 1484 -844 \n",
       "Q 1016 -109 783 600 \n",
       "Q 550 1309 550 2009 \n",
       "Q 550 2706 781 3412 \n",
       "Q 1013 4119 1484 4856 \n",
       "L 1984 4856 \n",
       "z\n",
       "\" id=\"DejaVuSans-28\" transform=\"scale(0.015625)\"/>\n",
       "       <path d=\"M 513 4856 \n",
       "L 1013 4856 \n",
       "Q 1481 4119 1714 3412 \n",
       "Q 1947 2706 1947 2009 \n",
       "Q 1947 1309 1714 600 \n",
       "Q 1481 -109 1013 -844 \n",
       "L 513 -844 \n",
       "Q 928 -128 1133 580 \n",
       "Q 1338 1288 1338 2009 \n",
       "Q 1338 2731 1133 3434 \n",
       "Q 928 4138 513 4856 \n",
       "z\n",
       "\" id=\"DejaVuSans-29\" transform=\"scale(0.015625)\"/>\n",
       "      </defs>\n",
       "      <use transform=\"translate(0 0.015625)\" xlink:href=\"#DejaVuSans-Oblique-66\"/>\n",
       "      <use transform=\"translate(35.205078 0.015625)\" xlink:href=\"#DejaVuSans-28\"/>\n",
       "      <use transform=\"translate(74.21875 0.015625)\" xlink:href=\"#DejaVuSans-Oblique-78\"/>\n",
       "      <use transform=\"translate(133.398438 0.015625)\" xlink:href=\"#DejaVuSans-29\"/>\n",
       "     </g>\n",
       "    </g>\n",
       "   </g>\n",
       "   <g id=\"line2d_12\">\n",
       "    <path clip-path=\"url(#p9ce0a5c0fb)\" d=\"M 25.831818 27.02196 \n",
       "L 31.215905 39.748975 \n",
       "L 35.959603 50.652996 \n",
       "L 41.444866 62.900461 \n",
       "L 47.034162 74.981797 \n",
       "L 52.381931 86.164606 \n",
       "L 58.438444 98.384908 \n",
       "L 63.834614 108.87505 \n",
       "L 69.051631 118.660535 \n",
       "L 75.223479 129.784558 \n",
       "L 80.79943 139.412924 \n",
       "L 86.916145 149.514718 \n",
       "L 91.968855 157.496053 \n",
       "L 97.969664 166.548085 \n",
       "L 103.355611 174.277876 \n",
       "L 109.705964 182.91205 \n",
       "L 115.60728 190.470332 \n",
       "L 120.731182 196.669306 \n",
       "L 126.889329 203.67234 \n",
       "L 133.110186 210.251024 \n",
       "L 140.222808 217.162357 \n",
       "L 146.663759 222.859134 \n",
       "L 152.82996 227.812542 \n",
       "L 159.162349 232.39003 \n",
       "L 164.80131 236.031756 \n",
       "L 169.522669 238.766042 \n",
       "L 174.771259 241.468853 \n",
       "L 179.733405 243.698037 \n",
       "L 185.207504 245.789499 \n",
       "L 188.019168 246.713787 \n",
       "L 190.717485 247.505119 \n",
       "L 193.291771 248.172712 \n",
       "L 196.204287 248.825162 \n",
       "L 198.751823 249.30632 \n",
       "L 200.851783 249.640127 \n",
       "L 202.27622 249.83424 \n",
       "L 203.459037 249.975577 \n",
       "L 204.822464 250.116151 \n",
       "L 206.021045 250.219963 \n",
       "L 207.078662 250.296207 \n",
       "L 207.995164 250.350633 \n",
       "L 208.93308 250.395136 \n",
       "L 209.83423 250.427227 \n",
       "L 210.764705 250.449392 \n",
       "L 211.84774 250.461156 \n",
       "L 212.801988 250.459008 \n",
       "L 213.697113 250.446338 \n",
       "L 215.359307 250.395451 \n",
       "L 216.772972 250.324184 \n",
       "L 217.80061 250.256231 \n",
       "L 218.683474 250.186994 \n",
       "L 220.253101 250.039122 \n",
       "L 221.946177 249.844065 \n",
       "L 223.874244 249.576996 \n",
       "L 225.410096 249.330013 \n",
       "L 226.92518 249.056617 \n",
       "L 229.849389 248.445391 \n",
       "L 231.471714 248.058813 \n",
       "L 233.406186 247.553568 \n",
       "L 235.959796 246.812849 \n",
       "L 238.544625 245.977585 \n",
       "L 241.267628 245.004643 \n",
       "L 244.570506 243.696405 \n",
       "L 250.58741 240.952232 \n",
       "L 255.937601 238.120688 \n",
       "L 262.125438 234.38629 \n",
       "L 267.471421 230.763085 \n",
       "L 273.002856 226.62692 \n",
       "L 279.004901 221.69329 \n",
       "L 284.392742 216.869543 \n",
       "L 290.534466 210.915063 \n",
       "L 295.563046 205.678248 \n",
       "L 301.084114 199.553656 \n",
       "L 307.429948 192.029435 \n",
       "L 314.67806 182.801196 \n",
       "L 321.286409 173.79812 \n",
       "L 327.016119 165.537063 \n",
       "L 333.049386 156.381546 \n",
       "L 339.324221 146.36235 \n",
       "L 346.274916 134.672304 \n",
       "L 353.488593 121.882296 \n",
       "L 358.181632 113.201772 \n",
       "L 363.481175 103.05857 \n",
       "L 368.754487 92.606712 \n",
       "L 374.7348 80.32038 \n",
       "L 381.169914 66.585434 \n",
       "L 386.648818 54.47125 \n",
       "L 392.888078 40.205285 \n",
       "L 398.468182 27.02196 \n",
       "\" style=\"fill:none;stroke:#1f77b4;stroke-linecap:square;stroke-width:1.5;\"/>\n",
       "   </g>\n",
       "   <g id=\"patch_3\">\n",
       "    <path d=\"M 212.15 261.633116 \n",
       "L 212.15 15.85 \n",
       "\" style=\"fill:none;stroke:#000000;stroke-linecap:square;stroke-linejoin:miter;stroke-width:0.8;\"/>\n",
       "   </g>\n",
       "   <g id=\"patch_4\">\n",
       "    <path d=\"M 417.1 261.633116 \n",
       "L 417.1 15.85 \n",
       "\" style=\"fill:none;\"/>\n",
       "   </g>\n",
       "   <g id=\"patch_5\">\n",
       "    <path d=\"M 7.2 250.461744 \n",
       "L 417.1 250.461744 \n",
       "\" style=\"fill:none;stroke:#000000;stroke-linecap:square;stroke-linejoin:miter;stroke-width:0.8;\"/>\n",
       "   </g>\n",
       "   <g id=\"patch_6\">\n",
       "    <path d=\"M 7.2 15.85 \n",
       "L 417.1 15.85 \n",
       "\" style=\"fill:none;\"/>\n",
       "   </g>\n",
       "  </g>\n",
       " </g>\n",
       " <defs>\n",
       "  <clipPath id=\"p9ce0a5c0fb\">\n",
       "   <rect height=\"245.783116\" width=\"409.9\" x=\"7.2\" y=\"15.85\"/>\n",
       "  </clipPath>\n",
       " </defs>\n",
       "</svg>\n"
      ],
      "text/plain": [
       "<Figure size 432x288 with 1 Axes>"
      ]
     },
     "metadata": {
      "needs_background": "light"
     },
     "output_type": "display_data"
    }
   ],
   "source": [
    "sp.plot(x**2, (x, -5, 5));"
   ]
  },
  {
   "cell_type": "markdown",
   "id": "c1403cf2",
   "metadata": {},
   "source": [
    "# フリースペース"
   ]
  },
  {
   "cell_type": "code",
   "execution_count": 74,
   "id": "34c42bfa",
   "metadata": {},
   "outputs": [
    {
     "data": {
      "text/latex": [
       "$\\displaystyle \\frac{1}{b^{2} - x^{2}}$"
      ],
      "text/plain": [
       "1/(b**2 - x**2)"
      ]
     },
     "metadata": {},
     "output_type": "display_data"
    },
    {
     "data": {
      "text/latex": [
       "$\\displaystyle b = 2$"
      ],
      "text/plain": [
       "Eq(b, 2)"
      ]
     },
     "metadata": {},
     "output_type": "display_data"
    },
    {
     "data": {
      "text/latex": [
       "$\\displaystyle \\frac{1}{4 - x^{2}}$"
      ],
      "text/plain": [
       "1/(4 - x**2)"
      ]
     },
     "metadata": {},
     "output_type": "display_data"
    },
    {
     "data": {
      "image/svg+xml": [
       "<?xml version=\"1.0\" encoding=\"utf-8\" standalone=\"no\"?>\n",
       "<!DOCTYPE svg PUBLIC \"-//W3C//DTD SVG 1.1//EN\"\n",
       "  \"http://www.w3.org/Graphics/SVG/1.1/DTD/svg11.dtd\">\n",
       "<svg height=\"288.95pt\" version=\"1.1\" viewBox=\"0 0 427.3 288.95\" width=\"427.3pt\" xmlns=\"http://www.w3.org/2000/svg\" xmlns:xlink=\"http://www.w3.org/1999/xlink\">\n",
       " <metadata>\n",
       "  <rdf:RDF xmlns:cc=\"http://creativecommons.org/ns#\" xmlns:dc=\"http://purl.org/dc/elements/1.1/\" xmlns:rdf=\"http://www.w3.org/1999/02/22-rdf-syntax-ns#\">\n",
       "   <cc:Work>\n",
       "    <dc:type rdf:resource=\"http://purl.org/dc/dcmitype/StillImage\"/>\n",
       "    <dc:date>2025-05-12T22:36:48.057580</dc:date>\n",
       "    <dc:format>image/svg+xml</dc:format>\n",
       "    <dc:creator>\n",
       "     <cc:Agent>\n",
       "      <dc:title>Matplotlib v3.4.2, https://matplotlib.org/</dc:title>\n",
       "     </cc:Agent>\n",
       "    </dc:creator>\n",
       "   </cc:Work>\n",
       "  </rdf:RDF>\n",
       " </metadata>\n",
       " <defs>\n",
       "  <style type=\"text/css\">*{stroke-linecap:butt;stroke-linejoin:round;}</style>\n",
       " </defs>\n",
       " <g id=\"figure_1\">\n",
       "  <g id=\"patch_1\">\n",
       "   <path d=\"M 0 288.95 \n",
       "L 427.3 288.95 \n",
       "L 427.3 0 \n",
       "L 0 0 \n",
       "z\n",
       "\" style=\"fill:none;\"/>\n",
       "  </g>\n",
       "  <g id=\"axes_1\">\n",
       "   <g id=\"patch_2\">\n",
       "    <path d=\"M 7.2 281.75 \n",
       "L 417.1 281.75 \n",
       "L 417.1 15.85 \n",
       "L 7.2 15.85 \n",
       "z\n",
       "\" style=\"fill:#ffffff;\"/>\n",
       "   </g>\n",
       "   <g id=\"matplotlib.axis_1\">\n",
       "    <g id=\"xtick_1\">\n",
       "     <g id=\"line2d_1\">\n",
       "      <defs>\n",
       "       <path d=\"M 0 0 \n",
       "L 0 3.5 \n",
       "\" id=\"mdc8816a675\" style=\"stroke:#000000;stroke-width:0.8;\"/>\n",
       "      </defs>\n",
       "      <g>\n",
       "       <use style=\"stroke:#000000;stroke-width:0.8;\" x=\"63.095455\" xlink:href=\"#mdc8816a675\" y=\"151.821591\"/>\n",
       "      </g>\n",
       "     </g>\n",
       "     <g id=\"text_1\">\n",
       "      <!-- −4 -->\n",
       "      <g transform=\"translate(57.394673 165.979403)scale(0.1 -0.1)\">\n",
       "       <defs>\n",
       "        <path d=\"M 3381 1997 \n",
       "L 356 1997 \n",
       "L 356 2522 \n",
       "L 3381 2522 \n",
       "L 3381 1997 \n",
       "z\n",
       "\" id=\"ArialMT-2212\" transform=\"scale(0.015625)\"/>\n",
       "        <path d=\"M 2069 0 \n",
       "L 2069 1097 \n",
       "L 81 1097 \n",
       "L 81 1613 \n",
       "L 2172 4581 \n",
       "L 2631 4581 \n",
       "L 2631 1613 \n",
       "L 3250 1613 \n",
       "L 3250 1097 \n",
       "L 2631 1097 \n",
       "L 2631 0 \n",
       "L 2069 0 \n",
       "z\n",
       "M 2069 1613 \n",
       "L 2069 3678 \n",
       "L 634 1613 \n",
       "L 2069 1613 \n",
       "z\n",
       "\" id=\"ArialMT-34\" transform=\"scale(0.015625)\"/>\n",
       "       </defs>\n",
       "       <use xlink:href=\"#ArialMT-2212\"/>\n",
       "       <use x=\"58.398438\" xlink:href=\"#ArialMT-34\"/>\n",
       "      </g>\n",
       "     </g>\n",
       "    </g>\n",
       "    <g id=\"xtick_2\">\n",
       "     <g id=\"line2d_2\">\n",
       "      <g>\n",
       "       <use style=\"stroke:#000000;stroke-width:0.8;\" x=\"137.622727\" xlink:href=\"#mdc8816a675\" y=\"151.821591\"/>\n",
       "      </g>\n",
       "     </g>\n",
       "     <g id=\"text_2\">\n",
       "      <!-- −2 -->\n",
       "      <g transform=\"translate(131.921946 165.979403)scale(0.1 -0.1)\">\n",
       "       <defs>\n",
       "        <path d=\"M 3222 541 \n",
       "L 3222 0 \n",
       "L 194 0 \n",
       "Q 188 203 259 391 \n",
       "Q 375 700 629 1000 \n",
       "Q 884 1300 1366 1694 \n",
       "Q 2113 2306 2375 2664 \n",
       "Q 2638 3022 2638 3341 \n",
       "Q 2638 3675 2398 3904 \n",
       "Q 2159 4134 1775 4134 \n",
       "Q 1369 4134 1125 3890 \n",
       "Q 881 3647 878 3216 \n",
       "L 300 3275 \n",
       "Q 359 3922 746 4261 \n",
       "Q 1134 4600 1788 4600 \n",
       "Q 2447 4600 2831 4234 \n",
       "Q 3216 3869 3216 3328 \n",
       "Q 3216 3053 3103 2787 \n",
       "Q 2991 2522 2730 2228 \n",
       "Q 2469 1934 1863 1422 \n",
       "Q 1356 997 1212 845 \n",
       "Q 1069 694 975 541 \n",
       "L 3222 541 \n",
       "z\n",
       "\" id=\"ArialMT-32\" transform=\"scale(0.015625)\"/>\n",
       "       </defs>\n",
       "       <use xlink:href=\"#ArialMT-2212\"/>\n",
       "       <use x=\"58.398438\" xlink:href=\"#ArialMT-32\"/>\n",
       "      </g>\n",
       "     </g>\n",
       "    </g>\n",
       "    <g id=\"xtick_3\">\n",
       "     <g id=\"line2d_3\">\n",
       "      <g>\n",
       "       <use style=\"stroke:#000000;stroke-width:0.8;\" x=\"212.15\" xlink:href=\"#mdc8816a675\" y=\"151.821591\"/>\n",
       "      </g>\n",
       "     </g>\n",
       "     <g id=\"text_3\">\n",
       "      <!-- 0 -->\n",
       "      <g transform=\"translate(209.369531 165.979403)scale(0.1 -0.1)\">\n",
       "       <defs>\n",
       "        <path d=\"M 266 2259 \n",
       "Q 266 3072 433 3567 \n",
       "Q 600 4063 929 4331 \n",
       "Q 1259 4600 1759 4600 \n",
       "Q 2128 4600 2406 4451 \n",
       "Q 2684 4303 2865 4023 \n",
       "Q 3047 3744 3150 3342 \n",
       "Q 3253 2941 3253 2259 \n",
       "Q 3253 1453 3087 958 \n",
       "Q 2922 463 2592 192 \n",
       "Q 2263 -78 1759 -78 \n",
       "Q 1097 -78 719 397 \n",
       "Q 266 969 266 2259 \n",
       "z\n",
       "M 844 2259 \n",
       "Q 844 1131 1108 757 \n",
       "Q 1372 384 1759 384 \n",
       "Q 2147 384 2411 759 \n",
       "Q 2675 1134 2675 2259 \n",
       "Q 2675 3391 2411 3762 \n",
       "Q 2147 4134 1753 4134 \n",
       "Q 1366 4134 1134 3806 \n",
       "Q 844 3388 844 2259 \n",
       "z\n",
       "\" id=\"ArialMT-30\" transform=\"scale(0.015625)\"/>\n",
       "       </defs>\n",
       "       <use xlink:href=\"#ArialMT-30\"/>\n",
       "      </g>\n",
       "     </g>\n",
       "    </g>\n",
       "    <g id=\"xtick_4\">\n",
       "     <g id=\"line2d_4\">\n",
       "      <g>\n",
       "       <use style=\"stroke:#000000;stroke-width:0.8;\" x=\"286.677273\" xlink:href=\"#mdc8816a675\" y=\"151.821591\"/>\n",
       "      </g>\n",
       "     </g>\n",
       "     <g id=\"text_4\">\n",
       "      <!-- 2 -->\n",
       "      <g transform=\"translate(283.896804 165.979403)scale(0.1 -0.1)\">\n",
       "       <use xlink:href=\"#ArialMT-32\"/>\n",
       "      </g>\n",
       "     </g>\n",
       "    </g>\n",
       "    <g id=\"xtick_5\">\n",
       "     <g id=\"line2d_5\">\n",
       "      <g>\n",
       "       <use style=\"stroke:#000000;stroke-width:0.8;\" x=\"361.204545\" xlink:href=\"#mdc8816a675\" y=\"151.821591\"/>\n",
       "      </g>\n",
       "     </g>\n",
       "     <g id=\"text_5\">\n",
       "      <!-- 4 -->\n",
       "      <g transform=\"translate(358.424077 165.979403)scale(0.1 -0.1)\">\n",
       "       <use xlink:href=\"#ArialMT-34\"/>\n",
       "      </g>\n",
       "     </g>\n",
       "    </g>\n",
       "    <g id=\"text_6\">\n",
       "     <!-- $x$ -->\n",
       "     <g transform=\"translate(414.1 179.124716)scale(0.1 -0.1)\">\n",
       "      <defs>\n",
       "       <path d=\"M 3841 3500 \n",
       "L 2234 1784 \n",
       "L 3219 0 \n",
       "L 2559 0 \n",
       "L 1819 1388 \n",
       "L 531 0 \n",
       "L -166 0 \n",
       "L 1556 1844 \n",
       "L 641 3500 \n",
       "L 1300 3500 \n",
       "L 1972 2234 \n",
       "L 3144 3500 \n",
       "L 3841 3500 \n",
       "z\n",
       "\" id=\"DejaVuSans-Oblique-78\" transform=\"scale(0.015625)\"/>\n",
       "      </defs>\n",
       "      <use transform=\"translate(0 0.3125)\" xlink:href=\"#DejaVuSans-Oblique-78\"/>\n",
       "     </g>\n",
       "    </g>\n",
       "   </g>\n",
       "   <g id=\"matplotlib.axis_2\">\n",
       "    <g id=\"ytick_1\">\n",
       "     <g id=\"line2d_6\">\n",
       "      <defs>\n",
       "       <path d=\"M 0 0 \n",
       "L -3.5 0 \n",
       "\" id=\"md33ca2ce58\" style=\"stroke:#000000;stroke-width:0.8;\"/>\n",
       "      </defs>\n",
       "      <g>\n",
       "       <use style=\"stroke:#000000;stroke-width:0.8;\" x=\"212.15\" xlink:href=\"#md33ca2ce58\" y=\"248.452068\"/>\n",
       "      </g>\n",
       "     </g>\n",
       "     <g id=\"text_7\">\n",
       "      <!-- −2 -->\n",
       "      <g transform=\"translate(193.748437 252.030974)scale(0.1 -0.1)\">\n",
       "       <use xlink:href=\"#ArialMT-2212\"/>\n",
       "       <use x=\"58.398438\" xlink:href=\"#ArialMT-32\"/>\n",
       "      </g>\n",
       "     </g>\n",
       "    </g>\n",
       "    <g id=\"ytick_2\">\n",
       "     <g id=\"line2d_7\">\n",
       "      <g>\n",
       "       <use style=\"stroke:#000000;stroke-width:0.8;\" x=\"212.15\" xlink:href=\"#md33ca2ce58\" y=\"200.13683\"/>\n",
       "      </g>\n",
       "     </g>\n",
       "     <g id=\"text_8\">\n",
       "      <!-- −1 -->\n",
       "      <g transform=\"translate(193.748437 203.715736)scale(0.1 -0.1)\">\n",
       "       <defs>\n",
       "        <path d=\"M 2384 0 \n",
       "L 1822 0 \n",
       "L 1822 3584 \n",
       "Q 1619 3391 1289 3197 \n",
       "Q 959 3003 697 2906 \n",
       "L 697 3450 \n",
       "Q 1169 3672 1522 3987 \n",
       "Q 1875 4303 2022 4600 \n",
       "L 2384 4600 \n",
       "L 2384 0 \n",
       "z\n",
       "\" id=\"ArialMT-31\" transform=\"scale(0.015625)\"/>\n",
       "       </defs>\n",
       "       <use xlink:href=\"#ArialMT-2212\"/>\n",
       "       <use x=\"58.398438\" xlink:href=\"#ArialMT-31\"/>\n",
       "      </g>\n",
       "     </g>\n",
       "    </g>\n",
       "    <g id=\"ytick_3\">\n",
       "     <g id=\"line2d_8\">\n",
       "      <g>\n",
       "       <use style=\"stroke:#000000;stroke-width:0.8;\" x=\"212.15\" xlink:href=\"#md33ca2ce58\" y=\"151.821591\"/>\n",
       "      </g>\n",
       "     </g>\n",
       "     <g id=\"text_9\">\n",
       "      <!-- 0 -->\n",
       "      <g transform=\"translate(199.589063 155.400497)scale(0.1 -0.1)\">\n",
       "       <use xlink:href=\"#ArialMT-30\"/>\n",
       "      </g>\n",
       "     </g>\n",
       "    </g>\n",
       "    <g id=\"ytick_4\">\n",
       "     <g id=\"line2d_9\">\n",
       "      <g>\n",
       "       <use style=\"stroke:#000000;stroke-width:0.8;\" x=\"212.15\" xlink:href=\"#md33ca2ce58\" y=\"103.506352\"/>\n",
       "      </g>\n",
       "     </g>\n",
       "     <g id=\"text_10\">\n",
       "      <!-- 1 -->\n",
       "      <g transform=\"translate(199.589063 107.085259)scale(0.1 -0.1)\">\n",
       "       <use xlink:href=\"#ArialMT-31\"/>\n",
       "      </g>\n",
       "     </g>\n",
       "    </g>\n",
       "    <g id=\"ytick_5\">\n",
       "     <g id=\"line2d_10\">\n",
       "      <g>\n",
       "       <use style=\"stroke:#000000;stroke-width:0.8;\" x=\"212.15\" xlink:href=\"#md33ca2ce58\" y=\"55.191114\"/>\n",
       "      </g>\n",
       "     </g>\n",
       "     <g id=\"text_11\">\n",
       "      <!-- 2 -->\n",
       "      <g transform=\"translate(199.589063 58.77002)scale(0.1 -0.1)\">\n",
       "       <use xlink:href=\"#ArialMT-32\"/>\n",
       "      </g>\n",
       "     </g>\n",
       "    </g>\n",
       "    <g id=\"text_12\">\n",
       "     <!-- $f{\\left(x \\right)}$ -->\n",
       "     <g transform=\"translate(187.760937 24.5)rotate(-90)scale(0.1 -0.1)\">\n",
       "      <defs>\n",
       "       <path d=\"M 3059 4863 \n",
       "L 2969 4384 \n",
       "L 2419 4384 \n",
       "Q 2106 4384 1964 4261 \n",
       "Q 1822 4138 1753 3809 \n",
       "L 1691 3500 \n",
       "L 2638 3500 \n",
       "L 2553 3053 \n",
       "L 1606 3053 \n",
       "L 1013 0 \n",
       "L 434 0 \n",
       "L 1031 3053 \n",
       "L 481 3053 \n",
       "L 563 3500 \n",
       "L 1113 3500 \n",
       "L 1159 3744 \n",
       "Q 1278 4363 1576 4613 \n",
       "Q 1875 4863 2516 4863 \n",
       "L 3059 4863 \n",
       "z\n",
       "\" id=\"DejaVuSans-Oblique-66\" transform=\"scale(0.015625)\"/>\n",
       "       <path d=\"M 1984 4856 \n",
       "Q 1566 4138 1362 3434 \n",
       "Q 1159 2731 1159 2009 \n",
       "Q 1159 1288 1364 580 \n",
       "Q 1569 -128 1984 -844 \n",
       "L 1484 -844 \n",
       "Q 1016 -109 783 600 \n",
       "Q 550 1309 550 2009 \n",
       "Q 550 2706 781 3412 \n",
       "Q 1013 4119 1484 4856 \n",
       "L 1984 4856 \n",
       "z\n",
       "\" id=\"DejaVuSans-28\" transform=\"scale(0.015625)\"/>\n",
       "       <path d=\"M 513 4856 \n",
       "L 1013 4856 \n",
       "Q 1481 4119 1714 3412 \n",
       "Q 1947 2706 1947 2009 \n",
       "Q 1947 1309 1714 600 \n",
       "Q 1481 -109 1013 -844 \n",
       "L 513 -844 \n",
       "Q 928 -128 1133 580 \n",
       "Q 1338 1288 1338 2009 \n",
       "Q 1338 2731 1133 3434 \n",
       "Q 928 4138 513 4856 \n",
       "z\n",
       "\" id=\"DejaVuSans-29\" transform=\"scale(0.015625)\"/>\n",
       "      </defs>\n",
       "      <use transform=\"translate(0 0.015625)\" xlink:href=\"#DejaVuSans-Oblique-66\"/>\n",
       "      <use transform=\"translate(35.205078 0.015625)\" xlink:href=\"#DejaVuSans-28\"/>\n",
       "      <use transform=\"translate(74.21875 0.015625)\" xlink:href=\"#DejaVuSans-Oblique-78\"/>\n",
       "      <use transform=\"translate(133.398438 0.015625)\" xlink:href=\"#DejaVuSans-29\"/>\n",
       "     </g>\n",
       "    </g>\n",
       "   </g>\n",
       "   <g id=\"line2d_11\">\n",
       "    <path clip-path=\"url(#p26b0c07d2b)\" d=\"M 25.831818 154.122317 \n",
       "L 27.83387 154.182391 \n",
       "L 29.519025 154.234903 \n",
       "L 31.713044 154.306095 \n",
       "L 33.725838 154.37438 \n",
       "L 35.379826 154.43275 \n",
       "L 37.192971 154.499211 \n",
       "L 39.202602 154.576073 \n",
       "L 40.99312 154.647559 \n",
       "L 42.693975 154.718246 \n",
       "L 44.592496 154.80054 \n",
       "L 46.314387 154.878459 \n",
       "L 47.762444 154.946545 \n",
       "L 49.964713 155.054859 \n",
       "L 51.824454 155.1511 \n",
       "L 53.603036 155.247527 \n",
       "L 55.168364 155.336169 \n",
       "L 56.63184 155.422439 \n",
       "L 58.253248 155.522081 \n",
       "L 60.093161 155.640662 \n",
       "L 61.860635 155.760484 \n",
       "L 63.433472 155.872329 \n",
       "L 64.757757 155.970561 \n",
       "L 66.191529 156.081361 \n",
       "L 67.888454 156.218862 \n",
       "L 69.617957 156.366621 \n",
       "L 71.52725 156.539412 \n",
       "L 73.243365 156.704116 \n",
       "L 74.955219 156.878045 \n",
       "L 76.561535 157.050737 \n",
       "L 78.02626 157.216866 \n",
       "L 79.907482 157.443411 \n",
       "L 81.471912 157.644095 \n",
       "L 83.391954 157.907182 \n",
       "L 84.980995 158.140274 \n",
       "L 86.600423 158.393593 \n",
       "L 88.09383 158.642667 \n",
       "L 89.690044 158.92693 \n",
       "L 91.137643 159.202438 \n",
       "L 92.9022 159.56353 \n",
       "L 94.547351 159.928037 \n",
       "L 96.164274 160.315681 \n",
       "L 97.850184 160.754788 \n",
       "L 99.104917 161.107495 \n",
       "L 100.608219 161.562701 \n",
       "L 101.993643 162.017396 \n",
       "L 103.510259 162.558869 \n",
       "L 104.918193 163.107863 \n",
       "L 106.547089 163.806867 \n",
       "L 108.30793 164.652206 \n",
       "L 109.89817 165.510191 \n",
       "L 111.786022 166.668956 \n",
       "L 113.385999 167.795231 \n",
       "L 115.001022 169.09663 \n",
       "L 116.809663 170.797737 \n",
       "L 117.774365 171.833696 \n",
       "L 118.593041 172.796302 \n",
       "L 119.494632 173.958207 \n",
       "L 120.307535 175.110704 \n",
       "L 121.118536 176.3748 \n",
       "L 121.934629 177.780011 \n",
       "L 123.35582 180.614232 \n",
       "L 124.138154 182.43132 \n",
       "L 125.016107 184.740863 \n",
       "L 125.987877 187.706064 \n",
       "L 126.931501 191.103962 \n",
       "L 127.82393 194.922403 \n",
       "L 128.870138 200.394195 \n",
       "L 130.656974 213.552888 \n",
       "L 132.368024 234.561386 \n",
       "L 133.896364 269.663636 \n",
       "\" style=\"fill:none;stroke:#1f77b4;stroke-linecap:square;stroke-width:1.5;\"/>\n",
       "   </g>\n",
       "   <g id=\"line2d_12\">\n",
       "    <path clip-path=\"url(#p26b0c07d2b)\" d=\"M 141.349091 27.936364 \n",
       "L 143.184429 67.756307 \n",
       "L 145.170018 89.003489 \n",
       "L 146.147378 95.818851 \n",
       "L 147.125865 101.23291 \n",
       "L 148.189686 105.976406 \n",
       "L 149.304793 110.015918 \n",
       "L 150.478548 113.505451 \n",
       "L 151.457055 115.957907 \n",
       "L 152.68633 118.582412 \n",
       "L 154.043891 121.01825 \n",
       "L 155.190582 122.777748 \n",
       "L 156.176647 124.113518 \n",
       "L 157.284098 125.450419 \n",
       "L 158.467843 126.71832 \n",
       "L 159.543499 127.74817 \n",
       "L 160.795736 128.822529 \n",
       "L 162.787375 130.302306 \n",
       "L 164.676063 131.494762 \n",
       "L 166.767369 132.624262 \n",
       "L 168.864297 133.594027 \n",
       "L 170.960415 134.430674 \n",
       "L 173.456656 135.285431 \n",
       "L 175.901378 135.999907 \n",
       "L 177.622901 136.441828 \n",
       "L 179.661689 136.908915 \n",
       "L 181.73579 137.329195 \n",
       "L 184.028258 137.73746 \n",
       "L 185.661326 137.996298 \n",
       "L 187.442991 138.251372 \n",
       "L 189.593831 138.52478 \n",
       "L 191.381696 138.725824 \n",
       "L 192.964897 138.885547 \n",
       "L 194.646359 139.037614 \n",
       "L 196.306961 139.1711 \n",
       "L 197.947195 139.287575 \n",
       "L 199.704191 139.396265 \n",
       "L 201.292275 139.480849 \n",
       "L 203.446925 139.575787 \n",
       "L 205.306934 139.640081 \n",
       "L 207.507581 139.69573 \n",
       "L 209.668376 139.729374 \n",
       "L 212.050876 139.74276 \n",
       "L 214.088955 139.7346 \n",
       "L 216.800012 139.695575 \n",
       "L 219.092929 139.637035 \n",
       "L 221.568406 139.546743 \n",
       "L 224.093507 139.424393 \n",
       "L 226.46881 139.279823 \n",
       "L 228.455725 139.135518 \n",
       "L 230.538865 138.959743 \n",
       "L 232.96982 138.720345 \n",
       "L 234.600197 138.537337 \n",
       "L 236.405824 138.31174 \n",
       "L 238.625963 137.998216 \n",
       "L 240.552534 137.690375 \n",
       "L 243.938071 137.056632 \n",
       "L 246.971113 136.369604 \n",
       "L 249.615797 135.657892 \n",
       "L 252.653757 134.679634 \n",
       "L 254.973553 133.788996 \n",
       "L 257.757431 132.511238 \n",
       "L 260.428445 131.009002 \n",
       "L 262.968268 129.24635 \n",
       "L 264.146171 128.287298 \n",
       "L 265.490425 127.057214 \n",
       "L 266.800949 125.692204 \n",
       "L 267.890011 124.408642 \n",
       "L 268.650874 123.417492 \n",
       "L 269.488929 122.221907 \n",
       "L 270.841322 120.020237 \n",
       "L 271.590874 118.626989 \n",
       "L 272.412287 116.9295 \n",
       "L 273.784453 113.605027 \n",
       "L 274.953617 110.151608 \n",
       "L 276.37166 104.902336 \n",
       "L 277.567248 99.19816 \n",
       "L 278.556296 93.203471 \n",
       "L 280.803388 72.050628 \n",
       "L 282.950909 27.936364 \n",
       "\" style=\"fill:none;stroke:#ff7f0e;stroke-linecap:square;stroke-width:1.5;\"/>\n",
       "   </g>\n",
       "   <g id=\"line2d_13\">\n",
       "    <path clip-path=\"url(#p26b0c07d2b)\" d=\"M 290.403636 269.663636 \n",
       "L 292.647144 224.313492 \n",
       "L 294.556007 206.082003 \n",
       "L 295.629732 199.24971 \n",
       "L 296.531867 194.663318 \n",
       "L 297.356484 191.151117 \n",
       "L 298.296392 187.758167 \n",
       "L 299.200472 184.977257 \n",
       "L 300.250876 182.213902 \n",
       "L 301.263781 179.928365 \n",
       "L 302.199495 178.083855 \n",
       "L 303.441654 175.955793 \n",
       "L 304.512362 174.361385 \n",
       "L 305.691809 172.814906 \n",
       "L 306.824349 171.502178 \n",
       "L 308.698448 169.630024 \n",
       "L 310.314397 168.257305 \n",
       "L 312.007232 167.009997 \n",
       "L 313.456861 166.069381 \n",
       "L 315.134846 165.102528 \n",
       "L 317.131001 164.093995 \n",
       "L 318.808217 163.345709 \n",
       "L 320.276822 162.753392 \n",
       "L 322.016992 162.117012 \n",
       "L 323.870357 161.506636 \n",
       "L 325.510338 161.016655 \n",
       "L 326.959649 160.617975 \n",
       "L 329.067473 160.088548 \n",
       "L 330.879294 159.675361 \n",
       "L 332.338553 159.36739 \n",
       "L 334.088731 159.024101 \n",
       "L 335.770856 158.718268 \n",
       "L 337.226948 158.470747 \n",
       "L 338.796279 158.22023 \n",
       "L 340.378822 157.983196 \n",
       "L 341.805608 157.781785 \n",
       "L 343.382289 157.57166 \n",
       "L 344.827827 157.389605 \n",
       "L 346.365454 157.206209 \n",
       "L 347.544051 157.072297 \n",
       "L 348.982397 156.916175 \n",
       "L 350.621384 156.747395 \n",
       "L 352.066413 156.606082 \n",
       "L 353.6092 156.462411 \n",
       "L 355.325032 156.310752 \n",
       "L 356.828646 156.184399 \n",
       "L 358.453121 156.05429 \n",
       "L 360.037693 155.933361 \n",
       "L 361.532999 155.824314 \n",
       "L 363.096477 155.715234 \n",
       "L 364.68123 155.609506 \n",
       "L 366.331237 155.504279 \n",
       "L 368.20951 155.390133 \n",
       "L 370.202748 155.275121 \n",
       "L 372.191476 155.166206 \n",
       "L 373.913463 155.076293 \n",
       "L 375.37306 155.00308 \n",
       "L 377.090829 154.920247 \n",
       "L 378.784662 154.8419 \n",
       "L 380.318089 154.77367 \n",
       "L 381.888725 154.706302 \n",
       "L 383.527773 154.638581 \n",
       "L 385.375322 154.565235 \n",
       "L 387.268114 154.493198 \n",
       "L 388.95782 154.431398 \n",
       "L 390.589041 154.373864 \n",
       "L 392.293751 154.31586 \n",
       "L 393.971487 154.260789 \n",
       "L 395.462937 154.213432 \n",
       "L 396.994295 154.166304 \n",
       "L 398.468182 154.122317 \n",
       "\" style=\"fill:none;stroke:#2ca02c;stroke-linecap:square;stroke-width:1.5;\"/>\n",
       "   </g>\n",
       "   <g id=\"patch_3\">\n",
       "    <path d=\"M 212.15 281.75 \n",
       "L 212.15 15.85 \n",
       "\" style=\"fill:none;stroke:#000000;stroke-linecap:square;stroke-linejoin:miter;stroke-width:0.8;\"/>\n",
       "   </g>\n",
       "   <g id=\"patch_4\">\n",
       "    <path d=\"M 417.1 281.75 \n",
       "L 417.1 15.85 \n",
       "\" style=\"fill:none;\"/>\n",
       "   </g>\n",
       "   <g id=\"patch_5\">\n",
       "    <path d=\"M 7.2 151.821591 \n",
       "L 417.1 151.821591 \n",
       "\" style=\"fill:none;stroke:#000000;stroke-linecap:square;stroke-linejoin:miter;stroke-width:0.8;\"/>\n",
       "   </g>\n",
       "   <g id=\"patch_6\">\n",
       "    <path d=\"M 7.2 15.85 \n",
       "L 417.1 15.85 \n",
       "\" style=\"fill:none;\"/>\n",
       "   </g>\n",
       "  </g>\n",
       " </g>\n",
       " <defs>\n",
       "  <clipPath id=\"p26b0c07d2b\">\n",
       "   <rect height=\"265.9\" width=\"409.9\" x=\"7.2\" y=\"15.85\"/>\n",
       "  </clipPath>\n",
       " </defs>\n",
       "</svg>\n"
      ],
      "text/plain": [
       "<Figure size 432x288 with 1 Axes>"
      ]
     },
     "metadata": {
      "needs_background": "light"
     },
     "output_type": "display_data"
    }
   ],
   "source": [
    "x = sp.Symbol('x')\n",
    "b = sp.Symbol('b')\n",
    "\n",
    "# display(x)\n",
    "# display(b)\n",
    "\n",
    "expr = 1 / (b**2 - x**2)\n",
    "display(expr)\n",
    "\n",
    "### b = 2\n",
    "display(sp.Eq(b,2))\n",
    "# それぞれ分けて出力\n",
    "#sp.plot(expr.subs(b, 2), (x, -4, -2.1));\n",
    "#sp.plot(expr.subs(b, 2), (x, -1.9, 1.9));\n",
    "#sp.plot(expr.subs(b, 2), (x, 2.1, 4));\n",
    "display(expr.subs(b, 2))\n",
    "\n",
    "# 一つにまとめて出力\n",
    "p = sp.plot((expr.subs(b, 2), (x, -5, -2.1)),\n",
    "            (expr.subs(b, 2), (x, -1.9, 1.9)),\n",
    "            (expr.subs(b, 2), (x, 2.1, 5)),\n",
    "            show=False)\n",
    "p.show()"
   ]
  },
  {
   "cell_type": "code",
   "execution_count": 78,
   "id": "d123c55a",
   "metadata": {},
   "outputs": [
    {
     "data": {
      "text/latex": [
       "$\\displaystyle \\frac{\\log{\\left(3 \\right)}}{2}$"
      ],
      "text/plain": [
       "log(3)/2"
      ]
     },
     "metadata": {},
     "output_type": "display_data"
    },
    {
     "data": {
      "text/latex": [
       "$\\displaystyle 0.549306144334055$"
      ],
      "text/plain": [
       "0.549306144334055"
      ]
     },
     "metadata": {},
     "output_type": "display_data"
    }
   ],
   "source": [
    "# b=2 を代入して、x=-1 から x=1 まで定積分\n",
    "result = sp.integrate(expr.subs(b, 2), (x, -1, 1))\n",
    "display(result)\n",
    "display(result.evalf())"
   ]
  },
  {
   "cell_type": "markdown",
   "id": "be5804b2",
   "metadata": {},
   "source": [
    "## ネイピア数"
   ]
  },
  {
   "cell_type": "code",
   "execution_count": 79,
   "id": "ed70adf3",
   "metadata": {},
   "outputs": [
    {
     "data": {
      "text/latex": [
       "$\\displaystyle e$"
      ],
      "text/plain": [
       "E"
      ]
     },
     "metadata": {},
     "output_type": "display_data"
    }
   ],
   "source": [
    "### ネイピア数\n",
    "display(sp.E)"
   ]
  },
  {
   "cell_type": "code",
   "execution_count": 87,
   "id": "759e2e76",
   "metadata": {},
   "outputs": [
    {
     "data": {
      "text/latex": [
       "$\\displaystyle \\left(x + 1\\right)^{\\frac{1}{x}}$"
      ],
      "text/plain": [
       "(x + 1)**(1/x)"
      ]
     },
     "metadata": {},
     "output_type": "display_data"
    },
    {
     "data": {
      "image/svg+xml": [
       "<?xml version=\"1.0\" encoding=\"utf-8\" standalone=\"no\"?>\n",
       "<!DOCTYPE svg PUBLIC \"-//W3C//DTD SVG 1.1//EN\"\n",
       "  \"http://www.w3.org/Graphics/SVG/1.1/DTD/svg11.dtd\">\n",
       "<svg height=\"288.95pt\" version=\"1.1\" viewBox=\"0 0 426.308587 288.95\" width=\"426.308587pt\" xmlns=\"http://www.w3.org/2000/svg\" xmlns:xlink=\"http://www.w3.org/1999/xlink\">\n",
       " <metadata>\n",
       "  <rdf:RDF xmlns:cc=\"http://creativecommons.org/ns#\" xmlns:dc=\"http://purl.org/dc/elements/1.1/\" xmlns:rdf=\"http://www.w3.org/1999/02/22-rdf-syntax-ns#\">\n",
       "   <cc:Work>\n",
       "    <dc:type rdf:resource=\"http://purl.org/dc/dcmitype/StillImage\"/>\n",
       "    <dc:date>2025-05-12T23:01:39.590940</dc:date>\n",
       "    <dc:format>image/svg+xml</dc:format>\n",
       "    <dc:creator>\n",
       "     <cc:Agent>\n",
       "      <dc:title>Matplotlib v3.4.2, https://matplotlib.org/</dc:title>\n",
       "     </cc:Agent>\n",
       "    </dc:creator>\n",
       "   </cc:Work>\n",
       "  </rdf:RDF>\n",
       " </metadata>\n",
       " <defs>\n",
       "  <style type=\"text/css\">*{stroke-linecap:butt;stroke-linejoin:round;}</style>\n",
       " </defs>\n",
       " <g id=\"figure_1\">\n",
       "  <g id=\"patch_1\">\n",
       "   <path d=\"M 0 288.95 \n",
       "L 426.308587 288.95 \n",
       "L 426.308587 0 \n",
       "L 0 0 \n",
       "z\n",
       "\" style=\"fill:none;\"/>\n",
       "  </g>\n",
       "  <g id=\"axes_1\">\n",
       "   <g id=\"patch_2\">\n",
       "    <path d=\"M 11.360703 281.75 \n",
       "L 416.108587 281.75 \n",
       "L 416.108587 15.85 \n",
       "L 11.360703 15.85 \n",
       "z\n",
       "\" style=\"fill:#ffffff;\"/>\n",
       "   </g>\n",
       "   <g id=\"matplotlib.axis_1\">\n",
       "    <g id=\"xtick_1\">\n",
       "     <g id=\"line2d_1\">\n",
       "      <defs>\n",
       "       <path d=\"M 0 0 \n",
       "L 0 3.5 \n",
       "\" id=\"m27a99c00cd\" style=\"stroke:#000000;stroke-width:0.8;\"/>\n",
       "      </defs>\n",
       "      <g>\n",
       "       <use style=\"stroke:#000000;stroke-width:0.8;\" x=\"17.070312\" xlink:href=\"#m27a99c00cd\" y=\"148.8\"/>\n",
       "      </g>\n",
       "     </g>\n",
       "     <g id=\"text_1\">\n",
       "      <!-- −1.0 -->\n",
       "      <g transform=\"translate(7.2 162.957812)scale(0.1 -0.1)\">\n",
       "       <defs>\n",
       "        <path d=\"M 3381 1997 \n",
       "L 356 1997 \n",
       "L 356 2522 \n",
       "L 3381 2522 \n",
       "L 3381 1997 \n",
       "z\n",
       "\" id=\"ArialMT-2212\" transform=\"scale(0.015625)\"/>\n",
       "        <path d=\"M 2384 0 \n",
       "L 1822 0 \n",
       "L 1822 3584 \n",
       "Q 1619 3391 1289 3197 \n",
       "Q 959 3003 697 2906 \n",
       "L 697 3450 \n",
       "Q 1169 3672 1522 3987 \n",
       "Q 1875 4303 2022 4600 \n",
       "L 2384 4600 \n",
       "L 2384 0 \n",
       "z\n",
       "\" id=\"ArialMT-31\" transform=\"scale(0.015625)\"/>\n",
       "        <path d=\"M 581 0 \n",
       "L 581 641 \n",
       "L 1222 641 \n",
       "L 1222 0 \n",
       "L 581 0 \n",
       "z\n",
       "\" id=\"ArialMT-2e\" transform=\"scale(0.015625)\"/>\n",
       "        <path d=\"M 266 2259 \n",
       "Q 266 3072 433 3567 \n",
       "Q 600 4063 929 4331 \n",
       "Q 1259 4600 1759 4600 \n",
       "Q 2128 4600 2406 4451 \n",
       "Q 2684 4303 2865 4023 \n",
       "Q 3047 3744 3150 3342 \n",
       "Q 3253 2941 3253 2259 \n",
       "Q 3253 1453 3087 958 \n",
       "Q 2922 463 2592 192 \n",
       "Q 2263 -78 1759 -78 \n",
       "Q 1097 -78 719 397 \n",
       "Q 266 969 266 2259 \n",
       "z\n",
       "M 844 2259 \n",
       "Q 844 1131 1108 757 \n",
       "Q 1372 384 1759 384 \n",
       "Q 2147 384 2411 759 \n",
       "Q 2675 1134 2675 2259 \n",
       "Q 2675 3391 2411 3762 \n",
       "Q 2147 4134 1753 4134 \n",
       "Q 1366 4134 1134 3806 \n",
       "Q 844 3388 844 2259 \n",
       "z\n",
       "\" id=\"ArialMT-30\" transform=\"scale(0.015625)\"/>\n",
       "       </defs>\n",
       "       <use xlink:href=\"#ArialMT-2212\"/>\n",
       "       <use x=\"58.398438\" xlink:href=\"#ArialMT-31\"/>\n",
       "       <use x=\"114.013672\" xlink:href=\"#ArialMT-2e\"/>\n",
       "       <use x=\"141.796875\" xlink:href=\"#ArialMT-30\"/>\n",
       "      </g>\n",
       "     </g>\n",
       "    </g>\n",
       "    <g id=\"xtick_2\">\n",
       "     <g id=\"line2d_2\">\n",
       "      <g>\n",
       "       <use style=\"stroke:#000000;stroke-width:0.8;\" x=\"80.51042\" xlink:href=\"#m27a99c00cd\" y=\"148.8\"/>\n",
       "      </g>\n",
       "     </g>\n",
       "     <g id=\"text_2\">\n",
       "      <!-- −0.5 -->\n",
       "      <g transform=\"translate(70.640107 162.957812)scale(0.1 -0.1)\">\n",
       "       <defs>\n",
       "        <path d=\"M 266 1200 \n",
       "L 856 1250 \n",
       "Q 922 819 1161 601 \n",
       "Q 1400 384 1738 384 \n",
       "Q 2144 384 2425 690 \n",
       "Q 2706 997 2706 1503 \n",
       "Q 2706 1984 2436 2262 \n",
       "Q 2166 2541 1728 2541 \n",
       "Q 1456 2541 1237 2417 \n",
       "Q 1019 2294 894 2097 \n",
       "L 366 2166 \n",
       "L 809 4519 \n",
       "L 3088 4519 \n",
       "L 3088 3981 \n",
       "L 1259 3981 \n",
       "L 1013 2750 \n",
       "Q 1425 3038 1878 3038 \n",
       "Q 2478 3038 2890 2622 \n",
       "Q 3303 2206 3303 1553 \n",
       "Q 3303 931 2941 478 \n",
       "Q 2500 -78 1738 -78 \n",
       "Q 1113 -78 717 272 \n",
       "Q 322 622 266 1200 \n",
       "z\n",
       "\" id=\"ArialMT-35\" transform=\"scale(0.015625)\"/>\n",
       "       </defs>\n",
       "       <use xlink:href=\"#ArialMT-2212\"/>\n",
       "       <use x=\"58.398438\" xlink:href=\"#ArialMT-30\"/>\n",
       "       <use x=\"114.013672\" xlink:href=\"#ArialMT-2e\"/>\n",
       "       <use x=\"141.796875\" xlink:href=\"#ArialMT-35\"/>\n",
       "      </g>\n",
       "     </g>\n",
       "    </g>\n",
       "    <g id=\"xtick_3\">\n",
       "     <g id=\"line2d_3\">\n",
       "      <g>\n",
       "       <use style=\"stroke:#000000;stroke-width:0.8;\" x=\"143.950527\" xlink:href=\"#m27a99c00cd\" y=\"148.8\"/>\n",
       "      </g>\n",
       "     </g>\n",
       "     <g id=\"text_3\">\n",
       "      <!-- 0.0 -->\n",
       "      <g transform=\"translate(137.000527 162.957812)scale(0.1 -0.1)\">\n",
       "       <use xlink:href=\"#ArialMT-30\"/>\n",
       "       <use x=\"55.615234\" xlink:href=\"#ArialMT-2e\"/>\n",
       "       <use x=\"83.398438\" xlink:href=\"#ArialMT-30\"/>\n",
       "      </g>\n",
       "     </g>\n",
       "    </g>\n",
       "    <g id=\"xtick_4\">\n",
       "     <g id=\"line2d_4\">\n",
       "      <g>\n",
       "       <use style=\"stroke:#000000;stroke-width:0.8;\" x=\"207.390634\" xlink:href=\"#m27a99c00cd\" y=\"148.8\"/>\n",
       "      </g>\n",
       "     </g>\n",
       "     <g id=\"text_4\">\n",
       "      <!-- 0.5 -->\n",
       "      <g transform=\"translate(200.440634 162.957812)scale(0.1 -0.1)\">\n",
       "       <use xlink:href=\"#ArialMT-30\"/>\n",
       "       <use x=\"55.615234\" xlink:href=\"#ArialMT-2e\"/>\n",
       "       <use x=\"83.398438\" xlink:href=\"#ArialMT-35\"/>\n",
       "      </g>\n",
       "     </g>\n",
       "    </g>\n",
       "    <g id=\"xtick_5\">\n",
       "     <g id=\"line2d_5\">\n",
       "      <g>\n",
       "       <use style=\"stroke:#000000;stroke-width:0.8;\" x=\"270.830741\" xlink:href=\"#m27a99c00cd\" y=\"148.8\"/>\n",
       "      </g>\n",
       "     </g>\n",
       "     <g id=\"text_5\">\n",
       "      <!-- 1.0 -->\n",
       "      <g transform=\"translate(263.880741 162.957812)scale(0.1 -0.1)\">\n",
       "       <use xlink:href=\"#ArialMT-31\"/>\n",
       "       <use x=\"55.615234\" xlink:href=\"#ArialMT-2e\"/>\n",
       "       <use x=\"83.398438\" xlink:href=\"#ArialMT-30\"/>\n",
       "      </g>\n",
       "     </g>\n",
       "    </g>\n",
       "    <g id=\"xtick_6\">\n",
       "     <g id=\"line2d_6\">\n",
       "      <g>\n",
       "       <use style=\"stroke:#000000;stroke-width:0.8;\" x=\"334.270849\" xlink:href=\"#m27a99c00cd\" y=\"148.8\"/>\n",
       "      </g>\n",
       "     </g>\n",
       "     <g id=\"text_6\">\n",
       "      <!-- 1.5 -->\n",
       "      <g transform=\"translate(327.320849 162.957812)scale(0.1 -0.1)\">\n",
       "       <use xlink:href=\"#ArialMT-31\"/>\n",
       "       <use x=\"55.615234\" xlink:href=\"#ArialMT-2e\"/>\n",
       "       <use x=\"83.398438\" xlink:href=\"#ArialMT-35\"/>\n",
       "      </g>\n",
       "     </g>\n",
       "    </g>\n",
       "    <g id=\"xtick_7\">\n",
       "     <g id=\"line2d_7\">\n",
       "      <g>\n",
       "       <use style=\"stroke:#000000;stroke-width:0.8;\" x=\"397.710956\" xlink:href=\"#m27a99c00cd\" y=\"148.8\"/>\n",
       "      </g>\n",
       "     </g>\n",
       "     <g id=\"text_7\">\n",
       "      <!-- 2.0 -->\n",
       "      <g transform=\"translate(390.760956 162.957812)scale(0.1 -0.1)\">\n",
       "       <defs>\n",
       "        <path d=\"M 3222 541 \n",
       "L 3222 0 \n",
       "L 194 0 \n",
       "Q 188 203 259 391 \n",
       "Q 375 700 629 1000 \n",
       "Q 884 1300 1366 1694 \n",
       "Q 2113 2306 2375 2664 \n",
       "Q 2638 3022 2638 3341 \n",
       "Q 2638 3675 2398 3904 \n",
       "Q 2159 4134 1775 4134 \n",
       "Q 1369 4134 1125 3890 \n",
       "Q 881 3647 878 3216 \n",
       "L 300 3275 \n",
       "Q 359 3922 746 4261 \n",
       "Q 1134 4600 1788 4600 \n",
       "Q 2447 4600 2831 4234 \n",
       "Q 3216 3869 3216 3328 \n",
       "Q 3216 3053 3103 2787 \n",
       "Q 2991 2522 2730 2228 \n",
       "Q 2469 1934 1863 1422 \n",
       "Q 1356 997 1212 845 \n",
       "Q 1069 694 975 541 \n",
       "L 3222 541 \n",
       "z\n",
       "\" id=\"ArialMT-32\" transform=\"scale(0.015625)\"/>\n",
       "       </defs>\n",
       "       <use xlink:href=\"#ArialMT-32\"/>\n",
       "       <use x=\"55.615234\" xlink:href=\"#ArialMT-2e\"/>\n",
       "       <use x=\"83.398438\" xlink:href=\"#ArialMT-30\"/>\n",
       "      </g>\n",
       "     </g>\n",
       "    </g>\n",
       "    <g id=\"text_8\">\n",
       "     <!-- $x$ -->\n",
       "     <g transform=\"translate(413.108587 176.103125)scale(0.1 -0.1)\">\n",
       "      <defs>\n",
       "       <path d=\"M 3841 3500 \n",
       "L 2234 1784 \n",
       "L 3219 0 \n",
       "L 2559 0 \n",
       "L 1819 1388 \n",
       "L 531 0 \n",
       "L -166 0 \n",
       "L 1556 1844 \n",
       "L 641 3500 \n",
       "L 1300 3500 \n",
       "L 1972 2234 \n",
       "L 3144 3500 \n",
       "L 3841 3500 \n",
       "z\n",
       "\" id=\"DejaVuSans-Oblique-78\" transform=\"scale(0.015625)\"/>\n",
       "      </defs>\n",
       "      <use transform=\"translate(0 0.3125)\" xlink:href=\"#DejaVuSans-Oblique-78\"/>\n",
       "     </g>\n",
       "    </g>\n",
       "   </g>\n",
       "   <g id=\"matplotlib.axis_2\">\n",
       "    <g id=\"ytick_1\">\n",
       "     <g id=\"line2d_8\">\n",
       "      <defs>\n",
       "       <path d=\"M 0 0 \n",
       "L -3.5 0 \n",
       "\" id=\"m7fc21574be\" style=\"stroke:#000000;stroke-width:0.8;\"/>\n",
       "      </defs>\n",
       "      <g>\n",
       "       <use style=\"stroke:#000000;stroke-width:0.8;\" x=\"143.950527\" xlink:href=\"#m7fc21574be\" y=\"263.871984\"/>\n",
       "      </g>\n",
       "     </g>\n",
       "     <g id=\"text_9\">\n",
       "      <!-- 2 -->\n",
       "      <g transform=\"translate(131.389589 267.450891)scale(0.1 -0.1)\">\n",
       "       <use xlink:href=\"#ArialMT-32\"/>\n",
       "      </g>\n",
       "     </g>\n",
       "    </g>\n",
       "    <g id=\"ytick_2\">\n",
       "     <g id=\"line2d_9\">\n",
       "      <g>\n",
       "       <use style=\"stroke:#000000;stroke-width:0.8;\" x=\"143.950527\" xlink:href=\"#m7fc21574be\" y=\"220.642505\"/>\n",
       "      </g>\n",
       "     </g>\n",
       "     <g id=\"text_10\">\n",
       "      <!-- 4 -->\n",
       "      <g transform=\"translate(131.389589 224.221411)scale(0.1 -0.1)\">\n",
       "       <defs>\n",
       "        <path d=\"M 2069 0 \n",
       "L 2069 1097 \n",
       "L 81 1097 \n",
       "L 81 1613 \n",
       "L 2172 4581 \n",
       "L 2631 4581 \n",
       "L 2631 1613 \n",
       "L 3250 1613 \n",
       "L 3250 1097 \n",
       "L 2631 1097 \n",
       "L 2631 0 \n",
       "L 2069 0 \n",
       "z\n",
       "M 2069 1613 \n",
       "L 2069 3678 \n",
       "L 634 1613 \n",
       "L 2069 1613 \n",
       "z\n",
       "\" id=\"ArialMT-34\" transform=\"scale(0.015625)\"/>\n",
       "       </defs>\n",
       "       <use xlink:href=\"#ArialMT-34\"/>\n",
       "      </g>\n",
       "     </g>\n",
       "    </g>\n",
       "    <g id=\"ytick_3\">\n",
       "     <g id=\"line2d_10\">\n",
       "      <g>\n",
       "       <use style=\"stroke:#000000;stroke-width:0.8;\" x=\"143.950527\" xlink:href=\"#m7fc21574be\" y=\"177.413025\"/>\n",
       "      </g>\n",
       "     </g>\n",
       "     <g id=\"text_11\">\n",
       "      <!-- 6 -->\n",
       "      <g transform=\"translate(131.389589 180.991931)scale(0.1 -0.1)\">\n",
       "       <defs>\n",
       "        <path d=\"M 3184 3459 \n",
       "L 2625 3416 \n",
       "Q 2550 3747 2413 3897 \n",
       "Q 2184 4138 1850 4138 \n",
       "Q 1581 4138 1378 3988 \n",
       "Q 1113 3794 959 3422 \n",
       "Q 806 3050 800 2363 \n",
       "Q 1003 2672 1297 2822 \n",
       "Q 1591 2972 1913 2972 \n",
       "Q 2475 2972 2870 2558 \n",
       "Q 3266 2144 3266 1488 \n",
       "Q 3266 1056 3080 686 \n",
       "Q 2894 316 2569 119 \n",
       "Q 2244 -78 1831 -78 \n",
       "Q 1128 -78 684 439 \n",
       "Q 241 956 241 2144 \n",
       "Q 241 3472 731 4075 \n",
       "Q 1159 4600 1884 4600 \n",
       "Q 2425 4600 2770 4297 \n",
       "Q 3116 3994 3184 3459 \n",
       "z\n",
       "M 888 1484 \n",
       "Q 888 1194 1011 928 \n",
       "Q 1134 663 1356 523 \n",
       "Q 1578 384 1822 384 \n",
       "Q 2178 384 2434 671 \n",
       "Q 2691 959 2691 1453 \n",
       "Q 2691 1928 2437 2201 \n",
       "Q 2184 2475 1800 2475 \n",
       "Q 1419 2475 1153 2201 \n",
       "Q 888 1928 888 1484 \n",
       "z\n",
       "\" id=\"ArialMT-36\" transform=\"scale(0.015625)\"/>\n",
       "       </defs>\n",
       "       <use xlink:href=\"#ArialMT-36\"/>\n",
       "      </g>\n",
       "     </g>\n",
       "    </g>\n",
       "    <g id=\"ytick_4\">\n",
       "     <g id=\"line2d_11\">\n",
       "      <g>\n",
       "       <use style=\"stroke:#000000;stroke-width:0.8;\" x=\"143.950527\" xlink:href=\"#m7fc21574be\" y=\"134.183545\"/>\n",
       "      </g>\n",
       "     </g>\n",
       "     <g id=\"text_12\">\n",
       "      <!-- 8 -->\n",
       "      <g transform=\"translate(131.389589 137.762451)scale(0.1 -0.1)\">\n",
       "       <defs>\n",
       "        <path d=\"M 1131 2484 \n",
       "Q 781 2613 612 2850 \n",
       "Q 444 3088 444 3419 \n",
       "Q 444 3919 803 4259 \n",
       "Q 1163 4600 1759 4600 \n",
       "Q 2359 4600 2725 4251 \n",
       "Q 3091 3903 3091 3403 \n",
       "Q 3091 3084 2923 2848 \n",
       "Q 2756 2613 2416 2484 \n",
       "Q 2838 2347 3058 2040 \n",
       "Q 3278 1734 3278 1309 \n",
       "Q 3278 722 2862 322 \n",
       "Q 2447 -78 1769 -78 \n",
       "Q 1091 -78 675 323 \n",
       "Q 259 725 259 1325 \n",
       "Q 259 1772 486 2073 \n",
       "Q 713 2375 1131 2484 \n",
       "z\n",
       "M 1019 3438 \n",
       "Q 1019 3113 1228 2906 \n",
       "Q 1438 2700 1772 2700 \n",
       "Q 2097 2700 2305 2904 \n",
       "Q 2513 3109 2513 3406 \n",
       "Q 2513 3716 2298 3927 \n",
       "Q 2084 4138 1766 4138 \n",
       "Q 1444 4138 1231 3931 \n",
       "Q 1019 3725 1019 3438 \n",
       "z\n",
       "M 838 1322 \n",
       "Q 838 1081 952 856 \n",
       "Q 1066 631 1291 507 \n",
       "Q 1516 384 1775 384 \n",
       "Q 2178 384 2440 643 \n",
       "Q 2703 903 2703 1303 \n",
       "Q 2703 1709 2433 1975 \n",
       "Q 2163 2241 1756 2241 \n",
       "Q 1359 2241 1098 1978 \n",
       "Q 838 1716 838 1322 \n",
       "z\n",
       "\" id=\"ArialMT-38\" transform=\"scale(0.015625)\"/>\n",
       "       </defs>\n",
       "       <use xlink:href=\"#ArialMT-38\"/>\n",
       "      </g>\n",
       "     </g>\n",
       "    </g>\n",
       "    <g id=\"ytick_5\">\n",
       "     <g id=\"line2d_12\">\n",
       "      <g>\n",
       "       <use style=\"stroke:#000000;stroke-width:0.8;\" x=\"143.950527\" xlink:href=\"#m7fc21574be\" y=\"90.954065\"/>\n",
       "      </g>\n",
       "     </g>\n",
       "     <g id=\"text_13\">\n",
       "      <!-- 10 -->\n",
       "      <g transform=\"translate(125.828652 94.532972)scale(0.1 -0.1)\">\n",
       "       <use xlink:href=\"#ArialMT-31\"/>\n",
       "       <use x=\"55.615234\" xlink:href=\"#ArialMT-30\"/>\n",
       "      </g>\n",
       "     </g>\n",
       "    </g>\n",
       "    <g id=\"ytick_6\">\n",
       "     <g id=\"line2d_13\">\n",
       "      <g>\n",
       "       <use style=\"stroke:#000000;stroke-width:0.8;\" x=\"143.950527\" xlink:href=\"#m7fc21574be\" y=\"47.724586\"/>\n",
       "      </g>\n",
       "     </g>\n",
       "     <g id=\"text_14\">\n",
       "      <!-- 12 -->\n",
       "      <g transform=\"translate(125.828652 51.303492)scale(0.1 -0.1)\">\n",
       "       <use xlink:href=\"#ArialMT-31\"/>\n",
       "       <use x=\"55.615234\" xlink:href=\"#ArialMT-32\"/>\n",
       "      </g>\n",
       "     </g>\n",
       "    </g>\n",
       "    <g id=\"text_15\">\n",
       "     <!-- $f{\\left(x \\right)}$ -->\n",
       "     <g transform=\"translate(119.841152 24.5)rotate(-90)scale(0.1 -0.1)\">\n",
       "      <defs>\n",
       "       <path d=\"M 3059 4863 \n",
       "L 2969 4384 \n",
       "L 2419 4384 \n",
       "Q 2106 4384 1964 4261 \n",
       "Q 1822 4138 1753 3809 \n",
       "L 1691 3500 \n",
       "L 2638 3500 \n",
       "L 2553 3053 \n",
       "L 1606 3053 \n",
       "L 1013 0 \n",
       "L 434 0 \n",
       "L 1031 3053 \n",
       "L 481 3053 \n",
       "L 563 3500 \n",
       "L 1113 3500 \n",
       "L 1159 3744 \n",
       "Q 1278 4363 1576 4613 \n",
       "Q 1875 4863 2516 4863 \n",
       "L 3059 4863 \n",
       "z\n",
       "\" id=\"DejaVuSans-Oblique-66\" transform=\"scale(0.015625)\"/>\n",
       "       <path d=\"M 1984 4856 \n",
       "Q 1566 4138 1362 3434 \n",
       "Q 1159 2731 1159 2009 \n",
       "Q 1159 1288 1364 580 \n",
       "Q 1569 -128 1984 -844 \n",
       "L 1484 -844 \n",
       "Q 1016 -109 783 600 \n",
       "Q 550 1309 550 2009 \n",
       "Q 550 2706 781 3412 \n",
       "Q 1013 4119 1484 4856 \n",
       "L 1984 4856 \n",
       "z\n",
       "\" id=\"DejaVuSans-28\" transform=\"scale(0.015625)\"/>\n",
       "       <path d=\"M 513 4856 \n",
       "L 1013 4856 \n",
       "Q 1481 4119 1714 3412 \n",
       "Q 1947 2706 1947 2009 \n",
       "Q 1947 1309 1714 600 \n",
       "Q 1481 -109 1013 -844 \n",
       "L 513 -844 \n",
       "Q 928 -128 1133 580 \n",
       "Q 1338 1288 1338 2009 \n",
       "Q 1338 2731 1133 3434 \n",
       "Q 928 4138 513 4856 \n",
       "z\n",
       "\" id=\"DejaVuSans-29\" transform=\"scale(0.015625)\"/>\n",
       "      </defs>\n",
       "      <use transform=\"translate(0 0.015625)\" xlink:href=\"#DejaVuSans-Oblique-66\"/>\n",
       "      <use transform=\"translate(35.205078 0.015625)\" xlink:href=\"#DejaVuSans-28\"/>\n",
       "      <use transform=\"translate(74.21875 0.015625)\" xlink:href=\"#DejaVuSans-Oblique-78\"/>\n",
       "      <use transform=\"translate(133.398438 0.015625)\" xlink:href=\"#DejaVuSans-29\"/>\n",
       "     </g>\n",
       "    </g>\n",
       "   </g>\n",
       "   <g id=\"line2d_14\">\n",
       "    <path clip-path=\"url(#p2c74a43064)\" d=\"M 29.758334 27.936364 \n",
       "L 35.953619 104.462752 \n",
       "L 43.429154 150.001852 \n",
       "L 49.358306 171.589219 \n",
       "L 55.713668 187.650087 \n",
       "L 61.853067 199.021354 \n",
       "L 67.569783 207.241897 \n",
       "L 73.014754 213.590012 \n",
       "L 78.267488 218.70225 \n",
       "L 85.359432 224.427871 \n",
       "L 91.544726 228.584596 \n",
       "L 97.292438 231.909021 \n",
       "L 104.126457 235.32782 \n",
       "L 110.376535 238.045739 \n",
       "L 116.64204 240.45191 \n",
       "L 123.801395 242.880362 \n",
       "L 130.308563 244.840901 \n",
       "L 137.758999 246.845679 \n",
       "L 144.548838 248.484445 \n",
       "L 151.389772 249.981297 \n",
       "L 157.308608 251.16813 \n",
       "L 163.178034 252.257963 \n",
       "L 169.853375 253.404198 \n",
       "L 175.051203 254.235373 \n",
       "L 180.803865 255.09907 \n",
       "L 186.667288 255.924371 \n",
       "L 192.045245 256.637011 \n",
       "L 198.202327 257.405575 \n",
       "L 203.825335 258.067193 \n",
       "L 210.32509 258.78836 \n",
       "L 216.535222 259.437519 \n",
       "L 222.488685 260.026416 \n",
       "L 229.646622 260.694861 \n",
       "L 236.102576 261.263809 \n",
       "L 241.710987 261.734051 \n",
       "L 247.485712 262.196615 \n",
       "L 252.655361 262.593338 \n",
       "L 258.833789 263.047386 \n",
       "L 263.968432 263.409131 \n",
       "L 269.756285 263.801007 \n",
       "L 275.136343 264.151072 \n",
       "L 280.304559 264.475221 \n",
       "L 286.041891 264.821936 \n",
       "L 290.32156 265.072038 \n",
       "L 295.068114 265.341331 \n",
       "L 299.564891 265.588955 \n",
       "L 304.141926 265.833845 \n",
       "L 309.075222 266.09008 \n",
       "L 315.05644 266.390534 \n",
       "L 320.336591 266.646936 \n",
       "L 325.498529 266.88999 \n",
       "L 329.895627 267.091364 \n",
       "L 334.722067 267.306651 \n",
       "L 339.443903 267.511688 \n",
       "L 344.537507 267.726935 \n",
       "L 349.871308 267.946013 \n",
       "L 355.563796 268.173011 \n",
       "L 361.620381 268.407163 \n",
       "L 367.470043 268.626447 \n",
       "L 372.579569 268.812711 \n",
       "L 378.64451 269.027701 \n",
       "L 383.831426 269.206531 \n",
       "L 388.634052 269.36814 \n",
       "L 392.923589 269.509368 \n",
       "L 397.710956 269.663636 \n",
       "\" style=\"fill:none;stroke:#1f77b4;stroke-linecap:square;stroke-width:1.5;\"/>\n",
       "   </g>\n",
       "   <g id=\"patch_3\">\n",
       "    <path d=\"M 143.950527 281.75 \n",
       "L 143.950527 15.85 \n",
       "\" style=\"fill:none;stroke:#000000;stroke-linecap:square;stroke-linejoin:miter;stroke-width:0.8;\"/>\n",
       "   </g>\n",
       "   <g id=\"patch_4\">\n",
       "    <path d=\"M 416.108587 281.75 \n",
       "L 416.108587 15.85 \n",
       "\" style=\"fill:none;\"/>\n",
       "   </g>\n",
       "   <g id=\"patch_5\">\n",
       "    <path d=\"M 11.360703 148.8 \n",
       "L 416.108587 148.8 \n",
       "\" style=\"fill:none;stroke:#000000;stroke-linecap:square;stroke-linejoin:miter;stroke-width:0.8;\"/>\n",
       "   </g>\n",
       "   <g id=\"patch_6\">\n",
       "    <path d=\"M 11.360703 15.85 \n",
       "L 416.108587 15.85 \n",
       "\" style=\"fill:none;\"/>\n",
       "   </g>\n",
       "  </g>\n",
       " </g>\n",
       " <defs>\n",
       "  <clipPath id=\"p2c74a43064\">\n",
       "   <rect height=\"265.9\" width=\"404.747884\" x=\"11.360703\" y=\"15.85\"/>\n",
       "  </clipPath>\n",
       " </defs>\n",
       "</svg>\n"
      ],
      "text/plain": [
       "<Figure size 432x288 with 1 Axes>"
      ]
     },
     "metadata": {
      "needs_background": "light"
     },
     "output_type": "display_data"
    },
    {
     "data": {
      "image/svg+xml": [
       "<?xml version=\"1.0\" encoding=\"utf-8\" standalone=\"no\"?>\n",
       "<!DOCTYPE svg PUBLIC \"-//W3C//DTD SVG 1.1//EN\"\n",
       "  \"http://www.w3.org/Graphics/SVG/1.1/DTD/svg11.dtd\">\n",
       "<svg height=\"288.95pt\" version=\"1.1\" viewBox=\"0 0 427.143182 288.95\" width=\"427.143182pt\" xmlns=\"http://www.w3.org/2000/svg\" xmlns:xlink=\"http://www.w3.org/1999/xlink\">\n",
       " <metadata>\n",
       "  <rdf:RDF xmlns:cc=\"http://creativecommons.org/ns#\" xmlns:dc=\"http://purl.org/dc/elements/1.1/\" xmlns:rdf=\"http://www.w3.org/1999/02/22-rdf-syntax-ns#\">\n",
       "   <cc:Work>\n",
       "    <dc:type rdf:resource=\"http://purl.org/dc/dcmitype/StillImage\"/>\n",
       "    <dc:date>2025-05-12T23:01:40.016423</dc:date>\n",
       "    <dc:format>image/svg+xml</dc:format>\n",
       "    <dc:creator>\n",
       "     <cc:Agent>\n",
       "      <dc:title>Matplotlib v3.4.2, https://matplotlib.org/</dc:title>\n",
       "     </cc:Agent>\n",
       "    </dc:creator>\n",
       "   </cc:Work>\n",
       "  </rdf:RDF>\n",
       " </metadata>\n",
       " <defs>\n",
       "  <style type=\"text/css\">*{stroke-linecap:butt;stroke-linejoin:round;}</style>\n",
       " </defs>\n",
       " <g id=\"figure_1\">\n",
       "  <g id=\"patch_1\">\n",
       "   <path d=\"M 0 288.95 \n",
       "L 427.143182 288.95 \n",
       "L 427.143182 0 \n",
       "L 0 0 \n",
       "z\n",
       "\" style=\"fill:none;\"/>\n",
       "  </g>\n",
       "  <g id=\"axes_1\">\n",
       "   <g id=\"patch_2\">\n",
       "    <path d=\"M 7.2 281.75 \n",
       "L 416.943182 281.75 \n",
       "L 416.943182 15.85 \n",
       "L 7.2 15.85 \n",
       "z\n",
       "\" style=\"fill:#ffffff;\"/>\n",
       "   </g>\n",
       "   <g id=\"matplotlib.axis_1\">\n",
       "    <g id=\"xtick_1\">\n",
       "     <g id=\"line2d_1\">\n",
       "      <defs>\n",
       "       <path d=\"M 0 0 \n",
       "L 0 3.5 \n",
       "\" id=\"m3be6f93fed\" style=\"stroke:#000000;stroke-width:0.8;\"/>\n",
       "      </defs>\n",
       "      <g>\n",
       "       <use style=\"stroke:#000000;stroke-width:0.8;\" x=\"25.82469\" xlink:href=\"#m3be6f93fed\" y=\"148.8\"/>\n",
       "      </g>\n",
       "     </g>\n",
       "     <g id=\"text_1\">\n",
       "      <!-- −0.100 -->\n",
       "      <g transform=\"translate(10.39344 162.957812)scale(0.1 -0.1)\">\n",
       "       <defs>\n",
       "        <path d=\"M 3381 1997 \n",
       "L 356 1997 \n",
       "L 356 2522 \n",
       "L 3381 2522 \n",
       "L 3381 1997 \n",
       "z\n",
       "\" id=\"ArialMT-2212\" transform=\"scale(0.015625)\"/>\n",
       "        <path d=\"M 266 2259 \n",
       "Q 266 3072 433 3567 \n",
       "Q 600 4063 929 4331 \n",
       "Q 1259 4600 1759 4600 \n",
       "Q 2128 4600 2406 4451 \n",
       "Q 2684 4303 2865 4023 \n",
       "Q 3047 3744 3150 3342 \n",
       "Q 3253 2941 3253 2259 \n",
       "Q 3253 1453 3087 958 \n",
       "Q 2922 463 2592 192 \n",
       "Q 2263 -78 1759 -78 \n",
       "Q 1097 -78 719 397 \n",
       "Q 266 969 266 2259 \n",
       "z\n",
       "M 844 2259 \n",
       "Q 844 1131 1108 757 \n",
       "Q 1372 384 1759 384 \n",
       "Q 2147 384 2411 759 \n",
       "Q 2675 1134 2675 2259 \n",
       "Q 2675 3391 2411 3762 \n",
       "Q 2147 4134 1753 4134 \n",
       "Q 1366 4134 1134 3806 \n",
       "Q 844 3388 844 2259 \n",
       "z\n",
       "\" id=\"ArialMT-30\" transform=\"scale(0.015625)\"/>\n",
       "        <path d=\"M 581 0 \n",
       "L 581 641 \n",
       "L 1222 641 \n",
       "L 1222 0 \n",
       "L 581 0 \n",
       "z\n",
       "\" id=\"ArialMT-2e\" transform=\"scale(0.015625)\"/>\n",
       "        <path d=\"M 2384 0 \n",
       "L 1822 0 \n",
       "L 1822 3584 \n",
       "Q 1619 3391 1289 3197 \n",
       "Q 959 3003 697 2906 \n",
       "L 697 3450 \n",
       "Q 1169 3672 1522 3987 \n",
       "Q 1875 4303 2022 4600 \n",
       "L 2384 4600 \n",
       "L 2384 0 \n",
       "z\n",
       "\" id=\"ArialMT-31\" transform=\"scale(0.015625)\"/>\n",
       "       </defs>\n",
       "       <use xlink:href=\"#ArialMT-2212\"/>\n",
       "       <use x=\"58.398438\" xlink:href=\"#ArialMT-30\"/>\n",
       "       <use x=\"114.013672\" xlink:href=\"#ArialMT-2e\"/>\n",
       "       <use x=\"141.796875\" xlink:href=\"#ArialMT-31\"/>\n",
       "       <use x=\"197.412109\" xlink:href=\"#ArialMT-30\"/>\n",
       "       <use x=\"253.027344\" xlink:href=\"#ArialMT-30\"/>\n",
       "      </g>\n",
       "     </g>\n",
       "    </g>\n",
       "    <g id=\"xtick_2\">\n",
       "     <g id=\"line2d_2\">\n",
       "      <g>\n",
       "       <use style=\"stroke:#000000;stroke-width:0.8;\" x=\"72.386415\" xlink:href=\"#m3be6f93fed\" y=\"148.8\"/>\n",
       "      </g>\n",
       "     </g>\n",
       "     <g id=\"text_2\">\n",
       "      <!-- −0.075 -->\n",
       "      <g transform=\"translate(56.955165 162.957812)scale(0.1 -0.1)\">\n",
       "       <defs>\n",
       "        <path d=\"M 303 3981 \n",
       "L 303 4522 \n",
       "L 3269 4522 \n",
       "L 3269 4084 \n",
       "Q 2831 3619 2401 2847 \n",
       "Q 1972 2075 1738 1259 \n",
       "Q 1569 684 1522 0 \n",
       "L 944 0 \n",
       "Q 953 541 1156 1306 \n",
       "Q 1359 2072 1739 2783 \n",
       "Q 2119 3494 2547 3981 \n",
       "L 303 3981 \n",
       "z\n",
       "\" id=\"ArialMT-37\" transform=\"scale(0.015625)\"/>\n",
       "        <path d=\"M 266 1200 \n",
       "L 856 1250 \n",
       "Q 922 819 1161 601 \n",
       "Q 1400 384 1738 384 \n",
       "Q 2144 384 2425 690 \n",
       "Q 2706 997 2706 1503 \n",
       "Q 2706 1984 2436 2262 \n",
       "Q 2166 2541 1728 2541 \n",
       "Q 1456 2541 1237 2417 \n",
       "Q 1019 2294 894 2097 \n",
       "L 366 2166 \n",
       "L 809 4519 \n",
       "L 3088 4519 \n",
       "L 3088 3981 \n",
       "L 1259 3981 \n",
       "L 1013 2750 \n",
       "Q 1425 3038 1878 3038 \n",
       "Q 2478 3038 2890 2622 \n",
       "Q 3303 2206 3303 1553 \n",
       "Q 3303 931 2941 478 \n",
       "Q 2500 -78 1738 -78 \n",
       "Q 1113 -78 717 272 \n",
       "Q 322 622 266 1200 \n",
       "z\n",
       "\" id=\"ArialMT-35\" transform=\"scale(0.015625)\"/>\n",
       "       </defs>\n",
       "       <use xlink:href=\"#ArialMT-2212\"/>\n",
       "       <use x=\"58.398438\" xlink:href=\"#ArialMT-30\"/>\n",
       "       <use x=\"114.013672\" xlink:href=\"#ArialMT-2e\"/>\n",
       "       <use x=\"141.796875\" xlink:href=\"#ArialMT-30\"/>\n",
       "       <use x=\"197.412109\" xlink:href=\"#ArialMT-37\"/>\n",
       "       <use x=\"253.027344\" xlink:href=\"#ArialMT-35\"/>\n",
       "      </g>\n",
       "     </g>\n",
       "    </g>\n",
       "    <g id=\"xtick_3\">\n",
       "     <g id=\"line2d_3\">\n",
       "      <g>\n",
       "       <use style=\"stroke:#000000;stroke-width:0.8;\" x=\"118.94814\" xlink:href=\"#m3be6f93fed\" y=\"148.8\"/>\n",
       "      </g>\n",
       "     </g>\n",
       "     <g id=\"text_3\">\n",
       "      <!-- −0.050 -->\n",
       "      <g transform=\"translate(103.51689 162.957812)scale(0.1 -0.1)\">\n",
       "       <use xlink:href=\"#ArialMT-2212\"/>\n",
       "       <use x=\"58.398438\" xlink:href=\"#ArialMT-30\"/>\n",
       "       <use x=\"114.013672\" xlink:href=\"#ArialMT-2e\"/>\n",
       "       <use x=\"141.796875\" xlink:href=\"#ArialMT-30\"/>\n",
       "       <use x=\"197.412109\" xlink:href=\"#ArialMT-35\"/>\n",
       "       <use x=\"253.027344\" xlink:href=\"#ArialMT-30\"/>\n",
       "      </g>\n",
       "     </g>\n",
       "    </g>\n",
       "    <g id=\"xtick_4\">\n",
       "     <g id=\"line2d_4\">\n",
       "      <g>\n",
       "       <use style=\"stroke:#000000;stroke-width:0.8;\" x=\"165.509866\" xlink:href=\"#m3be6f93fed\" y=\"148.8\"/>\n",
       "      </g>\n",
       "     </g>\n",
       "     <g id=\"text_4\">\n",
       "      <!-- −0.025 -->\n",
       "      <g transform=\"translate(150.078616 162.957812)scale(0.1 -0.1)\">\n",
       "       <defs>\n",
       "        <path d=\"M 3222 541 \n",
       "L 3222 0 \n",
       "L 194 0 \n",
       "Q 188 203 259 391 \n",
       "Q 375 700 629 1000 \n",
       "Q 884 1300 1366 1694 \n",
       "Q 2113 2306 2375 2664 \n",
       "Q 2638 3022 2638 3341 \n",
       "Q 2638 3675 2398 3904 \n",
       "Q 2159 4134 1775 4134 \n",
       "Q 1369 4134 1125 3890 \n",
       "Q 881 3647 878 3216 \n",
       "L 300 3275 \n",
       "Q 359 3922 746 4261 \n",
       "Q 1134 4600 1788 4600 \n",
       "Q 2447 4600 2831 4234 \n",
       "Q 3216 3869 3216 3328 \n",
       "Q 3216 3053 3103 2787 \n",
       "Q 2991 2522 2730 2228 \n",
       "Q 2469 1934 1863 1422 \n",
       "Q 1356 997 1212 845 \n",
       "Q 1069 694 975 541 \n",
       "L 3222 541 \n",
       "z\n",
       "\" id=\"ArialMT-32\" transform=\"scale(0.015625)\"/>\n",
       "       </defs>\n",
       "       <use xlink:href=\"#ArialMT-2212\"/>\n",
       "       <use x=\"58.398438\" xlink:href=\"#ArialMT-30\"/>\n",
       "       <use x=\"114.013672\" xlink:href=\"#ArialMT-2e\"/>\n",
       "       <use x=\"141.796875\" xlink:href=\"#ArialMT-30\"/>\n",
       "       <use x=\"197.412109\" xlink:href=\"#ArialMT-32\"/>\n",
       "       <use x=\"253.027344\" xlink:href=\"#ArialMT-35\"/>\n",
       "      </g>\n",
       "     </g>\n",
       "    </g>\n",
       "    <g id=\"xtick_5\">\n",
       "     <g id=\"line2d_5\">\n",
       "      <g>\n",
       "       <use style=\"stroke:#000000;stroke-width:0.8;\" x=\"212.071591\" xlink:href=\"#m3be6f93fed\" y=\"148.8\"/>\n",
       "      </g>\n",
       "     </g>\n",
       "     <g id=\"text_5\">\n",
       "      <!-- 0.000 -->\n",
       "      <g transform=\"translate(199.560653 162.957812)scale(0.1 -0.1)\">\n",
       "       <use xlink:href=\"#ArialMT-30\"/>\n",
       "       <use x=\"55.615234\" xlink:href=\"#ArialMT-2e\"/>\n",
       "       <use x=\"83.398438\" xlink:href=\"#ArialMT-30\"/>\n",
       "       <use x=\"139.013672\" xlink:href=\"#ArialMT-30\"/>\n",
       "       <use x=\"194.628906\" xlink:href=\"#ArialMT-30\"/>\n",
       "      </g>\n",
       "     </g>\n",
       "    </g>\n",
       "    <g id=\"xtick_6\">\n",
       "     <g id=\"line2d_6\">\n",
       "      <g>\n",
       "       <use style=\"stroke:#000000;stroke-width:0.8;\" x=\"258.633316\" xlink:href=\"#m3be6f93fed\" y=\"148.8\"/>\n",
       "      </g>\n",
       "     </g>\n",
       "     <g id=\"text_6\">\n",
       "      <!-- 0.025 -->\n",
       "      <g transform=\"translate(246.122379 162.957812)scale(0.1 -0.1)\">\n",
       "       <use xlink:href=\"#ArialMT-30\"/>\n",
       "       <use x=\"55.615234\" xlink:href=\"#ArialMT-2e\"/>\n",
       "       <use x=\"83.398438\" xlink:href=\"#ArialMT-30\"/>\n",
       "       <use x=\"139.013672\" xlink:href=\"#ArialMT-32\"/>\n",
       "       <use x=\"194.628906\" xlink:href=\"#ArialMT-35\"/>\n",
       "      </g>\n",
       "     </g>\n",
       "    </g>\n",
       "    <g id=\"xtick_7\">\n",
       "     <g id=\"line2d_7\">\n",
       "      <g>\n",
       "       <use style=\"stroke:#000000;stroke-width:0.8;\" x=\"305.195041\" xlink:href=\"#m3be6f93fed\" y=\"148.8\"/>\n",
       "      </g>\n",
       "     </g>\n",
       "     <g id=\"text_7\">\n",
       "      <!-- 0.050 -->\n",
       "      <g transform=\"translate(292.684104 162.957812)scale(0.1 -0.1)\">\n",
       "       <use xlink:href=\"#ArialMT-30\"/>\n",
       "       <use x=\"55.615234\" xlink:href=\"#ArialMT-2e\"/>\n",
       "       <use x=\"83.398438\" xlink:href=\"#ArialMT-30\"/>\n",
       "       <use x=\"139.013672\" xlink:href=\"#ArialMT-35\"/>\n",
       "       <use x=\"194.628906\" xlink:href=\"#ArialMT-30\"/>\n",
       "      </g>\n",
       "     </g>\n",
       "    </g>\n",
       "    <g id=\"xtick_8\">\n",
       "     <g id=\"line2d_8\">\n",
       "      <g>\n",
       "       <use style=\"stroke:#000000;stroke-width:0.8;\" x=\"351.756767\" xlink:href=\"#m3be6f93fed\" y=\"148.8\"/>\n",
       "      </g>\n",
       "     </g>\n",
       "     <g id=\"text_8\">\n",
       "      <!-- 0.075 -->\n",
       "      <g transform=\"translate(339.245829 162.957812)scale(0.1 -0.1)\">\n",
       "       <use xlink:href=\"#ArialMT-30\"/>\n",
       "       <use x=\"55.615234\" xlink:href=\"#ArialMT-2e\"/>\n",
       "       <use x=\"83.398438\" xlink:href=\"#ArialMT-30\"/>\n",
       "       <use x=\"139.013672\" xlink:href=\"#ArialMT-37\"/>\n",
       "       <use x=\"194.628906\" xlink:href=\"#ArialMT-35\"/>\n",
       "      </g>\n",
       "     </g>\n",
       "    </g>\n",
       "    <g id=\"xtick_9\">\n",
       "     <g id=\"line2d_9\">\n",
       "      <g>\n",
       "       <use style=\"stroke:#000000;stroke-width:0.8;\" x=\"398.318492\" xlink:href=\"#m3be6f93fed\" y=\"148.8\"/>\n",
       "      </g>\n",
       "     </g>\n",
       "     <g id=\"text_9\">\n",
       "      <!-- 0.100 -->\n",
       "      <g transform=\"translate(385.807554 162.957812)scale(0.1 -0.1)\">\n",
       "       <use xlink:href=\"#ArialMT-30\"/>\n",
       "       <use x=\"55.615234\" xlink:href=\"#ArialMT-2e\"/>\n",
       "       <use x=\"83.398438\" xlink:href=\"#ArialMT-31\"/>\n",
       "       <use x=\"139.013672\" xlink:href=\"#ArialMT-30\"/>\n",
       "       <use x=\"194.628906\" xlink:href=\"#ArialMT-30\"/>\n",
       "      </g>\n",
       "     </g>\n",
       "    </g>\n",
       "    <g id=\"text_10\">\n",
       "     <!-- $x$ -->\n",
       "     <g transform=\"translate(413.943182 176.103125)scale(0.1 -0.1)\">\n",
       "      <defs>\n",
       "       <path d=\"M 3841 3500 \n",
       "L 2234 1784 \n",
       "L 3219 0 \n",
       "L 2559 0 \n",
       "L 1819 1388 \n",
       "L 531 0 \n",
       "L -166 0 \n",
       "L 1556 1844 \n",
       "L 641 3500 \n",
       "L 1300 3500 \n",
       "L 1972 2234 \n",
       "L 3144 3500 \n",
       "L 3841 3500 \n",
       "z\n",
       "\" id=\"DejaVuSans-Oblique-78\" transform=\"scale(0.015625)\"/>\n",
       "      </defs>\n",
       "      <use transform=\"translate(0 0.3125)\" xlink:href=\"#DejaVuSans-Oblique-78\"/>\n",
       "     </g>\n",
       "    </g>\n",
       "   </g>\n",
       "   <g id=\"matplotlib.axis_2\">\n",
       "    <g id=\"ytick_1\">\n",
       "     <g id=\"line2d_10\">\n",
       "      <defs>\n",
       "       <path d=\"M 0 0 \n",
       "L -3.5 0 \n",
       "\" id=\"mcc7ec2bd3b\" style=\"stroke:#000000;stroke-width:0.8;\"/>\n",
       "      </defs>\n",
       "      <g>\n",
       "       <use style=\"stroke:#000000;stroke-width:0.8;\" x=\"212.071591\" xlink:href=\"#mcc7ec2bd3b\" y=\"264.147753\"/>\n",
       "      </g>\n",
       "     </g>\n",
       "     <g id=\"text_11\">\n",
       "      <!-- 2.60 -->\n",
       "      <g transform=\"translate(185.610653 267.726659)scale(0.1 -0.1)\">\n",
       "       <defs>\n",
       "        <path d=\"M 3184 3459 \n",
       "L 2625 3416 \n",
       "Q 2550 3747 2413 3897 \n",
       "Q 2184 4138 1850 4138 \n",
       "Q 1581 4138 1378 3988 \n",
       "Q 1113 3794 959 3422 \n",
       "Q 806 3050 800 2363 \n",
       "Q 1003 2672 1297 2822 \n",
       "Q 1591 2972 1913 2972 \n",
       "Q 2475 2972 2870 2558 \n",
       "Q 3266 2144 3266 1488 \n",
       "Q 3266 1056 3080 686 \n",
       "Q 2894 316 2569 119 \n",
       "Q 2244 -78 1831 -78 \n",
       "Q 1128 -78 684 439 \n",
       "Q 241 956 241 2144 \n",
       "Q 241 3472 731 4075 \n",
       "Q 1159 4600 1884 4600 \n",
       "Q 2425 4600 2770 4297 \n",
       "Q 3116 3994 3184 3459 \n",
       "z\n",
       "M 888 1484 \n",
       "Q 888 1194 1011 928 \n",
       "Q 1134 663 1356 523 \n",
       "Q 1578 384 1822 384 \n",
       "Q 2178 384 2434 671 \n",
       "Q 2691 959 2691 1453 \n",
       "Q 2691 1928 2437 2201 \n",
       "Q 2184 2475 1800 2475 \n",
       "Q 1419 2475 1153 2201 \n",
       "Q 888 1928 888 1484 \n",
       "z\n",
       "\" id=\"ArialMT-36\" transform=\"scale(0.015625)\"/>\n",
       "       </defs>\n",
       "       <use xlink:href=\"#ArialMT-32\"/>\n",
       "       <use x=\"55.615234\" xlink:href=\"#ArialMT-2e\"/>\n",
       "       <use x=\"83.398438\" xlink:href=\"#ArialMT-36\"/>\n",
       "       <use x=\"139.013672\" xlink:href=\"#ArialMT-30\"/>\n",
       "      </g>\n",
       "     </g>\n",
       "    </g>\n",
       "    <g id=\"ytick_2\">\n",
       "     <g id=\"line2d_11\">\n",
       "      <g>\n",
       "       <use style=\"stroke:#000000;stroke-width:0.8;\" x=\"212.071591\" xlink:href=\"#mcc7ec2bd3b\" y=\"220.073858\"/>\n",
       "      </g>\n",
       "     </g>\n",
       "     <g id=\"text_12\">\n",
       "      <!-- 2.65 -->\n",
       "      <g transform=\"translate(185.610653 223.652764)scale(0.1 -0.1)\">\n",
       "       <use xlink:href=\"#ArialMT-32\"/>\n",
       "       <use x=\"55.615234\" xlink:href=\"#ArialMT-2e\"/>\n",
       "       <use x=\"83.398438\" xlink:href=\"#ArialMT-36\"/>\n",
       "       <use x=\"139.013672\" xlink:href=\"#ArialMT-35\"/>\n",
       "      </g>\n",
       "     </g>\n",
       "    </g>\n",
       "    <g id=\"ytick_3\">\n",
       "     <g id=\"line2d_12\">\n",
       "      <g>\n",
       "       <use style=\"stroke:#000000;stroke-width:0.8;\" x=\"212.071591\" xlink:href=\"#mcc7ec2bd3b\" y=\"175.999962\"/>\n",
       "      </g>\n",
       "     </g>\n",
       "     <g id=\"text_13\">\n",
       "      <!-- 2.70 -->\n",
       "      <g transform=\"translate(185.610653 179.578869)scale(0.1 -0.1)\">\n",
       "       <use xlink:href=\"#ArialMT-32\"/>\n",
       "       <use x=\"55.615234\" xlink:href=\"#ArialMT-2e\"/>\n",
       "       <use x=\"83.398438\" xlink:href=\"#ArialMT-37\"/>\n",
       "       <use x=\"139.013672\" xlink:href=\"#ArialMT-30\"/>\n",
       "      </g>\n",
       "     </g>\n",
       "    </g>\n",
       "    <g id=\"ytick_4\">\n",
       "     <g id=\"line2d_13\">\n",
       "      <g>\n",
       "       <use style=\"stroke:#000000;stroke-width:0.8;\" x=\"212.071591\" xlink:href=\"#mcc7ec2bd3b\" y=\"131.926067\"/>\n",
       "      </g>\n",
       "     </g>\n",
       "     <g id=\"text_14\">\n",
       "      <!-- 2.75 -->\n",
       "      <g transform=\"translate(185.610653 135.504973)scale(0.1 -0.1)\">\n",
       "       <use xlink:href=\"#ArialMT-32\"/>\n",
       "       <use x=\"55.615234\" xlink:href=\"#ArialMT-2e\"/>\n",
       "       <use x=\"83.398438\" xlink:href=\"#ArialMT-37\"/>\n",
       "       <use x=\"139.013672\" xlink:href=\"#ArialMT-35\"/>\n",
       "      </g>\n",
       "     </g>\n",
       "    </g>\n",
       "    <g id=\"ytick_5\">\n",
       "     <g id=\"line2d_14\">\n",
       "      <g>\n",
       "       <use style=\"stroke:#000000;stroke-width:0.8;\" x=\"212.071591\" xlink:href=\"#mcc7ec2bd3b\" y=\"87.852172\"/>\n",
       "      </g>\n",
       "     </g>\n",
       "     <g id=\"text_15\">\n",
       "      <!-- 2.80 -->\n",
       "      <g transform=\"translate(185.610653 91.431078)scale(0.1 -0.1)\">\n",
       "       <defs>\n",
       "        <path d=\"M 1131 2484 \n",
       "Q 781 2613 612 2850 \n",
       "Q 444 3088 444 3419 \n",
       "Q 444 3919 803 4259 \n",
       "Q 1163 4600 1759 4600 \n",
       "Q 2359 4600 2725 4251 \n",
       "Q 3091 3903 3091 3403 \n",
       "Q 3091 3084 2923 2848 \n",
       "Q 2756 2613 2416 2484 \n",
       "Q 2838 2347 3058 2040 \n",
       "Q 3278 1734 3278 1309 \n",
       "Q 3278 722 2862 322 \n",
       "Q 2447 -78 1769 -78 \n",
       "Q 1091 -78 675 323 \n",
       "Q 259 725 259 1325 \n",
       "Q 259 1772 486 2073 \n",
       "Q 713 2375 1131 2484 \n",
       "z\n",
       "M 1019 3438 \n",
       "Q 1019 3113 1228 2906 \n",
       "Q 1438 2700 1772 2700 \n",
       "Q 2097 2700 2305 2904 \n",
       "Q 2513 3109 2513 3406 \n",
       "Q 2513 3716 2298 3927 \n",
       "Q 2084 4138 1766 4138 \n",
       "Q 1444 4138 1231 3931 \n",
       "Q 1019 3725 1019 3438 \n",
       "z\n",
       "M 838 1322 \n",
       "Q 838 1081 952 856 \n",
       "Q 1066 631 1291 507 \n",
       "Q 1516 384 1775 384 \n",
       "Q 2178 384 2440 643 \n",
       "Q 2703 903 2703 1303 \n",
       "Q 2703 1709 2433 1975 \n",
       "Q 2163 2241 1756 2241 \n",
       "Q 1359 2241 1098 1978 \n",
       "Q 838 1716 838 1322 \n",
       "z\n",
       "\" id=\"ArialMT-38\" transform=\"scale(0.015625)\"/>\n",
       "       </defs>\n",
       "       <use xlink:href=\"#ArialMT-32\"/>\n",
       "       <use x=\"55.615234\" xlink:href=\"#ArialMT-2e\"/>\n",
       "       <use x=\"83.398438\" xlink:href=\"#ArialMT-38\"/>\n",
       "       <use x=\"139.013672\" xlink:href=\"#ArialMT-30\"/>\n",
       "      </g>\n",
       "     </g>\n",
       "    </g>\n",
       "    <g id=\"ytick_6\">\n",
       "     <g id=\"line2d_15\">\n",
       "      <g>\n",
       "       <use style=\"stroke:#000000;stroke-width:0.8;\" x=\"212.071591\" xlink:href=\"#mcc7ec2bd3b\" y=\"43.778276\"/>\n",
       "      </g>\n",
       "     </g>\n",
       "     <g id=\"text_16\">\n",
       "      <!-- 2.85 -->\n",
       "      <g transform=\"translate(185.610653 47.357183)scale(0.1 -0.1)\">\n",
       "       <use xlink:href=\"#ArialMT-32\"/>\n",
       "       <use x=\"55.615234\" xlink:href=\"#ArialMT-2e\"/>\n",
       "       <use x=\"83.398438\" xlink:href=\"#ArialMT-38\"/>\n",
       "       <use x=\"139.013672\" xlink:href=\"#ArialMT-35\"/>\n",
       "      </g>\n",
       "     </g>\n",
       "    </g>\n",
       "    <g id=\"text_17\">\n",
       "     <!-- $f{\\left(x \\right)}$ -->\n",
       "     <g transform=\"translate(179.623153 24.5)rotate(-90)scale(0.1 -0.1)\">\n",
       "      <defs>\n",
       "       <path d=\"M 3059 4863 \n",
       "L 2969 4384 \n",
       "L 2419 4384 \n",
       "Q 2106 4384 1964 4261 \n",
       "Q 1822 4138 1753 3809 \n",
       "L 1691 3500 \n",
       "L 2638 3500 \n",
       "L 2553 3053 \n",
       "L 1606 3053 \n",
       "L 1013 0 \n",
       "L 434 0 \n",
       "L 1031 3053 \n",
       "L 481 3053 \n",
       "L 563 3500 \n",
       "L 1113 3500 \n",
       "L 1159 3744 \n",
       "Q 1278 4363 1576 4613 \n",
       "Q 1875 4863 2516 4863 \n",
       "L 3059 4863 \n",
       "z\n",
       "\" id=\"DejaVuSans-Oblique-66\" transform=\"scale(0.015625)\"/>\n",
       "       <path d=\"M 1984 4856 \n",
       "Q 1566 4138 1362 3434 \n",
       "Q 1159 2731 1159 2009 \n",
       "Q 1159 1288 1364 580 \n",
       "Q 1569 -128 1984 -844 \n",
       "L 1484 -844 \n",
       "Q 1016 -109 783 600 \n",
       "Q 550 1309 550 2009 \n",
       "Q 550 2706 781 3412 \n",
       "Q 1013 4119 1484 4856 \n",
       "L 1984 4856 \n",
       "z\n",
       "\" id=\"DejaVuSans-28\" transform=\"scale(0.015625)\"/>\n",
       "       <path d=\"M 513 4856 \n",
       "L 1013 4856 \n",
       "Q 1481 4119 1714 3412 \n",
       "Q 1947 2706 1947 2009 \n",
       "Q 1947 1309 1714 600 \n",
       "Q 1481 -109 1013 -844 \n",
       "L 513 -844 \n",
       "Q 928 -128 1133 580 \n",
       "Q 1338 1288 1338 2009 \n",
       "Q 1338 2731 1133 3434 \n",
       "Q 928 4138 513 4856 \n",
       "z\n",
       "\" id=\"DejaVuSans-29\" transform=\"scale(0.015625)\"/>\n",
       "      </defs>\n",
       "      <use transform=\"translate(0 0.015625)\" xlink:href=\"#DejaVuSans-Oblique-66\"/>\n",
       "      <use transform=\"translate(35.205078 0.015625)\" xlink:href=\"#DejaVuSans-28\"/>\n",
       "      <use transform=\"translate(74.21875 0.015625)\" xlink:href=\"#DejaVuSans-Oblique-78\"/>\n",
       "      <use transform=\"translate(133.398438 0.015625)\" xlink:href=\"#DejaVuSans-29\"/>\n",
       "     </g>\n",
       "    </g>\n",
       "   </g>\n",
       "   <g id=\"line2d_16\">\n",
       "    <path clip-path=\"url(#pcf50bff0e2)\" d=\"M 25.82469 27.936364 \n",
       "L 31.031857 31.989328 \n",
       "L 36.847646 36.48881 \n",
       "L 42.189304 40.596418 \n",
       "L 47.028685 44.297261 \n",
       "L 52.340259 48.336943 \n",
       "L 58.015631 52.627785 \n",
       "L 63.837578 57.002305 \n",
       "L 70.304681 61.829684 \n",
       "L 76.842609 66.676155 \n",
       "L 83.650131 71.686778 \n",
       "L 89.489704 75.95624 \n",
       "L 96.512929 81.05636 \n",
       "L 101.648378 84.76184 \n",
       "L 107.470689 88.938869 \n",
       "L 113.587907 93.300185 \n",
       "L 120.684597 98.325152 \n",
       "L 125.882872 101.982508 \n",
       "L 130.23495 105.029424 \n",
       "L 135.475369 108.680181 \n",
       "L 140.846168 112.401418 \n",
       "L 145.143012 115.363836 \n",
       "L 148.811581 117.882818 \n",
       "L 153.327403 120.970643 \n",
       "L 157.900661 124.083317 \n",
       "L 163.642571 127.971011 \n",
       "L 168.377439 131.159919 \n",
       "L 174.530326 135.281169 \n",
       "L 180.448824 139.221443 \n",
       "L 184.798199 142.102202 \n",
       "L 190.021002 145.544963 \n",
       "L 194.847152 148.710368 \n",
       "L 200.270357 152.249307 \n",
       "L 206.730312 156.440044 \n",
       "L 212.616422 160.235309 \n",
       "L 218.447054 163.973191 \n",
       "L 225.025834 168.165108 \n",
       "L 231.320165 172.150625 \n",
       "L 238.003411 176.355741 \n",
       "L 245.091584 180.78594 \n",
       "L 252.175711 185.183383 \n",
       "L 258.766828 189.247937 \n",
       "L 265.969059 193.660056 \n",
       "L 272.192587 197.448227 \n",
       "L 278.146492 201.051321 \n",
       "L 285.811065 205.659767 \n",
       "L 293.836753 210.449671 \n",
       "L 301.234912 214.833096 \n",
       "L 308.441538 219.073887 \n",
       "L 315.046094 222.935381 \n",
       "L 320.739974 226.245415 \n",
       "L 327.26621 230.017866 \n",
       "L 334.427929 234.131524 \n",
       "L 340.430937 237.558757 \n",
       "L 346.201331 240.835409 \n",
       "L 352.057926 244.143343 \n",
       "L 357.117469 246.986867 \n",
       "L 363.345991 250.469421 \n",
       "L 369.428632 253.851446 \n",
       "L 374.566948 256.693935 \n",
       "L 379.503686 259.412515 \n",
       "L 383.92923 261.839332 \n",
       "L 388.752719 264.473399 \n",
       "L 393.354978 266.976056 \n",
       "L 398.318492 269.663636 \n",
       "\" style=\"fill:none;stroke:#1f77b4;stroke-linecap:square;stroke-width:1.5;\"/>\n",
       "   </g>\n",
       "   <g id=\"patch_3\">\n",
       "    <path d=\"M 212.071591 281.75 \n",
       "L 212.071591 15.85 \n",
       "\" style=\"fill:none;stroke:#000000;stroke-linecap:square;stroke-linejoin:miter;stroke-width:0.8;\"/>\n",
       "   </g>\n",
       "   <g id=\"patch_4\">\n",
       "    <path d=\"M 416.943182 281.75 \n",
       "L 416.943182 15.85 \n",
       "\" style=\"fill:none;\"/>\n",
       "   </g>\n",
       "   <g id=\"patch_5\">\n",
       "    <path d=\"M 7.2 148.8 \n",
       "L 416.943182 148.8 \n",
       "\" style=\"fill:none;stroke:#000000;stroke-linecap:square;stroke-linejoin:miter;stroke-width:0.8;\"/>\n",
       "   </g>\n",
       "   <g id=\"patch_6\">\n",
       "    <path d=\"M 7.2 15.85 \n",
       "L 416.943182 15.85 \n",
       "\" style=\"fill:none;\"/>\n",
       "   </g>\n",
       "  </g>\n",
       " </g>\n",
       " <defs>\n",
       "  <clipPath id=\"pcf50bff0e2\">\n",
       "   <rect height=\"265.9\" width=\"409.743182\" x=\"7.2\" y=\"15.85\"/>\n",
       "  </clipPath>\n",
       " </defs>\n",
       "</svg>\n"
      ],
      "text/plain": [
       "<Figure size 432x288 with 1 Axes>"
      ]
     },
     "metadata": {
      "needs_background": "light"
     },
     "output_type": "display_data"
    }
   ],
   "source": [
    "x = sp.Symbol('x')\n",
    "\n",
    "expr = (1 + x)**(1/x)\n",
    "display(expr)\n",
    "sp.plot(expr, (x, -0.9, 2));\n",
    "sp.plot(expr, (x, -0.1, 0.1));"
   ]
  },
  {
   "cell_type": "code",
   "execution_count": 89,
   "id": "7cc5331a",
   "metadata": {},
   "outputs": [
    {
     "data": {
      "text/latex": [
       "$\\displaystyle 2.5937424601$"
      ],
      "text/plain": [
       "2.59374246010000"
      ]
     },
     "metadata": {},
     "output_type": "display_data"
    },
    {
     "data": {
      "text/latex": [
       "$\\displaystyle 2.70481382942153$"
      ],
      "text/plain": [
       "2.70481382942153"
      ]
     },
     "metadata": {},
     "output_type": "display_data"
    },
    {
     "data": {
      "text/latex": [
       "$\\displaystyle 2.71692393223559$"
      ],
      "text/plain": [
       "2.71692393223559"
      ]
     },
     "metadata": {},
     "output_type": "display_data"
    },
    {
     "data": {
      "text/latex": [
       "$\\displaystyle \\text{NaN}$"
      ],
      "text/plain": [
       "nan"
      ]
     },
     "metadata": {},
     "output_type": "display_data"
    }
   ],
   "source": [
    "display(expr.subs(x, 0.1))\n",
    "display(expr.subs(x, 0.01))\n",
    "display(expr.subs(x, 0.001))\n",
    "display(expr.subs(x, 0))\n"
   ]
  }
 ],
 "metadata": {
  "kernelspec": {
   "display_name": "Python 3 (ipykernel)",
   "language": "python",
   "name": "python3"
  },
  "language_info": {
   "codemirror_mode": {
    "name": "ipython",
    "version": 3
   },
   "file_extension": ".py",
   "mimetype": "text/x-python",
   "name": "python",
   "nbconvert_exporter": "python",
   "pygments_lexer": "ipython3",
   "version": "3.9.6"
  }
 },
 "nbformat": 4,
 "nbformat_minor": 5
}
