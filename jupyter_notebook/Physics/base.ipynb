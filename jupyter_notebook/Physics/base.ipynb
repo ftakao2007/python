{
 "cells": [
  {
   "cell_type": "markdown",
   "id": "36452575",
   "metadata": {},
   "source": [
    "# 基本\n",
    "\n",
    "## 参考\n",
    "\n",
    "* [理系学生のためのSymPy入門編【研究で使うPython #69】](https://www.youtube.com/watch?v=cjCv9JCqHag)\n",
    "* [SymPyの使い方](https://gochikika.ntt.com/Features/SymPy.html)\n",
    "\n",
    "## ライブラリ\n",
    "\n",
    "* SymPy\n",
    "    * 代数計算(記号(文字)を記号として扱う計算)ができる\n",
    "    * [Python（SymPy）によるベクトル解析その２（勾配・発散・回転）](https://pianofisica.hatenablog.com/entry/2021/04/26/190000)\n",
    "    * [sympy: Symbol( ), symbols( ), var( )使い分け](https://qiita.com/asobinin_kinsan/items/6f008ed667d80fc3a9b7)\n",
    "        * varはトップレベルで使う\n",
    "        * 関数内ではsymbolsを使う"
   ]
  },
  {
   "cell_type": "markdown",
   "id": "796a1cb8",
   "metadata": {},
   "source": [
    "## ライブラリの読み込み"
   ]
  },
  {
   "cell_type": "code",
   "execution_count": 1,
   "id": "09bda248",
   "metadata": {},
   "outputs": [],
   "source": [
    "import sympy as sp\n",
    "import math\n",
    "from sympy.core.function import Function"
   ]
  },
  {
   "cell_type": "markdown",
   "id": "222ad0ea",
   "metadata": {},
   "source": [
    "## SymPyの基本"
   ]
  },
  {
   "cell_type": "markdown",
   "id": "a3d61968",
   "metadata": {},
   "source": [
    "### 平方根を記号のまま出力"
   ]
  },
  {
   "cell_type": "code",
   "execution_count": 2,
   "id": "efd49a3f",
   "metadata": {},
   "outputs": [
    {
     "data": {
      "text/plain": [
       "1.4142135623730951"
      ]
     },
     "execution_count": 2,
     "metadata": {},
     "output_type": "execute_result"
    }
   ],
   "source": [
    "### 通常は計算した結果が出る\n",
    "math.sqrt(2)"
   ]
  },
  {
   "cell_type": "code",
   "execution_count": 2,
   "id": "58435767",
   "metadata": {},
   "outputs": [
    {
     "data": {
      "text/latex": [
       "$\\displaystyle 2 \\sqrt{2}$"
      ],
      "text/plain": [
       "2*sqrt(2)"
      ]
     },
     "execution_count": 2,
     "metadata": {},
     "output_type": "execute_result"
    }
   ],
   "source": [
    "### SymPyを使うと記号のまま出してくれる\n",
    "sp.sqrt(8)"
   ]
  },
  {
   "cell_type": "markdown",
   "id": "d591601b",
   "metadata": {},
   "source": [
    "### 記号xを作成"
   ]
  },
  {
   "cell_type": "code",
   "execution_count": 3,
   "id": "38976cac",
   "metadata": {},
   "outputs": [],
   "source": [
    "x = sp.Symbol('x')"
   ]
  },
  {
   "cell_type": "code",
   "execution_count": 4,
   "id": "d525501d",
   "metadata": {},
   "outputs": [
    {
     "data": {
      "text/latex": [
       "$\\displaystyle x$"
      ],
      "text/plain": [
       "x"
      ]
     },
     "execution_count": 4,
     "metadata": {},
     "output_type": "execute_result"
    }
   ],
   "source": [
    "### 記号xを出力\n",
    "x"
   ]
  },
  {
   "cell_type": "markdown",
   "id": "0ccbf7be",
   "metadata": {},
   "source": [
    "### 出力について"
   ]
  },
  {
   "cell_type": "code",
   "execution_count": 5,
   "id": "0c0700c6",
   "metadata": {},
   "outputs": [
    {
     "name": "stdout",
     "output_type": "stream",
     "text": [
      "x\n"
     ]
    },
    {
     "data": {
      "text/latex": [
       "$\\displaystyle x$"
      ],
      "text/plain": [
       "x"
      ]
     },
     "metadata": {},
     "output_type": "display_data"
    }
   ],
   "source": [
    "### printだとLaTeXの形にならないのでdisplayを使う\n",
    "print(x)\n",
    "display(x)"
   ]
  },
  {
   "cell_type": "markdown",
   "id": "7b0d1833",
   "metadata": {},
   "source": [
    "### 分数"
   ]
  },
  {
   "cell_type": "code",
   "execution_count": 10,
   "id": "029ce35e",
   "metadata": {},
   "outputs": [
    {
     "data": {
      "text/latex": [
       "$\\displaystyle \\frac{2}{3}$"
      ],
      "text/plain": [
       "2/3"
      ]
     },
     "metadata": {},
     "output_type": "display_data"
    },
    {
     "data": {
      "text/latex": [
       "$\\displaystyle 3$"
      ],
      "text/plain": [
       "3"
      ]
     },
     "metadata": {},
     "output_type": "display_data"
    },
    {
     "data": {
      "text/latex": [
       "$\\displaystyle 2$"
      ],
      "text/plain": [
       "2"
      ]
     },
     "metadata": {},
     "output_type": "display_data"
    }
   ],
   "source": [
    "display(sp.Rational(2,3))\n",
    "\n",
    "### 分母\n",
    "display(sp.denom(sp.Rational(2,3)))\n",
    "\n",
    "### 分子\n",
    "display(sp.numer(sp.Rational(2,3)))"
   ]
  },
  {
   "cell_type": "markdown",
   "id": "a163162d",
   "metadata": {},
   "source": [
    "### その他"
   ]
  },
  {
   "cell_type": "code",
   "execution_count": 14,
   "id": "10e84434",
   "metadata": {},
   "outputs": [
    {
     "data": {
      "text/latex": [
       "$\\displaystyle 6$"
      ],
      "text/plain": [
       "6"
      ]
     },
     "metadata": {},
     "output_type": "display_data"
    },
    {
     "data": {
      "text/latex": [
       "$\\displaystyle \\pi$"
      ],
      "text/plain": [
       "pi"
      ]
     },
     "metadata": {},
     "output_type": "display_data"
    },
    {
     "data": {
      "text/latex": [
       "$\\displaystyle e$"
      ],
      "text/plain": [
       "E"
      ]
     },
     "metadata": {},
     "output_type": "display_data"
    },
    {
     "data": {
      "text/latex": [
       "$\\displaystyle \\infty$"
      ],
      "text/plain": [
       "oo"
      ]
     },
     "metadata": {},
     "output_type": "display_data"
    }
   ],
   "source": [
    "### 階乗\n",
    "display(sp.factorial(3))\n",
    "\n",
    "### 円周率\n",
    "display(sp.pi)\n",
    "\n",
    "### ネイピア数\n",
    "display(sp.E)\n",
    "\n",
    "### 無限大\n",
    "display(sp.oo)"
   ]
  },
  {
   "cell_type": "markdown",
   "id": "60a545fc",
   "metadata": {},
   "source": [
    "### 代数計算"
   ]
  },
  {
   "cell_type": "code",
   "execution_count": 6,
   "id": "b433b331",
   "metadata": {},
   "outputs": [
    {
     "data": {
      "text/latex": [
       "$\\displaystyle 2 x$"
      ],
      "text/plain": [
       "2*x"
      ]
     },
     "metadata": {},
     "output_type": "display_data"
    },
    {
     "data": {
      "text/latex": [
       "$\\displaystyle x^{2}$"
      ],
      "text/plain": [
       "x**2"
      ]
     },
     "metadata": {},
     "output_type": "display_data"
    }
   ],
   "source": [
    "### 記号のまま計算できる\n",
    "display(x+x)\n",
    "display(x*x)"
   ]
  },
  {
   "cell_type": "markdown",
   "id": "f568f9d0",
   "metadata": {},
   "source": [
    "### 複数の記号の作成"
   ]
  },
  {
   "cell_type": "code",
   "execution_count": 18,
   "id": "43b57e5e",
   "metadata": {},
   "outputs": [],
   "source": [
    "### symbolsを使う\n",
    "x, y = sp.symbols('x y')"
   ]
  },
  {
   "cell_type": "code",
   "execution_count": 8,
   "id": "8a5dc18b",
   "metadata": {},
   "outputs": [
    {
     "data": {
      "text/latex": [
       "$\\displaystyle x^{2} + 2 y$"
      ],
      "text/plain": [
       "x**2 + 2*y"
      ]
     },
     "execution_count": 8,
     "metadata": {},
     "output_type": "execute_result"
    }
   ],
   "source": [
    "x**2 + 2*y"
   ]
  },
  {
   "cell_type": "code",
   "execution_count": 9,
   "id": "5a515d65",
   "metadata": {},
   "outputs": [],
   "source": [
    "### varでも可能(グローバル変数的に使う場合はコッチを使う？)\n",
    "a, b, c = sp.var('a b c')"
   ]
  },
  {
   "cell_type": "code",
   "execution_count": 10,
   "id": "fbeb16fe",
   "metadata": {},
   "outputs": [
    {
     "data": {
      "text/latex": [
       "$\\displaystyle a^{2} + 2 b + c$"
      ],
      "text/plain": [
       "a**2 + 2*b + c"
      ]
     },
     "execution_count": 10,
     "metadata": {},
     "output_type": "execute_result"
    }
   ],
   "source": [
    "a**2 + 2*b + c"
   ]
  },
  {
   "cell_type": "markdown",
   "id": "dd7d7594",
   "metadata": {},
   "source": [
    "### 関数の利用"
   ]
  },
  {
   "cell_type": "code",
   "execution_count": 11,
   "id": "11f35d2a",
   "metadata": {},
   "outputs": [
    {
     "data": {
      "text/latex": [
       "$\\displaystyle \\sin{\\left(x \\right)}$"
      ],
      "text/plain": [
       "sin(x)"
      ]
     },
     "execution_count": 11,
     "metadata": {},
     "output_type": "execute_result"
    }
   ],
   "source": [
    "sp.sin(x)"
   ]
  },
  {
   "cell_type": "code",
   "execution_count": 12,
   "id": "fc19ed62",
   "metadata": {},
   "outputs": [
    {
     "data": {
      "text/latex": [
       "$\\displaystyle \\log{\\left(x \\right)}$"
      ],
      "text/plain": [
       "log(x)"
      ]
     },
     "execution_count": 12,
     "metadata": {},
     "output_type": "execute_result"
    }
   ],
   "source": [
    "### 「sp.」の後でTabを押すと使える関数一覧が出る\n",
    "#sp.Abs(x)\n",
    "sp.log(x)"
   ]
  },
  {
   "cell_type": "markdown",
   "id": "838cf9f5",
   "metadata": {},
   "source": [
    "### 新しい変数に式を代入"
   ]
  },
  {
   "cell_type": "code",
   "execution_count": 13,
   "id": "8babac1b",
   "metadata": {},
   "outputs": [
    {
     "data": {
      "text/latex": [
       "$\\displaystyle a + b$"
      ],
      "text/plain": [
       "a + b"
      ]
     },
     "metadata": {},
     "output_type": "display_data"
    },
    {
     "data": {
      "text/latex": [
       "$\\displaystyle \\left(a + b\\right)^{2}$"
      ],
      "text/plain": [
       "(a + b)**2"
      ]
     },
     "metadata": {},
     "output_type": "display_data"
    }
   ],
   "source": [
    "c = a + b\n",
    "display(c)\n",
    "display(c**2)"
   ]
  },
  {
   "cell_type": "markdown",
   "id": "daa8918a",
   "metadata": {},
   "source": [
    "### 展開と因数分解"
   ]
  },
  {
   "cell_type": "code",
   "execution_count": 14,
   "id": "35430b68",
   "metadata": {},
   "outputs": [
    {
     "data": {
      "text/latex": [
       "$\\displaystyle x^{3} + 3 x^{2} y + 3 x y^{2} + y^{3}$"
      ],
      "text/plain": [
       "x**3 + 3*x**2*y + 3*x*y**2 + y**3"
      ]
     },
     "metadata": {},
     "output_type": "display_data"
    },
    {
     "data": {
      "text/latex": [
       "$\\displaystyle \\left(x + y\\right)^{3}$"
      ],
      "text/plain": [
       "(x + y)**3"
      ]
     },
     "metadata": {},
     "output_type": "display_data"
    },
    {
     "data": {
      "text/latex": [
       "$\\displaystyle x^{3} + 3 x^{2} y + 3 x y^{2} + y^{3}$"
      ],
      "text/plain": [
       "x**3 + 3*x**2*y + 3*x*y**2 + y**3"
      ]
     },
     "metadata": {},
     "output_type": "display_data"
    }
   ],
   "source": [
    "expr = x**3 + 3*x**2*y + 3*x*y**2 + y**3\n",
    "display(expr)\n",
    "\n",
    "### 因数分解\n",
    "expr1 = sp.factor(expr)\n",
    "display(expr1)\n",
    "\n",
    "### 展開\n",
    "expr2 = sp.expand(expr1)\n",
    "display(expr2)"
   ]
  },
  {
   "cell_type": "code",
   "execution_count": 24,
   "id": "a83c890c",
   "metadata": {},
   "outputs": [
    {
     "data": {
      "text/latex": [
       "$\\displaystyle x^{2} + 4$"
      ],
      "text/plain": [
       "x**2 + 4"
      ]
     },
     "metadata": {},
     "output_type": "display_data"
    },
    {
     "data": {
      "text/latex": [
       "$\\displaystyle \\left(x - 2 i\\right) \\left(x + 2 i\\right)$"
      ],
      "text/plain": [
       "(x - 2*I)*(x + 2*I)"
      ]
     },
     "metadata": {},
     "output_type": "display_data"
    }
   ],
   "source": [
    "### 虚数まで含めた因数分解\n",
    "\n",
    "expr = x**2 + 4\n",
    "\n",
    "### 虚数含めない\n",
    "display(sp.factor(expr))\n",
    "\n",
    "### 虚数含める\n",
    "display(sp.factor(expr, extension=[sp.I]))\n"
   ]
  },
  {
   "cell_type": "markdown",
   "id": "a6db9cf0",
   "metadata": {},
   "source": [
    "### 簡単化"
   ]
  },
  {
   "cell_type": "code",
   "execution_count": 15,
   "id": "4e52dc4f",
   "metadata": {},
   "outputs": [
    {
     "data": {
      "text/latex": [
       "$\\displaystyle \\frac{a b + a c}{a}$"
      ],
      "text/plain": [
       "(a*b + a*c)/a"
      ]
     },
     "metadata": {},
     "output_type": "display_data"
    },
    {
     "data": {
      "text/latex": [
       "$\\displaystyle b + c$"
      ],
      "text/plain": [
       "b + c"
      ]
     },
     "metadata": {},
     "output_type": "display_data"
    }
   ],
   "source": [
    "a, b, c = sp.var('a b c')\n",
    "\n",
    "expr3 = (a*b + a*c) / a\n",
    "\n",
    "display(expr3)\n",
    "\n",
    "### 約分\n",
    "display(sp.simplify(expr3))"
   ]
  },
  {
   "cell_type": "markdown",
   "id": "5f4a166c",
   "metadata": {},
   "source": [
    "### 代入"
   ]
  },
  {
   "cell_type": "code",
   "execution_count": 16,
   "id": "e978e14e",
   "metadata": {},
   "outputs": [
    {
     "data": {
      "text/latex": [
       "$\\displaystyle x^{2}$"
      ],
      "text/plain": [
       "x**2"
      ]
     },
     "metadata": {},
     "output_type": "display_data"
    }
   ],
   "source": [
    "x, y, a = sp.var('x y a')\n",
    "\n",
    "y = x**2\n",
    "display(y)"
   ]
  },
  {
   "cell_type": "code",
   "execution_count": 17,
   "id": "b0c6e244",
   "metadata": {},
   "outputs": [
    {
     "data": {
      "text/latex": [
       "$\\displaystyle 9$"
      ],
      "text/plain": [
       "9"
      ]
     },
     "metadata": {},
     "output_type": "display_data"
    },
    {
     "data": {
      "text/latex": [
       "$\\displaystyle a^{2}$"
      ],
      "text/plain": [
       "a**2"
      ]
     },
     "metadata": {},
     "output_type": "display_data"
    }
   ],
   "source": [
    "### xに値を代入\n",
    "display(y.subs(x, 3))\n",
    "display(y.subs(x, a))"
   ]
  },
  {
   "cell_type": "markdown",
   "id": "7c1f1937",
   "metadata": {},
   "source": [
    "### 微分"
   ]
  },
  {
   "cell_type": "code",
   "execution_count": 18,
   "id": "a3e4286b",
   "metadata": {},
   "outputs": [
    {
     "data": {
      "text/latex": [
       "$\\displaystyle 2 x$"
      ],
      "text/plain": [
       "2*x"
      ]
     },
     "metadata": {},
     "output_type": "display_data"
    },
    {
     "data": {
      "text/latex": [
       "$\\displaystyle - \\sin{\\left(x \\right)}$"
      ],
      "text/plain": [
       "-sin(x)"
      ]
     },
     "metadata": {},
     "output_type": "display_data"
    }
   ],
   "source": [
    "x, y = sp.var('x y')\n",
    "\n",
    "### y = x^2の微分\n",
    "y = x**2\n",
    "display(sp.diff(y, x))\n",
    "\n",
    "### cos(x)の微分\n",
    "display(sp.diff(sp.cos(x), x))"
   ]
  },
  {
   "cell_type": "markdown",
   "id": "68518b7f",
   "metadata": {},
   "source": [
    "### 方程式を解く"
   ]
  },
  {
   "cell_type": "code",
   "execution_count": 19,
   "id": "2c65f4a5",
   "metadata": {},
   "outputs": [
    {
     "data": {
      "text/latex": [
       "$\\displaystyle x^{2} - 3 x + 2$"
      ],
      "text/plain": [
       "x**2 - 3*x + 2"
      ]
     },
     "metadata": {},
     "output_type": "display_data"
    },
    {
     "data": {
      "text/latex": [
       "$\\displaystyle \\left(x - 2\\right) \\left(x - 1\\right)$"
      ],
      "text/plain": [
       "(x - 2)*(x - 1)"
      ]
     },
     "metadata": {},
     "output_type": "display_data"
    },
    {
     "data": {
      "text/plain": [
       "[1, 2]"
      ]
     },
     "metadata": {},
     "output_type": "display_data"
    }
   ],
   "source": [
    "x = sp.Symbol('x')\n",
    "f = x**2 - 3*x + 2\n",
    "display(f)\n",
    "display(sp.factor(f))\n",
    "\n",
    "### f(x) = 0 となるxを見つける\n",
    "display(sp.solve(f))"
   ]
  },
  {
   "cell_type": "code",
   "execution_count": 74,
   "id": "6aead3f6",
   "metadata": {},
   "outputs": [
    {
     "data": {
      "text/plain": [
       "{x: 24/5, y: -6/5}"
      ]
     },
     "metadata": {},
     "output_type": "display_data"
    }
   ],
   "source": [
    "### 連立方程式を解く\n",
    "x, y = sp.var('x y')\n",
    "\n",
    "expr1 = 2*x + 3*y - 6\n",
    "expr2 = 3*x + 2*y - 12\n",
    "\n",
    "display(sp.solve((expr1,expr2)))"
   ]
  },
  {
   "cell_type": "code",
   "execution_count": 83,
   "id": "44b46707",
   "metadata": {},
   "outputs": [
    {
     "data": {
      "text/latex": [
       "$\\displaystyle a x^{2} + b x + c$"
      ],
      "text/plain": [
       "a*x**2 + b*x + c"
      ]
     },
     "metadata": {},
     "output_type": "display_data"
    },
    {
     "data": {
      "text/latex": [
       "$\\displaystyle \\frac{- b - \\sqrt{- 4 a c + b^{2}}}{2 a}$"
      ],
      "text/plain": [
       "(-b - sqrt(-4*a*c + b**2))/(2*a)"
      ]
     },
     "metadata": {},
     "output_type": "display_data"
    },
    {
     "data": {
      "text/latex": [
       "$\\displaystyle \\frac{- b + \\sqrt{- 4 a c + b^{2}}}{2 a}$"
      ],
      "text/plain": [
       "(-b + sqrt(-4*a*c + b**2))/(2*a)"
      ]
     },
     "metadata": {},
     "output_type": "display_data"
    }
   ],
   "source": [
    "x, a, b, c = sp.var('x a b c')\n",
    "\n",
    "f = a*x**2 + b*x + c\n",
    "display(f)\n",
    "display(sp.solve(f, x)[0])\n",
    "display(sp.solve(f, x)[1])"
   ]
  },
  {
   "cell_type": "markdown",
   "id": "d5b66219",
   "metadata": {},
   "source": [
    "## 行列\n",
    "\n",
    "* numpyとの違い\n",
    "    * 文字をそのまま扱える\n",
    "    * 分数は分数として処理できる"
   ]
  },
  {
   "cell_type": "markdown",
   "id": "9067e7ff",
   "metadata": {},
   "source": [
    "### 行列の生成"
   ]
  },
  {
   "cell_type": "code",
   "execution_count": 20,
   "id": "4b19df6b",
   "metadata": {},
   "outputs": [
    {
     "data": {
      "text/latex": [
       "$\\displaystyle \\left[\\begin{matrix}1 & 2\\\\3 & 4\\\\5 & 6\\end{matrix}\\right]$"
      ],
      "text/plain": [
       "Matrix([\n",
       "[1, 2],\n",
       "[3, 4],\n",
       "[5, 6]])"
      ]
     },
     "execution_count": 20,
     "metadata": {},
     "output_type": "execute_result"
    }
   ],
   "source": [
    "sp.Matrix([[1,2], [3,4], [5,6]])"
   ]
  },
  {
   "cell_type": "code",
   "execution_count": 21,
   "id": "c7ead8c5",
   "metadata": {},
   "outputs": [
    {
     "data": {
      "text/latex": [
       "$\\displaystyle \\left[\\begin{matrix}a & b\\\\c & d\\\\e & f\\end{matrix}\\right]$"
      ],
      "text/plain": [
       "Matrix([\n",
       "[a, b],\n",
       "[c, d],\n",
       "[e, f]])"
      ]
     },
     "execution_count": 21,
     "metadata": {},
     "output_type": "execute_result"
    }
   ],
   "source": [
    "a, b, c, d, e, f = sp.symbols('a b c d e f')\n",
    "sp.Matrix([[a,b], [c,d], [e,f]])"
   ]
  },
  {
   "cell_type": "code",
   "execution_count": 22,
   "id": "ab375eb3",
   "metadata": {},
   "outputs": [
    {
     "data": {
      "text/latex": [
       "$\\displaystyle \\left[\\begin{matrix}1 & b\\\\c & d\\\\e & f\\end{matrix}\\right]$"
      ],
      "text/plain": [
       "Matrix([\n",
       "[1, b],\n",
       "[c, d],\n",
       "[e, f]])"
      ]
     },
     "execution_count": 22,
     "metadata": {},
     "output_type": "execute_result"
    }
   ],
   "source": [
    "### aに1を入れる\n",
    "sp.Matrix([[a,b], [c,d], [e,f]]).subs(a, 1)"
   ]
  },
  {
   "cell_type": "code",
   "execution_count": 23,
   "id": "b9aea934",
   "metadata": {},
   "outputs": [
    {
     "data": {
      "text/latex": [
       "$\\displaystyle \\left[\\begin{matrix}1 & 2\\\\3 & 4\\\\5 & 6\\end{matrix}\\right]$"
      ],
      "text/plain": [
       "Matrix([\n",
       "[1, 2],\n",
       "[3, 4],\n",
       "[5, 6]])"
      ]
     },
     "metadata": {},
     "output_type": "display_data"
    },
    {
     "data": {
      "text/latex": [
       "$\\displaystyle \\left[\\begin{matrix}1 & 2 & 3\\\\4 & 5 & 6\\end{matrix}\\right]$"
      ],
      "text/plain": [
       "Matrix([\n",
       "[1, 2, 3],\n",
       "[4, 5, 6]])"
      ]
     },
     "metadata": {},
     "output_type": "display_data"
    }
   ],
   "source": [
    "### 3行2列であることを宣言して一つのリストに値を入れて行列を生成\n",
    "display(sp.Matrix(3, 2, [1, 2, 3, 4, 5, 6]))\n",
    "\n",
    "### 2行3列であることを宣言して一つのリストに値を入れて行列を生成\n",
    "display(sp.Matrix(2, 3, [1, 2, 3, 4, 5, 6]))\n"
   ]
  },
  {
   "cell_type": "markdown",
   "id": "3dbad8dc",
   "metadata": {},
   "source": [
    "### 列ベクトル ($ n \\times 1 $ 行列)"
   ]
  },
  {
   "cell_type": "code",
   "execution_count": 12,
   "id": "b8c992ed",
   "metadata": {},
   "outputs": [
    {
     "data": {
      "text/latex": [
       "$\\displaystyle \\left[\\begin{matrix}1\\\\2\\\\3\\\\4\\end{matrix}\\right]$"
      ],
      "text/plain": [
       "Matrix([\n",
       "[1],\n",
       "[2],\n",
       "[3],\n",
       "[4]])"
      ]
     },
     "metadata": {},
     "output_type": "display_data"
    }
   ],
   "source": [
    "### リストを入れる\n",
    "display(sp.Matrix([1, 2, 3, 4]))"
   ]
  },
  {
   "cell_type": "markdown",
   "id": "320f1c34",
   "metadata": {},
   "source": [
    "### 行ベクトル ($ 1 \\times n $ 行列)"
   ]
  },
  {
   "cell_type": "code",
   "execution_count": 14,
   "id": "0ef7eb30",
   "metadata": {},
   "outputs": [
    {
     "data": {
      "text/latex": [
       "$\\displaystyle \\left[\\begin{matrix}1 & 2 & 3 & 4\\end{matrix}\\right]$"
      ],
      "text/plain": [
       "Matrix([[1, 2, 3, 4]])"
      ]
     },
     "metadata": {},
     "output_type": "display_data"
    }
   ],
   "source": [
    "## リストを二重にする\n",
    "display(sp.Matrix([[1, 2, 3, 4]]))"
   ]
  },
  {
   "cell_type": "markdown",
   "id": "f81a332f",
   "metadata": {},
   "source": [
    "### 転置"
   ]
  },
  {
   "cell_type": "code",
   "execution_count": 20,
   "id": "362547d7",
   "metadata": {},
   "outputs": [
    {
     "data": {
      "text/latex": [
       "$\\displaystyle \\left[\\begin{matrix}1\\\\2\\\\3\\\\4\\end{matrix}\\right]$"
      ],
      "text/plain": [
       "Matrix([\n",
       "[1],\n",
       "[2],\n",
       "[3],\n",
       "[4]])"
      ]
     },
     "metadata": {},
     "output_type": "display_data"
    }
   ],
   "source": [
    "### 「.T」をつける。またはtranspose()\n",
    "display(sp.Matrix([[1, 2, 3, 4]]).T)"
   ]
  },
  {
   "cell_type": "markdown",
   "id": "3dda12a3",
   "metadata": {},
   "source": [
    "### 行列の変数への格納と演算"
   ]
  },
  {
   "cell_type": "code",
   "execution_count": 69,
   "id": "4c3a051c",
   "metadata": {},
   "outputs": [
    {
     "data": {
      "text/latex": [
       "$\\displaystyle \\left[\\begin{matrix}1 & 2\\\\3 & 4\\end{matrix}\\right]$"
      ],
      "text/plain": [
       "Matrix([\n",
       "[1, 2],\n",
       "[3, 4]])"
      ]
     },
     "metadata": {},
     "output_type": "display_data"
    },
    {
     "data": {
      "text/latex": [
       "$\\displaystyle \\left[\\begin{matrix}5 & 6\\\\7 & 8\\end{matrix}\\right]$"
      ],
      "text/plain": [
       "Matrix([\n",
       "[5, 6],\n",
       "[7, 8]])"
      ]
     },
     "metadata": {},
     "output_type": "display_data"
    },
    {
     "data": {
      "text/latex": [
       "$\\displaystyle \\left[\\begin{matrix}3 & 1\\\\2 & 4\\end{matrix}\\right]$"
      ],
      "text/plain": [
       "Matrix([\n",
       "[3, 1],\n",
       "[2, 4]])"
      ]
     },
     "metadata": {},
     "output_type": "display_data"
    },
    {
     "data": {
      "text/latex": [
       "$\\displaystyle \\left[\\begin{matrix}a_{11} & a_{12}\\\\a_{21} & a_{22}\\end{matrix}\\right]$"
      ],
      "text/plain": [
       "Matrix([\n",
       "[a11, a12],\n",
       "[a21, a22]])"
      ]
     },
     "metadata": {},
     "output_type": "display_data"
    },
    {
     "data": {
      "text/latex": [
       "$\\displaystyle \\left[\\begin{matrix}b_{11} & b_{12}\\\\b_{21} & b_{22}\\end{matrix}\\right]$"
      ],
      "text/plain": [
       "Matrix([\n",
       "[b11, b12],\n",
       "[b21, b22]])"
      ]
     },
     "metadata": {},
     "output_type": "display_data"
    },
    {
     "data": {
      "text/latex": [
       "$\\displaystyle \\left[\\begin{matrix}c_{11} & c_{12} & c_{13}\\\\c_{21} & c_{22} & c_{23}\\\\c_{31} & c_{32} & c_{33}\\end{matrix}\\right]$"
      ],
      "text/plain": [
       "Matrix([\n",
       "[c11, c12, c13],\n",
       "[c21, c22, c23],\n",
       "[c31, c32, c33]])"
      ]
     },
     "metadata": {},
     "output_type": "display_data"
    }
   ],
   "source": [
    "A1 = sp.Matrix(2, 2, [1, 2, 3, 4])\n",
    "B1 = sp.Matrix(2, 2, [5, 6, 7, 8])\n",
    "C1 = sp.Matrix(2, 2, [3, 1, 2, 4])\n",
    "\n",
    "display(A1)\n",
    "display(B1)\n",
    "display(C1)\n",
    "\n",
    "sp.var('a11, a12, a21, a22, b11, b12, b21, b22, c11, c12, c13, c21, c22, c23, c31, c32, c33')\n",
    "A = sp.Matrix(2, 2, [a11, a12, a21, a22])\n",
    "B = sp.Matrix(2, 2, [b11, b12, b21, b22])\n",
    "C = sp.Matrix(3, 3, [c11, c12, c13, c21, c22, c23, c31, c32, c33])\n",
    "\n",
    "display(A)\n",
    "display(B)\n",
    "display(C)"
   ]
  },
  {
   "cell_type": "code",
   "execution_count": 61,
   "id": "f485caa3",
   "metadata": {},
   "outputs": [
    {
     "data": {
      "text/latex": [
       "$\\displaystyle \\left[\\begin{matrix}6 & 8\\\\10 & 12\\end{matrix}\\right]$"
      ],
      "text/plain": [
       "Matrix([\n",
       "[ 6,  8],\n",
       "[10, 12]])"
      ]
     },
     "metadata": {},
     "output_type": "display_data"
    },
    {
     "data": {
      "text/latex": [
       "$\\displaystyle \\left[\\begin{matrix}5 k & 6 k\\\\7 k & 8 k\\end{matrix}\\right]$"
      ],
      "text/plain": [
       "Matrix([\n",
       "[5*k, 6*k],\n",
       "[7*k, 8*k]])"
      ]
     },
     "metadata": {},
     "output_type": "display_data"
    }
   ],
   "source": [
    "display(A1 + B1)\n",
    "k = sp.Symbol('k')\n",
    "display(k*B1)"
   ]
  },
  {
   "cell_type": "code",
   "execution_count": 51,
   "id": "56ff873c",
   "metadata": {},
   "outputs": [
    {
     "data": {
      "text/latex": [
       "$\\displaystyle \\left[\\begin{matrix}a_{11} b_{11} + a_{12} b_{21} & a_{11} b_{12} + a_{12} b_{22}\\\\a_{21} b_{11} + a_{22} b_{21} & a_{21} b_{12} + a_{22} b_{22}\\end{matrix}\\right]$"
      ],
      "text/plain": [
       "Matrix([\n",
       "[a11*b11 + a12*b21, a11*b12 + a12*b22],\n",
       "[a21*b11 + a22*b21, a21*b12 + a22*b22]])"
      ]
     },
     "metadata": {},
     "output_type": "display_data"
    }
   ],
   "source": [
    "display(A * B)\n",
    "### numpyの場合はdot()関数でやらないと行列の積が求められない"
   ]
  },
  {
   "cell_type": "markdown",
   "id": "8e5e85ff",
   "metadata": {},
   "source": [
    "### 行列式"
   ]
  },
  {
   "cell_type": "code",
   "execution_count": 53,
   "id": "2388e0ec",
   "metadata": {},
   "outputs": [
    {
     "data": {
      "text/latex": [
       "$\\displaystyle \\left[\\begin{matrix}a_{11} & a_{12}\\\\a_{21} & a_{22}\\end{matrix}\\right]$"
      ],
      "text/plain": [
       "Matrix([\n",
       "[a11, a12],\n",
       "[a21, a22]])"
      ]
     },
     "metadata": {},
     "output_type": "display_data"
    },
    {
     "data": {
      "text/latex": [
       "$\\displaystyle a_{11} a_{22} - a_{12} a_{21}$"
      ],
      "text/plain": [
       "a11*a22 - a12*a21"
      ]
     },
     "metadata": {},
     "output_type": "display_data"
    },
    {
     "data": {
      "text/latex": [
       "$\\displaystyle \\left[\\begin{matrix}c_{11} & c_{12} & c_{13}\\\\c_{21} & c_{22} & c_{23}\\\\c_{31} & c_{32} & c_{33}\\end{matrix}\\right]$"
      ],
      "text/plain": [
       "Matrix([\n",
       "[c11, c12, c13],\n",
       "[c21, c22, c23],\n",
       "[c31, c32, c33]])"
      ]
     },
     "metadata": {},
     "output_type": "display_data"
    },
    {
     "data": {
      "text/latex": [
       "$\\displaystyle c_{11} c_{22} c_{33} - c_{11} c_{23} c_{32} - c_{12} c_{21} c_{33} + c_{12} c_{23} c_{31} + c_{13} c_{21} c_{32} - c_{13} c_{22} c_{31}$"
      ],
      "text/plain": [
       "c11*c22*c33 - c11*c23*c32 - c12*c21*c33 + c12*c23*c31 + c13*c21*c32 - c13*c22*c31"
      ]
     },
     "metadata": {},
     "output_type": "display_data"
    }
   ],
   "source": [
    "display(A)\n",
    "display(sp.det(A))\n",
    "display(C)\n",
    "display(sp.det(C))"
   ]
  },
  {
   "cell_type": "markdown",
   "id": "9e621fb8",
   "metadata": {},
   "source": [
    "### 逆行列"
   ]
  },
  {
   "cell_type": "code",
   "execution_count": 65,
   "id": "74f7550d",
   "metadata": {},
   "outputs": [
    {
     "data": {
      "text/latex": [
       "$\\displaystyle \\left[\\begin{matrix}a_{11} & a_{12}\\\\a_{21} & a_{22}\\end{matrix}\\right]$"
      ],
      "text/plain": [
       "Matrix([\n",
       "[a11, a12],\n",
       "[a21, a22]])"
      ]
     },
     "metadata": {},
     "output_type": "display_data"
    },
    {
     "data": {
      "text/latex": [
       "$\\displaystyle \\left[\\begin{matrix}\\frac{a_{22}}{a_{11} a_{22} - a_{12} a_{21}} & - \\frac{a_{12}}{a_{11} a_{22} - a_{12} a_{21}}\\\\- \\frac{a_{21}}{a_{11} a_{22} - a_{12} a_{21}} & \\frac{a_{11}}{a_{11} a_{22} - a_{12} a_{21}}\\end{matrix}\\right]$"
      ],
      "text/plain": [
       "Matrix([\n",
       "[ a22/(a11*a22 - a12*a21), -a12/(a11*a22 - a12*a21)],\n",
       "[-a21/(a11*a22 - a12*a21),  a11/(a11*a22 - a12*a21)]])"
      ]
     },
     "metadata": {},
     "output_type": "display_data"
    }
   ],
   "source": [
    "display(A)\n",
    "display(A.inv())"
   ]
  },
  {
   "cell_type": "markdown",
   "id": "153d9061",
   "metadata": {},
   "source": [
    "### 固有値と固有ベクトル"
   ]
  },
  {
   "cell_type": "code",
   "execution_count": 70,
   "id": "92922d4c",
   "metadata": {},
   "outputs": [
    {
     "data": {
      "text/latex": [
       "$\\displaystyle \\left[\\begin{matrix}3 & 1\\\\2 & 4\\end{matrix}\\right]$"
      ],
      "text/plain": [
       "Matrix([\n",
       "[3, 1],\n",
       "[2, 4]])"
      ]
     },
     "metadata": {},
     "output_type": "display_data"
    },
    {
     "data": {
      "text/plain": [
       "{5: 1, 2: 1}"
      ]
     },
     "metadata": {},
     "output_type": "display_data"
    },
    {
     "name": "stdout",
     "output_type": "stream",
     "text": [
      "--------------------\n"
     ]
    },
    {
     "data": {
      "text/plain": [
       "[(2,\n",
       "  1,\n",
       "  [Matrix([\n",
       "   [-1],\n",
       "   [ 1]])]),\n",
       " (5,\n",
       "  1,\n",
       "  [Matrix([\n",
       "   [1/2],\n",
       "   [  1]])])]"
      ]
     },
     "metadata": {},
     "output_type": "display_data"
    }
   ],
   "source": [
    "display(C1)\n",
    "### 固有値5で重複度1、固有値2で重複度1\n",
    "display(C1.eigenvals())\n",
    "print('--------------------')\n",
    "display(C1.eigenvects())"
   ]
  },
  {
   "cell_type": "code",
   "execution_count": 75,
   "id": "25e1aa88",
   "metadata": {},
   "outputs": [
    {
     "data": {
      "text/latex": [
       "$\\displaystyle \\left[\\begin{matrix}-1\\\\1\\end{matrix}\\right]$"
      ],
      "text/plain": [
       "Matrix([\n",
       "[-1],\n",
       "[ 1]])"
      ]
     },
     "metadata": {},
     "output_type": "display_data"
    },
    {
     "data": {
      "text/latex": [
       "$\\displaystyle \\left[\\begin{matrix}\\frac{1}{2}\\\\1\\end{matrix}\\right]$"
      ],
      "text/plain": [
       "Matrix([\n",
       "[1/2],\n",
       "[  1]])"
      ]
     },
     "metadata": {},
     "output_type": "display_data"
    }
   ],
   "source": [
    "### 固有値2の固有ベクトル\n",
    "display(C1.eigenvects()[0][2][0])\n",
    "### 固有値5の固有ベクトル\n",
    "display(C1.eigenvects()[1][2][0])"
   ]
  },
  {
   "cell_type": "markdown",
   "id": "645b1eaf",
   "metadata": {},
   "source": [
    "## 虚数"
   ]
  },
  {
   "cell_type": "markdown",
   "id": "1ba79388",
   "metadata": {},
   "source": [
    "### 基本"
   ]
  },
  {
   "cell_type": "code",
   "execution_count": 16,
   "id": "9a5f57cc",
   "metadata": {},
   "outputs": [
    {
     "data": {
      "text/latex": [
       "$\\displaystyle i$"
      ],
      "text/plain": [
       "I"
      ]
     },
     "metadata": {},
     "output_type": "display_data"
    },
    {
     "data": {
      "text/latex": [
       "$\\displaystyle -1$"
      ],
      "text/plain": [
       "-1"
      ]
     },
     "metadata": {},
     "output_type": "display_data"
    },
    {
     "name": "stdout",
     "output_type": "stream",
     "text": [
      "-------\n"
     ]
    },
    {
     "data": {
      "text/latex": [
       "$\\displaystyle 3 + 4 i$"
      ],
      "text/plain": [
       "3 + 4*I"
      ]
     },
     "metadata": {},
     "output_type": "display_data"
    },
    {
     "data": {
      "text/latex": [
       "$\\displaystyle 3$"
      ],
      "text/plain": [
       "3"
      ]
     },
     "metadata": {},
     "output_type": "display_data"
    },
    {
     "data": {
      "text/latex": [
       "$\\displaystyle 4$"
      ],
      "text/plain": [
       "4"
      ]
     },
     "metadata": {},
     "output_type": "display_data"
    },
    {
     "data": {
      "text/latex": [
       "$\\displaystyle 3 - 4 i$"
      ],
      "text/plain": [
       "3 - 4*I"
      ]
     },
     "metadata": {},
     "output_type": "display_data"
    },
    {
     "data": {
      "text/latex": [
       "$\\displaystyle 5$"
      ],
      "text/plain": [
       "5"
      ]
     },
     "metadata": {},
     "output_type": "display_data"
    }
   ],
   "source": [
    "display(sp.I)\n",
    "display(sp.I * sp.I)\n",
    "\n",
    "print('-------')\n",
    "\n",
    "z = 3 + 4*sp.I\n",
    "display(z)\n",
    "### 実部\n",
    "display(sp.re(z))\n",
    "### 虚部\n",
    "display(sp.im(z))\n",
    "### 共役複素数\n",
    "display(sp.conjugate(z))\n",
    "### 絶対値\n",
    "display(sp.Abs(z))"
   ]
  },
  {
   "cell_type": "markdown",
   "id": "951f01c4",
   "metadata": {},
   "source": [
    "### 複素数の代数計算"
   ]
  },
  {
   "cell_type": "code",
   "execution_count": 5,
   "id": "300026b7",
   "metadata": {},
   "outputs": [
    {
     "data": {
      "text/latex": [
       "$\\displaystyle z$"
      ],
      "text/plain": [
       "z"
      ]
     },
     "metadata": {},
     "output_type": "display_data"
    },
    {
     "data": {
      "text/latex": [
       "$\\displaystyle \\overline{z}$"
      ],
      "text/plain": [
       "conjugate(z)"
      ]
     },
     "metadata": {},
     "output_type": "display_data"
    },
    {
     "data": {
      "text/latex": [
       "$\\displaystyle \\operatorname{re}{\\left(z\\right)} + i \\operatorname{im}{\\left(z\\right)}$"
      ],
      "text/plain": [
       "re(z) + I*im(z)"
      ]
     },
     "metadata": {},
     "output_type": "display_data"
    },
    {
     "data": {
      "text/latex": [
       "$\\displaystyle \\operatorname{re}{\\left(z\\right)} - i \\operatorname{im}{\\left(z\\right)}$"
      ],
      "text/plain": [
       "re(z) - I*im(z)"
      ]
     },
     "metadata": {},
     "output_type": "display_data"
    },
    {
     "data": {
      "text/latex": [
       "$\\displaystyle i$"
      ],
      "text/plain": [
       "I"
      ]
     },
     "metadata": {},
     "output_type": "display_data"
    },
    {
     "data": {
      "text/latex": [
       "$\\displaystyle - i$"
      ],
      "text/plain": [
       "-I"
      ]
     },
     "metadata": {},
     "output_type": "display_data"
    },
    {
     "data": {
      "text/latex": [
       "$\\displaystyle i z$"
      ],
      "text/plain": [
       "I*z"
      ]
     },
     "metadata": {},
     "output_type": "display_data"
    },
    {
     "data": {
      "text/latex": [
       "$\\displaystyle - i \\overline{z}$"
      ],
      "text/plain": [
       "-I*conjugate(z)"
      ]
     },
     "metadata": {},
     "output_type": "display_data"
    },
    {
     "data": {
      "text/latex": [
       "$\\displaystyle z^{2} + i z$"
      ],
      "text/plain": [
       "z**2 + I*z"
      ]
     },
     "metadata": {},
     "output_type": "display_data"
    },
    {
     "data": {
      "text/latex": [
       "$\\displaystyle \\overline{z}^{2} - i \\overline{z}$"
      ],
      "text/plain": [
       "conjugate(z)**2 - I*conjugate(z)"
      ]
     },
     "metadata": {},
     "output_type": "display_data"
    }
   ],
   "source": [
    "sp.var('z', complex=True)\n",
    "\n",
    "display(z)\n",
    "display(sp.conjugate(z))\n",
    "\n",
    "### 実部と虚部を分けて表示\n",
    "display(sp.expand_complex(z))\n",
    "display(sp.conjugate(sp.expand_complex(z)))\n",
    "\n",
    "### 計算\n",
    "display(sp.I)\n",
    "display(sp.conjugate(sp.I))\n",
    "\n",
    "display(sp.I*z)\n",
    "display(sp.conjugate(sp.I*z))\n",
    "\n",
    "display(z**2+sp.I*z)\n",
    "display(sp.conjugate(z**2+sp.I*z))\n"
   ]
  },
  {
   "cell_type": "markdown",
   "id": "d335cec9",
   "metadata": {},
   "source": [
    "### 基本定理の確認"
   ]
  },
  {
   "cell_type": "code",
   "execution_count": 44,
   "id": "c488c208",
   "metadata": {},
   "outputs": [
    {
     "data": {
      "text/latex": [
       "$\\displaystyle \\overline{\\alpha} + \\overline{\\beta}$"
      ],
      "text/plain": [
       "conjugate(alpha) + conjugate(beta)"
      ]
     },
     "metadata": {},
     "output_type": "display_data"
    },
    {
     "data": {
      "text/latex": [
       "$\\displaystyle \\overline{\\alpha} \\overline{\\beta}$"
      ],
      "text/plain": [
       "conjugate(alpha)*conjugate(beta)"
      ]
     },
     "metadata": {},
     "output_type": "display_data"
    },
    {
     "data": {
      "text/latex": [
       "$\\displaystyle \\frac{\\overline{\\alpha}}{\\overline{\\beta}}$"
      ],
      "text/plain": [
       "conjugate(alpha)/conjugate(beta)"
      ]
     },
     "metadata": {},
     "output_type": "display_data"
    },
    {
     "data": {
      "text/latex": [
       "$\\displaystyle \\alpha$"
      ],
      "text/plain": [
       "alpha"
      ]
     },
     "metadata": {},
     "output_type": "display_data"
    },
    {
     "data": {
      "text/latex": [
       "$\\displaystyle \\operatorname{re}{\\left(\\alpha\\right)}$"
      ],
      "text/plain": [
       "re(alpha)"
      ]
     },
     "metadata": {},
     "output_type": "display_data"
    },
    {
     "data": {
      "text/latex": [
       "$\\displaystyle \\operatorname{im}{\\left(\\alpha\\right)}$"
      ],
      "text/plain": [
       "im(alpha)"
      ]
     },
     "metadata": {},
     "output_type": "display_data"
    }
   ],
   "source": [
    "# https://ictsr4.com/py/m0231.html\n",
    "sp.var('alpha beta',complex=True)\n",
    "display(sp.conjugate(alpha+beta))\n",
    "display(sp.conjugate(alpha*beta))\n",
    "display(sp.conjugate(alpha/beta))\n",
    "display(sp.conjugate(sp.conjugate(alpha)))\n",
    "display(sp.expand_complex((alpha+sp.conjugate(alpha))/2))\n",
    "display(sp.expand_complex((alpha-sp.conjugate(alpha))/(2*sp.I)))"
   ]
  },
  {
   "cell_type": "markdown",
   "id": "45d91cc9",
   "metadata": {},
   "source": [
    "## 色々"
   ]
  },
  {
   "cell_type": "markdown",
   "id": "0110ecc8",
   "metadata": {},
   "source": [
    "### オイラーの公式"
   ]
  },
  {
   "cell_type": "code",
   "execution_count": 31,
   "id": "4c0c6370",
   "metadata": {},
   "outputs": [
    {
     "data": {
      "text/latex": [
       "$\\displaystyle i \\sin{\\left(x \\right)} + \\cos{\\left(x \\right)}$"
      ],
      "text/plain": [
       "I*sin(x) + cos(x)"
      ]
     },
     "metadata": {},
     "output_type": "display_data"
    },
    {
     "data": {
      "text/latex": [
       "$\\displaystyle e^{i x}$"
      ],
      "text/plain": [
       "exp(I*x)"
      ]
     },
     "metadata": {},
     "output_type": "display_data"
    },
    {
     "data": {
      "text/latex": [
       "$\\displaystyle e^{i x} = i \\sin{\\left(x \\right)} + \\cos{\\left(x \\right)}$"
      ],
      "text/plain": [
       "Eq(exp(I*x), I*sin(x) + cos(x))"
      ]
     },
     "execution_count": 31,
     "metadata": {},
     "output_type": "execute_result"
    }
   ],
   "source": [
    "display(sp.cos(x)+sp.sin(x)*sp.I)\n",
    "display((sp.cos(x)+sp.sin(x)*sp.I).simplify())\n",
    "\n",
    "#式の形で表記 (sp.Eq(A, B)   #=> A = B )\n",
    "sp.Eq((sp.cos(x)+sp.sin(x)*sp.I).simplify(), sp.cos(x)+sp.sin(x)*sp.I)"
   ]
  },
  {
   "cell_type": "markdown",
   "id": "6134f43d",
   "metadata": {},
   "source": [
    "## 高階導関数"
   ]
  },
  {
   "cell_type": "code",
   "execution_count": 29,
   "id": "1f0b8540",
   "metadata": {},
   "outputs": [
    {
     "data": {
      "text/latex": [
       "$\\displaystyle \\frac{d^{2}}{d x^{2}} \\sin{\\left(x \\right)} = - \\sin{\\left(x \\right)}$"
      ],
      "text/plain": [
       "Eq(Derivative(sin(x), (x, 2)), -sin(x))"
      ]
     },
     "execution_count": 29,
     "metadata": {},
     "output_type": "execute_result"
    }
   ],
   "source": [
    "sp.diff(sp.sin(x), x, 2)\n",
    "\n",
    "### sin(x)をxで2階微分\n",
    "sp.Eq(sp.Derivative(sp.sin(x), x, 2), \n",
    "   sp.diff(sp.sin(x), x, 2))"
   ]
  },
  {
   "cell_type": "markdown",
   "id": "63b71259",
   "metadata": {},
   "source": [
    "### テイラー展開"
   ]
  },
  {
   "cell_type": "code",
   "execution_count": 47,
   "id": "15acb8ba",
   "metadata": {},
   "outputs": [
    {
     "data": {
      "text/latex": [
       "$\\displaystyle e^{x} = 1 + x + \\frac{x^{2}}{2} + \\frac{x^{3}}{6} + \\frac{x^{4}}{24} + \\frac{x^{5}}{120} + O\\left(x^{6}\\right)$"
      ],
      "text/plain": [
       "Eq(exp(x), 1 + x + x**2/2 + x**3/6 + x**4/24 + x**5/120 + O(x**6))"
      ]
     },
     "metadata": {},
     "output_type": "display_data"
    },
    {
     "data": {
      "text/latex": [
       "$\\displaystyle \\sin{\\left(x \\right)} = x - \\frac{x^{3}}{6} + \\frac{x^{5}}{120} + O\\left(x^{6}\\right)$"
      ],
      "text/plain": [
       "Eq(sin(x), x - x**3/6 + x**5/120 + O(x**6))"
      ]
     },
     "metadata": {},
     "output_type": "display_data"
    },
    {
     "data": {
      "text/latex": [
       "$\\displaystyle \\cos{\\left(x \\right)} = 1 - \\frac{x^{2}}{2} + \\frac{x^{4}}{24} + O\\left(x^{6}\\right)$"
      ],
      "text/plain": [
       "Eq(cos(x), 1 - x**2/2 + x**4/24 + O(x**6))"
      ]
     },
     "metadata": {},
     "output_type": "display_data"
    },
    {
     "name": "stdout",
     "output_type": "stream",
     "text": [
      " オイラーの公式 \n"
     ]
    },
    {
     "data": {
      "text/latex": [
       "$\\displaystyle e^{i x} = 1 + i x - \\frac{x^{2}}{2} - \\frac{i x^{3}}{6} + \\frac{x^{4}}{24} + \\frac{i x^{5}}{120} + O\\left(x^{6}\\right)$"
      ],
      "text/plain": [
       "Eq(exp(I*x), 1 + I*x - x**2/2 - I*x**3/6 + x**4/24 + I*x**5/120 + O(x**6))"
      ]
     },
     "metadata": {},
     "output_type": "display_data"
    },
    {
     "data": {
      "text/latex": [
       "$\\displaystyle i \\sin{\\left(x \\right)} + \\cos{\\left(x \\right)} = 1 + i x - \\frac{x^{2}}{2} - \\frac{i x^{3}}{6} + \\frac{x^{4}}{24} + \\frac{i x^{5}}{120} + O\\left(x^{6}\\right)$"
      ],
      "text/plain": [
       "Eq(I*sin(x) + cos(x), 1 + I*x - x**2/2 - I*x**3/6 + x**4/24 + I*x**5/120 + O(x**6))"
      ]
     },
     "metadata": {},
     "output_type": "display_data"
    }
   ],
   "source": [
    "### \n",
    "#f = sp.exp(x)\n",
    "display(sp.Eq(sp.exp(x), sp.series(sp.exp(x), x, 0, 6)))\n",
    "display(sp.Eq(sp.sin(x), sp.series(sp.sin(x), x, 0, 6)))\n",
    "display(sp.Eq(sp.cos(x), sp.series(sp.cos(x), x, 0, 6)))\n",
    "\n",
    "print(\" オイラーの公式 \")\n",
    "display(sp.Eq(sp.exp(sp.I*x), sp.series(sp.exp(sp.I*x), x, 0, 6)))\n",
    "display(sp.Eq(sp.cos(x)+sp.sin(x)*sp.I, sp.series(sp.cos(x)+sp.sin(x)*sp.I, x, 0, 6)))"
   ]
  },
  {
   "cell_type": "code",
   "execution_count": 68,
   "id": "b581327c",
   "metadata": {},
   "outputs": [
    {
     "data": {
      "text/latex": [
       "$\\displaystyle e^{x} = 1 + x + \\frac{x^{2}}{2} + \\frac{x^{3}}{6} + \\frac{x^{4}}{24} + \\frac{x^{5}}{120} + O\\left(x^{6}\\right)$"
      ],
      "text/plain": [
       "Eq(exp(x), 1 + x + x**2/2 + x**3/6 + x**4/24 + x**5/120 + O(x**6))"
      ]
     },
     "metadata": {},
     "output_type": "display_data"
    },
    {
     "data": {
      "text/latex": [
       "$\\displaystyle e^{x} = e + e \\left(x - 1\\right) + \\frac{e \\left(x - 1\\right)^{2}}{2} + \\frac{e \\left(x - 1\\right)^{3}}{6} + \\frac{e \\left(x - 1\\right)^{4}}{24} + \\frac{e \\left(x - 1\\right)^{5}}{120} + O\\left(\\left(x - 1\\right)^{6}; x\\rightarrow 1\\right)$"
      ],
      "text/plain": [
       "Eq(exp(x), E + E*(x - 1) + E*(x - 1)**2/2 + E*(x - 1)**3/6 + E*(x - 1)**4/24 + E*(x - 1)**5/120 + O((x - 1)**6, (x, 1)))"
      ]
     },
     "metadata": {},
     "output_type": "display_data"
    },
    {
     "data": {
      "text/latex": [
       "$\\displaystyle e^{x} = e^{2} + \\left(x - 2\\right) e^{2} + \\frac{\\left(x - 2\\right)^{2} e^{2}}{2} + \\frac{\\left(x - 2\\right)^{3} e^{2}}{6} + \\frac{\\left(x - 2\\right)^{4} e^{2}}{24} + \\frac{\\left(x - 2\\right)^{5} e^{2}}{120} + O\\left(\\left(x - 2\\right)^{6}; x\\rightarrow 2\\right)$"
      ],
      "text/plain": [
       "Eq(exp(x), exp(2) + (x - 2)*exp(2) + (x - 2)**2*exp(2)/2 + (x - 2)**3*exp(2)/6 + (x - 2)**4*exp(2)/24 + (x - 2)**5*exp(2)/120 + O((x - 2)**6, (x, 2)))"
      ]
     },
     "metadata": {},
     "output_type": "display_data"
    }
   ],
   "source": [
    "#display(sp.Eq(sp.log(x), sp.series(sp.log(x), x, 0, 6)))\n",
    "#sp.series(sp.log(x), x, 0, 6)\n",
    "#sp.series(sp.I*x, x, 0, 6)\n",
    "\n",
    "display(sp.Eq(sp.exp(x), sp.series(sp.exp(x), x, 0, 6)))\n",
    "display(sp.Eq(sp.exp(x), sp.series(sp.exp(x), x, 1, 6)))\n",
    "display(sp.Eq(sp.exp(x), sp.series(sp.exp(x), x, 2, 6)))\n"
   ]
  },
  {
   "cell_type": "code",
   "execution_count": 71,
   "id": "06e230ad",
   "metadata": {},
   "outputs": [
    {
     "data": {
      "text/latex": [
       "$\\displaystyle \\cos{\\left(x \\right)} = 1 - \\frac{x^{2}}{2} + \\frac{x^{4}}{24} + O\\left(x^{6}\\right)$"
      ],
      "text/plain": [
       "Eq(cos(x), 1 - x**2/2 + x**4/24 + O(x**6))"
      ]
     },
     "metadata": {},
     "output_type": "display_data"
    },
    {
     "data": {
      "text/latex": [
       "$\\displaystyle \\cos{\\left(x \\right)} = \\cos{\\left(1 \\right)} - \\left(x - 1\\right) \\sin{\\left(1 \\right)} - \\frac{\\left(x - 1\\right)^{2} \\cos{\\left(1 \\right)}}{2} + \\frac{\\left(x - 1\\right)^{3} \\sin{\\left(1 \\right)}}{6} + \\frac{\\left(x - 1\\right)^{4} \\cos{\\left(1 \\right)}}{24} - \\frac{\\left(x - 1\\right)^{5} \\sin{\\left(1 \\right)}}{120} + O\\left(\\left(x - 1\\right)^{6}; x\\rightarrow 1\\right)$"
      ],
      "text/plain": [
       "Eq(cos(x), cos(1) - (x - 1)*sin(1) - (x - 1)**2*cos(1)/2 + (x - 1)**3*sin(1)/6 + (x - 1)**4*cos(1)/24 - (x - 1)**5*sin(1)/120 + O((x - 1)**6, (x, 1)))"
      ]
     },
     "metadata": {},
     "output_type": "display_data"
    },
    {
     "data": {
      "text/latex": [
       "$\\displaystyle \\cos{\\left(x \\right)} = \\cos{\\left(2 \\right)} - \\left(x - 2\\right) \\sin{\\left(2 \\right)} - \\frac{\\left(x - 2\\right)^{2} \\cos{\\left(2 \\right)}}{2} + \\frac{\\left(x - 2\\right)^{3} \\sin{\\left(2 \\right)}}{6} + \\frac{\\left(x - 2\\right)^{4} \\cos{\\left(2 \\right)}}{24} - \\frac{\\left(x - 2\\right)^{5} \\sin{\\left(2 \\right)}}{120} + O\\left(\\left(x - 2\\right)^{6}; x\\rightarrow 2\\right)$"
      ],
      "text/plain": [
       "Eq(cos(x), cos(2) - (x - 2)*sin(2) - (x - 2)**2*cos(2)/2 + (x - 2)**3*sin(2)/6 + (x - 2)**4*cos(2)/24 - (x - 2)**5*sin(2)/120 + O((x - 2)**6, (x, 2)))"
      ]
     },
     "metadata": {},
     "output_type": "display_data"
    },
    {
     "data": {
      "text/latex": [
       "$\\displaystyle \\cos{\\left(x \\right)} = \\frac{\\pi}{2} + \\frac{\\left(x - \\frac{\\pi}{2}\\right)^{3}}{6} - \\frac{\\left(x - \\frac{\\pi}{2}\\right)^{5}}{120} - x + O\\left(\\left(x - \\frac{\\pi}{2}\\right)^{6}; x\\rightarrow \\frac{\\pi}{2}\\right)$"
      ],
      "text/plain": [
       "Eq(cos(x), pi/2 + (x - pi/2)**3/6 - (x - pi/2)**5/120 - x + O((x - pi/2)**6, (x, pi/2)))"
      ]
     },
     "metadata": {},
     "output_type": "display_data"
    },
    {
     "data": {
      "text/latex": [
       "$\\displaystyle \\cos{\\left(x \\right)} = -1 + \\frac{\\left(x - \\pi\\right)^{2}}{2} - \\frac{\\left(x - \\pi\\right)^{4}}{24} + O\\left(\\left(x - \\pi\\right)^{6}; x\\rightarrow \\pi\\right)$"
      ],
      "text/plain": [
       "Eq(cos(x), -1 + (x - pi)**2/2 - (x - pi)**4/24 + O((x - pi)**6, (x, pi)))"
      ]
     },
     "metadata": {},
     "output_type": "display_data"
    }
   ],
   "source": [
    "display(sp.Eq(sp.cos(x), sp.series(sp.cos(x), x, 0, 6)))\n",
    "display(sp.Eq(sp.cos(x), sp.series(sp.cos(x), x, 1, 6)))\n",
    "display(sp.Eq(sp.cos(x), sp.series(sp.cos(x), x, 2, 6)))\n",
    "display(sp.Eq(sp.cos(x), sp.series(sp.cos(x), x, sp.pi/2, 6)))\n",
    "display(sp.Eq(sp.cos(x), sp.series(sp.cos(x), x, sp.pi, 6)))"
   ]
  },
  {
   "cell_type": "code",
   "execution_count": 72,
   "id": "959ac5e6",
   "metadata": {},
   "outputs": [
    {
     "data": {
      "text/latex": [
       "$\\displaystyle \\sin{\\left(x \\right)} = x - \\frac{x^{3}}{6} + \\frac{x^{5}}{120} + O\\left(x^{6}\\right)$"
      ],
      "text/plain": [
       "Eq(sin(x), x - x**3/6 + x**5/120 + O(x**6))"
      ]
     },
     "metadata": {},
     "output_type": "display_data"
    },
    {
     "data": {
      "text/latex": [
       "$\\displaystyle \\sin{\\left(x \\right)} = \\sin{\\left(1 \\right)} + \\left(x - 1\\right) \\cos{\\left(1 \\right)} - \\frac{\\left(x - 1\\right)^{2} \\sin{\\left(1 \\right)}}{2} - \\frac{\\left(x - 1\\right)^{3} \\cos{\\left(1 \\right)}}{6} + \\frac{\\left(x - 1\\right)^{4} \\sin{\\left(1 \\right)}}{24} + \\frac{\\left(x - 1\\right)^{5} \\cos{\\left(1 \\right)}}{120} + O\\left(\\left(x - 1\\right)^{6}; x\\rightarrow 1\\right)$"
      ],
      "text/plain": [
       "Eq(sin(x), sin(1) + (x - 1)*cos(1) - (x - 1)**2*sin(1)/2 - (x - 1)**3*cos(1)/6 + (x - 1)**4*sin(1)/24 + (x - 1)**5*cos(1)/120 + O((x - 1)**6, (x, 1)))"
      ]
     },
     "metadata": {},
     "output_type": "display_data"
    },
    {
     "data": {
      "text/latex": [
       "$\\displaystyle \\sin{\\left(x \\right)} = \\sin{\\left(2 \\right)} + \\left(x - 2\\right) \\cos{\\left(2 \\right)} - \\frac{\\left(x - 2\\right)^{2} \\sin{\\left(2 \\right)}}{2} - \\frac{\\left(x - 2\\right)^{3} \\cos{\\left(2 \\right)}}{6} + \\frac{\\left(x - 2\\right)^{4} \\sin{\\left(2 \\right)}}{24} + \\frac{\\left(x - 2\\right)^{5} \\cos{\\left(2 \\right)}}{120} + O\\left(\\left(x - 2\\right)^{6}; x\\rightarrow 2\\right)$"
      ],
      "text/plain": [
       "Eq(sin(x), sin(2) + (x - 2)*cos(2) - (x - 2)**2*sin(2)/2 - (x - 2)**3*cos(2)/6 + (x - 2)**4*sin(2)/24 + (x - 2)**5*cos(2)/120 + O((x - 2)**6, (x, 2)))"
      ]
     },
     "metadata": {},
     "output_type": "display_data"
    },
    {
     "data": {
      "text/latex": [
       "$\\displaystyle \\sin{\\left(x \\right)} = 1 - \\frac{\\left(x - \\frac{\\pi}{2}\\right)^{2}}{2} + \\frac{\\left(x - \\frac{\\pi}{2}\\right)^{4}}{24} + O\\left(\\left(x - \\frac{\\pi}{2}\\right)^{6}; x\\rightarrow \\frac{\\pi}{2}\\right)$"
      ],
      "text/plain": [
       "Eq(sin(x), 1 - (x - pi/2)**2/2 + (x - pi/2)**4/24 + O((x - pi/2)**6, (x, pi/2)))"
      ]
     },
     "metadata": {},
     "output_type": "display_data"
    },
    {
     "data": {
      "text/latex": [
       "$\\displaystyle \\sin{\\left(x \\right)} = \\pi + \\frac{\\left(x - \\pi\\right)^{3}}{6} - \\frac{\\left(x - \\pi\\right)^{5}}{120} - x + O\\left(\\left(x - \\pi\\right)^{6}; x\\rightarrow \\pi\\right)$"
      ],
      "text/plain": [
       "Eq(sin(x), pi + (x - pi)**3/6 - (x - pi)**5/120 - x + O((x - pi)**6, (x, pi)))"
      ]
     },
     "metadata": {},
     "output_type": "display_data"
    }
   ],
   "source": [
    "display(sp.Eq(sp.sin(x), sp.series(sp.sin(x), x, 0, 6)))\n",
    "display(sp.Eq(sp.sin(x), sp.series(sp.sin(x), x, 1, 6)))\n",
    "display(sp.Eq(sp.sin(x), sp.series(sp.sin(x), x, 2, 6)))\n",
    "display(sp.Eq(sp.sin(x), sp.series(sp.sin(x), x, sp.pi/2, 6)))\n",
    "display(sp.Eq(sp.sin(x), sp.series(sp.sin(x), x, sp.pi, 6)))"
   ]
  },
  {
   "cell_type": "markdown",
   "id": "bb0b5ffb",
   "metadata": {},
   "source": [
    "### 階乗"
   ]
  },
  {
   "cell_type": "code",
   "execution_count": 76,
   "id": "4b20afa0",
   "metadata": {},
   "outputs": [
    {
     "data": {
      "text/latex": [
       "$\\displaystyle x!$"
      ],
      "text/plain": [
       "factorial(x)"
      ]
     },
     "metadata": {},
     "output_type": "display_data"
    },
    {
     "data": {
      "text/latex": [
       "$\\displaystyle 24$"
      ],
      "text/plain": [
       "24"
      ]
     },
     "metadata": {},
     "output_type": "display_data"
    }
   ],
   "source": [
    "display(sp.factorial(x))\n",
    "display(sp.factorial(4))"
   ]
  },
  {
   "cell_type": "code",
   "execution_count": 80,
   "id": "41df5a2e",
   "metadata": {},
   "outputs": [
    {
     "data": {
      "text/latex": [
       "$\\displaystyle \\frac{9864101}{3628800}$"
      ],
      "text/plain": [
       "9864101/3628800"
      ]
     },
     "execution_count": 80,
     "metadata": {},
     "output_type": "execute_result"
    }
   ],
   "source": [
    "# https://home.hirosaki-u.ac.jp/relativity/%E7%90%86%E5%B7%A5%E7%B3%BB%E3%81%AE%E6%95%B0%E5%AD%A6b/sympy-%E3%81%A7%E7%90%86%E5%B7%A5%E7%B3%BB%E3%81%AE%E6%95%B0%E5%AD%A6b/sympy-%E3%81%A7%E3%83%86%E3%82%A4%E3%83%A9%E3%83%BC%E5%B1%95%E9%96%8B%E3%83%BB%E3%82%AA%E3%82%A4%E3%83%A9%E3%83%BC%E3%81%AE%E5%85%AC%E5%BC%8F/\n",
    "sp.summation(1/sp.factorial(k), (k, 0, 10))"
   ]
  },
  {
   "cell_type": "code",
   "execution_count": 79,
   "id": "5ddde78d",
   "metadata": {},
   "outputs": [
    {
     "data": {
      "text/latex": [
       "$\\displaystyle \\sum_{k=0}^{10} \\frac{1}{k!} = \\frac{9864101}{3628800}$"
      ],
      "text/plain": [
       "Eq(Sum(1/factorial(k), (k, 0, 10)), 9864101/3628800)"
      ]
     },
     "execution_count": 79,
     "metadata": {},
     "output_type": "execute_result"
    }
   ],
   "source": [
    "sp.var('k')\n",
    "\n",
    "sp.Eq(sp.Sum(1/sp.factorial(k), (k, 0, 10)), \n",
    "   sp.Sum(1/sp.factorial(k), (k, 0, 10)).doit())"
   ]
  },
  {
   "cell_type": "code",
   "execution_count": 84,
   "id": "3a84d4eb",
   "metadata": {},
   "outputs": [
    {
     "data": {
      "text/plain": [
       "2.7182818011463845"
      ]
     },
     "execution_count": 84,
     "metadata": {},
     "output_type": "execute_result"
    }
   ],
   "source": [
    "float(sp.summation(1/sp.factorial(k), (k, 0, 10)))"
   ]
  },
  {
   "cell_type": "code",
   "execution_count": 85,
   "id": "a6013bc6",
   "metadata": {},
   "outputs": [
    {
     "data": {
      "text/plain": [
       "2.718281828459045"
      ]
     },
     "execution_count": 85,
     "metadata": {},
     "output_type": "execute_result"
    }
   ],
   "source": [
    "float(sp.E)"
   ]
  },
  {
   "cell_type": "markdown",
   "id": "355ebc84",
   "metadata": {},
   "source": [
    "## 図を描画\n",
    "\n",
    "[SymPy でテイラー展開・オイラーの公式](https://home.hirosaki-u.ac.jp/relativity/%E7%90%86%E5%B7%A5%E7%B3%BB%E3%81%AE%E6%95%B0%E5%AD%A6b/sympy-%E3%81%A7%E7%90%86%E5%B7%A5%E7%B3%BB%E3%81%AE%E6%95%B0%E5%AD%A6b/sympy-%E3%81%A7%E3%83%86%E3%82%A4%E3%83%A9%E3%83%BC%E5%B1%95%E9%96%8B%E3%83%BB%E3%82%AA%E3%82%A4%E3%83%A9%E3%83%BC%E3%81%AE%E5%85%AC%E5%BC%8F)\n"
   ]
  },
  {
   "cell_type": "code",
   "execution_count": 87,
   "id": "8a53368a",
   "metadata": {},
   "outputs": [],
   "source": [
    "# SymPy Plotting Backends (SPB): グラフを描く際に利用\n",
    "from spb import *\n",
    "\n",
    "# グラフを SVG で Notebook にインライン表示\n",
    "%config InlineBackend.figure_formats = ['svg']"
   ]
  },
  {
   "cell_type": "code",
   "execution_count": 88,
   "id": "85979900",
   "metadata": {},
   "outputs": [
    {
     "data": {
      "text/plain": [
       "(x + 1, x**2/2 + x + 1, x**3/6 + x**2/2 + x + 1)"
      ]
     },
     "execution_count": 88,
     "metadata": {},
     "output_type": "execute_result"
    }
   ],
   "source": [
    "expt1 = sp.series(sp.exp(x), x, 0, 2).removeO()\n",
    "expt2 = sp.series(sp.exp(x), x, 0, 3).removeO()\n",
    "expt3 = sp.series(sp.exp(x), x, 0, 4).removeO()\n",
    "expt1, expt2, expt3"
   ]
  },
  {
   "cell_type": "code",
   "execution_count": 92,
   "id": "31b91180",
   "metadata": {},
   "outputs": [
    {
     "data": {
      "image/svg+xml": [
       "<?xml version=\"1.0\" encoding=\"utf-8\" standalone=\"no\"?>\n",
       "<!DOCTYPE svg PUBLIC \"-//W3C//DTD SVG 1.1//EN\"\n",
       "  \"http://www.w3.org/Graphics/SVG/1.1/DTD/svg11.dtd\">\n",
       "<svg height=\"288.95pt\" version=\"1.1\" viewBox=\"0 0 427.3 288.95\" width=\"427.3pt\" xmlns=\"http://www.w3.org/2000/svg\" xmlns:xlink=\"http://www.w3.org/1999/xlink\">\n",
       " <metadata>\n",
       "  <rdf:RDF xmlns:cc=\"http://creativecommons.org/ns#\" xmlns:dc=\"http://purl.org/dc/elements/1.1/\" xmlns:rdf=\"http://www.w3.org/1999/02/22-rdf-syntax-ns#\">\n",
       "   <cc:Work>\n",
       "    <dc:type rdf:resource=\"http://purl.org/dc/dcmitype/StillImage\"/>\n",
       "    <dc:date>2024-03-11T21:00:23.611935</dc:date>\n",
       "    <dc:format>image/svg+xml</dc:format>\n",
       "    <dc:creator>\n",
       "     <cc:Agent>\n",
       "      <dc:title>Matplotlib v3.4.2, https://matplotlib.org/</dc:title>\n",
       "     </cc:Agent>\n",
       "    </dc:creator>\n",
       "   </cc:Work>\n",
       "  </rdf:RDF>\n",
       " </metadata>\n",
       " <defs>\n",
       "  <style type=\"text/css\">*{stroke-linecap:butt;stroke-linejoin:round;}</style>\n",
       " </defs>\n",
       " <g id=\"figure_1\">\n",
       "  <g id=\"patch_1\">\n",
       "   <path d=\"M 0 288.95 \n",
       "L 427.3 288.95 \n",
       "L 427.3 0 \n",
       "L 0 0 \n",
       "z\n",
       "\" style=\"fill:none;\"/>\n",
       "  </g>\n",
       "  <g id=\"axes_1\">\n",
       "   <g id=\"patch_2\">\n",
       "    <path d=\"M 7.2 281.75 \n",
       "L 417.1 281.75 \n",
       "L 417.1 15.85 \n",
       "L 7.2 15.85 \n",
       "z\n",
       "\" style=\"fill:#ffffff;\"/>\n",
       "   </g>\n",
       "   <g id=\"matplotlib.axis_1\">\n",
       "    <g id=\"xtick_1\">\n",
       "     <g id=\"line2d_1\">\n",
       "      <defs>\n",
       "       <path d=\"M 0 0 \n",
       "L 0 3.5 \n",
       "\" id=\"m9177f9163c\" style=\"stroke:#000000;stroke-width:0.8;\"/>\n",
       "      </defs>\n",
       "      <g>\n",
       "       <use style=\"stroke:#000000;stroke-width:0.8;\" x=\"25.831818\" xlink:href=\"#m9177f9163c\" y=\"240.849039\"/>\n",
       "      </g>\n",
       "     </g>\n",
       "     <g id=\"text_1\">\n",
       "      <!-- −2.0 -->\n",
       "      <g transform=\"translate(15.961506 255.006852)scale(0.1 -0.1)\">\n",
       "       <defs>\n",
       "        <path d=\"M 3381 1997 \n",
       "L 356 1997 \n",
       "L 356 2522 \n",
       "L 3381 2522 \n",
       "L 3381 1997 \n",
       "z\n",
       "\" id=\"ArialMT-2212\" transform=\"scale(0.015625)\"/>\n",
       "        <path d=\"M 3222 541 \n",
       "L 3222 0 \n",
       "L 194 0 \n",
       "Q 188 203 259 391 \n",
       "Q 375 700 629 1000 \n",
       "Q 884 1300 1366 1694 \n",
       "Q 2113 2306 2375 2664 \n",
       "Q 2638 3022 2638 3341 \n",
       "Q 2638 3675 2398 3904 \n",
       "Q 2159 4134 1775 4134 \n",
       "Q 1369 4134 1125 3890 \n",
       "Q 881 3647 878 3216 \n",
       "L 300 3275 \n",
       "Q 359 3922 746 4261 \n",
       "Q 1134 4600 1788 4600 \n",
       "Q 2447 4600 2831 4234 \n",
       "Q 3216 3869 3216 3328 \n",
       "Q 3216 3053 3103 2787 \n",
       "Q 2991 2522 2730 2228 \n",
       "Q 2469 1934 1863 1422 \n",
       "Q 1356 997 1212 845 \n",
       "Q 1069 694 975 541 \n",
       "L 3222 541 \n",
       "z\n",
       "\" id=\"ArialMT-32\" transform=\"scale(0.015625)\"/>\n",
       "        <path d=\"M 581 0 \n",
       "L 581 641 \n",
       "L 1222 641 \n",
       "L 1222 0 \n",
       "L 581 0 \n",
       "z\n",
       "\" id=\"ArialMT-2e\" transform=\"scale(0.015625)\"/>\n",
       "        <path d=\"M 266 2259 \n",
       "Q 266 3072 433 3567 \n",
       "Q 600 4063 929 4331 \n",
       "Q 1259 4600 1759 4600 \n",
       "Q 2128 4600 2406 4451 \n",
       "Q 2684 4303 2865 4023 \n",
       "Q 3047 3744 3150 3342 \n",
       "Q 3253 2941 3253 2259 \n",
       "Q 3253 1453 3087 958 \n",
       "Q 2922 463 2592 192 \n",
       "Q 2263 -78 1759 -78 \n",
       "Q 1097 -78 719 397 \n",
       "Q 266 969 266 2259 \n",
       "z\n",
       "M 844 2259 \n",
       "Q 844 1131 1108 757 \n",
       "Q 1372 384 1759 384 \n",
       "Q 2147 384 2411 759 \n",
       "Q 2675 1134 2675 2259 \n",
       "Q 2675 3391 2411 3762 \n",
       "Q 2147 4134 1753 4134 \n",
       "Q 1366 4134 1134 3806 \n",
       "Q 844 3388 844 2259 \n",
       "z\n",
       "\" id=\"ArialMT-30\" transform=\"scale(0.015625)\"/>\n",
       "       </defs>\n",
       "       <use xlink:href=\"#ArialMT-2212\"/>\n",
       "       <use x=\"58.398438\" xlink:href=\"#ArialMT-32\"/>\n",
       "       <use x=\"114.013672\" xlink:href=\"#ArialMT-2e\"/>\n",
       "       <use x=\"141.796875\" xlink:href=\"#ArialMT-30\"/>\n",
       "      </g>\n",
       "     </g>\n",
       "    </g>\n",
       "    <g id=\"xtick_2\">\n",
       "     <g id=\"line2d_2\">\n",
       "      <g>\n",
       "       <use style=\"stroke:#000000;stroke-width:0.8;\" x=\"72.411364\" xlink:href=\"#m9177f9163c\" y=\"240.849039\"/>\n",
       "      </g>\n",
       "     </g>\n",
       "     <g id=\"text_2\">\n",
       "      <!-- −1.5 -->\n",
       "      <g transform=\"translate(62.541051 255.006852)scale(0.1 -0.1)\">\n",
       "       <defs>\n",
       "        <path d=\"M 2384 0 \n",
       "L 1822 0 \n",
       "L 1822 3584 \n",
       "Q 1619 3391 1289 3197 \n",
       "Q 959 3003 697 2906 \n",
       "L 697 3450 \n",
       "Q 1169 3672 1522 3987 \n",
       "Q 1875 4303 2022 4600 \n",
       "L 2384 4600 \n",
       "L 2384 0 \n",
       "z\n",
       "\" id=\"ArialMT-31\" transform=\"scale(0.015625)\"/>\n",
       "        <path d=\"M 266 1200 \n",
       "L 856 1250 \n",
       "Q 922 819 1161 601 \n",
       "Q 1400 384 1738 384 \n",
       "Q 2144 384 2425 690 \n",
       "Q 2706 997 2706 1503 \n",
       "Q 2706 1984 2436 2262 \n",
       "Q 2166 2541 1728 2541 \n",
       "Q 1456 2541 1237 2417 \n",
       "Q 1019 2294 894 2097 \n",
       "L 366 2166 \n",
       "L 809 4519 \n",
       "L 3088 4519 \n",
       "L 3088 3981 \n",
       "L 1259 3981 \n",
       "L 1013 2750 \n",
       "Q 1425 3038 1878 3038 \n",
       "Q 2478 3038 2890 2622 \n",
       "Q 3303 2206 3303 1553 \n",
       "Q 3303 931 2941 478 \n",
       "Q 2500 -78 1738 -78 \n",
       "Q 1113 -78 717 272 \n",
       "Q 322 622 266 1200 \n",
       "z\n",
       "\" id=\"ArialMT-35\" transform=\"scale(0.015625)\"/>\n",
       "       </defs>\n",
       "       <use xlink:href=\"#ArialMT-2212\"/>\n",
       "       <use x=\"58.398438\" xlink:href=\"#ArialMT-31\"/>\n",
       "       <use x=\"114.013672\" xlink:href=\"#ArialMT-2e\"/>\n",
       "       <use x=\"141.796875\" xlink:href=\"#ArialMT-35\"/>\n",
       "      </g>\n",
       "     </g>\n",
       "    </g>\n",
       "    <g id=\"xtick_3\">\n",
       "     <g id=\"line2d_3\">\n",
       "      <g>\n",
       "       <use style=\"stroke:#000000;stroke-width:0.8;\" x=\"118.990909\" xlink:href=\"#m9177f9163c\" y=\"240.849039\"/>\n",
       "      </g>\n",
       "     </g>\n",
       "     <g id=\"text_3\">\n",
       "      <!-- −1.0 -->\n",
       "      <g transform=\"translate(109.120597 255.006852)scale(0.1 -0.1)\">\n",
       "       <use xlink:href=\"#ArialMT-2212\"/>\n",
       "       <use x=\"58.398438\" xlink:href=\"#ArialMT-31\"/>\n",
       "       <use x=\"114.013672\" xlink:href=\"#ArialMT-2e\"/>\n",
       "       <use x=\"141.796875\" xlink:href=\"#ArialMT-30\"/>\n",
       "      </g>\n",
       "     </g>\n",
       "    </g>\n",
       "    <g id=\"xtick_4\">\n",
       "     <g id=\"line2d_4\">\n",
       "      <g>\n",
       "       <use style=\"stroke:#000000;stroke-width:0.8;\" x=\"165.570455\" xlink:href=\"#m9177f9163c\" y=\"240.849039\"/>\n",
       "      </g>\n",
       "     </g>\n",
       "     <g id=\"text_4\">\n",
       "      <!-- −0.5 -->\n",
       "      <g transform=\"translate(155.700142 255.006852)scale(0.1 -0.1)\">\n",
       "       <use xlink:href=\"#ArialMT-2212\"/>\n",
       "       <use x=\"58.398438\" xlink:href=\"#ArialMT-30\"/>\n",
       "       <use x=\"114.013672\" xlink:href=\"#ArialMT-2e\"/>\n",
       "       <use x=\"141.796875\" xlink:href=\"#ArialMT-35\"/>\n",
       "      </g>\n",
       "     </g>\n",
       "    </g>\n",
       "    <g id=\"xtick_5\">\n",
       "     <g id=\"line2d_5\">\n",
       "      <g>\n",
       "       <use style=\"stroke:#000000;stroke-width:0.8;\" x=\"212.15\" xlink:href=\"#m9177f9163c\" y=\"240.849039\"/>\n",
       "      </g>\n",
       "     </g>\n",
       "     <g id=\"text_5\">\n",
       "      <!-- 0.0 -->\n",
       "      <g transform=\"translate(205.2 255.006852)scale(0.1 -0.1)\">\n",
       "       <use xlink:href=\"#ArialMT-30\"/>\n",
       "       <use x=\"55.615234\" xlink:href=\"#ArialMT-2e\"/>\n",
       "       <use x=\"83.398438\" xlink:href=\"#ArialMT-30\"/>\n",
       "      </g>\n",
       "     </g>\n",
       "    </g>\n",
       "    <g id=\"xtick_6\">\n",
       "     <g id=\"line2d_6\">\n",
       "      <g>\n",
       "       <use style=\"stroke:#000000;stroke-width:0.8;\" x=\"258.729545\" xlink:href=\"#m9177f9163c\" y=\"240.849039\"/>\n",
       "      </g>\n",
       "     </g>\n",
       "     <g id=\"text_6\">\n",
       "      <!-- 0.5 -->\n",
       "      <g transform=\"translate(251.779545 255.006852)scale(0.1 -0.1)\">\n",
       "       <use xlink:href=\"#ArialMT-30\"/>\n",
       "       <use x=\"55.615234\" xlink:href=\"#ArialMT-2e\"/>\n",
       "       <use x=\"83.398438\" xlink:href=\"#ArialMT-35\"/>\n",
       "      </g>\n",
       "     </g>\n",
       "    </g>\n",
       "    <g id=\"xtick_7\">\n",
       "     <g id=\"line2d_7\">\n",
       "      <g>\n",
       "       <use style=\"stroke:#000000;stroke-width:0.8;\" x=\"305.309091\" xlink:href=\"#m9177f9163c\" y=\"240.849039\"/>\n",
       "      </g>\n",
       "     </g>\n",
       "     <g id=\"text_7\">\n",
       "      <!-- 1.0 -->\n",
       "      <g transform=\"translate(298.359091 255.006852)scale(0.1 -0.1)\">\n",
       "       <use xlink:href=\"#ArialMT-31\"/>\n",
       "       <use x=\"55.615234\" xlink:href=\"#ArialMT-2e\"/>\n",
       "       <use x=\"83.398438\" xlink:href=\"#ArialMT-30\"/>\n",
       "      </g>\n",
       "     </g>\n",
       "    </g>\n",
       "    <g id=\"xtick_8\">\n",
       "     <g id=\"line2d_8\">\n",
       "      <g>\n",
       "       <use style=\"stroke:#000000;stroke-width:0.8;\" x=\"351.888636\" xlink:href=\"#m9177f9163c\" y=\"240.849039\"/>\n",
       "      </g>\n",
       "     </g>\n",
       "     <g id=\"text_8\">\n",
       "      <!-- 1.5 -->\n",
       "      <g transform=\"translate(344.938636 255.006852)scale(0.1 -0.1)\">\n",
       "       <use xlink:href=\"#ArialMT-31\"/>\n",
       "       <use x=\"55.615234\" xlink:href=\"#ArialMT-2e\"/>\n",
       "       <use x=\"83.398438\" xlink:href=\"#ArialMT-35\"/>\n",
       "      </g>\n",
       "     </g>\n",
       "    </g>\n",
       "    <g id=\"xtick_9\">\n",
       "     <g id=\"line2d_9\">\n",
       "      <g>\n",
       "       <use style=\"stroke:#000000;stroke-width:0.8;\" x=\"398.468182\" xlink:href=\"#m9177f9163c\" y=\"240.849039\"/>\n",
       "      </g>\n",
       "     </g>\n",
       "     <g id=\"text_9\">\n",
       "      <!-- 2.0 -->\n",
       "      <g transform=\"translate(391.518182 255.006852)scale(0.1 -0.1)\">\n",
       "       <use xlink:href=\"#ArialMT-32\"/>\n",
       "       <use x=\"55.615234\" xlink:href=\"#ArialMT-2e\"/>\n",
       "       <use x=\"83.398438\" xlink:href=\"#ArialMT-30\"/>\n",
       "      </g>\n",
       "     </g>\n",
       "    </g>\n",
       "    <g id=\"text_10\">\n",
       "     <!-- $x$ -->\n",
       "     <g transform=\"translate(414.1 268.152164)scale(0.1 -0.1)\">\n",
       "      <defs>\n",
       "       <path d=\"M 3841 3500 \n",
       "L 2234 1784 \n",
       "L 3219 0 \n",
       "L 2559 0 \n",
       "L 1819 1388 \n",
       "L 531 0 \n",
       "L -166 0 \n",
       "L 1556 1844 \n",
       "L 641 3500 \n",
       "L 1300 3500 \n",
       "L 1972 2234 \n",
       "L 3144 3500 \n",
       "L 3841 3500 \n",
       "z\n",
       "\" id=\"DejaVuSans-Oblique-78\" transform=\"scale(0.015625)\"/>\n",
       "      </defs>\n",
       "      <use transform=\"translate(0 0.3125)\" xlink:href=\"#DejaVuSans-Oblique-78\"/>\n",
       "     </g>\n",
       "    </g>\n",
       "   </g>\n",
       "   <g id=\"matplotlib.axis_2\">\n",
       "    <g id=\"ytick_1\">\n",
       "     <g id=\"line2d_10\">\n",
       "      <defs>\n",
       "       <path d=\"M 0 0 \n",
       "L -3.5 0 \n",
       "\" id=\"m547b0efda6\" style=\"stroke:#000000;stroke-width:0.8;\"/>\n",
       "      </defs>\n",
       "      <g>\n",
       "       <use style=\"stroke:#000000;stroke-width:0.8;\" x=\"212.15\" xlink:href=\"#m547b0efda6\" y=\"240.849039\"/>\n",
       "      </g>\n",
       "     </g>\n",
       "     <g id=\"text_11\">\n",
       "      <!-- 0 -->\n",
       "      <g transform=\"translate(199.589063 244.427945)scale(0.1 -0.1)\">\n",
       "       <use xlink:href=\"#ArialMT-30\"/>\n",
       "      </g>\n",
       "     </g>\n",
       "    </g>\n",
       "    <g id=\"ytick_2\">\n",
       "     <g id=\"line2d_11\">\n",
       "      <g>\n",
       "       <use style=\"stroke:#000000;stroke-width:0.8;\" x=\"212.15\" xlink:href=\"#m547b0efda6\" y=\"183.219845\"/>\n",
       "      </g>\n",
       "     </g>\n",
       "     <g id=\"text_12\">\n",
       "      <!-- 2 -->\n",
       "      <g transform=\"translate(199.589063 186.798751)scale(0.1 -0.1)\">\n",
       "       <use xlink:href=\"#ArialMT-32\"/>\n",
       "      </g>\n",
       "     </g>\n",
       "    </g>\n",
       "    <g id=\"ytick_3\">\n",
       "     <g id=\"line2d_12\">\n",
       "      <g>\n",
       "       <use style=\"stroke:#000000;stroke-width:0.8;\" x=\"212.15\" xlink:href=\"#m547b0efda6\" y=\"125.59065\"/>\n",
       "      </g>\n",
       "     </g>\n",
       "     <g id=\"text_13\">\n",
       "      <!-- 4 -->\n",
       "      <g transform=\"translate(199.589063 129.169556)scale(0.1 -0.1)\">\n",
       "       <defs>\n",
       "        <path d=\"M 2069 0 \n",
       "L 2069 1097 \n",
       "L 81 1097 \n",
       "L 81 1613 \n",
       "L 2172 4581 \n",
       "L 2631 4581 \n",
       "L 2631 1613 \n",
       "L 3250 1613 \n",
       "L 3250 1097 \n",
       "L 2631 1097 \n",
       "L 2631 0 \n",
       "L 2069 0 \n",
       "z\n",
       "M 2069 1613 \n",
       "L 2069 3678 \n",
       "L 634 1613 \n",
       "L 2069 1613 \n",
       "z\n",
       "\" id=\"ArialMT-34\" transform=\"scale(0.015625)\"/>\n",
       "       </defs>\n",
       "       <use xlink:href=\"#ArialMT-34\"/>\n",
       "      </g>\n",
       "     </g>\n",
       "    </g>\n",
       "    <g id=\"ytick_4\">\n",
       "     <g id=\"line2d_13\">\n",
       "      <g>\n",
       "       <use style=\"stroke:#000000;stroke-width:0.8;\" x=\"212.15\" xlink:href=\"#m547b0efda6\" y=\"67.961456\"/>\n",
       "      </g>\n",
       "     </g>\n",
       "     <g id=\"text_14\">\n",
       "      <!-- 6 -->\n",
       "      <g transform=\"translate(199.589063 71.540362)scale(0.1 -0.1)\">\n",
       "       <defs>\n",
       "        <path d=\"M 3184 3459 \n",
       "L 2625 3416 \n",
       "Q 2550 3747 2413 3897 \n",
       "Q 2184 4138 1850 4138 \n",
       "Q 1581 4138 1378 3988 \n",
       "Q 1113 3794 959 3422 \n",
       "Q 806 3050 800 2363 \n",
       "Q 1003 2672 1297 2822 \n",
       "Q 1591 2972 1913 2972 \n",
       "Q 2475 2972 2870 2558 \n",
       "Q 3266 2144 3266 1488 \n",
       "Q 3266 1056 3080 686 \n",
       "Q 2894 316 2569 119 \n",
       "Q 2244 -78 1831 -78 \n",
       "Q 1128 -78 684 439 \n",
       "Q 241 956 241 2144 \n",
       "Q 241 3472 731 4075 \n",
       "Q 1159 4600 1884 4600 \n",
       "Q 2425 4600 2770 4297 \n",
       "Q 3116 3994 3184 3459 \n",
       "z\n",
       "M 888 1484 \n",
       "Q 888 1194 1011 928 \n",
       "Q 1134 663 1356 523 \n",
       "Q 1578 384 1822 384 \n",
       "Q 2178 384 2434 671 \n",
       "Q 2691 959 2691 1453 \n",
       "Q 2691 1928 2437 2201 \n",
       "Q 2184 2475 1800 2475 \n",
       "Q 1419 2475 1153 2201 \n",
       "Q 888 1928 888 1484 \n",
       "z\n",
       "\" id=\"ArialMT-36\" transform=\"scale(0.015625)\"/>\n",
       "       </defs>\n",
       "       <use xlink:href=\"#ArialMT-36\"/>\n",
       "      </g>\n",
       "     </g>\n",
       "    </g>\n",
       "    <g id=\"text_15\">\n",
       "     <!-- $f{\\left(x \\right)}$ -->\n",
       "     <g transform=\"translate(193.601563 24.5)rotate(-90)scale(0.1 -0.1)\">\n",
       "      <defs>\n",
       "       <path d=\"M 3059 4863 \n",
       "L 2969 4384 \n",
       "L 2419 4384 \n",
       "Q 2106 4384 1964 4261 \n",
       "Q 1822 4138 1753 3809 \n",
       "L 1691 3500 \n",
       "L 2638 3500 \n",
       "L 2553 3053 \n",
       "L 1606 3053 \n",
       "L 1013 0 \n",
       "L 434 0 \n",
       "L 1031 3053 \n",
       "L 481 3053 \n",
       "L 563 3500 \n",
       "L 1113 3500 \n",
       "L 1159 3744 \n",
       "Q 1278 4363 1576 4613 \n",
       "Q 1875 4863 2516 4863 \n",
       "L 3059 4863 \n",
       "z\n",
       "\" id=\"DejaVuSans-Oblique-66\" transform=\"scale(0.015625)\"/>\n",
       "       <path d=\"M 1984 4856 \n",
       "Q 1566 4138 1362 3434 \n",
       "Q 1159 2731 1159 2009 \n",
       "Q 1159 1288 1364 580 \n",
       "Q 1569 -128 1984 -844 \n",
       "L 1484 -844 \n",
       "Q 1016 -109 783 600 \n",
       "Q 550 1309 550 2009 \n",
       "Q 550 2706 781 3412 \n",
       "Q 1013 4119 1484 4856 \n",
       "L 1984 4856 \n",
       "z\n",
       "\" id=\"DejaVuSans-28\" transform=\"scale(0.015625)\"/>\n",
       "       <path d=\"M 513 4856 \n",
       "L 1013 4856 \n",
       "Q 1481 4119 1714 3412 \n",
       "Q 1947 2706 1947 2009 \n",
       "Q 1947 1309 1714 600 \n",
       "Q 1481 -109 1013 -844 \n",
       "L 513 -844 \n",
       "Q 928 -128 1133 580 \n",
       "Q 1338 1288 1338 2009 \n",
       "Q 1338 2731 1133 3434 \n",
       "Q 928 4138 513 4856 \n",
       "z\n",
       "\" id=\"DejaVuSans-29\" transform=\"scale(0.015625)\"/>\n",
       "      </defs>\n",
       "      <use transform=\"translate(0 0.015625)\" xlink:href=\"#DejaVuSans-Oblique-66\"/>\n",
       "      <use transform=\"translate(35.205078 0.015625)\" xlink:href=\"#DejaVuSans-28\"/>\n",
       "      <use transform=\"translate(74.21875 0.015625)\" xlink:href=\"#DejaVuSans-Oblique-78\"/>\n",
       "      <use transform=\"translate(133.398438 0.015625)\" xlink:href=\"#DejaVuSans-29\"/>\n",
       "     </g>\n",
       "    </g>\n",
       "   </g>\n",
       "   <g id=\"line2d_14\">\n",
       "    <path clip-path=\"url(#pea7116e4b7)\" d=\"M 25.831818 236.949407 \n",
       "L 31.753352 236.693485 \n",
       "L 37.393794 236.434109 \n",
       "L 42.528241 236.18395 \n",
       "L 48.598514 235.869849 \n",
       "L 52.863704 235.636583 \n",
       "L 58.010967 235.340477 \n",
       "L 63.07642 235.032661 \n",
       "L 68.695733 234.671022 \n",
       "L 73.647168 234.333776 \n",
       "L 79.406712 233.918258 \n",
       "L 85.410297 233.456902 \n",
       "L 91.045917 232.995915 \n",
       "L 96.382804 232.53289 \n",
       "L 101.609636 232.052962 \n",
       "L 106.622218 231.566709 \n",
       "L 110.96045 231.124227 \n",
       "L 116.112719 230.571234 \n",
       "L 120.735294 230.048383 \n",
       "L 126.565485 229.350844 \n",
       "L 131.67415 228.702696 \n",
       "L 137.174577 227.96394 \n",
       "L 143.249601 227.095684 \n",
       "L 149.709757 226.108106 \n",
       "L 156.336255 225.021377 \n",
       "L 162.863131 223.872696 \n",
       "L 169.999068 222.521216 \n",
       "L 175.677613 221.369286 \n",
       "L 182.336128 219.926013 \n",
       "L 187.86549 218.646553 \n",
       "L 193.933341 217.152274 \n",
       "L 201.422565 215.168581 \n",
       "L 207.80991 213.346065 \n",
       "L 213.402694 211.64436 \n",
       "L 219.346331 209.72035 \n",
       "L 226.07158 207.390037 \n",
       "L 232.399097 205.038491 \n",
       "L 238.067169 202.792024 \n",
       "L 244.409978 200.110636 \n",
       "L 249.844304 197.663529 \n",
       "L 255.685417 194.869088 \n",
       "L 261.28744 192.019308 \n",
       "L 267.818006 188.473451 \n",
       "L 273.808052 184.99512 \n",
       "L 280.617194 180.759771 \n",
       "L 289.444716 174.787366 \n",
       "L 296.873287 169.303838 \n",
       "L 303.073548 164.380067 \n",
       "L 310.64641 157.904297 \n",
       "L 315.827713 153.160394 \n",
       "L 321.595134 147.560077 \n",
       "L 327.180929 141.795397 \n",
       "L 332.580423 135.884616 \n",
       "L 338.873531 128.549054 \n",
       "L 344.222607 121.912216 \n",
       "L 350.784662 113.232281 \n",
       "L 358.413847 102.341349 \n",
       "L 363.015063 95.328566 \n",
       "L 368.021267 87.294622 \n",
       "L 373.591069 77.833899 \n",
       "L 378.570937 68.882726 \n",
       "L 383.630905 59.283997 \n",
       "L 388.892293 48.734568 \n",
       "L 393.81431 38.311362 \n",
       "L 398.468182 27.936364 \n",
       "\" style=\"fill:none;stroke:#1f77b4;stroke-linecap:square;stroke-width:1.5;\"/>\n",
       "   </g>\n",
       "   <g id=\"line2d_15\">\n",
       "    <path clip-path=\"url(#pea7116e4b7)\" d=\"M 25.831818 250.453905 \n",
       "L 30.839049 248.946019 \n",
       "L 36.4079 247.361327 \n",
       "L 42.668642 245.688436 \n",
       "L 48.932924 244.121308 \n",
       "L 54.573763 242.794233 \n",
       "L 59.6124 241.670795 \n",
       "L 65.792544 240.365735 \n",
       "L 71.401557 239.244191 \n",
       "L 76.72531 238.229143 \n",
       "L 82.24515 237.22172 \n",
       "L 88.556124 236.118447 \n",
       "L 93.870437 235.223281 \n",
       "L 98.696523 234.432403 \n",
       "L 103.131544 233.72056 \n",
       "L 108.128414 232.9317 \n",
       "L 114.119002 231.998314 \n",
       "L 118.975451 231.246564 \n",
       "L 123.548224 230.53881 \n",
       "L 129.58797 229.598241 \n",
       "L 134.576881 228.811272 \n",
       "L 140.335942 227.885341 \n",
       "L 146.094983 226.934183 \n",
       "L 150.699432 226.150996 \n",
       "L 155.946163 225.229158 \n",
       "L 159.97447 224.49706 \n",
       "L 164.2764 223.689004 \n",
       "L 169.349495 222.697497 \n",
       "L 173.718224 221.806811 \n",
       "L 178.749417 220.734755 \n",
       "L 183.674959 219.633018 \n",
       "L 189.038263 218.369612 \n",
       "L 194.078894 217.116857 \n",
       "L 199.406588 215.718749 \n",
       "L 203.843188 214.492636 \n",
       "L 209.126345 212.954661 \n",
       "L 215.174394 211.083632 \n",
       "L 221.051092 209.14557 \n",
       "L 226.587545 207.204923 \n",
       "L 231.678331 205.316904 \n",
       "L 236.691213 203.356094 \n",
       "L 242.239046 201.062964 \n",
       "L 248.934006 198.115107 \n",
       "L 255.839345 194.857033 \n",
       "L 263.874144 190.772516 \n",
       "L 270.687091 187.048697 \n",
       "L 276.526435 183.657741 \n",
       "L 281.764599 180.453207 \n",
       "L 287.890795 176.503096 \n",
       "L 295.218179 171.481065 \n",
       "L 303.304378 165.546989 \n",
       "L 310.85876 159.615485 \n",
       "L 317.7187 153.891565 \n",
       "L 325.792182 146.72724 \n",
       "L 332.713504 140.203577 \n",
       "L 340.479679 132.448606 \n",
       "L 347.839669 124.660098 \n",
       "L 353.80363 118.0255 \n",
       "L 359.991189 110.827448 \n",
       "L 366.133447 103.35687 \n",
       "L 372.078552 95.809687 \n",
       "L 379.13343 86.439438 \n",
       "L 385.250777 77.941317 \n",
       "L 391.823079 68.415243 \n",
       "L 398.468182 58.35659 \n",
       "\" style=\"fill:none;stroke:#ff7f0e;stroke-linecap:square;stroke-width:1.5;\"/>\n",
       "   </g>\n",
       "   <g id=\"line2d_16\">\n",
       "    <path clip-path=\"url(#pea7116e4b7)\" d=\"M 25.831818 212.034442 \n",
       "L 31.059594 213.606051 \n",
       "L 36.973501 215.274544 \n",
       "L 42.995501 216.85421 \n",
       "L 48.526416 218.198979 \n",
       "L 52.501516 219.102742 \n",
       "L 57.079862 220.078646 \n",
       "L 62.294059 221.105321 \n",
       "L 67.457459 222.033041 \n",
       "L 72.722693 222.887903 \n",
       "L 77.794048 223.624264 \n",
       "L 83.106792 224.30409 \n",
       "L 87.719732 224.818359 \n",
       "L 92.091818 225.240563 \n",
       "L 96.370873 225.592328 \n",
       "L 100.251395 225.858767 \n",
       "L 104.315175 226.084195 \n",
       "L 109.261842 226.284605 \n",
       "L 114.604702 226.409802 \n",
       "L 120.38616 226.438509 \n",
       "L 126.322077 226.352517 \n",
       "L 131.231322 226.193013 \n",
       "L 137.15521 225.894007 \n",
       "L 142.007204 225.562307 \n",
       "L 147.075338 225.132368 \n",
       "L 152.884961 224.534616 \n",
       "L 159.351524 223.737486 \n",
       "L 165.478072 222.854189 \n",
       "L 170.901852 221.968215 \n",
       "L 178.713998 220.520447 \n",
       "L 185.342621 219.133104 \n",
       "L 192.162205 217.553546 \n",
       "L 197.821222 216.125568 \n",
       "L 203.842552 214.48941 \n",
       "L 210.596629 212.510902 \n",
       "L 216.555873 210.639457 \n",
       "L 222.810371 208.548474 \n",
       "L 228.302654 206.605209 \n",
       "L 232.859386 204.916942 \n",
       "L 239.033323 202.519518 \n",
       "L 244.876626 200.133913 \n",
       "L 251.424845 197.325812 \n",
       "L 257.280442 194.694155 \n",
       "L 262.910701 192.056416 \n",
       "L 267.955521 189.60355 \n",
       "L 274.409675 186.342238 \n",
       "L 281.35295 182.679346 \n",
       "L 286.655763 179.774068 \n",
       "L 292.357797 176.545896 \n",
       "L 297.62646 173.467119 \n",
       "L 303.559476 169.889795 \n",
       "L 310.661372 165.454012 \n",
       "L 317.175788 161.237911 \n",
       "L 323.406503 157.073589 \n",
       "L 329.396737 152.948465 \n",
       "L 335.180115 148.852753 \n",
       "L 341.45869 144.280627 \n",
       "L 347.982291 139.391425 \n",
       "L 354.66912 134.233244 \n",
       "L 362.408375 128.077884 \n",
       "L 370.422407 121.4944 \n",
       "L 378.128755 114.962561 \n",
       "L 384.477288 109.433469 \n",
       "L 391.8108 102.879966 \n",
       "L 398.468182 96.776053 \n",
       "\" style=\"fill:none;stroke:#2ca02c;stroke-linecap:square;stroke-width:1.5;\"/>\n",
       "   </g>\n",
       "   <g id=\"line2d_17\">\n",
       "    <path clip-path=\"url(#pea7116e4b7)\" d=\"M 25.831818 269.663636 \n",
       "L 32.793923 267.510221 \n",
       "L 38.523216 265.73812 \n",
       "L 46.274992 263.340455 \n",
       "L 53.253217 261.182053 \n",
       "L 59.932613 259.116081 \n",
       "L 65.560268 257.375418 \n",
       "L 72.392193 255.262267 \n",
       "L 79.172204 253.165174 \n",
       "L 86.297618 250.961246 \n",
       "L 92.757187 248.963268 \n",
       "L 98.648065 247.141188 \n",
       "L 104.497455 245.331941 \n",
       "L 109.42243 243.80862 \n",
       "L 114.37031 242.278215 \n",
       "L 120.264431 240.455132 \n",
       "L 126.122636 238.643158 \n",
       "L 132.22516 236.755616 \n",
       "L 139.448103 234.521521 \n",
       "L 145.682607 232.593157 \n",
       "L 151.453529 230.80818 \n",
       "L 156.771548 229.163289 \n",
       "L 163.023749 227.22945 \n",
       "L 169.102258 225.349335 \n",
       "L 175.355008 223.415327 \n",
       "L 181.720617 221.44641 \n",
       "L 187.623181 219.620716 \n",
       "L 193.214001 217.891446 \n",
       "L 199.612259 215.912431 \n",
       "L 205.336469 214.141903 \n",
       "L 211.291406 212.300009 \n",
       "L 217.56732 210.358836 \n",
       "L 223.961197 208.381176 \n",
       "L 228.545346 206.963275 \n",
       "L 233.655881 205.38256 \n",
       "L 238.008963 204.036128 \n",
       "L 242.613809 202.611825 \n",
       "L 248.578303 200.766976 \n",
       "L 253.951493 199.10502 \n",
       "L 258.72138 197.629669 \n",
       "L 263.936162 196.016709 \n",
       "L 268.581742 194.579807 \n",
       "L 273.092731 193.184534 \n",
       "L 277.579915 191.796625 \n",
       "L 282.749114 190.197764 \n",
       "L 287.867364 188.614663 \n",
       "L 293.64343 186.828095 \n",
       "L 298.479967 185.332129 \n",
       "L 302.893809 183.966904 \n",
       "L 309.052345 182.062036 \n",
       "L 314.653757 180.32949 \n",
       "L 319.679537 178.77499 \n",
       "L 325.196414 177.068591 \n",
       "L 330.419413 175.45309 \n",
       "L 335.821253 173.782272 \n",
       "L 342.337377 171.766801 \n",
       "L 347.845266 170.063182 \n",
       "L 354.057191 168.141801 \n",
       "L 360.044674 166.289841 \n",
       "L 366.814303 164.195959 \n",
       "L 374.02142 161.96676 \n",
       "L 379.622376 160.234354 \n",
       "L 386.005988 158.25987 \n",
       "L 392.33263 156.303006 \n",
       "L 398.468182 154.405247 \n",
       "\" style=\"fill:none;stroke:#d62728;stroke-linecap:square;stroke-width:1.5;\"/>\n",
       "   </g>\n",
       "   <g id=\"patch_3\">\n",
       "    <path d=\"M 212.15 281.75 \n",
       "L 212.15 15.85 \n",
       "\" style=\"fill:none;stroke:#000000;stroke-linecap:square;stroke-linejoin:miter;stroke-width:0.8;\"/>\n",
       "   </g>\n",
       "   <g id=\"patch_4\">\n",
       "    <path d=\"M 417.1 281.75 \n",
       "L 417.1 15.85 \n",
       "\" style=\"fill:none;\"/>\n",
       "   </g>\n",
       "   <g id=\"patch_5\">\n",
       "    <path d=\"M 7.2 240.849039 \n",
       "L 417.1 240.849039 \n",
       "\" style=\"fill:none;stroke:#000000;stroke-linecap:square;stroke-linejoin:miter;stroke-width:0.8;\"/>\n",
       "   </g>\n",
       "   <g id=\"patch_6\">\n",
       "    <path d=\"M 7.2 15.85 \n",
       "L 417.1 15.85 \n",
       "\" style=\"fill:none;\"/>\n",
       "   </g>\n",
       "  </g>\n",
       " </g>\n",
       " <defs>\n",
       "  <clipPath id=\"pea7116e4b7\">\n",
       "   <rect height=\"265.9\" width=\"409.9\" x=\"7.2\" y=\"15.85\"/>\n",
       "  </clipPath>\n",
       " </defs>\n",
       "</svg>\n"
      ],
      "text/plain": [
       "<Figure size 432x288 with 1 Axes>"
      ]
     },
     "metadata": {
      "needs_background": "light"
     },
     "output_type": "display_data"
    }
   ],
   "source": [
    "sp.plot(sp.exp(x), expt3, expt2, expt1, (x, -2, 2));"
   ]
  },
  {
   "cell_type": "code",
   "execution_count": 95,
   "id": "441cd54d",
   "metadata": {},
   "outputs": [
    {
     "data": {
      "text/plain": [
       "(E*(x - 1) + E,\n",
       " E*(x - 1)**2/2 + E*(x - 1) + E,\n",
       " E*(x - 1)**3/6 + E*(x - 1)**2/2 + E*(x - 1) + E)"
      ]
     },
     "execution_count": 95,
     "metadata": {},
     "output_type": "execute_result"
    }
   ],
   "source": [
    "expt1 = sp.series(sp.exp(x), x, 1, 2).removeO()\n",
    "expt2 = sp.series(sp.exp(x), x, 1, 3).removeO()\n",
    "expt3 = sp.series(sp.exp(x), x, 1, 4).removeO()\n",
    "expt1, expt2, expt3"
   ]
  },
  {
   "cell_type": "code",
   "execution_count": 101,
   "id": "3c0f822b",
   "metadata": {},
   "outputs": [
    {
     "data": {
      "image/svg+xml": [
       "<?xml version=\"1.0\" encoding=\"utf-8\" standalone=\"no\"?>\n",
       "<!DOCTYPE svg PUBLIC \"-//W3C//DTD SVG 1.1//EN\"\n",
       "  \"http://www.w3.org/Graphics/SVG/1.1/DTD/svg11.dtd\">\n",
       "<svg height=\"284.899942pt\" version=\"1.1\" viewBox=\"0 0 427.3 284.899942\" width=\"427.3pt\" xmlns=\"http://www.w3.org/2000/svg\" xmlns:xlink=\"http://www.w3.org/1999/xlink\">\n",
       " <metadata>\n",
       "  <rdf:RDF xmlns:cc=\"http://creativecommons.org/ns#\" xmlns:dc=\"http://purl.org/dc/elements/1.1/\" xmlns:rdf=\"http://www.w3.org/1999/02/22-rdf-syntax-ns#\">\n",
       "   <cc:Work>\n",
       "    <dc:type rdf:resource=\"http://purl.org/dc/dcmitype/StillImage\"/>\n",
       "    <dc:date>2024-03-11T21:07:19.302484</dc:date>\n",
       "    <dc:format>image/svg+xml</dc:format>\n",
       "    <dc:creator>\n",
       "     <cc:Agent>\n",
       "      <dc:title>Matplotlib v3.4.2, https://matplotlib.org/</dc:title>\n",
       "     </cc:Agent>\n",
       "    </dc:creator>\n",
       "   </cc:Work>\n",
       "  </rdf:RDF>\n",
       " </metadata>\n",
       " <defs>\n",
       "  <style type=\"text/css\">*{stroke-linecap:butt;stroke-linejoin:round;}</style>\n",
       " </defs>\n",
       " <g id=\"figure_1\">\n",
       "  <g id=\"patch_1\">\n",
       "   <path d=\"M 0 284.899942 \n",
       "L 427.3 284.899942 \n",
       "L 427.3 0 \n",
       "L 0 0 \n",
       "z\n",
       "\" style=\"fill:none;\"/>\n",
       "  </g>\n",
       "  <g id=\"axes_1\">\n",
       "   <g id=\"patch_2\">\n",
       "    <path d=\"M 7.2 271.008438 \n",
       "L 417.1 271.008438 \n",
       "L 417.1 15.85 \n",
       "L 7.2 15.85 \n",
       "z\n",
       "\" style=\"fill:#ffffff;\"/>\n",
       "   </g>\n",
       "   <g id=\"matplotlib.axis_1\">\n",
       "    <g id=\"xtick_1\">\n",
       "     <g id=\"line2d_1\">\n",
       "      <defs>\n",
       "       <path d=\"M 0 0 \n",
       "L 0 3.5 \n",
       "\" id=\"m4b89d2fdbd\" style=\"stroke:#000000;stroke-width:0.8;\"/>\n",
       "      </defs>\n",
       "      <g>\n",
       "       <use style=\"stroke:#000000;stroke-width:0.8;\" x=\"25.831818\" xlink:href=\"#m4b89d2fdbd\" y=\"248.409317\"/>\n",
       "      </g>\n",
       "     </g>\n",
       "     <g id=\"text_1\">\n",
       "      <!-- −1 -->\n",
       "      <g transform=\"translate(20.131037 262.567129)scale(0.1 -0.1)\">\n",
       "       <defs>\n",
       "        <path d=\"M 3381 1997 \n",
       "L 356 1997 \n",
       "L 356 2522 \n",
       "L 3381 2522 \n",
       "L 3381 1997 \n",
       "z\n",
       "\" id=\"ArialMT-2212\" transform=\"scale(0.015625)\"/>\n",
       "        <path d=\"M 2384 0 \n",
       "L 1822 0 \n",
       "L 1822 3584 \n",
       "Q 1619 3391 1289 3197 \n",
       "Q 959 3003 697 2906 \n",
       "L 697 3450 \n",
       "Q 1169 3672 1522 3987 \n",
       "Q 1875 4303 2022 4600 \n",
       "L 2384 4600 \n",
       "L 2384 0 \n",
       "z\n",
       "\" id=\"ArialMT-31\" transform=\"scale(0.015625)\"/>\n",
       "       </defs>\n",
       "       <use xlink:href=\"#ArialMT-2212\"/>\n",
       "       <use x=\"58.398438\" xlink:href=\"#ArialMT-31\"/>\n",
       "      </g>\n",
       "     </g>\n",
       "    </g>\n",
       "    <g id=\"xtick_2\">\n",
       "     <g id=\"line2d_2\">\n",
       "      <g>\n",
       "       <use style=\"stroke:#000000;stroke-width:0.8;\" x=\"100.359091\" xlink:href=\"#m4b89d2fdbd\" y=\"248.409317\"/>\n",
       "      </g>\n",
       "     </g>\n",
       "     <g id=\"text_2\">\n",
       "      <!-- 0 -->\n",
       "      <g transform=\"translate(97.578622 262.567129)scale(0.1 -0.1)\">\n",
       "       <defs>\n",
       "        <path d=\"M 266 2259 \n",
       "Q 266 3072 433 3567 \n",
       "Q 600 4063 929 4331 \n",
       "Q 1259 4600 1759 4600 \n",
       "Q 2128 4600 2406 4451 \n",
       "Q 2684 4303 2865 4023 \n",
       "Q 3047 3744 3150 3342 \n",
       "Q 3253 2941 3253 2259 \n",
       "Q 3253 1453 3087 958 \n",
       "Q 2922 463 2592 192 \n",
       "Q 2263 -78 1759 -78 \n",
       "Q 1097 -78 719 397 \n",
       "Q 266 969 266 2259 \n",
       "z\n",
       "M 844 2259 \n",
       "Q 844 1131 1108 757 \n",
       "Q 1372 384 1759 384 \n",
       "Q 2147 384 2411 759 \n",
       "Q 2675 1134 2675 2259 \n",
       "Q 2675 3391 2411 3762 \n",
       "Q 2147 4134 1753 4134 \n",
       "Q 1366 4134 1134 3806 \n",
       "Q 844 3388 844 2259 \n",
       "z\n",
       "\" id=\"ArialMT-30\" transform=\"scale(0.015625)\"/>\n",
       "       </defs>\n",
       "       <use xlink:href=\"#ArialMT-30\"/>\n",
       "      </g>\n",
       "     </g>\n",
       "    </g>\n",
       "    <g id=\"xtick_3\">\n",
       "     <g id=\"line2d_3\">\n",
       "      <g>\n",
       "       <use style=\"stroke:#000000;stroke-width:0.8;\" x=\"174.886364\" xlink:href=\"#m4b89d2fdbd\" y=\"248.409317\"/>\n",
       "      </g>\n",
       "     </g>\n",
       "     <g id=\"text_3\">\n",
       "      <!-- 1 -->\n",
       "      <g transform=\"translate(172.105895 262.567129)scale(0.1 -0.1)\">\n",
       "       <use xlink:href=\"#ArialMT-31\"/>\n",
       "      </g>\n",
       "     </g>\n",
       "    </g>\n",
       "    <g id=\"xtick_4\">\n",
       "     <g id=\"line2d_4\">\n",
       "      <g>\n",
       "       <use style=\"stroke:#000000;stroke-width:0.8;\" x=\"249.413636\" xlink:href=\"#m4b89d2fdbd\" y=\"248.409317\"/>\n",
       "      </g>\n",
       "     </g>\n",
       "     <g id=\"text_4\">\n",
       "      <!-- 2 -->\n",
       "      <g transform=\"translate(246.633168 262.567129)scale(0.1 -0.1)\">\n",
       "       <defs>\n",
       "        <path d=\"M 3222 541 \n",
       "L 3222 0 \n",
       "L 194 0 \n",
       "Q 188 203 259 391 \n",
       "Q 375 700 629 1000 \n",
       "Q 884 1300 1366 1694 \n",
       "Q 2113 2306 2375 2664 \n",
       "Q 2638 3022 2638 3341 \n",
       "Q 2638 3675 2398 3904 \n",
       "Q 2159 4134 1775 4134 \n",
       "Q 1369 4134 1125 3890 \n",
       "Q 881 3647 878 3216 \n",
       "L 300 3275 \n",
       "Q 359 3922 746 4261 \n",
       "Q 1134 4600 1788 4600 \n",
       "Q 2447 4600 2831 4234 \n",
       "Q 3216 3869 3216 3328 \n",
       "Q 3216 3053 3103 2787 \n",
       "Q 2991 2522 2730 2228 \n",
       "Q 2469 1934 1863 1422 \n",
       "Q 1356 997 1212 845 \n",
       "Q 1069 694 975 541 \n",
       "L 3222 541 \n",
       "z\n",
       "\" id=\"ArialMT-32\" transform=\"scale(0.015625)\"/>\n",
       "       </defs>\n",
       "       <use xlink:href=\"#ArialMT-32\"/>\n",
       "      </g>\n",
       "     </g>\n",
       "    </g>\n",
       "    <g id=\"xtick_5\">\n",
       "     <g id=\"line2d_5\">\n",
       "      <g>\n",
       "       <use style=\"stroke:#000000;stroke-width:0.8;\" x=\"323.940909\" xlink:href=\"#m4b89d2fdbd\" y=\"248.409317\"/>\n",
       "      </g>\n",
       "     </g>\n",
       "     <g id=\"text_5\">\n",
       "      <!-- 3 -->\n",
       "      <g transform=\"translate(321.16044 262.567129)scale(0.1 -0.1)\">\n",
       "       <defs>\n",
       "        <path d=\"M 269 1209 \n",
       "L 831 1284 \n",
       "Q 928 806 1161 595 \n",
       "Q 1394 384 1728 384 \n",
       "Q 2125 384 2398 659 \n",
       "Q 2672 934 2672 1341 \n",
       "Q 2672 1728 2419 1979 \n",
       "Q 2166 2231 1775 2231 \n",
       "Q 1616 2231 1378 2169 \n",
       "L 1441 2663 \n",
       "Q 1497 2656 1531 2656 \n",
       "Q 1891 2656 2178 2843 \n",
       "Q 2466 3031 2466 3422 \n",
       "Q 2466 3731 2256 3934 \n",
       "Q 2047 4138 1716 4138 \n",
       "Q 1388 4138 1169 3931 \n",
       "Q 950 3725 888 3313 \n",
       "L 325 3413 \n",
       "Q 428 3978 793 4289 \n",
       "Q 1159 4600 1703 4600 \n",
       "Q 2078 4600 2393 4439 \n",
       "Q 2709 4278 2876 4000 \n",
       "Q 3044 3722 3044 3409 \n",
       "Q 3044 3113 2884 2869 \n",
       "Q 2725 2625 2413 2481 \n",
       "Q 2819 2388 3044 2092 \n",
       "Q 3269 1797 3269 1353 \n",
       "Q 3269 753 2831 336 \n",
       "Q 2394 -81 1725 -81 \n",
       "Q 1122 -81 723 278 \n",
       "Q 325 638 269 1209 \n",
       "z\n",
       "\" id=\"ArialMT-33\" transform=\"scale(0.015625)\"/>\n",
       "       </defs>\n",
       "       <use xlink:href=\"#ArialMT-33\"/>\n",
       "      </g>\n",
       "     </g>\n",
       "    </g>\n",
       "    <g id=\"xtick_6\">\n",
       "     <g id=\"line2d_6\">\n",
       "      <g>\n",
       "       <use style=\"stroke:#000000;stroke-width:0.8;\" x=\"398.468182\" xlink:href=\"#m4b89d2fdbd\" y=\"248.409317\"/>\n",
       "      </g>\n",
       "     </g>\n",
       "     <g id=\"text_6\">\n",
       "      <!-- 4 -->\n",
       "      <g transform=\"translate(395.687713 262.567129)scale(0.1 -0.1)\">\n",
       "       <defs>\n",
       "        <path d=\"M 2069 0 \n",
       "L 2069 1097 \n",
       "L 81 1097 \n",
       "L 81 1613 \n",
       "L 2172 4581 \n",
       "L 2631 4581 \n",
       "L 2631 1613 \n",
       "L 3250 1613 \n",
       "L 3250 1097 \n",
       "L 2631 1097 \n",
       "L 2631 0 \n",
       "L 2069 0 \n",
       "z\n",
       "M 2069 1613 \n",
       "L 2069 3678 \n",
       "L 634 1613 \n",
       "L 2069 1613 \n",
       "z\n",
       "\" id=\"ArialMT-34\" transform=\"scale(0.015625)\"/>\n",
       "       </defs>\n",
       "       <use xlink:href=\"#ArialMT-34\"/>\n",
       "      </g>\n",
       "     </g>\n",
       "    </g>\n",
       "    <g id=\"text_7\">\n",
       "     <!-- $x$ -->\n",
       "     <g transform=\"translate(414.1 275.712442)scale(0.1 -0.1)\">\n",
       "      <defs>\n",
       "       <path d=\"M 3841 3500 \n",
       "L 2234 1784 \n",
       "L 3219 0 \n",
       "L 2559 0 \n",
       "L 1819 1388 \n",
       "L 531 0 \n",
       "L -166 0 \n",
       "L 1556 1844 \n",
       "L 641 3500 \n",
       "L 1300 3500 \n",
       "L 1972 2234 \n",
       "L 3144 3500 \n",
       "L 3841 3500 \n",
       "z\n",
       "\" id=\"DejaVuSans-Oblique-78\" transform=\"scale(0.015625)\"/>\n",
       "      </defs>\n",
       "      <use transform=\"translate(0 0.3125)\" xlink:href=\"#DejaVuSans-Oblique-78\"/>\n",
       "     </g>\n",
       "    </g>\n",
       "   </g>\n",
       "   <g id=\"matplotlib.axis_2\">\n",
       "    <g id=\"ytick_1\">\n",
       "     <g id=\"line2d_7\">\n",
       "      <defs>\n",
       "       <path d=\"M 0 0 \n",
       "L -3.5 0 \n",
       "\" id=\"m7c466a339f\" style=\"stroke:#000000;stroke-width:0.8;\"/>\n",
       "      </defs>\n",
       "      <g>\n",
       "       <use style=\"stroke:#000000;stroke-width:0.8;\" x=\"100.359091\" xlink:href=\"#m7c466a339f\" y=\"248.409317\"/>\n",
       "      </g>\n",
       "     </g>\n",
       "     <g id=\"text_8\">\n",
       "      <!-- 0 -->\n",
       "      <g transform=\"translate(87.798153 251.988223)scale(0.1 -0.1)\">\n",
       "       <use xlink:href=\"#ArialMT-30\"/>\n",
       "      </g>\n",
       "     </g>\n",
       "    </g>\n",
       "    <g id=\"ytick_2\">\n",
       "     <g id=\"line2d_8\">\n",
       "      <g>\n",
       "       <use style=\"stroke:#000000;stroke-width:0.8;\" x=\"100.359091\" xlink:href=\"#m7c466a339f\" y=\"207.93886\"/>\n",
       "      </g>\n",
       "     </g>\n",
       "     <g id=\"text_9\">\n",
       "      <!-- 10 -->\n",
       "      <g transform=\"translate(82.237216 211.517766)scale(0.1 -0.1)\">\n",
       "       <use xlink:href=\"#ArialMT-31\"/>\n",
       "       <use x=\"55.615234\" xlink:href=\"#ArialMT-30\"/>\n",
       "      </g>\n",
       "     </g>\n",
       "    </g>\n",
       "    <g id=\"ytick_3\">\n",
       "     <g id=\"line2d_9\">\n",
       "      <g>\n",
       "       <use style=\"stroke:#000000;stroke-width:0.8;\" x=\"100.359091\" xlink:href=\"#m7c466a339f\" y=\"167.468404\"/>\n",
       "      </g>\n",
       "     </g>\n",
       "     <g id=\"text_10\">\n",
       "      <!-- 20 -->\n",
       "      <g transform=\"translate(82.237216 171.04731)scale(0.1 -0.1)\">\n",
       "       <use xlink:href=\"#ArialMT-32\"/>\n",
       "       <use x=\"55.615234\" xlink:href=\"#ArialMT-30\"/>\n",
       "      </g>\n",
       "     </g>\n",
       "    </g>\n",
       "    <g id=\"ytick_4\">\n",
       "     <g id=\"line2d_10\">\n",
       "      <g>\n",
       "       <use style=\"stroke:#000000;stroke-width:0.8;\" x=\"100.359091\" xlink:href=\"#m7c466a339f\" y=\"126.997947\"/>\n",
       "      </g>\n",
       "     </g>\n",
       "     <g id=\"text_11\">\n",
       "      <!-- 30 -->\n",
       "      <g transform=\"translate(82.237216 130.576853)scale(0.1 -0.1)\">\n",
       "       <use xlink:href=\"#ArialMT-33\"/>\n",
       "       <use x=\"55.615234\" xlink:href=\"#ArialMT-30\"/>\n",
       "      </g>\n",
       "     </g>\n",
       "    </g>\n",
       "    <g id=\"ytick_5\">\n",
       "     <g id=\"line2d_11\">\n",
       "      <g>\n",
       "       <use style=\"stroke:#000000;stroke-width:0.8;\" x=\"100.359091\" xlink:href=\"#m7c466a339f\" y=\"86.52749\"/>\n",
       "      </g>\n",
       "     </g>\n",
       "     <g id=\"text_12\">\n",
       "      <!-- 40 -->\n",
       "      <g transform=\"translate(82.237216 90.106397)scale(0.1 -0.1)\">\n",
       "       <use xlink:href=\"#ArialMT-34\"/>\n",
       "       <use x=\"55.615234\" xlink:href=\"#ArialMT-30\"/>\n",
       "      </g>\n",
       "     </g>\n",
       "    </g>\n",
       "    <g id=\"ytick_6\">\n",
       "     <g id=\"line2d_12\">\n",
       "      <g>\n",
       "       <use style=\"stroke:#000000;stroke-width:0.8;\" x=\"100.359091\" xlink:href=\"#m7c466a339f\" y=\"46.057034\"/>\n",
       "      </g>\n",
       "     </g>\n",
       "     <g id=\"text_13\">\n",
       "      <!-- 50 -->\n",
       "      <g transform=\"translate(82.237216 49.63594)scale(0.1 -0.1)\">\n",
       "       <defs>\n",
       "        <path d=\"M 266 1200 \n",
       "L 856 1250 \n",
       "Q 922 819 1161 601 \n",
       "Q 1400 384 1738 384 \n",
       "Q 2144 384 2425 690 \n",
       "Q 2706 997 2706 1503 \n",
       "Q 2706 1984 2436 2262 \n",
       "Q 2166 2541 1728 2541 \n",
       "Q 1456 2541 1237 2417 \n",
       "Q 1019 2294 894 2097 \n",
       "L 366 2166 \n",
       "L 809 4519 \n",
       "L 3088 4519 \n",
       "L 3088 3981 \n",
       "L 1259 3981 \n",
       "L 1013 2750 \n",
       "Q 1425 3038 1878 3038 \n",
       "Q 2478 3038 2890 2622 \n",
       "Q 3303 2206 3303 1553 \n",
       "Q 3303 931 2941 478 \n",
       "Q 2500 -78 1738 -78 \n",
       "Q 1113 -78 717 272 \n",
       "Q 322 622 266 1200 \n",
       "z\n",
       "\" id=\"ArialMT-35\" transform=\"scale(0.015625)\"/>\n",
       "       </defs>\n",
       "       <use xlink:href=\"#ArialMT-35\"/>\n",
       "       <use x=\"55.615234\" xlink:href=\"#ArialMT-30\"/>\n",
       "      </g>\n",
       "     </g>\n",
       "    </g>\n",
       "    <g id=\"text_14\">\n",
       "     <!-- $f{\\left(x \\right)}$ -->\n",
       "     <g transform=\"translate(76.249716 24.5)rotate(-90)scale(0.1 -0.1)\">\n",
       "      <defs>\n",
       "       <path d=\"M 3059 4863 \n",
       "L 2969 4384 \n",
       "L 2419 4384 \n",
       "Q 2106 4384 1964 4261 \n",
       "Q 1822 4138 1753 3809 \n",
       "L 1691 3500 \n",
       "L 2638 3500 \n",
       "L 2553 3053 \n",
       "L 1606 3053 \n",
       "L 1013 0 \n",
       "L 434 0 \n",
       "L 1031 3053 \n",
       "L 481 3053 \n",
       "L 563 3500 \n",
       "L 1113 3500 \n",
       "L 1159 3744 \n",
       "Q 1278 4363 1576 4613 \n",
       "Q 1875 4863 2516 4863 \n",
       "L 3059 4863 \n",
       "z\n",
       "\" id=\"DejaVuSans-Oblique-66\" transform=\"scale(0.015625)\"/>\n",
       "       <path d=\"M 1984 4856 \n",
       "Q 1566 4138 1362 3434 \n",
       "Q 1159 2731 1159 2009 \n",
       "Q 1159 1288 1364 580 \n",
       "Q 1569 -128 1984 -844 \n",
       "L 1484 -844 \n",
       "Q 1016 -109 783 600 \n",
       "Q 550 1309 550 2009 \n",
       "Q 550 2706 781 3412 \n",
       "Q 1013 4119 1484 4856 \n",
       "L 1984 4856 \n",
       "z\n",
       "\" id=\"DejaVuSans-28\" transform=\"scale(0.015625)\"/>\n",
       "       <path d=\"M 513 4856 \n",
       "L 1013 4856 \n",
       "Q 1481 4119 1714 3412 \n",
       "Q 1947 2706 1947 2009 \n",
       "Q 1947 1309 1714 600 \n",
       "Q 1481 -109 1013 -844 \n",
       "L 513 -844 \n",
       "Q 928 -128 1133 580 \n",
       "Q 1338 1288 1338 2009 \n",
       "Q 1338 2731 1133 3434 \n",
       "Q 928 4138 513 4856 \n",
       "z\n",
       "\" id=\"DejaVuSans-29\" transform=\"scale(0.015625)\"/>\n",
       "      </defs>\n",
       "      <use transform=\"translate(0 0.015625)\" xlink:href=\"#DejaVuSans-Oblique-66\"/>\n",
       "      <use transform=\"translate(35.205078 0.015625)\" xlink:href=\"#DejaVuSans-28\"/>\n",
       "      <use transform=\"translate(74.21875 0.015625)\" xlink:href=\"#DejaVuSans-Oblique-78\"/>\n",
       "      <use transform=\"translate(133.398438 0.015625)\" xlink:href=\"#DejaVuSans-29\"/>\n",
       "     </g>\n",
       "    </g>\n",
       "   </g>\n",
       "   <g id=\"line2d_13\">\n",
       "    <path clip-path=\"url(#peef5453adc)\" d=\"M 25.831818 246.920492 \n",
       "L 31.318587 246.806747 \n",
       "L 36.377447 246.694189 \n",
       "L 42.858209 246.538368 \n",
       "L 49.016916 246.37719 \n",
       "L 55.46319 246.193595 \n",
       "L 62.156434 245.985393 \n",
       "L 68.549823 245.768275 \n",
       "L 75.541776 245.508504 \n",
       "L 82.704161 245.215889 \n",
       "L 90.367967 244.870023 \n",
       "L 96.936281 244.543936 \n",
       "L 103.728945 244.175078 \n",
       "L 109.703304 243.821671 \n",
       "L 115.73997 243.43461 \n",
       "L 122.415419 242.968458 \n",
       "L 127.962497 242.548042 \n",
       "L 134.069642 242.047511 \n",
       "L 140.240475 241.498334 \n",
       "L 146.570772 240.885668 \n",
       "L 152.014557 240.315541 \n",
       "L 157.799988 239.662203 \n",
       "L 162.634866 239.075932 \n",
       "L 167.302165 238.472735 \n",
       "L 171.740355 237.863025 \n",
       "L 177.191801 237.062681 \n",
       "L 181.782626 236.34176 \n",
       "L 187.371663 235.401978 \n",
       "L 193.218939 234.340343 \n",
       "L 198.003388 233.407531 \n",
       "L 202.55162 232.463493 \n",
       "L 207.256111 231.424473 \n",
       "L 211.556672 230.41554 \n",
       "L 217.445247 228.936134 \n",
       "L 222.973499 227.436737 \n",
       "L 228.290985 225.885678 \n",
       "L 233.586521 224.227031 \n",
       "L 239.631495 222.183841 \n",
       "L 245.546671 220.017511 \n",
       "L 251.310088 217.734759 \n",
       "L 258.131611 214.794595 \n",
       "L 265.626789 211.238137 \n",
       "L 272.707602 207.533304 \n",
       "L 279.595381 203.575487 \n",
       "L 286.041118 199.525261 \n",
       "L 294.276585 193.813677 \n",
       "L 301.134006 188.551846 \n",
       "L 307.667527 183.067486 \n",
       "L 313.633082 177.622153 \n",
       "L 317.411102 173.94122 \n",
       "L 321.985338 169.227437 \n",
       "L 326.813136 163.928336 \n",
       "L 331.969971 157.87578 \n",
       "L 337.074387 151.457809 \n",
       "L 341.781867 145.136369 \n",
       "L 347.313317 137.179783 \n",
       "L 353.431145 127.663893 \n",
       "L 359.144254 118.043778 \n",
       "L 365.313763 106.792597 \n",
       "L 369.88807 97.828207 \n",
       "L 375.083055 86.957347 \n",
       "L 380.238696 75.393052 \n",
       "L 385.653112 62.355544 \n",
       "L 391.499874 47.171568 \n",
       "L 398.468182 27.448111 \n",
       "\" style=\"fill:none;stroke:#1f77b4;stroke-linecap:square;stroke-width:1.5;\"/>\n",
       "   </g>\n",
       "   <g id=\"line2d_14\">\n",
       "    <path clip-path=\"url(#peef5453adc)\" d=\"M 25.831818 252.07632 \n",
       "L 31.25549 251.304154 \n",
       "L 36.559046 250.601359 \n",
       "L 42.294311 249.894909 \n",
       "L 47.549021 249.292332 \n",
       "L 54.986034 248.504826 \n",
       "L 61.812384 247.84095 \n",
       "L 68.245761 247.259133 \n",
       "L 73.786478 246.786619 \n",
       "L 79.363375 246.332902 \n",
       "L 86.047094 245.811599 \n",
       "L 92.726269 245.307625 \n",
       "L 99.541689 244.802644 \n",
       "L 107.766174 244.193831 \n",
       "L 114.792678 243.66372 \n",
       "L 121.746658 243.120465 \n",
       "L 128.812664 242.540255 \n",
       "L 134.829516 242.016798 \n",
       "L 141.229995 241.423427 \n",
       "L 146.924762 240.858289 \n",
       "L 151.823016 240.340272 \n",
       "L 158.104929 239.627467 \n",
       "L 164.04195 238.898242 \n",
       "L 170.143406 238.086611 \n",
       "L 175.635493 237.297169 \n",
       "L 181.704268 236.354474 \n",
       "L 188.640996 235.179094 \n",
       "L 195.771832 233.853062 \n",
       "L 202.889021 232.401007 \n",
       "L 209.909923 230.833403 \n",
       "L 215.833195 229.399636 \n",
       "L 222.702319 227.601719 \n",
       "L 230.020522 225.517265 \n",
       "L 234.464389 224.162122 \n",
       "L 239.472151 222.550559 \n",
       "L 244.518481 220.832788 \n",
       "L 250.105737 218.816935 \n",
       "L 255.281023 216.838988 \n",
       "L 260.314885 214.809331 \n",
       "L 265.993031 212.390443 \n",
       "L 271.162987 210.064732 \n",
       "L 275.952073 207.802188 \n",
       "L 280.721575 205.442527 \n",
       "L 285.849083 202.784044 \n",
       "L 291.5799 199.659217 \n",
       "L 297.50591 196.252376 \n",
       "L 302.883843 193.001515 \n",
       "L 307.556662 190.050639 \n",
       "L 312.280872 186.945074 \n",
       "L 317.569479 183.31924 \n",
       "L 324.022857 178.675747 \n",
       "L 329.871626 174.253646 \n",
       "L 336.538316 168.958373 \n",
       "L 342.094773 164.332131 \n",
       "L 347.949212 159.243118 \n",
       "L 353.432498 154.272306 \n",
       "L 358.981846 149.035703 \n",
       "L 363.735381 144.381929 \n",
       "L 369.086669 138.953561 \n",
       "L 374.584019 133.164029 \n",
       "L 379.724502 127.551157 \n",
       "L 384.437033 122.233285 \n",
       "L 388.47118 117.54785 \n",
       "L 392.989994 112.151452 \n",
       "L 398.468182 105.396178 \n",
       "\" style=\"fill:none;stroke:#ff7f0e;stroke-linecap:square;stroke-width:1.5;\"/>\n",
       "   </g>\n",
       "   <g id=\"line2d_15\">\n",
       "    <path clip-path=\"url(#peef5453adc)\" d=\"M 25.831818 237.408306 \n",
       "L 32.16539 238.303482 \n",
       "L 37.931983 239.049422 \n",
       "L 43.31041 239.685789 \n",
       "L 49.459027 240.343094 \n",
       "L 55.334875 240.90127 \n",
       "L 61.643268 241.424417 \n",
       "L 67.028151 241.808622 \n",
       "L 72.029063 242.113996 \n",
       "L 74.547404 242.249022 \n",
       "L 77.115299 242.373771 \n",
       "L 79.953408 242.496453 \n",
       "L 83.246922 242.618822 \n",
       "L 86.152534 242.70894 \n",
       "L 87.663856 242.749204 \n",
       "L 89.374085 242.78931 \n",
       "L 91.136495 242.824579 \n",
       "L 92.777328 242.851885 \n",
       "L 94.501964 242.874838 \n",
       "L 96.159227 242.891343 \n",
       "L 97.36274 242.89992 \n",
       "L 98.831553 242.9065 \n",
       "L 100.022666 242.908699 \n",
       "L 101.302419 242.90793 \n",
       "L 103.699216 242.897763 \n",
       "L 105.661029 242.880973 \n",
       "L 107.056114 242.864396 \n",
       "L 108.481672 242.843474 \n",
       "L 110.835638 242.800117 \n",
       "L 112.265865 242.768413 \n",
       "L 113.886994 242.72758 \n",
       "L 116.444277 242.652585 \n",
       "L 119.702494 242.538269 \n",
       "L 123.314501 242.386965 \n",
       "L 126.449981 242.234672 \n",
       "L 130.250264 242.023985 \n",
       "L 136.092596 241.644298 \n",
       "L 142.972103 241.110534 \n",
       "L 149.857294 240.482475 \n",
       "L 156.473214 239.790521 \n",
       "L 164.191359 238.873726 \n",
       "L 171.76359 237.859603 \n",
       "L 178.510787 236.860294 \n",
       "L 184.133526 235.958646 \n",
       "L 190.662891 234.833037 \n",
       "L 197.570953 233.550216 \n",
       "L 203.699699 232.332989 \n",
       "L 210.597727 230.873986 \n",
       "L 215.639107 229.748075 \n",
       "L 221.757934 228.313908 \n",
       "L 226.736791 227.092215 \n",
       "L 232.701019 225.564101 \n",
       "L 237.033464 224.409894 \n",
       "L 241.683762 223.12964 \n",
       "L 246.849558 221.657249 \n",
       "L 253.159435 219.787056 \n",
       "L 258.254976 218.219228 \n",
       "L 263.326275 216.6078 \n",
       "L 269.846676 214.461062 \n",
       "L 275.435919 212.553865 \n",
       "L 281.648906 210.361213 \n",
       "L 287.5569 208.205281 \n",
       "L 293.789108 205.85611 \n",
       "L 300.118752 203.39147 \n",
       "L 305.619579 201.185108 \n",
       "L 311.725949 198.665674 \n",
       "L 318.001012 195.999697 \n",
       "L 323.77975 193.475604 \n",
       "L 328.814613 191.22251 \n",
       "L 334.945049 188.411364 \n",
       "L 339.896234 186.086635 \n",
       "L 345.814363 183.244194 \n",
       "L 350.496286 180.946347 \n",
       "L 354.935963 178.727288 \n",
       "L 360.584796 175.847426 \n",
       "L 366.032499 173.010239 \n",
       "L 372.062523 169.801236 \n",
       "L 378.265241 166.425189 \n",
       "L 382.516906 164.067054 \n",
       "L 387.403628 161.312467 \n",
       "L 393.20483 157.980996 \n",
       "L 398.468182 154.900726 \n",
       "\" style=\"fill:none;stroke:#2ca02c;stroke-linecap:square;stroke-width:1.5;\"/>\n",
       "   </g>\n",
       "   <g id=\"line2d_16\">\n",
       "    <path clip-path=\"url(#peef5453adc)\" d=\"M 25.831818 259.410327 \n",
       "L 31.173019 258.62191 \n",
       "L 37.022633 257.758445 \n",
       "L 42.766436 256.910599 \n",
       "L 47.928042 256.148692 \n",
       "L 52.626222 255.455191 \n",
       "L 58.050842 254.65446 \n",
       "L 64.204526 253.746111 \n",
       "L 69.563421 252.955082 \n",
       "L 76.285798 251.962788 \n",
       "L 84.004199 250.823471 \n",
       "L 90.895379 249.80626 \n",
       "L 97.066375 248.895356 \n",
       "L 102.809872 248.047555 \n",
       "L 109.145273 247.112383 \n",
       "L 114.722384 246.289143 \n",
       "L 121.105706 245.346898 \n",
       "L 127.788451 244.360454 \n",
       "L 133.519454 243.514498 \n",
       "L 139.00764 242.704384 \n",
       "L 144.992321 241.820982 \n",
       "L 151.154148 240.911431 \n",
       "L 158.197376 239.871776 \n",
       "L 164.370261 238.960593 \n",
       "L 170.077261 238.11818 \n",
       "L 177.777357 236.981565 \n",
       "L 184.889391 235.931754 \n",
       "L 190.896098 235.0451 \n",
       "L 197.294203 234.100673 \n",
       "L 203.795257 233.141049 \n",
       "L 210.1392 232.204616 \n",
       "L 215.288901 231.444466 \n",
       "L 221.079038 230.58978 \n",
       "L 225.446405 229.945111 \n",
       "L 230.287574 229.230504 \n",
       "L 236.112965 228.370614 \n",
       "L 241.27639 227.608439 \n",
       "L 246.002636 226.910795 \n",
       "L 251.408644 226.112811 \n",
       "L 256.266633 225.395721 \n",
       "L 261.52765 224.619139 \n",
       "L 267.418954 223.749521 \n",
       "L 273.546124 222.845086 \n",
       "L 278.988312 222.041762 \n",
       "L 284.784376 221.186202 \n",
       "L 290.692529 220.314096 \n",
       "L 295.635371 219.58448 \n",
       "L 300.384596 218.883445 \n",
       "L 305.888077 218.071073 \n",
       "L 311.343338 217.265819 \n",
       "L 317.329551 216.382191 \n",
       "L 323.022694 215.541823 \n",
       "L 329.11305 214.642822 \n",
       "L 334.865867 213.793646 \n",
       "L 340.408649 212.975473 \n",
       "L 346.690829 212.048157 \n",
       "L 352.453213 211.197568 \n",
       "L 357.52241 210.449301 \n",
       "L 361.992271 209.789503 \n",
       "L 367.978277 208.905905 \n",
       "L 373.567899 208.080818 \n",
       "L 380.230704 207.097318 \n",
       "L 386.558182 206.163315 \n",
       "L 393.026997 205.20845 \n",
       "L 398.468182 204.405274 \n",
       "\" style=\"fill:none;stroke:#d62728;stroke-linecap:square;stroke-width:1.5;\"/>\n",
       "   </g>\n",
       "   <g id=\"patch_3\">\n",
       "    <path d=\"M 100.359091 271.008438 \n",
       "L 100.359091 15.85 \n",
       "\" style=\"fill:none;stroke:#000000;stroke-linecap:square;stroke-linejoin:miter;stroke-width:0.8;\"/>\n",
       "   </g>\n",
       "   <g id=\"patch_4\">\n",
       "    <path d=\"M 417.1 271.008438 \n",
       "L 417.1 15.85 \n",
       "\" style=\"fill:none;\"/>\n",
       "   </g>\n",
       "   <g id=\"patch_5\">\n",
       "    <path d=\"M 7.2 248.409317 \n",
       "L 417.1 248.409317 \n",
       "\" style=\"fill:none;stroke:#000000;stroke-linecap:square;stroke-linejoin:miter;stroke-width:0.8;\"/>\n",
       "   </g>\n",
       "   <g id=\"patch_6\">\n",
       "    <path d=\"M 7.2 15.85 \n",
       "L 417.1 15.85 \n",
       "\" style=\"fill:none;\"/>\n",
       "   </g>\n",
       "  </g>\n",
       " </g>\n",
       " <defs>\n",
       "  <clipPath id=\"peef5453adc\">\n",
       "   <rect height=\"255.158438\" width=\"409.9\" x=\"7.2\" y=\"15.85\"/>\n",
       "  </clipPath>\n",
       " </defs>\n",
       "</svg>\n"
      ],
      "text/plain": [
       "<Figure size 432x288 with 1 Axes>"
      ]
     },
     "metadata": {
      "needs_background": "light"
     },
     "output_type": "display_data"
    }
   ],
   "source": [
    "sp.plot(sp.exp(x), expt3, expt2, expt1, (x, -1, 4));"
   ]
  },
  {
   "cell_type": "code",
   "execution_count": 102,
   "id": "14fae101",
   "metadata": {},
   "outputs": [
    {
     "data": {
      "text/plain": [
       "((x - 2)*exp(2) + exp(2),\n",
       " (x - 2)**2*exp(2)/2 + (x - 2)*exp(2) + exp(2),\n",
       " (x - 2)**3*exp(2)/6 + (x - 2)**2*exp(2)/2 + (x - 2)*exp(2) + exp(2))"
      ]
     },
     "execution_count": 102,
     "metadata": {},
     "output_type": "execute_result"
    }
   ],
   "source": [
    "expt1 = sp.series(sp.exp(x), x, 2, 2).removeO()\n",
    "expt2 = sp.series(sp.exp(x), x, 2, 3).removeO()\n",
    "expt3 = sp.series(sp.exp(x), x, 2, 4).removeO()\n",
    "expt1, expt2, expt3"
   ]
  },
  {
   "cell_type": "code",
   "execution_count": 103,
   "id": "a15d39f2",
   "metadata": {},
   "outputs": [
    {
     "data": {
      "image/svg+xml": [
       "<?xml version=\"1.0\" encoding=\"utf-8\" standalone=\"no\"?>\n",
       "<!DOCTYPE svg PUBLIC \"-//W3C//DTD SVG 1.1//EN\"\n",
       "  \"http://www.w3.org/Graphics/SVG/1.1/DTD/svg11.dtd\">\n",
       "<svg height=\"288.95pt\" version=\"1.1\" viewBox=\"0 0 427.3 288.95\" width=\"427.3pt\" xmlns=\"http://www.w3.org/2000/svg\" xmlns:xlink=\"http://www.w3.org/1999/xlink\">\n",
       " <metadata>\n",
       "  <rdf:RDF xmlns:cc=\"http://creativecommons.org/ns#\" xmlns:dc=\"http://purl.org/dc/elements/1.1/\" xmlns:rdf=\"http://www.w3.org/1999/02/22-rdf-syntax-ns#\">\n",
       "   <cc:Work>\n",
       "    <dc:type rdf:resource=\"http://purl.org/dc/dcmitype/StillImage\"/>\n",
       "    <dc:date>2024-03-11T21:08:00.831824</dc:date>\n",
       "    <dc:format>image/svg+xml</dc:format>\n",
       "    <dc:creator>\n",
       "     <cc:Agent>\n",
       "      <dc:title>Matplotlib v3.4.2, https://matplotlib.org/</dc:title>\n",
       "     </cc:Agent>\n",
       "    </dc:creator>\n",
       "   </cc:Work>\n",
       "  </rdf:RDF>\n",
       " </metadata>\n",
       " <defs>\n",
       "  <style type=\"text/css\">*{stroke-linecap:butt;stroke-linejoin:round;}</style>\n",
       " </defs>\n",
       " <g id=\"figure_1\">\n",
       "  <g id=\"patch_1\">\n",
       "   <path d=\"M 0 288.95 \n",
       "L 427.3 288.95 \n",
       "L 427.3 0 \n",
       "L 0 0 \n",
       "z\n",
       "\" style=\"fill:none;\"/>\n",
       "  </g>\n",
       "  <g id=\"axes_1\">\n",
       "   <g id=\"patch_2\">\n",
       "    <path d=\"M 7.2 281.75 \n",
       "L 417.1 281.75 \n",
       "L 417.1 15.85 \n",
       "L 7.2 15.85 \n",
       "z\n",
       "\" style=\"fill:#ffffff;\"/>\n",
       "   </g>\n",
       "   <g id=\"matplotlib.axis_1\">\n",
       "    <g id=\"xtick_1\">\n",
       "     <g id=\"line2d_1\">\n",
       "      <defs>\n",
       "       <path d=\"M 0 0 \n",
       "L 0 3.5 \n",
       "\" id=\"m56562dd9f8\" style=\"stroke:#000000;stroke-width:0.8;\"/>\n",
       "      </defs>\n",
       "      <g>\n",
       "       <use style=\"stroke:#000000;stroke-width:0.8;\" x=\"25.831818\" xlink:href=\"#m56562dd9f8\" y=\"218.172353\"/>\n",
       "      </g>\n",
       "     </g>\n",
       "     <g id=\"text_1\">\n",
       "      <!-- −1 -->\n",
       "      <g transform=\"translate(20.131037 232.330166)scale(0.1 -0.1)\">\n",
       "       <defs>\n",
       "        <path d=\"M 3381 1997 \n",
       "L 356 1997 \n",
       "L 356 2522 \n",
       "L 3381 2522 \n",
       "L 3381 1997 \n",
       "z\n",
       "\" id=\"ArialMT-2212\" transform=\"scale(0.015625)\"/>\n",
       "        <path d=\"M 2384 0 \n",
       "L 1822 0 \n",
       "L 1822 3584 \n",
       "Q 1619 3391 1289 3197 \n",
       "Q 959 3003 697 2906 \n",
       "L 697 3450 \n",
       "Q 1169 3672 1522 3987 \n",
       "Q 1875 4303 2022 4600 \n",
       "L 2384 4600 \n",
       "L 2384 0 \n",
       "z\n",
       "\" id=\"ArialMT-31\" transform=\"scale(0.015625)\"/>\n",
       "       </defs>\n",
       "       <use xlink:href=\"#ArialMT-2212\"/>\n",
       "       <use x=\"58.398438\" xlink:href=\"#ArialMT-31\"/>\n",
       "      </g>\n",
       "     </g>\n",
       "    </g>\n",
       "    <g id=\"xtick_2\">\n",
       "     <g id=\"line2d_2\">\n",
       "      <g>\n",
       "       <use style=\"stroke:#000000;stroke-width:0.8;\" x=\"100.359091\" xlink:href=\"#m56562dd9f8\" y=\"218.172353\"/>\n",
       "      </g>\n",
       "     </g>\n",
       "     <g id=\"text_2\">\n",
       "      <!-- 0 -->\n",
       "      <g transform=\"translate(97.578622 232.330166)scale(0.1 -0.1)\">\n",
       "       <defs>\n",
       "        <path d=\"M 266 2259 \n",
       "Q 266 3072 433 3567 \n",
       "Q 600 4063 929 4331 \n",
       "Q 1259 4600 1759 4600 \n",
       "Q 2128 4600 2406 4451 \n",
       "Q 2684 4303 2865 4023 \n",
       "Q 3047 3744 3150 3342 \n",
       "Q 3253 2941 3253 2259 \n",
       "Q 3253 1453 3087 958 \n",
       "Q 2922 463 2592 192 \n",
       "Q 2263 -78 1759 -78 \n",
       "Q 1097 -78 719 397 \n",
       "Q 266 969 266 2259 \n",
       "z\n",
       "M 844 2259 \n",
       "Q 844 1131 1108 757 \n",
       "Q 1372 384 1759 384 \n",
       "Q 2147 384 2411 759 \n",
       "Q 2675 1134 2675 2259 \n",
       "Q 2675 3391 2411 3762 \n",
       "Q 2147 4134 1753 4134 \n",
       "Q 1366 4134 1134 3806 \n",
       "Q 844 3388 844 2259 \n",
       "z\n",
       "\" id=\"ArialMT-30\" transform=\"scale(0.015625)\"/>\n",
       "       </defs>\n",
       "       <use xlink:href=\"#ArialMT-30\"/>\n",
       "      </g>\n",
       "     </g>\n",
       "    </g>\n",
       "    <g id=\"xtick_3\">\n",
       "     <g id=\"line2d_3\">\n",
       "      <g>\n",
       "       <use style=\"stroke:#000000;stroke-width:0.8;\" x=\"174.886364\" xlink:href=\"#m56562dd9f8\" y=\"218.172353\"/>\n",
       "      </g>\n",
       "     </g>\n",
       "     <g id=\"text_3\">\n",
       "      <!-- 1 -->\n",
       "      <g transform=\"translate(172.105895 232.330166)scale(0.1 -0.1)\">\n",
       "       <use xlink:href=\"#ArialMT-31\"/>\n",
       "      </g>\n",
       "     </g>\n",
       "    </g>\n",
       "    <g id=\"xtick_4\">\n",
       "     <g id=\"line2d_4\">\n",
       "      <g>\n",
       "       <use style=\"stroke:#000000;stroke-width:0.8;\" x=\"249.413636\" xlink:href=\"#m56562dd9f8\" y=\"218.172353\"/>\n",
       "      </g>\n",
       "     </g>\n",
       "     <g id=\"text_4\">\n",
       "      <!-- 2 -->\n",
       "      <g transform=\"translate(246.633168 232.330166)scale(0.1 -0.1)\">\n",
       "       <defs>\n",
       "        <path d=\"M 3222 541 \n",
       "L 3222 0 \n",
       "L 194 0 \n",
       "Q 188 203 259 391 \n",
       "Q 375 700 629 1000 \n",
       "Q 884 1300 1366 1694 \n",
       "Q 2113 2306 2375 2664 \n",
       "Q 2638 3022 2638 3341 \n",
       "Q 2638 3675 2398 3904 \n",
       "Q 2159 4134 1775 4134 \n",
       "Q 1369 4134 1125 3890 \n",
       "Q 881 3647 878 3216 \n",
       "L 300 3275 \n",
       "Q 359 3922 746 4261 \n",
       "Q 1134 4600 1788 4600 \n",
       "Q 2447 4600 2831 4234 \n",
       "Q 3216 3869 3216 3328 \n",
       "Q 3216 3053 3103 2787 \n",
       "Q 2991 2522 2730 2228 \n",
       "Q 2469 1934 1863 1422 \n",
       "Q 1356 997 1212 845 \n",
       "Q 1069 694 975 541 \n",
       "L 3222 541 \n",
       "z\n",
       "\" id=\"ArialMT-32\" transform=\"scale(0.015625)\"/>\n",
       "       </defs>\n",
       "       <use xlink:href=\"#ArialMT-32\"/>\n",
       "      </g>\n",
       "     </g>\n",
       "    </g>\n",
       "    <g id=\"xtick_5\">\n",
       "     <g id=\"line2d_5\">\n",
       "      <g>\n",
       "       <use style=\"stroke:#000000;stroke-width:0.8;\" x=\"323.940909\" xlink:href=\"#m56562dd9f8\" y=\"218.172353\"/>\n",
       "      </g>\n",
       "     </g>\n",
       "     <g id=\"text_5\">\n",
       "      <!-- 3 -->\n",
       "      <g transform=\"translate(321.16044 232.330166)scale(0.1 -0.1)\">\n",
       "       <defs>\n",
       "        <path d=\"M 269 1209 \n",
       "L 831 1284 \n",
       "Q 928 806 1161 595 \n",
       "Q 1394 384 1728 384 \n",
       "Q 2125 384 2398 659 \n",
       "Q 2672 934 2672 1341 \n",
       "Q 2672 1728 2419 1979 \n",
       "Q 2166 2231 1775 2231 \n",
       "Q 1616 2231 1378 2169 \n",
       "L 1441 2663 \n",
       "Q 1497 2656 1531 2656 \n",
       "Q 1891 2656 2178 2843 \n",
       "Q 2466 3031 2466 3422 \n",
       "Q 2466 3731 2256 3934 \n",
       "Q 2047 4138 1716 4138 \n",
       "Q 1388 4138 1169 3931 \n",
       "Q 950 3725 888 3313 \n",
       "L 325 3413 \n",
       "Q 428 3978 793 4289 \n",
       "Q 1159 4600 1703 4600 \n",
       "Q 2078 4600 2393 4439 \n",
       "Q 2709 4278 2876 4000 \n",
       "Q 3044 3722 3044 3409 \n",
       "Q 3044 3113 2884 2869 \n",
       "Q 2725 2625 2413 2481 \n",
       "Q 2819 2388 3044 2092 \n",
       "Q 3269 1797 3269 1353 \n",
       "Q 3269 753 2831 336 \n",
       "Q 2394 -81 1725 -81 \n",
       "Q 1122 -81 723 278 \n",
       "Q 325 638 269 1209 \n",
       "z\n",
       "\" id=\"ArialMT-33\" transform=\"scale(0.015625)\"/>\n",
       "       </defs>\n",
       "       <use xlink:href=\"#ArialMT-33\"/>\n",
       "      </g>\n",
       "     </g>\n",
       "    </g>\n",
       "    <g id=\"xtick_6\">\n",
       "     <g id=\"line2d_6\">\n",
       "      <g>\n",
       "       <use style=\"stroke:#000000;stroke-width:0.8;\" x=\"398.468182\" xlink:href=\"#m56562dd9f8\" y=\"218.172353\"/>\n",
       "      </g>\n",
       "     </g>\n",
       "     <g id=\"text_6\">\n",
       "      <!-- 4 -->\n",
       "      <g transform=\"translate(395.687713 232.330166)scale(0.1 -0.1)\">\n",
       "       <defs>\n",
       "        <path d=\"M 2069 0 \n",
       "L 2069 1097 \n",
       "L 81 1097 \n",
       "L 81 1613 \n",
       "L 2172 4581 \n",
       "L 2631 4581 \n",
       "L 2631 1613 \n",
       "L 3250 1613 \n",
       "L 3250 1097 \n",
       "L 2631 1097 \n",
       "L 2631 0 \n",
       "L 2069 0 \n",
       "z\n",
       "M 2069 1613 \n",
       "L 2069 3678 \n",
       "L 634 1613 \n",
       "L 2069 1613 \n",
       "z\n",
       "\" id=\"ArialMT-34\" transform=\"scale(0.015625)\"/>\n",
       "       </defs>\n",
       "       <use xlink:href=\"#ArialMT-34\"/>\n",
       "      </g>\n",
       "     </g>\n",
       "    </g>\n",
       "    <g id=\"text_7\">\n",
       "     <!-- $x$ -->\n",
       "     <g transform=\"translate(414.1 245.475478)scale(0.1 -0.1)\">\n",
       "      <defs>\n",
       "       <path d=\"M 3841 3500 \n",
       "L 2234 1784 \n",
       "L 3219 0 \n",
       "L 2559 0 \n",
       "L 1819 1388 \n",
       "L 531 0 \n",
       "L -166 0 \n",
       "L 1556 1844 \n",
       "L 641 3500 \n",
       "L 1300 3500 \n",
       "L 1972 2234 \n",
       "L 3144 3500 \n",
       "L 3841 3500 \n",
       "z\n",
       "\" id=\"DejaVuSans-Oblique-78\" transform=\"scale(0.015625)\"/>\n",
       "      </defs>\n",
       "      <use transform=\"translate(0 0.3125)\" xlink:href=\"#DejaVuSans-Oblique-78\"/>\n",
       "     </g>\n",
       "    </g>\n",
       "   </g>\n",
       "   <g id=\"matplotlib.axis_2\">\n",
       "    <g id=\"ytick_1\">\n",
       "     <g id=\"line2d_7\">\n",
       "      <defs>\n",
       "       <path d=\"M 0 0 \n",
       "L -3.5 0 \n",
       "\" id=\"m0a6d1af4e9\" style=\"stroke:#000000;stroke-width:0.8;\"/>\n",
       "      </defs>\n",
       "      <g>\n",
       "       <use style=\"stroke:#000000;stroke-width:0.8;\" x=\"100.359091\" xlink:href=\"#m0a6d1af4e9\" y=\"253.01529\"/>\n",
       "      </g>\n",
       "     </g>\n",
       "     <g id=\"text_8\">\n",
       "      <!-- −10 -->\n",
       "      <g transform=\"translate(76.396591 256.594196)scale(0.1 -0.1)\">\n",
       "       <use xlink:href=\"#ArialMT-2212\"/>\n",
       "       <use x=\"58.398438\" xlink:href=\"#ArialMT-31\"/>\n",
       "       <use x=\"114.013672\" xlink:href=\"#ArialMT-30\"/>\n",
       "      </g>\n",
       "     </g>\n",
       "    </g>\n",
       "    <g id=\"ytick_2\">\n",
       "     <g id=\"line2d_8\">\n",
       "      <g>\n",
       "       <use style=\"stroke:#000000;stroke-width:0.8;\" x=\"100.359091\" xlink:href=\"#m0a6d1af4e9\" y=\"218.172353\"/>\n",
       "      </g>\n",
       "     </g>\n",
       "     <g id=\"text_9\">\n",
       "      <!-- 0 -->\n",
       "      <g transform=\"translate(87.798153 221.75126)scale(0.1 -0.1)\">\n",
       "       <use xlink:href=\"#ArialMT-30\"/>\n",
       "      </g>\n",
       "     </g>\n",
       "    </g>\n",
       "    <g id=\"ytick_3\">\n",
       "     <g id=\"line2d_9\">\n",
       "      <g>\n",
       "       <use style=\"stroke:#000000;stroke-width:0.8;\" x=\"100.359091\" xlink:href=\"#m0a6d1af4e9\" y=\"183.329416\"/>\n",
       "      </g>\n",
       "     </g>\n",
       "     <g id=\"text_10\">\n",
       "      <!-- 10 -->\n",
       "      <g transform=\"translate(82.237216 186.908323)scale(0.1 -0.1)\">\n",
       "       <use xlink:href=\"#ArialMT-31\"/>\n",
       "       <use x=\"55.615234\" xlink:href=\"#ArialMT-30\"/>\n",
       "      </g>\n",
       "     </g>\n",
       "    </g>\n",
       "    <g id=\"ytick_4\">\n",
       "     <g id=\"line2d_10\">\n",
       "      <g>\n",
       "       <use style=\"stroke:#000000;stroke-width:0.8;\" x=\"100.359091\" xlink:href=\"#m0a6d1af4e9\" y=\"148.486479\"/>\n",
       "      </g>\n",
       "     </g>\n",
       "     <g id=\"text_11\">\n",
       "      <!-- 20 -->\n",
       "      <g transform=\"translate(82.237216 152.065386)scale(0.1 -0.1)\">\n",
       "       <use xlink:href=\"#ArialMT-32\"/>\n",
       "       <use x=\"55.615234\" xlink:href=\"#ArialMT-30\"/>\n",
       "      </g>\n",
       "     </g>\n",
       "    </g>\n",
       "    <g id=\"ytick_5\">\n",
       "     <g id=\"line2d_11\">\n",
       "      <g>\n",
       "       <use style=\"stroke:#000000;stroke-width:0.8;\" x=\"100.359091\" xlink:href=\"#m0a6d1af4e9\" y=\"113.643543\"/>\n",
       "      </g>\n",
       "     </g>\n",
       "     <g id=\"text_12\">\n",
       "      <!-- 30 -->\n",
       "      <g transform=\"translate(82.237216 117.222449)scale(0.1 -0.1)\">\n",
       "       <use xlink:href=\"#ArialMT-33\"/>\n",
       "       <use x=\"55.615234\" xlink:href=\"#ArialMT-30\"/>\n",
       "      </g>\n",
       "     </g>\n",
       "    </g>\n",
       "    <g id=\"ytick_6\">\n",
       "     <g id=\"line2d_12\">\n",
       "      <g>\n",
       "       <use style=\"stroke:#000000;stroke-width:0.8;\" x=\"100.359091\" xlink:href=\"#m0a6d1af4e9\" y=\"78.800606\"/>\n",
       "      </g>\n",
       "     </g>\n",
       "     <g id=\"text_13\">\n",
       "      <!-- 40 -->\n",
       "      <g transform=\"translate(82.237216 82.379512)scale(0.1 -0.1)\">\n",
       "       <use xlink:href=\"#ArialMT-34\"/>\n",
       "       <use x=\"55.615234\" xlink:href=\"#ArialMT-30\"/>\n",
       "      </g>\n",
       "     </g>\n",
       "    </g>\n",
       "    <g id=\"ytick_7\">\n",
       "     <g id=\"line2d_13\">\n",
       "      <g>\n",
       "       <use style=\"stroke:#000000;stroke-width:0.8;\" x=\"100.359091\" xlink:href=\"#m0a6d1af4e9\" y=\"43.957669\"/>\n",
       "      </g>\n",
       "     </g>\n",
       "     <g id=\"text_14\">\n",
       "      <!-- 50 -->\n",
       "      <g transform=\"translate(82.237216 47.536575)scale(0.1 -0.1)\">\n",
       "       <defs>\n",
       "        <path d=\"M 266 1200 \n",
       "L 856 1250 \n",
       "Q 922 819 1161 601 \n",
       "Q 1400 384 1738 384 \n",
       "Q 2144 384 2425 690 \n",
       "Q 2706 997 2706 1503 \n",
       "Q 2706 1984 2436 2262 \n",
       "Q 2166 2541 1728 2541 \n",
       "Q 1456 2541 1237 2417 \n",
       "Q 1019 2294 894 2097 \n",
       "L 366 2166 \n",
       "L 809 4519 \n",
       "L 3088 4519 \n",
       "L 3088 3981 \n",
       "L 1259 3981 \n",
       "L 1013 2750 \n",
       "Q 1425 3038 1878 3038 \n",
       "Q 2478 3038 2890 2622 \n",
       "Q 3303 2206 3303 1553 \n",
       "Q 3303 931 2941 478 \n",
       "Q 2500 -78 1738 -78 \n",
       "Q 1113 -78 717 272 \n",
       "Q 322 622 266 1200 \n",
       "z\n",
       "\" id=\"ArialMT-35\" transform=\"scale(0.015625)\"/>\n",
       "       </defs>\n",
       "       <use xlink:href=\"#ArialMT-35\"/>\n",
       "       <use x=\"55.615234\" xlink:href=\"#ArialMT-30\"/>\n",
       "      </g>\n",
       "     </g>\n",
       "    </g>\n",
       "    <g id=\"text_15\">\n",
       "     <!-- $f{\\left(x \\right)}$ -->\n",
       "     <g transform=\"translate(70.409091 24.5)rotate(-90)scale(0.1 -0.1)\">\n",
       "      <defs>\n",
       "       <path d=\"M 3059 4863 \n",
       "L 2969 4384 \n",
       "L 2419 4384 \n",
       "Q 2106 4384 1964 4261 \n",
       "Q 1822 4138 1753 3809 \n",
       "L 1691 3500 \n",
       "L 2638 3500 \n",
       "L 2553 3053 \n",
       "L 1606 3053 \n",
       "L 1013 0 \n",
       "L 434 0 \n",
       "L 1031 3053 \n",
       "L 481 3053 \n",
       "L 563 3500 \n",
       "L 1113 3500 \n",
       "L 1159 3744 \n",
       "Q 1278 4363 1576 4613 \n",
       "Q 1875 4863 2516 4863 \n",
       "L 3059 4863 \n",
       "z\n",
       "\" id=\"DejaVuSans-Oblique-66\" transform=\"scale(0.015625)\"/>\n",
       "       <path d=\"M 1984 4856 \n",
       "Q 1566 4138 1362 3434 \n",
       "Q 1159 2731 1159 2009 \n",
       "Q 1159 1288 1364 580 \n",
       "Q 1569 -128 1984 -844 \n",
       "L 1484 -844 \n",
       "Q 1016 -109 783 600 \n",
       "Q 550 1309 550 2009 \n",
       "Q 550 2706 781 3412 \n",
       "Q 1013 4119 1484 4856 \n",
       "L 1984 4856 \n",
       "z\n",
       "\" id=\"DejaVuSans-28\" transform=\"scale(0.015625)\"/>\n",
       "       <path d=\"M 513 4856 \n",
       "L 1013 4856 \n",
       "Q 1481 4119 1714 3412 \n",
       "Q 1947 2706 1947 2009 \n",
       "Q 1947 1309 1714 600 \n",
       "Q 1481 -109 1013 -844 \n",
       "L 513 -844 \n",
       "Q 928 -128 1133 580 \n",
       "Q 1338 1288 1338 2009 \n",
       "Q 1338 2731 1133 3434 \n",
       "Q 928 4138 513 4856 \n",
       "z\n",
       "\" id=\"DejaVuSans-29\" transform=\"scale(0.015625)\"/>\n",
       "      </defs>\n",
       "      <use transform=\"translate(0 0.015625)\" xlink:href=\"#DejaVuSans-Oblique-66\"/>\n",
       "      <use transform=\"translate(35.205078 0.015625)\" xlink:href=\"#DejaVuSans-28\"/>\n",
       "      <use transform=\"translate(74.21875 0.015625)\" xlink:href=\"#DejaVuSans-Oblique-78\"/>\n",
       "      <use transform=\"translate(133.398438 0.015625)\" xlink:href=\"#DejaVuSans-29\"/>\n",
       "     </g>\n",
       "    </g>\n",
       "   </g>\n",
       "   <g id=\"line2d_14\">\n",
       "    <path clip-path=\"url(#p938a7ef0fe)\" d=\"M 25.831818 216.890553 \n",
       "L 32.590166 216.768883 \n",
       "L 39.678265 216.628848 \n",
       "L 47.284867 216.462991 \n",
       "L 55.003223 216.276471 \n",
       "L 61.762618 216.096481 \n",
       "L 68.894188 215.888025 \n",
       "L 75.147705 215.688077 \n",
       "L 81.036783 215.483808 \n",
       "L 86.896352 215.263894 \n",
       "L 93.095068 215.011641 \n",
       "L 100.340256 214.68894 \n",
       "L 106.646368 214.381362 \n",
       "L 113.172429 214.034432 \n",
       "L 119.671651 213.657379 \n",
       "L 125.784386 213.27145 \n",
       "L 131.183999 212.903193 \n",
       "L 136.557257 212.509267 \n",
       "L 141.226007 212.143156 \n",
       "L 146.823121 211.672917 \n",
       "L 152.481517 211.160239 \n",
       "L 158.702642 210.549783 \n",
       "L 165.205853 209.854758 \n",
       "L 170.500074 209.242406 \n",
       "L 176.482775 208.495993 \n",
       "L 181.367302 207.840559 \n",
       "L 186.563609 207.094482 \n",
       "L 191.5807 206.323058 \n",
       "L 196.08412 205.584971 \n",
       "L 202.979969 204.364704 \n",
       "L 208.679528 203.267321 \n",
       "L 214.502415 202.056075 \n",
       "L 219.4185 200.957141 \n",
       "L 224.092329 199.842952 \n",
       "L 228.955842 198.606917 \n",
       "L 233.777278 197.299318 \n",
       "L 238.789311 195.847308 \n",
       "L 244.145842 194.183661 \n",
       "L 248.682845 192.677932 \n",
       "L 253.738023 190.88865 \n",
       "L 259.829091 188.565112 \n",
       "L 264.838605 186.506588 \n",
       "L 270.671193 183.928836 \n",
       "L 276.92895 180.929381 \n",
       "L 282.372923 178.107079 \n",
       "L 287.757355 175.105321 \n",
       "L 293.831291 171.448384 \n",
       "L 299.980377 167.429785 \n",
       "L 305.65342 163.416431 \n",
       "L 312.413663 158.21738 \n",
       "L 318.264756 153.320644 \n",
       "L 324.448585 147.71009 \n",
       "L 330.665861 141.579779 \n",
       "L 336.490193 135.353936 \n",
       "L 341.754078 129.292917 \n",
       "L 347.677407 121.940591 \n",
       "L 353.204867 114.532037 \n",
       "L 358.5006 106.89964 \n",
       "L 364.336879 97.835526 \n",
       "L 371.220543 86.191208 \n",
       "L 377.640771 74.317463 \n",
       "L 382.909529 63.77943 \n",
       "L 387.659812 53.61821 \n",
       "L 392.96949 41.466868 \n",
       "L 398.468182 27.936364 \n",
       "\" style=\"fill:none;stroke:#1f77b4;stroke-linecap:square;stroke-width:1.5;\"/>\n",
       "   </g>\n",
       "   <g id=\"line2d_15\">\n",
       "    <path clip-path=\"url(#p938a7ef0fe)\" d=\"M 25.831818 269.663636 \n",
       "L 30.728272 265.544819 \n",
       "L 35.217622 261.957524 \n",
       "L 40.429101 258.012403 \n",
       "L 45.113407 254.660432 \n",
       "L 49.877922 251.432709 \n",
       "L 55.605319 247.785685 \n",
       "L 60.153216 245.063642 \n",
       "L 65.569703 242.013807 \n",
       "L 71.816159 238.743679 \n",
       "L 78.666945 235.444206 \n",
       "L 85.533021 232.419163 \n",
       "L 91.299689 230.081749 \n",
       "L 96.587574 228.090637 \n",
       "L 102.41691 226.053079 \n",
       "L 108.040425 224.232745 \n",
       "L 112.999109 222.73706 \n",
       "L 117.738264 221.396147 \n",
       "L 122.677548 220.083466 \n",
       "L 128.121401 218.728165 \n",
       "L 133.578243 217.456128 \n",
       "L 138.744754 216.32244 \n",
       "L 144.754517 215.078621 \n",
       "L 150.776568 213.900143 \n",
       "L 156.170364 212.891177 \n",
       "L 161.664787 211.898145 \n",
       "L 166.306476 211.078992 \n",
       "L 171.653567 210.149212 \n",
       "L 176.969628 209.230544 \n",
       "L 181.617157 208.424727 \n",
       "L 186.552461 207.558973 \n",
       "L 192.552886 206.481844 \n",
       "L 197.78226 205.511332 \n",
       "L 203.324198 204.440116 \n",
       "L 208.660054 203.357528 \n",
       "L 215.362995 201.911677 \n",
       "L 221.023122 200.60344 \n",
       "L 225.858466 199.413459 \n",
       "L 231.258744 197.996505 \n",
       "L 237.003046 196.37683 \n",
       "L 243.683077 194.33219 \n",
       "L 251.156761 191.817448 \n",
       "L 259.229354 188.802744 \n",
       "L 266.474395 185.806962 \n",
       "L 273.282456 182.719805 \n",
       "L 279.074714 179.870715 \n",
       "L 285.600504 176.399756 \n",
       "L 291.360397 173.093088 \n",
       "L 298.064471 168.940905 \n",
       "L 303.471403 165.342152 \n",
       "L 309.463968 161.080039 \n",
       "L 314.892941 156.95963 \n",
       "L 320.697096 152.270349 \n",
       "L 327.916025 146.010378 \n",
       "L 335.025185 139.36097 \n",
       "L 341.265813 133.109791 \n",
       "L 347.731947 126.207417 \n",
       "L 354.098005 118.972859 \n",
       "L 360.018905 111.839089 \n",
       "L 366.601087 103.434208 \n",
       "L 372.953985 94.832378 \n",
       "L 379.620743 85.270667 \n",
       "L 385.891478 75.760761 \n",
       "L 392.197659 65.676638 \n",
       "L 398.468182 55.116624 \n",
       "\" style=\"fill:none;stroke:#ff7f0e;stroke-linecap:square;stroke-width:1.5;\"/>\n",
       "   </g>\n",
       "   <g id=\"line2d_16\">\n",
       "    <path clip-path=\"url(#p938a7ef0fe)\" d=\"M 25.831818 153.808249 \n",
       "L 32.13903 158.073738 \n",
       "L 37.584267 161.607967 \n",
       "L 42.5528 164.712876 \n",
       "L 47.977232 167.972024 \n",
       "L 52.60492 170.644654 \n",
       "L 57.988611 173.628984 \n",
       "L 63.808513 176.703999 \n",
       "L 69.58827 179.602422 \n",
       "L 74.910995 182.134693 \n",
       "L 79.941615 184.407285 \n",
       "L 85.474887 186.771479 \n",
       "L 90.575256 188.825009 \n",
       "L 95.184055 190.576914 \n",
       "L 100.169585 192.361163 \n",
       "L 104.869095 193.937564 \n",
       "L 109.41389 195.364695 \n",
       "L 116.586352 197.422175 \n",
       "L 124.582261 199.434775 \n",
       "L 131.535241 200.943973 \n",
       "L 137.378892 202.039073 \n",
       "L 143.393925 203.000972 \n",
       "L 148.798315 203.722188 \n",
       "L 154.38604 204.32552 \n",
       "L 158.016634 204.639965 \n",
       "L 159.60264 204.758153 \n",
       "L 161.193757 204.865007 \n",
       "L 163.219412 204.984063 \n",
       "L 164.915664 205.069126 \n",
       "L 165.740123 205.105655 \n",
       "L 166.728156 205.14528 \n",
       "L 167.568625 205.175425 \n",
       "L 168.323306 205.199704 \n",
       "L 169.026237 205.219943 \n",
       "L 169.798627 205.239541 \n",
       "L 170.640177 205.257745 \n",
       "L 171.4096 205.271517 \n",
       "L 172.313132 205.284186 \n",
       "L 173.101633 205.29215 \n",
       "L 173.818372 205.296889 \n",
       "L 174.491075 205.29917 \n",
       "L 174.948079 205.299524 \n",
       "L 175.394308 205.298935 \n",
       "L 176.242004 205.295273 \n",
       "L 176.93463 205.289809 \n",
       "L 177.741227 205.280643 \n",
       "L 178.607864 205.267434 \n",
       "L 179.574305 205.248599 \n",
       "L 180.555372 205.225049 \n",
       "L 181.712324 205.191546 \n",
       "L 182.443212 205.167182 \n",
       "L 183.123017 205.142299 \n",
       "L 184.493896 205.085605 \n",
       "L 186.04947 205.010722 \n",
       "L 187.640137 204.92255 \n",
       "L 190.225756 204.754202 \n",
       "L 193.303022 204.513456 \n",
       "L 195.860301 204.279995 \n",
       "L 198.789609 203.975322 \n",
       "L 204.638091 203.248051 \n",
       "L 210.829336 202.305398 \n",
       "L 216.30944 201.322785 \n",
       "L 222.058504 200.142327 \n",
       "L 227.703362 198.834202 \n",
       "L 234.049302 197.187256 \n",
       "L 240.372627 195.36051 \n",
       "L 246.897397 193.281279 \n",
       "L 254.754876 190.515448 \n",
       "L 261.242443 188.016136 \n",
       "L 266.315356 185.925897 \n",
       "L 270.799015 183.979147 \n",
       "L 276.073619 181.569688 \n",
       "L 282.119282 178.649391 \n",
       "L 287.448498 175.934675 \n",
       "L 292.751735 173.102509 \n",
       "L 298.453984 169.911808 \n",
       "L 303.298295 167.082759 \n",
       "L 309.27938 163.439779 \n",
       "L 315.593328 159.41414 \n",
       "L 322.93178 154.503102 \n",
       "L 329.474215 149.9143 \n",
       "L 334.604548 146.177141 \n",
       "L 340.328213 141.863792 \n",
       "L 345.825709 137.577912 \n",
       "L 351.207686 133.246389 \n",
       "L 357.262821 128.212591 \n",
       "L 362.291739 123.902729 \n",
       "L 367.793593 119.053272 \n",
       "L 373.078502 114.262915 \n",
       "L 378.847747 108.885741 \n",
       "L 384.738635 103.235996 \n",
       "L 391.931628 96.119331 \n",
       "L 398.468182 89.444146 \n",
       "\" style=\"fill:none;stroke:#2ca02c;stroke-linecap:square;stroke-width:1.5;\"/>\n",
       "   </g>\n",
       "   <g id=\"line2d_17\">\n",
       "    <path clip-path=\"url(#p938a7ef0fe)\" d=\"M 25.831818 269.663636 \n",
       "L 32.44533 267.378981 \n",
       "L 38.479453 265.294478 \n",
       "L 44.251521 263.300502 \n",
       "L 51.042423 260.954567 \n",
       "L 56.038722 259.228582 \n",
       "L 62.127735 257.125117 \n",
       "L 67.930507 255.120534 \n",
       "L 73.676466 253.135577 \n",
       "L 80.303254 250.846336 \n",
       "L 85.862358 248.925929 \n",
       "L 91.382337 247.019038 \n",
       "L 96.459871 245.26499 \n",
       "L 102.097901 243.317318 \n",
       "L 107.173791 241.563839 \n",
       "L 112.025299 239.887873 \n",
       "L 117.645222 237.946456 \n",
       "L 123.937054 235.772926 \n",
       "L 131.232751 233.252608 \n",
       "L 137.988535 230.918805 \n",
       "L 144.028993 228.832113 \n",
       "L 150.166559 226.711875 \n",
       "L 156.409604 224.555198 \n",
       "L 161.814992 222.687893 \n",
       "L 167.896431 220.587044 \n",
       "L 174.314222 218.370001 \n",
       "L 180.905065 216.093177 \n",
       "L 188.08374 213.613285 \n",
       "L 196.070208 210.854339 \n",
       "L 202.254411 208.71799 \n",
       "L 207.644023 206.856134 \n",
       "L 214.623579 204.445028 \n",
       "L 220.929193 202.266737 \n",
       "L 227.359419 200.045399 \n",
       "L 233.799722 197.820579 \n",
       "L 239.09699 195.990624 \n",
       "L 245.05423 193.93268 \n",
       "L 250.663136 191.995069 \n",
       "L 256.93049 189.829995 \n",
       "L 262.941194 187.753582 \n",
       "L 268.072025 185.981122 \n",
       "L 274.097947 183.899452 \n",
       "L 279.512938 182.028829 \n",
       "L 286.800421 179.511349 \n",
       "L 293.448082 177.214897 \n",
       "L 298.212534 175.569005 \n",
       "L 303.676397 173.681499 \n",
       "L 308.828151 171.901812 \n",
       "L 314.307374 170.009 \n",
       "L 320.345094 167.923254 \n",
       "L 325.860677 166.017881 \n",
       "L 330.587734 164.384907 \n",
       "L 335.935248 162.537594 \n",
       "L 342.453013 160.286015 \n",
       "L 347.965385 158.381752 \n",
       "L 353.059643 156.621927 \n",
       "L 358.110992 154.876926 \n",
       "L 363.504652 153.013671 \n",
       "L 369.251507 151.028405 \n",
       "L 374.648962 149.16384 \n",
       "L 379.5792 147.460677 \n",
       "L 383.985257 145.938593 \n",
       "L 388.794686 144.277163 \n",
       "L 394.027337 142.46953 \n",
       "L 398.468182 140.935429 \n",
       "\" style=\"fill:none;stroke:#d62728;stroke-linecap:square;stroke-width:1.5;\"/>\n",
       "   </g>\n",
       "   <g id=\"patch_3\">\n",
       "    <path d=\"M 100.359091 281.75 \n",
       "L 100.359091 15.85 \n",
       "\" style=\"fill:none;stroke:#000000;stroke-linecap:square;stroke-linejoin:miter;stroke-width:0.8;\"/>\n",
       "   </g>\n",
       "   <g id=\"patch_4\">\n",
       "    <path d=\"M 417.1 281.75 \n",
       "L 417.1 15.85 \n",
       "\" style=\"fill:none;\"/>\n",
       "   </g>\n",
       "   <g id=\"patch_5\">\n",
       "    <path d=\"M 7.2 218.172353 \n",
       "L 417.1 218.172353 \n",
       "\" style=\"fill:none;stroke:#000000;stroke-linecap:square;stroke-linejoin:miter;stroke-width:0.8;\"/>\n",
       "   </g>\n",
       "   <g id=\"patch_6\">\n",
       "    <path d=\"M 7.2 15.85 \n",
       "L 417.1 15.85 \n",
       "\" style=\"fill:none;\"/>\n",
       "   </g>\n",
       "  </g>\n",
       " </g>\n",
       " <defs>\n",
       "  <clipPath id=\"p938a7ef0fe\">\n",
       "   <rect height=\"265.9\" width=\"409.9\" x=\"7.2\" y=\"15.85\"/>\n",
       "  </clipPath>\n",
       " </defs>\n",
       "</svg>\n"
      ],
      "text/plain": [
       "<Figure size 432x288 with 1 Axes>"
      ]
     },
     "metadata": {
      "needs_background": "light"
     },
     "output_type": "display_data"
    }
   ],
   "source": [
    "sp.plot(sp.exp(x), expt3, expt2, expt1, (x, -1, 4));"
   ]
  },
  {
   "cell_type": "code",
   "execution_count": 94,
   "id": "fecec721",
   "metadata": {},
   "outputs": [
    {
     "data": {
      "image/svg+xml": [
       "<?xml version=\"1.0\" encoding=\"utf-8\" standalone=\"no\"?>\n",
       "<!DOCTYPE svg PUBLIC \"-//W3C//DTD SVG 1.1//EN\"\n",
       "  \"http://www.w3.org/Graphics/SVG/1.1/DTD/svg11.dtd\">\n",
       "<svg height=\"286.952296pt\" version=\"1.1\" viewBox=\"0 0 427.3 286.952296\" width=\"427.3pt\" xmlns=\"http://www.w3.org/2000/svg\" xmlns:xlink=\"http://www.w3.org/1999/xlink\">\n",
       " <metadata>\n",
       "  <rdf:RDF xmlns:cc=\"http://creativecommons.org/ns#\" xmlns:dc=\"http://purl.org/dc/elements/1.1/\" xmlns:rdf=\"http://www.w3.org/1999/02/22-rdf-syntax-ns#\">\n",
       "   <cc:Work>\n",
       "    <dc:type rdf:resource=\"http://purl.org/dc/dcmitype/StillImage\"/>\n",
       "    <dc:date>2024-03-11T21:04:04.619127</dc:date>\n",
       "    <dc:format>image/svg+xml</dc:format>\n",
       "    <dc:creator>\n",
       "     <cc:Agent>\n",
       "      <dc:title>Matplotlib v3.4.2, https://matplotlib.org/</dc:title>\n",
       "     </cc:Agent>\n",
       "    </dc:creator>\n",
       "   </cc:Work>\n",
       "  </rdf:RDF>\n",
       " </metadata>\n",
       " <defs>\n",
       "  <style type=\"text/css\">*{stroke-linecap:butt;stroke-linejoin:round;}</style>\n",
       " </defs>\n",
       " <g id=\"figure_1\">\n",
       "  <g id=\"patch_1\">\n",
       "   <path d=\"M 0 286.952296 \n",
       "L 427.3 286.952296 \n",
       "L 427.3 0 \n",
       "L 0 0 \n",
       "z\n",
       "\" style=\"fill:none;\"/>\n",
       "  </g>\n",
       "  <g id=\"axes_1\">\n",
       "   <g id=\"patch_2\">\n",
       "    <path d=\"M 7.2 261.633532 \n",
       "L 417.1 261.633532 \n",
       "L 417.1 15.85 \n",
       "L 7.2 15.85 \n",
       "z\n",
       "\" style=\"fill:#ffffff;\"/>\n",
       "   </g>\n",
       "   <g id=\"matplotlib.axis_1\">\n",
       "    <g id=\"xtick_1\">\n",
       "     <g id=\"line2d_1\">\n",
       "      <defs>\n",
       "       <path d=\"M 0 0 \n",
       "L 0 3.5 \n",
       "\" id=\"m29de3980ce\" style=\"stroke:#000000;stroke-width:0.8;\"/>\n",
       "      </defs>\n",
       "      <g>\n",
       "       <use style=\"stroke:#000000;stroke-width:0.8;\" x=\"63.095455\" xlink:href=\"#m29de3980ce\" y=\"250.461671\"/>\n",
       "      </g>\n",
       "     </g>\n",
       "     <g id=\"text_1\">\n",
       "      <!-- −4 -->\n",
       "      <g transform=\"translate(57.394673 264.619484)scale(0.1 -0.1)\">\n",
       "       <defs>\n",
       "        <path d=\"M 3381 1997 \n",
       "L 356 1997 \n",
       "L 356 2522 \n",
       "L 3381 2522 \n",
       "L 3381 1997 \n",
       "z\n",
       "\" id=\"ArialMT-2212\" transform=\"scale(0.015625)\"/>\n",
       "        <path d=\"M 2069 0 \n",
       "L 2069 1097 \n",
       "L 81 1097 \n",
       "L 81 1613 \n",
       "L 2172 4581 \n",
       "L 2631 4581 \n",
       "L 2631 1613 \n",
       "L 3250 1613 \n",
       "L 3250 1097 \n",
       "L 2631 1097 \n",
       "L 2631 0 \n",
       "L 2069 0 \n",
       "z\n",
       "M 2069 1613 \n",
       "L 2069 3678 \n",
       "L 634 1613 \n",
       "L 2069 1613 \n",
       "z\n",
       "\" id=\"ArialMT-34\" transform=\"scale(0.015625)\"/>\n",
       "       </defs>\n",
       "       <use xlink:href=\"#ArialMT-2212\"/>\n",
       "       <use x=\"58.398438\" xlink:href=\"#ArialMT-34\"/>\n",
       "      </g>\n",
       "     </g>\n",
       "    </g>\n",
       "    <g id=\"xtick_2\">\n",
       "     <g id=\"line2d_2\">\n",
       "      <g>\n",
       "       <use style=\"stroke:#000000;stroke-width:0.8;\" x=\"137.622727\" xlink:href=\"#m29de3980ce\" y=\"250.461671\"/>\n",
       "      </g>\n",
       "     </g>\n",
       "     <g id=\"text_2\">\n",
       "      <!-- −2 -->\n",
       "      <g transform=\"translate(131.921946 264.619484)scale(0.1 -0.1)\">\n",
       "       <defs>\n",
       "        <path d=\"M 3222 541 \n",
       "L 3222 0 \n",
       "L 194 0 \n",
       "Q 188 203 259 391 \n",
       "Q 375 700 629 1000 \n",
       "Q 884 1300 1366 1694 \n",
       "Q 2113 2306 2375 2664 \n",
       "Q 2638 3022 2638 3341 \n",
       "Q 2638 3675 2398 3904 \n",
       "Q 2159 4134 1775 4134 \n",
       "Q 1369 4134 1125 3890 \n",
       "Q 881 3647 878 3216 \n",
       "L 300 3275 \n",
       "Q 359 3922 746 4261 \n",
       "Q 1134 4600 1788 4600 \n",
       "Q 2447 4600 2831 4234 \n",
       "Q 3216 3869 3216 3328 \n",
       "Q 3216 3053 3103 2787 \n",
       "Q 2991 2522 2730 2228 \n",
       "Q 2469 1934 1863 1422 \n",
       "Q 1356 997 1212 845 \n",
       "Q 1069 694 975 541 \n",
       "L 3222 541 \n",
       "z\n",
       "\" id=\"ArialMT-32\" transform=\"scale(0.015625)\"/>\n",
       "       </defs>\n",
       "       <use xlink:href=\"#ArialMT-2212\"/>\n",
       "       <use x=\"58.398438\" xlink:href=\"#ArialMT-32\"/>\n",
       "      </g>\n",
       "     </g>\n",
       "    </g>\n",
       "    <g id=\"xtick_3\">\n",
       "     <g id=\"line2d_3\">\n",
       "      <g>\n",
       "       <use style=\"stroke:#000000;stroke-width:0.8;\" x=\"212.15\" xlink:href=\"#m29de3980ce\" y=\"250.461671\"/>\n",
       "      </g>\n",
       "     </g>\n",
       "     <g id=\"text_3\">\n",
       "      <!-- 0 -->\n",
       "      <g transform=\"translate(209.369531 264.619484)scale(0.1 -0.1)\">\n",
       "       <defs>\n",
       "        <path d=\"M 266 2259 \n",
       "Q 266 3072 433 3567 \n",
       "Q 600 4063 929 4331 \n",
       "Q 1259 4600 1759 4600 \n",
       "Q 2128 4600 2406 4451 \n",
       "Q 2684 4303 2865 4023 \n",
       "Q 3047 3744 3150 3342 \n",
       "Q 3253 2941 3253 2259 \n",
       "Q 3253 1453 3087 958 \n",
       "Q 2922 463 2592 192 \n",
       "Q 2263 -78 1759 -78 \n",
       "Q 1097 -78 719 397 \n",
       "Q 266 969 266 2259 \n",
       "z\n",
       "M 844 2259 \n",
       "Q 844 1131 1108 757 \n",
       "Q 1372 384 1759 384 \n",
       "Q 2147 384 2411 759 \n",
       "Q 2675 1134 2675 2259 \n",
       "Q 2675 3391 2411 3762 \n",
       "Q 2147 4134 1753 4134 \n",
       "Q 1366 4134 1134 3806 \n",
       "Q 844 3388 844 2259 \n",
       "z\n",
       "\" id=\"ArialMT-30\" transform=\"scale(0.015625)\"/>\n",
       "       </defs>\n",
       "       <use xlink:href=\"#ArialMT-30\"/>\n",
       "      </g>\n",
       "     </g>\n",
       "    </g>\n",
       "    <g id=\"xtick_4\">\n",
       "     <g id=\"line2d_4\">\n",
       "      <g>\n",
       "       <use style=\"stroke:#000000;stroke-width:0.8;\" x=\"286.677273\" xlink:href=\"#m29de3980ce\" y=\"250.461671\"/>\n",
       "      </g>\n",
       "     </g>\n",
       "     <g id=\"text_4\">\n",
       "      <!-- 2 -->\n",
       "      <g transform=\"translate(283.896804 264.619484)scale(0.1 -0.1)\">\n",
       "       <use xlink:href=\"#ArialMT-32\"/>\n",
       "      </g>\n",
       "     </g>\n",
       "    </g>\n",
       "    <g id=\"xtick_5\">\n",
       "     <g id=\"line2d_5\">\n",
       "      <g>\n",
       "       <use style=\"stroke:#000000;stroke-width:0.8;\" x=\"361.204545\" xlink:href=\"#m29de3980ce\" y=\"250.461671\"/>\n",
       "      </g>\n",
       "     </g>\n",
       "     <g id=\"text_5\">\n",
       "      <!-- 4 -->\n",
       "      <g transform=\"translate(358.424077 264.619484)scale(0.1 -0.1)\">\n",
       "       <use xlink:href=\"#ArialMT-34\"/>\n",
       "      </g>\n",
       "     </g>\n",
       "    </g>\n",
       "    <g id=\"text_6\">\n",
       "     <!-- $x$ -->\n",
       "     <g transform=\"translate(414.1 277.764796)scale(0.1 -0.1)\">\n",
       "      <defs>\n",
       "       <path d=\"M 3841 3500 \n",
       "L 2234 1784 \n",
       "L 3219 0 \n",
       "L 2559 0 \n",
       "L 1819 1388 \n",
       "L 531 0 \n",
       "L -166 0 \n",
       "L 1556 1844 \n",
       "L 641 3500 \n",
       "L 1300 3500 \n",
       "L 1972 2234 \n",
       "L 3144 3500 \n",
       "L 3841 3500 \n",
       "z\n",
       "\" id=\"DejaVuSans-Oblique-78\" transform=\"scale(0.015625)\"/>\n",
       "      </defs>\n",
       "      <use transform=\"translate(0 0.3125)\" xlink:href=\"#DejaVuSans-Oblique-78\"/>\n",
       "     </g>\n",
       "    </g>\n",
       "   </g>\n",
       "   <g id=\"matplotlib.axis_2\">\n",
       "    <g id=\"ytick_1\">\n",
       "     <g id=\"line2d_6\">\n",
       "      <defs>\n",
       "       <path d=\"M 0 0 \n",
       "L -3.5 0 \n",
       "\" id=\"m7e1dc12f1f\" style=\"stroke:#000000;stroke-width:0.8;\"/>\n",
       "      </defs>\n",
       "      <g>\n",
       "       <use style=\"stroke:#000000;stroke-width:0.8;\" x=\"212.15\" xlink:href=\"#m7e1dc12f1f\" y=\"250.461671\"/>\n",
       "      </g>\n",
       "     </g>\n",
       "     <g id=\"text_7\">\n",
       "      <!-- 0 -->\n",
       "      <g transform=\"translate(199.589063 254.040577)scale(0.1 -0.1)\">\n",
       "       <use xlink:href=\"#ArialMT-30\"/>\n",
       "      </g>\n",
       "     </g>\n",
       "    </g>\n",
       "    <g id=\"ytick_2\">\n",
       "     <g id=\"line2d_7\">\n",
       "      <g>\n",
       "       <use style=\"stroke:#000000;stroke-width:0.8;\" x=\"212.15\" xlink:href=\"#m7e1dc12f1f\" y=\"205.773733\"/>\n",
       "      </g>\n",
       "     </g>\n",
       "     <g id=\"text_8\">\n",
       "      <!-- 5 -->\n",
       "      <g transform=\"translate(199.589063 209.352639)scale(0.1 -0.1)\">\n",
       "       <defs>\n",
       "        <path d=\"M 266 1200 \n",
       "L 856 1250 \n",
       "Q 922 819 1161 601 \n",
       "Q 1400 384 1738 384 \n",
       "Q 2144 384 2425 690 \n",
       "Q 2706 997 2706 1503 \n",
       "Q 2706 1984 2436 2262 \n",
       "Q 2166 2541 1728 2541 \n",
       "Q 1456 2541 1237 2417 \n",
       "Q 1019 2294 894 2097 \n",
       "L 366 2166 \n",
       "L 809 4519 \n",
       "L 3088 4519 \n",
       "L 3088 3981 \n",
       "L 1259 3981 \n",
       "L 1013 2750 \n",
       "Q 1425 3038 1878 3038 \n",
       "Q 2478 3038 2890 2622 \n",
       "Q 3303 2206 3303 1553 \n",
       "Q 3303 931 2941 478 \n",
       "Q 2500 -78 1738 -78 \n",
       "Q 1113 -78 717 272 \n",
       "Q 322 622 266 1200 \n",
       "z\n",
       "\" id=\"ArialMT-35\" transform=\"scale(0.015625)\"/>\n",
       "       </defs>\n",
       "       <use xlink:href=\"#ArialMT-35\"/>\n",
       "      </g>\n",
       "     </g>\n",
       "    </g>\n",
       "    <g id=\"ytick_3\">\n",
       "     <g id=\"line2d_8\">\n",
       "      <g>\n",
       "       <use style=\"stroke:#000000;stroke-width:0.8;\" x=\"212.15\" xlink:href=\"#m7e1dc12f1f\" y=\"161.085794\"/>\n",
       "      </g>\n",
       "     </g>\n",
       "     <g id=\"text_9\">\n",
       "      <!-- 10 -->\n",
       "      <g transform=\"translate(194.028125 164.6647)scale(0.1 -0.1)\">\n",
       "       <defs>\n",
       "        <path d=\"M 2384 0 \n",
       "L 1822 0 \n",
       "L 1822 3584 \n",
       "Q 1619 3391 1289 3197 \n",
       "Q 959 3003 697 2906 \n",
       "L 697 3450 \n",
       "Q 1169 3672 1522 3987 \n",
       "Q 1875 4303 2022 4600 \n",
       "L 2384 4600 \n",
       "L 2384 0 \n",
       "z\n",
       "\" id=\"ArialMT-31\" transform=\"scale(0.015625)\"/>\n",
       "       </defs>\n",
       "       <use xlink:href=\"#ArialMT-31\"/>\n",
       "       <use x=\"55.615234\" xlink:href=\"#ArialMT-30\"/>\n",
       "      </g>\n",
       "     </g>\n",
       "    </g>\n",
       "    <g id=\"ytick_4\">\n",
       "     <g id=\"line2d_9\">\n",
       "      <g>\n",
       "       <use style=\"stroke:#000000;stroke-width:0.8;\" x=\"212.15\" xlink:href=\"#m7e1dc12f1f\" y=\"116.397856\"/>\n",
       "      </g>\n",
       "     </g>\n",
       "     <g id=\"text_10\">\n",
       "      <!-- 15 -->\n",
       "      <g transform=\"translate(194.028125 119.976762)scale(0.1 -0.1)\">\n",
       "       <use xlink:href=\"#ArialMT-31\"/>\n",
       "       <use x=\"55.615234\" xlink:href=\"#ArialMT-35\"/>\n",
       "      </g>\n",
       "     </g>\n",
       "    </g>\n",
       "    <g id=\"ytick_5\">\n",
       "     <g id=\"line2d_10\">\n",
       "      <g>\n",
       "       <use style=\"stroke:#000000;stroke-width:0.8;\" x=\"212.15\" xlink:href=\"#m7e1dc12f1f\" y=\"71.709917\"/>\n",
       "      </g>\n",
       "     </g>\n",
       "     <g id=\"text_11\">\n",
       "      <!-- 20 -->\n",
       "      <g transform=\"translate(194.028125 75.288823)scale(0.1 -0.1)\">\n",
       "       <use xlink:href=\"#ArialMT-32\"/>\n",
       "       <use x=\"55.615234\" xlink:href=\"#ArialMT-30\"/>\n",
       "      </g>\n",
       "     </g>\n",
       "    </g>\n",
       "    <g id=\"ytick_6\">\n",
       "     <g id=\"line2d_11\">\n",
       "      <g>\n",
       "       <use style=\"stroke:#000000;stroke-width:0.8;\" x=\"212.15\" xlink:href=\"#m7e1dc12f1f\" y=\"27.021979\"/>\n",
       "      </g>\n",
       "     </g>\n",
       "     <g id=\"text_12\">\n",
       "      <!-- 25 -->\n",
       "      <g transform=\"translate(194.028125 30.600885)scale(0.1 -0.1)\">\n",
       "       <use xlink:href=\"#ArialMT-32\"/>\n",
       "       <use x=\"55.615234\" xlink:href=\"#ArialMT-35\"/>\n",
       "      </g>\n",
       "     </g>\n",
       "    </g>\n",
       "    <g id=\"text_13\">\n",
       "     <!-- $f{\\left(x \\right)}$ -->\n",
       "     <g transform=\"translate(188.040625 24.5)rotate(-90)scale(0.1 -0.1)\">\n",
       "      <defs>\n",
       "       <path d=\"M 3059 4863 \n",
       "L 2969 4384 \n",
       "L 2419 4384 \n",
       "Q 2106 4384 1964 4261 \n",
       "Q 1822 4138 1753 3809 \n",
       "L 1691 3500 \n",
       "L 2638 3500 \n",
       "L 2553 3053 \n",
       "L 1606 3053 \n",
       "L 1013 0 \n",
       "L 434 0 \n",
       "L 1031 3053 \n",
       "L 481 3053 \n",
       "L 563 3500 \n",
       "L 1113 3500 \n",
       "L 1159 3744 \n",
       "Q 1278 4363 1576 4613 \n",
       "Q 1875 4863 2516 4863 \n",
       "L 3059 4863 \n",
       "z\n",
       "\" id=\"DejaVuSans-Oblique-66\" transform=\"scale(0.015625)\"/>\n",
       "       <path d=\"M 1984 4856 \n",
       "Q 1566 4138 1362 3434 \n",
       "Q 1159 2731 1159 2009 \n",
       "Q 1159 1288 1364 580 \n",
       "Q 1569 -128 1984 -844 \n",
       "L 1484 -844 \n",
       "Q 1016 -109 783 600 \n",
       "Q 550 1309 550 2009 \n",
       "Q 550 2706 781 3412 \n",
       "Q 1013 4119 1484 4856 \n",
       "L 1984 4856 \n",
       "z\n",
       "\" id=\"DejaVuSans-28\" transform=\"scale(0.015625)\"/>\n",
       "       <path d=\"M 513 4856 \n",
       "L 1013 4856 \n",
       "Q 1481 4119 1714 3412 \n",
       "Q 1947 2706 1947 2009 \n",
       "Q 1947 1309 1714 600 \n",
       "Q 1481 -109 1013 -844 \n",
       "L 513 -844 \n",
       "Q 928 -128 1133 580 \n",
       "Q 1338 1288 1338 2009 \n",
       "Q 1338 2731 1133 3434 \n",
       "Q 928 4138 513 4856 \n",
       "z\n",
       "\" id=\"DejaVuSans-29\" transform=\"scale(0.015625)\"/>\n",
       "      </defs>\n",
       "      <use transform=\"translate(0 0.015625)\" xlink:href=\"#DejaVuSans-Oblique-66\"/>\n",
       "      <use transform=\"translate(35.205078 0.015625)\" xlink:href=\"#DejaVuSans-28\"/>\n",
       "      <use transform=\"translate(74.21875 0.015625)\" xlink:href=\"#DejaVuSans-Oblique-78\"/>\n",
       "      <use transform=\"translate(133.398438 0.015625)\" xlink:href=\"#DejaVuSans-29\"/>\n",
       "     </g>\n",
       "    </g>\n",
       "   </g>\n",
       "   <g id=\"line2d_12\">\n",
       "    <path clip-path=\"url(#paf762ffc2a)\" d=\"M 25.831818 27.021979 \n",
       "L 32.022576 41.623671 \n",
       "L 38.255824 55.827127 \n",
       "L 45.031786 70.699865 \n",
       "L 51.923686 85.220778 \n",
       "L 57.211778 95.947973 \n",
       "L 63.534195 108.300876 \n",
       "L 69.49607 119.477947 \n",
       "L 76.503381 132.030016 \n",
       "L 83.384417 143.740779 \n",
       "L 89.557252 153.727613 \n",
       "L 95.942905 163.542587 \n",
       "L 103.332756 174.245822 \n",
       "L 108.794629 181.704825 \n",
       "L 114.513887 189.103725 \n",
       "L 120.469031 196.360305 \n",
       "L 126.026042 202.719979 \n",
       "L 132.638566 209.769673 \n",
       "L 138.745023 215.779932 \n",
       "L 144.873779 221.329489 \n",
       "L 150.286059 225.828234 \n",
       "L 156.460602 230.500092 \n",
       "L 163.394278 235.161333 \n",
       "L 169.847935 238.94378 \n",
       "L 177.080046 242.545408 \n",
       "L 183.212614 245.071923 \n",
       "L 186.130372 246.104024 \n",
       "L 189.331515 247.110293 \n",
       "L 192.508658 247.978583 \n",
       "L 195.40168 248.656193 \n",
       "L 197.203101 249.023694 \n",
       "L 198.843117 249.32194 \n",
       "L 200.523099 249.591554 \n",
       "L 202.488628 249.860875 \n",
       "L 204.046049 250.03896 \n",
       "L 205.387601 250.16733 \n",
       "L 206.737931 250.273143 \n",
       "L 207.945227 250.347873 \n",
       "L 209.461011 250.415131 \n",
       "L 210.794504 250.449845 \n",
       "L 212.285267 250.461553 \n",
       "L 213.66324 250.446932 \n",
       "L 215.132224 250.404427 \n",
       "L 216.768835 250.324357 \n",
       "L 218.060101 250.236849 \n",
       "L 219.312755 250.131446 \n",
       "L 220.744602 249.986225 \n",
       "L 222.39512 249.78608 \n",
       "L 223.802072 249.587782 \n",
       "L 225.180949 249.368717 \n",
       "L 227.481328 248.948774 \n",
       "L 229.49232 248.525855 \n",
       "L 231.883302 247.955277 \n",
       "L 234.53682 247.235892 \n",
       "L 237.377135 246.365428 \n",
       "L 239.703723 245.57503 \n",
       "L 244.605932 243.681541 \n",
       "L 250.363486 241.062638 \n",
       "L 255.956203 238.110132 \n",
       "L 260.721639 235.276651 \n",
       "L 265.660376 232.031649 \n",
       "L 270.903091 228.243347 \n",
       "L 277.176296 223.245446 \n",
       "L 282.282211 218.803566 \n",
       "L 287.066255 214.337161 \n",
       "L 293.22015 208.15861 \n",
       "L 298.827761 202.104018 \n",
       "L 303.655306 196.567425 \n",
       "L 309.43434 189.545062 \n",
       "L 314.856036 182.566047 \n",
       "L 320.890253 174.353633 \n",
       "L 326.212608 166.720998 \n",
       "L 332.019427 157.977649 \n",
       "L 337.541407 149.260532 \n",
       "L 344.104087 138.39008 \n",
       "L 350.732123 126.848635 \n",
       "L 358.156947 113.248155 \n",
       "L 364.209934 101.635454 \n",
       "L 369.396777 91.309212 \n",
       "L 374.472998 80.867875 \n",
       "L 378.965069 71.351434 \n",
       "L 384.233837 59.858548 \n",
       "L 388.868032 49.454486 \n",
       "L 393.21058 39.454283 \n",
       "L 398.468182 27.021979 \n",
       "\" style=\"fill:none;stroke:#1f77b4;stroke-linecap:square;stroke-width:1.5;\"/>\n",
       "   </g>\n",
       "   <g id=\"patch_3\">\n",
       "    <path d=\"M 212.15 261.633532 \n",
       "L 212.15 15.85 \n",
       "\" style=\"fill:none;stroke:#000000;stroke-linecap:square;stroke-linejoin:miter;stroke-width:0.8;\"/>\n",
       "   </g>\n",
       "   <g id=\"patch_4\">\n",
       "    <path d=\"M 417.1 261.633532 \n",
       "L 417.1 15.85 \n",
       "\" style=\"fill:none;\"/>\n",
       "   </g>\n",
       "   <g id=\"patch_5\">\n",
       "    <path d=\"M 7.2 250.461671 \n",
       "L 417.1 250.461671 \n",
       "\" style=\"fill:none;stroke:#000000;stroke-linecap:square;stroke-linejoin:miter;stroke-width:0.8;\"/>\n",
       "   </g>\n",
       "   <g id=\"patch_6\">\n",
       "    <path d=\"M 7.2 15.85 \n",
       "L 417.1 15.85 \n",
       "\" style=\"fill:none;\"/>\n",
       "   </g>\n",
       "  </g>\n",
       " </g>\n",
       " <defs>\n",
       "  <clipPath id=\"paf762ffc2a\">\n",
       "   <rect height=\"245.783532\" width=\"409.9\" x=\"7.2\" y=\"15.85\"/>\n",
       "  </clipPath>\n",
       " </defs>\n",
       "</svg>\n"
      ],
      "text/plain": [
       "<Figure size 432x288 with 1 Axes>"
      ]
     },
     "metadata": {
      "needs_background": "light"
     },
     "output_type": "display_data"
    }
   ],
   "source": [
    "sp.plot(x**2, (x, -5, 5));"
   ]
  }
 ],
 "metadata": {
  "kernelspec": {
   "display_name": "Python 3 (ipykernel)",
   "language": "python",
   "name": "python3"
  },
  "language_info": {
   "codemirror_mode": {
    "name": "ipython",
    "version": 3
   },
   "file_extension": ".py",
   "mimetype": "text/x-python",
   "name": "python",
   "nbconvert_exporter": "python",
   "pygments_lexer": "ipython3",
   "version": "3.9.6"
  }
 },
 "nbformat": 4,
 "nbformat_minor": 5
}
