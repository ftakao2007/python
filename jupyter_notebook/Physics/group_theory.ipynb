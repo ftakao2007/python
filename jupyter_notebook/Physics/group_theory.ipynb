{
 "cells": [
  {
   "cell_type": "markdown",
   "id": "c4ab111e",
   "metadata": {},
   "source": [
    "# 群論\n",
    "\n",
    "* [ヨビノリ(YouTube)](https://www.youtube.com/watch?v=dO1T5-N3k1U&list=PLDJfzGjtVLHn9XEfkMHH157Q-IgLiI8p9)"
   ]
  },
  {
   "cell_type": "markdown",
   "id": "d514ff7b",
   "metadata": {},
   "source": [
    "## [【大学数学】群論入門①(群論とは何か)【代数学】](https://www.youtube.com/watch?v=dO1T5-N3k1U&list=PLDJfzGjtVLHn9XEfkMHH157Q-IgLiI8p9)\n",
    "\n",
    "* 代数系\n",
    "    * 集合と演算のセットのこと\n",
    "        * 集合\n",
    "            * いくつかの要素(元)が入っている\n",
    "    \n",
    "        * 演算\n",
    "            * 集合(の中の要素)に対して行う\n",
    "                * EX) 足し算、掛け算\n",
    "\n",
    "        * 例\n",
    "            * 整数の集合の中の要素2と3に対して足し算という演算を行う\n",
    "                * 2 + 3 = 5"
   ]
  },
  {
   "cell_type": "code",
   "execution_count": 1,
   "id": "17df4c1e",
   "metadata": {},
   "outputs": [],
   "source": [
    "import sympy as sp\n",
    "import math\n",
    "from sympy.core.function import Function"
   ]
  },
  {
   "cell_type": "code",
   "execution_count": 6,
   "id": "0c189d7c",
   "metadata": {},
   "outputs": [
    {
     "data": {
      "text/latex": [
       "$\\displaystyle 2 + \\frac{dy}{dx}$"
      ],
      "text/plain": [
       "2 + dy/dx"
      ]
     },
     "metadata": {},
     "output_type": "display_data"
    }
   ],
   "source": [
    "x, y = sp.var('dx dy')\n",
    "\n",
    "expr1 = dy / dx\n",
    "\n",
    "display(expr1 + 2)"
   ]
  },
  {
   "cell_type": "markdown",
   "id": "36e19847",
   "metadata": {},
   "source": [
    "AB $ = \\Delta x $, BD $ = \\Delta y $ とすると $ \\frac{\\Delta y}{\\Delta x} = \\frac{4 - 1}{2 - 1} = 3 $"
   ]
  },
  {
   "cell_type": "markdown",
   "id": "43e4db23",
   "metadata": {},
   "source": [
    "AB $ = dx $, BC $ = dy $ とすると $ \\frac{dy}{dx} = \\frac{3 - 1}{2 - 1} = 2 $"
   ]
  },
  {
   "cell_type": "markdown",
   "id": "120343e6",
   "metadata": {},
   "source": [
    "$ 3 \\neq 2 $ なので $ \\frac{\\Delta y}{\\Delta x} \\neq \\frac{dy}{dx} $ だけど $ \\Delta x \\to 0 $ (点B $ (2,1) $ を点A $ (1,1) $ に近づける。ほぼひっついたとみなす)と$ \\frac{\\Delta y}{\\Delta x} \\to 2 $ となる。"
   ]
  },
  {
   "cell_type": "markdown",
   "id": "f6863e6b",
   "metadata": {},
   "source": [
    "例えば点A $ (1, 1) $ に滅茶苦茶近い点 $ (1.0001, 1.00020001) $ だと $ \\frac{\\Delta y}{\\Delta x} = \\frac{1.00020001 - 1}{1.0001 - 1} = \\frac{0.00020001}{0.0001} = 2.0001 $ で $ 2 $ にめっちゃ近いよね。"
   ]
  },
  {
   "cell_type": "markdown",
   "id": "635c4306",
   "metadata": {},
   "source": [
    "ところで $ dy/dx $ ってあくまで接線 $ y = 2x -1 $ の傾きで、この場合においては $ dx $ や $ dy $ の値が微小かどうかとかってあんまり関係無くない？"
   ]
  },
  {
   "cell_type": "markdown",
   "id": "ebfdfc17",
   "metadata": {},
   "source": [
    "この接線上の点て $ (1, 1) $ とか $ (2, 3) $ とか $ (10, 19) $ とか $ (55, 109) $ とかあるけど、どこで$ \\frac{dy}{dx} $ を計算しても2だし。"
   ]
  }
 ],
 "metadata": {
  "kernelspec": {
   "display_name": "Python 3 (ipykernel)",
   "language": "python",
   "name": "python3"
  },
  "language_info": {
   "codemirror_mode": {
    "name": "ipython",
    "version": 3
   },
   "file_extension": ".py",
   "mimetype": "text/x-python",
   "name": "python",
   "nbconvert_exporter": "python",
   "pygments_lexer": "ipython3",
   "version": "3.9.6"
  }
 },
 "nbformat": 4,
 "nbformat_minor": 5
}
