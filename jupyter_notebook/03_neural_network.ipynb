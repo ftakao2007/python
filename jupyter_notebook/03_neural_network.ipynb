{
 "cells": [
  {
   "cell_type": "markdown",
   "metadata": {
    "deletable": true,
    "editable": true
   },
   "source": [
    "# ニューラルネットワーク\n",
    "\n",
    "## パーセプトロンからニューラルネットワークへ\n",
    "\n",
    "ニューラルネットワークの図\n",
    "\n",
    "<img src=\"img/3-1.gif\" alt=\"ニューラルネットワークの例\" title=\"ニューラルネットワークの例\" width=\"300\" height=\"300\" />  \n",
    "\n",
    "* 入力層\n",
    "    * 左の列\n",
    "    * ここでは第0層とする\n",
    "* 中間層\n",
    "    * 中間の列\n",
    "    * ここでは第1層とする\n",
    "    * 隠れ層とも呼ばれる\n",
    "        * 入力層や出力層とちがって、人の目には見えない層だから\n",
    "* 出力層\n",
    "    * 一番右の列\n",
    "    * ここでは第2層とする\n",
    "\n",
    "---\n",
    "\n",
    "パーセプトロンの式\n",
    "\n",
    "$\n",
    "y = \n",
    "\\begin{eqnarray}\n",
    "\\left\\{\n",
    "\\begin{array}{l}\n",
    "0 & ( b + \\omega_{1} x_{1} + \\omega_{2} x_{2} \\leqq 0 ) \\\\\n",
    "1 & ( b + \\omega_{1} x_{1} + \\omega_{2} x_{2} > 0 ) \n",
    "\\end{array}\n",
    "\\right.\n",
    "\\end{eqnarray}\n",
    "$\n",
    "\n",
    "でバイアスを明示的に図示すると以下\n",
    "   \n",
    "<img src=\"img/3-3.png\" alt=\"バイアスを明示的に示す\" title=\"バイアスを明示的に示す\" width=\"300\" height=\"300\" />  \n",
    "\n",
    "* 重みが $ b $ で入力が1の信号が追加されている\n",
    "    * **バイアスの信号は常に1**であるため、図で表す際にはニューロンを灰色で塗りつぶして他のニューロンと差別化する\n",
    "\n",
    "式をよりシンプルな形に書き換える\n",
    "\n",
    "$\n",
    "y = h ( b + \\omega_{1} x_{1} + \\omega_{2} x_{2} )  \\\\\n",
    "h(x) = \n",
    "\\begin{eqnarray}\n",
    "\\left\\{\n",
    "\\begin{array}{l}\n",
    "0 & ( x \\leqq 0 ) \\\\\n",
    "1 & ( x > 0 ) \n",
    "\\end{array}\n",
    "\\right.\n",
    "\\end{eqnarray}\n",
    "$\n",
    "\n",
    "* 場合分け(0を超えたら1を出力、そうでなければ0を出力)を一つの関数 $ h(x) $ で表現\n",
    "    * これを**活性化関数(activation function)**という\n",
    "        * 入力信号の総和を出力信号に変換する関数\n",
    "\n",
    "さらに式を置き換えると\n",
    "\n",
    "$\n",
    "a = b + \\omega_{1} x_{1} + \\omega_{2} x_{2} \\\\\n",
    "y = h(a)\n",
    "$\n",
    "\n",
    "* a : 重み付き入力信号とバイアスの総和\n",
    "\n",
    "これを図示すると以下になる\n",
    "\n",
    "（ここに図を入れる）\n",
    "\n",
    "* ニューロンの○の中に活性化関数によるプロセスを明示的に図示\n",
    "    * 重み付き信号の和の結果が $ a $ というノードになる\n",
    "    * 活性化関数 $ h() $ によって $ y $ というノードに変換される\n",
    "        * ここでは「ニューロン」と「ノード」という用語は同じ意味で使う\n",
    "\n",
    "---\n",
    "\n",
    "* パーセプトロンとニューラルネットワークの違い\n",
    "    * ニューロンのつながり方はパーセプトロンと同じ\n",
    "    * 「単純パーセプトロン」のモデル\n",
    "        * 単層のネットワーク\n",
    "        * 活性化関数がステップ関数(階段関数)\n",
    "    * 「多層パーセプトロン」のモデル\n",
    "        * 多層のネットワーク\n",
    "        * 活性化関数がステップ関数\n",
    "    * 「ニューラルネットワーク」のモデル\n",
    "        * 多層ネットワーク\n",
    "        * 活性化関数がシグモイド関数など**滑らかな活性化関数を使用**\n",
    "    \n"
   ]
  },
  {
   "cell_type": "markdown",
   "metadata": {
    "deletable": true,
    "editable": true
   },
   "source": [
    "## 活性化関数\n",
    "\n",
    "### ステップ関数\n",
    "\n",
    "$\n",
    "h(x) = \n",
    "\\begin{eqnarray}\n",
    "\\left\\{\n",
    "\\begin{array}{l}\n",
    "0 & ( x \\leqq 0 ) \\\\\n",
    "1 & ( x > 0 ) \n",
    "\\end{array}\n",
    "\\right.\n",
    "\\end{eqnarray}\n",
    "$\n",
    "\n",
    "* 式中の $ x $ は実数を取ることができない\n",
    "    * NumPy配列に対うしていない"
   ]
  },
  {
   "cell_type": "code",
   "execution_count": 11,
   "metadata": {
    "collapsed": false,
    "deletable": true,
    "editable": true
   },
   "outputs": [
    {
     "data": {
      "image/png": "[encoded data removed]",
      "text/plain": [
       "<matplotlib.figure.Figure at 0x112331320>"
      ]
     },
     "metadata": {},
     "output_type": "display_data"
    }
   ],
   "source": [
    "import matplotlib.pyplot as plt\n",
    "import numpy  as np\n",
    "%matplotlib inline\n",
    "\n",
    "def step_function(x):\n",
    "    return np.array(x>0, dtype=np.int)\n",
    "\n",
    "x = np.arange(-5, 5, 0.1)\n",
    "y = step_function(x)\n",
    "\n",
    "plt.plot(x, y)\n",
    "plt.ylim(-0.1, 1.1)\n",
    "plt.show()"
   ]
  },
  {
   "cell_type": "markdown",
   "metadata": {
    "deletable": true,
    "editable": true
   },
   "source": [
    "### シグモイド関数 (sigmoid function)\n",
    "\n",
    "$\n",
    "h (x) = \\frac{1}{1 + e^{-x}}\n",
    "$"
   ]
  },
  {
   "cell_type": "code",
   "execution_count": 1,
   "metadata": {
    "collapsed": false
   },
   "outputs": [
    {
     "data": {
      "image/png": "[encoded data removed]",
      "text/plain": [
       "<matplotlib.figure.Figure at 0x7fa116566978>"
      ]
     },
     "metadata": {},
     "output_type": "display_data"
    }
   ],
   "source": [
    "import matplotlib.pyplot as plt\n",
    "import numpy  as np\n",
    "%matplotlib inline\n",
    "\n",
    "def sigmoid_function(x):\n",
    "    return 1/(1 + np.exp(-x))\n",
    "\n",
    "x = np.arange(-5, 5, 0.1)\n",
    "y = sigmoid_function(x)\n",
    "\n",
    "plt.plot(x, y)\n",
    "plt.ylim(-0.1, 1.1)\n",
    "plt.show()\n"
   ]
  }
 ],
 "metadata": {
  "kernelspec": {
   "display_name": "Python 3",
   "language": "python",
   "name": "python3"
  },
  "language_info": {
   "codemirror_mode": {
    "name": "ipython",
    "version": 3
   },
   "file_extension": ".py",
   "mimetype": "text/x-python",
   "name": "python",
   "nbconvert_exporter": "python",
   "pygments_lexer": "ipython3",
   "version": "3.6.1"
  }
 },
 "nbformat": 4,
 "nbformat_minor": 2
}
