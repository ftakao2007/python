{
 "cells": [
  {
   "cell_type": "markdown",
   "metadata": {
    "deletable": true,
    "editable": true
   },
   "source": [
    "# ニューラルネットワーク\n",
    "\n",
    "## パーセプトロンからニューラルネットワークへ\n",
    "\n",
    "ニューラルネットワークの図\n",
    "\n",
    "<img src=\"img/3-1.gif\" alt=\"ニューラルネットワークの例\" title=\"ニューラルネットワークの例\" width=\"300\" height=\"300\" />  \n",
    "\n",
    "* 入力層\n",
    "    * 左の列\n",
    "    * ここでは第0層とする\n",
    "* 中間層\n",
    "    * 中間の列\n",
    "    * ここでは第1層とする\n",
    "    * 隠れ層とも呼ばれる\n",
    "        * 入力層や出力層とちがって、人の目には見えない層だから\n",
    "* 出力層\n",
    "    * 一番右の列\n",
    "    * ここでは第2層とする\n",
    "\n",
    "---\n",
    "\n",
    "パーセプトロンの式\n",
    "\n",
    "$\n",
    "y = \n",
    "\\begin{eqnarray}\n",
    "\\left\\{\n",
    "\\begin{array}{l}\n",
    "0 & ( b + \\omega_{1} x_{1} + \\omega_{2} x_{2} \\leqq 0 ) \\\\\n",
    "1 & ( b + \\omega_{1} x_{1} + \\omega_{2} x_{2} > 0 ) \n",
    "\\end{array}\n",
    "\\right.\n",
    "\\end{eqnarray}\n",
    "$\n",
    "\n",
    "でバイアスを明示的に図示すると以下\n",
    "   \n",
    "<img src=\"img/3-3.png\" alt=\"バイアスを明示的に示す\" title=\"バイアスを明示的に示す\" width=\"300\" height=\"300\" />  \n",
    "\n",
    "* 重みが $ b $ で入力が1の信号が追加されている\n",
    "    * **バイアスの信号は常に1**であるため、図で表す際にはニューロンを灰色で塗りつぶして他のニューロンと差別化する\n",
    "\n",
    "式をよりシンプルな形に書き換える\n",
    "\n",
    "$\n",
    "y = h ( b + \\omega_{1} x_{1} + \\omega_{2} x_{2} )  \\\\\n",
    "h(x) = \n",
    "\\begin{eqnarray}\n",
    "\\left\\{\n",
    "\\begin{array}{l}\n",
    "0 & ( x \\leqq 0 ) \\\\\n",
    "1 & ( x > 0 ) \n",
    "\\end{array}\n",
    "\\right.\n",
    "\\end{eqnarray}\n",
    "$\n",
    "\n",
    "* 場合分け(0を超えたら1を出力、そうでなければ0を出力)を一つの関数 $ h(x) $ で表現\n",
    "\n",
    "---\n",
    "\n",
    "* パーセプトロンとニューラルネットワークの違い\n",
    "    * ニューロンのつながり方はパーセプトロンと同じ\n",
    "    \n"
   ]
  }
 ],
 "metadata": {
  "kernelspec": {
   "display_name": "Python 3",
   "language": "python",
   "name": "python3"
  },
  "language_info": {
   "codemirror_mode": {
    "name": "ipython",
    "version": 3
   },
   "file_extension": ".py",
   "mimetype": "text/x-python",
   "name": "python",
   "nbconvert_exporter": "python",
   "pygments_lexer": "ipython3",
   "version": "3.6.1"
  }
 },
 "nbformat": 4,
 "nbformat_minor": 2
}
