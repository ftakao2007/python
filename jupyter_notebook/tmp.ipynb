{
 "cells": [
  {
   "cell_type": "code",
   "execution_count": 3,
   "metadata": {
    "collapsed": true,
    "deletable": true,
    "editable": true
   },
   "outputs": [],
   "source": [
    "from numpy import array as npv\n",
    "import numpy as np\n",
    "import matplotlib.pyplot as plt\n",
    "%matplotlib inline"
   ]
  },
  {
   "cell_type": "code",
   "execution_count": 8,
   "metadata": {
    "collapsed": false,
    "deletable": true,
    "editable": true
   },
   "outputs": [
    {
     "data": {
      "text/plain": [
       "[<matplotlib.lines.Line2D at 0x7f7bb24c1278>]"
      ]
     },
     "execution_count": 8,
     "metadata": {},
     "output_type": "execute_result"
    },
    {
     "data": {
      "image/png": "[encoded data removed]",
      "text/plain": [
       "<matplotlib.figure.Figure at 0x7f7bb2538240>"
      ]
     },
     "metadata": {},
     "output_type": "display_data"
    }
   ],
   "source": [
    "x = np.arange(-3, 3, 0.1)\n",
    "y = np.sin(x)\n",
    "plt.plot(x, y)"
   ]
  },
  {
   "cell_type": "markdown",
   "metadata": {
    "deletable": true,
    "editable": true
   },
   "source": [
    "# 計算時間計測\n",
    "\n",
    "```\n",
    "The slowest run took 42.30 times longer than the fastest. This could mean that an intermediate result is being cached.\n",
    "1000000 loops, best of 3: 753 ns per loop\n",
    "```\n",
    "\n",
    "* 100万回実行して上位3回の平均が753ナノ秒 (ns)\n",
    "    * 0.753マイクロ秒(μs)\n",
    "    * 0.000753ミリ秒(ms)\n",
    "    * 0.000000753秒(s)\n",
    "    \n",
    "1秒は10億ナノ秒"
   ]
  },
  {
   "cell_type": "code",
   "execution_count": 14,
   "metadata": {
    "collapsed": false,
    "deletable": true,
    "editable": true
   },
   "outputs": [
    {
     "name": "stdout",
     "output_type": "stream",
     "text": [
      "The slowest run took 2230.56 times longer than the fastest. This could mean that an intermediate result is being cached.\n",
      "1000000 loops, best of 3: 731 ns per loop\n"
     ]
    }
   ],
   "source": [
    "v = np.random.random(size=(3))\n",
    "%timeit np.dot(v,v)"
   ]
  },
  {
   "cell_type": "markdown",
   "metadata": {
    "deletable": true,
    "editable": true
   },
   "source": [
    "# 線形独立\n",
    "\n",
    "## 2次元ベクトル\n",
    "\n",
    "$ a \\boldsymbol{x_1} +  b \\boldsymbol{x_2}$ をベクトル $ \\boldsymbol{x_1}, \\boldsymbol{x_2} $ の線形結合という。\n",
    "\n",
    "$ a \\boldsymbol{x_{1}} + b \\boldsymbol{x_{2}}= \\boldsymbol{0} $\n",
    "が $ a=b=0 $ 以外で成り立つ $ a,b $ が存在するとき、 $ \\boldsymbol{x_{1}}, \\boldsymbol{x_{2}} $ は線形従属であるという。\n",
    "\n",
    "線形従属でない場合、 $ \\boldsymbol{x_{1}},\\boldsymbol{x_{2}} $ は線形独立であるという。\n",
    "\n",
    "## n次元ベクトル\n",
    "\n",
    "直交座標内の成分で表された $n$ 次元のベクトルは\n",
    "\n",
    "$ \\displaystyle\n",
    "  \\boldsymbol{U} = \\left(\n",
    "    \\begin{array}{c}\n",
    "      U_{1}  \\\\\n",
    "      U_{2}  \\\\\n",
    "      \\vdots  \\\\\n",
    "      U_{n}\n",
    "    \\end{array}\n",
    "  \\right)\n",
    "  = U_{1} \\boldsymbol{e}_1 + U_{2} \\boldsymbol{e}_2 + \\dots + U_{n} \\boldsymbol{e}_n\n",
    "  = \\sum^{n}_{k=1} U_{k} \\boldsymbol{e}_k\n",
    "$"
   ]
  },
  {
   "cell_type": "markdown",
   "metadata": {
    "deletable": true,
    "editable": true
   },
   "source": [
    "# 逆行列\n",
    "\n",
    "$\n",
    "  \\boldsymbol{A} = \\left(\n",
    "    \\begin{array}{ccc}\n",
    "      a_{11} & a_{12} & a_{13} \\\\\n",
    "      a_{21} & a_{22} & a_{23} \\\\\n",
    "      a_{31} & a_{32} & a_{33}\n",
    "    \\end{array}\n",
    "  \\right)\n",
    "$\n",
    "\n",
    "について $ \\boldsymbol{A} $ の行列式\n",
    "\n",
    "$ \\rm{det} ~ \\boldsymbol{A} = a_{11}a_{22}a_{33} + a_{21}a_{32}a_{13} + a_{31}a_{12}a_{23} - a_{11}a_{32}a_{23} - a_{31}a_{22}a_{13} - a_{21}a_{12}a_{33} \\not= 0$\n",
    "\n",
    "のとき、$ \\boldsymbol{A} $の逆行列は\n",
    "\n",
    "$\n",
    "  \\boldsymbol{A}^{-1} = \\frac{1}{\\rm{det} ~ \\boldsymbol{A}} = \\left(\n",
    "    \\begin{array}{ccc}\n",
    "      a_{22}a_{33} - a_{23}a_{32} & a_{13}a_{32} - a_{12}a_{33} & a_{12}a_{23} - a_{13}a_{22} \\\\\n",
    "      a_{23}a_{31} - a_{21}a_{33} & a_{11}a_{33} - a_{13}a_{31} & a_{13}a_{21} - a_{11}a_{23} \\\\\n",
    "      a_{21}a_{32} - a_{22}a_{31} & a_{12}a_{31} - a_{11}a_{32} & a_{11}a_{22} - a_{12}a_{21}\n",
    "    \\end{array}\n",
    "  \\right)\n",
    "$"
   ]
  },
  {
   "cell_type": "code",
   "execution_count": 28,
   "metadata": {
    "collapsed": false,
    "deletable": true,
    "editable": true
   },
   "outputs": [
    {
     "name": "stdout",
     "output_type": "stream",
     "text": [
      "matrix_a1a2a3 = \n",
      " [[ 1.   6.   0. ]\n",
      " [ 2.   5.   8. ]\n",
      " [ 5.   4.   4.5]] \n",
      "\n",
      "det_matrix_a1a2a3 = \n",
      " 176.49999999999994 \n",
      "\n",
      "inv_matrix_a1a2a3 = \n",
      " [[-0.05382436 -0.1529745   0.27195467]\n",
      " [ 0.17563739  0.02549575 -0.04532578]\n",
      " [-0.09631728  0.14730878 -0.03966006]] \n",
      "\n",
      "matrix_a1a2a3_product_inv_matrix_a1a2a3 = \n",
      " [[  1.00000000e+00  -1.38777878e-17   5.55111512e-17]\n",
      " [  1.11022302e-16   1.00000000e+00   0.00000000e+00]\n",
      " [ -2.77555756e-17  -8.32667268e-17   1.00000000e+00]] \n",
      "\n",
      "inv_matrix_a1a2a3_matrix_a1a2a3_product = \n",
      " [[  1.00000000e+00   0.00000000e+00   5.55111512e-17]\n",
      " [  2.77555756e-17   1.00000000e+00   1.38777878e-17]\n",
      " [ -2.77555756e-17   5.55111512e-17   1.00000000e+00]] \n",
      "\n"
     ]
    }
   ],
   "source": [
    "### ベクトルを生成\n",
    "a1 = npv([1, 2, 5])\n",
    "a2 = npv([6, 5, 4])\n",
    "a3 = npv([0, 8, 4.5])\n",
    "\n",
    "### 3×3行列を生成\n",
    "matrix_a1a2a3 = np.c_[a1, a2, a3]\n",
    "print (\"matrix_a1a2a3 = \\n {0} \\n\".format(matrix_a1a2a3))\n",
    "\n",
    "### 行列式\n",
    "det_matrix_a1a2a3 = np.linalg.det(matrix_a1a2a3)\n",
    "print (\"det_matrix_a1a2a3 = \\n {0} \\n\".format(det_matrix_a1a2a3))\n",
    "\n",
    "### 逆行列\n",
    "inv_matrix_a1a2a3 = np.linalg.inv(matrix_a1a2a3)\n",
    "print (\"inv_matrix_a1a2a3 = \\n {0} \\n\".format(inv_matrix_a1a2a3))\n",
    "\n",
    "### 行列の積\n",
    "matrix_a1a2a3_product_inv_matrix_a1a2a3 = np.dot(matrix_a1a2a3, inv_matrix_a1a2a3)\n",
    "print (\"matrix_a1a2a3_product_inv_matrix_a1a2a3 = \\n {0} \\n\".format(matrix_a1a2a3_product_inv_matrix_a1a2a3))\n",
    "\n",
    "### 順番を変えた行列の積\n",
    "inv_matrix_a1a2a3_product_matrix_a1a2a3 = np.dot(inv_matrix_a1a2a3, matrix_a1a2a3)\n",
    "print (\"inv_matrix_a1a2a3_matrix_a1a2a3_product = \\n {0} \\n\".format(inv_matrix_a1a2a3_product_matrix_a1a2a3))"
   ]
  },
  {
   "cell_type": "markdown",
   "metadata": {
    "deletable": true,
    "editable": true
   },
   "source": [
    "# 固有値、固有ベクトル\n",
    "\n",
    "与えられた正方行列 $ \\boldsymbol{A} $ の固有値、固有ベクトルを求める\n",
    "\n",
    "* 固有値\n",
    "    * 行列 $ \\boldsymbol{A} $ の固有方程式 $ \\rm{det} ~ ( \\boldsymbol{A} - \\lambda \\boldsymbol{I} ) = 0 $ を未知数 $ \\lambda $ の方程式として解いて固有値 $ \\lambda $ を求める\n",
    "* 固有ベクトル\n",
    "    * 各々の固有値を連立方程式 $ ( \\boldsymbol{A} - \\lambda \\boldsymbol{I} ) \\boldsymbol{x} = \\boldsymbol{0} $ に代入して、対応する固有ベクトル $ \\boldsymbol{x} $ を求める\n",
    "    * 固有ベクトルの定数倍もまた固有ベクトルとなるので、固有ベクトルを答えるときは任意定数をつけた形で答える\n",
    "* 正規化\n",
    "    * 固有ベクトルの長さを1(単位長さ)にする $ \\frac{ \\boldsymbol{A} }{ | \\boldsymbol{A} | } $"
   ]
  },
  {
   "cell_type": "code",
   "execution_count": 2,
   "metadata": {
    "collapsed": false,
    "deletable": true,
    "editable": true
   },
   "outputs": [
    {
     "name": "stdout",
     "output_type": "stream",
     "text": [
      "matrix_a1a2a3 = \n",
      " [[ 1  1  2]\n",
      " [ 0  2 -1]\n",
      " [ 0  0  3]] \n",
      "\n",
      "[ 1.  2.  3.]\n",
      "[[ 1.          0.70710678  0.33333333]\n",
      " [ 0.          0.70710678 -0.66666667]\n",
      " [ 0.          0.          0.66666667]]\n",
      "1.0\n",
      "[ 1.  0.  0.]\n",
      "2.0\n",
      "[ 0.70710678  0.70710678  0.        ]\n",
      "3.0\n",
      "[ 0.33333333 -0.66666667  0.66666667]\n"
     ]
    }
   ],
   "source": [
    "### ベクトルを生成\n",
    "a1 = npv([1, 0, 0])\n",
    "a2 = npv([1, 2, 0])\n",
    "a3 = npv([2, -1, 3])\n",
    "\n",
    "### 3×3行列を生成\n",
    "matrix_a1a2a3 = np.c_[a1, a2, a3]\n",
    "print (\"matrix_a1a2a3 = \\n {0} \\n\".format(matrix_a1a2a3))\n",
    "\n",
    "### 固有値、固有ベクトルを計算 (正規化済み)\n",
    "la, v = np.linalg.eig(matrix_a1a2a3)\n",
    "\n",
    "print (la)\n",
    "print (v)\n",
    "\n",
    "print (la[0])\n",
    "print (v[:,0])\n",
    "\n",
    "print (la[1])\n",
    "print (v[:,1])\n",
    "\n",
    "print (la[2])\n",
    "print (v[:,2])\n"
   ]
  },
  {
   "cell_type": "markdown",
   "metadata": {},
   "source": [
    "# Python\n",
    "\n",
    "## 基本"
   ]
  },
  {
   "cell_type": "code",
   "execution_count": 10,
   "metadata": {
    "collapsed": false
   },
   "outputs": [
    {
     "name": "stdout",
     "output_type": "stream",
     "text": [
      "<class 'int'>\n",
      "<class 'float'>\n",
      "<class 'str'>\n"
     ]
    }
   ],
   "source": [
    "### データ型\n",
    "### 「型」と「クラス」は同じ意味で使われることがある\n",
    "\n",
    "### int\n",
    "print (type(10))\n",
    "\n",
    "### float\n",
    "print (type(3.14))\n",
    "\n",
    "### str\n",
    "print (type(\"hello\"))"
   ]
  },
  {
   "cell_type": "code",
   "execution_count": 24,
   "metadata": {
    "collapsed": false
   },
   "outputs": [
    {
     "name": "stdout",
     "output_type": "stream",
     "text": [
      "[1, 2, 3, 4, 5]\n",
      "<class 'list'>\n",
      "5\n",
      "1\n",
      "[1, 2, 3, 4, 99]\n",
      "--- スライシング記法 ---\n",
      "[1, 2]\n",
      "[2, 3, 4, 99]\n",
      "[1, 2, 3]\n",
      "[1, 2, 3, 4]\n",
      "[1, 2, 3]\n"
     ]
    }
   ],
   "source": [
    "### リスト\n",
    "### 配列のこと\n",
    "\n",
    "a = [1,2,3,4,5]\n",
    "print (a)\n",
    "print (type(a))\n",
    "\n",
    "### リストの長さを取得\n",
    "print (len(a))\n",
    "\n",
    "### 最初の要素にアクセス\n",
    "print (a[0])\n",
    "\n",
    "### 値を代入\n",
    "a[4] = 99\n",
    "print (a)\n",
    "\n",
    "### スライシング記法によるリストのサブリスト(部分リスト)へのアクセス\n",
    "print (\"--- スライシング記法 ---\")\n",
    "print (a[0:2])\n",
    "print (a[1:])\n",
    "print (a[:3])\n",
    "print (a[:-1])\n",
    "print (a[:-2])"
   ]
  },
  {
   "cell_type": "code",
   "execution_count": 29,
   "metadata": {
    "collapsed": false
   },
   "outputs": [
    {
     "name": "stdout",
     "output_type": "stream",
     "text": [
      "{'height': 180}\n",
      "<class 'dict'>\n",
      "{'height': 180, 'weight': 70}\n"
     ]
    }
   ],
   "source": [
    "### ディクショナリ\n",
    "### キーと値をペアとして格納するハッシュや連想配列みたいなもの\n",
    "\n",
    "me = {'height':180}\n",
    "print (me)\n",
    "print (type(me))\n",
    "\n",
    "### 新しい要素を追加\n",
    "me['weight'] = 70\n",
    "print (me)\n"
   ]
  },
  {
   "cell_type": "code",
   "execution_count": 35,
   "metadata": {
    "collapsed": false
   },
   "outputs": [
    {
     "name": "stdout",
     "output_type": "stream",
     "text": [
      "True\n",
      "<class 'bool'>\n",
      "False\n",
      "False\n",
      "False\n",
      "True\n"
     ]
    }
   ],
   "source": [
    "### ブーリアン\n",
    "### TrueかFalseのどちらかを取る\n",
    "\n",
    "### hungryではある\n",
    "hungry = True\n",
    "print (hungry)\n",
    "print (type(hungry))\n",
    "\n",
    "### sleepyではない\n",
    "sleepy = False\n",
    "print (sleepy)\n",
    "\n",
    "### hungryでは無いかどうか\n",
    "### hungryはTrueなので結果はFalse\n",
    "print (not hungry)\n",
    "\n",
    "### hungryかつsleepyか\n",
    "### hungryではあるがsleepyではないのでFalse\n",
    "print (hungry and sleepy)\n",
    "\n",
    "### hungryもしくはsleepyか\n",
    "### hungryではあるのでTrue\n",
    "print (hungry or sleepy)"
   ]
  },
  {
   "cell_type": "code",
   "execution_count": 38,
   "metadata": {
    "collapsed": false
   },
   "outputs": [
    {
     "name": "stdout",
     "output_type": "stream",
     "text": [
      "I'm hungry\n",
      "I'm not hungry\n",
      "I'm sleepy\n"
     ]
    }
   ],
   "source": [
    "### if文\n",
    "### インデントはタブを使っても表現できるが、4つの空白文字を使うのが一般的\n",
    "\n",
    "hungry = True\n",
    "if hungry:\n",
    "    print(\"I'm hungry\")\n",
    "\n",
    "hungry = False\n",
    "if hungry:\n",
    "    print(\"I'm hungry\")\n",
    "else:\n",
    "    print(\"I'm not hungry\")\n",
    "    print(\"I'm sleepy\")"
   ]
  },
  {
   "cell_type": "code",
   "execution_count": 40,
   "metadata": {
    "collapsed": false
   },
   "outputs": [
    {
     "name": "stdout",
     "output_type": "stream",
     "text": [
      "1\n",
      "2\n",
      "3\n"
     ]
    }
   ],
   "source": [
    "### for文\n",
    "for i in [1, 2, 3]:\n",
    "    print(i)"
   ]
  },
  {
   "cell_type": "code",
   "execution_count": 47,
   "metadata": {
    "collapsed": false
   },
   "outputs": [
    {
     "name": "stdout",
     "output_type": "stream",
     "text": [
      "Hello World!\n",
      "Hello Cat!\n"
     ]
    }
   ],
   "source": [
    "### 関数\n",
    "### まとまりのある処理を関数として定義することができる\n",
    "\n",
    "def hello():\n",
    "    print(\"Hello World!\")\n",
    "\n",
    "hello()\n",
    "\n",
    "### 引数を取ることができる\n",
    "def hello(object):\n",
    "    print(\"Hello \" + object + \"!\")\n",
    "\n",
    "hello(\"Cat\")"
   ]
  },
  {
   "cell_type": "code",
   "execution_count": 54,
   "metadata": {
    "collapsed": false
   },
   "outputs": [
    {
     "name": "stdout",
     "output_type": "stream",
     "text": [
      "Initialized!\n",
      "<class '__main__.Man'>\n",
      "Hello David!\n",
      "Good-bye David!\n"
     ]
    }
   ],
   "source": [
    "### クラス\n",
    "### これまでのtype()で表示できるデータ型は「組み込み」のデータ型で初めからPythonに組み込まれている\n",
    "### ここでは新しいクラスを定義する\n",
    "### -> 独自にデータ型(クラス)を作成することができる\n",
    "### -> オリジナルのメソッド(クラス用の関数)や属性を定義することができる\n",
    "\n",
    "### Manという新しいクラスを定義\n",
    "class Man:\n",
    "    ### __init__ は初期化を行うための特別なメソッド\n",
    "    ### コンクラスタとも呼ばれ、クラスのインスタンスが作成される際に一度だけ呼ばれる\n",
    "    ### Pythonではメソッドの第一引数に自分自身のインスタンスを表すselfを明示的に書く\n",
    "    ### nameという引数をとり、その引数でインスタンス変数であるself.nameを初期化する\n",
    "    def __init__(self, name):\n",
    "        ### self.nameのように、selfの後に属性名を書くことでインスタンス変数の作成及びアクセスが可能\n",
    "        self.name = name\n",
    "        print(\"Initialized!\")\n",
    "\n",
    "    def hello(self):\n",
    "        print(\"Hello \" + self.name + \"!\")\n",
    "\n",
    "    def goodbye(self):\n",
    "        print(\"Good-bye \" + self.name + \"!\")\n",
    "\n",
    "### Manというクラスからｍというインスタンス(オブジェクト)を生成\n",
    "m = Man(\"David\")\n",
    "print (type(m))\n",
    "m.hello()\n",
    "m.goodbye()"
   ]
  },
  {
   "cell_type": "markdown",
   "metadata": {},
   "source": [
    "## NumPy\n",
    "\n",
    "外部ライブラリ読み込み\n",
    "\n",
    "```\n",
    "import numpy as np\n",
    "```\n",
    "\n",
    "* importで外部ライブラリを読み込む\n",
    "* この書き方で以降はNumPyに関するメソッドはnpとして参照可能\n",
    "\n",
    "### NumPyの算術演算\n",
    "\n",
    "* 演算する配列は要素数が同じでなければならない\n",
    "    * 要素数が同じでない場合はエラーになる\n",
    "    * 英語\n",
    "        * 要素ごと : element-wise\n",
    "        * 要素ごとの積 : element-wise product\n",
    "    * element-wiseな計算だけではなく、NumPy配列と単一の数値(スカラ値)の計算も可能\n",
    "        * NumPy配列の各要素とスカラ値の間で計算が行われる\n",
    "        * 「ブロードキャスト」という機能"
   ]
  },
  {
   "cell_type": "code",
   "execution_count": 60,
   "metadata": {
    "collapsed": false
   },
   "outputs": [
    {
     "name": "stdout",
     "output_type": "stream",
     "text": [
      "[ 1.  2.  3.]\n",
      "x = [ 1.  2.  3.]\n",
      "<class 'numpy.ndarray'>\n",
      "y = [ 2.  4.  6.]\n",
      "[ 3.  6.  9.]\n",
      "[-1. -2. -3.]\n",
      "[  2.   8.  18.]\n",
      "[ 0.5  0.5  0.5]\n"
     ]
    }
   ],
   "source": [
    "import numpy as np\n",
    "\n",
    "### np.array()というメソッドでPythonのリストを引数にとりNumPy用の配列を作成\n",
    "### 要素数が3の１次元配列\n",
    "x = np.array([1.0, 2.0, 3.0])\n",
    "print (x)\n",
    "print (\"x = {0}\".format(x))\n",
    "print (type(x))\n",
    "\n",
    "### NumPy配列の算術計算\n",
    "y = np.array([2.0, 4.0, 6.0])\n",
    "print (\"y = {0}\".format(y))\n",
    "print(x + y)\n",
    "print(x - y)\n",
    "print(x * y)\n",
    "print(x / y)\n"
   ]
  }
 ],
 "metadata": {
  "kernelspec": {
   "display_name": "Python 3",
   "language": "python",
   "name": "python3"
  },
  "language_info": {
   "codemirror_mode": {
    "name": "ipython",
    "version": 3
   },
   "file_extension": ".py",
   "mimetype": "text/x-python",
   "name": "python",
   "nbconvert_exporter": "python",
   "pygments_lexer": "ipython3",
   "version": "3.6.1"
  }
 },
 "nbformat": 4,
 "nbformat_minor": 2
}
