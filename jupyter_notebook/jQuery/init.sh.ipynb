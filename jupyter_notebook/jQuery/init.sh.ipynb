{
 "cells": [
  {
   "cell_type": "markdown",
   "metadata": {
    "deletable": true,
    "editable": true
   },
   "source": [
    "# 初期設定\n",
    "\n",
    "* ヒアドキュメントで吐き出したhtmlをscpで直接アクセスできるサーバに転送するための設定\n",
    "    * セキュリティー的にあまりよくないので、内部のみアクセスできるサーバに漏れても良い検証用サーバのパスワード利用を推奨"
   ]
  },
  {
   "cell_type": "markdown",
   "metadata": {
    "deletable": true,
    "editable": true
   },
   "source": [
    "## sshpassのインストール\n",
    "\n",
    "```\n",
    "sudo apt-get install sshpass\n",
    "```\n",
    "\n",
    "## ファイルを転送\n",
    "\n",
    "```\n",
    "### sshpass -p \"(サーバのパスワード)\" scp (転送するhtmlファイル) (サーバのユーザ)@(サーバのアドレス):(転送先)\n",
    "例\n",
    "sshpass -p \"pass\" scp jquery.html ftakao2007@192.168.33.11:/home/ftakao2007\n",
    "```"
   ]
  },
  {
   "cell_type": "code",
   "execution_count": 11,
   "metadata": {
    "collapsed": false,
    "deletable": true,
    "editable": true
   },
   "outputs": [
    {
     "name": "stdout",
     "output_type": "stream",
     "text": [
      "pass=\"pass\"\n",
      "user=\"ftakao2007\"\n",
      "host=\"192.168.33.11\"\n",
      "path=\"/home/ftakao2007\"\n",
      "sshpass -p \"pass\" scp jquery.html ftakao2007@192.168.33.11:/home/ftakao2007\n"
     ]
    }
   ],
   "source": [
    "%%bash\n",
    "\n",
    "### 各種認証情報が入ったファイルを作成\n",
    "cat <<- EOS > ${HOME}/secrets\n",
    "pass=\"pass\"\n",
    "user=\"ftakao2007\"\n",
    "host=\"192.168.33.11\"\n",
    "path=\"/home/ftakao2007\"\n",
    "EOS\n",
    "\n",
    "### ファイルの中身を表示\n",
    "cat ${HOME}/secrets\n",
    "\n",
    "### 認証情報を変数に格納\n",
    "source ${HOME}/secrets\n",
    "\n",
    "### scpに利用\n",
    "echo \"sshpass -p \\\"${pass}\\\" scp jquery.html ${user}@${host}:${path}\""
   ]
  }
 ],
 "metadata": {
  "kernelspec": {
   "display_name": "Python 3",
   "language": "python",
   "name": "python3"
  },
  "language_info": {
   "codemirror_mode": {
    "name": "ipython",
    "version": 3
   },
   "file_extension": ".py",
   "mimetype": "text/x-python",
   "name": "python",
   "nbconvert_exporter": "python",
   "pygments_lexer": "ipython3",
   "version": "3.6.1"
  }
 },
 "nbformat": 4,
 "nbformat_minor": 2
}
