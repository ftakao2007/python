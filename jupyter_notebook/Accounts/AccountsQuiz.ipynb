{
 "cells": [
  {
   "cell_type": "markdown",
   "metadata": {},
   "source": [
    "# 会計クイズ\n",
    "\n",
    "[大手町のランダムウォーカー](https://twitter.com/OTE_WALK)さんのTLより"
   ]
  },
  {
   "cell_type": "markdown",
   "metadata": {},
   "source": [
    "## セブン銀行\n",
    "\n",
    "<img src=\"img/7bank.jpg\" alt=\"セブン銀行\" title=\"セブン銀行\" width=\"1000\" height=\"800\" align=\"left\" />  \n",
    "\n",
    "<br clear=\"left\">"
   ]
  },
  {
   "cell_type": "markdown",
   "metadata": {},
   "source": [
    "## コストコ\n",
    "\n",
    "<img src=\"img/costoco.jpg\" alt=\"コストコ\" title=\"コストコ\" width=\"1000\" height=\"800\" align=\"left\" />  \n",
    "\n",
    "<br clear=\"left\">\n",
    "\n",
    "* コストコのビジネスモデル\n",
    "    * 年会費を払って会員になることで自由に買い物ができる\n",
    "        * 通常の販売収益のほかに年会費の収益がある\n",
    "\n",
    "<!--\n",
    "②がコストコ\n",
    "\n",
    "コストコの高い売上原価率\n",
    "    店舗をそのまま倉庫として利用して販管費を削減している\n",
    "    \n",
    "営業利益の70%は年会費からの会費収益\n",
    "    営業利益4111000$のうち、会費収益は2853000$\n",
    "    商品販売自体ではほとんど利益がなく、会費収益で利益を得るビジネスモデル\n",
    "       顧客は年会費を支払う代わりに原価に近い値段(原価率約90%)で商品を購入できる\n",
    "       コストコは顧客のリピート率が向上し、毎年年会費を払てもらえる\n",
    "-->"
   ]
  },
  {
   "cell_type": "markdown",
   "metadata": {},
   "source": [
    "## 任天堂\n",
    "\n",
    "<img src=\"img/nintendo.jpg\" alt=\"任天堂\" title=\"任天堂\" width=\"1000\" height=\"800\" align=\"left\" />  \n",
    "\n",
    "<br clear=\"left\">\n",
    "\n",
    "<img src=\"img/etc_game.jpg\" alt=\"その他ゲーム\" title=\"その他ゲーム\" width=\"1000\" height=\"800\" align=\"left\" />  \n",
    "\n",
    "<br clear=\"left\">\n",
    "\n",
    "<!--\n",
    "②が任天堂\n",
    "①はニトリホールディングス、③は王将フードサービス\n",
    "\n",
    "総資産に比べて売上高が小さい\n",
    "    莫大な現預金を保有しているため\n",
    "    流動資産\n",
    "        現金等   6627億\n",
    "        売上債権 1060億\n",
    "        棚卸資産 391億\n",
    "        有価証券 2833億\n",
    "        その他   494億\n",
    "    固定資産\n",
    "        有形固定資産 865億\n",
    "        無形固定資産 128億\n",
    "        投資その他   2288億\n",
    "    売上高 4890億 (売上原価+販管費+営業利益)\n",
    "    \n",
    "ゲーム会社は流動資産が多い傾向\n",
    "    中長期的な業績が予想しにくく資金ショートしないようにするため\n",
    "        現預金を潤沢に持つ\n",
    "        借入をなるべく行わない\n",
    "        自己資本(純資産)を中心に経営する\n",
    "-->"
   ]
  },
  {
   "cell_type": "markdown",
   "metadata": {},
   "source": [
    "## 銀座ルノアール\n",
    "\n",
    "<img src=\"img/ginza-renoir.jpg\" alt=\"銀座ルノアール\" title=\"銀座ルノアール\" width=\"1000\" height=\"800\" align=\"left\" />  \n",
    "\n",
    "<br clear=\"left\">\n",
    "\n",
    "\n",
    "<!--\n",
    "①がルノアール\n",
    "②はグリー\n",
    "\n",
    "異常に原価率が低い\n",
    "    他の飲食店でもここまで低くない\n",
    "        販管費率が異常に高い\n",
    "            商品単体の粗利は高い(コーヒー原価74円を600円で販売)\n",
    "                1店舗あたりの売上高が少なく、相対的に販管費が大きく見えてしまう\n",
    "                -> Wifi、電源、時間、サービスなどで回転率は低い\n",
    "        ※ 単価が高くても回転率が低いと販管費が相対的に大きく見える\n",
    "            \n",
    "カフェビジネスは空間を提供するサービス\n",
    "    安いコーヒーならコンビニで買えばよい\n",
    "    コンビニよりも有料実習室やコワーキングスペースと競合する\n",
    "-->"
   ]
  },
  {
   "cell_type": "markdown",
   "metadata": {},
   "source": [
    "## 参考\n",
    "\n",
    "* [メタップスICOについて](https://twitter.com/OTE_WALK/status/953200211920224256)"
   ]
  }
 ],
 "metadata": {
  "kernelspec": {
   "display_name": "Python 3",
   "language": "python",
   "name": "python3"
  },
  "language_info": {
   "codemirror_mode": {
    "name": "ipython",
    "version": 3
   },
   "file_extension": ".py",
   "mimetype": "text/x-python",
   "name": "python",
   "nbconvert_exporter": "python",
   "pygments_lexer": "ipython3",
   "version": "3.5.4"
  }
 },
 "nbformat": 4,
 "nbformat_minor": 2
}
