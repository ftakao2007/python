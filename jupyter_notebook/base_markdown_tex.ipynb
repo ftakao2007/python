{
 "cells": [
  {
   "cell_type": "markdown",
   "metadata": {
    "deletable": true,
    "editable": true
   },
   "source": [
    "# MarkdownやTeXの例"
   ]
  },
  {
   "cell_type": "markdown",
   "metadata": {
    "deletable": true,
    "editable": true
   },
   "source": [
    "* \\sum^{n}_{k=1} U_{k} \\boldsymbol{e}_k\n",
    "    * $ \\sum^{n}_{k=1} U_{k} \\boldsymbol{e}_k $\n",
    "* \\overline{x}\n",
    "    * $ \\overline{x} $"
   ]
  },
  {
   "cell_type": "markdown",
   "metadata": {
    "deletable": true,
    "editable": true
   },
   "source": [
    "$\n",
    "y = \n",
    "\\begin{eqnarray}\n",
    "\\left\\{\n",
    "\\begin{array}{l}\n",
    "0 & ( \\omega_{1} x_{1} + \\omega_{2} x_{2} \\leqq \\theta ) \\\\\n",
    "1 & ( \\omega_{1} x_{1} + \\omega_{2} x_{2} > \\theta ) \n",
    "\\end{array}\n",
    "\\right.\n",
    "\\end{eqnarray}\n",
    "$\n",
    "\n",
    "\n",
    "```\n",
    "================================================\n",
    "y = \n",
    "\\begin{eqnarray}\n",
    "\\left\\{\n",
    "\\begin{array}{l}\n",
    "0 & ( \\omega_{1} x_{1} + \\omega_{2} x_{2} \\leqq \\theta ) \\\\\n",
    "1 & ( \\omega_{1} x_{1} + \\omega_{2} x_{2} > \\theta ) \n",
    "\\end{array}\n",
    "\\right.\n",
    "\\end{eqnarray}\n",
    "================================================\n",
    "```\n",
    "\n",
    "\n"
   ]
  }
 ],
 "metadata": {
  "kernelspec": {
   "display_name": "Python 3",
   "language": "python",
   "name": "python3"
  },
  "language_info": {
   "codemirror_mode": {
    "name": "ipython",
    "version": 3
   },
   "file_extension": ".py",
   "mimetype": "text/x-python",
   "name": "python",
   "nbconvert_exporter": "python",
   "pygments_lexer": "ipython3",
   "version": "3.6.1"
  }
 },
 "nbformat": 4,
 "nbformat_minor": 2
}
