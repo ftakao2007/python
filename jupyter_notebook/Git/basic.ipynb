{
 "cells": [
  {
   "cell_type": "markdown",
   "metadata": {},
   "source": [
    "## gitディレクトリの初期化"
   ]
  },
  {
   "cell_type": "code",
   "execution_count": 89,
   "metadata": {
    "collapsed": false
   },
   "outputs": [
    {
     "name": "stdout",
     "output_type": "stream",
     "text": [
      "Initialized empty Git repository in /root/python/jupyter_notebook/Git/gittest/.git/\n",
      "On branch master\n",
      "\n",
      "Initial commit\n",
      "\n",
      "nothing to commit (create/copy files and use \"git add\" to track)\n"
     ]
    }
   ],
   "source": [
    "%%bash\n",
    "directory=gittest\n",
    "\n",
    "### いったん全部消す\n",
    "rm -rf ${directory}\n",
    "\n",
    "### git用ディレクトリの作成とgit initの実行\n",
    "mkdir ${directory}\n",
    "cd ${directory}\n",
    "git init\n",
    "git status"
   ]
  },
  {
   "cell_type": "markdown",
   "metadata": {},
   "source": [
    "## (ここでgitコマンドを実行する)"
   ]
  },
  {
   "cell_type": "code",
   "execution_count": 90,
   "metadata": {
    "collapsed": false
   },
   "outputs": [
    {
     "name": "stdout",
     "output_type": "stream",
     "text": [
      "On branch master\n",
      "\n",
      "Initial commit\n",
      "\n",
      "Changes to be committed:\n",
      "  (use \"git rm --cached <file>...\" to unstage)\n",
      "\n",
      "\tnew file:   hoge.txt\n",
      "\n"
     ]
    }
   ],
   "source": [
    "%%bash\n",
    "directory=gittest\n",
    "\n",
    "cd ${directory}\n",
    "echo \"fuga\" > hoge.txt\n",
    "git add hoge.txt\n",
    "git status"
   ]
  },
  {
   "cell_type": "markdown",
   "metadata": {},
   "source": [
    "## gitディレクトリの構造確認"
   ]
  },
  {
   "cell_type": "code",
   "execution_count": 91,
   "metadata": {
    "collapsed": false
   },
   "outputs": [
    {
     "name": "stdout",
     "output_type": "stream",
     "text": [
      ".git\n",
      ".git/refs\n",
      ".git/refs/heads\n",
      ".git/refs/tags\n",
      ".git/branches\n",
      ".git/description\n",
      ".git/hooks\n",
      ".git/hooks/applypatch-msg.sample\n",
      ".git/hooks/commit-msg.sample\n",
      ".git/hooks/post-update.sample\n",
      ".git/hooks/pre-applypatch.sample\n",
      ".git/hooks/pre-commit.sample\n",
      ".git/hooks/pre-push.sample\n",
      ".git/hooks/pre-rebase.sample\n",
      ".git/hooks/prepare-commit-msg.sample\n",
      ".git/hooks/update.sample\n",
      ".git/info\n",
      ".git/info/exclude\n",
      ".git/HEAD\n",
      ".git/config\n",
      ".git/objects\n",
      ".git/objects/pack\n",
      ".git/objects/info\n",
      ".git/objects/91\n",
      ".git/objects/91/28c3eb56a3547e2cca631042366bf0f37abe67\n",
      ".git/index\n"
     ]
    }
   ],
   "source": [
    "%%bash\n",
    "directory=gittest\n",
    "\n",
    "### ディレクトリ構造の確認\n",
    "cd ${directory}\n",
    "find .git"
   ]
  },
  {
   "cell_type": "markdown",
   "metadata": {},
   "source": [
    "## .git直下のファイル\n",
    "\n",
    "* `git add` を実行したとき\n",
    "    * HEAD, config, descriptionは何も変わらない\n",
    "    * indexファイルが作成される\n",
    "        * バイナリファイル\n",
    "        * プロジェクトのある時点でのディレクトリツリー全体を表すデータをもつ\n",
    "        * プロジェクトの各ファイルについて対応する以下のものを保存する\n",
    "            * ブロブへのポインタ\n",
    "            * プロジェクトルートディレクトリからの相対パス"
   ]
  },
  {
   "cell_type": "code",
   "execution_count": 95,
   "metadata": {
    "collapsed": false
   },
   "outputs": [
    {
     "name": "stdout",
     "output_type": "stream",
     "text": [
      "### .git/HEAD\n",
      "================================================\n",
      "ref: refs/heads/master\n",
      "================================================\n",
      "\n",
      "### .git/config\n",
      "================================================\n",
      "[core]\n",
      "\trepositoryformatversion = 0\n",
      "\tfilemode = true\n",
      "\tbare = false\n",
      "\tlogallrefupdates = true\n",
      "================================================\n",
      "\n",
      "### .git/description\n",
      "================================================\n",
      "Unnamed repository; edit this file 'description' to name the repository.\n",
      "================================================\n",
      "\n",
      "### .git/index\n",
      "================================================\n",
      "DIRC\u0000\u0000\u0000\u0002\u0000\u0000\u0000\u0001YC��\u00040��YC��\u00040��\u0000\u0000�\u0004\u0001�m\u0005\u0000\u0000��\u0000\u0000\u0000\u0000\u0000\u0000\u0000\u0000\u0000\u0000\u0000\u0005�(��V�T~,�c\u0010B6k��z�g\u0000\bhoge.txt\u0000\u0000b�����t�9�������s.p\u001a\n",
      "================================================\n",
      "\n",
      "100644 9128c3eb56a3547e2cca631042366bf0f37abe67 0\thoge.txt\n"
     ]
    }
   ],
   "source": [
    "%%bash\n",
    "directory=gittest\n",
    "\n",
    "### ファイルの確認\n",
    "cd ${directory}\n",
    "echo \"### .git/HEAD\"\n",
    "echo \"================================================\"\n",
    "cat .git/HEAD\n",
    "echo \"================================================\"\n",
    "echo\n",
    "\n",
    "echo \"### .git/config\"\n",
    "echo \"================================================\"\n",
    "cat .git/config\n",
    "echo \"================================================\"\n",
    "echo\n",
    "\n",
    "echo \"### .git/description\"\n",
    "echo \"================================================\"\n",
    "cat .git/description\n",
    "echo \"================================================\"\n",
    "echo\n",
    "\n",
    "if [ -f \".git/index\" ]; then\n",
    "echo \"### .git/index\"\n",
    "echo \"================================================\"\n",
    "cat .git/index\n",
    "echo \n",
    "echo \"================================================\"\n",
    "echo\n",
    "git ls-files --stage\n",
    "fi\n"
   ]
  },
  {
   "cell_type": "markdown",
   "metadata": {},
   "source": [
    "## branchesディレクトリ\n",
    "\n",
    "* `git add` を実行したとき\n",
    "    * 何も変わらない"
   ]
  },
  {
   "cell_type": "code",
   "execution_count": 71,
   "metadata": {
    "collapsed": false
   },
   "outputs": [
    {
     "name": "stdout",
     "output_type": "stream",
     "text": [
      "### .git/branches\n",
      "================================================\n",
      "================================================\n",
      "\n"
     ]
    }
   ],
   "source": [
    "%%bash\n",
    "directory=gittest\n",
    "\n",
    "### branchesディレクトリの確認\n",
    "cd ${directory}\n",
    "echo \"### .git/branches\"\n",
    "echo \"================================================\"\n",
    "ls .git/branches\n",
    "echo \"================================================\"\n",
    "echo"
   ]
  },
  {
   "cell_type": "markdown",
   "metadata": {},
   "source": [
    "## hooksディレクトリ\n",
    "\n",
    "* `git add` を実行したとき\n",
    "    * 何も変わらない"
   ]
  },
  {
   "cell_type": "code",
   "execution_count": 72,
   "metadata": {
    "collapsed": false
   },
   "outputs": [
    {
     "name": "stdout",
     "output_type": "stream",
     "text": [
      "### .git/hooks\n",
      "================================================\n",
      "applypatch-msg.sample\n",
      "commit-msg.sample\n",
      "post-update.sample\n",
      "pre-applypatch.sample\n",
      "pre-commit.sample\n",
      "pre-push.sample\n",
      "pre-rebase.sample\n",
      "prepare-commit-msg.sample\n",
      "update.sample\n",
      "================================================\n",
      "\n"
     ]
    }
   ],
   "source": [
    "%%bash\n",
    "directory=gittest\n",
    "\n",
    "### hooksディレクトリの確認\n",
    "cd ${directory}\n",
    "echo \"### .git/hooks\"\n",
    "echo \"================================================\"\n",
    "ls .git/hooks\n",
    "echo \"================================================\"\n",
    "echo"
   ]
  },
  {
   "cell_type": "markdown",
   "metadata": {},
   "source": [
    "## infoディレクトリ\n",
    "\n",
    "* `git add` を実行したとき\n",
    "    * 何も変わらない"
   ]
  },
  {
   "cell_type": "code",
   "execution_count": 94,
   "metadata": {
    "collapsed": false
   },
   "outputs": [
    {
     "name": "stdout",
     "output_type": "stream",
     "text": [
      "### .git/info\n",
      "================================================\n",
      "exclude\n",
      "================================================\n",
      "\n",
      "### .git/info/exclude\n",
      "================================================\n",
      "# git ls-files --others --exclude-from=.git/info/exclude\n",
      "# Lines that start with '#' are comments.\n",
      "# For a project mostly in C, the following would be a good set of\n",
      "# exclude patterns (uncomment them if you want to use them):\n",
      "# *.[oa]\n",
      "# *~\n",
      "================================================\n",
      "\n"
     ]
    }
   ],
   "source": [
    "%%bash\n",
    "directory=gittest\n",
    "\n",
    "### infoディレクトリの確認\n",
    "cd ${directory}\n",
    "echo \"### .git/info\"\n",
    "echo \"================================================\"\n",
    "ls .git/info\n",
    "echo \"================================================\"\n",
    "echo\n",
    "\n",
    "echo \"### .git/info/exclude\"\n",
    "echo \"================================================\"\n",
    "cat .git/info/exclude\n",
    "echo \"================================================\"\n",
    "echo"
   ]
  },
  {
   "cell_type": "markdown",
   "metadata": {
    "deletable": true,
    "editable": true
   },
   "source": [
    "## objectsディレクトリ\n",
    "\n",
    "* `git add` を実行したとき\n",
    "    * 91ディレクトリが作成される\n",
    "    * コミットのハッシュ値のファイルができる"
   ]
  },
  {
   "cell_type": "code",
   "execution_count": 92,
   "metadata": {
    "collapsed": false
   },
   "outputs": [
    {
     "name": "stdout",
     "output_type": "stream",
     "text": [
      "### .git/objects\n",
      "================================================\n",
      "91\n",
      "info\n",
      "pack\n",
      "================================================\n",
      "\n",
      "### .git/objects/info\n",
      "================================================\n",
      "================================================\n",
      "\n",
      "### .git/objects/pack\n",
      "================================================\n",
      "================================================\n",
      "\n",
      "### .git/objects/91\n",
      "================================================\n",
      "28c3eb56a3547e2cca631042366bf0f37abe67\n",
      "================================================\n",
      "\n",
      "### .git/objects/91/28c3eb56a3547e2cca631042366bf0f37abe67\n",
      "================================================\n",
      "x\u0001K��OR0eH+MO�\u0002\u0000\u0019V\u0003�\n",
      "================================================\n",
      "\n"
     ]
    }
   ],
   "source": [
    "%%bash\n",
    "directory=gittest\n",
    "\n",
    "### objectsディレクトリの確認\n",
    "cd ${directory}\n",
    "echo \"### .git/objects\"\n",
    "echo \"================================================\"\n",
    "ls .git/objects\n",
    "echo \"================================================\"\n",
    "echo\n",
    "\n",
    "echo \"### .git/objects/info\"\n",
    "echo \"================================================\"\n",
    "ls .git/objects/info\n",
    "echo \"================================================\"\n",
    "echo\n",
    "\n",
    "echo \"### .git/objects/pack\"\n",
    "echo \"================================================\"\n",
    "ls .git/objects/pack\n",
    "echo \"================================================\"\n",
    "echo\n",
    "\n",
    "if [ -d \".git/objects/91\" ]; then\n",
    "echo \"### .git/objects/91\"\n",
    "echo \"================================================\"\n",
    "ls .git/objects/91\n",
    "echo \"================================================\"\n",
    "echo\n",
    "\n",
    "commit_hash_value=`ls .git/objects/91`\n",
    "\n",
    "echo \"### .git/objects/91/${commit_hash_value}\"\n",
    "echo \"================================================\"\n",
    "cat .git/objects/91/${commit_hash_value}\n",
    "echo\n",
    "echo \"================================================\"\n",
    "echo\n",
    "fi"
   ]
  },
  {
   "cell_type": "markdown",
   "metadata": {},
   "source": [
    "## refsディレクトリ\n",
    "\n",
    "* `git add` を実行したとき\n",
    "    * 何も変化なし"
   ]
  },
  {
   "cell_type": "code",
   "execution_count": 93,
   "metadata": {
    "collapsed": false
   },
   "outputs": [
    {
     "name": "stdout",
     "output_type": "stream",
     "text": [
      "### .git/refs\n",
      "================================================\n",
      "heads\n",
      "tags\n",
      "================================================\n",
      "\n",
      "### .git/refs/heads\n",
      "================================================\n",
      "================================================\n",
      "\n",
      "### .git/refs/tags\n",
      "================================================\n",
      "================================================\n",
      "\n"
     ]
    }
   ],
   "source": [
    "%%bash\n",
    "directory=gittest\n",
    "\n",
    "### refsディレクトリの確認\n",
    "cd ${directory}\n",
    "echo \"### .git/refs\"\n",
    "echo \"================================================\"\n",
    "ls .git/refs\n",
    "echo \"================================================\"\n",
    "echo\n",
    "\n",
    "echo \"### .git/refs/heads\"\n",
    "echo \"================================================\"\n",
    "ls .git/refs/heads\n",
    "echo \"================================================\"\n",
    "echo\n",
    "\n",
    "echo \"### .git/refs/tags\"\n",
    "echo \"================================================\"\n",
    "ls .git/refs/tags\n",
    "echo \"================================================\"\n",
    "echo\n"
   ]
  }
 ],
 "metadata": {
  "kernelspec": {
   "display_name": "Python 3",
   "language": "python",
   "name": "python3"
  },
  "language_info": {
   "codemirror_mode": {
    "name": "ipython",
    "version": 3
   },
   "file_extension": ".py",
   "mimetype": "text/x-python",
   "name": "python",
   "nbconvert_exporter": "python",
   "pygments_lexer": "ipython3",
   "version": "3.6.1"
  }
 },
 "nbformat": 4,
 "nbformat_minor": 2
}
