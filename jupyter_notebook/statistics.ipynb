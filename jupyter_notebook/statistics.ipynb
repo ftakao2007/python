{
 "cells": [
  {
   "cell_type": "markdown",
   "metadata": {},
   "source": [
    "# 統計学\n",
    "\n",
    "[基礎としての統計学](https://www.slideshare.net/matsukenbook/ss-53235145)\n",
    "\n",
    "* 統計学の二つの目的\n",
    "    * 記述統計\n",
    "        * 手元のデータを要約する\n",
    "    * 推測統計\n",
    "        * サンプル(標本)から全体(母集団)を推測する\n",
    "* グラフ\n",
    "    * ヒストグラム\n",
    "        * ある幅に入っているデータの個数(度数)を、棒の縦の長さで表したグラフ\n",
    "        * 面積が度数と比例するように描く\n",
    "    * 箱ヒゲ図\n",
    "        * 最小値、25%点、50%点、75%点、最大値、外れ値\n",
    "            * 外れ値\n",
    "            * Q1(25%点) - 1.5 * IQRより小さい\n",
    "            * Q2(75%点) + 1.5 * IQRより大きい\n",
    "    * 散文図(+回帰分析)\n",
    "    * 時系列グラフ(2軸グラフ)\n",
    "        * 株価、為替など\n",
    "            "
   ]
  }
 ],
 "metadata": {
  "kernelspec": {
   "display_name": "Python 3",
   "language": "python",
   "name": "python3"
  },
  "language_info": {
   "codemirror_mode": {
    "name": "ipython",
    "version": 3
   },
   "file_extension": ".py",
   "mimetype": "text/x-python",
   "name": "python",
   "nbconvert_exporter": "python",
   "pygments_lexer": "ipython3",
   "version": "3.6.1"
  }
 },
 "nbformat": 4,
 "nbformat_minor": 2
}
