{
 "cells": [
  {
   "cell_type": "markdown",
   "metadata": {
    "collapsed": false,
    "deletable": true,
    "editable": true
   },
   "source": [
    "## pandasのデータ構造\n",
    "* Series(シリーズ)\n",
    "    * 一次元のデータ構造\n",
    "* DataFrame(データフレーム)\n",
    "    * 二次元のデータ構造\n",
    "* 階層インデックス\n",
    "    * より高次元のデータを扱うとき\n",
    "    \n",
    "## データフレームの作成(初期化)\n",
    "\n",
    "pandasをロードし、pdという名前でアクセスできるようにする\n",
    "```\n",
    "import pandas as pd\n",
    "```\n",
    "\n",
    "* データフレームとして扱いたいデータを `pd.DataFrame` に渡す\n",
    "    * 戻り値はデータフレームのオブジェクト"
   ]
  },
  {
   "cell_type": "code",
   "execution_count": 86,
   "metadata": {
    "collapsed": false,
    "deletable": true,
    "editable": true
   },
   "outputs": [
    {
     "data": {
      "text/html": [
       "<div>\n",
       "<table border=\"1\" class=\"dataframe\">\n",
       "  <thead>\n",
       "    <tr style=\"text-align: right;\">\n",
       "      <th></th>\n",
       "      <th>value</th>\n",
       "    </tr>\n",
       "  </thead>\n",
       "  <tbody>\n",
       "    <tr>\n",
       "      <th>0</th>\n",
       "      <td>1</td>\n",
       "    </tr>\n",
       "    <tr>\n",
       "      <th>1</th>\n",
       "      <td>2</td>\n",
       "    </tr>\n",
       "    <tr>\n",
       "      <th>2</th>\n",
       "      <td>3</td>\n",
       "    </tr>\n",
       "  </tbody>\n",
       "</table>\n",
       "</div>"
      ],
      "text/plain": [
       "   value\n",
       "0      1\n",
       "1      2\n",
       "2      3"
      ]
     },
     "execution_count": 86,
     "metadata": {},
     "output_type": "execute_result"
    }
   ],
   "source": [
    "import pandas as pd\n",
    "%matplotlib inline\n",
    "\n",
    "df = pd.DataFrame([1,2,3], columns=['value'])\n",
    "df"
   ]
  },
  {
   "cell_type": "markdown",
   "metadata": {
    "deletable": true,
    "editable": true
   },
   "source": [
    "## データフレームにタプルのリストを渡す"
   ]
  },
  {
   "cell_type": "code",
   "execution_count": 4,
   "metadata": {
    "collapsed": false,
    "deletable": true,
    "editable": true
   },
   "outputs": [
    {
     "data": {
      "text/html": [
       "<div>\n",
       "<table border=\"1\" class=\"dataframe\">\n",
       "  <thead>\n",
       "    <tr style=\"text-align: right;\">\n",
       "      <th></th>\n",
       "      <th>name</th>\n",
       "      <th>price</th>\n",
       "    </tr>\n",
       "  </thead>\n",
       "  <tbody>\n",
       "    <tr>\n",
       "      <th>0</th>\n",
       "      <td>apple</td>\n",
       "      <td>160</td>\n",
       "    </tr>\n",
       "    <tr>\n",
       "      <th>1</th>\n",
       "      <td>orange</td>\n",
       "      <td>30</td>\n",
       "    </tr>\n",
       "    <tr>\n",
       "      <th>2</th>\n",
       "      <td>kiwi</td>\n",
       "      <td>80</td>\n",
       "    </tr>\n",
       "  </tbody>\n",
       "</table>\n",
       "</div>"
      ],
      "text/plain": [
       "     name  price\n",
       "0   apple    160\n",
       "1  orange     30\n",
       "2    kiwi     80"
      ]
     },
     "execution_count": 4,
     "metadata": {},
     "output_type": "execute_result"
    }
   ],
   "source": [
    "pd.DataFrame([('apple',160),('orange',30),('kiwi',80)], columns=['name', 'price'])"
   ]
  },
  {
   "cell_type": "markdown",
   "metadata": {
    "deletable": true,
    "editable": true
   },
   "source": [
    "## データフレームにディクショナリのリストを渡す"
   ]
  },
  {
   "cell_type": "code",
   "execution_count": 28,
   "metadata": {
    "collapsed": false,
    "deletable": true,
    "editable": true
   },
   "outputs": [
    {
     "data": {
      "text/html": [
       "<div>\n",
       "<table border=\"1\" class=\"dataframe\">\n",
       "  <thead>\n",
       "    <tr style=\"text-align: right;\">\n",
       "      <th></th>\n",
       "      <th>fruit</th>\n",
       "      <th>order</th>\n",
       "      <th>price</th>\n",
       "    </tr>\n",
       "  </thead>\n",
       "  <tbody>\n",
       "    <tr>\n",
       "      <th>0</th>\n",
       "      <td>apple</td>\n",
       "      <td>12</td>\n",
       "      <td>160</td>\n",
       "    </tr>\n",
       "    <tr>\n",
       "      <th>1</th>\n",
       "      <td>orange</td>\n",
       "      <td>30</td>\n",
       "      <td>30</td>\n",
       "    </tr>\n",
       "    <tr>\n",
       "      <th>2</th>\n",
       "      <td>kiwi</td>\n",
       "      <td>8</td>\n",
       "      <td>80</td>\n",
       "    </tr>\n",
       "  </tbody>\n",
       "</table>\n",
       "</div>"
      ],
      "text/plain": [
       "    fruit  order  price\n",
       "0   apple     12    160\n",
       "1  orange     30     30\n",
       "2    kiwi      8     80"
      ]
     },
     "execution_count": 28,
     "metadata": {},
     "output_type": "execute_result"
    }
   ],
   "source": [
    "data = {\n",
    "    'fruit' : ['apple', 'orange', 'kiwi'],\n",
    "    'price' : [160,30,80],\n",
    "    'order' : [12,30,8]\n",
    "}\n",
    "\n",
    "df = pd.DataFrame(data)\n",
    "df"
   ]
  },
  {
   "cell_type": "markdown",
   "metadata": {
    "deletable": true,
    "editable": true
   },
   "source": [
    "## 後から列を追加する"
   ]
  },
  {
   "cell_type": "code",
   "execution_count": 27,
   "metadata": {
    "collapsed": false,
    "deletable": true,
    "editable": true
   },
   "outputs": [
    {
     "data": {
      "text/html": [
       "<div>\n",
       "<table border=\"1\" class=\"dataframe\">\n",
       "  <thead>\n",
       "    <tr style=\"text-align: right;\">\n",
       "      <th></th>\n",
       "      <th>fruit</th>\n",
       "      <th>order</th>\n",
       "      <th>price</th>\n",
       "      <th>total</th>\n",
       "    </tr>\n",
       "  </thead>\n",
       "  <tbody>\n",
       "    <tr>\n",
       "      <th>0</th>\n",
       "      <td>apple</td>\n",
       "      <td>12</td>\n",
       "      <td>160</td>\n",
       "      <td>1920</td>\n",
       "    </tr>\n",
       "    <tr>\n",
       "      <th>1</th>\n",
       "      <td>orange</td>\n",
       "      <td>30</td>\n",
       "      <td>30</td>\n",
       "      <td>900</td>\n",
       "    </tr>\n",
       "    <tr>\n",
       "      <th>2</th>\n",
       "      <td>kiwi</td>\n",
       "      <td>8</td>\n",
       "      <td>80</td>\n",
       "      <td>640</td>\n",
       "    </tr>\n",
       "  </tbody>\n",
       "</table>\n",
       "</div>"
      ],
      "text/plain": [
       "    fruit  order  price  total\n",
       "0   apple     12    160   1920\n",
       "1  orange     30     30    900\n",
       "2    kiwi      8     80    640"
      ]
     },
     "execution_count": 27,
     "metadata": {},
     "output_type": "execute_result"
    }
   ],
   "source": [
    "data = {\n",
    "    'fruit' : ['apple', 'orange', 'kiwi'],\n",
    "    'price' : [160,30,80],\n",
    "    'order' : [12,30,8]\n",
    "}\n",
    "\n",
    "df = pd.DataFrame(data)\n",
    "df['total'] = df['order'] * df['price']\n",
    "df"
   ]
  },
  {
   "cell_type": "markdown",
   "metadata": {
    "deletable": true,
    "editable": true
   },
   "source": [
    "## インデックスを指定する\n",
    "\n",
    "* デフォルトは行の検索は0から始まる数値\n",
    "    * 任意の値をインデックスにセットできる"
   ]
  },
  {
   "cell_type": "code",
   "execution_count": 18,
   "metadata": {
    "collapsed": false,
    "deletable": true,
    "editable": true
   },
   "outputs": [
    {
     "data": {
      "text/html": [
       "<div>\n",
       "<table border=\"1\" class=\"dataframe\">\n",
       "  <thead>\n",
       "    <tr style=\"text-align: right;\">\n",
       "      <th></th>\n",
       "      <th>order</th>\n",
       "      <th>price</th>\n",
       "    </tr>\n",
       "  </thead>\n",
       "  <tbody>\n",
       "    <tr>\n",
       "      <th>apple</th>\n",
       "      <td>12</td>\n",
       "      <td>160</td>\n",
       "    </tr>\n",
       "    <tr>\n",
       "      <th>orange</th>\n",
       "      <td>30</td>\n",
       "      <td>30</td>\n",
       "    </tr>\n",
       "    <tr>\n",
       "      <th>kiwi</th>\n",
       "      <td>8</td>\n",
       "      <td>80</td>\n",
       "    </tr>\n",
       "  </tbody>\n",
       "</table>\n",
       "</div>"
      ],
      "text/plain": [
       "        order  price\n",
       "apple      12    160\n",
       "orange     30     30\n",
       "kiwi        8     80"
      ]
     },
     "execution_count": 18,
     "metadata": {},
     "output_type": "execute_result"
    }
   ],
   "source": [
    "data = {\n",
    "    'price' : [160,30,80],\n",
    "    'order' : [12,30,8]\n",
    "}\n",
    "\n",
    "df = pd.DataFrame(data, index=['apple', 'orange', 'kiwi'])\n",
    "df"
   ]
  },
  {
   "cell_type": "code",
   "execution_count": 87,
   "metadata": {
    "collapsed": false,
    "deletable": true,
    "editable": true
   },
   "outputs": [
    {
     "data": {
      "text/plain": [
       "order     8\n",
       "price    80\n",
       "Name: kiwi, dtype: int64"
      ]
     },
     "execution_count": 87,
     "metadata": {},
     "output_type": "execute_result"
    }
   ],
   "source": [
    "data = {\n",
    "    'price' : [160,30,80],\n",
    "    'order' : [12,30,8]\n",
    "}\n",
    "\n",
    "df = pd.DataFrame(data, index=['apple', 'orange', 'kiwi'])\n",
    "df.ix['kiwi']"
   ]
  },
  {
   "cell_type": "code",
   "execution_count": 21,
   "metadata": {
    "collapsed": false,
    "deletable": true,
    "editable": true
   },
   "outputs": [
    {
     "data": {
      "text/plain": [
       "(3, 2)"
      ]
     },
     "execution_count": 21,
     "metadata": {},
     "output_type": "execute_result"
    }
   ],
   "source": [
    "data = {\n",
    "    'price' : [160,30,80],\n",
    "    'order' : [12,30,8]\n",
    "}\n",
    "\n",
    "df = pd.DataFrame(data, index=['apple', 'orange', 'kiwi'])\n",
    "df.shape"
   ]
  },
  {
   "cell_type": "code",
   "execution_count": 29,
   "metadata": {
    "collapsed": false,
    "deletable": true,
    "editable": true
   },
   "outputs": [
    {
     "data": {
      "text/html": [
       "<div>\n",
       "<table border=\"1\" class=\"dataframe\">\n",
       "  <thead>\n",
       "    <tr style=\"text-align: right;\">\n",
       "      <th></th>\n",
       "      <th>fruit</th>\n",
       "      <th>order</th>\n",
       "    </tr>\n",
       "  </thead>\n",
       "  <tbody>\n",
       "    <tr>\n",
       "      <th>0</th>\n",
       "      <td>apple</td>\n",
       "      <td>12</td>\n",
       "    </tr>\n",
       "    <tr>\n",
       "      <th>1</th>\n",
       "      <td>orange</td>\n",
       "      <td>30</td>\n",
       "    </tr>\n",
       "    <tr>\n",
       "      <th>2</th>\n",
       "      <td>kiwi</td>\n",
       "      <td>8</td>\n",
       "    </tr>\n",
       "  </tbody>\n",
       "</table>\n",
       "</div>"
      ],
      "text/plain": [
       "    fruit  order\n",
       "0   apple     12\n",
       "1  orange     30\n",
       "2    kiwi      8"
      ]
     },
     "execution_count": 29,
     "metadata": {},
     "output_type": "execute_result"
    }
   ],
   "source": [
    "data = {\n",
    "    'fruit' : ['apple', 'orange', 'kiwi'],\n",
    "    'price' : [160,30,80],\n",
    "    'order' : [12,30,8]\n",
    "}\n",
    "\n",
    "df = pd.DataFrame(data)\n",
    "df[['fruit','order']]"
   ]
  },
  {
   "cell_type": "code",
   "execution_count": 31,
   "metadata": {
    "collapsed": false,
    "deletable": true,
    "editable": true
   },
   "outputs": [
    {
     "data": {
      "text/html": [
       "<div>\n",
       "<table border=\"1\" class=\"dataframe\">\n",
       "  <thead>\n",
       "    <tr style=\"text-align: right;\">\n",
       "      <th></th>\n",
       "      <th>fruit</th>\n",
       "      <th>order</th>\n",
       "      <th>price</th>\n",
       "    </tr>\n",
       "  </thead>\n",
       "  <tbody>\n",
       "    <tr>\n",
       "      <th>0</th>\n",
       "      <td>apple</td>\n",
       "      <td>12</td>\n",
       "      <td>160</td>\n",
       "    </tr>\n",
       "    <tr>\n",
       "      <th>1</th>\n",
       "      <td>orange</td>\n",
       "      <td>30</td>\n",
       "      <td>30</td>\n",
       "    </tr>\n",
       "  </tbody>\n",
       "</table>\n",
       "</div>"
      ],
      "text/plain": [
       "    fruit  order  price\n",
       "0   apple     12    160\n",
       "1  orange     30     30"
      ]
     },
     "execution_count": 31,
     "metadata": {},
     "output_type": "execute_result"
    }
   ],
   "source": [
    "data = {\n",
    "    'fruit' : ['apple', 'orange', 'kiwi'],\n",
    "    'price' : [160,30,80],\n",
    "    'order' : [12,30,8]\n",
    "}\n",
    "\n",
    "df = pd.DataFrame(data)\n",
    "df.head(2)"
   ]
  },
  {
   "cell_type": "code",
   "execution_count": 33,
   "metadata": {
    "collapsed": false,
    "deletable": true,
    "editable": true
   },
   "outputs": [
    {
     "data": {
      "text/html": [
       "<div>\n",
       "<table border=\"1\" class=\"dataframe\">\n",
       "  <thead>\n",
       "    <tr style=\"text-align: right;\">\n",
       "      <th></th>\n",
       "      <th>fruit</th>\n",
       "      <th>order</th>\n",
       "      <th>price</th>\n",
       "    </tr>\n",
       "  </thead>\n",
       "  <tbody>\n",
       "    <tr>\n",
       "      <th>1</th>\n",
       "      <td>orange</td>\n",
       "      <td>30</td>\n",
       "      <td>30</td>\n",
       "    </tr>\n",
       "    <tr>\n",
       "      <th>2</th>\n",
       "      <td>kiwi</td>\n",
       "      <td>8</td>\n",
       "      <td>80</td>\n",
       "    </tr>\n",
       "  </tbody>\n",
       "</table>\n",
       "</div>"
      ],
      "text/plain": [
       "    fruit  order  price\n",
       "1  orange     30     30\n",
       "2    kiwi      8     80"
      ]
     },
     "execution_count": 33,
     "metadata": {},
     "output_type": "execute_result"
    }
   ],
   "source": [
    "data = {\n",
    "    'fruit' : ['apple', 'orange', 'kiwi'],\n",
    "    'price' : [160,30,80],\n",
    "    'order' : [12,30,8]\n",
    "}\n",
    "\n",
    "df = pd.DataFrame(data)\n",
    "df.tail(2)"
   ]
  },
  {
   "cell_type": "code",
   "execution_count": 45,
   "metadata": {
    "collapsed": false,
    "deletable": true,
    "editable": true
   },
   "outputs": [
    {
     "data": {
      "text/html": [
       "<div>\n",
       "<table border=\"1\" class=\"dataframe\">\n",
       "  <thead>\n",
       "    <tr style=\"text-align: right;\">\n",
       "      <th></th>\n",
       "      <th>fruit</th>\n",
       "      <th>order</th>\n",
       "      <th>price</th>\n",
       "    </tr>\n",
       "  </thead>\n",
       "  <tbody>\n",
       "    <tr>\n",
       "      <th>0</th>\n",
       "      <td>apple</td>\n",
       "      <td>12</td>\n",
       "      <td>160</td>\n",
       "    </tr>\n",
       "    <tr>\n",
       "      <th>1</th>\n",
       "      <td>orange</td>\n",
       "      <td>30</td>\n",
       "      <td>30</td>\n",
       "    </tr>\n",
       "  </tbody>\n",
       "</table>\n",
       "</div>"
      ],
      "text/plain": [
       "    fruit  order  price\n",
       "0   apple     12    160\n",
       "1  orange     30     30"
      ]
     },
     "execution_count": 45,
     "metadata": {},
     "output_type": "execute_result"
    }
   ],
   "source": [
    "data = {\n",
    "    'fruit' : ['apple', 'orange', 'kiwi'],\n",
    "    'price' : [160,30,80],\n",
    "    'order' : [12,30,8]\n",
    "}\n",
    "\n",
    "df = pd.DataFrame(data)\n",
    "df[0:2]"
   ]
  },
  {
   "cell_type": "code",
   "execution_count": 47,
   "metadata": {
    "collapsed": false,
    "deletable": true,
    "editable": true
   },
   "outputs": [
    {
     "data": {
      "text/html": [
       "<div>\n",
       "<table border=\"1\" class=\"dataframe\">\n",
       "  <thead>\n",
       "    <tr style=\"text-align: right;\">\n",
       "      <th></th>\n",
       "      <th>fruit</th>\n",
       "      <th>order</th>\n",
       "      <th>price</th>\n",
       "    </tr>\n",
       "  </thead>\n",
       "  <tbody>\n",
       "    <tr>\n",
       "      <th>1</th>\n",
       "      <td>orange</td>\n",
       "      <td>30</td>\n",
       "      <td>30</td>\n",
       "    </tr>\n",
       "    <tr>\n",
       "      <th>2</th>\n",
       "      <td>kiwi</td>\n",
       "      <td>8</td>\n",
       "      <td>80</td>\n",
       "    </tr>\n",
       "  </tbody>\n",
       "</table>\n",
       "</div>"
      ],
      "text/plain": [
       "    fruit  order  price\n",
       "1  orange     30     30\n",
       "2    kiwi      8     80"
      ]
     },
     "execution_count": 47,
     "metadata": {},
     "output_type": "execute_result"
    }
   ],
   "source": [
    "data = {\n",
    "    'fruit' : ['apple', 'orange', 'kiwi'],\n",
    "    'price' : [160,30,80],\n",
    "    'order' : [12,30,8]\n",
    "}\n",
    "\n",
    "df = pd.DataFrame(data)\n",
    "df[1:]"
   ]
  },
  {
   "cell_type": "markdown",
   "metadata": {},
   "source": [
    "### インデックスを指定して値を取り出す"
   ]
  },
  {
   "cell_type": "code",
   "execution_count": 49,
   "metadata": {
    "collapsed": false,
    "deletable": true,
    "editable": true
   },
   "outputs": [
    {
     "data": {
      "text/html": [
       "<div>\n",
       "<table border=\"1\" class=\"dataframe\">\n",
       "  <thead>\n",
       "    <tr style=\"text-align: right;\">\n",
       "      <th></th>\n",
       "      <th>fruit</th>\n",
       "      <th>order</th>\n",
       "      <th>price</th>\n",
       "    </tr>\n",
       "  </thead>\n",
       "  <tbody>\n",
       "    <tr>\n",
       "      <th>0</th>\n",
       "      <td>apple</td>\n",
       "      <td>12</td>\n",
       "      <td>160</td>\n",
       "    </tr>\n",
       "    <tr>\n",
       "      <th>2</th>\n",
       "      <td>kiwi</td>\n",
       "      <td>8</td>\n",
       "      <td>80</td>\n",
       "    </tr>\n",
       "  </tbody>\n",
       "</table>\n",
       "</div>"
      ],
      "text/plain": [
       "   fruit  order  price\n",
       "0  apple     12    160\n",
       "2   kiwi      8     80"
      ]
     },
     "execution_count": 49,
     "metadata": {},
     "output_type": "execute_result"
    }
   ],
   "source": [
    "data = {\n",
    "    'fruit' : ['apple', 'orange', 'kiwi'],\n",
    "    'price' : [160,30,80],\n",
    "    'order' : [12,30,8]\n",
    "}\n",
    "\n",
    "df = pd.DataFrame(data)\n",
    "df.loc[[0,2]]"
   ]
  },
  {
   "cell_type": "code",
   "execution_count": 55,
   "metadata": {
    "collapsed": false,
    "deletable": true,
    "editable": true
   },
   "outputs": [
    {
     "data": {
      "text/html": [
       "<div>\n",
       "<table border=\"1\" class=\"dataframe\">\n",
       "  <thead>\n",
       "    <tr style=\"text-align: right;\">\n",
       "      <th></th>\n",
       "      <th>fruit</th>\n",
       "      <th>order</th>\n",
       "      <th>price</th>\n",
       "    </tr>\n",
       "  </thead>\n",
       "  <tbody>\n",
       "    <tr>\n",
       "      <th>0</th>\n",
       "      <td>apple</td>\n",
       "      <td>12</td>\n",
       "      <td>160</td>\n",
       "    </tr>\n",
       "    <tr>\n",
       "      <th>2</th>\n",
       "      <td>kiwi</td>\n",
       "      <td>8</td>\n",
       "      <td>80</td>\n",
       "    </tr>\n",
       "  </tbody>\n",
       "</table>\n",
       "</div>"
      ],
      "text/plain": [
       "   fruit  order  price\n",
       "0  apple     12    160\n",
       "2   kiwi      8     80"
      ]
     },
     "execution_count": 55,
     "metadata": {},
     "output_type": "execute_result"
    }
   ],
   "source": [
    "data = {\n",
    "    'fruit' : ['apple', 'orange', 'kiwi'],\n",
    "    'price' : [160,30,80],\n",
    "    'order' : [12,30,8]\n",
    "}\n",
    "\n",
    "df = pd.DataFrame(data)\n",
    "df.sample(n=2)"
   ]
  },
  {
   "cell_type": "code",
   "execution_count": 57,
   "metadata": {
    "collapsed": false,
    "deletable": true,
    "editable": true
   },
   "outputs": [
    {
     "data": {
      "text/html": [
       "<div>\n",
       "<table border=\"1\" class=\"dataframe\">\n",
       "  <thead>\n",
       "    <tr style=\"text-align: right;\">\n",
       "      <th></th>\n",
       "      <th>fruit</th>\n",
       "      <th>order</th>\n",
       "      <th>price</th>\n",
       "    </tr>\n",
       "  </thead>\n",
       "  <tbody>\n",
       "    <tr>\n",
       "      <th>0</th>\n",
       "      <td>apple</td>\n",
       "      <td>12</td>\n",
       "      <td>160</td>\n",
       "    </tr>\n",
       "    <tr>\n",
       "      <th>2</th>\n",
       "      <td>kiwi</td>\n",
       "      <td>8</td>\n",
       "      <td>80</td>\n",
       "    </tr>\n",
       "  </tbody>\n",
       "</table>\n",
       "</div>"
      ],
      "text/plain": [
       "   fruit  order  price\n",
       "0  apple     12    160\n",
       "2   kiwi      8     80"
      ]
     },
     "execution_count": 57,
     "metadata": {},
     "output_type": "execute_result"
    }
   ],
   "source": [
    "data = {\n",
    "    'fruit' : ['apple', 'orange', 'kiwi'],\n",
    "    'price' : [160,30,80],\n",
    "    'order' : [12,30,8]\n",
    "}\n",
    "\n",
    "df = pd.DataFrame(data)\n",
    "df[df.price > 50]"
   ]
  },
  {
   "cell_type": "code",
   "execution_count": 60,
   "metadata": {
    "collapsed": false,
    "deletable": true,
    "editable": true
   },
   "outputs": [
    {
     "data": {
      "text/html": [
       "<div>\n",
       "<table border=\"1\" class=\"dataframe\">\n",
       "  <thead>\n",
       "    <tr style=\"text-align: right;\">\n",
       "      <th></th>\n",
       "      <th>fruit</th>\n",
       "      <th>order</th>\n",
       "      <th>price</th>\n",
       "    </tr>\n",
       "  </thead>\n",
       "  <tbody>\n",
       "    <tr>\n",
       "      <th>0</th>\n",
       "      <td>apple</td>\n",
       "      <td>12.0</td>\n",
       "      <td>160.0</td>\n",
       "    </tr>\n",
       "    <tr>\n",
       "      <th>1</th>\n",
       "      <td>NaN</td>\n",
       "      <td>NaN</td>\n",
       "      <td>NaN</td>\n",
       "    </tr>\n",
       "    <tr>\n",
       "      <th>2</th>\n",
       "      <td>kiwi</td>\n",
       "      <td>8.0</td>\n",
       "      <td>80.0</td>\n",
       "    </tr>\n",
       "  </tbody>\n",
       "</table>\n",
       "</div>"
      ],
      "text/plain": [
       "   fruit  order  price\n",
       "0  apple   12.0  160.0\n",
       "1    NaN    NaN    NaN\n",
       "2   kiwi    8.0   80.0"
      ]
     },
     "execution_count": 60,
     "metadata": {},
     "output_type": "execute_result"
    }
   ],
   "source": [
    "data = {\n",
    "    'fruit' : ['apple', 'orange', 'kiwi'],\n",
    "    'price' : [160,30,80],\n",
    "    'order' : [12,30,8]\n",
    "}\n",
    "\n",
    "df = pd.DataFrame(data)\n",
    "df.where(df.price > 50)"
   ]
  },
  {
   "cell_type": "code",
   "execution_count": 63,
   "metadata": {
    "collapsed": false,
    "deletable": true,
    "editable": true
   },
   "outputs": [
    {
     "data": {
      "text/html": [
       "<div>\n",
       "<table border=\"1\" class=\"dataframe\">\n",
       "  <thead>\n",
       "    <tr style=\"text-align: right;\">\n",
       "      <th></th>\n",
       "      <th>fruit</th>\n",
       "      <th>order</th>\n",
       "      <th>price</th>\n",
       "    </tr>\n",
       "  </thead>\n",
       "  <tbody>\n",
       "    <tr>\n",
       "      <th>0</th>\n",
       "      <td>apple</td>\n",
       "      <td>12.0</td>\n",
       "      <td>160.0</td>\n",
       "    </tr>\n",
       "    <tr>\n",
       "      <th>2</th>\n",
       "      <td>kiwi</td>\n",
       "      <td>8.0</td>\n",
       "      <td>80.0</td>\n",
       "    </tr>\n",
       "  </tbody>\n",
       "</table>\n",
       "</div>"
      ],
      "text/plain": [
       "   fruit  order  price\n",
       "0  apple   12.0  160.0\n",
       "2   kiwi    8.0   80.0"
      ]
     },
     "execution_count": 63,
     "metadata": {},
     "output_type": "execute_result"
    }
   ],
   "source": [
    "data = {\n",
    "    'fruit' : ['apple', 'orange', 'kiwi'],\n",
    "    'price' : [160,30,80],\n",
    "    'order' : [12,30,8]\n",
    "}\n",
    "\n",
    "df = pd.DataFrame(data)\n",
    "df.where(df.price > 50).dropna()"
   ]
  },
  {
   "cell_type": "code",
   "execution_count": 66,
   "metadata": {
    "collapsed": false,
    "deletable": true,
    "editable": true
   },
   "outputs": [
    {
     "data": {
      "text/html": [
       "<div>\n",
       "<table border=\"1\" class=\"dataframe\">\n",
       "  <thead>\n",
       "    <tr style=\"text-align: right;\">\n",
       "      <th></th>\n",
       "      <th>fruit</th>\n",
       "      <th>order</th>\n",
       "      <th>price</th>\n",
       "    </tr>\n",
       "  </thead>\n",
       "  <tbody>\n",
       "    <tr>\n",
       "      <th>0</th>\n",
       "      <td>apple</td>\n",
       "      <td>12.000000</td>\n",
       "      <td>160.0</td>\n",
       "    </tr>\n",
       "    <tr>\n",
       "      <th>1</th>\n",
       "      <td>NaN</td>\n",
       "      <td>16.666667</td>\n",
       "      <td>90.0</td>\n",
       "    </tr>\n",
       "    <tr>\n",
       "      <th>2</th>\n",
       "      <td>kiwi</td>\n",
       "      <td>8.000000</td>\n",
       "      <td>80.0</td>\n",
       "    </tr>\n",
       "  </tbody>\n",
       "</table>\n",
       "</div>"
      ],
      "text/plain": [
       "   fruit      order  price\n",
       "0  apple  12.000000  160.0\n",
       "1    NaN  16.666667   90.0\n",
       "2   kiwi   8.000000   80.0"
      ]
     },
     "execution_count": 66,
     "metadata": {},
     "output_type": "execute_result"
    }
   ],
   "source": [
    "data = {\n",
    "    'fruit' : ['apple', 'orange', 'kiwi'],\n",
    "    'price' : [160,30,80],\n",
    "    'order' : [12,30,8]\n",
    "}\n",
    "\n",
    "df = pd.DataFrame(data)\n",
    "df.where(df.price > 50).fillna(df.mean())"
   ]
  },
  {
   "cell_type": "code",
   "execution_count": 3,
   "metadata": {
    "collapsed": false,
    "deletable": true,
    "editable": true
   },
   "outputs": [
    {
     "data": {
      "text/plain": [
       "0     APPLE\n",
       "1    ORANGE\n",
       "2      KIWI\n",
       "dtype: object"
      ]
     },
     "execution_count": 3,
     "metadata": {},
     "output_type": "execute_result"
    }
   ],
   "source": [
    "data = {\n",
    "    'fruit' : ['apple', 'orange', 'kiwi'],\n",
    "    'price' : [160,30,80],\n",
    "    'order' : [12,30,8]\n",
    "}\n",
    "\n",
    "df = pd.DataFrame(data)\n",
    "df.apply(lambda x: x.fruit.upper(), axis=1)"
   ]
  },
  {
   "cell_type": "code",
   "execution_count": 7,
   "metadata": {
    "collapsed": false,
    "deletable": true,
    "editable": true
   },
   "outputs": [
    {
     "data": {
      "text/html": [
       "<div>\n",
       "<table border=\"1\" class=\"dataframe\">\n",
       "  <thead>\n",
       "    <tr style=\"text-align: right;\">\n",
       "      <th></th>\n",
       "      <th>name</th>\n",
       "      <th>ruby</th>\n",
       "      <th>php</th>\n",
       "      <th>python</th>\n",
       "      <th>perl</th>\n",
       "    </tr>\n",
       "  </thead>\n",
       "  <tbody>\n",
       "    <tr>\n",
       "      <th>0</th>\n",
       "      <td>A</td>\n",
       "      <td>100</td>\n",
       "      <td>40</td>\n",
       "      <td>70</td>\n",
       "      <td>80</td>\n",
       "    </tr>\n",
       "    <tr>\n",
       "      <th>1</th>\n",
       "      <td>B</td>\n",
       "      <td>60</td>\n",
       "      <td>90</td>\n",
       "      <td>80</td>\n",
       "      <td>10</td>\n",
       "    </tr>\n",
       "    <tr>\n",
       "      <th>2</th>\n",
       "      <td>C</td>\n",
       "      <td>90</td>\n",
       "      <td>60</td>\n",
       "      <td>60</td>\n",
       "      <td>60</td>\n",
       "    </tr>\n",
       "    <tr>\n",
       "      <th>3</th>\n",
       "      <td>D</td>\n",
       "      <td>80</td>\n",
       "      <td>70</td>\n",
       "      <td>70</td>\n",
       "      <td>80</td>\n",
       "    </tr>\n",
       "  </tbody>\n",
       "</table>\n",
       "</div>"
      ],
      "text/plain": [
       "  name  ruby  php  python  perl\n",
       "0    A   100   40      70    80\n",
       "1    B    60   90      80    10\n",
       "2    C    90   60      60    60\n",
       "3    D    80   70      70    80"
      ]
     },
     "execution_count": 7,
     "metadata": {},
     "output_type": "execute_result"
    }
   ],
   "source": [
    "df = pd.read_csv('./ruby_1.csv')\n",
    "df"
   ]
  },
  {
   "cell_type": "code",
   "execution_count": 8,
   "metadata": {
    "collapsed": false,
    "deletable": true,
    "editable": true
   },
   "outputs": [
    {
     "data": {
      "text/html": [
       "<div>\n",
       "<table border=\"1\" class=\"dataframe\">\n",
       "  <thead>\n",
       "    <tr style=\"text-align: right;\">\n",
       "      <th></th>\n",
       "      <th>name</th>\n",
       "      <th>ruby</th>\n",
       "    </tr>\n",
       "  </thead>\n",
       "  <tbody>\n",
       "    <tr>\n",
       "      <th>0</th>\n",
       "      <td>A</td>\n",
       "      <td>100</td>\n",
       "    </tr>\n",
       "    <tr>\n",
       "      <th>2</th>\n",
       "      <td>C</td>\n",
       "      <td>90</td>\n",
       "    </tr>\n",
       "    <tr>\n",
       "      <th>3</th>\n",
       "      <td>D</td>\n",
       "      <td>80</td>\n",
       "    </tr>\n",
       "    <tr>\n",
       "      <th>1</th>\n",
       "      <td>B</td>\n",
       "      <td>60</td>\n",
       "    </tr>\n",
       "  </tbody>\n",
       "</table>\n",
       "</div>"
      ],
      "text/plain": [
       "  name  ruby\n",
       "0    A   100\n",
       "2    C    90\n",
       "3    D    80\n",
       "1    B    60"
      ]
     },
     "execution_count": 8,
     "metadata": {},
     "output_type": "execute_result"
    }
   ],
   "source": [
    "sort_by_ruby = df.sort_values(by='ruby', ascending=False)\n",
    "#sort_by_ruby = df.sort_values(by='ruby', ascending=True)\n",
    "sort_by_ruby[['name', 'ruby']]"
   ]
  },
  {
   "cell_type": "code",
   "execution_count": 9,
   "metadata": {
    "collapsed": false,
    "deletable": true,
    "editable": true
   },
   "outputs": [
    {
     "data": {
      "text/html": [
       "<div>\n",
       "<table border=\"1\" class=\"dataframe\">\n",
       "  <thead>\n",
       "    <tr style=\"text-align: right;\">\n",
       "      <th></th>\n",
       "      <th>name</th>\n",
       "      <th>ruby</th>\n",
       "      <th>php</th>\n",
       "      <th>python</th>\n",
       "      <th>perl</th>\n",
       "      <th>mean</th>\n",
       "    </tr>\n",
       "  </thead>\n",
       "  <tbody>\n",
       "    <tr>\n",
       "      <th>0</th>\n",
       "      <td>A</td>\n",
       "      <td>100</td>\n",
       "      <td>40</td>\n",
       "      <td>70</td>\n",
       "      <td>80</td>\n",
       "      <td>72.5</td>\n",
       "    </tr>\n",
       "    <tr>\n",
       "      <th>1</th>\n",
       "      <td>B</td>\n",
       "      <td>60</td>\n",
       "      <td>90</td>\n",
       "      <td>80</td>\n",
       "      <td>10</td>\n",
       "      <td>60.0</td>\n",
       "    </tr>\n",
       "    <tr>\n",
       "      <th>2</th>\n",
       "      <td>C</td>\n",
       "      <td>90</td>\n",
       "      <td>60</td>\n",
       "      <td>60</td>\n",
       "      <td>60</td>\n",
       "      <td>67.5</td>\n",
       "    </tr>\n",
       "    <tr>\n",
       "      <th>3</th>\n",
       "      <td>D</td>\n",
       "      <td>80</td>\n",
       "      <td>70</td>\n",
       "      <td>70</td>\n",
       "      <td>80</td>\n",
       "      <td>75.0</td>\n",
       "    </tr>\n",
       "  </tbody>\n",
       "</table>\n",
       "</div>"
      ],
      "text/plain": [
       "  name  ruby  php  python  perl  mean\n",
       "0    A   100   40      70    80  72.5\n",
       "1    B    60   90      80    10  60.0\n",
       "2    C    90   60      60    60  67.5\n",
       "3    D    80   70      70    80  75.0"
      ]
     },
     "execution_count": 9,
     "metadata": {},
     "output_type": "execute_result"
    }
   ],
   "source": [
    "df['mean'] = df.mean(axis=1)\n",
    "df"
   ]
  },
  {
   "cell_type": "code",
   "execution_count": 11,
   "metadata": {
    "collapsed": false,
    "deletable": true,
    "editable": true
   },
   "outputs": [
    {
     "data": {
      "text/html": [
       "<div>\n",
       "<table border=\"1\" class=\"dataframe\">\n",
       "  <thead>\n",
       "    <tr style=\"text-align: right;\">\n",
       "      <th></th>\n",
       "      <th>name</th>\n",
       "      <th>mean</th>\n",
       "      <th>ruby</th>\n",
       "    </tr>\n",
       "  </thead>\n",
       "  <tbody>\n",
       "    <tr>\n",
       "      <th>3</th>\n",
       "      <td>D</td>\n",
       "      <td>75.0</td>\n",
       "      <td>80</td>\n",
       "    </tr>\n",
       "    <tr>\n",
       "      <th>0</th>\n",
       "      <td>A</td>\n",
       "      <td>72.5</td>\n",
       "      <td>100</td>\n",
       "    </tr>\n",
       "    <tr>\n",
       "      <th>2</th>\n",
       "      <td>C</td>\n",
       "      <td>67.5</td>\n",
       "      <td>90</td>\n",
       "    </tr>\n",
       "    <tr>\n",
       "      <th>1</th>\n",
       "      <td>B</td>\n",
       "      <td>60.0</td>\n",
       "      <td>60</td>\n",
       "    </tr>\n",
       "  </tbody>\n",
       "</table>\n",
       "</div>"
      ],
      "text/plain": [
       "  name  mean  ruby\n",
       "3    D  75.0    80\n",
       "0    A  72.5   100\n",
       "2    C  67.5    90\n",
       "1    B  60.0    60"
      ]
     },
     "execution_count": 11,
     "metadata": {},
     "output_type": "execute_result"
    }
   ],
   "source": [
    "sort_by_mean = df.sort_values(by=['mean','ruby'], ascending=False)\n",
    "sort_by_mean[['name', 'mean', 'ruby']]"
   ]
  },
  {
   "cell_type": "markdown",
   "metadata": {
    "deletable": true,
    "editable": true
   },
   "source": [
    "# 時系列データとしてCSVを読み込む\n",
    "\n",
    "* read_csvはURLを指定するとリモートからデータを取得できる\n",
    "    * オプション\n",
    "        * skiprows=n : ヘッダなど、n行飛ばして読み込む\n",
    "        * index_col=0 : インデックスにしたい列を指定 (ここでは日付列を明示的に指定)\n",
    "        * parse_dates=True : データ中の日付文字列をパースして日付型に変換してロード"
   ]
  },
  {
   "cell_type": "code",
   "execution_count": 19,
   "metadata": {
    "collapsed": false,
    "deletable": true,
    "editable": true
   },
   "outputs": [
    {
     "data": {
      "text/html": [
       "<div>\n",
       "<table border=\"1\" class=\"dataframe\">\n",
       "  <thead>\n",
       "    <tr style=\"text-align: right;\">\n",
       "      <th></th>\n",
       "      <th>USD</th>\n",
       "      <th>GBP</th>\n",
       "      <th>EUR</th>\n",
       "    </tr>\n",
       "  </thead>\n",
       "  <tbody>\n",
       "    <tr>\n",
       "      <th>2002-04-01</th>\n",
       "      <td>133.15</td>\n",
       "      <td>189.79</td>\n",
       "      <td>116.12</td>\n",
       "    </tr>\n",
       "    <tr>\n",
       "      <th>2002-04-02</th>\n",
       "      <td>133.20</td>\n",
       "      <td>191.78</td>\n",
       "      <td>117.18</td>\n",
       "    </tr>\n",
       "    <tr>\n",
       "      <th>2002-04-03</th>\n",
       "      <td>133.20</td>\n",
       "      <td>191.26</td>\n",
       "      <td>116.96</td>\n",
       "    </tr>\n",
       "  </tbody>\n",
       "</table>\n",
       "</div>"
      ],
      "text/plain": [
       "               USD     GBP     EUR\n",
       "2002-04-01  133.15  189.79  116.12\n",
       "2002-04-02  133.20  191.78  117.18\n",
       "2002-04-03  133.20  191.26  116.96"
      ]
     },
     "execution_count": 19,
     "metadata": {},
     "output_type": "execute_result"
    }
   ],
   "source": [
    "csv_url = 'https://www.mizuhobank.co.jp/rate/market/csv/quote.csv'\n",
    "df = pd.read_csv(csv_url, skiprows=2, index_col=0, parse_dates=True)\n",
    "df_pri = df [['USD', 'GBP', 'EUR']]\n",
    "df_pri.head(3)\n",
    "\n",
    "#df = pd.read_csv(csv_url)\n",
    "#df.head(3)"
   ]
  },
  {
   "cell_type": "markdown",
   "metadata": {
    "deletable": true,
    "editable": true
   },
   "source": [
    "# plotによる可視化"
   ]
  },
  {
   "cell_type": "code",
   "execution_count": 2,
   "metadata": {
    "collapsed": false,
    "deletable": true,
    "editable": true
   },
   "outputs": [
    {
     "data": {
      "text/plain": [
       "<matplotlib.axes._subplots.AxesSubplot at 0x7fc1d30457f0>"
      ]
     },
     "execution_count": 2,
     "metadata": {},
     "output_type": "execute_result"
    },
    {
     "data": {
      "image/png": "[encoded data removed]",
      "text/plain": [
       "<matplotlib.figure.Figure at 0x7fc1d302ff98>"
      ]
     },
     "metadata": {},
     "output_type": "display_data"
    }
   ],
   "source": [
    "csv_url = 'https://www.mizuhobank.co.jp/rate/market/csv/quote.csv'\n",
    "df = pd.read_csv(csv_url, skiprows=2, index_col=0, parse_dates=True)\n",
    "df_pri = df [['USD', 'GBP', 'EUR']]\n",
    "df_pri['2016':'2017'].plot()"
   ]
  },
  {
   "cell_type": "markdown",
   "metadata": {
    "deletable": true,
    "editable": true
   },
   "source": [
    "# 時系列データのサンプリング\n",
    "\n",
    "* サンプリング\n",
    "    * 時間の精度を別の精度に変換する\n",
    "* ダウンサンプリング\n",
    "    * より低い精度に変換する\n",
    "    \n",
    "以下はmedianで中央値を取る例"
   ]
  },
  {
   "cell_type": "code",
   "execution_count": 4,
   "metadata": {
    "collapsed": false,
    "deletable": true,
    "editable": true
   },
   "outputs": [
    {
     "data": {
      "text/html": [
       "<div>\n",
       "<table border=\"1\" class=\"dataframe\">\n",
       "  <thead>\n",
       "    <tr style=\"text-align: right;\">\n",
       "      <th></th>\n",
       "      <th>USD</th>\n",
       "      <th>GBP</th>\n",
       "      <th>EUR</th>\n",
       "    </tr>\n",
       "  </thead>\n",
       "  <tbody>\n",
       "    <tr>\n",
       "      <th>2017-01-31</th>\n",
       "      <td>114.700</td>\n",
       "      <td>141.280</td>\n",
       "      <td>122.070</td>\n",
       "    </tr>\n",
       "    <tr>\n",
       "      <th>2017-02-28</th>\n",
       "      <td>113.075</td>\n",
       "      <td>141.510</td>\n",
       "      <td>120.290</td>\n",
       "    </tr>\n",
       "    <tr>\n",
       "      <th>2017-03-31</th>\n",
       "      <td>113.645</td>\n",
       "      <td>139.485</td>\n",
       "      <td>120.625</td>\n",
       "    </tr>\n",
       "  </tbody>\n",
       "</table>\n",
       "</div>"
      ],
      "text/plain": [
       "                USD      GBP      EUR\n",
       "2017-01-31  114.700  141.280  122.070\n",
       "2017-02-28  113.075  141.510  120.290\n",
       "2017-03-31  113.645  139.485  120.625"
      ]
     },
     "execution_count": 4,
     "metadata": {},
     "output_type": "execute_result"
    }
   ],
   "source": [
    "csv_url = 'https://www.mizuhobank.co.jp/rate/market/csv/quote.csv'\n",
    "df = pd.read_csv(csv_url, skiprows=2, index_col=0, parse_dates=True)\n",
    "df_pri = df [['USD', 'GBP', 'EUR']]\n",
    "df_pri.resample('M').median().tail(3)"
   ]
  },
  {
   "cell_type": "markdown",
   "metadata": {
    "deletable": true,
    "editable": true
   },
   "source": [
    "diffでひとつ前のデータと差分を取る"
   ]
  },
  {
   "cell_type": "code",
   "execution_count": 7,
   "metadata": {
    "collapsed": false,
    "deletable": true,
    "editable": true
   },
   "outputs": [
    {
     "data": {
      "text/html": [
       "<div>\n",
       "<table border=\"1\" class=\"dataframe\">\n",
       "  <thead>\n",
       "    <tr style=\"text-align: right;\">\n",
       "      <th></th>\n",
       "      <th>USD</th>\n",
       "      <th>GBP</th>\n",
       "      <th>EUR</th>\n",
       "    </tr>\n",
       "  </thead>\n",
       "  <tbody>\n",
       "    <tr>\n",
       "      <th>2017-01-31</th>\n",
       "      <td>-1.830</td>\n",
       "      <td>-3.290</td>\n",
       "      <td>-0.300</td>\n",
       "    </tr>\n",
       "    <tr>\n",
       "      <th>2017-02-28</th>\n",
       "      <td>-1.625</td>\n",
       "      <td>0.230</td>\n",
       "      <td>-1.780</td>\n",
       "    </tr>\n",
       "    <tr>\n",
       "      <th>2017-03-31</th>\n",
       "      <td>0.570</td>\n",
       "      <td>-2.025</td>\n",
       "      <td>0.335</td>\n",
       "    </tr>\n",
       "  </tbody>\n",
       "</table>\n",
       "</div>"
      ],
      "text/plain": [
       "              USD    GBP    EUR\n",
       "2017-01-31 -1.830 -3.290 -0.300\n",
       "2017-02-28 -1.625  0.230 -1.780\n",
       "2017-03-31  0.570 -2.025  0.335"
      ]
     },
     "execution_count": 7,
     "metadata": {},
     "output_type": "execute_result"
    }
   ],
   "source": [
    "csv_url = 'https://www.mizuhobank.co.jp/rate/market/csv/quote.csv'\n",
    "df = pd.read_csv(csv_url, skiprows=2, index_col=0, parse_dates=True)\n",
    "df_pri = df [['USD', 'GBP', 'EUR']]\n",
    "df_pri.resample('M').median().diff().tail(3)"
   ]
  },
  {
   "cell_type": "markdown",
   "metadata": {
    "deletable": true,
    "editable": true
   },
   "source": [
    "pct_changeで変化率を得る"
   ]
  },
  {
   "cell_type": "code",
   "execution_count": 10,
   "metadata": {
    "collapsed": false,
    "deletable": true,
    "editable": true
   },
   "outputs": [
    {
     "data": {
      "text/html": [
       "<div>\n",
       "<table border=\"1\" class=\"dataframe\">\n",
       "  <thead>\n",
       "    <tr style=\"text-align: right;\">\n",
       "      <th></th>\n",
       "      <th>USD</th>\n",
       "      <th>GBP</th>\n",
       "      <th>EUR</th>\n",
       "    </tr>\n",
       "  </thead>\n",
       "  <tbody>\n",
       "    <tr>\n",
       "      <th>2017-01-31</th>\n",
       "      <td>-0.015704</td>\n",
       "      <td>-0.022757</td>\n",
       "      <td>-0.002452</td>\n",
       "    </tr>\n",
       "    <tr>\n",
       "      <th>2017-02-28</th>\n",
       "      <td>-0.014167</td>\n",
       "      <td>0.001628</td>\n",
       "      <td>-0.014582</td>\n",
       "    </tr>\n",
       "    <tr>\n",
       "      <th>2017-03-31</th>\n",
       "      <td>0.005041</td>\n",
       "      <td>-0.014310</td>\n",
       "      <td>0.002785</td>\n",
       "    </tr>\n",
       "  </tbody>\n",
       "</table>\n",
       "</div>"
      ],
      "text/plain": [
       "                 USD       GBP       EUR\n",
       "2017-01-31 -0.015704 -0.022757 -0.002452\n",
       "2017-02-28 -0.014167  0.001628 -0.014582\n",
       "2017-03-31  0.005041 -0.014310  0.002785"
      ]
     },
     "execution_count": 10,
     "metadata": {},
     "output_type": "execute_result"
    }
   ],
   "source": [
    "csv_url = 'https://www.mizuhobank.co.jp/rate/market/csv/quote.csv'\n",
    "df = pd.read_csv(csv_url, skiprows=2, index_col=0, parse_dates=True)\n",
    "df_pri = df [['USD', 'GBP', 'EUR']]\n",
    "df_pri.resample('M').median().pct_change().tail(3)"
   ]
  },
  {
   "cell_type": "markdown",
   "metadata": {
    "deletable": true,
    "editable": true
   },
   "source": [
    "* rollingで移動する窓関数を使う\n",
    "    * 移動する窓関数\n",
    "        * 30日間など特定の期間をデータを切り出したものを窓と見立てる\n",
    "        * 窓に対して最小値や最大値などの集約関数を計算する機能\n",
    "    * 移動平均の計算に使える"
   ]
  },
  {
   "cell_type": "code",
   "execution_count": 85,
   "metadata": {
    "collapsed": false,
    "deletable": true,
    "editable": true
   },
   "outputs": [
    {
     "data": {
      "image/png": "[encoded data removed]",
      "text/plain": [
       "<matplotlib.figure.Figure at 0x7fc1cfc11630>"
      ]
     },
     "metadata": {},
     "output_type": "display_data"
    }
   ],
   "source": [
    "import matplotlib.pyplot as plt\n",
    "\n",
    "csv_url = 'https://www.mizuhobank.co.jp/rate/market/csv/quote.csv'\n",
    "df = pd.read_csv(csv_url, skiprows=2, index_col=0, parse_dates=True)\n",
    "plt.plot(df[['USD', 'GBP', 'EUR']])\n",
    "plt.plot(df[['USD', 'GBP', 'EUR']].rolling(window=250).mean())\n",
    "plot.show()"
   ]
  },
  {
   "cell_type": "markdown",
   "metadata": {
    "deletable": true,
    "editable": true
   },
   "source": [
    "# データベースからの読み込み"
   ]
  },
  {
   "cell_type": "code",
   "execution_count": 73,
   "metadata": {
    "collapsed": false,
    "deletable": true,
    "editable": true
   },
   "outputs": [
    {
     "name": "stdout",
     "output_type": "stream",
     "text": [
      "    Tables_in_webmail\n",
      "0       article_areas\n",
      "1  article_attributes\n",
      "2  article_categories\n",
      "3        article_docs\n",
      "4    article_sections\n"
     ]
    }
   ],
   "source": [
    "import MySQLdb\n",
    "import pandas.io.sql as mysql\n",
    "\n",
    "### DB接続\n",
    "con = MySQLdb.connect(database='webmail', host='10.136.3.175', user='joruri', passwd='pass', charset='utf8')\n",
    "sql = \"show tables\"\n",
    "\n",
    "### pandasのDataFrameの形でデータを取り出す\n",
    "df = mysql.read_sql(sql, con) \n",
    "print (df.head(5))\n",
    "con.close()"
   ]
  },
  {
   "cell_type": "code",
   "execution_count": 74,
   "metadata": {
    "collapsed": false,
    "deletable": true,
    "editable": true
   },
   "outputs": [
    {
     "data": {
      "text/html": [
       "<div>\n",
       "<table border=\"1\" class=\"dataframe\">\n",
       "  <thead>\n",
       "    <tr style=\"text-align: right;\">\n",
       "      <th></th>\n",
       "      <th></th>\n",
       "      <th>id</th>\n",
       "    </tr>\n",
       "    <tr>\n",
       "      <th>name</th>\n",
       "      <th>sort_no</th>\n",
       "      <th></th>\n",
       "    </tr>\n",
       "  </thead>\n",
       "  <tbody>\n",
       "    <tr>\n",
       "      <th>INBOX</th>\n",
       "      <th>1</th>\n",
       "      <td>4498</td>\n",
       "    </tr>\n",
       "    <tr>\n",
       "      <th>Drafts</th>\n",
       "      <th>3</th>\n",
       "      <td>3745</td>\n",
       "    </tr>\n",
       "    <tr>\n",
       "      <th>Star</th>\n",
       "      <th>2</th>\n",
       "      <td>3745</td>\n",
       "    </tr>\n",
       "    <tr>\n",
       "      <th>Sent</th>\n",
       "      <th>4</th>\n",
       "      <td>3745</td>\n",
       "    </tr>\n",
       "    <tr>\n",
       "      <th>Archives</th>\n",
       "      <th>5</th>\n",
       "      <td>3740</td>\n",
       "    </tr>\n",
       "    <tr>\n",
       "      <th rowspan=\"2\" valign=\"top\">Trash</th>\n",
       "      <th>6</th>\n",
       "      <td>3645</td>\n",
       "    </tr>\n",
       "    <tr>\n",
       "      <th>7</th>\n",
       "      <td>243</td>\n",
       "    </tr>\n",
       "    <tr>\n",
       "      <th>Sent</th>\n",
       "      <th>5</th>\n",
       "      <td>213</td>\n",
       "    </tr>\n",
       "    <tr>\n",
       "      <th>Archives</th>\n",
       "      <th>6</th>\n",
       "      <td>213</td>\n",
       "    </tr>\n",
       "    <tr>\n",
       "      <th>Drafts</th>\n",
       "      <th>4</th>\n",
       "      <td>213</td>\n",
       "    </tr>\n",
       "  </tbody>\n",
       "</table>\n",
       "</div>"
      ],
      "text/plain": [
       "                    id\n",
       "name     sort_no      \n",
       "INBOX    1        4498\n",
       "Drafts   3        3745\n",
       "Star     2        3745\n",
       "Sent     4        3745\n",
       "Archives 5        3740\n",
       "Trash    6        3645\n",
       "         7         243\n",
       "Sent     5         213\n",
       "Archives 6         213\n",
       "Drafts   4         213"
      ]
     },
     "execution_count": 74,
     "metadata": {},
     "output_type": "execute_result"
    }
   ],
   "source": [
    "import MySQLdb\n",
    "import pandas.io.sql as mysql\n",
    "con = MySQLdb.connect(database='webmail', host='10.136.3.175', user='joruri', passwd='pass', charset='utf8')\n",
    "gw_webmail_mailboxes = mysql.read_sql(\"select * from gw_webmail_mailboxes;\", con) \n",
    "\n",
    "### idとstateが同じものの数をカウント\n",
    "#print (df[['id','state','name_en']].groupby(['id', 'state']).count().head(5))\n",
    "\n",
    "### nameとsort_noを1セット(集計をしない列)としてid(集計対象の列)の数をカウント\n",
    "state_disabled_enabled = (gw_webmail_mailboxes[['id','name','sort_no']].groupby(['name','sort_no']).count())\n",
    "#state_disabled_enabled.head(5)\n",
    "\n",
    "### idの数が多い順でsort\n",
    "state_disabled_enabled.sort_values(by='id', ascending=False).head(10)"
   ]
  },
  {
   "cell_type": "markdown",
   "metadata": {
    "deletable": true,
    "editable": true
   },
   "source": [
    "# データフレームのマージ"
   ]
  },
  {
   "cell_type": "code",
   "execution_count": 75,
   "metadata": {
    "collapsed": false,
    "deletable": true,
    "editable": true
   },
   "outputs": [
    {
     "data": {
      "text/html": [
       "<div>\n",
       "<table border=\"1\" class=\"dataframe\">\n",
       "  <thead>\n",
       "    <tr style=\"text-align: right;\">\n",
       "      <th></th>\n",
       "      <th>id_x</th>\n",
       "      <th>air_login_id</th>\n",
       "      <th>state_x</th>\n",
       "      <th>created_at_x</th>\n",
       "      <th>updated_at_x</th>\n",
       "      <th>ldap_x</th>\n",
       "      <th>ldap_version_x</th>\n",
       "      <th>auth_no</th>\n",
       "      <th>name_x</th>\n",
       "      <th>name_en_x</th>\n",
       "      <th>...</th>\n",
       "      <th>sort_no_y</th>\n",
       "      <th>layout_id</th>\n",
       "      <th>ldap_y</th>\n",
       "      <th>ldap_version_y</th>\n",
       "      <th>name_y</th>\n",
       "      <th>name_en_y</th>\n",
       "      <th>tel</th>\n",
       "      <th>outline_uri</th>\n",
       "      <th>email_y</th>\n",
       "      <th>group_s_name_y</th>\n",
       "    </tr>\n",
       "  </thead>\n",
       "  <tbody>\n",
       "    <tr>\n",
       "      <th>0</th>\n",
       "      <td>1</td>\n",
       "      <td>None</td>\n",
       "      <td>enabled</td>\n",
       "      <td>2010-08-19 16:39:05</td>\n",
       "      <td>2016-04-18 21:37:24</td>\n",
       "      <td>0</td>\n",
       "      <td>None</td>\n",
       "      <td>5</td>\n",
       "      <td>システム管理者</td>\n",
       "      <td></td>\n",
       "      <td>...</td>\n",
       "      <td>460</td>\n",
       "      <td>None</td>\n",
       "      <td>1</td>\n",
       "      <td>1485947107</td>\n",
       "      <td>情報戦略課</td>\n",
       "      <td>jouhousenryakuka</td>\n",
       "      <td>None</td>\n",
       "      <td>None</td>\n",
       "      <td>jouhousenryakuka@pref.tokushima.jp</td>\n",
       "      <td>140000情報戦略課</td>\n",
       "    </tr>\n",
       "    <tr>\n",
       "      <th>1</th>\n",
       "      <td>6343</td>\n",
       "      <td>None</td>\n",
       "      <td>enabled</td>\n",
       "      <td>2015-09-24 10:38:59</td>\n",
       "      <td>2015-09-29 16:15:49</td>\n",
       "      <td>0</td>\n",
       "      <td>None</td>\n",
       "      <td>2</td>\n",
       "      <td>徳島県情報システム課ネットワーク担当</td>\n",
       "      <td></td>\n",
       "      <td>...</td>\n",
       "      <td>460</td>\n",
       "      <td>None</td>\n",
       "      <td>1</td>\n",
       "      <td>1485947107</td>\n",
       "      <td>情報戦略課</td>\n",
       "      <td>jouhousenryakuka</td>\n",
       "      <td>None</td>\n",
       "      <td>None</td>\n",
       "      <td>jouhousenryakuka@pref.tokushima.jp</td>\n",
       "      <td>140000情報戦略課</td>\n",
       "    </tr>\n",
       "    <tr>\n",
       "      <th>2</th>\n",
       "      <td>5461</td>\n",
       "      <td>None</td>\n",
       "      <td>enabled</td>\n",
       "      <td>2014-04-01 01:27:57</td>\n",
       "      <td>2017-02-01 20:05:30</td>\n",
       "      <td>1</td>\n",
       "      <td>1485947107</td>\n",
       "      <td>5</td>\n",
       "      <td>松尾 泰伸</td>\n",
       "      <td>matsuo yasunobu</td>\n",
       "      <td>...</td>\n",
       "      <td>460</td>\n",
       "      <td>None</td>\n",
       "      <td>1</td>\n",
       "      <td>1485947107</td>\n",
       "      <td>情報戦略課</td>\n",
       "      <td>jouhousenryakuka</td>\n",
       "      <td>None</td>\n",
       "      <td>None</td>\n",
       "      <td>jouhousenryakuka@pref.tokushima.jp</td>\n",
       "      <td>140000情報戦略課</td>\n",
       "    </tr>\n",
       "  </tbody>\n",
       "</table>\n",
       "<p>3 rows × 45 columns</p>\n",
       "</div>"
      ],
      "text/plain": [
       "   id_x air_login_id  state_x        created_at_x        updated_at_x  ldap_x  \\\n",
       "0     1         None  enabled 2010-08-19 16:39:05 2016-04-18 21:37:24       0   \n",
       "1  6343         None  enabled 2015-09-24 10:38:59 2015-09-29 16:15:49       0   \n",
       "2  5461         None  enabled 2014-04-01 01:27:57 2017-02-01 20:05:30       1   \n",
       "\n",
       "  ldap_version_x  auth_no              name_x        name_en_x      ...        \\\n",
       "0           None        5             システム管理者                       ...         \n",
       "1           None        2  徳島県情報システム課ネットワーク担当                       ...         \n",
       "2     1485947107        5               松尾 泰伸  matsuo yasunobu      ...         \n",
       "\n",
       "  sort_no_y layout_id  ldap_y ldap_version_y name_y         name_en_y   tel  \\\n",
       "0       460      None       1     1485947107  情報戦略課  jouhousenryakuka  None   \n",
       "1       460      None       1     1485947107  情報戦略課  jouhousenryakuka  None   \n",
       "2       460      None       1     1485947107  情報戦略課  jouhousenryakuka  None   \n",
       "\n",
       "  outline_uri                             email_y group_s_name_y  \n",
       "0        None  jouhousenryakuka@pref.tokushima.jp    140000情報戦略課  \n",
       "1        None  jouhousenryakuka@pref.tokushima.jp    140000情報戦略課  \n",
       "2        None  jouhousenryakuka@pref.tokushima.jp    140000情報戦略課  \n",
       "\n",
       "[3 rows x 45 columns]"
      ]
     },
     "execution_count": 75,
     "metadata": {},
     "output_type": "execute_result"
    }
   ],
   "source": [
    "import MySQLdb\n",
    "import pandas.io.sql as mysql\n",
    "con = MySQLdb.connect(database='webmail', host='10.136.3.175', user='joruri', passwd='pass', charset='utf8')\n",
    "sys_users = mysql.read_sql(\"select * from sys_users;\", con) \n",
    "#sys_users.head(3)\n",
    "sys_groups = mysql.read_sql(\"select * from sys_groups;\", con) \n",
    "#sys_groups.head(3)\n",
    "sys_users_groups = mysql.read_sql(\"select * from sys_users_groups;\", con) \n",
    "#sys_users_groups.head(3)\n",
    "\n",
    "### sys_usersとsys_users_groupsをidとuser_idが一致する行で内部結合\n",
    "sys_users_sys_users_groups = pd.merge(sys_users, sys_users_groups, left_on='id', right_on='user_id', how='inner')\n",
    "#sys_users_sys_users_groups.head(3)\n",
    "\n",
    "### 上記の結果に対して、toup_idとsys_groupsのidが一致する行で内部結合\n",
    "sys_users_sys_users_groups_sys_groups = pd.merge(sys_users_sys_users_groups, sys_groups, left_on='group_id', right_on='id', how='inner')\n",
    "sys_users_sys_users_groups_sys_groups.head(3)\n",
    "\n",
    "### ユーザ名とグループを表示\n",
    "#sys_users_sys_users_groups_sys_groups[['name_x','name_y']].head(10)\n"
   ]
  },
  {
   "cell_type": "markdown",
   "metadata": {
    "deletable": true,
    "editable": true
   },
   "source": [
    "# グループ集計"
   ]
  },
  {
   "cell_type": "code",
   "execution_count": 76,
   "metadata": {
    "collapsed": false,
    "deletable": true,
    "editable": true
   },
   "outputs": [
    {
     "data": {
      "text/plain": [
       "<matplotlib.axes._subplots.AxesSubplot at 0x7fc1ceb01240>"
      ]
     },
     "execution_count": 76,
     "metadata": {},
     "output_type": "execute_result"
    },
    {
     "data": {
      "image/png": "[encoded data removed]",
      "text/plain": [
       "<matplotlib.figure.Figure at 0x7fc1ce9f9278>"
      ]
     },
     "metadata": {},
     "output_type": "display_data"
    }
   ],
   "source": [
    "import MySQLdb\n",
    "import pandas.io.sql as mysql\n",
    "\n",
    "### 全ての列を表示するためのオプション\n",
    "#pd.options.display.max_columns = None\n",
    "\n",
    "con = MySQLdb.connect(database='webmail', host='10.136.3.175', user='joruri', passwd='pass', charset='utf8')\n",
    "sys_users = mysql.read_sql(\"select * from sys_users;\", con) \n",
    "sys_groups = mysql.read_sql(\"select * from sys_groups;\", con) \n",
    "sys_users_groups = mysql.read_sql(\"select * from sys_users_groups;\", con) \n",
    "sys_users_sys_users_groups = pd.merge(sys_users, sys_users_groups, left_on='id', right_on='user_id', how='inner')\n",
    "sys_users_sys_users_groups_sys_groups = pd.merge(sys_users_sys_users_groups, sys_groups, left_on='group_id', right_on='id', how='inner')\n",
    "\n",
    "### カラム名を取得(確認)\n",
    "#sys_users_sys_users_groups_sys_groups.columns\n",
    "#sys_users_sys_users_groups_sys_groups[['group_id','name_x','name_y']].head(5)\n",
    "\n",
    "### group_idの数をカウント\n",
    "group_count = sys_users_sys_users_groups_sys_groups[['group_id','name_y']].groupby(['name_y']).count()\n",
    "\n",
    "### group_idの数が多い順に表示\n",
    "#group_count.sort_values(by='group_id', ascending=False).head(5)\n",
    "\n",
    "### ヒストグラムの表示(グループ数の頻度)\n",
    "group_count.plot(kind='hist')"
   ]
  },
  {
   "cell_type": "markdown",
   "metadata": {
    "deletable": true,
    "editable": true
   },
   "source": [
    "# Tips"
   ]
  },
  {
   "cell_type": "markdown",
   "metadata": {
    "collapsed": true,
    "deletable": true,
    "editable": true
   },
   "source": [
    "## 全ての列を表示する"
   ]
  },
  {
   "cell_type": "code",
   "execution_count": 89,
   "metadata": {
    "collapsed": false,
    "deletable": true,
    "editable": true
   },
   "outputs": [
    {
     "data": {
      "text/html": [
       "<div>\n",
       "<table border=\"1\" class=\"dataframe\">\n",
       "  <thead>\n",
       "    <tr style=\"text-align: right;\">\n",
       "      <th></th>\n",
       "      <th>id_x</th>\n",
       "      <th>air_login_id</th>\n",
       "      <th>state</th>\n",
       "      <th>created_at_x</th>\n",
       "      <th>updated_at_x</th>\n",
       "      <th>ldap</th>\n",
       "      <th>ldap_version</th>\n",
       "      <th>auth_no</th>\n",
       "      <th>name</th>\n",
       "      <th>name_en</th>\n",
       "      <th>account</th>\n",
       "      <th>password</th>\n",
       "      <th>mobile_access</th>\n",
       "      <th>mobile_password</th>\n",
       "      <th>email</th>\n",
       "      <th>remember_token</th>\n",
       "      <th>remember_token_expires_at</th>\n",
       "      <th>kana</th>\n",
       "      <th>sort_no</th>\n",
       "      <th>official_position</th>\n",
       "      <th>assigned_job</th>\n",
       "      <th>group_s_name</th>\n",
       "      <th>id_y</th>\n",
       "      <th>created_at_y</th>\n",
       "      <th>updated_at_y</th>\n",
       "      <th>user_id</th>\n",
       "      <th>group_id</th>\n",
       "    </tr>\n",
       "  </thead>\n",
       "  <tbody>\n",
       "    <tr>\n",
       "      <th>0</th>\n",
       "      <td>1</td>\n",
       "      <td>None</td>\n",
       "      <td>enabled</td>\n",
       "      <td>2010-08-19 16:39:05</td>\n",
       "      <td>2016-04-18 21:37:24</td>\n",
       "      <td>0</td>\n",
       "      <td>None</td>\n",
       "      <td>5</td>\n",
       "      <td>システム管理者</td>\n",
       "      <td></td>\n",
       "      <td>admin</td>\n",
       "      <td>w4#757xf</td>\n",
       "      <td>1.0</td>\n",
       "      <td>1234</td>\n",
       "      <td>admin@192.168.32.243</td>\n",
       "      <td>None</td>\n",
       "      <td>None</td>\n",
       "      <td>None</td>\n",
       "      <td>None</td>\n",
       "      <td>None</td>\n",
       "      <td>None</td>\n",
       "      <td>None</td>\n",
       "      <td>1</td>\n",
       "      <td>2010-08-19 16:39:05</td>\n",
       "      <td>2010-08-19 16:39:05</td>\n",
       "      <td>1</td>\n",
       "      <td>57</td>\n",
       "    </tr>\n",
       "  </tbody>\n",
       "</table>\n",
       "</div>"
      ],
      "text/plain": [
       "   id_x air_login_id    state        created_at_x        updated_at_x  ldap  \\\n",
       "0     1         None  enabled 2010-08-19 16:39:05 2016-04-18 21:37:24     0   \n",
       "\n",
       "  ldap_version  auth_no     name name_en account  password  mobile_access  \\\n",
       "0         None        5  システム管理者           admin  w4#757xf            1.0   \n",
       "\n",
       "  mobile_password                 email remember_token  \\\n",
       "0            1234  admin@192.168.32.243           None   \n",
       "\n",
       "  remember_token_expires_at  kana sort_no official_position assigned_job  \\\n",
       "0                      None  None    None              None         None   \n",
       "\n",
       "  group_s_name  id_y        created_at_y        updated_at_y  user_id  \\\n",
       "0         None     1 2010-08-19 16:39:05 2010-08-19 16:39:05        1   \n",
       "\n",
       "   group_id  \n",
       "0        57  "
      ]
     },
     "execution_count": 89,
     "metadata": {},
     "output_type": "execute_result"
    }
   ],
   "source": [
    "import MySQLdb\n",
    "import pandas.io.sql as mysql\n",
    "\n",
    "### 全ての列を表示するためのオプション\n",
    "pd.options.display.max_columns = None\n",
    "\n",
    "con = MySQLdb.connect(database='webmail', host='10.136.3.175', user='joruri', passwd='pass', charset='utf8')\n",
    "sys_users = mysql.read_sql(\"select * from sys_users;\", con) \n",
    "sys_groups = mysql.read_sql(\"select * from sys_groups;\", con) \n",
    "pd.merge(sys_users, sys_users_groups, left_on='id', right_on='user_id', how='inner').head(1)"
   ]
  },
  {
   "cell_type": "code",
   "execution_count": null,
   "metadata": {
    "collapsed": true
   },
   "outputs": [],
   "source": []
  }
 ],
 "metadata": {
  "kernelspec": {
   "display_name": "Python 3",
   "language": "python",
   "name": "python3"
  },
  "language_info": {
   "codemirror_mode": {
    "name": "ipython",
    "version": 3
   },
   "file_extension": ".py",
   "mimetype": "text/x-python",
   "name": "python",
   "nbconvert_exporter": "python",
   "pygments_lexer": "ipython3",
   "version": "3.6.1"
  }
 },
 "nbformat": 4,
 "nbformat_minor": 2
}
