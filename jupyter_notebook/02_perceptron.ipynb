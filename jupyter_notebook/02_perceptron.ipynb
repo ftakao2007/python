{
 "cells": [
  {
   "cell_type": "markdown",
   "metadata": {},
   "source": [
    "# パーセプトロン(perceptron)\n",
    "\n",
    "* パーセプトロンとは\n",
    "    * 複数の信号を入力として受け取り、一つの「信号」を出力するためのアルゴリズム\n",
    "        * ここでのパーセプトロンは正確には「人工ニューロン」や「単純パーセプトロン」と呼ばれる\n",
    "    * ニューラルネットワークの起源となるアルゴリズム\n",
    "    * ローゼンブラットというアメリカの研究者によって19571年に考案された\n",
    "    * 信号\n",
    "        * 電流や川のような流れをもつもののイメージ\n",
    "        * 二値の値 (信号を「**流す(1)/流さない(0)**」)\n",
    "\n",
    "## パーセプトロンの動作原理\n",
    "\n",
    "<img src=\"img/2-1.png\" alt=\"2入力のパーセプトロン\" title=\"2入力のパーセプトロン\" width=\"200\" height=\"200\" />  \n",
    "  \n",
    "  \n",
    "$\n",
    "y = \n",
    "\\begin{eqnarray}\n",
    "\\left\\{\n",
    "\\begin{array}{l}\n",
    "0 & ( \\omega_{1} x_{1} + \\omega_{2} x_{2} \\leqq \\theta ) \\\\\n",
    "1 & ( \\omega_{1} x_{1} + \\omega_{2} x_{2} > \\theta ) \n",
    "\\end{array}\n",
    "\\right.\n",
    "\\end{eqnarray}\n",
    "$\n",
    "\n",
    "* $ x_{1}, x_{2} $ は入力信号\n",
    "* $ \\omega_{1}, \\omega_{2} $ は重み\n",
    "* $ \\theta $ は閾値\n",
    "\n",
    " \n",
    " * 図中の「○」はニューロン(もしくはノード)\n",
    "     1. 入力信号は、ニューロンに送られる際にそれぞれに固有の重みが乗算される\n",
    "         1. 重みが大きいほどその信号の重要性が高くなる\n",
    "         1. 重みは電流で言うところの抵抗に相当 (ただし、パーセプトロンは**重みが大きいほど大きな信号が流れる**ので電流とは逆)\n",
    "     1. ニューロンでは送られてきた信号の総和が計算される\n",
    "     1. 総和がある閾値(限界値)を超えた場合に1を出力する (ニューロンが発火すると表現することもある)\n"
   ]
  },
  {
   "cell_type": "code",
   "execution_count": null,
   "metadata": {
    "collapsed": true
   },
   "outputs": [],
   "source": []
  }
 ],
 "metadata": {
  "kernelspec": {
   "display_name": "Python 3",
   "language": "python",
   "name": "python3"
  },
  "language_info": {
   "codemirror_mode": {
    "name": "ipython",
    "version": 3
   },
   "file_extension": ".py",
   "mimetype": "text/x-python",
   "name": "python",
   "nbconvert_exporter": "python",
   "pygments_lexer": "ipython3",
   "version": "3.6.1"
  }
 },
 "nbformat": 4,
 "nbformat_minor": 2
}
