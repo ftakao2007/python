{
 "cells": [
  {
   "cell_type": "markdown",
   "metadata": {},
   "source": [
    "## 出力層の設計\n",
    "\n",
    "* ニューラルネットワークは分類問題と回帰問題の両方に用いることができる\n",
    "    * 分類問題\n",
    "        * 例\n",
    "            * グラフ上にプロットしたデータをズバッと二つに線で分ける\n",
    "            * 応用例としてはスパムメールフィルタ\n",
    "                * スパムか、スパムでは無いか\n",
    "        * 使う活性化関数\n",
    "            * ソフトマトリックス関数\n",
    "    * 回帰問題\n",
    "        * 例\n",
    "            * データ群から線を求める\n",
    "            * 株価の予想とか明日の天気の予想など\n",
    "        * 使う活性化関数"
   ]
  }
 ],
 "metadata": {
  "kernelspec": {
   "display_name": "Python 3",
   "language": "python",
   "name": "python3"
  },
  "language_info": {
   "codemirror_mode": {
    "name": "ipython",
    "version": 3
   },
   "file_extension": ".py",
   "mimetype": "text/x-python",
   "name": "python",
   "nbconvert_exporter": "python",
   "pygments_lexer": "ipython3",
   "version": "3.6.1"
  }
 },
 "nbformat": 4,
 "nbformat_minor": 2
}
