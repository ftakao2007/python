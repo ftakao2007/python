{
 "cells": [
  {
   "cell_type": "markdown",
   "metadata": {
    "deletable": true,
    "editable": true
   },
   "source": [
    "## 出力層の設計\n",
    "\n",
    "* ニューラルネットワークは分類問題と回帰問題の両方に用いることができる\n",
    "    * 分類問題\n",
    "        * 分類など\n",
    "        * 例\n",
    "            * グラフ上にプロットしたデータをズバッと二つに線で分ける\n",
    "            * 応用例としてはスパムメールフィルタ\n",
    "                * スパムか、スパムでは無いか\n",
    "        * 使う<font color=\"red\">出力層の</font>活性化関数\n",
    "            * <font color=\"red\">ソフトマックス関数</font>\n",
    "    * 回帰問題\n",
    "        * 予想など\n",
    "        * 例\n",
    "            * データ群から線を求める\n",
    "            * 株価の予想とか明日の天気の予想など\n",
    "        * 使う出力層の活性化関数\n",
    "            * 恒等関数"
   ]
  },
  {
   "cell_type": "markdown",
   "metadata": {},
   "source": [
    "### 恒等関数とソフトマックス関数\n",
    "\n",
    "* 恒等関数\n",
    "    * 入力をそのまま出力する\n",
    "    * 入ってきたものに対して何も手を加えずに出力する関数\n",
    "* ソフトマックス関数\n",
    "    * $ \\displaystyle y_k=\\frac{\\exp(a_k)}{\\sum_{i=1}^{n} \\exp(a_i)} $\n",
    "    * 出力層が全部で $n$ 個あるとする\n",
    "    * $k$ 番目の出力は $y_k$\n",
    "    * $a_k$ は入力信号\n",
    "    * 分母は全ての入力信号の指数関数の和\n",
    "        * 出力の各ニューロンが全ての入力信号の影響を受ける\n",
    "\n"
   ]
  },
  {
   "cell_type": "code",
   "execution_count": 10,
   "metadata": {
    "collapsed": false
   },
   "outputs": [
    {
     "name": "stdout",
     "output_type": "stream",
     "text": [
      "[ 0.01821127  0.24519181  0.73659691]\n"
     ]
    }
   ],
   "source": [
    "import numpy  as np\n",
    "\n",
    "a = np.array([0.3, 2.9, 4.0])\n",
    "exp_a = np.exp(a)\n",
    "# print(exp_a)\n",
    "\n",
    "sum_exp_a = np.sum(exp_a)\n",
    "#print(sum_exp_a)\n",
    "\n",
    "y = exp_a / sum_exp_a\n",
    "#print(y)\n",
    "\n",
    "### 関数として定義\n",
    "def softmax(a):\n",
    "    exp_a = np.exp(a)\n",
    "    sum_exp_a = np.sum(exp_a)\n",
    "    y = exp_a / sum_exp_a\n",
    "    \n",
    "    return y\n",
    "\n",
    "print(softmax(a))"
   ]
  },
  {
   "cell_type": "markdown",
   "metadata": {},
   "source": [
    "### ソフトマックス関数の実装上の注意\n",
    "\n",
    "* オーバーフローに関する問題\n",
    "    * オーバーフロー\n",
    "        * 数には有効桁数が有り、とても大きな値は表現できない\n",
    "            * 表現できる数値の範囲に限界がある\n",
    "    * 指数関数の値が大きくなるとオーバーフローする\n",
    "        * そのような大きな値同士で割り算を行うと数値が不安定な結果になってしまう"
   ]
  }
 ],
 "metadata": {
  "kernelspec": {
   "display_name": "Python 3",
   "language": "python",
   "name": "python3"
  },
  "language_info": {
   "codemirror_mode": {
    "name": "ipython",
    "version": 3
   },
   "file_extension": ".py",
   "mimetype": "text/x-python",
   "name": "python",
   "nbconvert_exporter": "python",
   "pygments_lexer": "ipython3",
   "version": "3.6.1"
  }
 },
 "nbformat": 4,
 "nbformat_minor": 2
}
