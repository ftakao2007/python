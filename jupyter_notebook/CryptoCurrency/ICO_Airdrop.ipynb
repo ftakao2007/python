{
 "cells": [
  {
   "cell_type": "markdown",
   "metadata": {},
   "source": [
    "# ICO(Initial Coin Offering)\n",
    "\n",
    "* 新たにトークンや仮想通貨を発行するときに既に市場に流通している仮想通貨で資金を集める\n",
    "* 別名\n",
    "    * トークンセール\n",
    "    * パブリックセール\n",
    "* 仮想通貨の世界の株式上場（IPO）みたいなもの"
   ]
  },
  {
   "cell_type": "markdown",
   "metadata": {},
   "source": [
    "## IPOとの比較\n",
    "\n",
    "* IPO\n",
    "    * 株式を発行する\n",
    "    * 投資家に証券会社に仲介してもらった株式を法定通貨で購入してもらう\n",
    "    * 議決権あり\n",
    "        * グーグルのクラスC株のように議決権の無い株もある\n",
    "* ICO\n",
    "    * トークン(仮想通貨)を発行する\n",
    "    * 直接投資家に仮想通貨で購入してもらう\n",
    "        * 現在は仲介業者無し\n",
    "    * 議決権無し\n",
    "* 共通\n",
    "    * 目的\n",
    "        * 実現したいプロジェクトの資金調達"
   ]
  },
  {
   "cell_type": "markdown",
   "metadata": {},
   "source": [
    "## トークン\n",
    "\n",
    "* ブロックチェーン上で発行した独自コイン\n",
    "\n",
    "### トークン発行のプラットフォーム\n",
    "\n",
    "* イーサリアム\n",
    "    * ICOの基軸通貨\n",
    "* NEM\n",
    "    * イーサリアムのようにスマートコントラクトによるトークンの発行が可能\n",
    "    * PoWというマイニングの概念が存在しない\n",
    "        * POIを採用している\n",
    "            * どれだけ流動性を上げてくれてかを評価する\n",
    "            * 「ハーベスト」という機能\n",
    "* NEO\n",
    "    * 中国版イーサリアム\n",
    "    * コンセンサスアルゴリズムとトランザクションの手数料がイーサリアムと異なる\n",
    "    * 開発に一般的なプログラミング言語が使える\n",
    "* Waves\n",
    "* その他"
   ]
  },
  {
   "cell_type": "markdown",
   "metadata": {},
   "source": [
    "## ホワイトペーパー\n",
    "\n",
    "* 事業計画書や目論見書に当たる\n",
    "    * 以下を記載する\n",
    "        * コインの目的\n",
    "        * 利用形態\n",
    "        * 仕組みや技術の詳細\n",
    "        * 発行枚数や発行方法\n",
    "        * 開発チームの詳細\n",
    "* 最近の問題点\n",
    "    * コピペでそれらしいことを書いて体裁を整えるだけのものが増えている"
   ]
  },
  {
   "cell_type": "markdown",
   "metadata": {},
   "source": [
    "## イーサリアムのブロックチェーンを利用\n",
    "\n",
    "###    ERC20\n",
    "* イーサリアムのトークン標準規格\n",
    "    * スマートコントラクトの標準化したプログラムのテンプレート\n",
    "* ERC20に対応したウォレット\n",
    "    * ERC20で作成された複数のトークンをひとつのウォレットで保管・取引が可能\n",
    "    * 例\n",
    "        * MyEtherWallet\n",
    "    * 自分の持つトークンと別のトークンを交換することも可能\n",
    "* その他拡張規格\n",
    "    * ERC223\n",
    "    * ERC721"
   ]
  },
  {
   "cell_type": "markdown",
   "metadata": {},
   "source": [
    "## 参考\n",
    "\n",
    "* [ICOの８つの法律規制と合法的資金調達のやり方とは？弁護士が解説](http://topcourt-law.com/virtual_currency/ico_regulations_financing)"
   ]
  },
  {
   "cell_type": "markdown",
   "metadata": {},
   "source": [
    "# Airdrop\n",
    "\n",
    "* ICOの対抗馬とも言われている\n",
    "* トークンを無料で配布する行為のこと\n",
    "    * 投げ銭システムのようなもの\n",
    "    \n",
    "### 参考\n",
    "\n",
    "* [仮想通貨のエアドロップ（AirDrop）とは？](http://cryptocoinportal.jp/air-drop/)"
   ]
  }
 ],
 "metadata": {
  "kernelspec": {
   "display_name": "Python 3",
   "language": "python",
   "name": "python3"
  },
  "language_info": {
   "codemirror_mode": {
    "name": "ipython",
    "version": 3
   },
   "file_extension": ".py",
   "mimetype": "text/x-python",
   "name": "python",
   "nbconvert_exporter": "python",
   "pygments_lexer": "ipython3",
   "version": "3.6.1"
  }
 },
 "nbformat": 4,
 "nbformat_minor": 2
}
