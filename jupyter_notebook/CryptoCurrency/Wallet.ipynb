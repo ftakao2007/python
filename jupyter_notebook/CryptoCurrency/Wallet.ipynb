{
 "cells": [
  {
   "cell_type": "markdown",
   "metadata": {},
   "source": [
    "# ウォレット\n",
    "\n",
    "## 概要\n",
    "\n",
    "仮想通貨を保存する場所\n",
    "\n",
    "## 種類\n",
    "\n",
    "* ウェブ\n",
    "    * 種類\n",
    "        * 取引所\n",
    "            * いきなり取引所が無くなる場合もある\n",
    "            * どう管理されているかわからないのでそのまま置いておくのは危険\n",
    "        * オンライン\n",
    "            * 取引所よりはリスクが少ない(破綻する可能性が低い)\n",
    "* ソフトウェア(デスクトップ)\n",
    "    * デスクトップにソフトをDLしてローカルで保存する\n",
    "    * インターネットに接続されていなくても利用できる\n",
    "    * 種類\n",
    "        * 完全型\n",
    "            * bitcoin.org\n",
    "                * サトシ・ナカモトの論文をもとに作っているオープンソースのソフトウェア\n",
    "                * ブロックチェーンも含めてDLされる\n",
    "                * マイニングや取引などのビットコイン利用が可能\n",
    "                * かなり容量を使う\n",
    "        * 簡易(安易)型\n",
    "            * Copay\n",
    "                * Glidera、coinbase取引所でビットコインの売買ができる\n",
    "            * Airbitz\n",
    "                * Bluetoothを使用したビットコイン送金が可能\n",
    "            * breadwallet\n",
    "                * 操作感が良い\n",
    "            * MyEtherWallet\n",
    "                * ETHやETCを保管、送金できる\n",
    "                * ICOでは主にイーサリアムが利用されるので日本人投資家が海外のICOに参加するのに使われる\n",
    "        * クライアント型方式\n",
    "            * Ginco\n",
    "                * モバイルアプリ\n",
    "                * 秘密鍵をユーザ端末内で管理する\n",
    "* ハードウェア\n",
    "    * 秘密鍵を保存できるUSB接続の端末\n",
    "    * ウォレットが壊れたり紛失しても復旧できる\n",
    "        * パスフレーズを覚えておけば復元できる\n",
    "    * 種類\n",
    "        * Trezor\n",
    "            * 総合的に使いやすい\n",
    "        * Ledger\n",
    "            * 銘柄が豊富\n",
    "                * リップルにも対応している\n",
    "* コールド（ペーパー）\n",
    "    * 紙に秘密鍵を印刷したもの\n",
    "        * 紙が汚れて文字が見えなくなったら終わり"
   ]
  },
  {
   "cell_type": "markdown",
   "metadata": {},
   "source": [
    "## ウェブ(取引所)\n",
    "\n",
    "* Zaif\n",
    "\n",
    "## ウェブ(オンライン)\n",
    "\n",
    "* blockchain.info\n",
    "    * 日本語対応\n",
    "    * 提携海外取引所で通過を購入可能\n",
    "* Coinbase\n",
    "    * ここも人気"
   ]
  },
  {
   "cell_type": "markdown",
   "metadata": {},
   "source": [
    "# 参考\n",
    "\n",
    "* [仮想通貨ウォレットとは？種類別に超わかりやすく図解](https://www.kk3marketer.com/entry/cryptowallet)"
   ]
  }
 ],
 "metadata": {
  "kernelspec": {
   "display_name": "Python 3",
   "language": "python",
   "name": "python3"
  },
  "language_info": {
   "codemirror_mode": {
    "name": "ipython",
    "version": 3
   },
   "file_extension": ".py",
   "mimetype": "text/x-python",
   "name": "python",
   "nbconvert_exporter": "python",
   "pygments_lexer": "ipython3",
   "version": "3.6.1"
  }
 },
 "nbformat": 4,
 "nbformat_minor": 2
}
