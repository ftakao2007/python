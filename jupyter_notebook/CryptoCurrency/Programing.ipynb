{
 "cells": [
  {
   "cell_type": "markdown",
   "metadata": {},
   "source": [
    "# プログラミング"
   ]
  },
  {
   "cell_type": "markdown",
   "metadata": {},
   "source": [
    "## Ethereum\n",
    "\n",
    "* スマートコントラクトの実行基盤としてのプラットフォーム\n",
    "    * 特定の実相を指すものではない\n",
    "    * 様々な言語のクライアントがある\n",
    "        * 推奨実装\n",
    "            * Geth(go-ethereum,ゲス)          "
   ]
  },
  {
   "cell_type": "markdown",
   "metadata": {},
   "source": [
    "## ネットワーク\n",
    "\n",
    "* ライブネットワーク\n",
    "    * 世界中のノードが参加するパブリックな本番用ネットワーク\n",
    "        * パブリックブロックチェーン\n",
    "    * コンセンサスプロセスに参加できる\n",
    "* テストネットワーク\n",
    "    * Mordenテストネット\n",
    "        * 世界中のノードが参加できるネットワーク\n",
    "    * ローカルプライベートテストネット\n",
    "        * 自ノード、もしくは限られたノードのみ参加できる\n",
    "        * マイニングの難易度を指定できる\n",
    "            * 参加するノードが容易にマイニングできる"
   ]
  },
  {
   "cell_type": "markdown",
   "metadata": {},
   "source": [
    "## Ether\n",
    "\n",
    "* Ether\n",
    "    * Ethereumに実装されている仮想通貨\n",
    "        * 仮想通貨として送受信できる\n",
    "        * コントラクトを動かす手数料として利用することができる\n",
    "    * 単位\n",
    "        * ether\n",
    "            * 一番大きな単位\n",
    "        * wei\n",
    "            * 一番小さな単位\n",
    "            * 1etherは $10^{18}$ wei"
   ]
  },
  {
   "cell_type": "markdown",
   "metadata": {},
   "source": [
    "## Gas\n",
    "\n",
    "* Gas\n",
    "    * 手数料\n",
    "        * Etherの送金手数料\n",
    "        * コントラクトの実行手数料\n",
    "        * Ethereumの利用者は使用したコンピューティングリソースの対価としてマイナーにGasを支払う\n",
    "            * Gas Fee\n",
    "                * 要求するリソースの量や複雑さから決まる手数料\n",
    "                * 単位はGas\n",
    "            * Gas Price\n",
    "                * 1Gasあたりの価格\n",
    "                * 単位はwei/Gas\n",
    "        * 送金トランザクションの手数料計算例\n",
    "            * Gas Fee 21000 Gas\n",
    "            * Gas Price 2.2 x $10^{10}$ wei/Gas\n",
    "            * 1ether = 100USD\n",
    "                * 21000 x 2.2 x $10^{10}$ = 4.62 x $10^{14}$ wei\n",
    "                * 0.046USD\n",
    "    * Gas Limit\n",
    "        * トランザクション実行時の引数の一つ\n",
    "        * そのトランザクションで支払い可能な最大値\n",
    "            * 処理の実行時にGas Limitを超えた場合はそれ以上の処理は行われず処理は取り消されて実行前の状態に戻り、Gasはマイナーに支払われる\n",
    "            * 大量のリソースを使用する場合はそれに見合ったGas Limitを設定する必要がある\n",
    "            * 逆に、コントラクト側に誤りがあっても支払うのはGas Limitまで\n",
    "                * あまったGasは支払元に戻ってくる"
   ]
  }
 ],
 "metadata": {
  "kernelspec": {
   "display_name": "Python 3",
   "language": "python",
   "name": "python3"
  },
  "language_info": {
   "codemirror_mode": {
    "name": "ipython",
    "version": 3
   },
   "file_extension": ".py",
   "mimetype": "text/x-python",
   "name": "python",
   "nbconvert_exporter": "python",
   "pygments_lexer": "ipython3",
   "version": "3.5.4"
  }
 },
 "nbformat": 4,
 "nbformat_minor": 2
}
