{
 "cells": [
  {
   "cell_type": "markdown",
   "metadata": {},
   "source": [
    "# ICO\n",
    "\n",
    "* 仮想通貨の世界の株式上場みたいなもの"
   ]
  },
  {
   "cell_type": "markdown",
   "metadata": {},
   "source": [
    "## ホワイトペーパー\n",
    "\n",
    "* 事業計画書や目論見書に当たる\n",
    "    * 以下を記載する\n",
    "        * コインの目的\n",
    "        * 利用形態\n",
    "        * 仕組みや技術の詳細\n",
    "        * 発行枚数や発行方法\n",
    "        * 開発チームの詳細\n",
    "* 最近の問題点\n",
    "    * コピペでそれらしいことを書いて体裁を整えるだけのものが増えている"
   ]
  },
  {
   "cell_type": "markdown",
   "metadata": {},
   "source": [
    "## トークン\n",
    "\n",
    "* ブロックチェーン上で発行した独自コイン\n"
   ]
  },
  {
   "cell_type": "markdown",
   "metadata": {},
   "source": [
    "## イーサリアムのブロックチェーンを利用\n",
    "\n",
    "###    ERC20\n",
    "* イーサリアムのトークン標準規格\n",
    "    * スマートコントラクトの標準化したプログラムのテンプレート\n",
    "* ERC20に対応したウォレット\n",
    "    * ERC20で作成された複数のトークンをひとつのウォレットで保管・取引が可能\n",
    "    * 例\n",
    "        * MyEtherWallet\n",
    "    * 自分の持つトークンと別のトークンを交換することも可能\n",
    "* その他拡張規格\n",
    "    * ERC223\n",
    "    * ERC721"
   ]
  },
  {
   "cell_type": "markdown",
   "metadata": {},
   "source": [
    "## Airdrop\n",
    "\n",
    "* ICOの対抗馬とも言われている\n",
    "* トークンを無料で配布する行為のこと\n",
    "    * 投げ銭システムのようなもの\n",
    "    \n",
    "### 参考\n",
    "\n",
    "* [仮想通貨のエアドロップ（AirDrop）とは？](http://cryptocoinportal.jp/air-drop/)"
   ]
  }
 ],
 "metadata": {
  "kernelspec": {
   "display_name": "Python 3",
   "language": "python",
   "name": "python3"
  },
  "language_info": {
   "codemirror_mode": {
    "name": "ipython",
    "version": 3
   },
   "file_extension": ".py",
   "mimetype": "text/x-python",
   "name": "python",
   "nbconvert_exporter": "python",
   "pygments_lexer": "ipython3",
   "version": "3.6.1"
  }
 },
 "nbformat": 4,
 "nbformat_minor": 2
}
