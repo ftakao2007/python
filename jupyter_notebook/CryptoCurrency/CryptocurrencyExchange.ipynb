{
 "cells": [
  {
   "cell_type": "markdown",
   "metadata": {},
   "source": [
    "# 取引所"
   ]
  },
  {
   "cell_type": "markdown",
   "metadata": {},
   "source": [
    "## Zaif\n",
    "\n",
    "* 日本の取引所"
   ]
  },
  {
   "cell_type": "markdown",
   "metadata": {},
   "source": [
    "## BINANCE\n",
    "\n",
    "* 中国の取引所\n",
    "\n",
    "### 参考\n",
    "\n",
    "* [バイナンス(BINANCE)の登録,入金方法と使い方｜アプリが使いやすい手数料激安の取引所](https://www.zerokarabitcoin.com/entry/binance)"
   ]
  },
  {
   "cell_type": "markdown",
   "metadata": {},
   "source": [
    "## Cointal\n",
    "\n",
    "* 世界初のP2P取引所\n",
    "\n",
    "### 参考\n",
    "\n",
    "* [史上初！？P2Pの仮想通貨取引所「Cointal」の登録方法と使い方を解説！](https://coiner-blog.com/exchange/cointal)"
   ]
  }
 ],
 "metadata": {
  "kernelspec": {
   "display_name": "Python 3",
   "language": "python",
   "name": "python3"
  },
  "language_info": {
   "codemirror_mode": {
    "name": "ipython",
    "version": 3
   },
   "file_extension": ".py",
   "mimetype": "text/x-python",
   "name": "python",
   "nbconvert_exporter": "python",
   "pygments_lexer": "ipython3",
   "version": "3.5.4"
  }
 },
 "nbformat": 4,
 "nbformat_minor": 2
}
