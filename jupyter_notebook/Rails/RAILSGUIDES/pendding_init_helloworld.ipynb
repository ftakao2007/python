{
 "cells": [
  {
   "cell_type": "markdown",
   "metadata": {},
   "source": [
    "※ Jupyter上から環境整えるのが難しいのでいったんコンソールから設定"
   ]
  },
  {
   "cell_type": "markdown",
   "metadata": {
    "collapsed": false,
    "deletable": true,
    "editable": true
   },
   "source": [
    "# HelloWorld\n",
    "\n",
    "## コントローラの作成"
   ]
  },
  {
   "cell_type": "code",
   "execution_count": 13,
   "metadata": {
    "collapsed": false
   },
   "outputs": [
    {
     "name": "stdout",
     "output_type": "stream",
     "text": [
      "/root/jupyter/jupyter_notebook/Rails/RAILSGUIDES/vendor/bundle/ruby/2.3.0/gems/railties-5.1.2/lib/rails/commands.rb:17:in `<top (required)>': uninitialized constant Rails (NameError)\n",
      "\tfrom bin/rails:5:in `require'\n",
      "\tfrom bin/rails:5:in `<main>'\n"
     ]
    },
    {
     "ename": "",
     "evalue": "1",
     "output_type": "error",
     "traceback": []
    }
   ],
   "source": [
    "#export RBENV_ROOT=/usr/local/rbenv\n",
    "#export RBENV_DIR=/usr/local/rbenv\n",
    "#cd /root/git_jupyter_notebook/Rails/RAILSGUIDES\n",
    "bundle exec rails generate controller welcome index\n",
    "#env\n",
    "#bundle exec rake routes"
   ]
  },
  {
   "cell_type": "code",
   "execution_count": 11,
   "metadata": {
    "collapsed": false
   },
   "outputs": [
    {
     "name": "stdout",
     "output_type": "stream",
     "text": [
      "bash: puts: command not found\n"
     ]
    },
    {
     "ename": "",
     "evalue": "127",
     "output_type": "error",
     "traceback": []
    }
   ],
   "source": []
  }
 ],
 "metadata": {
  "kernelspec": {
   "display_name": "Bash",
   "language": "bash",
   "name": "bash"
  },
  "language_info": {
   "codemirror_mode": "shell",
   "file_extension": ".sh",
   "mimetype": "text/x-sh",
   "name": "bash"
  }
 },
 "nbformat": 4,
 "nbformat_minor": 2
}
