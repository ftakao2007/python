{
 "cells": [
  {
   "cell_type": "markdown",
   "metadata": {},
   "source": [
    "### 暗号化パスワードの生成\n",
    "\n",
    "```\n",
    "$ bundle exec rails c\n",
    "Running via Spring preloader in process 47208\n",
    "Loading development environment (Rails 4.2.6)\n",
    "pry(main)> @user = User.new\n",
    "=> #<User id: nil, email: \"\", created_at: nil, updated_at: nil, name: nil, birthday: nil, image: nil, gender: nil, introduction: nil, company_name: nil, zip: nil, address: nil, tel: nil, owner: false>\n",
    "pry(main)> @user.password = \"pass\"\n",
    "=> \"pass\"\n",
    "pry(main)> @user.encrypted_password\n",
    "=> \"$2a$10$ig166Ew7cgrqQzoybBpneue90raZzNmHEmFczjob1JkaFU.uOBofK\"\n",
    "```"
   ]
  }
 ],
 "metadata": {
  "kernelspec": {
   "display_name": "Ruby 2.4.1",
   "language": "ruby",
   "name": "ruby"
  },
  "language_info": {
   "file_extension": ".rb",
   "mimetype": "application/x-ruby",
   "name": "ruby",
   "version": "2.4.1"
  }
 },
 "nbformat": 4,
 "nbformat_minor": 2
}
