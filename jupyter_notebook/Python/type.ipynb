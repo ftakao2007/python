{
 "cells": [
  {
   "cell_type": "markdown",
   "metadata": {},
   "source": [
    "# 型について"
   ]
  },
  {
   "cell_type": "markdown",
   "metadata": {},
   "source": [
    "## list型\n",
    "\n",
    "* Pythonの配列"
   ]
  },
  {
   "cell_type": "code",
   "execution_count": 42,
   "metadata": {
    "collapsed": false
   },
   "outputs": [
    {
     "name": "stdout",
     "output_type": "stream",
     "text": [
      "[1, 'hello', 3.14]\n",
      "[1, 2, 3]\n",
      "[4, 2, 3]\n",
      "1\n",
      "hello\n",
      "3.14\n",
      "1\n",
      "9\n",
      "[3, 4, 5]\n",
      "c[-5:-2]\n",
      "[5, 6, 7]\n",
      "[3, 4, 5, 6, 7, 8, 9]\n",
      "[1, 2, 3, 4, 5]\n",
      "[1, 3, 5, 7]\n"
     ]
    }
   ],
   "source": [
    "### 基本\n",
    "a = [1,'hello',3.14]\n",
    "print(a)\n",
    "\n",
    "### 改行して記述できる\n",
    "b = [\n",
    "    1,\n",
    "    2,\n",
    "    3\n",
    "]\n",
    "print(b)\n",
    "\n",
    "### 要素の値を変更できる\n",
    "b[0] = 4\n",
    "print(b)\n",
    "\n",
    "### 各要素にforでアクセス\n",
    "for x in a:\n",
    "    print(x)\n",
    "\n",
    "### indexでアクセス\n",
    "### この場合index 0は「1」、index 1は「2」\n",
    "c = [1,2,3,4,5,6,7,8,9]\n",
    "print(c[0])\n",
    "\n",
    "### 一番後ろの要素\n",
    "print(c[-1])\n",
    "\n",
    "### c[n:m] でindex nからindex m-1まで。Rubyだとc[n...m]\n",
    "print(c[2:5])\n",
    "\n",
    "### c[-n:-m]で　一番後ろからn個分の要素から一番後ろからm個分の要素を除く\n",
    "print('c[-5:-2]')\n",
    "print(c[-5:-2])\n",
    "\n",
    "### index 2以降の要素\n",
    "print(c[2:])\n",
    "\n",
    "### index 5より前(index 5の要素は含まない)の要素\n",
    "print(c[:5])\n",
    "\n",
    "### c[n:m:l]で　index n から index m-1 まで l個飛ばしで参照\n",
    "print(c[0:8:2])\n"
   ]
  },
  {
   "cell_type": "code",
   "execution_count": 23,
   "metadata": {
    "collapsed": false
   },
   "outputs": [
    {
     "name": "stdout",
     "output_type": "stream",
     "text": [
      "[3, 4, 5]"
     ]
    }
   ],
   "source": [
    "%%bash\n",
    "### Ruby\n",
    "ruby -e \"c = [1,2,3,4,5,6,7,8,9]; print c[2...5]\""
   ]
  },
  {
   "cell_type": "markdown",
   "metadata": {},
   "source": [
    "### メソッド\n",
    "\n",
    "* len\n",
    "    * リストの要素の個数を調べる\n",
    "* tuple\n",
    "    * リストをタプルに変換する"
   ]
  },
  {
   "cell_type": "code",
   "execution_count": 64,
   "metadata": {
    "collapsed": false
   },
   "outputs": [
    {
     "name": "stdout",
     "output_type": "stream",
     "text": [
      "5\n",
      "(1, 2, 3, 4, 5)\n"
     ]
    }
   ],
   "source": [
    "a = [1,2,3,4,5]\n",
    "print(len(a))\n",
    "print(tuple(a))"
   ]
  },
  {
   "cell_type": "markdown",
   "metadata": {},
   "source": [
    "## tuple型\n",
    "\n",
    "* 複数の要素から構成されそれを一つのモノとして扱える機能\n",
    "* list型との違い\n",
    "    * tupleは作成した後に要素の追加や削除が出来ない"
   ]
  },
  {
   "cell_type": "code",
   "execution_count": 61,
   "metadata": {
    "collapsed": false
   },
   "outputs": [
    {
     "name": "stdout",
     "output_type": "stream",
     "text": [
      "(1, 'hello', 3.14)\n",
      "(1, 2, 3)\n",
      "タプルの要素は変更できません\n",
      "10\n",
      "(10,)\n"
     ]
    }
   ],
   "source": [
    "### 基本\n",
    "a = (1,'hello',3.14)\n",
    "print(a)\n",
    "\n",
    "### 改行して記述できる\n",
    "b = (\n",
    "    1,\n",
    "    2,\n",
    "    3\n",
    ")\n",
    "print(b)\n",
    "\n",
    "### 要素の変更はできない\n",
    "try:\n",
    "    b[0] = 4\n",
    "except TypeError:\n",
    "    print(u'タプルの要素は変更できません')\n",
    "\n",
    "### 要素が一つのtupleを作る場合は最後にカンマを入れる\n",
    "### 単なる数値の10\n",
    "c = (10)\n",
    "print(c)\n",
    "\n",
    "### index 0の要素10のみのタプル\n",
    "d = (10,)\n",
    "print(d)"
   ]
  },
  {
   "cell_type": "markdown",
   "metadata": {},
   "source": [
    "### メソッド\n",
    "\n",
    "* len\n",
    "    * タプルの要素の個数を調べる\n",
    "* list\n",
    "    * タプルをリストに変換する"
   ]
  },
  {
   "cell_type": "code",
   "execution_count": 65,
   "metadata": {
    "collapsed": false
   },
   "outputs": [
    {
     "name": "stdout",
     "output_type": "stream",
     "text": [
      "5\n",
      "[1, 2, 3, 4, 5]\n"
     ]
    }
   ],
   "source": [
    "a = (1,2,3,4,5)\n",
    "print(len(a))\n",
    "print(list(a))"
   ]
  },
  {
   "cell_type": "markdown",
   "metadata": {},
   "source": [
    "## dict型\n",
    "\n",
    "* Pythonのハッシュ\n",
    "    * キーと値のペアのリスト"
   ]
  },
  {
   "cell_type": "markdown",
   "metadata": {
    "deletable": true,
    "editable": true
   },
   "source": [
    "### メソッド"
   ]
  },
  {
   "cell_type": "markdown",
   "metadata": {},
   "source": [
    "## set型\n",
    "\n",
    "* 複数のデータを持つデータ型の一つで、集合を表現することができる\n",
    "* シーケンス型ではない\n",
    "* set型の特徴\n",
    "    * 重複のないデータ型\n",
    "        * 同じ値は一つのみ登録可能\n",
    "    * in演算子が高速\n",
    "    * 集合に関する関数が豊富\n",
    "    \n",
    "### 参考\n",
    "\n",
    "* [セット（Set）に入門する](http://www.yoheim.net/blog.php?q=20160605)"
   ]
  }
 ],
 "metadata": {
  "kernelspec": {
   "display_name": "Python 3",
   "language": "python",
   "name": "python3"
  },
  "language_info": {
   "codemirror_mode": {
    "name": "ipython",
    "version": 3
   },
   "file_extension": ".py",
   "mimetype": "text/x-python",
   "name": "python",
   "nbconvert_exporter": "python",
   "pygments_lexer": "ipython3",
   "version": "3.6.1"
  }
 },
 "nbformat": 4,
 "nbformat_minor": 2
}
