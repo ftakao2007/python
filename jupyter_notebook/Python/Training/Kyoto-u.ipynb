{
 "cells": [
  {
   "cell_type": "markdown",
   "id": "1bbabab0",
   "metadata": {},
   "source": [
    "# プログラミング演習 Python 2019\n",
    "\n",
    "[プログラミング演習 Python 2019](https://repository.kulib.kyoto-u.ac.jp/dspace/handle/2433/245698)"
   ]
  },
  {
   "cell_type": "code",
   "execution_count": 2,
   "id": "8ee53240",
   "metadata": {},
   "outputs": [
    {
     "name": "stdout",
     "output_type": "stream",
     "text": [
      "3\n"
     ]
    }
   ],
   "source": [
    "a = 1 + 2\n",
    "print(a)"
   ]
  },
  {
   "cell_type": "code",
   "execution_count": 3,
   "id": "d1c9a57e",
   "metadata": {},
   "outputs": [
    {
     "data": {
      "text/plain": [
       "1267650600228229401496703205376"
      ]
     },
     "execution_count": 3,
     "metadata": {},
     "output_type": "execute_result"
    }
   ],
   "source": [
    "2**100"
   ]
  },
  {
   "cell_type": "code",
   "execution_count": 5,
   "id": "e03f52f2",
   "metadata": {},
   "outputs": [
    {
     "name": "stdout",
     "output_type": "stream",
     "text": [
      "1\n",
      "0.5\n",
      "AAA\n",
      "<class 'int'>\n",
      "<class 'float'>\n",
      "<class 'str'>\n",
      "140358452492592 140358269048912 140357844705776\n"
     ]
    }
   ],
   "source": [
    "a = 1\n",
    "b = 1/2\n",
    "c = \"AAA\"\n",
    "print(a)\n",
    "print(b)\n",
    "print(c)\n",
    "print(type(a))\n",
    "print(type(b))\n",
    "print(type(c))\n",
    "# 3.7 Pythonのより正しい理解\n",
    "print(id(a), id(b), id(c))"
   ]
  },
  {
   "cell_type": "code",
   "execution_count": 30,
   "id": "220fb594",
   "metadata": {},
   "outputs": [
    {
     "name": "stdout",
     "output_type": "stream",
     "text": [
      "100 50.01 0.02\n",
      "50.01 25.024996000799838 0.03999200159968007\n",
      "25.024996000799838 12.552458046745903 0.07992009269196594\n",
      "12.552458046745903 6.35589469493114 0.1593313431163771\n",
      "6.35589469493114 3.335281609280434 0.31466852362972764\n",
      "3.335281609280434 1.967465562231149 0.5996495151818642\n",
      "1.967465562231149 1.4920008896897232 1.0165362171482972\n",
      "1.4920008896897232 1.4162413320389438 1.3404817743881643\n",
      "1.4162413320389438 1.4142150140500531 1.4121886960611625\n",
      "1.4142150140500531 1.41421356237384 1.414212110697627\n"
     ]
    }
   ],
   "source": [
    "# 3.8.1\n",
    "x = 2\n",
    "rnew = 100\n",
    "\n",
    "for i in range(10):\n",
    "    r1 = rnew\n",
    "    r2 = x / r1\n",
    "    rnew = (r1 + r2)/2\n",
    "    print(r1, rnew, r2)"
   ]
  }
 ],
 "metadata": {
  "kernelspec": {
   "display_name": "Python 3",
   "language": "python",
   "name": "python3"
  },
  "language_info": {
   "codemirror_mode": {
    "name": "ipython",
    "version": 3
   },
   "file_extension": ".py",
   "mimetype": "text/x-python",
   "name": "python",
   "nbconvert_exporter": "python",
   "pygments_lexer": "ipython3",
   "version": "3.9.5"
  }
 },
 "nbformat": 4,
 "nbformat_minor": 5
}
