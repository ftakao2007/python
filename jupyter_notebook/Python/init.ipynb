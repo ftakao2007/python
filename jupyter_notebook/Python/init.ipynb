{
 "cells": [
  {
   "cell_type": "markdown",
   "metadata": {
    "deletable": true,
    "editable": true
   },
   "source": [
    "## psycopg2のインストール\n",
    "\n",
    "PostgreSQLと連携する"
   ]
  },
  {
   "cell_type": "code",
   "execution_count": 2,
   "metadata": {
    "collapsed": false,
    "deletable": true,
    "editable": true
   },
   "outputs": [
    {
     "name": "stdout",
     "output_type": "stream",
     "text": [
      "Collecting psycopg2\n",
      "  Downloading psycopg2-2.7.1-cp36-cp36m-manylinux1_x86_64.whl (2.7MB)\n",
      "Installing collected packages: psycopg2\n",
      "Successfully installed psycopg2-2.7.1\n"
     ]
    }
   ],
   "source": [
    "%%bash\n",
    "pip install psycopg2"
   ]
  },
  {
   "cell_type": "code",
   "execution_count": 3,
   "metadata": {
    "collapsed": false,
    "deletable": true,
    "editable": true
   },
   "outputs": [
    {
     "name": "stdout",
     "output_type": "stream",
     "text": [
      "[(1, 'Taro', 21, 'Tokyo'), (2, 'Taro', 21, 'Tokyo'), (3, 'Jiro', 20, 'Osaka'), (4, 'Saburo', 19, 'Nagoya')]\n"
     ]
    }
   ],
   "source": [
    "### テスト\n",
    "import psycopg2 as pg\n",
    "with pg.connect(database='jsd_development',\n",
    "                user='jsd',\n",
    "                password='pass',\n",
    "                host='10.136.3.189',\n",
    "                port=5432) as conn, conn.cursor() as cur:\n",
    "  cur.execute( 'SELECT * FROM people' )\n",
    "  print( cur.fetchall() )"
   ]
  },
  {
   "cell_type": "code",
   "execution_count": 5,
   "metadata": {
    "collapsed": false,
    "deletable": true,
    "editable": true
   },
   "outputs": [
    {
     "data": {
      "text/html": [
       "<div>\n",
       "<table border=\"1\" class=\"dataframe\">\n",
       "  <thead>\n",
       "    <tr style=\"text-align: right;\">\n",
       "      <th></th>\n",
       "      <th>id</th>\n",
       "      <th>name</th>\n",
       "      <th>age</th>\n",
       "      <th>address</th>\n",
       "    </tr>\n",
       "  </thead>\n",
       "  <tbody>\n",
       "    <tr>\n",
       "      <th>0</th>\n",
       "      <td>1</td>\n",
       "      <td>Taro</td>\n",
       "      <td>21</td>\n",
       "      <td>Tokyo</td>\n",
       "    </tr>\n",
       "    <tr>\n",
       "      <th>1</th>\n",
       "      <td>2</td>\n",
       "      <td>Taro</td>\n",
       "      <td>21</td>\n",
       "      <td>Tokyo</td>\n",
       "    </tr>\n",
       "    <tr>\n",
       "      <th>2</th>\n",
       "      <td>3</td>\n",
       "      <td>Jiro</td>\n",
       "      <td>20</td>\n",
       "      <td>Osaka</td>\n",
       "    </tr>\n",
       "    <tr>\n",
       "      <th>3</th>\n",
       "      <td>4</td>\n",
       "      <td>Saburo</td>\n",
       "      <td>19</td>\n",
       "      <td>Nagoya</td>\n",
       "    </tr>\n",
       "  </tbody>\n",
       "</table>\n",
       "</div>"
      ],
      "text/plain": [
       "   id    name  age address\n",
       "0   1    Taro   21   Tokyo\n",
       "1   2    Taro   21   Tokyo\n",
       "2   3    Jiro   20   Osaka\n",
       "3   4  Saburo   19  Nagoya"
      ]
     },
     "execution_count": 5,
     "metadata": {},
     "output_type": "execute_result"
    }
   ],
   "source": [
    "### pandasテスト\n",
    "### http://www.mwsoft.jp/programming/numpy/rdb_to_pandas.html\n",
    "import pandas.io.sql as psql\n",
    "import psycopg2 as pg\n",
    "with pg.connect(database='jsd_development',\n",
    "                user='jsd',\n",
    "                password='pass',\n",
    "                host='10.136.3.189',\n",
    "                port=5432) as conn:\n",
    "  sql = 'SELECT * FROM people'\n",
    "  df = psql.read_sql(sql, conn)\n",
    "df"
   ]
  },
  {
   "cell_type": "code",
   "execution_count": 6,
   "metadata": {
    "collapsed": false,
    "deletable": true,
    "editable": true
   },
   "outputs": [
    {
     "name": "stdout",
     "output_type": "stream",
     "text": [
      "<class 'pandas.core.frame.DataFrame'>\n",
      "RangeIndex: 4 entries, 0 to 3\n",
      "Data columns (total 4 columns):\n",
      "id         4 non-null int64\n",
      "name       4 non-null object\n",
      "age        4 non-null int64\n",
      "address    4 non-null object\n",
      "dtypes: int64(2), object(2)\n",
      "memory usage: 208.0+ bytes\n"
     ]
    }
   ],
   "source": [
    "df.info()"
   ]
  },
  {
   "cell_type": "code",
   "execution_count": 7,
   "metadata": {
    "collapsed": false,
    "deletable": true,
    "editable": true
   },
   "outputs": [
    {
     "data": {
      "text/plain": [
       "id          int64\n",
       "name       object\n",
       "age         int64\n",
       "address    object\n",
       "dtype: object"
      ]
     },
     "execution_count": 7,
     "metadata": {},
     "output_type": "execute_result"
    }
   ],
   "source": [
    "df.dtypes"
   ]
  },
  {
   "cell_type": "markdown",
   "metadata": {
    "deletable": true,
    "editable": true
   },
   "source": [
    "## PyYAMLのインストール\n",
    "\n",
    "YAMLを読み込む"
   ]
  },
  {
   "cell_type": "code",
   "execution_count": 8,
   "metadata": {
    "collapsed": false,
    "deletable": true,
    "editable": true
   },
   "outputs": [
    {
     "name": "stdout",
     "output_type": "stream",
     "text": [
      "Collecting PyYAML\n",
      "  Downloading PyYAML-3.12.tar.gz (253kB)\n",
      "Installing collected packages: PyYAML\n",
      "  Running setup.py install for PyYAML: started\n",
      "    Running setup.py install for PyYAML: finished with status 'done'\n",
      "Successfully installed PyYAML-3.12\n"
     ]
    }
   ],
   "source": [
    "%%bash\n",
    "pip install PyYAML"
   ]
  },
  {
   "cell_type": "code",
   "execution_count": 24,
   "metadata": {
    "collapsed": false,
    "deletable": true,
    "editable": true
   },
   "outputs": [
    {
     "name": "stdout",
     "output_type": "stream",
     "text": [
      "development:\n",
      "  database: ftakao2007_development\n",
      "  username: ftakao2007\n",
      "  password: pass\n",
      "  port: 5432\n",
      "  host: 192.168.33.11\n",
      "\n",
      "production:\n",
      "  database: ftakao2007_production\n",
      "  username: ftakao2007\n",
      "  password: pass\n",
      "  port: 5432\n",
      "  host: 172.16.0.1\n",
      "\n",
      "\n"
     ]
    }
   ],
   "source": [
    "### ymlの中身確認\n",
    "import os\n",
    "\n",
    "f = open(\"yml/database.yml\", \"r\")\n",
    "for line in f:\n",
    "    print(line, end=\"\")\n",
    "print(\"\\n\")"
   ]
  },
  {
   "cell_type": "code",
   "execution_count": 25,
   "metadata": {
    "collapsed": false,
    "deletable": true,
    "editable": true
   },
   "outputs": [
    {
     "name": "stdout",
     "output_type": "stream",
     "text": [
      "{'development': {'database': 'ftakao2007_development', 'username': 'ftakao2007', 'password': 'pass', 'port': 5432, 'host': '192.168.33.11'}, 'production': {'database': 'ftakao2007_production', 'username': 'ftakao2007', 'password': 'pass', 'port': 5432, 'host': '172.16.0.1'}}\n",
      "{'database': 'ftakao2007_development', 'username': 'ftakao2007', 'password': 'pass', 'port': 5432, 'host': '192.168.33.11'}\n",
      "ftakao2007_development\n",
      "192.168.33.11\n"
     ]
    },
    {
     "data": {
      "text/plain": [
       "{'development': {'database': 'ftakao2007_development',\n",
       "  'host': '192.168.33.11',\n",
       "  'password': 'pass',\n",
       "  'port': 5432,\n",
       "  'username': 'ftakao2007'},\n",
       " 'production': {'database': 'ftakao2007_production',\n",
       "  'host': '172.16.0.1',\n",
       "  'password': 'pass',\n",
       "  'port': 5432,\n",
       "  'username': 'ftakao2007'}}"
      ]
     },
     "execution_count": 25,
     "metadata": {},
     "output_type": "execute_result"
    }
   ],
   "source": [
    "### ymlの読み込み\n",
    "### http://qiita.com/ouiouiouioui/items/1d19aee73ff6e5135b73\n",
    "import yaml\n",
    "f = open(\"yml/database.yml\", \"r\")\n",
    "data = yaml.load(f)\n",
    "print(data)\n",
    "print(data['development'])\n",
    "print(data['development']['database'])\n",
    "print(data['development']['host'])\n",
    "data"
   ]
  },
  {
   "cell_type": "code",
   "execution_count": 26,
   "metadata": {
    "collapsed": false,
    "deletable": true,
    "editable": true
   },
   "outputs": [
    {
     "data": {
      "text/html": [
       "<div>\n",
       "<table border=\"1\" class=\"dataframe\">\n",
       "  <thead>\n",
       "    <tr style=\"text-align: right;\">\n",
       "      <th></th>\n",
       "      <th>development</th>\n",
       "      <th>production</th>\n",
       "    </tr>\n",
       "  </thead>\n",
       "  <tbody>\n",
       "    <tr>\n",
       "      <th>database</th>\n",
       "      <td>ftakao2007_development</td>\n",
       "      <td>ftakao2007_production</td>\n",
       "    </tr>\n",
       "    <tr>\n",
       "      <th>host</th>\n",
       "      <td>192.168.33.11</td>\n",
       "      <td>172.16.0.1</td>\n",
       "    </tr>\n",
       "    <tr>\n",
       "      <th>password</th>\n",
       "      <td>pass</td>\n",
       "      <td>pass</td>\n",
       "    </tr>\n",
       "    <tr>\n",
       "      <th>port</th>\n",
       "      <td>5432</td>\n",
       "      <td>5432</td>\n",
       "    </tr>\n",
       "    <tr>\n",
       "      <th>username</th>\n",
       "      <td>ftakao2007</td>\n",
       "      <td>ftakao2007</td>\n",
       "    </tr>\n",
       "  </tbody>\n",
       "</table>\n",
       "</div>"
      ],
      "text/plain": [
       "                     development             production\n",
       "database  ftakao2007_development  ftakao2007_production\n",
       "host               192.168.33.11             172.16.0.1\n",
       "password                    pass                   pass\n",
       "port                        5432                   5432\n",
       "username              ftakao2007             ftakao2007"
      ]
     },
     "execution_count": 26,
     "metadata": {},
     "output_type": "execute_result"
    }
   ],
   "source": [
    "### pandas連携テスト\n",
    "import pandas as pd\n",
    "pd.DataFrame.from_dict(data)"
   ]
  },
  {
   "cell_type": "markdown",
   "metadata": {
    "deletable": true,
    "editable": true
   },
   "source": [
    "## Shapelyのインストール\n",
    "\n",
    "* 地理空間データ上で様々な計算を行なう"
   ]
  },
  {
   "cell_type": "code",
   "execution_count": 29,
   "metadata": {
    "collapsed": false,
    "deletable": true,
    "editable": true
   },
   "outputs": [
    {
     "name": "stdout",
     "output_type": "stream",
     "text": [
      "Reading package lists...\n",
      "Building dependency tree...\n",
      "Reading state information...\n",
      "The following additional packages will be installed:\n",
      "  libgeos-3.5.0 libgeos-c1v5\n",
      "Suggested packages:\n",
      "  libgdal-doc\n",
      "The following NEW packages will be installed:\n",
      "  libgeos-3.5.0 libgeos-c1v5 libgeos-dev\n",
      "0 upgraded, 3 newly installed, 0 to remove and 50 not upgraded.\n",
      "Need to get 596 kB of archives.\n",
      "After this operation, 2724 kB of additional disk space will be used.\n",
      "Get:1 http://archive.ubuntu.com/ubuntu xenial/universe amd64 libgeos-3.5.0 amd64 3.5.0-1ubuntu2 [477 kB]\n",
      "Get:2 http://archive.ubuntu.com/ubuntu xenial/universe amd64 libgeos-c1v5 amd64 3.5.0-1ubuntu2 [52.4 kB]\n",
      "Get:3 http://archive.ubuntu.com/ubuntu xenial/universe amd64 libgeos-dev amd64 3.5.0-1ubuntu2 [66.5 kB]\n",
      "Fetched 596 kB in 2s (260 kB/s)\n",
      "Selecting previously unselected package libgeos-3.5.0.\r\n",
      "(Reading database ... \r",
      "(Reading database ... 5%\r",
      "(Reading database ... 10%\r",
      "(Reading database ... 15%\r",
      "(Reading database ... 20%\r",
      "(Reading database ... 25%\r",
      "(Reading database ... 30%\r",
      "(Reading database ... 35%\r",
      "(Reading database ... 40%\r",
      "(Reading database ... 45%\r",
      "(Reading database ... 50%\r",
      "(Reading database ... 55%\r",
      "(Reading database ... 60%\r",
      "(Reading database ... 65%\r",
      "(Reading database ... 70%\r",
      "(Reading database ... 75%\r",
      "(Reading database ... 80%\r",
      "(Reading database ... 85%\r",
      "(Reading database ... 90%\r",
      "(Reading database ... 95%\r",
      "(Reading database ... 100%\r",
      "(Reading database ... 46084 files and directories currently installed.)\r\n",
      "Preparing to unpack .../libgeos-3.5.0_3.5.0-1ubuntu2_amd64.deb ...\r\n",
      "Unpacking libgeos-3.5.0 (3.5.0-1ubuntu2) ...\r\n",
      "Selecting previously unselected package libgeos-c1v5.\r\n",
      "Preparing to unpack .../libgeos-c1v5_3.5.0-1ubuntu2_amd64.deb ...\r\n",
      "Unpacking libgeos-c1v5 (3.5.0-1ubuntu2) ...\r\n",
      "Selecting previously unselected package libgeos-dev.\r\n",
      "Preparing to unpack .../libgeos-dev_3.5.0-1ubuntu2_amd64.deb ...\r\n",
      "Unpacking libgeos-dev (3.5.0-1ubuntu2) ...\r\n",
      "Processing triggers for libc-bin (2.23-0ubuntu7) ...\r\n",
      "Setting up libgeos-3.5.0 (3.5.0-1ubuntu2) ...\r\n",
      "Setting up libgeos-c1v5 (3.5.0-1ubuntu2) ...\r\n",
      "Setting up libgeos-dev (3.5.0-1ubuntu2) ...\r\n",
      "Processing triggers for libc-bin (2.23-0ubuntu7) ...\r\n",
      "Collecting shapely\n",
      "  Using cached Shapely-1.5.17.tar.gz\n",
      "Installing collected packages: shapely\n",
      "  Running setup.py install for shapely: started\n",
      "    Running setup.py install for shapely: finished with status 'done'\n",
      "Successfully installed shapely-1.5.17\n"
     ]
    },
    {
     "name": "stderr",
     "output_type": "stream",
     "text": [
      "debconf: delaying package configuration, since apt-utils is not installed\n"
     ]
    }
   ],
   "source": [
    "%%bash\n",
    "apt-get install -y libgeos-dev\n",
    "pip install shapely"
   ]
  },
  {
   "cell_type": "code",
   "execution_count": 30,
   "metadata": {
    "collapsed": false,
    "deletable": true,
    "editable": true
   },
   "outputs": [
    {
     "name": "stdout",
     "output_type": "stream",
     "text": [
      "0101000080000000000000F03F00000000000000400000000000000840\n"
     ]
    }
   ],
   "source": [
    "### テスト\n",
    "from shapely import geos, wkb, wkt\n",
    "\n",
    "# Show EWKB\n",
    "p = wkt.loads('POINT Z(1 2 3)')\n",
    "print(p.wkb_hex)  # This is little endian EWKB with just PointZ bit set"
   ]
  },
  {
   "cell_type": "markdown",
   "metadata": {},
   "source": [
    "## geojsonのインストール\n",
    "\n",
    "* GeoJSONを扱うためのライブラリ"
   ]
  },
  {
   "cell_type": "code",
   "execution_count": 1,
   "metadata": {
    "collapsed": false
   },
   "outputs": [
    {
     "name": "stdout",
     "output_type": "stream",
     "text": [
      "Collecting geojson\n",
      "  Downloading geojson-1.3.5-py2.py3-none-any.whl\n",
      "Installing collected packages: geojson\n",
      "Successfully installed geojson-1.3.5\n"
     ]
    }
   ],
   "source": [
    "%%bash\n",
    "pip install geojson"
   ]
  },
  {
   "cell_type": "code",
   "execution_count": 2,
   "metadata": {
    "collapsed": false
   },
   "outputs": [
    {
     "data": {
      "text/plain": [
       "{\"coordinates\": [-115.81, 37.24], \"type\": \"Point\"}"
      ]
     },
     "execution_count": 2,
     "metadata": {},
     "output_type": "execute_result"
    }
   ],
   "source": [
    "### テスト\n",
    "from geojson import Point\n",
    "Point((-115.81, 37.24))"
   ]
  },
  {
   "cell_type": "code",
   "execution_count": 3,
   "metadata": {
    "collapsed": false
   },
   "outputs": [
    {
     "data": {
      "text/plain": [
       "{\"coordinates\": [[-155.52, 19.61], [-156.22, 20.74], [-157.97, 21.46]], \"type\": \"MultiPoint\"}"
      ]
     },
     "execution_count": 3,
     "metadata": {},
     "output_type": "execute_result"
    }
   ],
   "source": [
    "from geojson import MultiPoint\n",
    "MultiPoint([(-155.52, 19.61), (-156.22, 20.74), (-157.97, 21.46)]) "
   ]
  }
 ],
 "metadata": {
  "kernelspec": {
   "display_name": "Python 3",
   "language": "python",
   "name": "python3"
  },
  "language_info": {
   "codemirror_mode": {
    "name": "ipython",
    "version": 3
   },
   "file_extension": ".py",
   "mimetype": "text/x-python",
   "name": "python",
   "nbconvert_exporter": "python",
   "pygments_lexer": "ipython3",
   "version": "3.6.1"
  }
 },
 "nbformat": 4,
 "nbformat_minor": 2
}
