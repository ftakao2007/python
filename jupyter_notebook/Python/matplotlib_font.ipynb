{
 "cells": [
  {
   "cell_type": "markdown",
   "metadata": {},
   "source": [
    "# matplotlibに日本語フォントのインストール\n",
    "\n",
    "* http://ipafont.ipa.go.jp/old/ipafont/download.html\n",
    "    * ipag00303.zipをダウンロード\n",
    "* 解凍してできたipag.ttcを~/.fontsディレクトリに移動 (Ubuntu)\n",
    "    * 例\n",
    "        * mkdir ~/.fonts\n",
    "        * unzip ipag00303.zip\n",
    "        * mv ipag00303/ipag.ttf ~/.fonts\n",
    "* matplotlibrcの末尾に「font.family : IPAGothic」や「font.family : TakaoGothic」等を追記する\n",
    "    * 例\n",
    "        * vi /usr/local/pyenv/versions/3.6.1/envs/jupyter/lib/python3.6/site-packages/matplotlib/mpl-data/matplotlibrc\n",
    "* ユーザのキャッシュを削除する\n",
    "    * 例\n",
    "        * rm -i ~/.cache/matplotlib/*"
   ]
  },
  {
   "cell_type": "code",
   "execution_count": 1,
   "metadata": {},
   "outputs": [
    {
     "data": {
      "text/plain": [
       "'/usr/local/pyenv/versions/3.5.4/envs/jupyter/lib/python3.5/site-packages/matplotlib/mpl-data/matplotlibrc'"
      ]
     },
     "execution_count": 1,
     "metadata": {},
     "output_type": "execute_result"
    }
   ],
   "source": [
    "### [参考]matplotlibrcの場所\n",
    "import matplotlib\n",
    "matplotlib.matplotlib_fname()"
   ]
  },
  {
   "cell_type": "code",
   "execution_count": 2,
   "metadata": {},
   "outputs": [
    {
     "data": {
      "text/plain": [
       "['/usr/share/fonts/truetype/fonts-japanese-mincho.ttf',\n",
       " '/usr/share/fonts/truetype/takao-mincho/TakaoPMincho.ttf',\n",
       " '/usr/share/fonts/truetype/takao-gothic/TakaoPGothic.ttf',\n",
       " '/usr/share/fonts/truetype/takao-mincho/TakaoMincho.ttf',\n",
       " '/usr/share/fonts/truetype/takao-gothic/TakaoGothic.ttf',\n",
       " '/usr/share/fonts/truetype/dejavu/DejaVuSerif.ttf',\n",
       " '/usr/share/fonts/truetype/dejavu/DejaVuSans.ttf',\n",
       " '/usr/share/fonts/truetype/dejavu/DejaVuSansMono-Bold.ttf',\n",
       " '/usr/share/fonts/truetype/dejavu/DejaVuSans-Bold.ttf',\n",
       " '/usr/share/fonts/truetype/dejavu/DejaVuSerif-Bold.ttf',\n",
       " '/usr/share/fonts/truetype/fonts-japanese-gothic.ttf',\n",
       " '/usr/share/fonts/truetype/dejavu/DejaVuSansMono.ttf']"
      ]
     },
     "execution_count": 2,
     "metadata": {},
     "output_type": "execute_result"
    }
   ],
   "source": [
    "### [参考]有効なフォント一覧\n",
    "import matplotlib.font_manager as fm\n",
    "import pandas as pd\n",
    "fonts = fm.findSystemFonts()\n",
    "fonts"
   ]
  },
  {
   "cell_type": "code",
   "execution_count": 6,
   "metadata": {},
   "outputs": [
    {
     "data": {
      "text/html": [
       "<div>\n",
       "<style scoped>\n",
       "    .dataframe tbody tr th:only-of-type {\n",
       "        vertical-align: middle;\n",
       "    }\n",
       "\n",
       "    .dataframe tbody tr th {\n",
       "        vertical-align: top;\n",
       "    }\n",
       "\n",
       "    .dataframe thead th {\n",
       "        text-align: right;\n",
       "    }\n",
       "</style>\n",
       "<table border=\"1\" class=\"dataframe\">\n",
       "  <thead>\n",
       "    <tr style=\"text-align: right;\">\n",
       "      <th></th>\n",
       "      <th>path</th>\n",
       "      <th>name</th>\n",
       "      <th>family</th>\n",
       "    </tr>\n",
       "  </thead>\n",
       "  <tbody>\n",
       "    <tr>\n",
       "      <th>1</th>\n",
       "      <td>/usr/share/fonts/truetype/takao-mincho/TakaoPM...</td>\n",
       "      <td>TakaoPMincho</td>\n",
       "      <td>[TakaoGothic]</td>\n",
       "    </tr>\n",
       "    <tr>\n",
       "      <th>2</th>\n",
       "      <td>/usr/share/fonts/truetype/takao-gothic/TakaoPG...</td>\n",
       "      <td>TakaoPGothic</td>\n",
       "      <td>[TakaoGothic]</td>\n",
       "    </tr>\n",
       "    <tr>\n",
       "      <th>3</th>\n",
       "      <td>/usr/share/fonts/truetype/takao-mincho/TakaoMi...</td>\n",
       "      <td>TakaoMincho</td>\n",
       "      <td>[TakaoGothic]</td>\n",
       "    </tr>\n",
       "    <tr>\n",
       "      <th>4</th>\n",
       "      <td>/usr/share/fonts/truetype/takao-gothic/TakaoGo...</td>\n",
       "      <td>TakaoGothic</td>\n",
       "      <td>[TakaoGothic]</td>\n",
       "    </tr>\n",
       "  </tbody>\n",
       "</table>\n",
       "</div>"
      ],
      "text/plain": [
       "                                                path          name  \\\n",
       "1  /usr/share/fonts/truetype/takao-mincho/TakaoPM...  TakaoPMincho   \n",
       "2  /usr/share/fonts/truetype/takao-gothic/TakaoPG...  TakaoPGothic   \n",
       "3  /usr/share/fonts/truetype/takao-mincho/TakaoMi...   TakaoMincho   \n",
       "4  /usr/share/fonts/truetype/takao-gothic/TakaoGo...   TakaoGothic   \n",
       "\n",
       "          family  \n",
       "1  [TakaoGothic]  \n",
       "2  [TakaoGothic]  \n",
       "3  [TakaoGothic]  \n",
       "4  [TakaoGothic]  "
      ]
     },
     "execution_count": 6,
     "metadata": {},
     "output_type": "execute_result"
    }
   ],
   "source": [
    "### [参考]familyの確認\n",
    "l = []\n",
    "for f in fonts:\n",
    "    font = fm.FontProperties(fname=f)\n",
    "    l.append((f, font.get_name(), font.get_family()))\n",
    "df = pd.DataFrame(l, columns=['path', 'name', 'family'])\n",
    "#df[df['path'].apply(lambda s: 'ipa' in s)]\n",
    "df[df['path'].apply(lambda s: 'takao' in s)]"
   ]
  },
  {
   "cell_type": "code",
   "execution_count": 7,
   "metadata": {},
   "outputs": [],
   "source": [
    "# グラフ化に必要なものの準備\n",
    "import matplotlib\n",
    "import matplotlib.pyplot as plt\n",
    "\n",
    "# Jupyter上に図を表示するためのおまじない\n",
    "%matplotlib inline\n",
    "\n",
    "# データの扱いに必要なライブラリ\n",
    "import pandas as pd\n",
    "\n",
    "# チャートがきれいになるおまじない\n",
    "plt.style.use('ggplot')"
   ]
  },
  {
   "cell_type": "code",
   "execution_count": 9,
   "metadata": {},
   "outputs": [
    {
     "data": {
      "text/html": [
       "<div>\n",
       "<style scoped>\n",
       "    .dataframe tbody tr th:only-of-type {\n",
       "        vertical-align: middle;\n",
       "    }\n",
       "\n",
       "    .dataframe tbody tr th {\n",
       "        vertical-align: top;\n",
       "    }\n",
       "\n",
       "    .dataframe thead th {\n",
       "        text-align: right;\n",
       "    }\n",
       "</style>\n",
       "<table border=\"1\" class=\"dataframe\">\n",
       "  <thead>\n",
       "    <tr style=\"text-align: right;\">\n",
       "      <th></th>\n",
       "      <th>徳島</th>\n",
       "      <th>鳴門</th>\n",
       "      <th>阿南</th>\n",
       "    </tr>\n",
       "    <tr>\n",
       "      <th>Date</th>\n",
       "      <th></th>\n",
       "      <th></th>\n",
       "      <th></th>\n",
       "    </tr>\n",
       "  </thead>\n",
       "  <tbody>\n",
       "    <tr>\n",
       "      <th>2020-01-01</th>\n",
       "      <td>5</td>\n",
       "      <td>6</td>\n",
       "      <td>3</td>\n",
       "    </tr>\n",
       "    <tr>\n",
       "      <th>2020-01-02</th>\n",
       "      <td>6</td>\n",
       "      <td>8</td>\n",
       "      <td>4</td>\n",
       "    </tr>\n",
       "    <tr>\n",
       "      <th>2020-01-03</th>\n",
       "      <td>9</td>\n",
       "      <td>10</td>\n",
       "      <td>6</td>\n",
       "    </tr>\n",
       "    <tr>\n",
       "      <th>2020-01-04</th>\n",
       "      <td>4</td>\n",
       "      <td>5</td>\n",
       "      <td>2</td>\n",
       "    </tr>\n",
       "    <tr>\n",
       "      <th>2020-01-05</th>\n",
       "      <td>5</td>\n",
       "      <td>6</td>\n",
       "      <td>3</td>\n",
       "    </tr>\n",
       "  </tbody>\n",
       "</table>\n",
       "</div>"
      ],
      "text/plain": [
       "            徳島  鳴門  阿南\n",
       "Date                  \n",
       "2020-01-01   5   6   3\n",
       "2020-01-02   6   8   4\n",
       "2020-01-03   9  10   6\n",
       "2020-01-04   4   5   2\n",
       "2020-01-05   5   6   3"
      ]
     },
     "execution_count": 9,
     "metadata": {},
     "output_type": "execute_result"
    }
   ],
   "source": [
    "### csvファイルのPATHを設定\n",
    "csv_path='csv/Temperature.csv'\n",
    "\n",
    "### テスト用ファイルの作成\n",
    "strs = \"\"\"Date,Tokushima,Naruto,Anan\n",
    "2020-01-01,5,6,3\n",
    "2020-01-02,6,8,4\n",
    "2020-01-03,9,10,6\n",
    "2020-01-04,4,5,2\n",
    "2020-01-05,5,6,3\n",
    "\"\"\"\n",
    "f = open(csv_path, 'w')\n",
    "f.writelines(strs)\n",
    "f.close\n",
    "\n",
    "### プロットするデータの整形\n",
    "df = pd.read_csv(csv_path, index_col=0)\n",
    "df = df.iloc[:, [0, 1, 2]]\n",
    "df.columns = [u'徳島', u'鳴門', u'阿南']\n",
    "df.index = pd.to_datetime(df.index)\n",
    "df"
   ]
  },
  {
   "cell_type": "code",
   "execution_count": 10,
   "metadata": {},
   "outputs": [
    {
     "data": {
      "text/plain": [
       "<matplotlib.axes._subplots.AxesSubplot at 0x7f55f25329e8>"
      ]
     },
     "execution_count": 10,
     "metadata": {},
     "output_type": "execute_result"
    },
    {
     "data": {
      "image/png": "[encoded data removed]",
      "text/plain": [
       "<Figure size 432x288 with 1 Axes>"
      ]
     },
     "metadata": {},
     "output_type": "display_data"
    }
   ],
   "source": [
    "### データを描画\n",
    "df.plot()"
   ]
  }
 ],
 "metadata": {
  "kernelspec": {
   "display_name": "Python 3",
   "language": "python",
   "name": "python3"
  },
  "language_info": {
   "codemirror_mode": {
    "name": "ipython",
    "version": 3
   },
   "file_extension": ".py",
   "mimetype": "text/x-python",
   "name": "python",
   "nbconvert_exporter": "python",
   "pygments_lexer": "ipython3",
   "version": "3.5.4"
  }
 },
 "nbformat": 4,
 "nbformat_minor": 2
}
