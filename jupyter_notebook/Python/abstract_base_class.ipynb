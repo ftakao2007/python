{
 "cells": [
  {
   "cell_type": "markdown",
   "id": "c790dd2f",
   "metadata": {},
   "source": [
    "# 抽象クラス\n",
    "\n",
    "Pythonで抽象クラスを試す\n",
    "\n",
    "* [grok](https://x.com/ftakao2007/status/1921832924535550195)\n",
    "* [【Python3】abcモジュールで抽象クラスを実装する](https://qiita.com/Jazuma/items/3cd9e5dde18bd1108452)\n",
    "* [ChatGPTに確認](https://chatgpt.com/c/6822ff44-c734-800b-80bd-f49be33461c2)\n"
   ]
  },
  {
   "cell_type": "markdown",
   "id": "ee635298",
   "metadata": {},
   "source": [
    "## 抽象クラスを定義"
   ]
  },
  {
   "cell_type": "code",
   "execution_count": 1,
   "id": "740a0a3e",
   "metadata": {},
   "outputs": [],
   "source": [
    "# 1. モジュールをインポート\n",
    "from abc import ABC, abstractmethod\n",
    "\n",
    "# 2. 一時ファイル作成用\n",
    "import os\n",
    "\n",
    "# 3. 一時ファイル(animal.py)の作成\n",
    "# 継承先クラスで抽象クラスをインポートするため\n",
    "module_code = '''\n",
    "from abc import ABC, abstractmethod\n",
    "\n",
    "class Animal(ABC):\n",
    "    @abstractmethod\n",
    "    def cry(self):\n",
    "        pass\n",
    "'''\n",
    "\n",
    "with open(\"animal.py\", \"w\") as f:\n",
    "    f.write(module_code)"
   ]
  },
  {
   "cell_type": "markdown",
   "id": "df5a11f3",
   "metadata": {},
   "source": [
    "``` Python\n",
    "# 1. モジュールをインポート\n",
    "from abc import ABC, abstractmethod\n",
    "\n",
    "# 2. ABCクラスを継承\n",
    "#    クラスの定義時にABCクラスを継承することで抽象クラスとして定義\n",
    "#    厳密に「class Animal(metaclass=ABCMeta):」とも書ける\n",
    "class Animal(ABC):\n",
    "    \n",
    "    # 3. デコレータで抽象メソッドであることを宣言\n",
    "    @abstractmethod\n",
    "    def cry(self):\n",
    "        pass\n",
    "```"
   ]
  },
  {
   "cell_type": "markdown",
   "id": "892c943f",
   "metadata": {},
   "source": [
    "## 継承先クラスを実装"
   ]
  },
  {
   "cell_type": "code",
   "execution_count": 3,
   "id": "d1160e1e",
   "metadata": {},
   "outputs": [
    {
     "name": "stdout",
     "output_type": "stream",
     "text": [
      "わんわん\n"
     ]
    }
   ],
   "source": [
    "# 抽象クラスをインポート\n",
    "from animal import Animal\n",
    "\n",
    "# 抽象クラスなのでそのままではインスタンス化できない\n",
    "# 以下はエラーになる\n",
    "# a = Animal()\n",
    "\n",
    "# 具象クラスを定義して使う\n",
    "class Dog(Animal):\n",
    "    def cry(self):\n",
    "        return \"わんわん\"\n",
    "\n",
    "dog = Dog()\n",
    "print(dog.cry())"
   ]
  },
  {
   "cell_type": "code",
   "execution_count": 4,
   "id": "895414a9",
   "metadata": {},
   "outputs": [
    {
     "ename": "TypeError",
     "evalue": "Can't instantiate abstract class Animal with abstract method cry",
     "output_type": "error",
     "traceback": [
      "\u001b[0;31m---------------------------------------------------------------------------\u001b[0m",
      "\u001b[0;31mTypeError\u001b[0m                                 Traceback (most recent call last)",
      "\u001b[0;32m/tmp/ipykernel_8197/2213514553.py\u001b[0m in \u001b[0;36m<module>\u001b[0;34m\u001b[0m\n\u001b[1;32m      1\u001b[0m \u001b[0;31m# 抽象クラスをインスタンス化しようとした場合\u001b[0m\u001b[0;34m\u001b[0m\u001b[0;34m\u001b[0m\u001b[0;34m\u001b[0m\u001b[0m\n\u001b[0;32m----> 2\u001b[0;31m \u001b[0ma\u001b[0m \u001b[0;34m=\u001b[0m \u001b[0mAnimal\u001b[0m\u001b[0;34m(\u001b[0m\u001b[0;34m)\u001b[0m\u001b[0;34m\u001b[0m\u001b[0;34m\u001b[0m\u001b[0m\n\u001b[0m",
      "\u001b[0;31mTypeError\u001b[0m: Can't instantiate abstract class Animal with abstract method cry"
     ]
    }
   ],
   "source": [
    "# 抽象クラスをインスタンス化しようとした場合\n",
    "a = Animal()"
   ]
  },
  {
   "cell_type": "markdown",
   "id": "1beaceb2",
   "metadata": {},
   "source": [
    "## ファイルを削除"
   ]
  },
  {
   "cell_type": "code",
   "execution_count": 5,
   "id": "63d37ce6",
   "metadata": {},
   "outputs": [],
   "source": [
    "# ファイルを削除\n",
    "import os\n",
    "import shutil\n",
    "#os.remove(\"animal.py\")\n",
    "#shutil.rmtree('__pycache__')"
   ]
  },
  {
   "cell_type": "markdown",
   "id": "6db1dd29",
   "metadata": {},
   "source": [
    "# 実験"
   ]
  },
  {
   "cell_type": "markdown",
   "id": "4bb649d7",
   "metadata": {},
   "source": [
    "## 普通のクラス"
   ]
  },
  {
   "cell_type": "code",
   "execution_count": 83,
   "id": "81490fc0",
   "metadata": {},
   "outputs": [],
   "source": [
    "class Animal2:\n",
    "    def __init__(self, name):\n",
    "        self.name = name\n",
    "    def dogcry(self):\n",
    "        return f\"{self.name}がわんわんと鳴いている\"\n",
    "    def catcry(self):\n",
    "        return f\"{self.name}がにゃーと鳴いている\"\n",
    "    def catwalk(self):\n",
    "        return f\"{self.name}が歩いている\"\n",
    "    def birdfly(self):\n",
    "        return f\"{self.name}が飛んでいる\"\n",
    "\n",
    "dog = Animal2(\"ポチ\")\n",
    "cat = Animal2(\"タマ\")"
   ]
  },
  {
   "cell_type": "code",
   "execution_count": 84,
   "id": "e42242ac",
   "metadata": {},
   "outputs": [
    {
     "name": "stdout",
     "output_type": "stream",
     "text": [
      "ポチがわんわんと鳴いている\n",
      "タマがにゃーと鳴いている\n"
     ]
    }
   ],
   "source": [
    "print(dog.dogcry())\n",
    "print(cat.catcry())"
   ]
  },
  {
   "cell_type": "markdown",
   "id": "617e1f14",
   "metadata": {},
   "source": [
    "## 普通のクラスの継承"
   ]
  },
  {
   "cell_type": "code",
   "execution_count": 21,
   "id": "b1e1aa2f",
   "metadata": {},
   "outputs": [],
   "source": [
    "# 親クラスの定義\n",
    "class Animal3:\n",
    "    def __init__(self, name):\n",
    "        self.name = name\n",
    "    def cry(self):\n",
    "        pass\n",
    "    \n",
    "# 子クラスの定義\n",
    "class Dog(Animal3):\n",
    "    # 親クラスのcryメソッドをオーバーライドして犬の鳴き声を定義\n",
    "    def cry(self):\n",
    "        return f\"{self.name}がわんわんと鳴いている\"\n",
    "\n",
    "class Cat(Animal3):\n",
    "    def cry(self):\n",
    "        return f\"{self.name}がにゃーと鳴いている\"\n",
    "    # 子クラスで新たに歩くメソッドを定義\n",
    "    def walk(self):\n",
    "        return f\"{self.name}が歩いている\"\n",
    "\n",
    "class Bird(Animal3):\n",
    "    # 鳥の鳴くメソッドは親の定義をそのまま継承\n",
    "    def __init__(self, name, color):\n",
    "        self.name = name\n",
    "        self.color = color\n",
    "    def fly(self):\n",
    "        return f\"{self.color}{self.name}が飛んでいる\"\n",
    "    def sleep(self):\n",
    "        return f\"寝る\"\n",
    "        \n",
    "\n",
    "# オブジェクトの作成\n",
    "dog = Dog(\"ポチ\")\n",
    "cat = Cat(\"タマ\")\n",
    "bird = Bird(\"ピーちゃん\", \"青い\")"
   ]
  },
  {
   "cell_type": "code",
   "execution_count": 22,
   "id": "0d7d95a8",
   "metadata": {},
   "outputs": [
    {
     "name": "stdout",
     "output_type": "stream",
     "text": [
      "ポチがわんわんと鳴いている\n",
      "タマがにゃーと鳴いている\n",
      "タマが歩いている\n",
      "None\n",
      "青いピーちゃんが飛んでいる\n",
      "寝る\n"
     ]
    }
   ],
   "source": [
    "# ポチが鳴く\n",
    "print(dog.cry())\n",
    "\n",
    "## タマが無く\n",
    "print(cat.cry())\n",
    "## タマが歩く\n",
    "print(cat.walk())\n",
    "\n",
    "## ピーちゃんの鳴き声は実装されていない\n",
    "print(bird.cry())\n",
    "print(bird.fly())\n",
    "print(bird.sleep())\n"
   ]
  },
  {
   "cell_type": "code",
   "execution_count": 93,
   "id": "3effb4cb",
   "metadata": {},
   "outputs": [
    {
     "ename": "AttributeError",
     "evalue": "'Dog' object has no attribute 'fly'",
     "output_type": "error",
     "traceback": [
      "\u001b[0;31m---------------------------------------------------------------------------\u001b[0m",
      "\u001b[0;31mAttributeError\u001b[0m                            Traceback (most recent call last)",
      "\u001b[0;32m/tmp/ipykernel_7774/644481557.py\u001b[0m in \u001b[0;36m<module>\u001b[0;34m\u001b[0m\n\u001b[0;32m----> 1\u001b[0;31m \u001b[0mprint\u001b[0m\u001b[0;34m(\u001b[0m\u001b[0mdog\u001b[0m\u001b[0;34m.\u001b[0m\u001b[0mfly\u001b[0m\u001b[0;34m(\u001b[0m\u001b[0;34m)\u001b[0m\u001b[0;34m)\u001b[0m\u001b[0;34m\u001b[0m\u001b[0;34m\u001b[0m\u001b[0m\n\u001b[0m",
      "\u001b[0;31mAttributeError\u001b[0m: 'Dog' object has no attribute 'fly'"
     ]
    }
   ],
   "source": [
    "# 犬が飛ぶことは親メソッドにも定義されていない\n",
    "print(dog.fly())"
   ]
  },
  {
   "cell_type": "markdown",
   "id": "6952a32a",
   "metadata": {},
   "source": [
    "## 抽象クラスの継承"
   ]
  },
  {
   "cell_type": "code",
   "execution_count": 4,
   "id": "b8fb42a9",
   "metadata": {},
   "outputs": [],
   "source": [
    "# モジュールをインポート\n",
    "from abc import ABC, abstractmethod\n",
    "\n",
    "# ABCクラスを継承\n",
    "class Animal4(ABC):\n",
    "    \n",
    "    # デコレータで抽象メソッドであることを宣言\n",
    "    @abstractmethod\n",
    "    def cry(self):\n",
    "        pass\n",
    "\n",
    "# 一時ファイル(animal.py)の作成\n",
    "# 継承先クラスで抽象クラスをインポートするためにはいったんファイル化する必要がある\n",
    "module_code = '''\n",
    "from abc import ABC, abstractmethod\n",
    "\n",
    "class Animal4(ABC):\n",
    "    @abstractmethod\n",
    "    def cry(self):\n",
    "        pass\n",
    "'''\n",
    "\n",
    "with open(\"animal4.py\", \"w\") as f:\n",
    "    f.write(module_code)"
   ]
  },
  {
   "cell_type": "code",
   "execution_count": 12,
   "id": "1385a88c",
   "metadata": {},
   "outputs": [],
   "source": [
    "# 抽象クラスをインポート\n",
    "from animal4 import Animal4\n",
    "\n",
    "# 子クラスの定義\n",
    "class Dog(Animal4):\n",
    "    def __init__(self, name):\n",
    "        self.name = name\n",
    "    ### これが無いとエラーになる\n",
    "    def cry(self):\n",
    "        return f\"{self.name}がわんわんと鳴いている\"\n",
    "        #return f\"わんわんと鳴いている\"\n",
    "    "
   ]
  },
  {
   "cell_type": "code",
   "execution_count": 14,
   "id": "e40a6663",
   "metadata": {},
   "outputs": [
    {
     "data": {
      "text/plain": [
       "'ポチがわんわんと鳴いている'"
      ]
     },
     "execution_count": 14,
     "metadata": {},
     "output_type": "execute_result"
    }
   ],
   "source": [
    "# オブジェクトの作成\n",
    "dog = Dog(\"ポチ\")\n",
    "dog.cry()"
   ]
  },
  {
   "cell_type": "code",
   "execution_count": 10,
   "id": "b9e1f291",
   "metadata": {},
   "outputs": [
    {
     "ename": "TypeError",
     "evalue": "Can't instantiate abstract class Dog with abstract method __init__",
     "output_type": "error",
     "traceback": [
      "\u001b[0;31m---------------------------------------------------------------------------\u001b[0m",
      "\u001b[0;31mTypeError\u001b[0m                                 Traceback (most recent call last)",
      "\u001b[0;32m/tmp/ipykernel_8197/2193990994.py\u001b[0m in \u001b[0;36m<module>\u001b[0;34m\u001b[0m\n\u001b[1;32m     21\u001b[0m \u001b[0;34m\u001b[0m\u001b[0m\n\u001b[1;32m     22\u001b[0m \u001b[0;31m# オブジェクトの作成\u001b[0m\u001b[0;34m\u001b[0m\u001b[0;34m\u001b[0m\u001b[0;34m\u001b[0m\u001b[0m\n\u001b[0;32m---> 23\u001b[0;31m \u001b[0mdog\u001b[0m \u001b[0;34m=\u001b[0m \u001b[0mDog\u001b[0m\u001b[0;34m(\u001b[0m\u001b[0;34m\"ポチ\"\u001b[0m\u001b[0;34m)\u001b[0m\u001b[0;34m\u001b[0m\u001b[0;34m\u001b[0m\u001b[0m\n\u001b[0m\u001b[1;32m     24\u001b[0m \u001b[0mcat\u001b[0m \u001b[0;34m=\u001b[0m \u001b[0mCat\u001b[0m\u001b[0;34m(\u001b[0m\u001b[0;34m\"タマ\"\u001b[0m\u001b[0;34m)\u001b[0m\u001b[0;34m\u001b[0m\u001b[0;34m\u001b[0m\u001b[0m\n\u001b[1;32m     25\u001b[0m \u001b[0mbird\u001b[0m \u001b[0;34m=\u001b[0m \u001b[0mBird\u001b[0m\u001b[0;34m(\u001b[0m\u001b[0;34m\"ピーちゃん\"\u001b[0m\u001b[0;34m)\u001b[0m\u001b[0;34m\u001b[0m\u001b[0;34m\u001b[0m\u001b[0m\n",
      "\u001b[0;31mTypeError\u001b[0m: Can't instantiate abstract class Dog with abstract method __init__"
     ]
    }
   ],
   "source": [
    "# 抽象クラスをインポート\n",
    "from animal4 import Animal4\n",
    "\n",
    "# 子クラスの定義\n",
    "class Dog(Animal4):\n",
    "    # 親クラスのcryメソッドをオーバーライドして犬の鳴き声を定義\n",
    "    def cry(self):\n",
    "        return f\"{self.name}がわんわんと鳴いている\"\n",
    "\n",
    "class Cat(Animal4):\n",
    "    def cry(self):\n",
    "        return f\"{self.name}がにゃーと鳴いている\"\n",
    "    # 子クラスで新たに歩くメソッドを定義\n",
    "    def walk(self):\n",
    "        return f\"{self.name}が歩いている\"\n",
    "\n",
    "class Bird(Animal4):\n",
    "    # 鳥の鳴くメソッドは親の定義をそのまま継承\n",
    "    def fly(self):\n",
    "        return f\"{self.name}が飛んでいる\"\n",
    "\n",
    "# オブジェクトの作成\n",
    "dog = Dog(\"ポチ\")\n",
    "cat = Cat(\"タマ\")\n",
    "bird = Bird(\"ピーちゃん\")"
   ]
  }
 ],
 "metadata": {
  "kernelspec": {
   "display_name": "Python 3 (ipykernel)",
   "language": "python",
   "name": "python3"
  },
  "language_info": {
   "codemirror_mode": {
    "name": "ipython",
    "version": 3
   },
   "file_extension": ".py",
   "mimetype": "text/x-python",
   "name": "python",
   "nbconvert_exporter": "python",
   "pygments_lexer": "ipython3",
   "version": "3.9.6"
  }
 },
 "nbformat": 4,
 "nbformat_minor": 5
}
