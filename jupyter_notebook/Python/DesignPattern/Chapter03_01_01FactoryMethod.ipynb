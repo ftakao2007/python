{
 "cells": [
  {
   "cell_type": "markdown",
   "id": "ad358405",
   "metadata": {},
   "source": [
    "# Factory Method\n",
    "\n",
    "* スーパークラスでオブジェクトを作成するためのインタフェースを提供する\n",
    "* オブジェクトの生成をサブクラスに任せることで、オブジェクト生成の詳細を隠蔽\n",
    "    * サブクラスで作成されるオブジェクトの種類を変更できるようにする"
   ]
  },
  {
   "cell_type": "markdown",
   "id": "998e9c90",
   "metadata": {},
   "source": [
    "``` Python\n",
    "from abc import ABC, abstractmethod\n",
    "\n",
    "class RobotFactory(ABC):\n",
    "    # ロボットを生成するファクトリークラス\n",
    "\n",
    "    @abstractmethod\n",
    "    def create_robot(self):\n",
    "        pass\n",
    "\n",
    "class ElectronicAssemblerFactory(RobotFactory):\n",
    "    # 電子部品を組み立てるロボットを生成するファクトリークラス\n",
    "    def create_robot(self):\n",
    "        return ElectronicAssembler()\n",
    "\n",
    "class EngineRepairerFactory(RobotFactory):\n",
    "    # エンジンの修理を担当するロボットを生成するファクトリークラス\n",
    "    def create_robot(self):\n",
    "        return EngineRepairer()\n",
    "\n",
    "class Robot(ABC):\n",
    "    # ロボットクラス(抽象クラス)\n",
    "    @abstractmethod\n",
    "    def work(self):\n",
    "        pass\n",
    "\n",
    "class ElectronicAssembler(Robot):\n",
    "    # 電子部品を組み立てるロボット(具体的なロボットクラス)\n",
    "    def work(self):\n",
    "        return \"組立て中\"\n",
    "\n",
    "class EngineRepairer(Robot):\n",
    "    # エンジンの修理を担当するロボット(具体的なロボットクラス)\n",
    "    def work(self):\n",
    "        return \"修理中\"\n",
    "```"
   ]
  },
  {
   "cell_type": "markdown",
   "id": "d4d4f9b3",
   "metadata": {},
   "source": [
    "## 実行"
   ]
  },
  {
   "cell_type": "code",
   "execution_count": 1,
   "id": "e7dc3292",
   "metadata": {},
   "outputs": [],
   "source": [
    "from abc import ABC, abstractmethod\n",
    "\n",
    "class RobotFactory(ABC):\n",
    "    @abstractmethod\n",
    "    def create_robot(self):\n",
    "        pass\n",
    "\n",
    "class ElectronicAssemblerFactory(RobotFactory):\n",
    "    def create_robot(self):\n",
    "        return ElectronicAssembler()\n",
    "\n",
    "class EngineRepairerFactory(RobotFactory):\n",
    "    def create_robot(self):\n",
    "        return EngineRepairer()\n",
    "\n",
    "    \n",
    "    \n",
    "class Robot(ABC):\n",
    "    @abstractmethod\n",
    "    def work(self):\n",
    "        pass\n",
    "\n",
    "class ElectronicAssembler(Robot):\n",
    "    def work(self):\n",
    "        return \"組立て中\"\n",
    "\n",
    "class EngineRepairer(Robot):\n",
    "    def work(self):\n",
    "        return \"修理中\""
   ]
  },
  {
   "cell_type": "code",
   "execution_count": 2,
   "id": "799a6b7d",
   "metadata": {},
   "outputs": [
    {
     "name": "stdout",
     "output_type": "stream",
     "text": [
      "<__main__.ElectronicAssemblerFactory object at 0x7f7db43dea30>\n",
      "組立て中\n",
      "修理中\n"
     ]
    }
   ],
   "source": [
    "earobof = ElectronicAssemblerFactory()\n",
    "print(earobof)\n",
    "\n",
    "earobo = ElectronicAssembler()\n",
    "print(earobo.work())\n",
    "\n",
    "errobo = EngineRepairer()\n",
    "print(errobo.work())\n",
    "\n",
    "\n"
   ]
  },
  {
   "cell_type": "code",
   "execution_count": 3,
   "id": "ab6626ab",
   "metadata": {},
   "outputs": [
    {
     "name": "stdout",
     "output_type": "stream",
     "text": [
      "組立て中\n",
      "修理中\n"
     ]
    }
   ],
   "source": [
    "def main():\n",
    "    factories = [ElectronicAssemblerFactory(), EngineRepairerFactory()]\n",
    "\n",
    "    for factory in factories:\n",
    "        robot = factory.create_robot()\n",
    "        print(robot.work())\n",
    "\n",
    "if __name__ == \"__main__\":\n",
    "    main()"
   ]
  },
  {
   "cell_type": "markdown",
   "id": "b52ed494",
   "metadata": {},
   "source": [
    "## ロボットそのものを生成する抽象クラス部分の一時ファイル作成"
   ]
  },
  {
   "cell_type": "code",
   "execution_count": 5,
   "id": "270ef1c3",
   "metadata": {},
   "outputs": [],
   "source": [
    "import os\n",
    "\n",
    "module_code = '''\n",
    "from abc import ABC, abstractmethod\n",
    "\n",
    "class RobotFactory(ABC):\n",
    "    # ロボットを生成するファクトリークラス\n",
    "\n",
    "    @abstractmethod\n",
    "    def create_robot(self):\n",
    "        pass\n",
    "'''\n",
    "\n",
    "with open(\"robotfactory.py\", \"w\") as f:\n",
    "    f.write(module_code)"
   ]
  },
  {
   "cell_type": "markdown",
   "id": "da96c75a",
   "metadata": {},
   "source": [
    "## 何をするロボットかのファクトリークラス"
   ]
  },
  {
   "cell_type": "code",
   "execution_count": 7,
   "id": "ab989444",
   "metadata": {},
   "outputs": [],
   "source": [
    "# 抽象クラスをインポート\n",
    "from robotfactory import RobotFactory\n",
    "\n",
    "class ElectronicAssemblerFactory(RobotFactory):\n",
    "    # 電子部品を組み立てるロボットを生成するファクトリークラス\n",
    "    def create_robot(self):\n",
    "        return ElectronicAssembler()\n",
    "\n",
    "class EngineRepairerFactory(RobotFactory):\n",
    "    # エンジンの修理を担当するロボットを生成するファクトリークラス\n",
    "    def create_robot(self):\n",
    "        return EngineRepairer()"
   ]
  },
  {
   "cell_type": "markdown",
   "id": "4e762ef1",
   "metadata": {},
   "source": [
    "## ロボットがする事を生成する抽象クラス部分の一時ファイル作成"
   ]
  },
  {
   "cell_type": "code",
   "execution_count": 4,
   "id": "4bfa44b6",
   "metadata": {},
   "outputs": [],
   "source": [
    "import os\n",
    "\n",
    "with open(\"robotfactory.py\", \"w\") as f:\n",
    "    f.write(module_code)\n",
    "    \n",
    "module_code = '''\n",
    "from abc import ABC, abstractmethod\n",
    "\n",
    "class Robot(ABC):\n",
    "    # ロボットクラス(抽象クラス)\n",
    "    @abstractmethod\n",
    "    def work(self):\n",
    "        pass\n",
    "'''\n",
    "\n",
    "with open(\"robot.py\", \"w\") as f:\n",
    "    f.write(module_code)"
   ]
  },
  {
   "cell_type": "code",
   "execution_count": null,
   "id": "d12e8522",
   "metadata": {},
   "outputs": [],
   "source": [
    "# 2. 一時ファイル作成用\n",
    "\n",
    "# 3. 一時ファイル(animal.py)の作成\n",
    "# 継承先クラスで抽象クラスをインポートするため\n",
    "module_code = '''\n",
    "from abc import ABC, abstractmethod\n",
    "\n",
    "class Animal(ABC):\n",
    "    @abstractmethod\n",
    "    def cry(self):\n",
    "        pass\n",
    "'''\n",
    "\n",
    "with open(\"animal.py\", \"w\") as f:\n",
    "    f.write(module_code)"
   ]
  }
 ],
 "metadata": {
  "kernelspec": {
   "display_name": "Python 3 (ipykernel)",
   "language": "python",
   "name": "python3"
  },
  "language_info": {
   "codemirror_mode": {
    "name": "ipython",
    "version": 3
   },
   "file_extension": ".py",
   "mimetype": "text/x-python",
   "name": "python",
   "nbconvert_exporter": "python",
   "pygments_lexer": "ipython3",
   "version": "3.9.6"
  }
 },
 "nbformat": 4,
 "nbformat_minor": 5
}
