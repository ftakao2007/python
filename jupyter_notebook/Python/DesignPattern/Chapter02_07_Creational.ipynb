{
 "cells": [
  {
   "cell_type": "markdown",
   "id": "cc16ec0b-552f-4ccb-ac1c-7827f9f5d84e",
   "metadata": {},
   "source": [
    "# Creational\n",
    "\n",
    "* オブジェクトの作成プロセスを扱うGoFデザインパターンのカテゴリ\n",
    "    * インスタンス化プロセスを抽象化\n",
    "    * 与えられたユースケースに対してどのオブジェクトを作成する必要があるかを柔軟に決定できる"
   ]
  },
  {
   "cell_type": "markdown",
   "id": "ad358405",
   "metadata": {},
   "source": [
    "## Factory Method\n",
    "\n",
    "* スーパークラスでオブジェクトを作成するためのインタフェースを提供する\n",
    "* オブジェクトの生成をサブクラスに任せることで、オブジェクト生成の詳細を隠蔽\n",
    "    * サブクラスで作成されるオブジェクトの種類を変更できるようにする"
   ]
  },
  {
   "cell_type": "markdown",
   "id": "998e9c90",
   "metadata": {},
   "source": [
    "``` Python\n",
    "from abc import ABC, abstractmethod\n",
    "\n",
    "class RobotFactory(ABC):\n",
    "    # ロボットを生成するファクトリークラス\n",
    "\n",
    "    @abstractmethod\n",
    "    def create_robot(self):\n",
    "        pass\n",
    "\n",
    "class ElectronicAssemblerFactory(RobotFactory):\n",
    "    # 電子部品を組み立てるロボットを生成するファクトリークラス\n",
    "    def create_robot(self):\n",
    "        return ElectronicAssembler()\n",
    "\n",
    "class EngineRepairerFactory(RobotFactory):\n",
    "    # エンジンの修理を担当するロボットを生成するファクトリークラス\n",
    "    def create_robot(self):\n",
    "        return EngineRepairer()\n",
    "\n",
    "class Robot(ABC):\n",
    "    # ロボットクラス(抽象クラス)\n",
    "    @abstractmethod\n",
    "    def work(self):\n",
    "        pass\n",
    "\n",
    "class ElectronicAssembler(Robot):\n",
    "    # 電子部品を組み立てるロボット(具体的なロボットクラス)\n",
    "    def work(self):\n",
    "        return \"組立て中\"\n",
    "\n",
    "class EngineRepairer(Robot):\n",
    "    # エンジンの修理を担当するロボット(具体的なロボットクラス)\n",
    "    def work(self):\n",
    "        return \"修理中\"\n",
    "```"
   ]
  },
  {
   "cell_type": "markdown",
   "id": "d4d4f9b3",
   "metadata": {},
   "source": [
    "## 実行"
   ]
  },
  {
   "cell_type": "code",
   "execution_count": 1,
   "id": "e7dc3292",
   "metadata": {},
   "outputs": [],
   "source": [
    "from abc import ABC, abstractmethod\n",
    "\n",
    "class RobotFactory(ABC):\n",
    "    @abstractmethod\n",
    "    def create_robot(self):\n",
    "        pass\n",
    "\n",
    "class ElectronicAssemblerFactory(RobotFactory):\n",
    "    def create_robot(self):\n",
    "        return ElectronicAssembler()\n",
    "\n",
    "class EngineRepairerFactory(RobotFactory):\n",
    "    def create_robot(self):\n",
    "        return EngineRepairer()\n",
    "\n",
    "    \n",
    "    \n",
    "class Robot(ABC):\n",
    "    @abstractmethod\n",
    "    def work(self):\n",
    "        pass\n",
    "\n",
    "class ElectronicAssembler(Robot):\n",
    "    def work(self):\n",
    "        return \"組立て中\"\n",
    "\n",
    "class EngineRepairer(Robot):\n",
    "    def work(self):\n",
    "        return \"修理中\""
   ]
  },
  {
   "cell_type": "code",
   "execution_count": 2,
   "id": "799a6b7d",
   "metadata": {},
   "outputs": [
    {
     "name": "stdout",
     "output_type": "stream",
     "text": [
      "<__main__.ElectronicAssemblerFactory object at 0x7f7db43dea30>\n",
      "組立て中\n",
      "修理中\n"
     ]
    }
   ],
   "source": [
    "earobof = ElectronicAssemblerFactory()\n",
    "print(earobof)\n",
    "\n",
    "earobo = ElectronicAssembler()\n",
    "print(earobo.work())\n",
    "\n",
    "errobo = EngineRepairer()\n",
    "print(errobo.work())\n",
    "\n",
    "\n"
   ]
  },
  {
   "cell_type": "code",
   "execution_count": 3,
   "id": "ab6626ab",
   "metadata": {},
   "outputs": [
    {
     "name": "stdout",
     "output_type": "stream",
     "text": [
      "組立て中\n",
      "修理中\n"
     ]
    }
   ],
   "source": [
    "def main():\n",
    "    factories = [ElectronicAssemblerFactory(), EngineRepairerFactory()]\n",
    "\n",
    "    for factory in factories:\n",
    "        robot = factory.create_robot()\n",
    "        print(robot.work())\n",
    "\n",
    "if __name__ == \"__main__\":\n",
    "    main()"
   ]
  },
  {
   "cell_type": "markdown",
   "id": "b52ed494",
   "metadata": {},
   "source": [
    "## ロボットそのものを生成する抽象クラス部分の一時ファイル作成"
   ]
  },
  {
   "cell_type": "code",
   "execution_count": 5,
   "id": "270ef1c3",
   "metadata": {},
   "outputs": [],
   "source": [
    "import os\n",
    "\n",
    "module_code = '''\n",
    "from abc import ABC, abstractmethod\n",
    "\n",
    "class RobotFactory(ABC):\n",
    "    # ロボットを生成するファクトリークラス\n",
    "\n",
    "    @abstractmethod\n",
    "    def create_robot(self):\n",
    "        pass\n",
    "'''\n",
    "\n",
    "with open(\"robotfactory.py\", \"w\") as f:\n",
    "    f.write(module_code)"
   ]
  },
  {
   "cell_type": "markdown",
   "id": "da96c75a",
   "metadata": {},
   "source": [
    "## 何をするロボットかのファクトリークラス"
   ]
  },
  {
   "cell_type": "code",
   "execution_count": 7,
   "id": "ab989444",
   "metadata": {},
   "outputs": [],
   "source": [
    "# 抽象クラスをインポート\n",
    "from robotfactory import RobotFactory\n",
    "\n",
    "class ElectronicAssemblerFactory(RobotFactory):\n",
    "    # 電子部品を組み立てるロボットを生成するファクトリークラス\n",
    "    def create_robot(self):\n",
    "        return ElectronicAssembler()\n",
    "\n",
    "class EngineRepairerFactory(RobotFactory):\n",
    "    # エンジンの修理を担当するロボットを生成するファクトリークラス\n",
    "    def create_robot(self):\n",
    "        return EngineRepairer()"
   ]
  },
  {
   "cell_type": "markdown",
   "id": "4e762ef1",
   "metadata": {},
   "source": [
    "## ロボットがする事を生成する抽象クラス部分の一時ファイル作成"
   ]
  },
  {
   "cell_type": "code",
   "execution_count": 4,
   "id": "4bfa44b6",
   "metadata": {},
   "outputs": [],
   "source": [
    "import os\n",
    "\n",
    "with open(\"robotfactory.py\", \"w\") as f:\n",
    "    f.write(module_code)\n",
    "    \n",
    "module_code = '''\n",
    "from abc import ABC, abstractmethod\n",
    "\n",
    "class Robot(ABC):\n",
    "    # ロボットクラス(抽象クラス)\n",
    "    @abstractmethod\n",
    "    def work(self):\n",
    "        pass\n",
    "'''\n",
    "\n",
    "with open(\"robot.py\", \"w\") as f:\n",
    "    f.write(module_code)"
   ]
  },
  {
   "cell_type": "code",
   "execution_count": null,
   "id": "d12e8522",
   "metadata": {},
   "outputs": [],
   "source": [
    "# 2. 一時ファイル作成用\n",
    "\n",
    "# 3. 一時ファイル(animal.py)の作成\n",
    "# 継承先クラスで抽象クラスをインポートするため\n",
    "module_code = '''\n",
    "from abc import ABC, abstractmethod\n",
    "\n",
    "class Animal(ABC):\n",
    "    @abstractmethod\n",
    "    def cry(self):\n",
    "        pass\n",
    "'''\n",
    "\n",
    "with open(\"animal.py\", \"w\") as f:\n",
    "    f.write(module_code)"
   ]
  },
  {
   "cell_type": "markdown",
   "id": "e0164526-ab2e-4b3a-84fd-eb60822e7a90",
   "metadata": {},
   "source": [
    "## Abstract Factory\n",
    "\n",
    "* [イタリア寿司の例みたい](https://x.com/ftakao2007/status/1917349931205157336)"
   ]
  },
  {
   "cell_type": "code",
   "execution_count": 1,
   "id": "e0b41904-0bb9-43de-bff2-edee87de678d",
   "metadata": {},
   "outputs": [],
   "source": [
    "from abc import ABC, abstractmethod\n",
    "\n",
    "# 抽象クラス CandyFactory\n",
    "class CandyFactory(ABC):\n",
    "    # 抽象メソッド\n",
    "\n",
    "    @abstractmethod\n",
    "    def create_sweet(self):\n",
    "        pass\n",
    "\n",
    "    @abstractmethod\n",
    "    def create_sour(self):\n",
    "        pass\n",
    "\n",
    "# チョコレート工場クラス(抽象クラス CandyFactoryを継承)\n",
    "class ChocolateFactory(CandyFactory):\n",
    "    def create_sweet(self):\n",
    "        return \"甘いチョコレート\"\n",
    "\n",
    "    def create_sour(self):\n",
    "        return \"酸っぱいチョコレート\"\n",
    "\n",
    "# ガム工場クラス(抽象クラス CandyFactoryを継承)\n",
    "class GumFactory(CandyFactory):\n",
    "    def create_sweet(self):\n",
    "        return \"甘いガム\"\n",
    "\n",
    "    def create_sour(self):\n",
    "        return \"酸っぱいガム\"\n",
    "\n",
    "# お菓子を作成する関数\n",
    "def create_candy(factory: CandyFactory):\n",
    "    # 抽象工場インターフェースを利用して、お菓子を作成\n",
    "    sweet_candy = factory.create_sweet() # 甘いお菓子\n",
    "    sour_candy = factory.create_sour() # 酸っぱいお菓子\n",
    "    print(f\"製作: {sweet_candy}, {sour_candy}\")"
   ]
  },
  {
   "cell_type": "code",
   "execution_count": 2,
   "id": "1235bc26-2a14-4e27-a2b4-d6fa07e21edc",
   "metadata": {},
   "outputs": [
    {
     "name": "stdout",
     "output_type": "stream",
     "text": [
      "製作: 甘いチョコレート, 酸っぱいチョコレート\n",
      "製作: 甘いガム, 酸っぱいガム\n"
     ]
    }
   ],
   "source": [
    "# メイン処理\n",
    "def main():\n",
    "    chocolate_factory = ChocolateFactory() # チョコレート工場\n",
    "    gum_factory = GumFactory() # ガム工場\n",
    "\n",
    "    create_candy(chocolate_factory) # チョコレート工場でお菓子を作成\n",
    "    create_candy(gum_factory) # ガム工場でお菓子を作成\n",
    "\n",
    "if __name__ == \"__main__\":\n",
    "    main()"
   ]
  },
  {
   "cell_type": "markdown",
   "id": "f0690d74-cd41-4344-a22d-75b965e07976",
   "metadata": {},
   "source": [
    "## Builder"
   ]
  },
  {
   "cell_type": "code",
   "execution_count": 42,
   "id": "88f2de0c-bfb7-4b67-9c6b-42f4ed5006dc",
   "metadata": {},
   "outputs": [],
   "source": [
    "from abc import ABC, abstractmethod\n",
    "\n",
    "class HouseBuilder(ABC):\n",
    "    # 家を建てるための抽象クラス\n",
    "\n",
    "    @abstractmethod # 抽象メソッド\n",
    "    def build_walls(self):\n",
    "        # 壁を建てる\n",
    "        pass\n",
    "\n",
    "    @abstractmethod # 抽象メソッド\n",
    "    def build_roof(self):\n",
    "        # 屋根を建てる\n",
    "        pass\n",
    "\n",
    "    @abstractmethod # 抽象メソッド\n",
    "    def build_garden(self):\n",
    "        # 庭を作る\n",
    "        pass\n",
    "\n",
    "class BrickHouseBuilder(HouseBuilder):\n",
    "    # レンガの家を建てるための具象クラス\n",
    "\n",
    "    def build_walls(self): \n",
    "        # 壁を建てる\n",
    "        return \"レンガの壁\"\n",
    "\n",
    "    def build_roof(self):\n",
    "        # 屋根を建てる\n",
    "        return \"瓦の屋根\"\n",
    "\n",
    "    def build_garden(self):\n",
    "        # 庭を作る\n",
    "        return \"小さな庭\"\n",
    "\n",
    "class WoodenHouseBuilder(HouseBuilder):\n",
    "    # 木材の家を建てるための具象クラス\n",
    "\n",
    "    def build_walls(self):\n",
    "        # 壁を建てる\n",
    "        return \"木材の壁\"\n",
    "\n",
    "    def build_roof(self):\n",
    "        # 屋根を建てる\n",
    "        return \"木材の屋根\"\n",
    "\n",
    "    def build_garden(self):\n",
    "        # 庭を作る\n",
    "        return \"大きな庭\"\n",
    "\n",
    "class HouseDirector:\n",
    "    # 家を建てるためのディレクター\n",
    "\n",
    "    def __init__(self, builder):\n",
    "        self.builder = builder # ビルダーをセット\n",
    "\n",
    "    def construct_house(self):\n",
    "        house = {}\n",
    "        house[\"walls\"] = self.builder.build_walls() # 壁を建てる\n",
    "        house[\"roof\"] = self.builder.build_roof() # 屋根を建てる\n",
    "        house[\"garden\"] = self.builder.build_garden() # 庭を作る\n",
    "        return house # 家を返す\n",
    "\n",
    "# レンガの家を建てる\n",
    "brick_builder = BrickHouseBuilder() # レンガの家を建てるためのビルダー\n",
    "brick_director = HouseDirector(brick_builder) # レンガの家を建てるためのディレクター\n",
    "brick_house = director.construct_house() # レンガの家を建てる\n",
    "\n",
    "# 木材の家を建てる\n",
    "wooden_builder = WoodenHouseBuilder() # 木材の家を建てるためのビルダー\n",
    "wooden_director = HouseDirector(wooden_builder) # 木材の家を建てるためのディレクター\n",
    "wooden_house = director.construct_house() # 木材の家を建てる"
   ]
  },
  {
   "cell_type": "code",
   "execution_count": 18,
   "id": "639958ba-958c-4625-a0d3-87ddc77c7584",
   "metadata": {},
   "outputs": [
    {
     "name": "stdout",
     "output_type": "stream",
     "text": [
      "['__abstractmethods__', '__class__', '__delattr__', '__dict__', '__dir__', '__doc__', '__eq__', '__format__', '__ge__', '__getattribute__', '__gt__', '__hash__', '__init__', '__init_subclass__', '__le__', '__lt__', '__module__', '__ne__', '__new__', '__reduce__', '__reduce_ex__', '__repr__', '__setattr__', '__sizeof__', '__slots__', '__str__', '__subclasshook__', '__weakref__', '_abc_impl', 'build_garden', 'build_roof', 'build_walls']\n",
      "小さな庭\n",
      "瓦の屋根\n",
      "レンガの壁\n"
     ]
    }
   ],
   "source": [
    "print(dir(brick_builder))\n",
    "\n",
    "print(brick_builder.build_garden())\n",
    "print(brick_builder.build_roof())\n",
    "print(brick_builder.build_walls())"
   ]
  },
  {
   "cell_type": "code",
   "execution_count": 44,
   "id": "1000699a-56be-44bd-8d3c-172d0d626ce4",
   "metadata": {},
   "outputs": [
    {
     "name": "stdout",
     "output_type": "stream",
     "text": [
      "['__class__', '__delattr__', '__dict__', '__dir__', '__doc__', '__eq__', '__format__', '__ge__', '__getattribute__', '__gt__', '__hash__', '__init__', '__init_subclass__', '__le__', '__lt__', '__module__', '__ne__', '__new__', '__reduce__', '__reduce_ex__', '__repr__', '__setattr__', '__sizeof__', '__str__', '__subclasshook__', '__weakref__', 'builder', 'construct_house']\n",
      "{'walls': 'レンガの壁', 'roof': '瓦の屋根', 'garden': '小さな庭'}\n"
     ]
    },
    {
     "data": {
      "text/plain": [
       "'レンガの壁'"
      ]
     },
     "execution_count": 44,
     "metadata": {},
     "output_type": "execute_result"
    }
   ],
   "source": [
    "print(dir(brick_director))\n",
    "\n",
    "print(brick_director.construct_house())\n",
    "brick_director.construct_house()['walls']\n"
   ]
  },
  {
   "cell_type": "code",
   "execution_count": 45,
   "id": "748cb2a7-3f36-4f24-9125-72d9ed9ac78a",
   "metadata": {},
   "outputs": [
    {
     "name": "stdout",
     "output_type": "stream",
     "text": [
      "['__abstractmethods__', '__class__', '__delattr__', '__dict__', '__dir__', '__doc__', '__eq__', '__format__', '__ge__', '__getattribute__', '__gt__', '__hash__', '__init__', '__init_subclass__', '__le__', '__lt__', '__module__', '__ne__', '__new__', '__reduce__', '__reduce_ex__', '__repr__', '__setattr__', '__sizeof__', '__slots__', '__str__', '__subclasshook__', '__weakref__', '_abc_impl', 'build_garden', 'build_roof', 'build_walls']\n"
     ]
    }
   ],
   "source": [
    "print(dir(wooden_builder))\n"
   ]
  },
  {
   "cell_type": "code",
   "execution_count": 47,
   "id": "53372d1f-1ef9-45c6-a1a5-4f3d0d31dd60",
   "metadata": {},
   "outputs": [
    {
     "name": "stdout",
     "output_type": "stream",
     "text": [
      "['__class__', '__delattr__', '__dict__', '__dir__', '__doc__', '__eq__', '__format__', '__ge__', '__getattribute__', '__gt__', '__hash__', '__init__', '__init_subclass__', '__le__', '__lt__', '__module__', '__ne__', '__new__', '__reduce__', '__reduce_ex__', '__repr__', '__setattr__', '__sizeof__', '__str__', '__subclasshook__', '__weakref__', 'builder', 'construct_house']\n",
      "{'walls': '木材の壁', 'roof': '木材の屋根', 'garden': '大きな庭'}\n"
     ]
    },
    {
     "data": {
      "text/plain": [
       "'木材の壁'"
      ]
     },
     "execution_count": 47,
     "metadata": {},
     "output_type": "execute_result"
    }
   ],
   "source": [
    "print(dir(wooden_director))\n",
    "\n",
    "print(wooden_director.construct_house())\n",
    "wooden_director.construct_house()['walls']"
   ]
  },
  {
   "cell_type": "markdown",
   "id": "e3c612ff-beb4-457b-8646-efbd937ab671",
   "metadata": {},
   "source": [
    "## Prototype"
   ]
  },
  {
   "cell_type": "code",
   "execution_count": 76,
   "id": "10dd52ff-c390-4998-a3e8-86c1125d7ba4",
   "metadata": {},
   "outputs": [],
   "source": [
    "import copy\n",
    "\n",
    "class Person:\n",
    "    # 人間のクラス\n",
    "\n",
    "    def __init__(self, name, age, foods):\n",
    "        self.name = name # 名前\n",
    "        self.age = age # 年齢\n",
    "        self.foods = foods # 趣味\n",
    "\n",
    "    def clone(self):\n",
    "        return copy.deepcopy(self) # 自分自身のディープコピーを作成\n",
    "\n",
    "    def add_food(self, food):\n",
    "        self.foods.append(food) # 好物を追加\n",
    "\n",
    "    def __str__(self):\n",
    "        return f\"{self.name}, {self.age}歳, 好物: {', '.join(self.foods)}\"\n",
    "        #return f\"{self.name}, {self.age}歳, 好物: {self.hobbies}\"\n",
    "        "
   ]
  },
  {
   "cell_type": "code",
   "execution_count": 77,
   "id": "667aee13-9ee2-4921-9c55-59b7ac265fb9",
   "metadata": {},
   "outputs": [],
   "source": [
    "person1 = Person(\"Tom\", 18, [\"ワカメのみそ汁\"])"
   ]
  },
  {
   "cell_type": "code",
   "execution_count": 78,
   "id": "80cee78a-bcc6-4be3-920c-05b7145b19c1",
   "metadata": {},
   "outputs": [
    {
     "data": {
      "text/plain": [
       "'Tom, 18歳, 好物: ワカメのみそ汁'"
      ]
     },
     "execution_count": 78,
     "metadata": {},
     "output_type": "execute_result"
    }
   ],
   "source": [
    "person1.__str__()"
   ]
  },
  {
   "cell_type": "code",
   "execution_count": 79,
   "id": "bd79bf47-30d9-46af-90a6-6c656df6f1c8",
   "metadata": {},
   "outputs": [],
   "source": [
    "clone_person1 = person1.clone()"
   ]
  },
  {
   "cell_type": "code",
   "execution_count": 80,
   "id": "919c3881-d9e1-43f5-8a29-248dda9b3718",
   "metadata": {},
   "outputs": [
    {
     "data": {
      "text/plain": [
       "'Tom, 18歳, 好物: ワカメのみそ汁'"
      ]
     },
     "execution_count": 80,
     "metadata": {},
     "output_type": "execute_result"
    }
   ],
   "source": [
    "clone_person1.__str__()"
   ]
  },
  {
   "cell_type": "code",
   "execution_count": 82,
   "id": "a4215201-fb72-41e6-8a66-40dd1d903a9a",
   "metadata": {},
   "outputs": [],
   "source": [
    "clone_person1.add_food(\"たまねぎのみそ汁\")"
   ]
  },
  {
   "cell_type": "code",
   "execution_count": 83,
   "id": "650e6f08-7a36-4403-9c40-8f4e222adfc8",
   "metadata": {},
   "outputs": [
    {
     "name": "stdout",
     "output_type": "stream",
     "text": [
      "Tom, 18歳, 好物: ワカメのみそ汁\n",
      "Tom, 18歳, 好物: ワカメのみそ汁, たまねぎのみそ汁\n"
     ]
    }
   ],
   "source": [
    "print(person1.__str__())\n",
    "print(clone_person1.__str__())"
   ]
  },
  {
   "cell_type": "markdown",
   "id": "0b339b1a-79c7-462b-a913-f952aba6b295",
   "metadata": {},
   "source": [
    "## Singleton"
   ]
  },
  {
   "cell_type": "code",
   "execution_count": 84,
   "id": "efbd4759-c8bc-4d7e-a660-bfbd7a18c0fc",
   "metadata": {},
   "outputs": [
    {
     "name": "stdout",
     "output_type": "stream",
     "text": [
      "最初のアドバイス: 賢明なアドバイス\n",
      "2番目のアドバイス: 新しいアドバイス\n",
      "3番目のアドバイス: 新しいアドバイス\n"
     ]
    }
   ],
   "source": [
    "class WiseMan:\n",
    "    _instance = None\n",
    "\n",
    "    @staticmethod\n",
    "    def get_instance():\n",
    "        # インスタンスが存在しない場合にインスタンスを作成\n",
    "        if WiseMan._instance is None:\n",
    "            WiseMan._instance = WiseMan()\n",
    "        return WiseMan._instance\n",
    "\n",
    "    def __init__(self):\n",
    "        if WiseMan._instance is not None:\n",
    "            raise Exception(\"このクラスはシングルトンです。get_instance()を使用してインスタンスを取得してください。\")\n",
    "        self.advice = \"賢明なアドバイス\"\n",
    "\n",
    "# 賢者インスタンスを作成\n",
    "wise_man1 = WiseMan.get_instance()\n",
    "print(\"最初のアドバイス:\", wise_man1.advice)\n",
    "\n",
    "# アドバイスを変更\n",
    "wise_man1.advice = \"新しいアドバイス\"\n",
    "\n",
    "# 別の場所で賢者インスタンスを取得\n",
    "wise_man2 = WiseMan.get_instance()\n",
    "print(\"2番目のアドバイス:\", wise_man2.advice)\n",
    "\n",
    "# さらに別の場所で賢者インスタンスを取得\n",
    "wise_man3 = WiseMan.get_instance()\n",
    "print(\"3番目のアドバイス:\", wise_man3.advice)"
   ]
  },
  {
   "cell_type": "code",
   "execution_count": 108,
   "id": "77275fc3-f962-4781-9ef2-d5838770439e",
   "metadata": {},
   "outputs": [
    {
     "name": "stdout",
     "output_type": "stream",
     "text": [
      "140611180613344\n",
      "140611180613344\n",
      "140611180613344\n"
     ]
    }
   ],
   "source": [
    "### 全部のインスタンスでidが同じ\n",
    "print(id(wise_man1))\n",
    "print(id(wise_man2))\n",
    "print(id(wise_man3))"
   ]
  },
  {
   "cell_type": "code",
   "execution_count": 93,
   "id": "86027a69-91c4-47b7-a882-2c6799dcf612",
   "metadata": {},
   "outputs": [
    {
     "name": "stdout",
     "output_type": "stream",
     "text": [
      "['__class__', '__delattr__', '__dict__', '__dir__', '__doc__', '__eq__', '__format__', '__ge__', '__getattribute__', '__gt__', '__hash__', '__init__', '__init_subclass__', '__le__', '__lt__', '__module__', '__ne__', '__new__', '__reduce__', '__reduce_ex__', '__repr__', '__setattr__', '__sizeof__', '__str__', '__subclasshook__', '__weakref__', '_instance', 'advice', 'get_instance']\n"
     ]
    }
   ],
   "source": [
    "print(dir(wise_man1))"
   ]
  },
  {
   "cell_type": "code",
   "execution_count": 106,
   "id": "0df69708-4552-4a99-9fd6-37008afe3d51",
   "metadata": {},
   "outputs": [
    {
     "ename": "Exception",
     "evalue": "このクラスはシングルトンです。get_instance()を使用してインスタンスを取得してください。",
     "output_type": "error",
     "traceback": [
      "\u001b[0;31m---------------------------------------------------------------------------\u001b[0m",
      "\u001b[0;31mException\u001b[0m                                 Traceback (most recent call last)",
      "Cell \u001b[0;32mIn[106], line 1\u001b[0m\n\u001b[0;32m----> 1\u001b[0m a \u001b[38;5;241m=\u001b[39m \u001b[43mWiseMan\u001b[49m\u001b[43m(\u001b[49m\u001b[43m)\u001b[49m\n",
      "Cell \u001b[0;32mIn[84], line 13\u001b[0m, in \u001b[0;36mWiseMan.__init__\u001b[0;34m(self)\u001b[0m\n\u001b[1;32m     11\u001b[0m \u001b[38;5;28;01mdef\u001b[39;00m\u001b[38;5;250m \u001b[39m\u001b[38;5;21m__init__\u001b[39m(\u001b[38;5;28mself\u001b[39m):\n\u001b[1;32m     12\u001b[0m     \u001b[38;5;28;01mif\u001b[39;00m WiseMan\u001b[38;5;241m.\u001b[39m_instance \u001b[38;5;129;01mis\u001b[39;00m \u001b[38;5;129;01mnot\u001b[39;00m \u001b[38;5;28;01mNone\u001b[39;00m:\n\u001b[0;32m---> 13\u001b[0m         \u001b[38;5;28;01mraise\u001b[39;00m \u001b[38;5;167;01mException\u001b[39;00m(\u001b[38;5;124m\"\u001b[39m\u001b[38;5;124mこのクラスはシングルトンです。get_instance()を使用してインスタンスを取得してください。\u001b[39m\u001b[38;5;124m\"\u001b[39m)\n\u001b[1;32m     14\u001b[0m     \u001b[38;5;28mself\u001b[39m\u001b[38;5;241m.\u001b[39madvice \u001b[38;5;241m=\u001b[39m \u001b[38;5;124m\"\u001b[39m\u001b[38;5;124m賢明なアドバイス\u001b[39m\u001b[38;5;124m\"\u001b[39m\n",
      "\u001b[0;31mException\u001b[0m: このクラスはシングルトンです。get_instance()を使用してインスタンスを取得してください。"
     ]
    }
   ],
   "source": [
    "a = WiseMan()"
   ]
  }
 ],
 "metadata": {
  "kernelspec": {
   "display_name": "Python 3 (ipykernel)",
   "language": "python",
   "name": "python3"
  },
  "language_info": {
   "codemirror_mode": {
    "name": "ipython",
    "version": 3
   },
   "file_extension": ".py",
   "mimetype": "text/x-python",
   "name": "python",
   "nbconvert_exporter": "python",
   "pygments_lexer": "ipython3",
   "version": "3.9.6"
  }
 },
 "nbformat": 4,
 "nbformat_minor": 5
}
