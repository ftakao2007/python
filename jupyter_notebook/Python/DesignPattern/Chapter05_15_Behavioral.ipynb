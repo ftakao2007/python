{
 "cells": [
  {
   "cell_type": "markdown",
   "id": "4a2638bf-9618-4304-a10b-86c0a61a4e16",
   "metadata": {},
   "source": [
    "# Behavioral\n",
    "\n",
    "* [Behavioral](https://zenn.dev/mossan_hoshi/books/84487f17784b44/viewer/part2_behavioral)\n",
    "* 振る舞い\n",
    "    * オブジェクト間の相互作用を管理\n",
    "    * 複雑なシステムの簡素化、メモリ使用の最適化、オブジェクトへのアクセス制御など"
   ]
  },
  {
   "cell_type": "markdown",
   "id": "537a3ecd-f1d3-4b28-b1e0-61bfbda71403",
   "metadata": {},
   "source": [
    "## Adapter"
   ]
  },
  {
   "cell_type": "code",
   "execution_count": 1,
   "id": "a7de0b5c-b9af-4719-98f7-cf6ec4a12118",
   "metadata": {},
   "outputs": [
    {
     "name": "stdout",
     "output_type": "stream",
     "text": [
      "ガオーン\n",
      "キーキー\n"
     ]
    }
   ],
   "source": [
    "class Lion:\n",
    "    def roar(self):\n",
    "        return \"ガオーン\"\n",
    "\n",
    "class Monkey:\n",
    "    def scream(self):\n",
    "        return \"キーキー\"\n",
    "\n",
    "class AnimalAdapter:\n",
    "    # アダプターの役割を果たすクラス\n",
    "\n",
    "    def __init__(self, animal):\n",
    "        self.animal = animal # 動物のインスタンスを受け取る\n",
    "\n",
    "    def make_sound(self):\n",
    "        # 鳴き声を上げるメソッド(動物の種類ごとに処理を切り替え)\n",
    "        if isinstance(self.animal, Lion):\n",
    "            return self.animal.roar()\n",
    "        elif isinstance(self.animal, Monkey):\n",
    "            return self.animal.scream()\n",
    "\n",
    "def communicate(animal_adapter):\n",
    "    print(animal_adapter.make_sound())\n",
    "\n",
    "# 動物たちのインスタンスを作成\n",
    "lion = Lion()\n",
    "monkey = Monkey()\n",
    "\n",
    "# アダプターのインスタンスを作成\n",
    "lion_adapter = AnimalAdapter(lion)\n",
    "monkey_adapter = AnimalAdapter(monkey)\n",
    "\n",
    "# 鳴き声を出力(アダプターを介しているため、動物の種類に関係なく同じメソッドを呼び出している)\n",
    "communicate(lion_adapter)\n",
    "communicate(monkey_adapter)"
   ]
  },
  {
   "cell_type": "code",
   "execution_count": 3,
   "id": "dc76a4aa-d2be-48b4-9cd2-aa2b4509fef6",
   "metadata": {},
   "outputs": [
    {
     "name": "stdout",
     "output_type": "stream",
     "text": [
      "ガオーン\n",
      "キーキー\n",
      "ワンワン\n"
     ]
    }
   ],
   "source": [
    "class Lion:\n",
    "    def roar(self):\n",
    "        return \"ガオーン\"\n",
    "\n",
    "class Monkey:\n",
    "    def scream(self):\n",
    "        return \"キーキー\"\n",
    "\n",
    "class Dog:\n",
    "    def bowwow(self):\n",
    "        return \"ワンワン\"\n",
    "\n",
    "class AnimalAdapter:\n",
    "    # アダプターの役割を果たすクラス\n",
    "\n",
    "    def __init__(self, animal):\n",
    "        self.animal = animal # 動物のインスタンスを受け取る\n",
    "\n",
    "    def make_sound(self):\n",
    "        # 鳴き声を上げるメソッド(動物の種類ごとに処理を切り替え)\n",
    "        if isinstance(self.animal, Lion):\n",
    "            return self.animal.roar()\n",
    "        elif isinstance(self.animal, Monkey):\n",
    "            return self.animal.scream()\n",
    "        elif isinstance(self.animal, Dog):\n",
    "            return self.animal.bowwow()\n",
    "\n",
    "def communicate(animal_adapter):\n",
    "    print(animal_adapter.make_sound())\n",
    "\n",
    "# 動物たちのインスタンスを作成\n",
    "lion = Lion()\n",
    "monkey = Monkey()\n",
    "dog = Dog()\n",
    "\n",
    "# アダプターのインスタンスを作成\n",
    "lion_adapter = AnimalAdapter(lion)\n",
    "monkey_adapter = AnimalAdapter(monkey)\n",
    "dog_adapter = AnimalAdapter(dog)\n",
    "\n",
    "# 鳴き声を出力(アダプターを介しているため、動物の種類に関係なく同じメソッドを呼び出している)\n",
    "communicate(lion_adapter)\n",
    "communicate(monkey_adapter)\n",
    "communicate(dog_adapter)"
   ]
  },
  {
   "cell_type": "markdown",
   "id": "5334963d-6628-42ee-b8eb-f01a655a287a",
   "metadata": {},
   "source": [
    "## Bridge"
   ]
  },
  {
   "cell_type": "code",
   "execution_count": 4,
   "id": "4ec54ee3-b230-406b-9e46-29ce218fe44a",
   "metadata": {},
   "outputs": [
    {
     "name": "stdout",
     "output_type": "stream",
     "text": [
      "つり橋: 木材\n",
      "アーチ橋: 鋼材\n"
     ]
    }
   ],
   "source": [
    "from abc import ABC, abstractmethod\n",
    "\n",
    "class Material(ABC):\n",
    "    # 材料（実装）を表す抽象クラス\n",
    "    @abstractmethod # 抽象メソッド\n",
    "    def use_material(self):\n",
    "        # 材料を使用する\n",
    "        pass\n",
    "\n",
    "class Wood(Material):\n",
    "    # 木材(実装)を使用する\n",
    "    def use_material(self):\n",
    "        return \"木材\"\n",
    "\n",
    "class Steel(Material):\n",
    "    # 鋼材(実装)を使用する\n",
    "    def use_material(self):\n",
    "        return \"鋼材\"\n",
    "\n",
    "class Bridge(ABC):\n",
    "    # 橋を建設する(機能)\n",
    "    def __init__(self, material):\n",
    "        self.material = material # 材料\n",
    "\n",
    "    @abstractmethod\n",
    "    def build_bridge(self):\n",
    "        # 橋を建設する(機能)\n",
    "        pass\n",
    "\n",
    "class SuspensionBridge(Bridge):\n",
    "    # つり橋を建設する(機能)\n",
    "    def build_bridge(self):\n",
    "        return f\"つり橋: {self.material.use_material()}\"\n",
    "\n",
    "class ArchBridge(Bridge):\n",
    "    # アーチ橋(機能)\n",
    "    def build_bridge(self):\n",
    "        return f\"アーチ橋: {self.material.use_material()}\"\n",
    "\n",
    "wood = Wood() # 木材\n",
    "steel = Steel() # 鋼材\n",
    "\n",
    "suspension_wood_bridge = SuspensionBridge(wood) # つり橋: 木材\n",
    "arch_steel_bridge = ArchBridge(steel) # アーチ橋: 鋼材\n",
    "\n",
    "print(suspension_wood_bridge.build_bridge())  # つり橋: 木材\n",
    "print(arch_steel_bridge.build_bridge())  # アーチ橋: 鋼材"
   ]
  },
  {
   "cell_type": "code",
   "execution_count": 8,
   "id": "7379dbd9-9a9a-4c8f-8c5d-7f96c02188ad",
   "metadata": {},
   "outputs": [
    {
     "name": "stdout",
     "output_type": "stream",
     "text": [
      "つり橋: 木材\n",
      "アーチ橋: 鋼材\n",
      "アーチ橋: レンガ\n"
     ]
    }
   ],
   "source": [
    "from abc import ABC, abstractmethod\n",
    "\n",
    "### 材料を選ぶ\n",
    "class Material(ABC):\n",
    "    # 材料（実装）を表す抽象クラス\n",
    "    @abstractmethod # 抽象メソッド\n",
    "    def use_material(self):\n",
    "        # 材料を使用する\n",
    "        pass\n",
    "\n",
    "class Wood(Material):\n",
    "    # 木材(実装)を使用する\n",
    "    def use_material(self):\n",
    "        return \"木材\"\n",
    "\n",
    "class Steel(Material):\n",
    "    # 鋼材(実装)を使用する\n",
    "    def use_material(self):\n",
    "        return \"鋼材\"\n",
    "\n",
    "class Brick(Material):\n",
    "    # レンガ(実装)を使用する\n",
    "    def use_material(self):\n",
    "        return \"レンガ\"\n",
    "\n",
    "wood = Wood() # 木材\n",
    "steel = Steel() # 鋼材\n",
    "brick = Brick() # レンガ\n",
    "\n",
    "\n",
    "### 橋の種類を選ぶ\n",
    "class Bridge(ABC):\n",
    "    # 橋を建設する(機能)\n",
    "    def __init__(self, material):\n",
    "        self.material = material # 材料\n",
    "\n",
    "    @abstractmethod\n",
    "    def build_bridge(self):\n",
    "        # 橋を建設する(機能)\n",
    "        pass\n",
    "\n",
    "class SuspensionBridge(Bridge):\n",
    "    # つり橋を建設する(機能)\n",
    "    def build_bridge(self):\n",
    "        return f\"つり橋: {self.material.use_material()}\"\n",
    "\n",
    "class ArchBridge(Bridge):\n",
    "    # アーチ橋(機能)\n",
    "    def build_bridge(self):\n",
    "        return f\"アーチ橋: {self.material.use_material()}\"\n",
    "\n",
    "suspension_wood_bridge = SuspensionBridge(wood) # つり橋: 木材\n",
    "arch_steel_bridge = ArchBridge(steel) # アーチ橋: 鋼材\n",
    "arch_brick_bridge = ArchBridge(brick) # アーチ橋: レンガ\n",
    "\n",
    "### 建設する\n",
    "print(suspension_wood_bridge.build_bridge())  # つり橋: 木材\n",
    "print(arch_steel_bridge.build_bridge())  # アーチ橋: 鋼材\n",
    "print(arch_brick_bridge.build_bridge()) # アーチ橋: レンガ"
   ]
  }
 ],
 "metadata": {
  "kernelspec": {
   "display_name": "Python 3 (ipykernel)",
   "language": "python",
   "name": "python3"
  },
  "language_info": {
   "codemirror_mode": {
    "name": "ipython",
    "version": 3
   },
   "file_extension": ".py",
   "mimetype": "text/x-python",
   "name": "python",
   "nbconvert_exporter": "python",
   "pygments_lexer": "ipython3",
   "version": "3.9.6"
  }
 },
 "nbformat": 4,
 "nbformat_minor": 5
}
