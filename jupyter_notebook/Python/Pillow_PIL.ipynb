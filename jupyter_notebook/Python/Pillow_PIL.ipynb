{
 "cells": [
  {
   "cell_type": "markdown",
   "metadata": {},
   "source": [
    "# Pillow\n",
    "\n",
    "* Python の画像処理ライブラリ\n",
    "* PIL(Python Imaging Library : Python2.7まで)のforkプロジェクト\n",
    "    * 3系対応\n",
    "* 参考\n",
    "    * [Python 3.5 対応画像処理ライブラリ Pillow (PIL) の使い方](https://librabuch.jp/blog/2013/05/python_pillow_pil/)"
   ]
  },
  {
   "cell_type": "markdown",
   "metadata": {},
   "source": [
    "## 画像を新規で作成する\n",
    "\n",
    "* テキストを画像に出力する\n",
    "    * 新規の画像は `Image.new` でcanvasを作成する\n",
    "    * canvas\n",
    "        * 画像を貼り付ける部分\n",
    "    * `ImageDraw` で画像オブジェクトを処理する\n",
    "    * `Image.save` で保存する\n",
    "    * `draw.text((10, 10), 'hogehoge', font=font, fill='#000')`\n",
    "        * fill : 16進数でカラーコードを指定\n",
    "            * `#000` は黒\n",
    "        * font : フォントの種類とサイズを指定\n",
    "        * `(10,10)` : 画像の座標の始点"
   ]
  },
  {
   "cell_type": "code",
   "execution_count": 1,
   "metadata": {},
   "outputs": [],
   "source": [
    "### テスト(テキストを画像で出力)\n",
    "from PIL import Image, ImageDraw, ImageFont\n",
    "\n",
    "# 画像オブジェクトを作成。サイズと背景色を指定する。背景色はRBGの各々をtupleにして与える。\n",
    "text_canvas = Image.new('RGB', (80, 40), (255, 255, 255))\n",
    "draw = ImageDraw.Draw(text_canvas)\n",
    "\n",
    "# フォントの種類とサイズを指定\n",
    "#font = ImageFont.truetype('/Library/Fonts/ipag.ttf', 15)\n",
    "font = ImageFont.truetype('/root/.fonts/ipag.ttf', 15)\n",
    "\n",
    "# テキストを書き込み。引数は順に、書き込み座標（tuple）、テキスト、テキストのフォント、テキストのカラー\n",
    "draw.text((10, 10), 'hogehoge', font=font, fill='#000')\n",
    "\n",
    "# 保存\n",
    "text_canvas.save('img/text_img.jpg', 'JPEG', quality=100, optimize=True)"
   ]
  },
  {
   "cell_type": "markdown",
   "metadata": {},
   "source": [
    "テスト画像の表示\n",
    "\n",
    "既存\n",
    "\n",
    "<img src=\"img/text_img.jpg\" alt=\"テスト画像の表示\" title=\"テスト画像の表示\" align=\"left\" />  \n",
    "\n",
    "<br clear=\"left\">"
   ]
  },
  {
   "cell_type": "markdown",
   "metadata": {},
   "source": [
    "## 既存の画像を開く\n",
    "\n",
    "* 既存の画像を開いてリサイズして別名のファイルに保存\n",
    "    * 既存の画像は `Image.open` で開く"
   ]
  },
  {
   "cell_type": "code",
   "execution_count": 2,
   "metadata": {},
   "outputs": [],
   "source": [
    "from PIL import Image\n",
    "\n",
    "# 既存ファイルを readモードで読み込み\n",
    "img = Image.open('img/text_img.jpg', 'r')\n",
    "\n",
    "# リサイズ。サイズは幅と高さをtupleで指定\n",
    "resize_img = img.resize((160, 80))\n",
    "\n",
    "# リサイズ後の画像を保存\n",
    "resize_img.save('img/text_img_resize.jpg', 'JPEG', quality=100, optimize=True)"
   ]
  },
  {
   "cell_type": "markdown",
   "metadata": {},
   "source": [
    "リサイズ後\n",
    "\n",
    "<img src=\"img/text_img_resize.jpg\" alt=\"テスト画像の表示_resize\" title=\"テスト画像の表示_resize\" align=\"left\" />  \n",
    "\n",
    "<br clear=\"left\">\n"
   ]
  },
  {
   "cell_type": "markdown",
   "metadata": {},
   "source": [
    "## ロボ団の単語帳作成\n",
    "\n",
    "* [ChatGPT](https://chatgpt.com/c/682421eb-d5ec-800b-8843-0a6e60f5816e)\n",
    "\n",
    "以下の画像を点線で切り取って単語帳にする\n",
    "\n",
    "<img src=\"img/robodan01_parts_omote.jpg\" alt=\"ロボ団表\" title=\"ロボ団表\" width=\"50%\" align=\"left\" />  \n",
    "\n",
    "<br clear=\"left\">"
   ]
  },
  {
   "cell_type": "code",
   "execution_count": 16,
   "metadata": {},
   "outputs": [
    {
     "name": "stdout",
     "output_type": "stream",
     "text": [
      "20 枚のカードを 'img/robodan/output_cards' に保存しました。\n"
     ]
    }
   ],
   "source": [
    "## 単語帳作成\n",
    "from PIL import Image\n",
    "import os\n",
    "\n",
    "# 入力ファイル名（画像と同じフォルダに置いてください）\n",
    "#card_name = \"robodan03_parts_omote\"\n",
    "#card_name = \"robodan03_parts_ura\"\n",
    "#card_name = \"robodan04_hole_omote\"\n",
    "card_name = \"robodan04_hole_ura\"\n",
    "input_path = f\"img/robodan/{card_name}.jpg\"\n",
    "\n",
    "# 出力フォルダ名\n",
    "output_folder = \"img/robodan/output_cards\"\n",
    "os.makedirs(output_folder, exist_ok=True)\n",
    "\n",
    "# 行数と列数（5行×4列）\n",
    "rows = 5\n",
    "cols = 4\n",
    "\n",
    "# 画像を開く\n",
    "image = Image.open(input_path)\n",
    "img_width, img_height = image.size\n",
    "\n",
    "# カード1枚のサイズを計算\n",
    "card_width = img_width // cols\n",
    "card_height = img_height // rows\n",
    "\n",
    "# 分割して保存\n",
    "for row in range(rows):\n",
    "    for col in range(cols):\n",
    "        left = col * card_width\n",
    "        upper = row * card_height\n",
    "        right = left + card_width\n",
    "        lower = upper + card_height\n",
    "        card = image.crop((left, upper, right, lower))\n",
    "        card.save(f\"{output_folder}/{card_name}_card_{row+1}_{col+1}.jpg\")\n",
    "\n",
    "print(f\"{rows * cols} 枚のカードを '{output_folder}' に保存しました。\")"
   ]
  },
  {
   "cell_type": "markdown",
   "metadata": {},
   "source": [
    "## 単語帳アプリの作成"
   ]
  },
  {
   "cell_type": "code",
   "execution_count": 1,
   "metadata": {},
   "outputs": [],
   "source": [
    "# Tkinterテスト\n",
    "import tkinter as tk"
   ]
  },
  {
   "cell_type": "code",
   "execution_count": 2,
   "metadata": {},
   "outputs": [],
   "source": [
    "root = tk.Tk()\n",
    "root.mainloop()"
   ]
  },
  {
   "cell_type": "code",
   "execution_count": 6,
   "metadata": {},
   "outputs": [
    {
     "name": "stdout",
     "output_type": "stream",
     "text": [
      "card_01_back.jpg\n",
      "card_01_front.jpg\n",
      "card_02_back.jpg\n",
      "card_02_front.jpg\n",
      "card_03_back.jpg\n",
      "card_03_front.jpg\n",
      "card_04_back.jpg\n",
      "card_04_front.jpg\n",
      "card_05_back.jpg\n",
      "card_05_front.jpg\n",
      "card_06_back.jpg\n",
      "card_06_front.jpg\n",
      "card_07_back.jpg\n",
      "card_07_front.jpg\n",
      "card_08_back.jpg\n",
      "card_08_front.jpg\n",
      "card_09_back.jpg\n",
      "card_09_front.jpg\n",
      "card_10_back.jpg\n",
      "card_10_front.jpg\n",
      "card_11_back.jpg\n",
      "card_11_front.jpg\n",
      "card_12_back.jpg\n",
      "card_12_front.jpg\n",
      "card_13_back.jpg\n",
      "card_13_front.jpg\n",
      "card_14_back.jpg\n",
      "card_14_front.jpg\n",
      "card_15_back.jpg\n",
      "card_15_front.jpg\n",
      "card_16_back.jpg\n",
      "card_16_front.jpg\n",
      "card_17_back.jpg\n",
      "card_17_front.jpg\n",
      "card_18_back.jpg\n",
      "card_18_front.jpg\n",
      "card_19_back.jpg\n",
      "card_19_front.jpg\n",
      "card_20_back.jpg\n",
      "card_20_front.jpg\n",
      "rename_omote.lst\n",
      "rename_omote.sh\n",
      "rename_ura.lst\n",
      "rename_ura.sh\n"
     ]
    }
   ],
   "source": [
    "%%bash\n",
    "ls /home/ftakao2007/finance/repositories/python/jupyter_notebook/Python/img/robodan/output_cards/work/okset01"
   ]
  },
  {
   "cell_type": "code",
   "execution_count": 15,
   "metadata": {},
   "outputs": [],
   "source": [
    "import os\n",
    "import tkinter as tk\n",
    "from PIL import Image, ImageTk\n",
    "\n",
    "# フォルダパス（画像が入っている）\n",
    "image_folder = \"img/robodan/output_cards/work/okset01\"\n",
    "\n",
    "# 画像ファイル一覧を取得（jpg限定、ソートしておく）\n",
    "image_files = sorted([f for f in os.listdir(image_folder) if f.endswith(\".jpg\")])\n",
    "\n",
    "# カードインデックス\n",
    "index = 0\n",
    "\n",
    "# ウィンドウ作成\n",
    "root = tk.Tk()\n",
    "root.title(\"単語カードビューア\")\n",
    "\n",
    "# キャンバスと画像表示\n",
    "canvas = tk.Label(root)\n",
    "canvas.pack()\n",
    "\n",
    "def show_image():\n",
    "    global index\n",
    "    path = os.path.join(image_folder, image_files[index])\n",
    "    img = Image.open(path)\n",
    "    img = img.resize((400, 300), Image.Resampling.LANCZOS)  # 修正済み\n",
    "    img_tk = ImageTk.PhotoImage(img)\n",
    "    canvas.image = img_tk  # ← ここが重要！canvasに属性として保持\n",
    "    canvas.config(image=img_tk)\n",
    "    root.title(f\"{image_files[index]} ({index+1}/{len(image_files)})\")\n",
    "\n",
    "def next_card():\n",
    "    global index\n",
    "    if index < len(image_files) - 1:\n",
    "        index += 1\n",
    "        show_image()\n",
    "\n",
    "def prev_card():\n",
    "    global index\n",
    "    if index > 0:\n",
    "        index -= 1\n",
    "        show_image()\n",
    "\n",
    "# ナビゲーションボタン\n",
    "btn_prev = tk.Button(root, text=\"← 前へ\", command=prev_card)\n",
    "btn_prev.pack(side=\"left\", padx=10, pady=10)\n",
    "\n",
    "btn_next = tk.Button(root, text=\"次へ →\", command=next_card)\n",
    "btn_next.pack(side=\"right\", padx=10, pady=10)\n",
    "\n",
    "# 最初の画像は mainloop 後に表示させる\n",
    "#show_image()\n",
    "root.after(100, show_image)\n",
    "\n",
    "# アプリ起動\n",
    "root.mainloop()"
   ]
  },
  {
   "cell_type": "markdown",
   "metadata": {},
   "source": [
    "## NumPyとPILの変換\n",
    "\n",
    "* Python Imaging LibraryのImageクラスのデータをNumPyのarrayとして扱う\n",
    "    * Numpyの関数を使って直接pixel値を書き換える\n",
    "* 参考\n",
    "    * [NumPyのarrayとPILの変換](http://d.hatena.ne.jp/white_wheels/20100322/p1)"
   ]
  },
  {
   "cell_type": "markdown",
   "metadata": {},
   "source": [
    "### PILのImageオブジェクトを配列に変換\n",
    "\n",
    "* asarray関数\n",
    "    * NumPyの関数\n",
    "    * PILのImageオブジェクトを配列に変換する"
   ]
  },
  {
   "cell_type": "code",
   "execution_count": 4,
   "metadata": {},
   "outputs": [
    {
     "name": "stdout",
     "output_type": "stream",
     "text": [
      "(40, 80, 3)\n",
      "-----------------------\n",
      "[[[255 255 255]\n",
      "  [255 255 255]\n",
      "  [255 255 255]\n",
      "  ...\n",
      "  [255 255 255]\n",
      "  [255 255 255]\n",
      "  [255 255 255]]\n",
      "\n",
      " [[255 255 255]\n",
      "  [255 255 255]\n",
      "  [255 255 255]\n",
      "  ...\n",
      "  [255 255 255]\n",
      "  [255 255 255]\n",
      "  [255 255 255]]\n",
      "\n",
      " [[255 255 255]\n",
      "  [255 255 255]\n",
      "  [255 255 255]\n",
      "  ...\n",
      "  [255 255 255]\n",
      "  [255 255 255]\n",
      "  [255 255 255]]\n",
      "\n",
      " ...\n",
      "\n",
      " [[255 255 255]\n",
      "  [255 255 255]\n",
      "  [255 255 255]\n",
      "  ...\n",
      "  [255 255 255]\n",
      "  [255 255 255]\n",
      "  [255 255 255]]\n",
      "\n",
      " [[255 255 255]\n",
      "  [255 255 255]\n",
      "  [255 255 255]\n",
      "  ...\n",
      "  [255 255 255]\n",
      "  [255 255 255]\n",
      "  [255 255 255]]\n",
      "\n",
      " [[255 255 255]\n",
      "  [255 255 255]\n",
      "  [255 255 255]\n",
      "  ...\n",
      "  [255 255 255]\n",
      "  [255 255 255]\n",
      "  [255 255 255]]]\n",
      "-----------------------\n",
      "[255 255 255]\n",
      "配列の要素を変更するにはwriteableフラグをTrueにする必要があります。\n"
     ]
    },
    {
     "ename": "ValueError",
     "evalue": "cannot set WRITEABLE flag to True of this array",
     "output_type": "error",
     "traceback": [
      "\u001b[0;31m---------------------------------------------------------------------------\u001b[0m",
      "\u001b[0;31mValueError\u001b[0m                                Traceback (most recent call last)",
      "\u001b[0;32m/tmp/ipykernel_10673/3524857063.py\u001b[0m in \u001b[0;36m<module>\u001b[0;34m\u001b[0m\n\u001b[1;32m     15\u001b[0m     \u001b[0mprint\u001b[0m\u001b[0;34m(\u001b[0m\u001b[0;34m'配列の要素を変更するにはwriteableフラグをTrueにする必要があります。'\u001b[0m\u001b[0;34m)\u001b[0m\u001b[0;34m\u001b[0m\u001b[0;34m\u001b[0m\u001b[0m\n\u001b[1;32m     16\u001b[0m \u001b[0;34m\u001b[0m\u001b[0m\n\u001b[0;32m---> 17\u001b[0;31m \u001b[0mimgArray\u001b[0m\u001b[0;34m.\u001b[0m\u001b[0mflags\u001b[0m\u001b[0;34m.\u001b[0m\u001b[0mwriteable\u001b[0m \u001b[0;34m=\u001b[0m \u001b[0;32mTrue\u001b[0m\u001b[0;34m\u001b[0m\u001b[0;34m\u001b[0m\u001b[0m\n\u001b[0m\u001b[1;32m     18\u001b[0m \u001b[0mimgArray\u001b[0m\u001b[0;34m[\u001b[0m\u001b[0;36m0\u001b[0m\u001b[0;34m]\u001b[0m\u001b[0;34m[\u001b[0m\u001b[0;36m1\u001b[0m\u001b[0;34m]\u001b[0m \u001b[0;34m=\u001b[0m \u001b[0;36m100\u001b[0m\u001b[0;34m\u001b[0m\u001b[0;34m\u001b[0m\u001b[0m\n\u001b[1;32m     19\u001b[0m \u001b[0mprint\u001b[0m\u001b[0;34m(\u001b[0m\u001b[0mimgArray\u001b[0m\u001b[0;34m[\u001b[0m\u001b[0;36m0\u001b[0m\u001b[0;34m]\u001b[0m\u001b[0;34m[\u001b[0m\u001b[0;36m1\u001b[0m\u001b[0;34m]\u001b[0m\u001b[0;34m)\u001b[0m\u001b[0;34m\u001b[0m\u001b[0;34m\u001b[0m\u001b[0m\n",
      "\u001b[0;31mValueError\u001b[0m: cannot set WRITEABLE flag to True of this array"
     ]
    }
   ],
   "source": [
    "import numpy as np\n",
    "from PIL import Image\n",
    "\n",
    "img = Image.open('img/text_img.jpg', 'r')\n",
    "imgArray = np.asarray(img)\n",
    "print(imgArray.shape)\n",
    "print('-----------------------')\n",
    "print(imgArray)\n",
    "print('-----------------------')\n",
    "print(imgArray[0][1])\n",
    "\n",
    "try:\n",
    "    imgArray[0][1][0] = 100\n",
    "except ValueError:\n",
    "    print('配列の要素を変更するにはwriteableフラグをTrueにする必要があります。')\n",
    "\n",
    "imgArray.flags.writeable = True\n",
    "imgArray[0][1] = 100\n",
    "print(imgArray[0][1])"
   ]
  },
  {
   "cell_type": "markdown",
   "metadata": {},
   "source": [
    "### NumPyのarrayからPILへの変換\n",
    "\n",
    "* fromarrayメソッド\n",
    "    * PILのメソッド\n",
    "    * 配列の各値を1byte整数型(0～255)として画像のpixel値に変換する"
   ]
  },
  {
   "cell_type": "code",
   "execution_count": 5,
   "metadata": {},
   "outputs": [
    {
     "name": "stdout",
     "output_type": "stream",
     "text": [
      "<PIL.Image.Image image mode=RGB size=80x40 at 0x7F83C36BCB50>\n"
     ]
    }
   ],
   "source": [
    "pilImg = Image.fromarray(np.uint8(imgArray))\n",
    "print(pilImg)\n",
    "\n",
    "# 画像を保存\n",
    "pilImg.save('img/text_img_numpy.jpg', 'JPEG', quality=100, optimize=True)\n",
    "\n",
    "# ローカルで実行している場合はshowコマンドで画像ファイルを作成せずに表示できる\n",
    "#pilImg.show()"
   ]
  },
  {
   "cell_type": "markdown",
   "metadata": {},
   "source": [
    "リサイズ後\n",
    "\n",
    "<img src=\"img/text_img_numpy.jpg\" alt=\"numpy画像の保存\" title=\"numpy画像の保存\" align=\"left\" />  \n",
    "\n",
    "<br clear=\"left\">\n",
    "\n",
    "※ 画像の左上についてるゴマみたいな点が配列の値を直接書き換えることによってできた"
   ]
  }
 ],
 "metadata": {
  "kernelspec": {
   "display_name": "Python 3 (ipykernel)",
   "language": "python",
   "name": "python3"
  },
  "language_info": {
   "codemirror_mode": {
    "name": "ipython",
    "version": 3
   },
   "file_extension": ".py",
   "mimetype": "text/x-python",
   "name": "python",
   "nbconvert_exporter": "python",
   "pygments_lexer": "ipython3",
   "version": "3.9.6"
  }
 },
 "nbformat": 4,
 "nbformat_minor": 4
}
