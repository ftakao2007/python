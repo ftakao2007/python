{
 "cells": [
  {
   "cell_type": "markdown",
   "metadata": {},
   "source": [
    "# 初期設定"
   ]
  },
  {
   "cell_type": "markdown",
   "metadata": {},
   "source": [
    "## ライブラリ\n",
    "\n",
    "* openpyxl\n",
    "    * エクセルの読み書きができる\n",
    "    * 既存のExcelファイルの書式を保ったまま編集・追記したい場合に便利\n",
    "* pandas.read_excel()\n",
    "    * pandasでエクセルをpandas.DataFrameとして読み込む\n",
    "* xlrd/xlwt\n",
    "    * エクセルの読み/書きができる\n",
    "    * xlrdはpandas.read_excel()の内部で使われている"
   ]
  },
  {
   "cell_type": "markdown",
   "metadata": {},
   "source": [
    "## インストール\n",
    "\n",
    "pandas.read_excel()はpandasがインストールされていれば使えるので略\n",
    "\n",
    "```\n",
    "pip install openpyxl xlrd xlwt\n",
    "```"
   ]
  },
  {
   "cell_type": "markdown",
   "metadata": {},
   "source": [
    "# openpyxl"
   ]
  },
  {
   "cell_type": "markdown",
   "metadata": {},
   "source": [
    "### 基本"
   ]
  },
  {
   "cell_type": "code",
   "execution_count": 13,
   "metadata": {},
   "outputs": [],
   "source": [
    "import openpyxl as excel\n",
    "\n",
    "# 新規のワークブック作成\n",
    "wb = excel.Workbook()\n",
    "\n",
    "# アクティブなワークシートを得る\n",
    "ws = wb.active\n",
    "\n",
    "# A1セルに値を代入\n",
    "ws[\"A1\"] = \"こんにちは\"\n",
    "\n",
    "# 2行2列目に値を代入\n",
    "ws.cell(column=2, row=2, value=\"さようなら\")\n",
    "\n",
    "# ファイルを保存\n",
    "wb.save(\"excel/hello.xlsx\")"
   ]
  },
  {
   "cell_type": "markdown",
   "metadata": {},
   "source": [
    "### エクセルファイルの読み込み\n",
    "\n",
    "* load_workbook\n",
    "    * data_only : 数式ではなく値のみ取り出す"
   ]
  },
  {
   "cell_type": "code",
   "execution_count": 28,
   "metadata": {},
   "outputs": [
    {
     "name": "stdout",
     "output_type": "stream",
     "text": [
      "こんにちは\n",
      "((<Cell 'Sheet'.A1>, <Cell 'Sheet'.B1>, <Cell 'Sheet'.C1>), (<Cell 'Sheet'.A2>, <Cell 'Sheet'.B2>, <Cell 'Sheet'.C2>), (<Cell 'Sheet'.A3>, <Cell 'Sheet'.B3>, <Cell 'Sheet'.C3>))\n",
      "<Cell 'Sheet'.B2>\n",
      "さようなら\n"
     ]
    }
   ],
   "source": [
    "import openpyxl as excel\n",
    "\n",
    "# エクセルの読み込み\n",
    "wb = excel.load_workbook(\"excel/hello.xlsx\", data_only=True)\n",
    "\n",
    "# シートを選択\n",
    "ws = wb[\"Sheet\"]\n",
    "\n",
    "# 値の参照\n",
    "print(ws[\"A1\"].value)\n",
    "\n",
    "# 任意の範囲を選択\n",
    "list_data = ws[\"A1:C3\"]\n",
    "print(list_data)\n",
    "print(list_data[1][1])\n",
    "print(list_data[1][1].value)"
   ]
  },
  {
   "cell_type": "markdown",
   "metadata": {},
   "source": [
    "## pandasで利用"
   ]
  },
  {
   "cell_type": "code",
   "execution_count": 30,
   "metadata": {},
   "outputs": [
    {
     "data": {
      "text/html": [
       "<div>\n",
       "<style scoped>\n",
       "    .dataframe tbody tr th:only-of-type {\n",
       "        vertical-align: middle;\n",
       "    }\n",
       "\n",
       "    .dataframe tbody tr th {\n",
       "        vertical-align: top;\n",
       "    }\n",
       "\n",
       "    .dataframe thead th {\n",
       "        text-align: right;\n",
       "    }\n",
       "</style>\n",
       "<table border=\"1\" class=\"dataframe\">\n",
       "  <thead>\n",
       "    <tr style=\"text-align: right;\">\n",
       "      <th></th>\n",
       "      <th>こんにちは</th>\n",
       "      <th>Unnamed: 1</th>\n",
       "    </tr>\n",
       "  </thead>\n",
       "  <tbody>\n",
       "    <tr>\n",
       "      <th>0</th>\n",
       "      <td>NaN</td>\n",
       "      <td>さようなら</td>\n",
       "    </tr>\n",
       "  </tbody>\n",
       "</table>\n",
       "</div>"
      ],
      "text/plain": [
       "   こんにちは Unnamed: 1\n",
       "0    NaN      さようなら"
      ]
     },
     "execution_count": 30,
     "metadata": {},
     "output_type": "execute_result"
    }
   ],
   "source": [
    "import pandas as pd\n",
    "df = pd.read_excel(\"excel/hello.xlsx\")\n",
    "df"
   ]
  }
 ],
 "metadata": {
  "kernelspec": {
   "display_name": "Python 3",
   "language": "python",
   "name": "python3"
  },
  "language_info": {
   "codemirror_mode": {
    "name": "ipython",
    "version": 3
   },
   "file_extension": ".py",
   "mimetype": "text/x-python",
   "name": "python",
   "nbconvert_exporter": "python",
   "pygments_lexer": "ipython3",
   "version": "3.5.4"
  }
 },
 "nbformat": 4,
 "nbformat_minor": 2
}
