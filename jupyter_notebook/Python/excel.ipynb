{
 "cells": [
  {
   "cell_type": "markdown",
   "metadata": {},
   "source": [
    "# 初期設定"
   ]
  },
  {
   "cell_type": "markdown",
   "metadata": {},
   "source": [
    "## ライブラリ\n",
    "\n",
    "* openpyxl\n",
    "    * エクセルの読み書きができる\n",
    "    * 既存のExcelファイルの書式を保ったまま編集・追記したい場合に便利\n",
    "* pandas.read_excel()\n",
    "    * pandasでエクセルをpandas.DataFrameとして読み込む\n",
    "* xlrd/xlwt\n",
    "    * エクセルの読み/書きができる\n",
    "    * xlrdはpandas.read_excel()の内部で使われている"
   ]
  },
  {
   "cell_type": "markdown",
   "metadata": {},
   "source": [
    "## インストール\n",
    "\n",
    "pandas.read_excel()はpandasがインストールされていれば使えるので略\n",
    "\n",
    "```\n",
    "pip install openpyxl xlrd xlwt\n",
    "```"
   ]
  },
  {
   "cell_type": "markdown",
   "metadata": {},
   "source": [
    "# openpyxl"
   ]
  },
  {
   "cell_type": "code",
   "execution_count": 6,
   "metadata": {},
   "outputs": [],
   "source": [
    "import openpyxl as excel\n",
    "\n",
    "# 新規のワークブック作成\n",
    "wb = excel.Workbook()\n",
    "\n",
    "# アクティブなワークシートを得る\n",
    "ws = wb.active\n",
    "\n",
    "# A1セルに値を代入\n",
    "ws[\"A1\"] = \"こんにちは\"\n",
    "\n",
    "# 2行2列目に値を代入\n",
    "ws.cell(column=2, row=2, value=\"さようなら\")\n",
    "\n",
    "# ファイルを保存\n",
    "wb.save(\"excel/hello.xlsx\")"
   ]
  }
 ],
 "metadata": {
  "kernelspec": {
   "display_name": "Python 3",
   "language": "python",
   "name": "python3"
  },
  "language_info": {
   "codemirror_mode": {
    "name": "ipython",
    "version": 3
   },
   "file_extension": ".py",
   "mimetype": "text/x-python",
   "name": "python",
   "nbconvert_exporter": "python",
   "pygments_lexer": "ipython3",
   "version": "3.5.4"
  }
 },
 "nbformat": 4,
 "nbformat_minor": 2
}
