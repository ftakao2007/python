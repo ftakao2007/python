{
 "cells": [
  {
   "cell_type": "markdown",
   "metadata": {},
   "source": [
    "# numpy\n",
    "\n",
    "* 数値計算や配列計算をサポートする拡張モジュール"
   ]
  },
  {
   "cell_type": "markdown",
   "metadata": {},
   "source": [
    "## ndarray(numpy配列)\n",
    "\n",
    "* asarrayメソッドで取得する"
   ]
  },
  {
   "cell_type": "code",
   "execution_count": 6,
   "metadata": {},
   "outputs": [
    {
     "name": "stdout",
     "output_type": "stream",
     "text": [
      "[1, 2, 3, 4, 5]\n",
      "<class 'numpy.ndarray'>\n",
      "[1 2 3 4 5]\n",
      "1\n",
      "2\n",
      "3\n",
      "4\n",
      "5\n"
     ]
    }
   ],
   "source": [
    "import numpy as np\n",
    "num_list = [1,2,3,4,5]\n",
    "print(num_list)\n",
    "\n",
    "nd_ary = np.asarray(num_list)\n",
    "print(type(nd_ary))\n",
    "\n",
    "print(nd_ary)\n",
    "\n",
    "for i in nd_ary:\n",
    "    print(i)"
   ]
  },
  {
   "cell_type": "code",
   "execution_count": 9,
   "metadata": {},
   "outputs": [
    {
     "name": "stdout",
     "output_type": "stream",
     "text": [
      "[[1 2 3]\n",
      " [4 5 6]\n",
      " [7 8 9]]\n",
      "[1 2 3]\n",
      "[4 5 6]\n",
      "[7 8 9]\n"
     ]
    }
   ],
   "source": [
    "# ループもできる\n",
    "import numpy as np\n",
    "num_list = [[1,2,3], [4,5,6], [7,8,9]]\n",
    "nd_ary = np.asarray(num_list)\n",
    "\n",
    "print(nd_ary)\n",
    "\n",
    "for i in nd_ary:\n",
    "    print(i)"
   ]
  },
  {
   "cell_type": "markdown",
   "metadata": {},
   "source": [
    "## ndarrayをリストに変換\n",
    "\n",
    "* tolistメソッドを利用\n",
    "    * リスト ↔ numpy配列 の変換はよく使う"
   ]
  },
  {
   "cell_type": "code",
   "execution_count": 12,
   "metadata": {},
   "outputs": [
    {
     "name": "stdout",
     "output_type": "stream",
     "text": [
      "[[1 2 3]\n",
      " [4 5 6]\n",
      " [7 8 9]]\n",
      "[[1, 2, 3], [4, 5, 6], [7, 8, 9]]\n"
     ]
    }
   ],
   "source": [
    "import numpy as np\n",
    "num_list = [[1,2,3], [4,5,6], [7,8,9]]\n",
    "nd_ary = np.asarray(num_list)\n",
    "\n",
    "# リストに変換\n",
    "to_list = nd_ary.tolist()\n",
    "print(nd_ary)\n",
    "print(to_list)"
   ]
  },
  {
   "cell_type": "markdown",
   "metadata": {},
   "source": [
    "## 型を指定して配列を取得\n",
    "\n",
    "* uint(符号なし整数)やcomplexなども指定できる"
   ]
  },
  {
   "cell_type": "code",
   "execution_count": 25,
   "metadata": {},
   "outputs": [
    {
     "name": "stdout",
     "output_type": "stream",
     "text": [
      "[[1 2 3]\n",
      " [4 5 6]\n",
      " [7 8 9]]\n",
      "[[1. 2. 3.]\n",
      " [4. 5. 6.]\n",
      " [7. 8. 9.]]\n",
      "[[1.0, 2.0, 3.0], [4.0, 5.0, 6.0], [7.0, 8.0, 9.0]]\n"
     ]
    }
   ],
   "source": [
    "import numpy as np\n",
    "num_list = [[1,2,3], [4,5,6], [7,8,9]]\n",
    "\n",
    "print(np.asarray(num_list, dtype = np.int64))\n",
    "print(np.asarray(num_list, dtype = np.float64))\n",
    "print(np.asarray(num_list, dtype = np.float64).tolist())"
   ]
  },
  {
   "cell_type": "markdown",
   "metadata": {},
   "source": [
    "## 型を変更\n",
    "\n",
    "* astypeメソッドを利用する\n",
    "* 破壊的メソッドではなく変更したものが返される"
   ]
  },
  {
   "cell_type": "code",
   "execution_count": 31,
   "metadata": {},
   "outputs": [
    {
     "name": "stdout",
     "output_type": "stream",
     "text": [
      "[[1 2 3]\n",
      " [4 5 6]\n",
      " [7 8 9]]\n",
      "[[1. 2. 3.]\n",
      " [4. 5. 6.]\n",
      " [7. 8. 9.]]\n",
      "[[1 2 3]\n",
      " [4 5 6]\n",
      " [7 8 9]]\n"
     ]
    }
   ],
   "source": [
    "import numpy as np\n",
    "num_list = [[1,2,3], [4,5,6], [7,8,9]]\n",
    "\n",
    "nd_ary = np.asarray(num_list)\n",
    "print(nd_ary)\n",
    "print(nd_ary.astype(np.float64))\n",
    "\n",
    "# nd_aryの型は変更されていない\n",
    "print(nd_ary)"
   ]
  },
  {
   "cell_type": "markdown",
   "metadata": {},
   "source": [
    "## 配列初期化\n",
    "\n",
    "* empty\n",
    "    * 初期化しない\n",
    "        * 値は都度異なる\n",
    "        * 初期化しなので生成は高速\n",
    "        * 初期化済みの場合は何もしない\n",
    "* zeros\n",
    "    * 0.0で初期化\n",
    "* ones\n",
    "    * 1.0で初期化\n",
    "* arange\n",
    "    * 連番で初期化\n",
    "* full\n",
    "    * 任意の値で初期化\n",
    "* identity\n",
    "    * 行列同じの正方形で初期化\n",
    "* diag\n",
    "    * 対角要素の取得"
   ]
  },
  {
   "cell_type": "code",
   "execution_count": 60,
   "metadata": {},
   "outputs": [
    {
     "name": "stdout",
     "output_type": "stream",
     "text": [
      "[6.95332146e-310 0.00000000e+000 0.00000000e+000 0.00000000e+000\n",
      " 0.00000000e+000 0.00000000e+000 0.00000000e+000 0.00000000e+000]\n",
      "[[6.95332149e-310 6.92298238e-310 0.00000000e+000]\n",
      " [0.00000000e+000 0.00000000e+000 0.00000000e+000]\n",
      " [0.00000000e+000 0.00000000e+000 0.00000000e+000]\n",
      " [0.00000000e+000 0.00000000e+000 0.00000000e+000]]\n",
      "[0. 0. 0. 0. 0.]\n",
      "[[0. 0. 0.]\n",
      " [0. 0. 0.]]\n",
      "[1. 1. 1. 1. 1. 1.]\n",
      "[[1. 1. 1.]\n",
      " [1. 1. 1.]\n",
      " [1. 1. 1.]]\n",
      "[2.  2.5 3.  3.5 4.  4.5]\n",
      "[[7 7]\n",
      " [7 7]]\n",
      "[[1. 0. 0.]\n",
      " [0. 1. 0.]\n",
      " [0. 0. 1.]]\n",
      "[[1 2 3]\n",
      " [4 5 6]\n",
      " [7 8 9]]\n",
      "[1 5 9]\n"
     ]
    }
   ],
   "source": [
    "import numpy as np\n",
    "print(np.empty(8))\n",
    "print(np.empty([4,3]))\n",
    "print(np.zeros(5))\n",
    "print(np.zeros([2,3]))\n",
    "print(np.ones(6))\n",
    "print(np.ones([3,3]))\n",
    "print(np.arange(2,5,0.5))\n",
    "print(np.full((2,2), 7))\n",
    "print(np.identity(3))\n",
    "\n",
    "num_list = [[1,2,3], [4,5,6], [7,8,9]]\n",
    "print(np.asarray(num_list))\n",
    "print(np.diag(num_list))"
   ]
  },
  {
   "cell_type": "markdown",
   "metadata": {},
   "source": [
    "## 型を指定して初期化\n",
    "\n",
    "* dtypeで指定"
   ]
  },
  {
   "cell_type": "code",
   "execution_count": 62,
   "metadata": {},
   "outputs": [
    {
     "name": "stdout",
     "output_type": "stream",
     "text": [
      "[ True False False False  True False False False  True]\n",
      "[[0 0 0]\n",
      " [0 0 0]]\n",
      "[[1 1 1]\n",
      " [1 1 1]\n",
      " [1 1 1]]\n"
     ]
    }
   ],
   "source": [
    "import numpy as np\n",
    "print(np.empty(9, dtype=np.bool))\n",
    "print(np.zeros([2,3], dtype=np.int64))\n",
    "print(np.ones([3,3], dtype=np.int64))"
   ]
  },
  {
   "cell_type": "markdown",
   "metadata": {},
   "source": [
    "## ndarrayの構造確認\n",
    "\n",
    "* ndim\n",
    "    * 次元数\n",
    "* size\n",
    "    * 要素数\n",
    "* shape\n",
    "    * 次元毎の要素数\n",
    "* nbytes\n",
    "    * 全体のサイズ(バイト数)\n",
    "* dtype\n",
    "    * 型"
   ]
  },
  {
   "cell_type": "code",
   "execution_count": 73,
   "metadata": {},
   "outputs": [
    {
     "name": "stdout",
     "output_type": "stream",
     "text": [
      "[[[0 0 0 0]\n",
      "  [0 0 0 0]]\n",
      "\n",
      " [[0 0 0 0]\n",
      "  [0 0 0 0]]\n",
      "\n",
      " [[0 0 0 0]\n",
      "  [0 0 0 0]]]\n",
      "3\n",
      "24\n",
      "(3, 2, 4)\n",
      "192\n",
      "int64\n"
     ]
    }
   ],
   "source": [
    "import numpy as np\n",
    "nd_ary = np.zeros((3,2,4), dtype=np.int64)\n",
    "print(nd_ary)\n",
    "\n",
    "print(nd_ary.ndim)\n",
    "print(nd_ary.size)\n",
    "print(nd_ary.shape)\n",
    "print(nd_ary.nbytes)\n",
    "print(nd_ary.dtype)"
   ]
  },
  {
   "cell_type": "markdown",
   "metadata": {},
   "source": [
    "## 行列の取り出し"
   ]
  },
  {
   "cell_type": "code",
   "execution_count": 80,
   "metadata": {},
   "outputs": [
    {
     "name": "stdout",
     "output_type": "stream",
     "text": [
      "[[1 2 3]\n",
      " [4 5 6]\n",
      " [7 8 9]]\n",
      "[4 5 6]\n",
      "[2 5 8]\n",
      "5\n"
     ]
    }
   ],
   "source": [
    "import numpy as np\n",
    "num_list = [[1,2,3], [4,5,6], [7,8,9]]\n",
    "\n",
    "nd_ary = np.asarray(num_list)\n",
    "print(nd_ary)\n",
    "\n",
    "### 2行目取り出し\n",
    "print(nd_ary[1,:])\n",
    "\n",
    "### 2列目取り出し\n",
    "print(nd_ary[:,1])\n",
    "\n",
    "### 2行2列目の要素を取り出し\n",
    "print(nd_ary[1,1])"
   ]
  }
 ],
 "metadata": {
  "kernelspec": {
   "display_name": "Python 3",
   "language": "python",
   "name": "python3"
  },
  "language_info": {
   "codemirror_mode": {
    "name": "ipython",
    "version": 3
   },
   "file_extension": ".py",
   "mimetype": "text/x-python",
   "name": "python",
   "nbconvert_exporter": "python",
   "pygments_lexer": "ipython3",
   "version": "3.5.4"
  }
 },
 "nbformat": 4,
 "nbformat_minor": 2
}
